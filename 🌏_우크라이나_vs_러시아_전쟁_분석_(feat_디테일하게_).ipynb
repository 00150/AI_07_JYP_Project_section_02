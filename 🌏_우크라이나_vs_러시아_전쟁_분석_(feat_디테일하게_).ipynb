{
  "nbformat": 4,
  "nbformat_minor": 0,
  "metadata": {
    "colab": {
      "provenance": [],
      "authorship_tag": "ABX9TyO/98/xxoIeFsD1B7Ef9drD",
      "include_colab_link": true
    },
    "kernelspec": {
      "name": "python3",
      "display_name": "Python 3"
    },
    "language_info": {
      "name": "python"
    }
  },
  "cells": [
    {
      "cell_type": "markdown",
      "metadata": {
        "id": "view-in-github",
        "colab_type": "text"
      },
      "source": [
        "<a href=\"https://colab.research.google.com/github/00150/AI_07_JYP_Project_section_02/blob/main/%F0%9F%8C%8F_%EC%9A%B0%ED%81%AC%EB%9D%BC%EC%9D%B4%EB%82%98_vs_%EB%9F%AC%EC%8B%9C%EC%95%84_%EC%A0%84%EC%9F%81_%EB%B6%84%EC%84%9D_(feat_%EB%94%94%ED%85%8C%EC%9D%BC%ED%95%98%EA%B2%8C_).ipynb\" target=\"_parent\"><img src=\"https://colab.research.google.com/assets/colab-badge.svg\" alt=\"Open In Colab\"/></a>"
      ]
    },
    {
      "cell_type": "markdown",
      "source": [
        "## 🌏 우크라이나 vs 러시아 전쟁 분석 (feat.디테일하게..)\n",
        "> 지난번 우리는 우크라이나 러시아 전쟁에 대하여 다중선형회귀까지 진행했습니다.\n",
        "하지만, 데이터의 이상치 및 편향과 분산등을 전혀 고려하지 않은 채 진행하였습니다.\n",
        "\n",
        "* 데이터의 이상치 및 정확한 분석에 해가 될 수 있는 부분을 제거하여 최적의 피처를 선택하여 분석히여 봅시다.\n",
        "* 이번 분석 또한 훈련 및 테스트 데이터를 나눌 때 '2022-08-08'을 기준으로 나눠보겠습니다."
      ],
      "metadata": {
        "id": "vnN7TS3m0eP-"
      }
    },
    {
      "cell_type": "code",
      "source": [
        "# 데이터 가져오기.\n",
        "import pandas as pd\n",
        "import numpy as np\n",
        "\n",
        "\n",
        "# 데이터 주소\n",
        "url_01 = '/content/drive/MyDrive/new_project02/최근_러시아_인명피해_자료.csv'\n",
        "url_02 = '/content/drive/MyDrive/new_project02/최근_러시아_장비손실_자료.csv'\n",
        "\n",
        "\n",
        "#데이터 불러오기\n",
        "df_01 = pd.read_csv(url_01)\n",
        "df_02 = pd.read_csv(url_02)\n",
        "\n",
        "\n",
        "# 병합\n",
        "df = pd.merge(df_01, df_02, on =['date', 'day'])\n",
        "# 165번 행부터 진행할 것 입니다. 또한 '사망자_수' 나타내는 컬럼은 삭제합니다.\n",
        "\n",
        "# 컬럼명 변경\n",
        "df = df.rename(columns = {'date':'날짜','day':'개전일','aircraft':'항공기','helicopter':'헬리콥터','tank' : '탱크',\n",
        "                    'APC':'장갑차','field artillery': '야포' ,'MRL' :'다중로켓발사기','military auto' : '자동화기기',\n",
        "                    'fuel tank': '연료탱크', 'drone':'드론' ,'naval ship' : '해군함정', 'anti-aircraft warfare' : '방공포', 'special equipment' : '특수_장비',\n",
        "                    'mobile SRBM system' : '자동화_탄도_미사일', 'vehicles and fuel tanks' : '탈것_및_연료탱크', 'cruise missiles' : '크루즈_미사일',\n",
        "                    'greatest losses direction' : '피해가_큰_지역','personnel':'사망자_수', 'personnel*':'불확실한_사망자', 'POW':'전쟁_포로'})\n",
        "\n",
        "\n",
        "# 컬럼: 날짜 datetime 형태로 변경\n",
        "df['날짜'] = pd.to_datetime(df['날짜'])\n",
        "\n",
        "\n",
        "# 누적데이터 -> 일별 데이터로 변경\n",
        "# 각 컬럼별 차를 계산할 수 없는 데이터 인덱스로 내리기.\n",
        "df = df.set_index(['날짜', '개전일', '피해가_큰_지역','불확실한_사망자'])\n",
        "\n",
        "# 각 컬럼별 차이 계산 및 결측값 채우기\n",
        "df = df.diff().fillna(df).fillna(0).astype(int).reset_index()\n",
        "\n",
        "# 컬럼 : '피해가_큰_지역' 에 대하여 결측값 채워넣기.\n",
        "df['피해가_큰_지역'] = df['피해가_큰_지역'].fillna('unknown area')\n",
        "\n",
        "# 데이터 내의 결측값 확인하기.\n",
        "# df.isnull().sum() -> 모든 컬럼에 대하여 결측값 : 0\n",
        "\n",
        "\n",
        "# '2022-08-08'을 기준으로 훈련/테스트 세트를 분리합니다.\n",
        "\n",
        "cutoff = pd.to_datetime('2022-08-08')\n",
        "\n"
      ],
      "metadata": {
        "id": "yLp9AR_X0-xa"
      },
      "execution_count": 31,
      "outputs": []
    },
    {
      "cell_type": "markdown",
      "source": [
        "데이터 정제를 완료하였습니다."
      ],
      "metadata": {
        "id": "0MsR3MmDVPUp"
      }
    },
    {
      "cell_type": "markdown",
      "source": [
        "### Part 1. 정확도를 올려 데이터를 분석합시다.\n",
        "> 다양한 모델을 만들었다고 하더라도, 정확도가 좋지 못하면 '쓰레기'입니다 😥\n",
        "\n",
        "❗ SelectKBest를 사용하여 가장 효과적인 특성 $K$개를 골라봅시다.</br>\n",
        "❗ 우리의 목표는 target과 가장 관련 있는 features 를 $K$개 고르는 것이 목표입니다.\n"
      ],
      "metadata": {
        "id": "BxOtYoX-gpk2"
      }
    },
    {
      "cell_type": "code",
      "source": [
        "\n",
        "\n",
        "\n",
        "\n",
        "from sklearn.feature_selection import f_regression, SelectKBest\n",
        "\n"
      ],
      "metadata": {
        "id": "bbPYz_VZWbxO"
      },
      "execution_count": null,
      "outputs": []
    }
  ]
}
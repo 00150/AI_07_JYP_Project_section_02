{
  "nbformat": 4,
  "nbformat_minor": 0,
  "metadata": {
    "colab": {
      "provenance": [],
      "include_colab_link": true
    },
    "kernelspec": {
      "name": "python3",
      "display_name": "Python 3"
    },
    "language_info": {
      "name": "python"
    },
    "gpuClass": "standard"
  },
  "cells": [
    {
      "cell_type": "markdown",
      "metadata": {
        "id": "view-in-github",
        "colab_type": "text"
      },
      "source": [
        "<a href=\"https://colab.research.google.com/github/00150/AI_07_JYP_Project_section_02/blob/main/%F0%9F%8C%8F_%EC%9A%B0%ED%81%AC%EB%9D%BC%EC%9D%B4%EB%82%98_vs_%EB%9F%AC%EC%8B%9C%EC%95%84_%EC%A0%84%EC%9F%81_%EB%B6%84%EC%84%9D_(feat_%EB%94%94%ED%85%8C%EC%9D%BC%ED%95%98%EA%B2%8C_).ipynb\" target=\"_parent\"><img src=\"https://colab.research.google.com/assets/colab-badge.svg\" alt=\"Open In Colab\"/></a>"
      ]
    },
    {
      "cell_type": "markdown",
      "source": [
        "## 🌏 우크라이나 vs 러시아 전쟁 분석 (feat.디테일하게..)\n",
        "> 지난번 우리는 우크라이나 러시아 전쟁에 대하여 다중선형회귀까지 진행했습니다.\n",
        "하지만, 데이터의 이상치 및 편향과 분산등을 전혀 고려하지 않은 채 진행하였습니다.\n",
        "\n",
        "* 데이터의 이상치 및 정확한 분석에 해가 될 수 있는 부분을 제거하여 최적의 피처를 선택하여 분석히여 봅시다.\n",
        "* 이번 분석 또한 훈련 및 테스트 데이터를 나눌 때 '2022-08-08'을 기준으로 나눠보겠습니다."
      ],
      "metadata": {
        "id": "vnN7TS3m0eP-"
      }
    },
    {
      "cell_type": "markdown",
      "source": [
        "✅ 참고 : 파이썬 내장 함수에서 timestamp에 대하여 float() 등으로 자동으로 변환해주지 않습니다. </br>\n",
        "- 최적의 피처를 찾는 SelectKBest를 사용하는 경우 시계열 데이터 때문에 'TypeError' 가 발생할 수 있으므로,</br> \n",
        "지금 당장은 변환하지 않겠습니다. "
      ],
      "metadata": {
        "id": "fNxgREVQQliN"
      }
    },
    {
      "cell_type": "code",
      "source": [
        "from google.colab import drive\n",
        "drive.mount('/content/drive')"
      ],
      "metadata": {
        "id": "h2-fUzzIaCWk",
        "outputId": "58bf795b-15c0-4e63-b8ea-793cf1387198",
        "colab": {
          "base_uri": "https://localhost:8080/"
        }
      },
      "execution_count": 1,
      "outputs": [
        {
          "output_type": "stream",
          "name": "stdout",
          "text": [
            "Drive already mounted at /content/drive; to attempt to forcibly remount, call drive.mount(\"/content/drive\", force_remount=True).\n"
          ]
        }
      ]
    },
    {
      "cell_type": "code",
      "source": [
        "# 데이터 가져오기.\n",
        "import pandas as pd\n",
        "import numpy as np\n",
        "\n",
        "\n",
        "# 데이터 주소\n",
        "url_01 = '/content/drive/MyDrive/new_project02/최근_러시아_인명피해_자료.csv'\n",
        "url_02 = '/content/drive/MyDrive/new_project02/최근_러시아_장비손실_자료.csv'\n",
        "\n",
        "\n",
        "#데이터 불러오기\n",
        "df_01 = pd.read_csv(url_01)\n",
        "df_02 = pd.read_csv(url_02)\n",
        "\n",
        "\n",
        "# 병합\n",
        "df = pd.merge(df_01, df_02, on =['date', 'day'])\n",
        "# 165번 행부터 진행할 것 입니다. 또한 '사망자_수' 나타내는 컬럼은 삭제합니다.\n",
        "\n",
        "# 컬럼명 변경\n",
        "df = df.rename(columns = {'date':'날짜','day':'개전일','aircraft':'항공기','helicopter':'헬리콥터','tank' : '탱크',\n",
        "                    'APC':'장갑차','field artillery': '야포' ,'MRL' :'다중로켓발사기','military auto' : '자동화기기',\n",
        "                    'fuel tank': '연료탱크', 'drone':'드론' ,'naval ship' : '해군함정', 'anti-aircraft warfare' : '방공포', 'special equipment' : '특수_장비',\n",
        "                    'mobile SRBM system' : '자동화_탄도_미사일', 'vehicles and fuel tanks' : '탈것_및_연료탱크', 'cruise missiles' : '크루즈_미사일',\n",
        "                    'greatest losses direction' : '피해가_큰_지역','personnel':'사망자_수', 'personnel*':'불확실한_사망자', 'POW':'전쟁_포로'})\n",
        "\n",
        "\n",
        "# 컬럼: 날짜 datetime 형태로 변경\n",
        "df['날짜'] = pd.to_datetime(df['날짜'])\n",
        "\n",
        "\n",
        "# 누적데이터 -> 일별 데이터로 변경\n",
        "# 각 컬럼별 차를 계산할 수 없는 데이터 인덱스로 내리기.\n",
        "df = df.set_index(['날짜', '개전일', '피해가_큰_지역','불확실한_사망자'])\n",
        "\n",
        "# 각 컬럼별 차이 계산 및 결측값 채우기\n",
        "df = df.diff().fillna(df).fillna(0).astype(int).reset_index()\n",
        "\n",
        "# 컬럼 : '피해가_큰_지역' 에 대하여 결측값 채워넣기.\n",
        "df['피해가_큰_지역'] = df['피해가_큰_지역'].fillna('unknown area')\n",
        "\n",
        "# 데이터 내의 결측값 확인하기.\n",
        "# df.isnull().sum() -> 모든 컬럼에 대하여 결측값 : 0\n",
        "\n",
        "\n",
        "# '2022-08-08'을 기준으로 훈련/테스트 세트를 분리합니다.\n",
        "# '2022-08-08'은 훈련 데이터에 포함되어야 합니다.\n",
        "cutoff = pd.to_datetime('2022-08-08')\n",
        "train = df[df['날짜'] <= cutoff]\n",
        "test = df[df['날짜'] > cutoff] "
      ],
      "metadata": {
        "id": "yLp9AR_X0-xa"
      },
      "execution_count": 2,
      "outputs": []
    },
    {
      "cell_type": "markdown",
      "source": [
        "---\n",
        "### Part 1. 정확도를 올려 데이터를 분석합시다.\n",
        "> 다양한 모델을 만들었다고 하더라도, 정확도가 좋지 못하면 '쓰레기'입니다 😥\n",
        "\n",
        "❗ SelectKBest를 사용하여 가장 효과적인 특성 $K$개를 골라봅시다.</br>\n",
        "❗ 우리의 목표는 target과 가장 관련 있는 features 를 $K$개 고르는 것이 목표입니다.\n"
      ],
      "metadata": {
        "id": "BxOtYoX-gpk2"
      }
    },
    {
      "cell_type": "markdown",
      "source": [
        "#### Part 1-2. 범주형 데이터를 숫자형으로 변환하기. (OneHotEncoder)\n",
        "> 문자형 모델은 내부적으로 처리할 수 없습니다😣\n",
        " 문자형 데이터를 숫자형으로 변환하는 과정이 필요하며, </br>이 과정이 **'범주형 변수 인코딩'**입니다.\n",
        "\n",
        "❗ 범주형 데이터는 순서가 없는 '명목형', 순서가 있는 '순서형'으로 나뉩니다.  </br>\n",
        "\n",
        "❗ 원핫 인코딩 : 범주형 변수의 각 카테고리를 각각 별도의 특성으로 생각하고  그 카테고리가 존재하는 경우에만 1을 넣습니다. </br>\n",
        "\n",
        "❗ 범주의 종류가 많으면 하이 퀄리티를 가지고 있다고 하며, 이 때 원핫 인코딩은 좋지 않습니다.\n",
        "\n"
      ],
      "metadata": {
        "id": "xH8ivgRHgxbn"
      }
    },
    {
      "cell_type": "markdown",
      "source": [
        "#### 진행 방향\n",
        ">🔅 피처중 '도시'의 이름 및 '불확실한_사망자_수' 을 제외한 범주형 데이터(날짜)는 제거하고, </br> 이 두 컬럼은 원핫인코딩을 진행하여 봅시다.\n",
        "\n",
        "❗ ```category_encoder ```를 사용하면  범주형 데이터에만 원핫인코딩을 수행할 수 있습니다.\n",
        "\n",
        "\n"
      ],
      "metadata": {
        "id": "uZWRwVCRiuwz"
      }
    },
    {
      "cell_type": "code",
      "source": [
        "# 원핫인코딩을 사용하기 위한 필요한 라이브러리 설치\n",
        "!pip install --upgrade category_encoders"
      ],
      "metadata": {
        "id": "90NdF8jwnRCs",
        "outputId": "aedf336b-4082-4a35-9a1e-a81e3def4f43",
        "colab": {
          "base_uri": "https://localhost:8080/"
        }
      },
      "execution_count": 3,
      "outputs": [
        {
          "output_type": "stream",
          "name": "stdout",
          "text": [
            "Looking in indexes: https://pypi.org/simple, https://us-python.pkg.dev/colab-wheels/public/simple/\n",
            "Requirement already satisfied: category_encoders in /usr/local/lib/python3.7/dist-packages (2.5.0)\n",
            "Requirement already satisfied: scikit-learn>=0.20.0 in /usr/local/lib/python3.7/dist-packages (from category_encoders) (1.0.2)\n",
            "Requirement already satisfied: pandas>=1.0.5 in /usr/local/lib/python3.7/dist-packages (from category_encoders) (1.3.5)\n",
            "Requirement already satisfied: numpy>=1.14.0 in /usr/local/lib/python3.7/dist-packages (from category_encoders) (1.21.6)\n",
            "Requirement already satisfied: scipy>=1.0.0 in /usr/local/lib/python3.7/dist-packages (from category_encoders) (1.7.3)\n",
            "Requirement already satisfied: patsy>=0.5.1 in /usr/local/lib/python3.7/dist-packages (from category_encoders) (0.5.2)\n",
            "Requirement already satisfied: statsmodels>=0.9.0 in /usr/local/lib/python3.7/dist-packages (from category_encoders) (0.12.2)\n",
            "Requirement already satisfied: pytz>=2017.3 in /usr/local/lib/python3.7/dist-packages (from pandas>=1.0.5->category_encoders) (2022.2.1)\n",
            "Requirement already satisfied: python-dateutil>=2.7.3 in /usr/local/lib/python3.7/dist-packages (from pandas>=1.0.5->category_encoders) (2.8.2)\n",
            "Requirement already satisfied: six in /usr/local/lib/python3.7/dist-packages (from patsy>=0.5.1->category_encoders) (1.15.0)\n",
            "Requirement already satisfied: threadpoolctl>=2.0.0 in /usr/local/lib/python3.7/dist-packages (from scikit-learn>=0.20.0->category_encoders) (3.1.0)\n",
            "Requirement already satisfied: joblib>=0.11 in /usr/local/lib/python3.7/dist-packages (from scikit-learn>=0.20.0->category_encoders) (1.1.0)\n"
          ]
        }
      ]
    },
    {
      "cell_type": "code",
      "source": [
        "# 날짜 컬럼이 제거된 새로운 df 생성 (train & test)\n",
        "train_df = train.drop('날짜', axis =1)\n",
        "test_df = test.drop('날짜', axis =1)\n",
        "\n",
        "# --------------- X_train, y_train, X_test, y_test로 데이터 나누기, \n",
        "# target = {column : '사망자_수'}\n",
        "target = '사망자_수'\n",
        "\n",
        "# X_train\n",
        "X_train = train_df.drop(columns=target)\n",
        "\n",
        "# y_train\n",
        "y_train = train_df[target]\n",
        "\n",
        "# X_test\n",
        "X_test = test_df.drop(columns=target)\n",
        "\n",
        "# y_test\n",
        "y_test = test_df[target]\n",
        "\n",
        "\n",
        "# 데이터 분할 확인하기.\n",
        "print(f'훈련(독립) : {X_train.shape}, 훈련(종속) :{y_train.shape} \\n테스트(독립){X_test.shape}, 테스트(종속){y_test.shape}')\n"
      ],
      "metadata": {
        "id": "KerKdbY5izdL",
        "outputId": "3c3a3f70-af3c-43e7-8e92-af54181bc1c6",
        "colab": {
          "base_uri": "https://localhost:8080/"
        }
      },
      "execution_count": 4,
      "outputs": [
        {
          "output_type": "stream",
          "name": "stdout",
          "text": [
            "훈련(독립) : (165, 19), 훈련(종속) :(165,) \n",
            "테스트(독립)(26, 19), 테스트(종속)(26,)\n"
          ]
        }
      ]
    },
    {
      "cell_type": "code",
      "source": [
        "# 원핫인코더 라이브러리를 가져옵시다.\n",
        "from category_encoders import OneHotEncoder\n",
        "\n",
        "#원핫 인코딩을 진행합니다, 먼저 원핫 인코더의 인스턴스 객체를 선언합니다.\n",
        "encoder = OneHotEncoder(use_cat_names = True)\n",
        "\n",
        "# 적용\n",
        "X_train = encoder.fit_transform(X_train)\n",
        "X_test = encoder.transform(X_test)\n",
        "\n",
        "# 위에서 둘 중 하나의 df를 살펴보면 적용이 되어 있는 것을 확인할 수 있습니다. ex) : X_train.columns or X_test.head()...."
      ],
      "metadata": {
        "id": "T1teuNKzoSVX"
      },
      "execution_count": 5,
      "outputs": []
    },
    {
      "cell_type": "code",
      "source": [
        "# 이후 SelectKBest를 이용하여 가장 효과적인 특성을 살펴보겠습니다.\n",
        "# 현재 원핫인코딩을 수행하여 나온 피처들의 개수는 총 62개 입니다.\n",
        "\n",
        "\n",
        "# 먼저 사용할 라이브러리를 선언합니다, 이 때 f_regression은 회귀작업에 대한 레이블/특징사이의 F값입니다...(좀더 찾아봐서 정리해야 합니다..)\n",
        "from sklearn.feature_selection import f_regression, SelectKBest\n",
        "\n",
        "\n",
        "#Selector에 대한 인스턴스 객체를 선언 및 정의합니다. (이때 K개의 개수 또한 지정합니다.)\n",
        "selector = SelectKBest(score_func = f_regression, k=16)\n",
        "\n",
        "# 학습 데이터에는 fit_transform\n",
        "X_train_selected = selector.fit_transform(X_train, y_train)\n",
        "\n",
        "# 테스트 데이터에는 transform\n",
        "X_test_selected = selector.transform(X_test)\n",
        "\n",
        "# 모양 확인\n",
        "print(X_train_selected.shape, X_test_selected.shape)"
      ],
      "metadata": {
        "id": "NY7aoWqip462",
        "outputId": "acce37b6-d706-4375-c3ba-63368570995c",
        "colab": {
          "base_uri": "https://localhost:8080/"
        }
      },
      "execution_count": 6,
      "outputs": [
        {
          "output_type": "stream",
          "name": "stdout",
          "text": [
            "(165, 16) (26, 16)\n"
          ]
        }
      ]
    },
    {
      "cell_type": "markdown",
      "source": [
        "#### 이후 선택된 특성을 살펴봅시다.\n",
        "> SelectKBest로 선택된 컬럼과 그렇지 않은 컬럼의 차이를 살펴봅시다.\n"
      ],
      "metadata": {
        "id": "NFR0wh7QJv2h"
      }
    },
    {
      "cell_type": "code",
      "source": [
        "#모든 컬럼\n",
        "all_names = X_train.columns\n",
        "\n",
        "# 선택된 특성들을 boolean 값으로 돌려준다.\n",
        "selected_mask = selector.get_support()\n",
        "\n",
        "# 선택된 특성들을 확인합니다.\n",
        "selected_names = all_names[selected_mask]\n",
        "\n",
        "# 선택되지 않은 특성\n",
        "unselected_names = all_names[~selected_mask]\n",
        "\n",
        "print('선택된 컬럼들은 다음과 같습니다, :', selected_names)\n",
        "print('\\n')\n",
        "print('선택되지 않은 컬럼들은 다음과 같습니다. :', unselected_names)"
      ],
      "metadata": {
        "id": "EH-WJyGxtFW1",
        "outputId": "3733aa16-2c1a-44a0-9c09-1dda03329939",
        "colab": {
          "base_uri": "https://localhost:8080/"
        }
      },
      "execution_count": 7,
      "outputs": [
        {
          "output_type": "stream",
          "name": "stdout",
          "text": [
            "선택된 컬럼들은 다음과 같습니다, : Index(['개전일', '피해가_큰_지역_unknown area', '피해가_큰_지역_Bakhmut', '불확실한_사망자_about',\n",
            "       '불확실한_사망자_more', '항공기', '헬리콥터', '탱크', '장갑차', '야포', '다중로켓발사기', '자동화기기',\n",
            "       '연료탱크', '드론', '해군함정', '방공포'],\n",
            "      dtype='object')\n",
            "\n",
            "\n",
            "선택되지 않은 컬럼들은 다음과 같습니다. : Index(['피해가_큰_지역_Sievierodonetsk', '피해가_큰_지역_Kurakhove and Izyum',\n",
            "       '피해가_큰_지역_Zaporizhzhia and Izyum', '피해가_큰_지역_Izyum',\n",
            "       '피해가_큰_지역_Izyum, Novopavlivsk', '피해가_큰_지역_Popasna',\n",
            "       '피해가_큰_지역_Lyman and Kurakhove', '피해가_큰_지역_Slobozhanskyi',\n",
            "       '피해가_큰_지역_Novopavlivsk', '피해가_큰_지역_Avdiivka',\n",
            "       '피해가_큰_지역_Novopavlivsk, Kurakhove and Sievierodonetsk',\n",
            "       '피해가_큰_지역_Kurakhove', '피해가_큰_지역_Kurakhove and Avdiivka',\n",
            "       '피해가_큰_지역_Bakhmut and Zaporizhzhia', '피해가_큰_지역_Lyman and Zaporizhzhia',\n",
            "       '피해가_큰_지역_Sloviansk, Kryvyi Rih and Zaporizhzhia', '피해가_큰_지역_Lyman',\n",
            "       '피해가_큰_지역_Avdiivka and Kryvyi Rih', '피해가_큰_지역_Zaporizhzhia',\n",
            "       '피해가_큰_지역_Kryvyi Rih and Zaporizhzhia',\n",
            "       '피해가_큰_지역_Kryvyi Rih and Bakhmut', '피해가_큰_지역_Sloviansk',\n",
            "       '피해가_큰_지역_Kharkiv and Bakhmut', '피해가_큰_지역_Sievierodonetsk and Bakhmut',\n",
            "       '피해가_큰_지역_Bakhmut and Sievierodonetsk',\n",
            "       '피해가_큰_지역_Sloviansk, Bakhmut and Kryvyi Rih',\n",
            "       '피해가_큰_지역_Bakhmut and Avdiivka',\n",
            "       '피해가_큰_지역_Sloviansk, Bakhmut and Avdiivka',\n",
            "       '피해가_큰_지역_Sloviansk and Bakhmut', '피해가_큰_지역_Bakhmut and Kurakhove',\n",
            "       '피해가_큰_지역_Kramatorsk and Bakhmut', '피해가_큰_지역_Sloviansk and Donetsk',\n",
            "       '피해가_큰_지역_Avdiivka and Bakhmut', '피해가_큰_지역_Kramatorsk',\n",
            "       '피해가_큰_지역_Mykolaiv', '피해가_큰_지역_Kramatorsk, Kryvyi Rih and Bakhmut',\n",
            "       '피해가_큰_지역_Kryvyi Rih', '피해가_큰_지역_Donetsk',\n",
            "       '피해가_큰_지역_Donetsk and Kryvyi Rih', '피해가_큰_지역_Bakhmut and Kryvyi Rih',\n",
            "       '피해가_큰_지역_Bakhmut and Donetsk', '전쟁_포로', '특수_장비', '자동화_탄도_미사일',\n",
            "       '탈것_및_연료탱크', '크루즈_미사일'],\n",
            "      dtype='object')\n"
          ]
        }
      ]
    },
    {
      "cell_type": "markdown",
      "source": [
        "#### 🔅 SelectKBest를 무작정 지정하는 것은 위험할 수 있습니다 😥\n",
        ">임의로 선택한 'k'개수보다 더 최적의 'k'개수가 존재할 수 있습니다.\n",
        "\n",
        "* K 값들을 증가시키면서 특성들을 뽑아 모델을 만들고, 가장 좋은 부분일 때 뽑아 사용합시다.\n"
      ],
      "metadata": {
        "id": "OYXjKmqGtZMJ"
      }
    },
    {
      "cell_type": "code",
      "source": [
        "# 필요한 라이브러리를 선언합니다.\n",
        "from sklearn.linear_model import LinearRegression\n",
        "from sklearn.metrics import mean_absolute_error, r2_score\n",
        "\n",
        "\n",
        "# 훈련 데이터\n",
        "training = []\n",
        "testing = []\n",
        "ks = range(1, len(X_train.columns)+1)\n",
        "\n",
        "\n",
        "y_pred = ''\n",
        "y_pred_01 =''\n",
        "\n",
        "# 1부터 특성 수만큼, 사용한 모델을 만들어서 MAE 값을 비교하여 봅시다.\n",
        "for k in range(1, len(X_train.columns)+1):\n",
        "  print(f'{k} features')\n",
        "\n",
        "  # SelectKBest  인스턴스 객체 선언\n",
        "  selector = SelectKBest(score_func=f_regression, k=k)\n",
        "\n",
        "  # 훈련데이터 fit_transform\n",
        "  X_train_selected = selector.fit_transform(X_train, y_train)\n",
        "\n",
        "  # 테스트데이터 transform\n",
        "  X_test_selected = selector.transform(X_test)\n",
        "\n",
        "\n",
        "  # 원 데이터의 전체 컬럼 확인하기.\n",
        "  all_names = X_train.columns\n",
        "  \n",
        "  \n",
        "  # 선택된 컬럼을 부울린의 값으로 알려줍니다. : get_support()\n",
        "  selected_mask = selector.get_support()\n",
        "  selected_names = all_names[selected_mask]\n",
        "  print('선택된 컬럼 이름 : selected_names', selected_names)\n",
        "\n",
        "  # 선형회귀를 사용하기 위한 객체 인스턴스\n",
        "  model = LinearRegression()\n",
        "\n",
        "  #적용  \n",
        "  model.fit(X_train_selected, y_train)\n",
        "\n",
        "  # 예측값.\n",
        "  #기준모델\n",
        "  y_pred = model.predict(X_train_selected)\n",
        "  \n",
        "  # 평균절대오차 (예측값과 실제값을 이용)\n",
        "  mae = mean_absolute_error(y_train, y_pred)\n",
        "  training.append(mae)\n",
        "\n",
        "  #------------------------------------------\n",
        "  #실제 데이터를 통한 예측\n",
        "  #기준모델이 아닌 것.\n",
        "  y_pred_01 = model.predict(X_test_selected)\n",
        "  \n",
        "  # 평균절대값에러\n",
        "  mae = mean_absolute_error(y_test, y_pred_01)\n",
        "\n",
        "  # r2_score\n",
        "  r2 = r2_score(y_test, y_pred_01)\n",
        "  testing.append(mae)\n",
        "\n",
        "  # 테스트 데이터에 관한 mae 값 출력\n",
        "  print(f'Test MAE : {mae:,.0f}')\n",
        "  \n",
        "  # 테스트 데이터에 관한 r2스코어 값 출력\n",
        "  print(f'Test R2:{r2}\\n')"
      ],
      "metadata": {
        "colab": {
          "base_uri": "https://localhost:8080/"
        },
        "id": "m0DX83WeRlz5",
        "outputId": "16bb03a7-b71d-4138-ebdd-f2e13057ad29"
      },
      "execution_count": 8,
      "outputs": [
        {
          "output_type": "stream",
          "name": "stdout",
          "text": [
            "1 features\n",
            "선택된 컬럼 이름 : selected_names Index(['장갑차'], dtype='object')\n",
            "Test MAE : 76\n",
            "Test R2:-0.1144810355835475\n",
            "\n",
            "2 features\n",
            "선택된 컬럼 이름 : selected_names Index(['장갑차', '연료탱크'], dtype='object')\n",
            "Test MAE : 77\n",
            "Test R2:-0.14632990395914258\n",
            "\n",
            "3 features\n",
            "선택된 컬럼 이름 : selected_names Index(['탱크', '장갑차', '연료탱크'], dtype='object')\n",
            "Test MAE : 77\n",
            "Test R2:-0.14495202314387678\n",
            "\n",
            "4 features\n",
            "선택된 컬럼 이름 : selected_names Index(['탱크', '장갑차', '야포', '연료탱크'], dtype='object')\n",
            "Test MAE : 90\n",
            "Test R2:-0.5825899501556644\n",
            "\n",
            "5 features\n",
            "선택된 컬럼 이름 : selected_names Index(['헬리콥터', '탱크', '장갑차', '야포', '연료탱크'], dtype='object')\n",
            "Test MAE : 95\n",
            "Test R2:-0.7133216353189467\n",
            "\n",
            "6 features\n",
            "선택된 컬럼 이름 : selected_names Index(['헬리콥터', '탱크', '장갑차', '야포', '자동화기기', '연료탱크'], dtype='object')\n",
            "Test MAE : 95\n",
            "Test R2:-0.7147569333009576\n",
            "\n",
            "7 features\n",
            "선택된 컬럼 이름 : selected_names Index(['항공기', '헬리콥터', '탱크', '장갑차', '야포', '자동화기기', '연료탱크'], dtype='object')\n",
            "Test MAE : 97\n",
            "Test R2:-0.7100974260840152\n",
            "\n",
            "8 features\n",
            "선택된 컬럼 이름 : selected_names Index(['개전일', '항공기', '헬리콥터', '탱크', '장갑차', '야포', '자동화기기', '연료탱크'], dtype='object')\n",
            "Test MAE : 153\n",
            "Test R2:-2.5587367435344346\n",
            "\n",
            "9 features\n",
            "선택된 컬럼 이름 : selected_names Index(['개전일', '항공기', '헬리콥터', '탱크', '장갑차', '야포', '자동화기기', '연료탱크', '해군함정'], dtype='object')\n",
            "Test MAE : 153\n",
            "Test R2:-2.554415209506559\n",
            "\n",
            "10 features\n",
            "선택된 컬럼 이름 : selected_names Index(['개전일', '피해가_큰_지역_unknown area', '항공기', '헬리콥터', '탱크', '장갑차', '야포',\n",
            "       '자동화기기', '연료탱크', '해군함정'],\n",
            "      dtype='object')\n",
            "Test MAE : 138\n",
            "Test R2:-2.0139315964133004\n",
            "\n",
            "11 features\n",
            "선택된 컬럼 이름 : selected_names Index(['개전일', '피해가_큰_지역_unknown area', '불확실한_사망자_about', '항공기', '헬리콥터', '탱크',\n",
            "       '장갑차', '야포', '자동화기기', '연료탱크', '해군함정'],\n",
            "      dtype='object')\n",
            "Test MAE : 158\n",
            "Test R2:-2.7523009525127473\n",
            "\n",
            "12 features\n",
            "선택된 컬럼 이름 : selected_names Index(['개전일', '피해가_큰_지역_unknown area', '불확실한_사망자_about', '불확실한_사망자_more',\n",
            "       '항공기', '헬리콥터', '탱크', '장갑차', '야포', '자동화기기', '연료탱크', '해군함정'],\n",
            "      dtype='object')\n",
            "Test MAE : 158\n",
            "Test R2:-2.7523009525127464\n",
            "\n",
            "13 features\n",
            "선택된 컬럼 이름 : selected_names Index(['개전일', '피해가_큰_지역_unknown area', '불확실한_사망자_about', '불확실한_사망자_more',\n",
            "       '항공기', '헬리콥터', '탱크', '장갑차', '야포', '다중로켓발사기', '자동화기기', '연료탱크', '해군함정'],\n",
            "      dtype='object')\n",
            "Test MAE : 163\n",
            "Test R2:-2.9326436250321333\n",
            "\n",
            "14 features\n",
            "선택된 컬럼 이름 : selected_names Index(['개전일', '피해가_큰_지역_unknown area', '불확실한_사망자_about', '불확실한_사망자_more',\n",
            "       '항공기', '헬리콥터', '탱크', '장갑차', '야포', '다중로켓발사기', '자동화기기', '연료탱크', '해군함정',\n",
            "       '방공포'],\n",
            "      dtype='object')\n",
            "Test MAE : 162\n",
            "Test R2:-2.864845982456411\n",
            "\n",
            "15 features\n",
            "선택된 컬럼 이름 : selected_names Index(['개전일', '피해가_큰_지역_unknown area', '피해가_큰_지역_Bakhmut', '불확실한_사망자_about',\n",
            "       '불확실한_사망자_more', '항공기', '헬리콥터', '탱크', '장갑차', '야포', '다중로켓발사기', '자동화기기',\n",
            "       '연료탱크', '해군함정', '방공포'],\n",
            "      dtype='object')\n",
            "Test MAE : 159\n",
            "Test R2:-2.7779525458009697\n",
            "\n",
            "16 features\n",
            "선택된 컬럼 이름 : selected_names Index(['개전일', '피해가_큰_지역_unknown area', '피해가_큰_지역_Bakhmut', '불확실한_사망자_about',\n",
            "       '불확실한_사망자_more', '항공기', '헬리콥터', '탱크', '장갑차', '야포', '다중로켓발사기', '자동화기기',\n",
            "       '연료탱크', '드론', '해군함정', '방공포'],\n",
            "      dtype='object')\n",
            "Test MAE : 182\n",
            "Test R2:-3.484633477922337\n",
            "\n",
            "17 features\n",
            "선택된 컬럼 이름 : selected_names Index(['개전일', '피해가_큰_지역_unknown area', '피해가_큰_지역_Bakhmut',\n",
            "       '피해가_큰_지역_Sloviansk', '불확실한_사망자_about', '불확실한_사망자_more', '항공기', '헬리콥터',\n",
            "       '탱크', '장갑차', '야포', '다중로켓발사기', '자동화기기', '연료탱크', '드론', '해군함정', '방공포'],\n",
            "      dtype='object')\n",
            "Test MAE : 179\n",
            "Test R2:-3.385544717388407\n",
            "\n",
            "18 features\n",
            "선택된 컬럼 이름 : selected_names Index(['개전일', '피해가_큰_지역_unknown area', '피해가_큰_지역_Bakhmut',\n",
            "       '피해가_큰_지역_Sloviansk', '피해가_큰_지역_Mykolaiv', '불확실한_사망자_about',\n",
            "       '불확실한_사망자_more', '항공기', '헬리콥터', '탱크', '장갑차', '야포', '다중로켓발사기', '자동화기기',\n",
            "       '연료탱크', '드론', '해군함정', '방공포'],\n",
            "      dtype='object')\n",
            "Test MAE : 177\n",
            "Test R2:-3.322291808494917\n",
            "\n",
            "19 features\n",
            "선택된 컬럼 이름 : selected_names Index(['개전일', '피해가_큰_지역_unknown area', '피해가_큰_지역_Bakhmut',\n",
            "       '피해가_큰_지역_Sloviansk', '피해가_큰_지역_Mykolaiv', '불확실한_사망자_about',\n",
            "       '불확실한_사망자_more', '항공기', '헬리콥터', '탱크', '장갑차', '야포', '다중로켓발사기', '자동화기기',\n",
            "       '연료탱크', '드론', '해군함정', '방공포', '특수_장비'],\n",
            "      dtype='object')\n",
            "Test MAE : 172\n",
            "Test R2:-3.1899628621242604\n",
            "\n",
            "20 features\n",
            "선택된 컬럼 이름 : selected_names Index(['개전일', '피해가_큰_지역_unknown area', '피해가_큰_지역_Bakhmut',\n",
            "       '피해가_큰_지역_Sloviansk', '피해가_큰_지역_Sievierodonetsk and Bakhmut',\n",
            "       '피해가_큰_지역_Mykolaiv', '불확실한_사망자_about', '불확실한_사망자_more', '항공기', '헬리콥터',\n",
            "       '탱크', '장갑차', '야포', '다중로켓발사기', '자동화기기', '연료탱크', '드론', '해군함정', '방공포',\n",
            "       '특수_장비'],\n",
            "      dtype='object')\n",
            "Test MAE : 171\n",
            "Test R2:-3.152486721840483\n",
            "\n",
            "21 features\n",
            "선택된 컬럼 이름 : selected_names Index(['개전일', '피해가_큰_지역_unknown area', '피해가_큰_지역_Sievierodonetsk',\n",
            "       '피해가_큰_지역_Bakhmut', '피해가_큰_지역_Sloviansk',\n",
            "       '피해가_큰_지역_Sievierodonetsk and Bakhmut', '피해가_큰_지역_Mykolaiv',\n",
            "       '불확실한_사망자_about', '불확실한_사망자_more', '항공기', '헬리콥터', '탱크', '장갑차', '야포',\n",
            "       '다중로켓발사기', '자동화기기', '연료탱크', '드론', '해군함정', '방공포', '특수_장비'],\n",
            "      dtype='object')\n",
            "Test MAE : 178\n",
            "Test R2:-3.5316189576292647\n",
            "\n",
            "22 features\n",
            "선택된 컬럼 이름 : selected_names Index(['개전일', '피해가_큰_지역_unknown area', '피해가_큰_지역_Sievierodonetsk',\n",
            "       '피해가_큰_지역_Bakhmut', '피해가_큰_지역_Sloviansk',\n",
            "       '피해가_큰_지역_Sievierodonetsk and Bakhmut',\n",
            "       '피해가_큰_지역_Bakhmut and Kurakhove', '피해가_큰_지역_Mykolaiv', '불확실한_사망자_about',\n",
            "       '불확실한_사망자_more', '항공기', '헬리콥터', '탱크', '장갑차', '야포', '다중로켓발사기', '자동화기기',\n",
            "       '연료탱크', '드론', '해군함정', '방공포', '특수_장비'],\n",
            "      dtype='object')\n",
            "Test MAE : 175\n",
            "Test R2:-3.40833303895607\n",
            "\n",
            "23 features\n",
            "선택된 컬럼 이름 : selected_names Index(['개전일', '피해가_큰_지역_unknown area', '피해가_큰_지역_Sievierodonetsk',\n",
            "       '피해가_큰_지역_Avdiivka', '피해가_큰_지역_Bakhmut', '피해가_큰_지역_Sloviansk',\n",
            "       '피해가_큰_지역_Sievierodonetsk and Bakhmut',\n",
            "       '피해가_큰_지역_Bakhmut and Kurakhove', '피해가_큰_지역_Mykolaiv', '불확실한_사망자_about',\n",
            "       '불확실한_사망자_more', '항공기', '헬리콥터', '탱크', '장갑차', '야포', '다중로켓발사기', '자동화기기',\n",
            "       '연료탱크', '드론', '해군함정', '방공포', '특수_장비'],\n",
            "      dtype='object')\n",
            "Test MAE : 175\n",
            "Test R2:-3.408725769027993\n",
            "\n",
            "24 features\n",
            "선택된 컬럼 이름 : selected_names Index(['개전일', '피해가_큰_지역_unknown area', '피해가_큰_지역_Sievierodonetsk',\n",
            "       '피해가_큰_지역_Avdiivka', '피해가_큰_지역_Bakhmut', '피해가_큰_지역_Sloviansk',\n",
            "       '피해가_큰_지역_Sievierodonetsk and Bakhmut',\n",
            "       '피해가_큰_지역_Bakhmut and Kurakhove', '피해가_큰_지역_Kramatorsk and Bakhmut',\n",
            "       '피해가_큰_지역_Mykolaiv', '불확실한_사망자_about', '불확실한_사망자_more', '항공기', '헬리콥터',\n",
            "       '탱크', '장갑차', '야포', '다중로켓발사기', '자동화기기', '연료탱크', '드론', '해군함정', '방공포',\n",
            "       '특수_장비'],\n",
            "      dtype='object')\n",
            "Test MAE : 175\n",
            "Test R2:-3.393679379972588\n",
            "\n",
            "25 features\n",
            "선택된 컬럼 이름 : selected_names Index(['개전일', '피해가_큰_지역_unknown area', '피해가_큰_지역_Sievierodonetsk',\n",
            "       '피해가_큰_지역_Avdiivka', '피해가_큰_지역_Bakhmut', '피해가_큰_지역_Sloviansk',\n",
            "       '피해가_큰_지역_Sievierodonetsk and Bakhmut',\n",
            "       '피해가_큰_지역_Sloviansk and Bakhmut', '피해가_큰_지역_Bakhmut and Kurakhove',\n",
            "       '피해가_큰_지역_Kramatorsk and Bakhmut', '피해가_큰_지역_Mykolaiv',\n",
            "       '불확실한_사망자_about', '불확실한_사망자_more', '항공기', '헬리콥터', '탱크', '장갑차', '야포',\n",
            "       '다중로켓발사기', '자동화기기', '연료탱크', '드론', '해군함정', '방공포', '특수_장비'],\n",
            "      dtype='object')\n",
            "Test MAE : 174\n",
            "Test R2:-3.367488691335706\n",
            "\n",
            "26 features\n",
            "선택된 컬럼 이름 : selected_names Index(['개전일', '피해가_큰_지역_unknown area', '피해가_큰_지역_Sievierodonetsk',\n",
            "       '피해가_큰_지역_Avdiivka', '피해가_큰_지역_Bakhmut', '피해가_큰_지역_Lyman',\n",
            "       '피해가_큰_지역_Sloviansk', '피해가_큰_지역_Sievierodonetsk and Bakhmut',\n",
            "       '피해가_큰_지역_Sloviansk and Bakhmut', '피해가_큰_지역_Bakhmut and Kurakhove',\n",
            "       '피해가_큰_지역_Kramatorsk and Bakhmut', '피해가_큰_지역_Mykolaiv',\n",
            "       '불확실한_사망자_about', '불확실한_사망자_more', '항공기', '헬리콥터', '탱크', '장갑차', '야포',\n",
            "       '다중로켓발사기', '자동화기기', '연료탱크', '드론', '해군함정', '방공포', '특수_장비'],\n",
            "      dtype='object')\n",
            "Test MAE : 175\n",
            "Test R2:-3.4534299302215477\n",
            "\n",
            "27 features\n",
            "선택된 컬럼 이름 : selected_names Index(['개전일', '피해가_큰_지역_unknown area', '피해가_큰_지역_Sievierodonetsk',\n",
            "       '피해가_큰_지역_Avdiivka', '피해가_큰_지역_Bakhmut', '피해가_큰_지역_Lyman',\n",
            "       '피해가_큰_지역_Sloviansk', '피해가_큰_지역_Sievierodonetsk and Bakhmut',\n",
            "       '피해가_큰_지역_Sloviansk and Bakhmut', '피해가_큰_지역_Bakhmut and Kurakhove',\n",
            "       '피해가_큰_지역_Kramatorsk and Bakhmut', '피해가_큰_지역_Mykolaiv',\n",
            "       '피해가_큰_지역_Donetsk', '불확실한_사망자_about', '불확실한_사망자_more', '항공기', '헬리콥터',\n",
            "       '탱크', '장갑차', '야포', '다중로켓발사기', '자동화기기', '연료탱크', '드론', '해군함정', '방공포',\n",
            "       '특수_장비'],\n",
            "      dtype='object')\n",
            "Test MAE : 155\n",
            "Test R2:-3.1020694885088718\n",
            "\n",
            "28 features\n",
            "선택된 컬럼 이름 : selected_names Index(['개전일', '피해가_큰_지역_unknown area', '피해가_큰_지역_Sievierodonetsk',\n",
            "       '피해가_큰_지역_Avdiivka', '피해가_큰_지역_Bakhmut', '피해가_큰_지역_Lyman',\n",
            "       '피해가_큰_지역_Zaporizhzhia', '피해가_큰_지역_Sloviansk',\n",
            "       '피해가_큰_지역_Sievierodonetsk and Bakhmut',\n",
            "       '피해가_큰_지역_Sloviansk and Bakhmut', '피해가_큰_지역_Bakhmut and Kurakhove',\n",
            "       '피해가_큰_지역_Kramatorsk and Bakhmut', '피해가_큰_지역_Mykolaiv',\n",
            "       '피해가_큰_지역_Donetsk', '불확실한_사망자_about', '불확실한_사망자_more', '항공기', '헬리콥터',\n",
            "       '탱크', '장갑차', '야포', '다중로켓발사기', '자동화기기', '연료탱크', '드론', '해군함정', '방공포',\n",
            "       '특수_장비'],\n",
            "      dtype='object')\n",
            "Test MAE : 155\n",
            "Test R2:-3.0892308331817437\n",
            "\n",
            "29 features\n",
            "선택된 컬럼 이름 : selected_names Index(['개전일', '피해가_큰_지역_unknown area', '피해가_큰_지역_Sievierodonetsk',\n",
            "       '피해가_큰_지역_Avdiivka', '피해가_큰_지역_Bakhmut', '피해가_큰_지역_Lyman',\n",
            "       '피해가_큰_지역_Zaporizhzhia', '피해가_큰_지역_Sloviansk',\n",
            "       '피해가_큰_지역_Sievierodonetsk and Bakhmut',\n",
            "       '피해가_큰_지역_Sloviansk and Bakhmut', '피해가_큰_지역_Bakhmut and Kurakhove',\n",
            "       '피해가_큰_지역_Kramatorsk and Bakhmut', '피해가_큰_지역_Kramatorsk',\n",
            "       '피해가_큰_지역_Mykolaiv', '피해가_큰_지역_Donetsk', '불확실한_사망자_about',\n",
            "       '불확실한_사망자_more', '항공기', '헬리콥터', '탱크', '장갑차', '야포', '다중로켓발사기', '자동화기기',\n",
            "       '연료탱크', '드론', '해군함정', '방공포', '특수_장비'],\n",
            "      dtype='object')\n",
            "Test MAE : 166\n",
            "Test R2:-3.7019210634927857\n",
            "\n",
            "30 features\n",
            "선택된 컬럼 이름 : selected_names Index(['개전일', '피해가_큰_지역_unknown area', '피해가_큰_지역_Sievierodonetsk',\n",
            "       '피해가_큰_지역_Novopavlivsk', '피해가_큰_지역_Avdiivka', '피해가_큰_지역_Bakhmut',\n",
            "       '피해가_큰_지역_Lyman', '피해가_큰_지역_Zaporizhzhia', '피해가_큰_지역_Sloviansk',\n",
            "       '피해가_큰_지역_Sievierodonetsk and Bakhmut',\n",
            "       '피해가_큰_지역_Sloviansk and Bakhmut', '피해가_큰_지역_Bakhmut and Kurakhove',\n",
            "       '피해가_큰_지역_Kramatorsk and Bakhmut', '피해가_큰_지역_Kramatorsk',\n",
            "       '피해가_큰_지역_Mykolaiv', '피해가_큰_지역_Donetsk', '불확실한_사망자_about',\n",
            "       '불확실한_사망자_more', '항공기', '헬리콥터', '탱크', '장갑차', '야포', '다중로켓발사기', '자동화기기',\n",
            "       '연료탱크', '드론', '해군함정', '방공포', '특수_장비'],\n",
            "      dtype='object')\n",
            "Test MAE : 165\n",
            "Test R2:-3.602391857676074\n",
            "\n",
            "31 features\n",
            "선택된 컬럼 이름 : selected_names Index(['개전일', '피해가_큰_지역_unknown area', '피해가_큰_지역_Sievierodonetsk',\n",
            "       '피해가_큰_지역_Zaporizhzhia and Izyum', '피해가_큰_지역_Novopavlivsk',\n",
            "       '피해가_큰_지역_Avdiivka', '피해가_큰_지역_Bakhmut', '피해가_큰_지역_Lyman',\n",
            "       '피해가_큰_지역_Zaporizhzhia', '피해가_큰_지역_Sloviansk',\n",
            "       '피해가_큰_지역_Sievierodonetsk and Bakhmut',\n",
            "       '피해가_큰_지역_Sloviansk and Bakhmut', '피해가_큰_지역_Bakhmut and Kurakhove',\n",
            "       '피해가_큰_지역_Kramatorsk and Bakhmut', '피해가_큰_지역_Kramatorsk',\n",
            "       '피해가_큰_지역_Mykolaiv', '피해가_큰_지역_Donetsk', '불확실한_사망자_about',\n",
            "       '불확실한_사망자_more', '항공기', '헬리콥터', '탱크', '장갑차', '야포', '다중로켓발사기', '자동화기기',\n",
            "       '연료탱크', '드론', '해군함정', '방공포', '특수_장비'],\n",
            "      dtype='object')\n",
            "Test MAE : 165\n",
            "Test R2:-3.606217450243057\n",
            "\n",
            "32 features\n",
            "선택된 컬럼 이름 : selected_names Index(['개전일', '피해가_큰_지역_unknown area', '피해가_큰_지역_Sievierodonetsk',\n",
            "       '피해가_큰_지역_Zaporizhzhia and Izyum', '피해가_큰_지역_Novopavlivsk',\n",
            "       '피해가_큰_지역_Avdiivka', '피해가_큰_지역_Bakhmut', '피해가_큰_지역_Lyman',\n",
            "       '피해가_큰_지역_Zaporizhzhia', '피해가_큰_지역_Sloviansk',\n",
            "       '피해가_큰_지역_Sievierodonetsk and Bakhmut',\n",
            "       '피해가_큰_지역_Sloviansk and Bakhmut', '피해가_큰_지역_Bakhmut and Kurakhove',\n",
            "       '피해가_큰_지역_Kramatorsk and Bakhmut', '피해가_큰_지역_Sloviansk and Donetsk',\n",
            "       '피해가_큰_지역_Kramatorsk', '피해가_큰_지역_Mykolaiv', '피해가_큰_지역_Donetsk',\n",
            "       '불확실한_사망자_about', '불확실한_사망자_more', '항공기', '헬리콥터', '탱크', '장갑차', '야포',\n",
            "       '다중로켓발사기', '자동화기기', '연료탱크', '드론', '해군함정', '방공포', '특수_장비'],\n",
            "      dtype='object')\n",
            "Test MAE : 164\n",
            "Test R2:-3.5442766333611173\n",
            "\n",
            "33 features\n",
            "선택된 컬럼 이름 : selected_names Index(['개전일', '피해가_큰_지역_unknown area', '피해가_큰_지역_Sievierodonetsk',\n",
            "       '피해가_큰_지역_Zaporizhzhia and Izyum', '피해가_큰_지역_Novopavlivsk',\n",
            "       '피해가_큰_지역_Avdiivka', '피해가_큰_지역_Bakhmut', '피해가_큰_지역_Lyman',\n",
            "       '피해가_큰_지역_Zaporizhzhia', '피해가_큰_지역_Sloviansk',\n",
            "       '피해가_큰_지역_Sievierodonetsk and Bakhmut',\n",
            "       '피해가_큰_지역_Sloviansk and Bakhmut', '피해가_큰_지역_Bakhmut and Kurakhove',\n",
            "       '피해가_큰_지역_Kramatorsk and Bakhmut', '피해가_큰_지역_Sloviansk and Donetsk',\n",
            "       '피해가_큰_지역_Kramatorsk', '피해가_큰_지역_Mykolaiv', '피해가_큰_지역_Donetsk',\n",
            "       '불확실한_사망자_about', '불확실한_사망자_more', '전쟁_포로', '항공기', '헬리콥터', '탱크', '장갑차',\n",
            "       '야포', '다중로켓발사기', '자동화기기', '연료탱크', '드론', '해군함정', '방공포', '특수_장비'],\n",
            "      dtype='object')\n",
            "Test MAE : 167\n",
            "Test R2:-3.691700520684517\n",
            "\n",
            "34 features\n",
            "선택된 컬럼 이름 : selected_names Index(['개전일', '피해가_큰_지역_unknown area', '피해가_큰_지역_Sievierodonetsk',\n",
            "       '피해가_큰_지역_Zaporizhzhia and Izyum', '피해가_큰_지역_Novopavlivsk',\n",
            "       '피해가_큰_지역_Avdiivka', '피해가_큰_지역_Bakhmut', '피해가_큰_지역_Lyman',\n",
            "       '피해가_큰_지역_Zaporizhzhia', '피해가_큰_지역_Sloviansk',\n",
            "       '피해가_큰_지역_Sievierodonetsk and Bakhmut',\n",
            "       '피해가_큰_지역_Sloviansk and Bakhmut', '피해가_큰_지역_Bakhmut and Kurakhove',\n",
            "       '피해가_큰_지역_Kramatorsk and Bakhmut', '피해가_큰_지역_Sloviansk and Donetsk',\n",
            "       '피해가_큰_지역_Kramatorsk', '피해가_큰_지역_Mykolaiv', '피해가_큰_지역_Donetsk',\n",
            "       '피해가_큰_지역_Bakhmut and Donetsk', '불확실한_사망자_about', '불확실한_사망자_more',\n",
            "       '전쟁_포로', '항공기', '헬리콥터', '탱크', '장갑차', '야포', '다중로켓발사기', '자동화기기', '연료탱크',\n",
            "       '드론', '해군함정', '방공포', '특수_장비'],\n",
            "      dtype='object')\n",
            "Test MAE : 171\n",
            "Test R2:-4.055255892320594\n",
            "\n",
            "35 features\n",
            "선택된 컬럼 이름 : selected_names Index(['개전일', '피해가_큰_지역_unknown area', '피해가_큰_지역_Sievierodonetsk',\n",
            "       '피해가_큰_지역_Zaporizhzhia and Izyum', '피해가_큰_지역_Novopavlivsk',\n",
            "       '피해가_큰_지역_Avdiivka', '피해가_큰_지역_Bakhmut', '피해가_큰_지역_Lyman',\n",
            "       '피해가_큰_지역_Zaporizhzhia', '피해가_큰_지역_Sloviansk',\n",
            "       '피해가_큰_지역_Sievierodonetsk and Bakhmut',\n",
            "       '피해가_큰_지역_Sloviansk, Bakhmut and Avdiivka',\n",
            "       '피해가_큰_지역_Sloviansk and Bakhmut', '피해가_큰_지역_Bakhmut and Kurakhove',\n",
            "       '피해가_큰_지역_Kramatorsk and Bakhmut', '피해가_큰_지역_Sloviansk and Donetsk',\n",
            "       '피해가_큰_지역_Kramatorsk', '피해가_큰_지역_Mykolaiv', '피해가_큰_지역_Donetsk',\n",
            "       '피해가_큰_지역_Bakhmut and Donetsk', '불확실한_사망자_about', '불확실한_사망자_more',\n",
            "       '전쟁_포로', '항공기', '헬리콥터', '탱크', '장갑차', '야포', '다중로켓발사기', '자동화기기', '연료탱크',\n",
            "       '드론', '해군함정', '방공포', '특수_장비'],\n",
            "      dtype='object')\n",
            "Test MAE : 171\n",
            "Test R2:-4.03438920268924\n",
            "\n",
            "36 features\n",
            "선택된 컬럼 이름 : selected_names Index(['개전일', '피해가_큰_지역_unknown area', '피해가_큰_지역_Sievierodonetsk',\n",
            "       '피해가_큰_지역_Zaporizhzhia and Izyum', '피해가_큰_지역_Novopavlivsk',\n",
            "       '피해가_큰_지역_Avdiivka', '피해가_큰_지역_Bakhmut', '피해가_큰_지역_Lyman',\n",
            "       '피해가_큰_지역_Zaporizhzhia', '피해가_큰_지역_Sloviansk',\n",
            "       '피해가_큰_지역_Sievierodonetsk and Bakhmut',\n",
            "       '피해가_큰_지역_Sloviansk, Bakhmut and Avdiivka',\n",
            "       '피해가_큰_지역_Sloviansk and Bakhmut', '피해가_큰_지역_Bakhmut and Kurakhove',\n",
            "       '피해가_큰_지역_Kramatorsk and Bakhmut', '피해가_큰_지역_Sloviansk and Donetsk',\n",
            "       '피해가_큰_지역_Kramatorsk', '피해가_큰_지역_Mykolaiv', '피해가_큰_지역_Donetsk',\n",
            "       '피해가_큰_지역_Bakhmut and Kryvyi Rih', '피해가_큰_지역_Bakhmut and Donetsk',\n",
            "       '불확실한_사망자_about', '불확실한_사망자_more', '전쟁_포로', '항공기', '헬리콥터', '탱크', '장갑차',\n",
            "       '야포', '다중로켓발사기', '자동화기기', '연료탱크', '드론', '해군함정', '방공포', '특수_장비'],\n",
            "      dtype='object')\n",
            "Test MAE : 171\n",
            "Test R2:-4.1421472477033925\n",
            "\n",
            "37 features\n",
            "선택된 컬럼 이름 : selected_names Index(['개전일', '피해가_큰_지역_unknown area', '피해가_큰_지역_Sievierodonetsk',\n",
            "       '피해가_큰_지역_Zaporizhzhia and Izyum', '피해가_큰_지역_Novopavlivsk',\n",
            "       '피해가_큰_지역_Avdiivka', '피해가_큰_지역_Bakhmut', '피해가_큰_지역_Lyman',\n",
            "       '피해가_큰_지역_Zaporizhzhia', '피해가_큰_지역_Kryvyi Rih and Bakhmut',\n",
            "       '피해가_큰_지역_Sloviansk', '피해가_큰_지역_Sievierodonetsk and Bakhmut',\n",
            "       '피해가_큰_지역_Sloviansk, Bakhmut and Avdiivka',\n",
            "       '피해가_큰_지역_Sloviansk and Bakhmut', '피해가_큰_지역_Bakhmut and Kurakhove',\n",
            "       '피해가_큰_지역_Kramatorsk and Bakhmut', '피해가_큰_지역_Sloviansk and Donetsk',\n",
            "       '피해가_큰_지역_Kramatorsk', '피해가_큰_지역_Mykolaiv', '피해가_큰_지역_Donetsk',\n",
            "       '피해가_큰_지역_Bakhmut and Kryvyi Rih', '피해가_큰_지역_Bakhmut and Donetsk',\n",
            "       '불확실한_사망자_about', '불확실한_사망자_more', '전쟁_포로', '항공기', '헬리콥터', '탱크', '장갑차',\n",
            "       '야포', '다중로켓발사기', '자동화기기', '연료탱크', '드론', '해군함정', '방공포', '특수_장비'],\n",
            "      dtype='object')\n",
            "Test MAE : 169\n",
            "Test R2:-3.94594045037511\n",
            "\n",
            "38 features\n",
            "선택된 컬럼 이름 : selected_names Index(['개전일', '피해가_큰_지역_unknown area', '피해가_큰_지역_Sievierodonetsk',\n",
            "       '피해가_큰_지역_Zaporizhzhia and Izyum', '피해가_큰_지역_Novopavlivsk',\n",
            "       '피해가_큰_지역_Avdiivka', '피해가_큰_지역_Bakhmut', '피해가_큰_지역_Lyman',\n",
            "       '피해가_큰_지역_Zaporizhzhia', '피해가_큰_지역_Kryvyi Rih and Bakhmut',\n",
            "       '피해가_큰_지역_Sloviansk', '피해가_큰_지역_Sievierodonetsk and Bakhmut',\n",
            "       '피해가_큰_지역_Sloviansk, Bakhmut and Avdiivka',\n",
            "       '피해가_큰_지역_Sloviansk and Bakhmut', '피해가_큰_지역_Bakhmut and Kurakhove',\n",
            "       '피해가_큰_지역_Kramatorsk and Bakhmut', '피해가_큰_지역_Sloviansk and Donetsk',\n",
            "       '피해가_큰_지역_Avdiivka and Bakhmut', '피해가_큰_지역_Kramatorsk',\n",
            "       '피해가_큰_지역_Mykolaiv', '피해가_큰_지역_Donetsk',\n",
            "       '피해가_큰_지역_Bakhmut and Kryvyi Rih', '피해가_큰_지역_Bakhmut and Donetsk',\n",
            "       '불확실한_사망자_about', '불확실한_사망자_more', '전쟁_포로', '항공기', '헬리콥터', '탱크', '장갑차',\n",
            "       '야포', '다중로켓발사기', '자동화기기', '연료탱크', '드론', '해군함정', '방공포', '특수_장비'],\n",
            "      dtype='object')\n",
            "Test MAE : 169\n",
            "Test R2:-3.9991867542252884\n",
            "\n",
            "39 features\n",
            "선택된 컬럼 이름 : selected_names Index(['개전일', '피해가_큰_지역_unknown area', '피해가_큰_지역_Sievierodonetsk',\n",
            "       '피해가_큰_지역_Zaporizhzhia and Izyum', '피해가_큰_지역_Novopavlivsk',\n",
            "       '피해가_큰_지역_Avdiivka', '피해가_큰_지역_Bakhmut', '피해가_큰_지역_Lyman',\n",
            "       '피해가_큰_지역_Zaporizhzhia', '피해가_큰_지역_Kryvyi Rih and Zaporizhzhia',\n",
            "       '피해가_큰_지역_Kryvyi Rih and Bakhmut', '피해가_큰_지역_Sloviansk',\n",
            "       '피해가_큰_지역_Sievierodonetsk and Bakhmut',\n",
            "       '피해가_큰_지역_Sloviansk, Bakhmut and Avdiivka',\n",
            "       '피해가_큰_지역_Sloviansk and Bakhmut', '피해가_큰_지역_Bakhmut and Kurakhove',\n",
            "       '피해가_큰_지역_Kramatorsk and Bakhmut', '피해가_큰_지역_Sloviansk and Donetsk',\n",
            "       '피해가_큰_지역_Avdiivka and Bakhmut', '피해가_큰_지역_Kramatorsk',\n",
            "       '피해가_큰_지역_Mykolaiv', '피해가_큰_지역_Donetsk',\n",
            "       '피해가_큰_지역_Bakhmut and Kryvyi Rih', '피해가_큰_지역_Bakhmut and Donetsk',\n",
            "       '불확실한_사망자_about', '불확실한_사망자_more', '전쟁_포로', '항공기', '헬리콥터', '탱크', '장갑차',\n",
            "       '야포', '다중로켓발사기', '자동화기기', '연료탱크', '드론', '해군함정', '방공포', '특수_장비'],\n",
            "      dtype='object')\n",
            "Test MAE : 169\n",
            "Test R2:-3.949802126203127\n",
            "\n",
            "40 features\n",
            "선택된 컬럼 이름 : selected_names Index(['개전일', '피해가_큰_지역_unknown area', '피해가_큰_지역_Sievierodonetsk',\n",
            "       '피해가_큰_지역_Zaporizhzhia and Izyum', '피해가_큰_지역_Novopavlivsk',\n",
            "       '피해가_큰_지역_Avdiivka',\n",
            "       '피해가_큰_지역_Novopavlivsk, Kurakhove and Sievierodonetsk',\n",
            "       '피해가_큰_지역_Bakhmut', '피해가_큰_지역_Lyman', '피해가_큰_지역_Zaporizhzhia',\n",
            "       '피해가_큰_지역_Kryvyi Rih and Zaporizhzhia',\n",
            "       '피해가_큰_지역_Kryvyi Rih and Bakhmut', '피해가_큰_지역_Sloviansk',\n",
            "       '피해가_큰_지역_Sievierodonetsk and Bakhmut',\n",
            "       '피해가_큰_지역_Sloviansk, Bakhmut and Avdiivka',\n",
            "       '피해가_큰_지역_Sloviansk and Bakhmut', '피해가_큰_지역_Bakhmut and Kurakhove',\n",
            "       '피해가_큰_지역_Kramatorsk and Bakhmut', '피해가_큰_지역_Sloviansk and Donetsk',\n",
            "       '피해가_큰_지역_Avdiivka and Bakhmut', '피해가_큰_지역_Kramatorsk',\n",
            "       '피해가_큰_지역_Mykolaiv', '피해가_큰_지역_Donetsk',\n",
            "       '피해가_큰_지역_Bakhmut and Kryvyi Rih', '피해가_큰_지역_Bakhmut and Donetsk',\n",
            "       '불확실한_사망자_about', '불확실한_사망자_more', '전쟁_포로', '항공기', '헬리콥터', '탱크', '장갑차',\n",
            "       '야포', '다중로켓발사기', '자동화기기', '연료탱크', '드론', '해군함정', '방공포', '특수_장비'],\n",
            "      dtype='object')\n",
            "Test MAE : 168\n",
            "Test R2:-3.9292959791382946\n",
            "\n",
            "41 features\n",
            "선택된 컬럼 이름 : selected_names Index(['개전일', '피해가_큰_지역_unknown area', '피해가_큰_지역_Sievierodonetsk',\n",
            "       '피해가_큰_지역_Zaporizhzhia and Izyum', '피해가_큰_지역_Novopavlivsk',\n",
            "       '피해가_큰_지역_Avdiivka',\n",
            "       '피해가_큰_지역_Novopavlivsk, Kurakhove and Sievierodonetsk',\n",
            "       '피해가_큰_지역_Bakhmut', '피해가_큰_지역_Lyman', '피해가_큰_지역_Zaporizhzhia',\n",
            "       '피해가_큰_지역_Kryvyi Rih and Zaporizhzhia',\n",
            "       '피해가_큰_지역_Kryvyi Rih and Bakhmut', '피해가_큰_지역_Sloviansk',\n",
            "       '피해가_큰_지역_Sievierodonetsk and Bakhmut',\n",
            "       '피해가_큰_지역_Sloviansk, Bakhmut and Avdiivka',\n",
            "       '피해가_큰_지역_Sloviansk and Bakhmut', '피해가_큰_지역_Bakhmut and Kurakhove',\n",
            "       '피해가_큰_지역_Kramatorsk and Bakhmut', '피해가_큰_지역_Sloviansk and Donetsk',\n",
            "       '피해가_큰_지역_Avdiivka and Bakhmut', '피해가_큰_지역_Kramatorsk',\n",
            "       '피해가_큰_지역_Mykolaiv', '피해가_큰_지역_Kryvyi Rih', '피해가_큰_지역_Donetsk',\n",
            "       '피해가_큰_지역_Bakhmut and Kryvyi Rih', '피해가_큰_지역_Bakhmut and Donetsk',\n",
            "       '불확실한_사망자_about', '불확실한_사망자_more', '전쟁_포로', '항공기', '헬리콥터', '탱크', '장갑차',\n",
            "       '야포', '다중로켓발사기', '자동화기기', '연료탱크', '드론', '해군함정', '방공포', '특수_장비'],\n",
            "      dtype='object')\n",
            "Test MAE : 191\n",
            "Test R2:-5.532981365916675\n",
            "\n",
            "42 features\n",
            "선택된 컬럼 이름 : selected_names Index(['개전일', '피해가_큰_지역_unknown area', '피해가_큰_지역_Sievierodonetsk',\n",
            "       '피해가_큰_지역_Zaporizhzhia and Izyum', '피해가_큰_지역_Novopavlivsk',\n",
            "       '피해가_큰_지역_Avdiivka',\n",
            "       '피해가_큰_지역_Novopavlivsk, Kurakhove and Sievierodonetsk',\n",
            "       '피해가_큰_지역_Sloviansk, Kryvyi Rih and Zaporizhzhia', '피해가_큰_지역_Bakhmut',\n",
            "       '피해가_큰_지역_Lyman', '피해가_큰_지역_Zaporizhzhia',\n",
            "       '피해가_큰_지역_Kryvyi Rih and Zaporizhzhia',\n",
            "       '피해가_큰_지역_Kryvyi Rih and Bakhmut', '피해가_큰_지역_Sloviansk',\n",
            "       '피해가_큰_지역_Sievierodonetsk and Bakhmut',\n",
            "       '피해가_큰_지역_Sloviansk, Bakhmut and Avdiivka',\n",
            "       '피해가_큰_지역_Sloviansk and Bakhmut', '피해가_큰_지역_Bakhmut and Kurakhove',\n",
            "       '피해가_큰_지역_Kramatorsk and Bakhmut', '피해가_큰_지역_Sloviansk and Donetsk',\n",
            "       '피해가_큰_지역_Avdiivka and Bakhmut', '피해가_큰_지역_Kramatorsk',\n",
            "       '피해가_큰_지역_Mykolaiv', '피해가_큰_지역_Kryvyi Rih', '피해가_큰_지역_Donetsk',\n",
            "       '피해가_큰_지역_Bakhmut and Kryvyi Rih', '피해가_큰_지역_Bakhmut and Donetsk',\n",
            "       '불확실한_사망자_about', '불확실한_사망자_more', '전쟁_포로', '항공기', '헬리콥터', '탱크', '장갑차',\n",
            "       '야포', '다중로켓발사기', '자동화기기', '연료탱크', '드론', '해군함정', '방공포', '특수_장비'],\n",
            "      dtype='object')\n",
            "Test MAE : 191\n",
            "Test R2:-5.552412164468814\n",
            "\n",
            "43 features\n",
            "선택된 컬럼 이름 : selected_names Index(['개전일', '피해가_큰_지역_unknown area', '피해가_큰_지역_Sievierodonetsk',\n",
            "       '피해가_큰_지역_Zaporizhzhia and Izyum', '피해가_큰_지역_Novopavlivsk',\n",
            "       '피해가_큰_지역_Avdiivka',\n",
            "       '피해가_큰_지역_Novopavlivsk, Kurakhove and Sievierodonetsk',\n",
            "       '피해가_큰_지역_Sloviansk, Kryvyi Rih and Zaporizhzhia', '피해가_큰_지역_Bakhmut',\n",
            "       '피해가_큰_지역_Lyman', '피해가_큰_지역_Zaporizhzhia',\n",
            "       '피해가_큰_지역_Kryvyi Rih and Zaporizhzhia',\n",
            "       '피해가_큰_지역_Kryvyi Rih and Bakhmut', '피해가_큰_지역_Sloviansk',\n",
            "       '피해가_큰_지역_Sievierodonetsk and Bakhmut',\n",
            "       '피해가_큰_지역_Sloviansk, Bakhmut and Avdiivka',\n",
            "       '피해가_큰_지역_Sloviansk and Bakhmut', '피해가_큰_지역_Bakhmut and Kurakhove',\n",
            "       '피해가_큰_지역_Kramatorsk and Bakhmut', '피해가_큰_지역_Sloviansk and Donetsk',\n",
            "       '피해가_큰_지역_Avdiivka and Bakhmut', '피해가_큰_지역_Kramatorsk',\n",
            "       '피해가_큰_지역_Mykolaiv', '피해가_큰_지역_Kryvyi Rih', '피해가_큰_지역_Donetsk',\n",
            "       '피해가_큰_지역_Donetsk and Kryvyi Rih', '피해가_큰_지역_Bakhmut and Kryvyi Rih',\n",
            "       '피해가_큰_지역_Bakhmut and Donetsk', '불확실한_사망자_about', '불확실한_사망자_more',\n",
            "       '전쟁_포로', '항공기', '헬리콥터', '탱크', '장갑차', '야포', '다중로켓발사기', '자동화기기', '연료탱크',\n",
            "       '드론', '해군함정', '방공포', '특수_장비'],\n",
            "      dtype='object')\n",
            "Test MAE : 201\n",
            "Test R2:-6.581355481440638\n",
            "\n",
            "44 features\n",
            "선택된 컬럼 이름 : selected_names Index(['개전일', '피해가_큰_지역_unknown area', '피해가_큰_지역_Sievierodonetsk',\n",
            "       '피해가_큰_지역_Zaporizhzhia and Izyum', '피해가_큰_지역_Novopavlivsk',\n",
            "       '피해가_큰_지역_Avdiivka',\n",
            "       '피해가_큰_지역_Novopavlivsk, Kurakhove and Sievierodonetsk',\n",
            "       '피해가_큰_지역_Sloviansk, Kryvyi Rih and Zaporizhzhia', '피해가_큰_지역_Bakhmut',\n",
            "       '피해가_큰_지역_Lyman', '피해가_큰_지역_Zaporizhzhia',\n",
            "       '피해가_큰_지역_Kryvyi Rih and Zaporizhzhia',\n",
            "       '피해가_큰_지역_Kryvyi Rih and Bakhmut', '피해가_큰_지역_Sloviansk',\n",
            "       '피해가_큰_지역_Sievierodonetsk and Bakhmut',\n",
            "       '피해가_큰_지역_Sloviansk, Bakhmut and Kryvyi Rih',\n",
            "       '피해가_큰_지역_Sloviansk, Bakhmut and Avdiivka',\n",
            "       '피해가_큰_지역_Sloviansk and Bakhmut', '피해가_큰_지역_Bakhmut and Kurakhove',\n",
            "       '피해가_큰_지역_Kramatorsk and Bakhmut', '피해가_큰_지역_Sloviansk and Donetsk',\n",
            "       '피해가_큰_지역_Avdiivka and Bakhmut', '피해가_큰_지역_Kramatorsk',\n",
            "       '피해가_큰_지역_Mykolaiv', '피해가_큰_지역_Kryvyi Rih', '피해가_큰_지역_Donetsk',\n",
            "       '피해가_큰_지역_Donetsk and Kryvyi Rih', '피해가_큰_지역_Bakhmut and Kryvyi Rih',\n",
            "       '피해가_큰_지역_Bakhmut and Donetsk', '불확실한_사망자_about', '불확실한_사망자_more',\n",
            "       '전쟁_포로', '항공기', '헬리콥터', '탱크', '장갑차', '야포', '다중로켓발사기', '자동화기기', '연료탱크',\n",
            "       '드론', '해군함정', '방공포', '특수_장비'],\n",
            "      dtype='object')\n",
            "Test MAE : 203\n",
            "Test R2:-6.687771491621671\n",
            "\n",
            "45 features\n",
            "선택된 컬럼 이름 : selected_names Index(['개전일', '피해가_큰_지역_unknown area', '피해가_큰_지역_Sievierodonetsk',\n",
            "       '피해가_큰_지역_Zaporizhzhia and Izyum', '피해가_큰_지역_Novopavlivsk',\n",
            "       '피해가_큰_지역_Avdiivka',\n",
            "       '피해가_큰_지역_Novopavlivsk, Kurakhove and Sievierodonetsk',\n",
            "       '피해가_큰_지역_Sloviansk, Kryvyi Rih and Zaporizhzhia', '피해가_큰_지역_Bakhmut',\n",
            "       '피해가_큰_지역_Lyman', '피해가_큰_지역_Zaporizhzhia',\n",
            "       '피해가_큰_지역_Kryvyi Rih and Zaporizhzhia',\n",
            "       '피해가_큰_지역_Kryvyi Rih and Bakhmut', '피해가_큰_지역_Sloviansk',\n",
            "       '피해가_큰_지역_Kharkiv and Bakhmut', '피해가_큰_지역_Sievierodonetsk and Bakhmut',\n",
            "       '피해가_큰_지역_Sloviansk, Bakhmut and Kryvyi Rih',\n",
            "       '피해가_큰_지역_Sloviansk, Bakhmut and Avdiivka',\n",
            "       '피해가_큰_지역_Sloviansk and Bakhmut', '피해가_큰_지역_Bakhmut and Kurakhove',\n",
            "       '피해가_큰_지역_Kramatorsk and Bakhmut', '피해가_큰_지역_Sloviansk and Donetsk',\n",
            "       '피해가_큰_지역_Avdiivka and Bakhmut', '피해가_큰_지역_Kramatorsk',\n",
            "       '피해가_큰_지역_Mykolaiv', '피해가_큰_지역_Kryvyi Rih', '피해가_큰_지역_Donetsk',\n",
            "       '피해가_큰_지역_Donetsk and Kryvyi Rih', '피해가_큰_지역_Bakhmut and Kryvyi Rih',\n",
            "       '피해가_큰_지역_Bakhmut and Donetsk', '불확실한_사망자_about', '불확실한_사망자_more',\n",
            "       '전쟁_포로', '항공기', '헬리콥터', '탱크', '장갑차', '야포', '다중로켓발사기', '자동화기기', '연료탱크',\n",
            "       '드론', '해군함정', '방공포', '특수_장비'],\n",
            "      dtype='object')\n",
            "Test MAE : 206\n",
            "Test R2:-6.897664094052922\n",
            "\n",
            "46 features\n",
            "선택된 컬럼 이름 : selected_names Index(['개전일', '피해가_큰_지역_unknown area', '피해가_큰_지역_Sievierodonetsk',\n",
            "       '피해가_큰_지역_Zaporizhzhia and Izyum', '피해가_큰_지역_Novopavlivsk',\n",
            "       '피해가_큰_지역_Avdiivka',\n",
            "       '피해가_큰_지역_Novopavlivsk, Kurakhove and Sievierodonetsk',\n",
            "       '피해가_큰_지역_Lyman and Zaporizhzhia',\n",
            "       '피해가_큰_지역_Sloviansk, Kryvyi Rih and Zaporizhzhia', '피해가_큰_지역_Bakhmut',\n",
            "       '피해가_큰_지역_Lyman', '피해가_큰_지역_Zaporizhzhia',\n",
            "       '피해가_큰_지역_Kryvyi Rih and Zaporizhzhia',\n",
            "       '피해가_큰_지역_Kryvyi Rih and Bakhmut', '피해가_큰_지역_Sloviansk',\n",
            "       '피해가_큰_지역_Kharkiv and Bakhmut', '피해가_큰_지역_Sievierodonetsk and Bakhmut',\n",
            "       '피해가_큰_지역_Sloviansk, Bakhmut and Kryvyi Rih',\n",
            "       '피해가_큰_지역_Sloviansk, Bakhmut and Avdiivka',\n",
            "       '피해가_큰_지역_Sloviansk and Bakhmut', '피해가_큰_지역_Bakhmut and Kurakhove',\n",
            "       '피해가_큰_지역_Kramatorsk and Bakhmut', '피해가_큰_지역_Sloviansk and Donetsk',\n",
            "       '피해가_큰_지역_Avdiivka and Bakhmut', '피해가_큰_지역_Kramatorsk',\n",
            "       '피해가_큰_지역_Mykolaiv', '피해가_큰_지역_Kryvyi Rih', '피해가_큰_지역_Donetsk',\n",
            "       '피해가_큰_지역_Donetsk and Kryvyi Rih', '피해가_큰_지역_Bakhmut and Kryvyi Rih',\n",
            "       '피해가_큰_지역_Bakhmut and Donetsk', '불확실한_사망자_about', '불확실한_사망자_more',\n",
            "       '전쟁_포로', '항공기', '헬리콥터', '탱크', '장갑차', '야포', '다중로켓발사기', '자동화기기', '연료탱크',\n",
            "       '드론', '해군함정', '방공포', '특수_장비'],\n",
            "      dtype='object')\n",
            "Test MAE : 206\n",
            "Test R2:-6.901709865668216\n",
            "\n",
            "47 features\n",
            "선택된 컬럼 이름 : selected_names Index(['개전일', '피해가_큰_지역_unknown area', '피해가_큰_지역_Sievierodonetsk',\n",
            "       '피해가_큰_지역_Zaporizhzhia and Izyum', '피해가_큰_지역_Novopavlivsk',\n",
            "       '피해가_큰_지역_Avdiivka',\n",
            "       '피해가_큰_지역_Novopavlivsk, Kurakhove and Sievierodonetsk',\n",
            "       '피해가_큰_지역_Kurakhove and Avdiivka', '피해가_큰_지역_Lyman and Zaporizhzhia',\n",
            "       '피해가_큰_지역_Sloviansk, Kryvyi Rih and Zaporizhzhia', '피해가_큰_지역_Bakhmut',\n",
            "       '피해가_큰_지역_Lyman', '피해가_큰_지역_Zaporizhzhia',\n",
            "       '피해가_큰_지역_Kryvyi Rih and Zaporizhzhia',\n",
            "       '피해가_큰_지역_Kryvyi Rih and Bakhmut', '피해가_큰_지역_Sloviansk',\n",
            "       '피해가_큰_지역_Kharkiv and Bakhmut', '피해가_큰_지역_Sievierodonetsk and Bakhmut',\n",
            "       '피해가_큰_지역_Sloviansk, Bakhmut and Kryvyi Rih',\n",
            "       '피해가_큰_지역_Sloviansk, Bakhmut and Avdiivka',\n",
            "       '피해가_큰_지역_Sloviansk and Bakhmut', '피해가_큰_지역_Bakhmut and Kurakhove',\n",
            "       '피해가_큰_지역_Kramatorsk and Bakhmut', '피해가_큰_지역_Sloviansk and Donetsk',\n",
            "       '피해가_큰_지역_Avdiivka and Bakhmut', '피해가_큰_지역_Kramatorsk',\n",
            "       '피해가_큰_지역_Mykolaiv', '피해가_큰_지역_Kryvyi Rih', '피해가_큰_지역_Donetsk',\n",
            "       '피해가_큰_지역_Donetsk and Kryvyi Rih', '피해가_큰_지역_Bakhmut and Kryvyi Rih',\n",
            "       '피해가_큰_지역_Bakhmut and Donetsk', '불확실한_사망자_about', '불확실한_사망자_more',\n",
            "       '전쟁_포로', '항공기', '헬리콥터', '탱크', '장갑차', '야포', '다중로켓발사기', '자동화기기', '연료탱크',\n",
            "       '드론', '해군함정', '방공포', '특수_장비'],\n",
            "      dtype='object')\n",
            "Test MAE : 206\n",
            "Test R2:-6.876079952553619\n",
            "\n",
            "48 features\n",
            "선택된 컬럼 이름 : selected_names Index(['개전일', '피해가_큰_지역_unknown area', '피해가_큰_지역_Sievierodonetsk',\n",
            "       '피해가_큰_지역_Zaporizhzhia and Izyum', '피해가_큰_지역_Slobozhanskyi',\n",
            "       '피해가_큰_지역_Novopavlivsk', '피해가_큰_지역_Avdiivka',\n",
            "       '피해가_큰_지역_Novopavlivsk, Kurakhove and Sievierodonetsk',\n",
            "       '피해가_큰_지역_Kurakhove and Avdiivka', '피해가_큰_지역_Lyman and Zaporizhzhia',\n",
            "       '피해가_큰_지역_Sloviansk, Kryvyi Rih and Zaporizhzhia', '피해가_큰_지역_Bakhmut',\n",
            "       '피해가_큰_지역_Lyman', '피해가_큰_지역_Zaporizhzhia',\n",
            "       '피해가_큰_지역_Kryvyi Rih and Zaporizhzhia',\n",
            "       '피해가_큰_지역_Kryvyi Rih and Bakhmut', '피해가_큰_지역_Sloviansk',\n",
            "       '피해가_큰_지역_Kharkiv and Bakhmut', '피해가_큰_지역_Sievierodonetsk and Bakhmut',\n",
            "       '피해가_큰_지역_Sloviansk, Bakhmut and Kryvyi Rih',\n",
            "       '피해가_큰_지역_Sloviansk, Bakhmut and Avdiivka',\n",
            "       '피해가_큰_지역_Sloviansk and Bakhmut', '피해가_큰_지역_Bakhmut and Kurakhove',\n",
            "       '피해가_큰_지역_Kramatorsk and Bakhmut', '피해가_큰_지역_Sloviansk and Donetsk',\n",
            "       '피해가_큰_지역_Avdiivka and Bakhmut', '피해가_큰_지역_Kramatorsk',\n",
            "       '피해가_큰_지역_Mykolaiv', '피해가_큰_지역_Kryvyi Rih', '피해가_큰_지역_Donetsk',\n",
            "       '피해가_큰_지역_Donetsk and Kryvyi Rih', '피해가_큰_지역_Bakhmut and Kryvyi Rih',\n",
            "       '피해가_큰_지역_Bakhmut and Donetsk', '불확실한_사망자_about', '불확실한_사망자_more',\n",
            "       '전쟁_포로', '항공기', '헬리콥터', '탱크', '장갑차', '야포', '다중로켓발사기', '자동화기기', '연료탱크',\n",
            "       '드론', '해군함정', '방공포', '특수_장비'],\n",
            "      dtype='object')\n",
            "Test MAE : 206\n",
            "Test R2:-6.884399640867054\n",
            "\n",
            "49 features\n",
            "선택된 컬럼 이름 : selected_names Index(['개전일', '피해가_큰_지역_unknown area', '피해가_큰_지역_Sievierodonetsk',\n",
            "       '피해가_큰_지역_Zaporizhzhia and Izyum', '피해가_큰_지역_Lyman and Kurakhove',\n",
            "       '피해가_큰_지역_Slobozhanskyi', '피해가_큰_지역_Novopavlivsk', '피해가_큰_지역_Avdiivka',\n",
            "       '피해가_큰_지역_Novopavlivsk, Kurakhove and Sievierodonetsk',\n",
            "       '피해가_큰_지역_Kurakhove and Avdiivka', '피해가_큰_지역_Lyman and Zaporizhzhia',\n",
            "       '피해가_큰_지역_Sloviansk, Kryvyi Rih and Zaporizhzhia', '피해가_큰_지역_Bakhmut',\n",
            "       '피해가_큰_지역_Lyman', '피해가_큰_지역_Zaporizhzhia',\n",
            "       '피해가_큰_지역_Kryvyi Rih and Zaporizhzhia',\n",
            "       '피해가_큰_지역_Kryvyi Rih and Bakhmut', '피해가_큰_지역_Sloviansk',\n",
            "       '피해가_큰_지역_Kharkiv and Bakhmut', '피해가_큰_지역_Sievierodonetsk and Bakhmut',\n",
            "       '피해가_큰_지역_Sloviansk, Bakhmut and Kryvyi Rih',\n",
            "       '피해가_큰_지역_Sloviansk, Bakhmut and Avdiivka',\n",
            "       '피해가_큰_지역_Sloviansk and Bakhmut', '피해가_큰_지역_Bakhmut and Kurakhove',\n",
            "       '피해가_큰_지역_Kramatorsk and Bakhmut', '피해가_큰_지역_Sloviansk and Donetsk',\n",
            "       '피해가_큰_지역_Avdiivka and Bakhmut', '피해가_큰_지역_Kramatorsk',\n",
            "       '피해가_큰_지역_Mykolaiv', '피해가_큰_지역_Kryvyi Rih', '피해가_큰_지역_Donetsk',\n",
            "       '피해가_큰_지역_Donetsk and Kryvyi Rih', '피해가_큰_지역_Bakhmut and Kryvyi Rih',\n",
            "       '피해가_큰_지역_Bakhmut and Donetsk', '불확실한_사망자_about', '불확실한_사망자_more',\n",
            "       '전쟁_포로', '항공기', '헬리콥터', '탱크', '장갑차', '야포', '다중로켓발사기', '자동화기기', '연료탱크',\n",
            "       '드론', '해군함정', '방공포', '특수_장비'],\n",
            "      dtype='object')\n",
            "Test MAE : 206\n",
            "Test R2:-6.933733184671364\n",
            "\n",
            "50 features\n",
            "선택된 컬럼 이름 : selected_names Index(['개전일', '피해가_큰_지역_unknown area', '피해가_큰_지역_Sievierodonetsk',\n",
            "       '피해가_큰_지역_Zaporizhzhia and Izyum', '피해가_큰_지역_Popasna',\n",
            "       '피해가_큰_지역_Lyman and Kurakhove', '피해가_큰_지역_Slobozhanskyi',\n",
            "       '피해가_큰_지역_Novopavlivsk', '피해가_큰_지역_Avdiivka',\n",
            "       '피해가_큰_지역_Novopavlivsk, Kurakhove and Sievierodonetsk',\n",
            "       '피해가_큰_지역_Kurakhove and Avdiivka', '피해가_큰_지역_Lyman and Zaporizhzhia',\n",
            "       '피해가_큰_지역_Sloviansk, Kryvyi Rih and Zaporizhzhia', '피해가_큰_지역_Bakhmut',\n",
            "       '피해가_큰_지역_Lyman', '피해가_큰_지역_Zaporizhzhia',\n",
            "       '피해가_큰_지역_Kryvyi Rih and Zaporizhzhia',\n",
            "       '피해가_큰_지역_Kryvyi Rih and Bakhmut', '피해가_큰_지역_Sloviansk',\n",
            "       '피해가_큰_지역_Kharkiv and Bakhmut', '피해가_큰_지역_Sievierodonetsk and Bakhmut',\n",
            "       '피해가_큰_지역_Sloviansk, Bakhmut and Kryvyi Rih',\n",
            "       '피해가_큰_지역_Sloviansk, Bakhmut and Avdiivka',\n",
            "       '피해가_큰_지역_Sloviansk and Bakhmut', '피해가_큰_지역_Bakhmut and Kurakhove',\n",
            "       '피해가_큰_지역_Kramatorsk and Bakhmut', '피해가_큰_지역_Sloviansk and Donetsk',\n",
            "       '피해가_큰_지역_Avdiivka and Bakhmut', '피해가_큰_지역_Kramatorsk',\n",
            "       '피해가_큰_지역_Mykolaiv', '피해가_큰_지역_Kryvyi Rih', '피해가_큰_지역_Donetsk',\n",
            "       '피해가_큰_지역_Donetsk and Kryvyi Rih', '피해가_큰_지역_Bakhmut and Kryvyi Rih',\n",
            "       '피해가_큰_지역_Bakhmut and Donetsk', '불확실한_사망자_about', '불확실한_사망자_more',\n",
            "       '전쟁_포로', '항공기', '헬리콥터', '탱크', '장갑차', '야포', '다중로켓발사기', '자동화기기', '연료탱크',\n",
            "       '드론', '해군함정', '방공포', '특수_장비'],\n",
            "      dtype='object')\n",
            "Test MAE : 206\n",
            "Test R2:-6.85816221506098\n",
            "\n",
            "51 features\n",
            "선택된 컬럼 이름 : selected_names Index(['개전일', '피해가_큰_지역_unknown area', '피해가_큰_지역_Sievierodonetsk',\n",
            "       '피해가_큰_지역_Zaporizhzhia and Izyum', '피해가_큰_지역_Izyum', '피해가_큰_지역_Popasna',\n",
            "       '피해가_큰_지역_Lyman and Kurakhove', '피해가_큰_지역_Slobozhanskyi',\n",
            "       '피해가_큰_지역_Novopavlivsk', '피해가_큰_지역_Avdiivka',\n",
            "       '피해가_큰_지역_Novopavlivsk, Kurakhove and Sievierodonetsk',\n",
            "       '피해가_큰_지역_Kurakhove and Avdiivka', '피해가_큰_지역_Lyman and Zaporizhzhia',\n",
            "       '피해가_큰_지역_Sloviansk, Kryvyi Rih and Zaporizhzhia', '피해가_큰_지역_Bakhmut',\n",
            "       '피해가_큰_지역_Lyman', '피해가_큰_지역_Zaporizhzhia',\n",
            "       '피해가_큰_지역_Kryvyi Rih and Zaporizhzhia',\n",
            "       '피해가_큰_지역_Kryvyi Rih and Bakhmut', '피해가_큰_지역_Sloviansk',\n",
            "       '피해가_큰_지역_Kharkiv and Bakhmut', '피해가_큰_지역_Sievierodonetsk and Bakhmut',\n",
            "       '피해가_큰_지역_Sloviansk, Bakhmut and Kryvyi Rih',\n",
            "       '피해가_큰_지역_Sloviansk, Bakhmut and Avdiivka',\n",
            "       '피해가_큰_지역_Sloviansk and Bakhmut', '피해가_큰_지역_Bakhmut and Kurakhove',\n",
            "       '피해가_큰_지역_Kramatorsk and Bakhmut', '피해가_큰_지역_Sloviansk and Donetsk',\n",
            "       '피해가_큰_지역_Avdiivka and Bakhmut', '피해가_큰_지역_Kramatorsk',\n",
            "       '피해가_큰_지역_Mykolaiv', '피해가_큰_지역_Kryvyi Rih', '피해가_큰_지역_Donetsk',\n",
            "       '피해가_큰_지역_Donetsk and Kryvyi Rih', '피해가_큰_지역_Bakhmut and Kryvyi Rih',\n",
            "       '피해가_큰_지역_Bakhmut and Donetsk', '불확실한_사망자_about', '불확실한_사망자_more',\n",
            "       '전쟁_포로', '항공기', '헬리콥터', '탱크', '장갑차', '야포', '다중로켓발사기', '자동화기기', '연료탱크',\n",
            "       '드론', '해군함정', '방공포', '특수_장비'],\n",
            "      dtype='object')\n",
            "Test MAE : 210\n",
            "Test R2:-7.0624788670400935\n",
            "\n",
            "52 features\n",
            "선택된 컬럼 이름 : selected_names Index(['개전일', '피해가_큰_지역_unknown area', '피해가_큰_지역_Sievierodonetsk',\n",
            "       '피해가_큰_지역_Zaporizhzhia and Izyum', '피해가_큰_지역_Izyum', '피해가_큰_지역_Popasna',\n",
            "       '피해가_큰_지역_Lyman and Kurakhove', '피해가_큰_지역_Slobozhanskyi',\n",
            "       '피해가_큰_지역_Novopavlivsk', '피해가_큰_지역_Avdiivka',\n",
            "       '피해가_큰_지역_Novopavlivsk, Kurakhove and Sievierodonetsk',\n",
            "       '피해가_큰_지역_Kurakhove', '피해가_큰_지역_Kurakhove and Avdiivka',\n",
            "       '피해가_큰_지역_Lyman and Zaporizhzhia',\n",
            "       '피해가_큰_지역_Sloviansk, Kryvyi Rih and Zaporizhzhia', '피해가_큰_지역_Bakhmut',\n",
            "       '피해가_큰_지역_Lyman', '피해가_큰_지역_Zaporizhzhia',\n",
            "       '피해가_큰_지역_Kryvyi Rih and Zaporizhzhia',\n",
            "       '피해가_큰_지역_Kryvyi Rih and Bakhmut', '피해가_큰_지역_Sloviansk',\n",
            "       '피해가_큰_지역_Kharkiv and Bakhmut', '피해가_큰_지역_Sievierodonetsk and Bakhmut',\n",
            "       '피해가_큰_지역_Sloviansk, Bakhmut and Kryvyi Rih',\n",
            "       '피해가_큰_지역_Sloviansk, Bakhmut and Avdiivka',\n",
            "       '피해가_큰_지역_Sloviansk and Bakhmut', '피해가_큰_지역_Bakhmut and Kurakhove',\n",
            "       '피해가_큰_지역_Kramatorsk and Bakhmut', '피해가_큰_지역_Sloviansk and Donetsk',\n",
            "       '피해가_큰_지역_Avdiivka and Bakhmut', '피해가_큰_지역_Kramatorsk',\n",
            "       '피해가_큰_지역_Mykolaiv', '피해가_큰_지역_Kryvyi Rih', '피해가_큰_지역_Donetsk',\n",
            "       '피해가_큰_지역_Donetsk and Kryvyi Rih', '피해가_큰_지역_Bakhmut and Kryvyi Rih',\n",
            "       '피해가_큰_지역_Bakhmut and Donetsk', '불확실한_사망자_about', '불확실한_사망자_more',\n",
            "       '전쟁_포로', '항공기', '헬리콥터', '탱크', '장갑차', '야포', '다중로켓발사기', '자동화기기', '연료탱크',\n",
            "       '드론', '해군함정', '방공포', '특수_장비'],\n",
            "      dtype='object')\n",
            "Test MAE : 210\n",
            "Test R2:-6.921119421566411\n",
            "\n",
            "53 features\n",
            "선택된 컬럼 이름 : selected_names Index(['개전일', '피해가_큰_지역_unknown area', '피해가_큰_지역_Sievierodonetsk',\n",
            "       '피해가_큰_지역_Zaporizhzhia and Izyum', '피해가_큰_지역_Izyum', '피해가_큰_지역_Popasna',\n",
            "       '피해가_큰_지역_Lyman and Kurakhove', '피해가_큰_지역_Slobozhanskyi',\n",
            "       '피해가_큰_지역_Novopavlivsk', '피해가_큰_지역_Avdiivka',\n",
            "       '피해가_큰_지역_Novopavlivsk, Kurakhove and Sievierodonetsk',\n",
            "       '피해가_큰_지역_Kurakhove', '피해가_큰_지역_Kurakhove and Avdiivka',\n",
            "       '피해가_큰_지역_Lyman and Zaporizhzhia',\n",
            "       '피해가_큰_지역_Sloviansk, Kryvyi Rih and Zaporizhzhia', '피해가_큰_지역_Bakhmut',\n",
            "       '피해가_큰_지역_Lyman', '피해가_큰_지역_Zaporizhzhia',\n",
            "       '피해가_큰_지역_Kryvyi Rih and Zaporizhzhia',\n",
            "       '피해가_큰_지역_Kryvyi Rih and Bakhmut', '피해가_큰_지역_Sloviansk',\n",
            "       '피해가_큰_지역_Kharkiv and Bakhmut', '피해가_큰_지역_Sievierodonetsk and Bakhmut',\n",
            "       '피해가_큰_지역_Sloviansk, Bakhmut and Kryvyi Rih',\n",
            "       '피해가_큰_지역_Bakhmut and Avdiivka',\n",
            "       '피해가_큰_지역_Sloviansk, Bakhmut and Avdiivka',\n",
            "       '피해가_큰_지역_Sloviansk and Bakhmut', '피해가_큰_지역_Bakhmut and Kurakhove',\n",
            "       '피해가_큰_지역_Kramatorsk and Bakhmut', '피해가_큰_지역_Sloviansk and Donetsk',\n",
            "       '피해가_큰_지역_Avdiivka and Bakhmut', '피해가_큰_지역_Kramatorsk',\n",
            "       '피해가_큰_지역_Mykolaiv', '피해가_큰_지역_Kryvyi Rih', '피해가_큰_지역_Donetsk',\n",
            "       '피해가_큰_지역_Donetsk and Kryvyi Rih', '피해가_큰_지역_Bakhmut and Kryvyi Rih',\n",
            "       '피해가_큰_지역_Bakhmut and Donetsk', '불확실한_사망자_about', '불확실한_사망자_more',\n",
            "       '전쟁_포로', '항공기', '헬리콥터', '탱크', '장갑차', '야포', '다중로켓발사기', '자동화기기', '연료탱크',\n",
            "       '드론', '해군함정', '방공포', '특수_장비'],\n",
            "      dtype='object')\n",
            "Test MAE : 216\n",
            "Test R2:-7.514235805412024\n",
            "\n",
            "54 features\n",
            "선택된 컬럼 이름 : selected_names Index(['개전일', '피해가_큰_지역_unknown area', '피해가_큰_지역_Sievierodonetsk',\n",
            "       '피해가_큰_지역_Zaporizhzhia and Izyum', '피해가_큰_지역_Izyum',\n",
            "       '피해가_큰_지역_Izyum, Novopavlivsk', '피해가_큰_지역_Popasna',\n",
            "       '피해가_큰_지역_Lyman and Kurakhove', '피해가_큰_지역_Slobozhanskyi',\n",
            "       '피해가_큰_지역_Novopavlivsk', '피해가_큰_지역_Avdiivka',\n",
            "       '피해가_큰_지역_Novopavlivsk, Kurakhove and Sievierodonetsk',\n",
            "       '피해가_큰_지역_Kurakhove', '피해가_큰_지역_Kurakhove and Avdiivka',\n",
            "       '피해가_큰_지역_Lyman and Zaporizhzhia',\n",
            "       '피해가_큰_지역_Sloviansk, Kryvyi Rih and Zaporizhzhia', '피해가_큰_지역_Bakhmut',\n",
            "       '피해가_큰_지역_Lyman', '피해가_큰_지역_Zaporizhzhia',\n",
            "       '피해가_큰_지역_Kryvyi Rih and Zaporizhzhia',\n",
            "       '피해가_큰_지역_Kryvyi Rih and Bakhmut', '피해가_큰_지역_Sloviansk',\n",
            "       '피해가_큰_지역_Kharkiv and Bakhmut', '피해가_큰_지역_Sievierodonetsk and Bakhmut',\n",
            "       '피해가_큰_지역_Sloviansk, Bakhmut and Kryvyi Rih',\n",
            "       '피해가_큰_지역_Bakhmut and Avdiivka',\n",
            "       '피해가_큰_지역_Sloviansk, Bakhmut and Avdiivka',\n",
            "       '피해가_큰_지역_Sloviansk and Bakhmut', '피해가_큰_지역_Bakhmut and Kurakhove',\n",
            "       '피해가_큰_지역_Kramatorsk and Bakhmut', '피해가_큰_지역_Sloviansk and Donetsk',\n",
            "       '피해가_큰_지역_Avdiivka and Bakhmut', '피해가_큰_지역_Kramatorsk',\n",
            "       '피해가_큰_지역_Mykolaiv', '피해가_큰_지역_Kryvyi Rih', '피해가_큰_지역_Donetsk',\n",
            "       '피해가_큰_지역_Donetsk and Kryvyi Rih', '피해가_큰_지역_Bakhmut and Kryvyi Rih',\n",
            "       '피해가_큰_지역_Bakhmut and Donetsk', '불확실한_사망자_about', '불확실한_사망자_more',\n",
            "       '전쟁_포로', '항공기', '헬리콥터', '탱크', '장갑차', '야포', '다중로켓발사기', '자동화기기', '연료탱크',\n",
            "       '드론', '해군함정', '방공포', '특수_장비'],\n",
            "      dtype='object')\n",
            "Test MAE : 215\n",
            "Test R2:-7.311813007091992\n",
            "\n",
            "55 features\n",
            "선택된 컬럼 이름 : selected_names Index(['개전일', '피해가_큰_지역_unknown area', '피해가_큰_지역_Sievierodonetsk',\n",
            "       '피해가_큰_지역_Kurakhove and Izyum', '피해가_큰_지역_Zaporizhzhia and Izyum',\n",
            "       '피해가_큰_지역_Izyum', '피해가_큰_지역_Izyum, Novopavlivsk', '피해가_큰_지역_Popasna',\n",
            "       '피해가_큰_지역_Lyman and Kurakhove', '피해가_큰_지역_Slobozhanskyi',\n",
            "       '피해가_큰_지역_Novopavlivsk', '피해가_큰_지역_Avdiivka',\n",
            "       '피해가_큰_지역_Novopavlivsk, Kurakhove and Sievierodonetsk',\n",
            "       '피해가_큰_지역_Kurakhove', '피해가_큰_지역_Kurakhove and Avdiivka',\n",
            "       '피해가_큰_지역_Lyman and Zaporizhzhia',\n",
            "       '피해가_큰_지역_Sloviansk, Kryvyi Rih and Zaporizhzhia', '피해가_큰_지역_Bakhmut',\n",
            "       '피해가_큰_지역_Lyman', '피해가_큰_지역_Zaporizhzhia',\n",
            "       '피해가_큰_지역_Kryvyi Rih and Zaporizhzhia',\n",
            "       '피해가_큰_지역_Kryvyi Rih and Bakhmut', '피해가_큰_지역_Sloviansk',\n",
            "       '피해가_큰_지역_Kharkiv and Bakhmut', '피해가_큰_지역_Sievierodonetsk and Bakhmut',\n",
            "       '피해가_큰_지역_Sloviansk, Bakhmut and Kryvyi Rih',\n",
            "       '피해가_큰_지역_Bakhmut and Avdiivka',\n",
            "       '피해가_큰_지역_Sloviansk, Bakhmut and Avdiivka',\n",
            "       '피해가_큰_지역_Sloviansk and Bakhmut', '피해가_큰_지역_Bakhmut and Kurakhove',\n",
            "       '피해가_큰_지역_Kramatorsk and Bakhmut', '피해가_큰_지역_Sloviansk and Donetsk',\n",
            "       '피해가_큰_지역_Avdiivka and Bakhmut', '피해가_큰_지역_Kramatorsk',\n",
            "       '피해가_큰_지역_Mykolaiv', '피해가_큰_지역_Kryvyi Rih', '피해가_큰_지역_Donetsk',\n",
            "       '피해가_큰_지역_Donetsk and Kryvyi Rih', '피해가_큰_지역_Bakhmut and Kryvyi Rih',\n",
            "       '피해가_큰_지역_Bakhmut and Donetsk', '불확실한_사망자_about', '불확실한_사망자_more',\n",
            "       '전쟁_포로', '항공기', '헬리콥터', '탱크', '장갑차', '야포', '다중로켓발사기', '자동화기기', '연료탱크',\n",
            "       '드론', '해군함정', '방공포', '특수_장비'],\n",
            "      dtype='object')\n",
            "Test MAE : 220\n",
            "Test R2:-7.335105542168495\n",
            "\n",
            "56 features\n",
            "선택된 컬럼 이름 : selected_names Index(['개전일', '피해가_큰_지역_unknown area', '피해가_큰_지역_Sievierodonetsk',\n",
            "       '피해가_큰_지역_Kurakhove and Izyum', '피해가_큰_지역_Zaporizhzhia and Izyum',\n",
            "       '피해가_큰_지역_Izyum', '피해가_큰_지역_Izyum, Novopavlivsk', '피해가_큰_지역_Popasna',\n",
            "       '피해가_큰_지역_Lyman and Kurakhove', '피해가_큰_지역_Slobozhanskyi',\n",
            "       '피해가_큰_지역_Novopavlivsk', '피해가_큰_지역_Avdiivka',\n",
            "       '피해가_큰_지역_Novopavlivsk, Kurakhove and Sievierodonetsk',\n",
            "       '피해가_큰_지역_Kurakhove', '피해가_큰_지역_Kurakhove and Avdiivka',\n",
            "       '피해가_큰_지역_Lyman and Zaporizhzhia',\n",
            "       '피해가_큰_지역_Sloviansk, Kryvyi Rih and Zaporizhzhia', '피해가_큰_지역_Bakhmut',\n",
            "       '피해가_큰_지역_Lyman', '피해가_큰_지역_Zaporizhzhia',\n",
            "       '피해가_큰_지역_Kryvyi Rih and Zaporizhzhia',\n",
            "       '피해가_큰_지역_Kryvyi Rih and Bakhmut', '피해가_큰_지역_Sloviansk',\n",
            "       '피해가_큰_지역_Kharkiv and Bakhmut', '피해가_큰_지역_Sievierodonetsk and Bakhmut',\n",
            "       '피해가_큰_지역_Sloviansk, Bakhmut and Kryvyi Rih',\n",
            "       '피해가_큰_지역_Bakhmut and Avdiivka',\n",
            "       '피해가_큰_지역_Sloviansk, Bakhmut and Avdiivka',\n",
            "       '피해가_큰_지역_Sloviansk and Bakhmut', '피해가_큰_지역_Bakhmut and Kurakhove',\n",
            "       '피해가_큰_지역_Kramatorsk and Bakhmut', '피해가_큰_지역_Sloviansk and Donetsk',\n",
            "       '피해가_큰_지역_Avdiivka and Bakhmut', '피해가_큰_지역_Kramatorsk',\n",
            "       '피해가_큰_지역_Mykolaiv', '피해가_큰_지역_Kryvyi Rih', '피해가_큰_지역_Donetsk',\n",
            "       '피해가_큰_지역_Donetsk and Kryvyi Rih', '피해가_큰_지역_Bakhmut and Kryvyi Rih',\n",
            "       '피해가_큰_지역_Bakhmut and Donetsk', '불확실한_사망자_about', '불확실한_사망자_more',\n",
            "       '전쟁_포로', '항공기', '헬리콥터', '탱크', '장갑차', '야포', '다중로켓발사기', '자동화기기', '연료탱크',\n",
            "       '드론', '해군함정', '방공포', '특수_장비', '크루즈_미사일'],\n",
            "      dtype='object')\n",
            "Test MAE : 220\n",
            "Test R2:-7.392995044961484\n",
            "\n",
            "57 features\n",
            "선택된 컬럼 이름 : selected_names Index(['개전일', '피해가_큰_지역_unknown area', '피해가_큰_지역_Sievierodonetsk',\n",
            "       '피해가_큰_지역_Kurakhove and Izyum', '피해가_큰_지역_Zaporizhzhia and Izyum',\n",
            "       '피해가_큰_지역_Izyum', '피해가_큰_지역_Izyum, Novopavlivsk', '피해가_큰_지역_Popasna',\n",
            "       '피해가_큰_지역_Lyman and Kurakhove', '피해가_큰_지역_Slobozhanskyi',\n",
            "       '피해가_큰_지역_Novopavlivsk', '피해가_큰_지역_Avdiivka',\n",
            "       '피해가_큰_지역_Novopavlivsk, Kurakhove and Sievierodonetsk',\n",
            "       '피해가_큰_지역_Kurakhove', '피해가_큰_지역_Kurakhove and Avdiivka',\n",
            "       '피해가_큰_지역_Lyman and Zaporizhzhia',\n",
            "       '피해가_큰_지역_Sloviansk, Kryvyi Rih and Zaporizhzhia', '피해가_큰_지역_Bakhmut',\n",
            "       '피해가_큰_지역_Lyman', '피해가_큰_지역_Zaporizhzhia',\n",
            "       '피해가_큰_지역_Kryvyi Rih and Zaporizhzhia',\n",
            "       '피해가_큰_지역_Kryvyi Rih and Bakhmut', '피해가_큰_지역_Sloviansk',\n",
            "       '피해가_큰_지역_Kharkiv and Bakhmut', '피해가_큰_지역_Sievierodonetsk and Bakhmut',\n",
            "       '피해가_큰_지역_Sloviansk, Bakhmut and Kryvyi Rih',\n",
            "       '피해가_큰_지역_Bakhmut and Avdiivka',\n",
            "       '피해가_큰_지역_Sloviansk, Bakhmut and Avdiivka',\n",
            "       '피해가_큰_지역_Sloviansk and Bakhmut', '피해가_큰_지역_Bakhmut and Kurakhove',\n",
            "       '피해가_큰_지역_Kramatorsk and Bakhmut', '피해가_큰_지역_Sloviansk and Donetsk',\n",
            "       '피해가_큰_지역_Avdiivka and Bakhmut', '피해가_큰_지역_Kramatorsk',\n",
            "       '피해가_큰_지역_Mykolaiv', '피해가_큰_지역_Kramatorsk, Kryvyi Rih and Bakhmut',\n",
            "       '피해가_큰_지역_Kryvyi Rih', '피해가_큰_지역_Donetsk',\n",
            "       '피해가_큰_지역_Donetsk and Kryvyi Rih', '피해가_큰_지역_Bakhmut and Kryvyi Rih',\n",
            "       '피해가_큰_지역_Bakhmut and Donetsk', '불확실한_사망자_about', '불확실한_사망자_more',\n",
            "       '전쟁_포로', '항공기', '헬리콥터', '탱크', '장갑차', '야포', '다중로켓발사기', '자동화기기', '연료탱크',\n",
            "       '드론', '해군함정', '방공포', '특수_장비', '크루즈_미사일'],\n",
            "      dtype='object')\n",
            "Test MAE : 234\n",
            "Test R2:-8.67354729224424\n",
            "\n",
            "58 features\n",
            "선택된 컬럼 이름 : selected_names Index(['개전일', '피해가_큰_지역_unknown area', '피해가_큰_지역_Sievierodonetsk',\n",
            "       '피해가_큰_지역_Kurakhove and Izyum', '피해가_큰_지역_Zaporizhzhia and Izyum',\n",
            "       '피해가_큰_지역_Izyum', '피해가_큰_지역_Izyum, Novopavlivsk', '피해가_큰_지역_Popasna',\n",
            "       '피해가_큰_지역_Lyman and Kurakhove', '피해가_큰_지역_Slobozhanskyi',\n",
            "       '피해가_큰_지역_Novopavlivsk', '피해가_큰_지역_Avdiivka',\n",
            "       '피해가_큰_지역_Novopavlivsk, Kurakhove and Sievierodonetsk',\n",
            "       '피해가_큰_지역_Kurakhove', '피해가_큰_지역_Kurakhove and Avdiivka',\n",
            "       '피해가_큰_지역_Bakhmut and Zaporizhzhia', '피해가_큰_지역_Lyman and Zaporizhzhia',\n",
            "       '피해가_큰_지역_Sloviansk, Kryvyi Rih and Zaporizhzhia', '피해가_큰_지역_Bakhmut',\n",
            "       '피해가_큰_지역_Lyman', '피해가_큰_지역_Zaporizhzhia',\n",
            "       '피해가_큰_지역_Kryvyi Rih and Zaporizhzhia',\n",
            "       '피해가_큰_지역_Kryvyi Rih and Bakhmut', '피해가_큰_지역_Sloviansk',\n",
            "       '피해가_큰_지역_Kharkiv and Bakhmut', '피해가_큰_지역_Sievierodonetsk and Bakhmut',\n",
            "       '피해가_큰_지역_Sloviansk, Bakhmut and Kryvyi Rih',\n",
            "       '피해가_큰_지역_Bakhmut and Avdiivka',\n",
            "       '피해가_큰_지역_Sloviansk, Bakhmut and Avdiivka',\n",
            "       '피해가_큰_지역_Sloviansk and Bakhmut', '피해가_큰_지역_Bakhmut and Kurakhove',\n",
            "       '피해가_큰_지역_Kramatorsk and Bakhmut', '피해가_큰_지역_Sloviansk and Donetsk',\n",
            "       '피해가_큰_지역_Avdiivka and Bakhmut', '피해가_큰_지역_Kramatorsk',\n",
            "       '피해가_큰_지역_Mykolaiv', '피해가_큰_지역_Kramatorsk, Kryvyi Rih and Bakhmut',\n",
            "       '피해가_큰_지역_Kryvyi Rih', '피해가_큰_지역_Donetsk',\n",
            "       '피해가_큰_지역_Donetsk and Kryvyi Rih', '피해가_큰_지역_Bakhmut and Kryvyi Rih',\n",
            "       '피해가_큰_지역_Bakhmut and Donetsk', '불확실한_사망자_about', '불확실한_사망자_more',\n",
            "       '전쟁_포로', '항공기', '헬리콥터', '탱크', '장갑차', '야포', '다중로켓발사기', '자동화기기', '연료탱크',\n",
            "       '드론', '해군함정', '방공포', '특수_장비', '크루즈_미사일'],\n",
            "      dtype='object')\n",
            "Test MAE : 257\n",
            "Test R2:-11.367754495663881\n",
            "\n",
            "59 features\n",
            "선택된 컬럼 이름 : selected_names Index(['개전일', '피해가_큰_지역_unknown area', '피해가_큰_지역_Sievierodonetsk',\n",
            "       '피해가_큰_지역_Kurakhove and Izyum', '피해가_큰_지역_Zaporizhzhia and Izyum',\n",
            "       '피해가_큰_지역_Izyum', '피해가_큰_지역_Izyum, Novopavlivsk', '피해가_큰_지역_Popasna',\n",
            "       '피해가_큰_지역_Lyman and Kurakhove', '피해가_큰_지역_Slobozhanskyi',\n",
            "       '피해가_큰_지역_Novopavlivsk', '피해가_큰_지역_Avdiivka',\n",
            "       '피해가_큰_지역_Novopavlivsk, Kurakhove and Sievierodonetsk',\n",
            "       '피해가_큰_지역_Kurakhove', '피해가_큰_지역_Kurakhove and Avdiivka',\n",
            "       '피해가_큰_지역_Bakhmut and Zaporizhzhia', '피해가_큰_지역_Lyman and Zaporizhzhia',\n",
            "       '피해가_큰_지역_Sloviansk, Kryvyi Rih and Zaporizhzhia', '피해가_큰_지역_Bakhmut',\n",
            "       '피해가_큰_지역_Lyman', '피해가_큰_지역_Zaporizhzhia',\n",
            "       '피해가_큰_지역_Kryvyi Rih and Zaporizhzhia',\n",
            "       '피해가_큰_지역_Kryvyi Rih and Bakhmut', '피해가_큰_지역_Sloviansk',\n",
            "       '피해가_큰_지역_Kharkiv and Bakhmut', '피해가_큰_지역_Sievierodonetsk and Bakhmut',\n",
            "       '피해가_큰_지역_Sloviansk, Bakhmut and Kryvyi Rih',\n",
            "       '피해가_큰_지역_Bakhmut and Avdiivka',\n",
            "       '피해가_큰_지역_Sloviansk, Bakhmut and Avdiivka',\n",
            "       '피해가_큰_지역_Sloviansk and Bakhmut', '피해가_큰_지역_Bakhmut and Kurakhove',\n",
            "       '피해가_큰_지역_Kramatorsk and Bakhmut', '피해가_큰_지역_Sloviansk and Donetsk',\n",
            "       '피해가_큰_지역_Avdiivka and Bakhmut', '피해가_큰_지역_Kramatorsk',\n",
            "       '피해가_큰_지역_Mykolaiv', '피해가_큰_지역_Kramatorsk, Kryvyi Rih and Bakhmut',\n",
            "       '피해가_큰_지역_Kryvyi Rih', '피해가_큰_지역_Donetsk',\n",
            "       '피해가_큰_지역_Donetsk and Kryvyi Rih', '피해가_큰_지역_Bakhmut and Kryvyi Rih',\n",
            "       '피해가_큰_지역_Bakhmut and Donetsk', '불확실한_사망자_about', '불확실한_사망자_more',\n",
            "       '전쟁_포로', '항공기', '헬리콥터', '탱크', '장갑차', '야포', '다중로켓발사기', '자동화기기', '연료탱크',\n",
            "       '드론', '해군함정', '방공포', '특수_장비', '탈것_및_연료탱크', '크루즈_미사일'],\n",
            "      dtype='object')\n",
            "Test MAE : 257\n",
            "Test R2:-11.429609053904661\n",
            "\n",
            "60 features\n",
            "선택된 컬럼 이름 : selected_names Index(['개전일', '피해가_큰_지역_unknown area', '피해가_큰_지역_Sievierodonetsk',\n",
            "       '피해가_큰_지역_Kurakhove and Izyum', '피해가_큰_지역_Zaporizhzhia and Izyum',\n",
            "       '피해가_큰_지역_Izyum', '피해가_큰_지역_Izyum, Novopavlivsk', '피해가_큰_지역_Popasna',\n",
            "       '피해가_큰_지역_Lyman and Kurakhove', '피해가_큰_지역_Slobozhanskyi',\n",
            "       '피해가_큰_지역_Novopavlivsk', '피해가_큰_지역_Avdiivka',\n",
            "       '피해가_큰_지역_Novopavlivsk, Kurakhove and Sievierodonetsk',\n",
            "       '피해가_큰_지역_Kurakhove', '피해가_큰_지역_Kurakhove and Avdiivka',\n",
            "       '피해가_큰_지역_Bakhmut and Zaporizhzhia', '피해가_큰_지역_Lyman and Zaporizhzhia',\n",
            "       '피해가_큰_지역_Sloviansk, Kryvyi Rih and Zaporizhzhia', '피해가_큰_지역_Bakhmut',\n",
            "       '피해가_큰_지역_Lyman', '피해가_큰_지역_Zaporizhzhia',\n",
            "       '피해가_큰_지역_Kryvyi Rih and Zaporizhzhia',\n",
            "       '피해가_큰_지역_Kryvyi Rih and Bakhmut', '피해가_큰_지역_Sloviansk',\n",
            "       '피해가_큰_지역_Kharkiv and Bakhmut', '피해가_큰_지역_Sievierodonetsk and Bakhmut',\n",
            "       '피해가_큰_지역_Sloviansk, Bakhmut and Kryvyi Rih',\n",
            "       '피해가_큰_지역_Bakhmut and Avdiivka',\n",
            "       '피해가_큰_지역_Sloviansk, Bakhmut and Avdiivka',\n",
            "       '피해가_큰_지역_Sloviansk and Bakhmut', '피해가_큰_지역_Bakhmut and Kurakhove',\n",
            "       '피해가_큰_지역_Kramatorsk and Bakhmut', '피해가_큰_지역_Sloviansk and Donetsk',\n",
            "       '피해가_큰_지역_Avdiivka and Bakhmut', '피해가_큰_지역_Kramatorsk',\n",
            "       '피해가_큰_지역_Mykolaiv', '피해가_큰_지역_Kramatorsk, Kryvyi Rih and Bakhmut',\n",
            "       '피해가_큰_지역_Kryvyi Rih', '피해가_큰_지역_Donetsk',\n",
            "       '피해가_큰_지역_Donetsk and Kryvyi Rih', '피해가_큰_지역_Bakhmut and Kryvyi Rih',\n",
            "       '피해가_큰_지역_Bakhmut and Donetsk', '불확실한_사망자_about', '불확실한_사망자_more',\n",
            "       '전쟁_포로', '항공기', '헬리콥터', '탱크', '장갑차', '야포', '다중로켓발사기', '자동화기기', '연료탱크',\n",
            "       '드론', '해군함정', '방공포', '특수_장비', '자동화_탄도_미사일', '탈것_및_연료탱크', '크루즈_미사일'],\n",
            "      dtype='object')\n",
            "Test MAE : 267\n",
            "Test R2:-12.433262562210164\n",
            "\n",
            "61 features\n",
            "선택된 컬럼 이름 : selected_names Index(['개전일', '피해가_큰_지역_unknown area', '피해가_큰_지역_Sievierodonetsk',\n",
            "       '피해가_큰_지역_Kurakhove and Izyum', '피해가_큰_지역_Zaporizhzhia and Izyum',\n",
            "       '피해가_큰_지역_Izyum', '피해가_큰_지역_Izyum, Novopavlivsk', '피해가_큰_지역_Popasna',\n",
            "       '피해가_큰_지역_Lyman and Kurakhove', '피해가_큰_지역_Slobozhanskyi',\n",
            "       '피해가_큰_지역_Novopavlivsk', '피해가_큰_지역_Avdiivka',\n",
            "       '피해가_큰_지역_Novopavlivsk, Kurakhove and Sievierodonetsk',\n",
            "       '피해가_큰_지역_Kurakhove', '피해가_큰_지역_Kurakhove and Avdiivka',\n",
            "       '피해가_큰_지역_Bakhmut and Zaporizhzhia', '피해가_큰_지역_Lyman and Zaporizhzhia',\n",
            "       '피해가_큰_지역_Sloviansk, Kryvyi Rih and Zaporizhzhia', '피해가_큰_지역_Bakhmut',\n",
            "       '피해가_큰_지역_Lyman', '피해가_큰_지역_Zaporizhzhia',\n",
            "       '피해가_큰_지역_Kryvyi Rih and Zaporizhzhia',\n",
            "       '피해가_큰_지역_Kryvyi Rih and Bakhmut', '피해가_큰_지역_Sloviansk',\n",
            "       '피해가_큰_지역_Kharkiv and Bakhmut', '피해가_큰_지역_Sievierodonetsk and Bakhmut',\n",
            "       '피해가_큰_지역_Bakhmut and Sievierodonetsk',\n",
            "       '피해가_큰_지역_Sloviansk, Bakhmut and Kryvyi Rih',\n",
            "       '피해가_큰_지역_Bakhmut and Avdiivka',\n",
            "       '피해가_큰_지역_Sloviansk, Bakhmut and Avdiivka',\n",
            "       '피해가_큰_지역_Sloviansk and Bakhmut', '피해가_큰_지역_Bakhmut and Kurakhove',\n",
            "       '피해가_큰_지역_Kramatorsk and Bakhmut', '피해가_큰_지역_Sloviansk and Donetsk',\n",
            "       '피해가_큰_지역_Avdiivka and Bakhmut', '피해가_큰_지역_Kramatorsk',\n",
            "       '피해가_큰_지역_Mykolaiv', '피해가_큰_지역_Kramatorsk, Kryvyi Rih and Bakhmut',\n",
            "       '피해가_큰_지역_Kryvyi Rih', '피해가_큰_지역_Donetsk',\n",
            "       '피해가_큰_지역_Donetsk and Kryvyi Rih', '피해가_큰_지역_Bakhmut and Kryvyi Rih',\n",
            "       '피해가_큰_지역_Bakhmut and Donetsk', '불확실한_사망자_about', '불확실한_사망자_more',\n",
            "       '전쟁_포로', '항공기', '헬리콥터', '탱크', '장갑차', '야포', '다중로켓발사기', '자동화기기', '연료탱크',\n",
            "       '드론', '해군함정', '방공포', '특수_장비', '자동화_탄도_미사일', '탈것_및_연료탱크', '크루즈_미사일'],\n",
            "      dtype='object')\n",
            "Test MAE : 270\n",
            "Test R2:-12.806480914210367\n",
            "\n",
            "62 features\n",
            "선택된 컬럼 이름 : selected_names Index(['개전일', '피해가_큰_지역_unknown area', '피해가_큰_지역_Sievierodonetsk',\n",
            "       '피해가_큰_지역_Kurakhove and Izyum', '피해가_큰_지역_Zaporizhzhia and Izyum',\n",
            "       '피해가_큰_지역_Izyum', '피해가_큰_지역_Izyum, Novopavlivsk', '피해가_큰_지역_Popasna',\n",
            "       '피해가_큰_지역_Lyman and Kurakhove', '피해가_큰_지역_Slobozhanskyi',\n",
            "       '피해가_큰_지역_Novopavlivsk', '피해가_큰_지역_Avdiivka',\n",
            "       '피해가_큰_지역_Novopavlivsk, Kurakhove and Sievierodonetsk',\n",
            "       '피해가_큰_지역_Kurakhove', '피해가_큰_지역_Kurakhove and Avdiivka',\n",
            "       '피해가_큰_지역_Bakhmut and Zaporizhzhia', '피해가_큰_지역_Lyman and Zaporizhzhia',\n",
            "       '피해가_큰_지역_Sloviansk, Kryvyi Rih and Zaporizhzhia', '피해가_큰_지역_Bakhmut',\n",
            "       '피해가_큰_지역_Lyman', '피해가_큰_지역_Avdiivka and Kryvyi Rih',\n",
            "       '피해가_큰_지역_Zaporizhzhia', '피해가_큰_지역_Kryvyi Rih and Zaporizhzhia',\n",
            "       '피해가_큰_지역_Kryvyi Rih and Bakhmut', '피해가_큰_지역_Sloviansk',\n",
            "       '피해가_큰_지역_Kharkiv and Bakhmut', '피해가_큰_지역_Sievierodonetsk and Bakhmut',\n",
            "       '피해가_큰_지역_Bakhmut and Sievierodonetsk',\n",
            "       '피해가_큰_지역_Sloviansk, Bakhmut and Kryvyi Rih',\n",
            "       '피해가_큰_지역_Bakhmut and Avdiivka',\n",
            "       '피해가_큰_지역_Sloviansk, Bakhmut and Avdiivka',\n",
            "       '피해가_큰_지역_Sloviansk and Bakhmut', '피해가_큰_지역_Bakhmut and Kurakhove',\n",
            "       '피해가_큰_지역_Kramatorsk and Bakhmut', '피해가_큰_지역_Sloviansk and Donetsk',\n",
            "       '피해가_큰_지역_Avdiivka and Bakhmut', '피해가_큰_지역_Kramatorsk',\n",
            "       '피해가_큰_지역_Mykolaiv', '피해가_큰_지역_Kramatorsk, Kryvyi Rih and Bakhmut',\n",
            "       '피해가_큰_지역_Kryvyi Rih', '피해가_큰_지역_Donetsk',\n",
            "       '피해가_큰_지역_Donetsk and Kryvyi Rih', '피해가_큰_지역_Bakhmut and Kryvyi Rih',\n",
            "       '피해가_큰_지역_Bakhmut and Donetsk', '불확실한_사망자_about', '불확실한_사망자_more',\n",
            "       '전쟁_포로', '항공기', '헬리콥터', '탱크', '장갑차', '야포', '다중로켓발사기', '자동화기기', '연료탱크',\n",
            "       '드론', '해군함정', '방공포', '특수_장비', '자동화_탄도_미사일', '탈것_및_연료탱크', '크루즈_미사일'],\n",
            "      dtype='object')\n",
            "Test MAE : 262\n",
            "Test R2:-11.697986203579038\n",
            "\n"
          ]
        }
      ]
    },
    {
      "cell_type": "code",
      "source": [
        "#-------------------------------------------------\n",
        "# 나온 값을 기반으로 그래프를 그려봅시다.\n",
        "# 필요한 라이브러리 import\n",
        "\n",
        "import matplotlib.pyplot as plt\n",
        "import seaborn as sns\n",
        "\n",
        "plt.plot(ks, training, label = 'Training Score', color='b')\n",
        "plt.plot(ks, testing, label = 'Testing Score', color='g')\n",
        "plt.ylabel('MAE')\n",
        "plt.xlabel('Number of Features')\n",
        "plt.title('Validation Curve')\n",
        "plt.legend()  \n",
        "plt.show()"
      ],
      "metadata": {
        "colab": {
          "base_uri": "https://localhost:8080/",
          "height": 295
        },
        "id": "MK0bUVIPZHd7",
        "outputId": "4bf48afb-9baf-486f-e124-dcf28940e9db"
      },
      "execution_count": 9,
      "outputs": [
        {
          "output_type": "display_data",
          "data": {
            "text/plain": [
              "<Figure size 432x288 with 1 Axes>"
            ],
            "image/png": "[encoded data removed]"
          },
          "metadata": {
            "needs_background": "light"
          }
        }
      ]
    },
    {
      "cell_type": "markdown",
      "source": [
        "\n",
        "* 훈련데이터의 경우 피처의 개수가 늘어남 or 줄어듬에 관계없이 MAE 값이 거의 일정합니다.\n",
        "\n",
        "* 반면에, 테스트 데이터의 경우 피처의 개수가 늘어나면 전체적으로 MAE값이 불규칙하게 높아집니다.\n",
        "\n",
        "❗ MAE는 scale에 의존적입니다, 에러의 크기 또한 크기를 그대로 반영하여, 실제값보다 낮은 값으로 예측되는 것인지, 실제보다 높은 값으로 예측되는 것인지 알 수 없습니다.\n",
        "\n",
        "❗ 훈련데이터의 값에 비하여 테스트 데이터의 MAE 값이 불규칙하게 상승합니다\n",
        "  'k'의 개수가 11~12개 정도가 적당해보입니다."
      ],
      "metadata": {
        "id": "xQnFpLo6aLoE"
      }
    },
    {
      "cell_type": "markdown",
      "source": [
        "#### 하지만 문제점이 생깁니다❗❗\n",
        "##😫 R2_score 값이 음수 입니다..!!\n",
        "#### 결과만 말하자면....우리가 사용하고 있는 데이터는 '쓰레기' 이고, 회귀분석을 이용하는데에 적합하지 않은 데이터라는 것입니다.\n"
      ],
      "metadata": {
        "id": "B_Z8Q_EQmzRo"
      }
    },
    {
      "cell_type": "markdown",
      "source": [
        "##Part 2. 쓰레기 데이터를 이용한 모델을 고쳐야합니다.\n",
        "> 정확한 예측을 진행하기 위해 먼저 기존 데이터에 대한 이상치 조정을 해보는 것도 하나의 방법일 것입니다....\n",
        "\n",
        "#### 나누지 않은 데이터의 히트맵을 통해 상관계수를 살펴봅시다.\n",
        "\n"
      ],
      "metadata": {
        "id": "UADWJm9ZnfGN"
      }
    },
    {
      "cell_type": "code",
      "source": [
        "# 히트맵에 한글이 깨지지 않게 도와주는 녀석들...\n",
        "\n",
        "!sudo apt-get install -y fonts-nanum\n",
        "!sudo fc-cache -fv\n",
        "!rm ~/.cache/matplotlib -rf"
      ],
      "metadata": {
        "colab": {
          "base_uri": "https://localhost:8080/"
        },
        "id": "1EbEKmsdFcXS",
        "outputId": "00f7e776-540a-4cb0-af21-1c4215f4f967"
      },
      "execution_count": 10,
      "outputs": [
        {
          "output_type": "stream",
          "name": "stdout",
          "text": [
            "Reading package lists... Done\n",
            "Building dependency tree       \n",
            "Reading state information... Done\n",
            "fonts-nanum is already the newest version (20170925-1).\n",
            "The following package was automatically installed and is no longer required:\n",
            "  libnvidia-common-460\n",
            "Use 'sudo apt autoremove' to remove it.\n",
            "0 upgraded, 0 newly installed, 0 to remove and 49 not upgraded.\n",
            "/usr/share/fonts: caching, new cache contents: 0 fonts, 1 dirs\n",
            "/usr/share/fonts/truetype: caching, new cache contents: 0 fonts, 3 dirs\n",
            "/usr/share/fonts/truetype/humor-sans: caching, new cache contents: 1 fonts, 0 dirs\n",
            "/usr/share/fonts/truetype/liberation: caching, new cache contents: 16 fonts, 0 dirs\n",
            "/usr/share/fonts/truetype/nanum: caching, new cache contents: 31 fonts, 0 dirs\n",
            "/usr/local/share/fonts: caching, new cache contents: 0 fonts, 0 dirs\n",
            "/root/.local/share/fonts: skipping, no such directory\n",
            "/root/.fonts: skipping, no such directory\n",
            "/var/cache/fontconfig: cleaning cache directory\n",
            "/root/.cache/fontconfig: not cleaning non-existent cache directory\n",
            "/root/.fontconfig: not cleaning non-existent cache directory\n",
            "fc-cache: succeeded\n"
          ]
        }
      ]
    },
    {
      "cell_type": "code",
      "source": [
        "#한글 폰트 지정(나눔)\n",
        "\n",
        "\n",
        "plt.figure(figsize=(14,10))\n",
        "\n",
        "plt.rc('font', family='NanumBarunGothic') \n",
        "sns.heatmap(df.corr(), cmap = 'Blues', annot = True)\n",
        "plt.title('Correlation Matrix')\n",
        "\n",
        "\n",
        "plt.show()\n"
      ],
      "metadata": {
        "id": "nDDSrtuoi--u",
        "outputId": "949626f6-e714-486a-a20f-386ea1e271b4",
        "colab": {
          "base_uri": "https://localhost:8080/",
          "height": 750
        }
      },
      "execution_count": 11,
      "outputs": [
        {
          "output_type": "stream",
          "name": "stderr",
          "text": [
            "/usr/local/lib/python3.7/dist-packages/matplotlib/backends/backend_agg.py:214: RuntimeWarning: Glyph 8722 missing from current font.\n",
            "  font.set_text(s, 0.0, flags=flags)\n",
            "/usr/local/lib/python3.7/dist-packages/matplotlib/backends/backend_agg.py:183: RuntimeWarning: Glyph 8722 missing from current font.\n",
            "  font.set_text(s, 0, flags=flags)\n"
          ]
        },
        {
          "output_type": "display_data",
          "data": {
            "text/plain": [
              "<Figure size 1008x720 with 2 Axes>"
            ],
            "image/png": "[encoded data removed]"
          },
          "metadata": {
            "needs_background": "light"
          }
        }
      ]
    },
    {
      "cell_type": "markdown",
      "source": [
        "###Part 2-1. 이상치 조정하기.\n",
        "> 아웃라이어를 제거하여 좀 더 정확한 예측을 할 수 있게 살펴봅시다.\n",
        "IQR Method를 사용하여 이상치를 찾고, 데이터를 제거하여 봅시다."
      ],
      "metadata": {
        "id": "Rr4H6wPWm2nN"
      }
    },
    {
      "cell_type": "code",
      "source": [
        "# 이상치를 확인하기 한 plot 함수 생성\n",
        "# 확인해보고자 하는 df와 col 입력하기.\n",
        "\n",
        "def plots(df, col):\n",
        "  # 총 2개의 그래프를 같이볼 것입니다. (1행 2열)\n",
        "  fig, ax = plt.subplots(1,2, figsize= (10,4))\n",
        "  \n",
        "\n",
        "  # 컬럼명 : 한글을 제대로 출력하기 위한 설정 참고\n",
        "  plt.rc('font', family='NanumBarunGothic') \n",
        "\n",
        "\n",
        "  # 첫번째 그래프는 hist 타입\n",
        "  ax[0].hist(df[col])\n",
        "  ax[0].set_title(col + 'hist')\n",
        "\n",
        "\n",
        "  # 두번째 그래프는 boxplot 타입\n",
        "  ax[1].boxplot(df[col])\n",
        "  ax[1].set_title(col + 'boxplot')\n",
        "  plt.show()\n",
        "  print('\\n')\n",
        "  print(f'{col}에 대한 고유값들의 개수 : \\n  {df[col].value_counts(ascending=True)}')\n",
        "\n",
        "\n",
        "\n",
        "# 확인 된 이후의 제거된 아웃라이어를 출력하는 함수\n",
        "def modified_plots(col, num):\n",
        "  \n",
        "  # 이상치 조정 (제거)\n",
        "  # global : 전역변수를 지역변수에 사용하고자 할 때 global로 지정한다.\n",
        "\n",
        "  global df_clean, df\n",
        "  df_clean = df_clean[df_clean[col] < num] \n",
        "  \n",
        "  # 데이터 확인\n",
        "  plots(df_clean, f'{col}')\n",
        "  \n",
        "  # 제거한 아웃라이어의 개수\n",
        "  print('제거한 아웃라이어의 개수 {}' .format(len(df) - len(df_clean)))"
      ],
      "metadata": {
        "id": "xYgoIbdUnAZH"
      },
      "execution_count": 12,
      "outputs": []
    },
    {
      "cell_type": "code",
      "source": [
        "df.columns"
      ],
      "metadata": {
        "id": "CRFPWTjLm8fs",
        "outputId": "17712acb-1525-4941-d4b6-8ca2ea7820be",
        "colab": {
          "base_uri": "https://localhost:8080/"
        }
      },
      "execution_count": 13,
      "outputs": [
        {
          "output_type": "execute_result",
          "data": {
            "text/plain": [
              "Index(['날짜', '개전일', '피해가_큰_지역', '불확실한_사망자', '사망자_수', '전쟁_포로', '항공기', '헬리콥터',\n",
              "       '탱크', '장갑차', '야포', '다중로켓발사기', '자동화기기', '연료탱크', '드론', '해군함정', '방공포',\n",
              "       '특수_장비', '자동화_탄도_미사일', '탈것_및_연료탱크', '크루즈_미사일'],\n",
              "      dtype='object')"
            ]
          },
          "metadata": {},
          "execution_count": 13
        }
      ]
    },
    {
      "cell_type": "markdown",
      "source": [
        "> 개전일은 개전일 수만 포함되어 있습니다, '날짜' 또한 영향이 없을 것 같습니다... </br>\n",
        "  불확실한 사망자 또한 지난 번 데이터 분석을 통해 이상치 탐지를 진행할 필요가 없을 것 같습니다. </br>\n",
        " \n",
        " * 필요한 것들만 골라 이상치 탐지를 진행하여 봅시다.\n",
        "\n",
        "\n"
      ],
      "metadata": {
        "id": "Dbji38FStpCM"
      }
    },
    {
      "cell_type": "markdown",
      "source": [
        "---\n",
        "[참고] : 확인하지 않은 컬럼 </br>\n",
        "* 날짜 : 전쟁이 일어난 날짜 </br>\n",
        "* 개전일 : 전쟁이 일어난 일 수를 작성한 컬럼 </br>\n",
        "* 이외에 명목형 변수들을 값으로 가진 컬럼은 제외하였습니다. </br>\n",
        "* 또한 정제된 데이터는 기존의 원본 데이터에서 따로 관리합니다(copy)"
      ],
      "metadata": {
        "id": "7Pv6LN13V351"
      }
    },
    {
      "cell_type": "code",
      "source": [
        "import copy\n",
        "df_clean = df.copy()"
      ],
      "metadata": {
        "id": "qFzz3v2Yc2Zz"
      },
      "execution_count": 14,
      "outputs": []
    },
    {
      "cell_type": "markdown",
      "source": [
        "#### Part 2-1-1. 전쟁포로 이상치 조정\n",
        "❗ 이상치를 확인하는 plot 그래프는 모두 삭제했습니다."
      ],
      "metadata": {
        "id": "ZFLwuAolZUTL"
      }
    },
    {
      "cell_type": "markdown",
      "source": [
        " 🔰 전쟁_포로"
      ],
      "metadata": {
        "id": "JgpWW89HmB2K"
      }
    },
    {
      "cell_type": "code",
      "source": [
        "plots(df_clean, '전쟁_포로')"
      ],
      "metadata": {
        "colab": {
          "base_uri": "https://localhost:8080/",
          "height": 625
        },
        "id": "UR0EtMIvkcKx",
        "outputId": "ddd2ffb9-c271-43b2-f806-65f0b8a79dbf"
      },
      "execution_count": 15,
      "outputs": [
        {
          "output_type": "display_data",
          "data": {
            "text/plain": [
              "<Figure size 720x288 with 2 Axes>"
            ],
            "image/png": "[encoded data removed]"
          },
          "metadata": {
            "needs_background": "light"
          }
        },
        {
          "output_type": "stream",
          "name": "stdout",
          "text": [
            "\n",
            "\n",
            "전쟁_포로에 대한 고유값들의 개수 : \n",
            "  200      1\n",
            "27       1\n",
            "25       1\n",
            "76       1\n",
            "11       1\n",
            "18       1\n",
            "6        1\n",
            "29       1\n",
            "10       1\n",
            "12       1\n",
            "1        2\n",
            "9        2\n",
            "7        2\n",
            "16       3\n",
            "0      172\n",
            "Name: 전쟁_포로, dtype: int64\n"
          ]
        }
      ]
    },
    {
      "cell_type": "code",
      "source": [
        "# 이상치 조정 (제거)\n",
        "df_clean = df_clean[df_clean['전쟁_포로'] < 76] \n",
        "\n",
        "# 데이터 확인\n",
        "plots(df_clean, '전쟁_포로')\n",
        "\n",
        "# 제거한 아웃라이어의 개수\n",
        "print('제거한 아웃라이어의 개수 {}' .format(len(df) - len(df_clean)))"
      ],
      "metadata": {
        "colab": {
          "base_uri": "https://localhost:8080/",
          "height": 607
        },
        "id": "SuthqvITW2tP",
        "outputId": "1beba193-90b3-4ce8-87f5-f16eda0625a2"
      },
      "execution_count": 16,
      "outputs": [
        {
          "output_type": "display_data",
          "data": {
            "text/plain": [
              "<Figure size 720x288 with 2 Axes>"
            ],
            "image/png": "[encoded data removed]"
          },
          "metadata": {
            "needs_background": "light"
          }
        },
        {
          "output_type": "stream",
          "name": "stdout",
          "text": [
            "\n",
            "\n",
            "전쟁_포로에 대한 고유값들의 개수 : \n",
            "  27      1\n",
            "25      1\n",
            "11      1\n",
            "18      1\n",
            "6       1\n",
            "29      1\n",
            "10      1\n",
            "12      1\n",
            "1       2\n",
            "9       2\n",
            "7       2\n",
            "16      3\n",
            "0     172\n",
            "Name: 전쟁_포로, dtype: int64\n",
            "제거한 아웃라이어의 개수 2\n"
          ]
        }
      ]
    },
    {
      "cell_type": "markdown",
      "source": [
        " 🔰 항공기"
      ],
      "metadata": {
        "id": "h_Us9DOZmJaB"
      }
    },
    {
      "cell_type": "code",
      "source": [
        "plots(df_clean, '항공기')"
      ],
      "metadata": {
        "id": "10EY2lMWkh70",
        "colab": {
          "base_uri": "https://localhost:8080/",
          "height": 589
        },
        "outputId": "12afaaaa-9142-48b6-a0d3-e52b76133c31"
      },
      "execution_count": 17,
      "outputs": [
        {
          "output_type": "display_data",
          "data": {
            "text/plain": [
              "<Figure size 720x288 with 2 Axes>"
            ],
            "image/png": "[encoded data removed]"
          },
          "metadata": {
            "needs_background": "light"
          }
        },
        {
          "output_type": "stream",
          "name": "stdout",
          "text": [
            "\n",
            "\n",
            "항공기에 대한 고유값들의 개수 : \n",
            "  10      1\n",
            "17      1\n",
            "6       1\n",
            "5       1\n",
            "16      1\n",
            "9       1\n",
            "8       2\n",
            "7       3\n",
            "4       7\n",
            "3       8\n",
            "2      25\n",
            "1      32\n",
            "0     106\n",
            "Name: 항공기, dtype: int64\n"
          ]
        }
      ]
    },
    {
      "cell_type": "code",
      "source": [
        "# 항공기 컬럼에 대한 이상치 조정\n",
        "df_clean = df_clean[df_clean['항공기'] < 16]\n",
        "\n",
        "# 제거된 아웃라이어 : 원본 데이터와 크기 비교 \n",
        "print('제거된 아웃라이어의 개수 {}' .format(len(df) - len(df_clean)))"
      ],
      "metadata": {
        "id": "LFkH_O_HcIqu",
        "colab": {
          "base_uri": "https://localhost:8080/"
        },
        "outputId": "944d8c2e-9cb6-4ba0-c3dc-38ba7ceb2e6a"
      },
      "execution_count": 18,
      "outputs": [
        {
          "output_type": "stream",
          "name": "stdout",
          "text": [
            "제거된 아웃라이어의 개수 4\n"
          ]
        }
      ]
    },
    {
      "cell_type": "markdown",
      "source": [
        " 🔰 탱크"
      ],
      "metadata": {
        "id": "hfcnXh0AlKaX"
      }
    },
    {
      "cell_type": "code",
      "source": [
        "plots(df_clean, '탱크')"
      ],
      "metadata": {
        "id": "T-IqSQLyklMM",
        "colab": {
          "base_uri": "https://localhost:8080/",
          "height": 915
        },
        "outputId": "9ca41276-0e50-4207-e30f-594fcdd046d3"
      },
      "execution_count": 19,
      "outputs": [
        {
          "output_type": "display_data",
          "data": {
            "text/plain": [
              "<Figure size 720x288 with 2 Axes>"
            ],
            "image/png": "[encoded data removed]"
          },
          "metadata": {
            "needs_background": "light"
          }
        },
        {
          "output_type": "stream",
          "name": "stdout",
          "text": [
            "\n",
            "\n",
            "탱크에 대한 고유값들의 개수 : \n",
            "  80     1\n",
            "29     1\n",
            "35     1\n",
            "26     1\n",
            "23     1\n",
            "34     2\n",
            "20     2\n",
            "25     2\n",
            "21     2\n",
            "19     2\n",
            "31     2\n",
            "1      3\n",
            "22     3\n",
            "17     3\n",
            "12     4\n",
            "0      5\n",
            "16     5\n",
            "13     6\n",
            "18     6\n",
            "10     7\n",
            "2      8\n",
            "11     8\n",
            "14     8\n",
            "15     9\n",
            "6     10\n",
            "9     11\n",
            "8     13\n",
            "7     14\n",
            "4     14\n",
            "5     15\n",
            "3     18\n",
            "Name: 탱크, dtype: int64\n"
          ]
        }
      ]
    },
    {
      "cell_type": "code",
      "source": [
        "# 탱크 컬럼에 대한 이상치 조정\n",
        "df_clean = df_clean[df_clean['탱크'] < 40]\n",
        "\n",
        "# 제거된 아웃라이어 개수 비교  ❗ 현재 누적값으로 처리되고 있으며 1개가 제거되었으므로 차이나는 개수는 총 5개여야 합니다.\n",
        "print('제거된 아웃라이어의 개수 {}' .format(len(df) - len(df_clean)))"
      ],
      "metadata": {
        "colab": {
          "base_uri": "https://localhost:8080/"
        },
        "id": "81Lm8IKhnCex",
        "outputId": "cf956b6f-df5c-4f9e-8739-51723e103755"
      },
      "execution_count": 20,
      "outputs": [
        {
          "output_type": "stream",
          "name": "stdout",
          "text": [
            "제거된 아웃라이어의 개수 5\n"
          ]
        }
      ]
    },
    {
      "cell_type": "markdown",
      "source": [
        " 🔰 장갑차\n",
        " "
      ],
      "metadata": {
        "id": "Jb9yIqrgmY77"
      }
    },
    {
      "cell_type": "code",
      "source": [
        "plots(df_clean, '장갑차')"
      ],
      "metadata": {
        "id": "PbJAR_4Qkn7S",
        "colab": {
          "base_uri": "https://localhost:8080/",
          "height": 1000
        },
        "outputId": "9e4de661-ba53-434b-eb88-8cbe89620a01"
      },
      "execution_count": 21,
      "outputs": [
        {
          "output_type": "display_data",
          "data": {
            "text/plain": [
              "<Figure size 720x288 with 2 Axes>"
            ],
            "image/png": "[encoded data removed]"
          },
          "metadata": {
            "needs_background": "light"
          }
        },
        {
          "output_type": "stream",
          "name": "stdout",
          "text": [
            "\n",
            "\n",
            "장갑차에 대한 고유값들의 개수 : \n",
            "  2       1\n",
            "50      1\n",
            "54      1\n",
            "47      1\n",
            "29      1\n",
            "96      1\n",
            "31      1\n",
            "110     1\n",
            "38      1\n",
            "21      2\n",
            "43      2\n",
            "33      2\n",
            "1       2\n",
            "39      2\n",
            "40      2\n",
            "26      2\n",
            "41      2\n",
            "60      2\n",
            "37      2\n",
            "44      2\n",
            "19      3\n",
            "15      3\n",
            "24      3\n",
            "30      3\n",
            "23      3\n",
            "35      3\n",
            "27      4\n",
            "9       4\n",
            "5       4\n",
            "34      4\n",
            "10      4\n",
            "0       4\n",
            "48      4\n",
            "20      4\n",
            "22      4\n",
            "25      5\n",
            "3       5\n",
            "7       5\n",
            "28      5\n",
            "18      6\n",
            "4       6\n",
            "14      6\n",
            "11      6\n",
            "17      7\n",
            "13      7\n",
            "6       8\n",
            "16      9\n",
            "12     10\n",
            "8      16\n",
            "Name: 장갑차, dtype: int64\n"
          ]
        }
      ]
    },
    {
      "cell_type": "code",
      "source": [
        "# 장갑차 컬럼에 대한 이상치 조정\n",
        "df_clean = df_clean[df_clean['장갑차'] < 60]\n",
        "\n",
        "plots(df_clean, '장갑차')\n",
        "\n",
        "# 제거된 아웃라이어 (차이)\n",
        "print('제거된 아웃라이어의 개수 {}' .format(len(df) - len(df_clean)))"
      ],
      "metadata": {
        "colab": {
          "base_uri": "https://localhost:8080/",
          "height": 1000
        },
        "id": "P1n5phUVnTFj",
        "outputId": "89a95e08-f74b-45be-ea94-ff86934c46bf"
      },
      "execution_count": 22,
      "outputs": [
        {
          "output_type": "display_data",
          "data": {
            "text/plain": [
              "<Figure size 720x288 with 2 Axes>"
            ],
            "image/png": "[encoded data removed]"
          },
          "metadata": {
            "needs_background": "light"
          }
        },
        {
          "output_type": "stream",
          "name": "stdout",
          "text": [
            "\n",
            "\n",
            "장갑차에 대한 고유값들의 개수 : \n",
            "  54     1\n",
            "29     1\n",
            "47     1\n",
            "50     1\n",
            "31     1\n",
            "2      1\n",
            "38     1\n",
            "21     2\n",
            "41     2\n",
            "44     2\n",
            "26     2\n",
            "43     2\n",
            "33     2\n",
            "39     2\n",
            "40     2\n",
            "1      2\n",
            "37     2\n",
            "19     3\n",
            "15     3\n",
            "24     3\n",
            "30     3\n",
            "23     3\n",
            "35     3\n",
            "20     4\n",
            "34     4\n",
            "0      4\n",
            "27     4\n",
            "9      4\n",
            "10     4\n",
            "48     4\n",
            "5      4\n",
            "22     4\n",
            "3      5\n",
            "7      5\n",
            "28     5\n",
            "25     5\n",
            "11     6\n",
            "14     6\n",
            "4      6\n",
            "18     6\n",
            "17     7\n",
            "13     7\n",
            "6      8\n",
            "16     9\n",
            "12    10\n",
            "8     16\n",
            "Name: 장갑차, dtype: int64\n",
            "제거된 아웃라이어의 개수 9\n"
          ]
        }
      ]
    },
    {
      "cell_type": "markdown",
      "source": [
        " 🔰 야포"
      ],
      "metadata": {
        "id": "YZ55oGL5mbia"
      }
    },
    {
      "cell_type": "code",
      "source": [
        "plots(df_clean, '야포')"
      ],
      "metadata": {
        "id": "nhX2UsOHkrD9",
        "colab": {
          "base_uri": "https://localhost:8080/",
          "height": 734
        },
        "outputId": "37534713-98f3-44c2-fb88-c09fb0b7f367"
      },
      "execution_count": 23,
      "outputs": [
        {
          "output_type": "display_data",
          "data": {
            "text/plain": [
              "<Figure size 720x288 with 2 Axes>"
            ],
            "image/png": "[encoded data removed]"
          },
          "metadata": {
            "needs_background": "light"
          }
        },
        {
          "output_type": "stream",
          "name": "stdout",
          "text": [
            "\n",
            "\n",
            "야포에 대한 고유값들의 개수 : \n",
            "  24     1\n",
            "14     1\n",
            "22     1\n",
            "19     1\n",
            "17     2\n",
            "13     2\n",
            "12     3\n",
            "15     3\n",
            "16     3\n",
            "11     4\n",
            "9      7\n",
            "10     8\n",
            "7      8\n",
            "6     12\n",
            "8     12\n",
            "0     14\n",
            "2     15\n",
            "1     17\n",
            "3     22\n",
            "4     22\n",
            "5     24\n",
            "Name: 야포, dtype: int64\n"
          ]
        }
      ]
    },
    {
      "cell_type": "code",
      "source": [
        "# 이상치 제거\n",
        "df_clean = df_clean[df_clean['야포'] < 22]\n",
        "\n",
        "plots(df_clean, '야포')\n",
        "\n",
        "# 제거되고 난 이후의 아웃라이어 확인하기.\n",
        "print('제거된 아웃라이어의 총 개수 {} '.format(len(df) - len(df_clean)))"
      ],
      "metadata": {
        "colab": {
          "base_uri": "https://localhost:8080/",
          "height": 716
        },
        "id": "rKzERbXFpMvP",
        "outputId": "6afbdb98-51bd-4c0d-efb4-5e17189a4113"
      },
      "execution_count": 24,
      "outputs": [
        {
          "output_type": "display_data",
          "data": {
            "text/plain": [
              "<Figure size 720x288 with 2 Axes>"
            ],
            "image/png": "[encoded data removed]"
          },
          "metadata": {
            "needs_background": "light"
          }
        },
        {
          "output_type": "stream",
          "name": "stdout",
          "text": [
            "\n",
            "\n",
            "야포에 대한 고유값들의 개수 : \n",
            "  19     1\n",
            "14     1\n",
            "13     2\n",
            "17     2\n",
            "16     3\n",
            "12     3\n",
            "15     3\n",
            "11     4\n",
            "9      7\n",
            "10     8\n",
            "7      8\n",
            "6     12\n",
            "8     12\n",
            "0     14\n",
            "2     15\n",
            "1     17\n",
            "3     22\n",
            "4     22\n",
            "5     24\n",
            "Name: 야포, dtype: int64\n",
            "제거된 아웃라이어의 총 개수 11 \n"
          ]
        }
      ]
    },
    {
      "cell_type": "code",
      "source": [
        "plots(df_clean, '다중로켓발사기')"
      ],
      "metadata": {
        "colab": {
          "base_uri": "https://localhost:8080/",
          "height": 570
        },
        "id": "Z1M9TB2CgsSQ",
        "outputId": "d9d817fb-4bea-4e6a-8a4f-bbb3c0dccb8a"
      },
      "execution_count": 25,
      "outputs": [
        {
          "output_type": "display_data",
          "data": {
            "text/plain": [
              "<Figure size 720x288 with 2 Axes>"
            ],
            "image/png": "[encoded data removed]"
          },
          "metadata": {
            "needs_background": "light"
          }
        },
        {
          "output_type": "stream",
          "name": "stdout",
          "text": [
            "\n",
            "\n",
            "다중로켓발사기에 대한 고유값들의 개수 : \n",
            "  16     1\n",
            "10     1\n",
            "9      1\n",
            "8      2\n",
            "7      2\n",
            "5      3\n",
            "6      7\n",
            "4      7\n",
            "3     10\n",
            "1     21\n",
            "2     28\n",
            "0     97\n",
            "Name: 다중로켓발사기, dtype: int64\n"
          ]
        }
      ]
    },
    {
      "cell_type": "code",
      "source": [
        "modified_plots('다중로켓발사기', 16)"
      ],
      "metadata": {
        "colab": {
          "base_uri": "https://localhost:8080/",
          "height": 570
        },
        "id": "WnF644e2gvSr",
        "outputId": "b1577fcc-70a2-45ce-9531-771d150fb3eb"
      },
      "execution_count": 26,
      "outputs": [
        {
          "output_type": "display_data",
          "data": {
            "text/plain": [
              "<Figure size 720x288 with 2 Axes>"
            ],
            "image/png": "[encoded data removed]"
          },
          "metadata": {
            "needs_background": "light"
          }
        },
        {
          "output_type": "stream",
          "name": "stdout",
          "text": [
            "\n",
            "\n",
            "다중로켓발사기에 대한 고유값들의 개수 : \n",
            "  10     1\n",
            "9      1\n",
            "8      2\n",
            "7      2\n",
            "5      3\n",
            "6      7\n",
            "4      7\n",
            "3     10\n",
            "1     21\n",
            "2     28\n",
            "0     97\n",
            "Name: 다중로켓발사기, dtype: int64\n",
            "제거한 아웃라이어의 개수 12\n"
          ]
        }
      ]
    },
    {
      "cell_type": "markdown",
      "source": [
        "🔰 자동화기기\n"
      ],
      "metadata": {
        "id": "FuYsjwfbmk_A"
      }
    },
    {
      "cell_type": "code",
      "source": [
        "plots(df_clean, '자동화기기')"
      ],
      "metadata": {
        "colab": {
          "base_uri": "https://localhost:8080/",
          "height": 970
        },
        "id": "xx8mEhg3i0kP",
        "outputId": "35014e10-5558-49ed-9a99-1a1d5118a792"
      },
      "execution_count": 27,
      "outputs": [
        {
          "output_type": "display_data",
          "data": {
            "text/plain": [
              "<Figure size 720x288 with 2 Axes>"
            ],
            "image/png": "[encoded data removed]"
          },
          "metadata": {
            "needs_background": "light"
          }
        },
        {
          "output_type": "stream",
          "name": "stdout",
          "text": [
            "\n",
            "\n",
            "자동화기기에 대한 고유값들의 개수 : \n",
            "  77      1\n",
            "24      1\n",
            "28      1\n",
            "34      1\n",
            "42      1\n",
            "56      1\n",
            "25      1\n",
            "14      1\n",
            "31      1\n",
            "49      1\n",
            "35      1\n",
            "33      1\n",
            "27      1\n",
            "44      1\n",
            "38      1\n",
            "5       1\n",
            "30      1\n",
            "4       1\n",
            "21      1\n",
            "9       2\n",
            "17      2\n",
            "22      2\n",
            "20      2\n",
            "7       2\n",
            "3       2\n",
            "16      2\n",
            "2       2\n",
            "8       3\n",
            "13      3\n",
            "15      3\n",
            "23      3\n",
            "19      3\n",
            "6       4\n",
            "0     125\n",
            "Name: 자동화기기, dtype: int64\n"
          ]
        }
      ]
    },
    {
      "cell_type": "code",
      "source": [
        "modified_plots('자동화기기', 56)"
      ],
      "metadata": {
        "colab": {
          "base_uri": "https://localhost:8080/",
          "height": 952
        },
        "id": "nk0hMLjAM5Vb",
        "outputId": "5f85560f-c596-453e-c024-e28fa3dd41f9"
      },
      "execution_count": 28,
      "outputs": [
        {
          "output_type": "display_data",
          "data": {
            "text/plain": [
              "<Figure size 720x288 with 2 Axes>"
            ],
            "image/png": "[encoded data removed]"
          },
          "metadata": {
            "needs_background": "light"
          }
        },
        {
          "output_type": "stream",
          "name": "stdout",
          "text": [
            "\n",
            "\n",
            "자동화기기에 대한 고유값들의 개수 : \n",
            "  31      1\n",
            "21      1\n",
            "34      1\n",
            "49      1\n",
            "24      1\n",
            "28      1\n",
            "42      1\n",
            "25      1\n",
            "4       1\n",
            "33      1\n",
            "35      1\n",
            "14      1\n",
            "27      1\n",
            "44      1\n",
            "30      1\n",
            "38      1\n",
            "5       1\n",
            "7       2\n",
            "17      2\n",
            "22      2\n",
            "9       2\n",
            "20      2\n",
            "3       2\n",
            "16      2\n",
            "2       2\n",
            "19      3\n",
            "23      3\n",
            "13      3\n",
            "8       3\n",
            "15      3\n",
            "6       4\n",
            "0     125\n",
            "Name: 자동화기기, dtype: int64\n",
            "제거한 아웃라이어의 개수 14\n"
          ]
        }
      ]
    },
    {
      "cell_type": "markdown",
      "source": [
        "🔰 연료탱크\n"
      ],
      "metadata": {
        "id": "KSafmQBKmmtA"
      }
    },
    {
      "cell_type": "code",
      "source": [
        "plots(df_clean, '연료탱크')"
      ],
      "metadata": {
        "colab": {
          "base_uri": "https://localhost:8080/",
          "height": 425
        },
        "id": "wKUyck64Savo",
        "outputId": "3d343b44-f73e-41dc-ae85-ef717c8cfc99"
      },
      "execution_count": 29,
      "outputs": [
        {
          "output_type": "display_data",
          "data": {
            "text/plain": [
              "<Figure size 720x288 with 2 Axes>"
            ],
            "image/png": "[encoded data removed]"
          },
          "metadata": {
            "needs_background": "light"
          }
        },
        {
          "output_type": "stream",
          "name": "stdout",
          "text": [
            "\n",
            "\n",
            "연료탱크에 대한 고유값들의 개수 : \n",
            "  10      1\n",
            "2       2\n",
            "1       2\n",
            "0     172\n",
            "Name: 연료탱크, dtype: int64\n"
          ]
        }
      ]
    },
    {
      "cell_type": "code",
      "source": [
        "modified_plots('연료탱크', 10)"
      ],
      "metadata": {
        "colab": {
          "base_uri": "https://localhost:8080/",
          "height": 425
        },
        "id": "zDv9BgV1Sl04",
        "outputId": "8c86301a-f3dc-44ed-e99a-c1ddd4deb11f"
      },
      "execution_count": 30,
      "outputs": [
        {
          "output_type": "display_data",
          "data": {
            "text/plain": [
              "<Figure size 720x288 with 2 Axes>"
            ],
            "image/png": "[encoded data removed]"
          },
          "metadata": {
            "needs_background": "light"
          }
        },
        {
          "output_type": "stream",
          "name": "stdout",
          "text": [
            "\n",
            "\n",
            "연료탱크에 대한 고유값들의 개수 : \n",
            "  2      2\n",
            "1      2\n",
            "0    172\n",
            "Name: 연료탱크, dtype: int64\n",
            "제거한 아웃라이어의 개수 15\n"
          ]
        }
      ]
    },
    {
      "cell_type": "markdown",
      "source": [
        "🔰 드론"
      ],
      "metadata": {
        "id": "6Qgb2pSfmoBn"
      }
    },
    {
      "cell_type": "code",
      "source": [
        "plots(df_clean, '드론')"
      ],
      "metadata": {
        "colab": {
          "base_uri": "https://localhost:8080/",
          "height": 716
        },
        "id": "qr9CYZoESjKN",
        "outputId": "9f0b0e00-af50-4a98-ac9f-0b3cc950bd95"
      },
      "execution_count": 31,
      "outputs": [
        {
          "output_type": "display_data",
          "data": {
            "text/plain": [
              "<Figure size 720x288 with 2 Axes>"
            ],
            "image/png": "[encoded data removed]"
          },
          "metadata": {
            "needs_background": "light"
          }
        },
        {
          "output_type": "stream",
          "name": "stdout",
          "text": [
            "\n",
            "\n",
            "드론에 대한 고유값들의 개수 : \n",
            "  15     1\n",
            "20     1\n",
            "26     1\n",
            "13     1\n",
            "19     1\n",
            "17     2\n",
            "12     2\n",
            "14     3\n",
            "11     3\n",
            "9      6\n",
            "7      7\n",
            "10     9\n",
            "8      9\n",
            "5     10\n",
            "6     12\n",
            "4     12\n",
            "1     18\n",
            "0     18\n",
            "3     29\n",
            "2     31\n",
            "Name: 드론, dtype: int64\n"
          ]
        }
      ]
    },
    {
      "cell_type": "code",
      "source": [
        "modified_plots('드론', 20)"
      ],
      "metadata": {
        "colab": {
          "base_uri": "https://localhost:8080/",
          "height": 697
        },
        "id": "oZEUKYHPTPOT",
        "outputId": "810f90ab-c442-43d0-c77d-68203da772e1"
      },
      "execution_count": 32,
      "outputs": [
        {
          "output_type": "display_data",
          "data": {
            "text/plain": [
              "<Figure size 720x288 with 2 Axes>"
            ],
            "image/png": "[encoded data removed]"
          },
          "metadata": {
            "needs_background": "light"
          }
        },
        {
          "output_type": "stream",
          "name": "stdout",
          "text": [
            "\n",
            "\n",
            "드론에 대한 고유값들의 개수 : \n",
            "  19     1\n",
            "15     1\n",
            "13     1\n",
            "17     2\n",
            "12     2\n",
            "11     3\n",
            "14     3\n",
            "9      6\n",
            "7      7\n",
            "8      9\n",
            "10     9\n",
            "5     10\n",
            "4     12\n",
            "6     12\n",
            "0     18\n",
            "1     18\n",
            "3     29\n",
            "2     31\n",
            "Name: 드론, dtype: int64\n",
            "제거한 아웃라이어의 개수 17\n"
          ]
        }
      ]
    },
    {
      "cell_type": "markdown",
      "source": [
        "🔰 해군함정"
      ],
      "metadata": {
        "id": "TyUd60IGmo-a"
      }
    },
    {
      "cell_type": "code",
      "source": [
        "plots(df_clean, '해군함정')"
      ],
      "metadata": {
        "colab": {
          "base_uri": "https://localhost:8080/",
          "height": 407
        },
        "id": "zuSdv39wWGXs",
        "outputId": "a17037fb-dd70-4b38-d8c9-ca36a440b8f7"
      },
      "execution_count": 33,
      "outputs": [
        {
          "output_type": "display_data",
          "data": {
            "text/plain": [
              "<Figure size 720x288 with 2 Axes>"
            ],
            "image/png": "[encoded data removed]"
          },
          "metadata": {
            "needs_background": "light"
          }
        },
        {
          "output_type": "stream",
          "name": "stdout",
          "text": [
            "\n",
            "\n",
            "해군함정에 대한 고유값들의 개수 : \n",
            "  2      1\n",
            "1      8\n",
            "0    165\n",
            "Name: 해군함정, dtype: int64\n"
          ]
        }
      ]
    },
    {
      "cell_type": "code",
      "source": [
        "modified_plots('해군함정', 2)"
      ],
      "metadata": {
        "colab": {
          "base_uri": "https://localhost:8080/",
          "height": 407
        },
        "id": "lC4yHdDQWKGe",
        "outputId": "b939fc4f-6060-475f-fbf5-5f84b99a544c"
      },
      "execution_count": 34,
      "outputs": [
        {
          "output_type": "display_data",
          "data": {
            "text/plain": [
              "<Figure size 720x288 with 2 Axes>"
            ],
            "image/png": "[encoded data removed]"
          },
          "metadata": {
            "needs_background": "light"
          }
        },
        {
          "output_type": "stream",
          "name": "stdout",
          "text": [
            "\n",
            "\n",
            "해군함정에 대한 고유값들의 개수 : \n",
            "  1      8\n",
            "0    165\n",
            "Name: 해군함정, dtype: int64\n",
            "제거한 아웃라이어의 개수 18\n"
          ]
        }
      ]
    },
    {
      "cell_type": "markdown",
      "source": [
        "🔰 방공포\n"
      ],
      "metadata": {
        "id": "xP7bOXzbmp9L"
      }
    },
    {
      "cell_type": "code",
      "source": [
        "plots(df_clean, '방공포')"
      ],
      "metadata": {
        "colab": {
          "base_uri": "https://localhost:8080/",
          "height": 498
        },
        "id": "NXh7HAOoWTzW",
        "outputId": "7d7e4a2a-1362-4000-d0de-111ac0305402"
      },
      "execution_count": 35,
      "outputs": [
        {
          "output_type": "display_data",
          "data": {
            "text/plain": [
              "<Figure size 720x288 with 2 Axes>"
            ],
            "image/png": "[encoded data removed]"
          },
          "metadata": {
            "needs_background": "light"
          }
        },
        {
          "output_type": "stream",
          "name": "stdout",
          "text": [
            "\n",
            "\n",
            "방공포에 대한 고유값들의 개수 : \n",
            "  7      1\n",
            "8      1\n",
            "3      3\n",
            "5      3\n",
            "4      4\n",
            "2     17\n",
            "1     39\n",
            "0    105\n",
            "Name: 방공포, dtype: int64\n"
          ]
        }
      ]
    },
    {
      "cell_type": "code",
      "source": [
        "modified_plots('방공포', 7)"
      ],
      "metadata": {
        "colab": {
          "base_uri": "https://localhost:8080/",
          "height": 480
        },
        "id": "FKyJRwYJWZMD",
        "outputId": "3e3025b0-d1cd-41df-c86f-ca6563fb15d5"
      },
      "execution_count": 36,
      "outputs": [
        {
          "output_type": "display_data",
          "data": {
            "text/plain": [
              "<Figure size 720x288 with 2 Axes>"
            ],
            "image/png": "[encoded data removed]"
          },
          "metadata": {
            "needs_background": "light"
          }
        },
        {
          "output_type": "stream",
          "name": "stdout",
          "text": [
            "\n",
            "\n",
            "방공포에 대한 고유값들의 개수 : \n",
            "  3      3\n",
            "5      3\n",
            "4      4\n",
            "2     17\n",
            "1     39\n",
            "0    105\n",
            "Name: 방공포, dtype: int64\n",
            "제거한 아웃라이어의 개수 20\n"
          ]
        }
      ]
    },
    {
      "cell_type": "markdown",
      "source": [
        "🔰 특수_장비"
      ],
      "metadata": {
        "id": "Xeg-UEJmmrA8"
      }
    },
    {
      "cell_type": "code",
      "source": [
        "plots(df_clean, '특수_장비')"
      ],
      "metadata": {
        "colab": {
          "base_uri": "https://localhost:8080/",
          "height": 443
        },
        "id": "cUaRBWkeWjjU",
        "outputId": "c865cd05-e2eb-46d2-e53b-d4fb37710975"
      },
      "execution_count": 37,
      "outputs": [
        {
          "output_type": "display_data",
          "data": {
            "text/plain": [
              "<Figure size 720x288 with 2 Axes>"
            ],
            "image/png": "[encoded data removed]"
          },
          "metadata": {
            "needs_background": "light"
          }
        },
        {
          "output_type": "stream",
          "name": "stdout",
          "text": [
            "\n",
            "\n",
            "특수_장비에 대한 고유값들의 개수 : \n",
            "  4      1\n",
            "3      3\n",
            "2     15\n",
            "1     37\n",
            "0    115\n",
            "Name: 특수_장비, dtype: int64\n"
          ]
        }
      ]
    },
    {
      "cell_type": "code",
      "source": [
        "modified_plots('특수_장비', 4)"
      ],
      "metadata": {
        "colab": {
          "base_uri": "https://localhost:8080/",
          "height": 443
        },
        "id": "m2P1cD5MWobd",
        "outputId": "6384c373-f7b2-483a-e032-c32112a801f2"
      },
      "execution_count": 38,
      "outputs": [
        {
          "output_type": "display_data",
          "data": {
            "text/plain": [
              "<Figure size 720x288 with 2 Axes>"
            ],
            "image/png": "[encoded data removed]"
          },
          "metadata": {
            "needs_background": "light"
          }
        },
        {
          "output_type": "stream",
          "name": "stdout",
          "text": [
            "\n",
            "\n",
            "특수_장비에 대한 고유값들의 개수 : \n",
            "  3      3\n",
            "2     15\n",
            "1     37\n",
            "0    115\n",
            "Name: 특수_장비, dtype: int64\n",
            "제거한 아웃라이어의 개수 21\n"
          ]
        }
      ]
    },
    {
      "cell_type": "markdown",
      "source": [
        "🔰 자동화_탄도_미사일"
      ],
      "metadata": {
        "id": "2xUo-fX_ms15"
      }
    },
    {
      "cell_type": "code",
      "source": [
        "plots(df_clean, '자동화_탄도_미사일')"
      ],
      "metadata": {
        "colab": {
          "base_uri": "https://localhost:8080/",
          "height": 389
        },
        "id": "XkK_GraKWwcZ",
        "outputId": "0f818031-96aa-4b6f-bfa9-45f4f6fd1798"
      },
      "execution_count": 39,
      "outputs": [
        {
          "output_type": "display_data",
          "data": {
            "text/plain": [
              "<Figure size 720x288 with 2 Axes>"
            ],
            "image/png": "[encoded data removed]"
          },
          "metadata": {
            "needs_background": "light"
          }
        },
        {
          "output_type": "stream",
          "name": "stdout",
          "text": [
            "\n",
            "\n",
            "자동화_탄도_미사일에 대한 고유값들의 개수 : \n",
            "  2      1\n",
            "0    169\n",
            "Name: 자동화_탄도_미사일, dtype: int64\n"
          ]
        }
      ]
    },
    {
      "cell_type": "markdown",
      "source": [
        "🔰 탈것_ 및_ 연료탱크"
      ],
      "metadata": {
        "id": "TIz3EI_Rmt_p"
      }
    },
    {
      "cell_type": "code",
      "source": [
        "plots(df_clean, '탈것_및_연료탱크')"
      ],
      "metadata": {
        "colab": {
          "base_uri": "https://localhost:8080/",
          "height": 952
        },
        "id": "Y4QDMoF_XNnB",
        "outputId": "f67ffca6-19cc-47a8-dc44-87be31d380b8"
      },
      "execution_count": 41,
      "outputs": [
        {
          "output_type": "display_data",
          "data": {
            "text/plain": [
              "<Figure size 720x288 with 2 Axes>"
            ],
            "image/png": "[encoded data removed]"
          },
          "metadata": {
            "needs_background": "light"
          }
        },
        {
          "output_type": "stream",
          "name": "stdout",
          "text": [
            "\n",
            "\n",
            "탈것_및_연료탱크에 대한 고유값들의 개수 : \n",
            "  21       1\n",
            "1796     1\n",
            "24       1\n",
            "40       1\n",
            "69       1\n",
            "38       1\n",
            "27       1\n",
            "18       1\n",
            "29       1\n",
            "35       2\n",
            "22       2\n",
            "23       2\n",
            "28       2\n",
            "20       2\n",
            "13       3\n",
            "1        3\n",
            "12       3\n",
            "19       3\n",
            "14       4\n",
            "15       4\n",
            "9        4\n",
            "11       4\n",
            "16       4\n",
            "2        5\n",
            "10       6\n",
            "6        6\n",
            "3        6\n",
            "17       8\n",
            "7        9\n",
            "4        9\n",
            "8        9\n",
            "5       10\n",
            "0       51\n",
            "Name: 탈것_및_연료탱크, dtype: int64\n"
          ]
        }
      ]
    },
    {
      "cell_type": "code",
      "source": [
        "modified_plots('탈것_및_연료탱크', 40)"
      ],
      "metadata": {
        "colab": {
          "base_uri": "https://localhost:8080/",
          "height": 915
        },
        "id": "aI91QSzgXXiU",
        "outputId": "1d60fd8b-90dc-4fd2-b18b-3e9217e66e23"
      },
      "execution_count": 42,
      "outputs": [
        {
          "output_type": "display_data",
          "data": {
            "text/plain": [
              "<Figure size 720x288 with 2 Axes>"
            ],
            "image/png": "[encoded data removed]"
          },
          "metadata": {
            "needs_background": "light"
          }
        },
        {
          "output_type": "stream",
          "name": "stdout",
          "text": [
            "\n",
            "\n",
            "탈것_및_연료탱크에 대한 고유값들의 개수 : \n",
            "  21     1\n",
            "24     1\n",
            "38     1\n",
            "27     1\n",
            "18     1\n",
            "29     1\n",
            "35     2\n",
            "22     2\n",
            "23     2\n",
            "28     2\n",
            "20     2\n",
            "13     3\n",
            "1      3\n",
            "12     3\n",
            "19     3\n",
            "14     4\n",
            "15     4\n",
            "9      4\n",
            "11     4\n",
            "16     4\n",
            "2      5\n",
            "10     6\n",
            "6      6\n",
            "3      6\n",
            "17     8\n",
            "7      9\n",
            "4      9\n",
            "8      9\n",
            "5     10\n",
            "0     51\n",
            "Name: 탈것_및_연료탱크, dtype: int64\n",
            "제거한 아웃라이어의 개수 24\n"
          ]
        }
      ]
    },
    {
      "cell_type": "markdown",
      "source": [
        "🔰 크루즈_미사일"
      ],
      "metadata": {
        "id": "T7ZLfnRJmxMr"
      }
    },
    {
      "cell_type": "code",
      "source": [
        "plots(df_clean, '크루즈_미사일')"
      ],
      "metadata": {
        "colab": {
          "base_uri": "https://localhost:8080/",
          "height": 516
        },
        "id": "nIbPRgr6Xchy",
        "outputId": "9c3e12d1-6440-446c-c25c-239771900e24"
      },
      "execution_count": 43,
      "outputs": [
        {
          "output_type": "display_data",
          "data": {
            "text/plain": [
              "<Figure size 720x288 with 2 Axes>"
            ],
            "image/png": "[encoded data removed]"
          },
          "metadata": {
            "needs_background": "light"
          }
        },
        {
          "output_type": "stream",
          "name": "stdout",
          "text": [
            "\n",
            "\n",
            "크루즈_미사일에 대한 고유값들의 개수 : \n",
            "  9      1\n",
            "7      1\n",
            "6      1\n",
            "5      2\n",
            "4      4\n",
            "3      8\n",
            "1     12\n",
            "2     12\n",
            "0    126\n",
            "Name: 크루즈_미사일, dtype: int64\n"
          ]
        }
      ]
    },
    {
      "cell_type": "code",
      "source": [
        "df_clean"
      ],
      "metadata": {
        "colab": {
          "base_uri": "https://localhost:8080/",
          "height": 658
        },
        "id": "9sDkc8pOXibk",
        "outputId": "d90a1454-ac37-4874-d923-87571988c748"
      },
      "execution_count": 45,
      "outputs": [
        {
          "output_type": "execute_result",
          "data": {
            "text/plain": [
              "            날짜  개전일                피해가_큰_지역 불확실한_사망자  사망자_수  전쟁_포로  항공기  헬리콥터  \\\n",
              "2   2022-02-27    4            unknown area    about    200      0    0     0   \n",
              "6   2022-03-03    8            unknown area    about   3160      0    0     0   \n",
              "8   2022-03-05   10            unknown area    about    834     16    6     3   \n",
              "9   2022-03-06   11            unknown area    about   1000     16    5     8   \n",
              "10  2022-03-07   12            unknown area     more      0     27    2    20   \n",
              "..         ...  ...                     ...      ...    ...    ...  ...   ...   \n",
              "185 2022-08-29  187                 Donetsk    about    350      0    0     1   \n",
              "186 2022-08-30  188   Donetsk and Kurakhove    about    450      0    0     1   \n",
              "187 2022-08-31  189   Donetsk and Kurakhove    about    350      0    0     0   \n",
              "189 2022-09-02  191   Donetsk and Kurakhove    about    350      0    0     0   \n",
              "190 2022-09-03  192  Donetsk and Kryvyi Rih    about    350      0    1     0   \n",
              "\n",
              "     탱크  장갑차  ...  다중로켓발사기  자동화기기  연료탱크  드론  해군함정  방공포  특수_장비  자동화_탄도_미사일  \\\n",
              "2     4    0  ...        0      0     0   0     0    0      0           0   \n",
              "6     6   38  ...        2     19     0   0     0    2      0           0   \n",
              "8    18    6  ...        0      5     0   0     0    1      0           0   \n",
              "9    16   40  ...        0     38     0   1     0    2      0           0   \n",
              "10    5   14  ...        0      7     0   3     1    2      0           0   \n",
              "..   ..  ...  ...      ...    ...   ...  ..   ...  ...    ...         ...   \n",
              "185   5   12  ...        5      0     0   6     0    1      2           0   \n",
              "186   7   25  ...        3      0     0   3     0    2      2           0   \n",
              "187  20   18  ...        3      0     0   2     0    1      0           0   \n",
              "189  12   21  ...        2      0     0   2     0    0      1           0   \n",
              "190  25   37  ...        4      0     0  11     0    0      0           0   \n",
              "\n",
              "     탈것_및_연료탱크  크루즈_미사일  \n",
              "2            0        0  \n",
              "6            0        0  \n",
              "8            0        0  \n",
              "9            0        0  \n",
              "10           0        0  \n",
              "..         ...      ...  \n",
              "185         17        0  \n",
              "186         29        0  \n",
              "187         19        0  \n",
              "189          8        2  \n",
              "190         21        5  \n",
              "\n",
              "[167 rows x 21 columns]"
            ],
            "text/html": [
              "\n",
              "  <div id=\"df-1891aeb9-e231-42b3-a2f0-e1b63b3ceb9e\">\n",
              "    <div class=\"colab-df-container\">\n",
              "      <div>\n",
              "<style scoped>\n",
              "    .dataframe tbody tr th:only-of-type {\n",
              "        vertical-align: middle;\n",
              "    }\n",
              "\n",
              "    .dataframe tbody tr th {\n",
              "        vertical-align: top;\n",
              "    }\n",
              "\n",
              "    .dataframe thead th {\n",
              "        text-align: right;\n",
              "    }\n",
              "</style>\n",
              "<table border=\"1\" class=\"dataframe\">\n",
              "  <thead>\n",
              "    <tr style=\"text-align: right;\">\n",
              "      <th></th>\n",
              "      <th>날짜</th>\n",
              "      <th>개전일</th>\n",
              "      <th>피해가_큰_지역</th>\n",
              "      <th>불확실한_사망자</th>\n",
              "      <th>사망자_수</th>\n",
              "      <th>전쟁_포로</th>\n",
              "      <th>항공기</th>\n",
              "      <th>헬리콥터</th>\n",
              "      <th>탱크</th>\n",
              "      <th>장갑차</th>\n",
              "      <th>...</th>\n",
              "      <th>다중로켓발사기</th>\n",
              "      <th>자동화기기</th>\n",
              "      <th>연료탱크</th>\n",
              "      <th>드론</th>\n",
              "      <th>해군함정</th>\n",
              "      <th>방공포</th>\n",
              "      <th>특수_장비</th>\n",
              "      <th>자동화_탄도_미사일</th>\n",
              "      <th>탈것_및_연료탱크</th>\n",
              "      <th>크루즈_미사일</th>\n",
              "    </tr>\n",
              "  </thead>\n",
              "  <tbody>\n",
              "    <tr>\n",
              "      <th>2</th>\n",
              "      <td>2022-02-27</td>\n",
              "      <td>4</td>\n",
              "      <td>unknown area</td>\n",
              "      <td>about</td>\n",
              "      <td>200</td>\n",
              "      <td>0</td>\n",
              "      <td>0</td>\n",
              "      <td>0</td>\n",
              "      <td>4</td>\n",
              "      <td>0</td>\n",
              "      <td>...</td>\n",
              "      <td>0</td>\n",
              "      <td>0</td>\n",
              "      <td>0</td>\n",
              "      <td>0</td>\n",
              "      <td>0</td>\n",
              "      <td>0</td>\n",
              "      <td>0</td>\n",
              "      <td>0</td>\n",
              "      <td>0</td>\n",
              "      <td>0</td>\n",
              "    </tr>\n",
              "    <tr>\n",
              "      <th>6</th>\n",
              "      <td>2022-03-03</td>\n",
              "      <td>8</td>\n",
              "      <td>unknown area</td>\n",
              "      <td>about</td>\n",
              "      <td>3160</td>\n",
              "      <td>0</td>\n",
              "      <td>0</td>\n",
              "      <td>0</td>\n",
              "      <td>6</td>\n",
              "      <td>38</td>\n",
              "      <td>...</td>\n",
              "      <td>2</td>\n",
              "      <td>19</td>\n",
              "      <td>0</td>\n",
              "      <td>0</td>\n",
              "      <td>0</td>\n",
              "      <td>2</td>\n",
              "      <td>0</td>\n",
              "      <td>0</td>\n",
              "      <td>0</td>\n",
              "      <td>0</td>\n",
              "    </tr>\n",
              "    <tr>\n",
              "      <th>8</th>\n",
              "      <td>2022-03-05</td>\n",
              "      <td>10</td>\n",
              "      <td>unknown area</td>\n",
              "      <td>about</td>\n",
              "      <td>834</td>\n",
              "      <td>16</td>\n",
              "      <td>6</td>\n",
              "      <td>3</td>\n",
              "      <td>18</td>\n",
              "      <td>6</td>\n",
              "      <td>...</td>\n",
              "      <td>0</td>\n",
              "      <td>5</td>\n",
              "      <td>0</td>\n",
              "      <td>0</td>\n",
              "      <td>0</td>\n",
              "      <td>1</td>\n",
              "      <td>0</td>\n",
              "      <td>0</td>\n",
              "      <td>0</td>\n",
              "      <td>0</td>\n",
              "    </tr>\n",
              "    <tr>\n",
              "      <th>9</th>\n",
              "      <td>2022-03-06</td>\n",
              "      <td>11</td>\n",
              "      <td>unknown area</td>\n",
              "      <td>about</td>\n",
              "      <td>1000</td>\n",
              "      <td>16</td>\n",
              "      <td>5</td>\n",
              "      <td>8</td>\n",
              "      <td>16</td>\n",
              "      <td>40</td>\n",
              "      <td>...</td>\n",
              "      <td>0</td>\n",
              "      <td>38</td>\n",
              "      <td>0</td>\n",
              "      <td>1</td>\n",
              "      <td>0</td>\n",
              "      <td>2</td>\n",
              "      <td>0</td>\n",
              "      <td>0</td>\n",
              "      <td>0</td>\n",
              "      <td>0</td>\n",
              "    </tr>\n",
              "    <tr>\n",
              "      <th>10</th>\n",
              "      <td>2022-03-07</td>\n",
              "      <td>12</td>\n",
              "      <td>unknown area</td>\n",
              "      <td>more</td>\n",
              "      <td>0</td>\n",
              "      <td>27</td>\n",
              "      <td>2</td>\n",
              "      <td>20</td>\n",
              "      <td>5</td>\n",
              "      <td>14</td>\n",
              "      <td>...</td>\n",
              "      <td>0</td>\n",
              "      <td>7</td>\n",
              "      <td>0</td>\n",
              "      <td>3</td>\n",
              "      <td>1</td>\n",
              "      <td>2</td>\n",
              "      <td>0</td>\n",
              "      <td>0</td>\n",
              "      <td>0</td>\n",
              "      <td>0</td>\n",
              "    </tr>\n",
              "    <tr>\n",
              "      <th>...</th>\n",
              "      <td>...</td>\n",
              "      <td>...</td>\n",
              "      <td>...</td>\n",
              "      <td>...</td>\n",
              "      <td>...</td>\n",
              "      <td>...</td>\n",
              "      <td>...</td>\n",
              "      <td>...</td>\n",
              "      <td>...</td>\n",
              "      <td>...</td>\n",
              "      <td>...</td>\n",
              "      <td>...</td>\n",
              "      <td>...</td>\n",
              "      <td>...</td>\n",
              "      <td>...</td>\n",
              "      <td>...</td>\n",
              "      <td>...</td>\n",
              "      <td>...</td>\n",
              "      <td>...</td>\n",
              "      <td>...</td>\n",
              "      <td>...</td>\n",
              "    </tr>\n",
              "    <tr>\n",
              "      <th>185</th>\n",
              "      <td>2022-08-29</td>\n",
              "      <td>187</td>\n",
              "      <td>Donetsk</td>\n",
              "      <td>about</td>\n",
              "      <td>350</td>\n",
              "      <td>0</td>\n",
              "      <td>0</td>\n",
              "      <td>1</td>\n",
              "      <td>5</td>\n",
              "      <td>12</td>\n",
              "      <td>...</td>\n",
              "      <td>5</td>\n",
              "      <td>0</td>\n",
              "      <td>0</td>\n",
              "      <td>6</td>\n",
              "      <td>0</td>\n",
              "      <td>1</td>\n",
              "      <td>2</td>\n",
              "      <td>0</td>\n",
              "      <td>17</td>\n",
              "      <td>0</td>\n",
              "    </tr>\n",
              "    <tr>\n",
              "      <th>186</th>\n",
              "      <td>2022-08-30</td>\n",
              "      <td>188</td>\n",
              "      <td>Donetsk and Kurakhove</td>\n",
              "      <td>about</td>\n",
              "      <td>450</td>\n",
              "      <td>0</td>\n",
              "      <td>0</td>\n",
              "      <td>1</td>\n",
              "      <td>7</td>\n",
              "      <td>25</td>\n",
              "      <td>...</td>\n",
              "      <td>3</td>\n",
              "      <td>0</td>\n",
              "      <td>0</td>\n",
              "      <td>3</td>\n",
              "      <td>0</td>\n",
              "      <td>2</td>\n",
              "      <td>2</td>\n",
              "      <td>0</td>\n",
              "      <td>29</td>\n",
              "      <td>0</td>\n",
              "    </tr>\n",
              "    <tr>\n",
              "      <th>187</th>\n",
              "      <td>2022-08-31</td>\n",
              "      <td>189</td>\n",
              "      <td>Donetsk and Kurakhove</td>\n",
              "      <td>about</td>\n",
              "      <td>350</td>\n",
              "      <td>0</td>\n",
              "      <td>0</td>\n",
              "      <td>0</td>\n",
              "      <td>20</td>\n",
              "      <td>18</td>\n",
              "      <td>...</td>\n",
              "      <td>3</td>\n",
              "      <td>0</td>\n",
              "      <td>0</td>\n",
              "      <td>2</td>\n",
              "      <td>0</td>\n",
              "      <td>1</td>\n",
              "      <td>0</td>\n",
              "      <td>0</td>\n",
              "      <td>19</td>\n",
              "      <td>0</td>\n",
              "    </tr>\n",
              "    <tr>\n",
              "      <th>189</th>\n",
              "      <td>2022-09-02</td>\n",
              "      <td>191</td>\n",
              "      <td>Donetsk and Kurakhove</td>\n",
              "      <td>about</td>\n",
              "      <td>350</td>\n",
              "      <td>0</td>\n",
              "      <td>0</td>\n",
              "      <td>0</td>\n",
              "      <td>12</td>\n",
              "      <td>21</td>\n",
              "      <td>...</td>\n",
              "      <td>2</td>\n",
              "      <td>0</td>\n",
              "      <td>0</td>\n",
              "      <td>2</td>\n",
              "      <td>0</td>\n",
              "      <td>0</td>\n",
              "      <td>1</td>\n",
              "      <td>0</td>\n",
              "      <td>8</td>\n",
              "      <td>2</td>\n",
              "    </tr>\n",
              "    <tr>\n",
              "      <th>190</th>\n",
              "      <td>2022-09-03</td>\n",
              "      <td>192</td>\n",
              "      <td>Donetsk and Kryvyi Rih</td>\n",
              "      <td>about</td>\n",
              "      <td>350</td>\n",
              "      <td>0</td>\n",
              "      <td>1</td>\n",
              "      <td>0</td>\n",
              "      <td>25</td>\n",
              "      <td>37</td>\n",
              "      <td>...</td>\n",
              "      <td>4</td>\n",
              "      <td>0</td>\n",
              "      <td>0</td>\n",
              "      <td>11</td>\n",
              "      <td>0</td>\n",
              "      <td>0</td>\n",
              "      <td>0</td>\n",
              "      <td>0</td>\n",
              "      <td>21</td>\n",
              "      <td>5</td>\n",
              "    </tr>\n",
              "  </tbody>\n",
              "</table>\n",
              "<p>167 rows × 21 columns</p>\n",
              "</div>\n",
              "      <button class=\"colab-df-convert\" onclick=\"convertToInteractive('df-1891aeb9-e231-42b3-a2f0-e1b63b3ceb9e')\"\n",
              "              title=\"Convert this dataframe to an interactive table.\"\n",
              "              style=\"display:none;\">\n",
              "        \n",
              "  <svg xmlns=\"http://www.w3.org/2000/svg\" height=\"24px\"viewBox=\"0 0 24 24\"\n",
              "       width=\"24px\">\n",
              "    <path d=\"M0 0h24v24H0V0z\" fill=\"none\"/>\n",
              "    <path d=\"M18.56 5.44l.94 2.06.94-2.06 2.06-.94-2.06-.94-.94-2.06-.94 2.06-2.06.94zm-11 1L8.5 8.5l.94-2.06 2.06-.94-2.06-.94L8.5 2.5l-.94 2.06-2.06.94zm10 10l.94 2.06.94-2.06 2.06-.94-2.06-.94-.94-2.06-.94 2.06-2.06.94z\"/><path d=\"M17.41 7.96l-1.37-1.37c-.4-.4-.92-.59-1.43-.59-.52 0-1.04.2-1.43.59L10.3 9.45l-7.72 7.72c-.78.78-.78 2.05 0 2.83L4 21.41c.39.39.9.59 1.41.59.51 0 1.02-.2 1.41-.59l7.78-7.78 2.81-2.81c.8-.78.8-2.07 0-2.86zM5.41 20L4 18.59l7.72-7.72 1.47 1.35L5.41 20z\"/>\n",
              "  </svg>\n",
              "      </button>\n",
              "      \n",
              "  <style>\n",
              "    .colab-df-container {\n",
              "      display:flex;\n",
              "      flex-wrap:wrap;\n",
              "      gap: 12px;\n",
              "    }\n",
              "\n",
              "    .colab-df-convert {\n",
              "      background-color: #E8F0FE;\n",
              "      border: none;\n",
              "      border-radius: 50%;\n",
              "      cursor: pointer;\n",
              "      display: none;\n",
              "      fill: #1967D2;\n",
              "      height: 32px;\n",
              "      padding: 0 0 0 0;\n",
              "      width: 32px;\n",
              "    }\n",
              "\n",
              "    .colab-df-convert:hover {\n",
              "      background-color: #E2EBFA;\n",
              "      box-shadow: 0px 1px 2px rgba(60, 64, 67, 0.3), 0px 1px 3px 1px rgba(60, 64, 67, 0.15);\n",
              "      fill: #174EA6;\n",
              "    }\n",
              "\n",
              "    [theme=dark] .colab-df-convert {\n",
              "      background-color: #3B4455;\n",
              "      fill: #D2E3FC;\n",
              "    }\n",
              "\n",
              "    [theme=dark] .colab-df-convert:hover {\n",
              "      background-color: #434B5C;\n",
              "      box-shadow: 0px 1px 3px 1px rgba(0, 0, 0, 0.15);\n",
              "      filter: drop-shadow(0px 1px 2px rgba(0, 0, 0, 0.3));\n",
              "      fill: #FFFFFF;\n",
              "    }\n",
              "  </style>\n",
              "\n",
              "      <script>\n",
              "        const buttonEl =\n",
              "          document.querySelector('#df-1891aeb9-e231-42b3-a2f0-e1b63b3ceb9e button.colab-df-convert');\n",
              "        buttonEl.style.display =\n",
              "          google.colab.kernel.accessAllowed ? 'block' : 'none';\n",
              "\n",
              "        async function convertToInteractive(key) {\n",
              "          const element = document.querySelector('#df-1891aeb9-e231-42b3-a2f0-e1b63b3ceb9e');\n",
              "          const dataTable =\n",
              "            await google.colab.kernel.invokeFunction('convertToInteractive',\n",
              "                                                     [key], {});\n",
              "          if (!dataTable) return;\n",
              "\n",
              "          const docLinkHtml = 'Like what you see? Visit the ' +\n",
              "            '<a target=\"_blank\" href=https://colab.research.google.com/notebooks/data_table.ipynb>data table notebook</a>'\n",
              "            + ' to learn more about interactive tables.';\n",
              "          element.innerHTML = '';\n",
              "          dataTable['output_type'] = 'display_data';\n",
              "          await google.colab.output.renderOutput(dataTable, element);\n",
              "          const docLink = document.createElement('div');\n",
              "          docLink.innerHTML = docLinkHtml;\n",
              "          element.appendChild(docLink);\n",
              "        }\n",
              "      </script>\n",
              "    </div>\n",
              "  </div>\n",
              "  "
            ]
          },
          "metadata": {},
          "execution_count": 45
        }
      ]
    },
    {
      "cell_type": "markdown",
      "source": [
        "이상치 분류 완료 -> 데이터 준비 완료 😆"
      ],
      "metadata": {
        "id": "scl5VsJjXmuA"
      }
    },
    {
      "cell_type": "markdown",
      "source": [
        "#### Part 2-2-2. RidgeCV 사용하여 적절한 페널티 값을 찾아봅시다."
      ],
      "metadata": {
        "id": "JB4t6m6RX_UY"
      }
    },
    {
      "cell_type": "code",
      "source": [
        "####  필요한 라이브러리를 가져옵니다.\n",
        "from sklearn.linear_model import RidgeCV\n",
        "\n",
        "#### 검증하고 싶은 알파값 정하기.\n",
        "alphas = [0.01, 0.05, 0.1, 0.2, 1.0, 2.0]\n",
        "\n",
        "\n",
        "# RidgeCV 인스턴스 생성 및 사용할 파라미터 적기.\n",
        "ridge = RidgeCV(alphas, normalize=True, cv=3)\n"
      ],
      "metadata": {
        "id": "cgrdUERHcWWt"
      },
      "execution_count": null,
      "outputs": []
    }
  ]
}
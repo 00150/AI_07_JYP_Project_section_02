{
  "nbformat": 4,
  "nbformat_minor": 0,
  "metadata": {
    "colab": {
      "provenance": [],
      "include_colab_link": true
    },
    "kernelspec": {
      "name": "python3",
      "display_name": "Python 3"
    },
    "language_info": {
      "name": "python"
    }
  },
  "cells": [
    {
      "cell_type": "markdown",
      "metadata": {
        "id": "view-in-github",
        "colab_type": "text"
      },
      "source": [
        "<a href=\"https://colab.research.google.com/github/00150/AI_07_JYP_Project_section_02/blob/main/%F0%9F%8C%8F_%EC%9A%B0%ED%81%AC%EB%9D%BC%EC%9D%B4%EB%82%98_vs_%EB%9F%AC%EC%8B%9C%EC%95%84_%EC%A0%84%EC%9F%81_%EB%B6%84%EC%84%9D_(feat_%EB%94%94%ED%85%8C%EC%9D%BC%ED%95%98%EA%B2%8C_).ipynb\" target=\"_parent\"><img src=\"https://colab.research.google.com/assets/colab-badge.svg\" alt=\"Open In Colab\"/></a>"
      ]
    },
    {
      "cell_type": "markdown",
      "source": [
        "## 🌏 우크라이나 vs 러시아 전쟁 분석 (feat.디테일하게..)\n",
        "> 지난번 우리는 우크라이나 러시아 전쟁에 대하여 다중선형회귀까지 진행했습니다.\n",
        "하지만, 데이터의 이상치 및 편향과 분산등을 전혀 고려하지 않은 채 진행하였습니다.\n",
        "\n",
        "* 데이터의 이상치 및 정확한 분석에 해가 될 수 있는 부분을 제거하여 최적의 피처를 선택하여 분석히여 봅시다.\n",
        "* 이번 분석 또한 훈련 및 테스트 데이터를 나눌 때 '2022-08-08'을 기준으로 나눠보겠습니다."
      ],
      "metadata": {
        "id": "vnN7TS3m0eP-"
      }
    },
    {
      "cell_type": "markdown",
      "source": [
        "✅ 참고 : 파이썬 내장 함수에서 timestamp에 대하여 float() 등으로 자동으로 변환해주지 않습니다. </br>\n",
        "- 최적의 피처를 찾는 SelectKBest를 사용하는 경우 시계열 데이터 때문에 'TypeError' 가 발생할 수 있으므로,</br> \n",
        "지금 당장은 변환하지 않겠습니다. "
      ],
      "metadata": {
        "id": "fNxgREVQQliN"
      }
    },
    {
      "cell_type": "code",
      "source": [
        "from google.colab import drive\n",
        "drive.mount('/content/drive')"
      ],
      "metadata": {
        "id": "h2-fUzzIaCWk",
        "outputId": "6d5207f8-a24d-49af-c45b-6a60999e07b1",
        "colab": {
          "base_uri": "https://localhost:8080/"
        }
      },
      "execution_count": 1,
      "outputs": [
        {
          "output_type": "stream",
          "name": "stdout",
          "text": [
            "Drive already mounted at /content/drive; to attempt to forcibly remount, call drive.mount(\"/content/drive\", force_remount=True).\n"
          ]
        }
      ]
    },
    {
      "cell_type": "code",
      "source": [
        "# 데이터 가져오기.\n",
        "import pandas as pd\n",
        "import numpy as np\n",
        "\n",
        "\n",
        "# 데이터 주소\n",
        "url_01 = '/content/drive/MyDrive/new_project02/최근_러시아_인명피해_자료.csv'\n",
        "url_02 = '/content/drive/MyDrive/new_project02/최근_러시아_장비손실_자료.csv'\n",
        "\n",
        "\n",
        "#데이터 불러오기\n",
        "df_01 = pd.read_csv(url_01)\n",
        "df_02 = pd.read_csv(url_02)\n",
        "\n",
        "\n",
        "# 병합\n",
        "df = pd.merge(df_01, df_02, on =['date', 'day'])\n",
        "# 165번 행부터 진행할 것 입니다. 또한 '사망자_수' 나타내는 컬럼은 삭제합니다.\n",
        "\n",
        "# 컬럼명 변경\n",
        "df = df.rename(columns = {'date':'날짜','day':'개전일','aircraft':'항공기','helicopter':'헬리콥터','tank' : '탱크',\n",
        "                    'APC':'장갑차','field artillery': '야포' ,'MRL' :'다중로켓발사기','military auto' : '자동화기기',\n",
        "                    'fuel tank': '연료탱크', 'drone':'드론' ,'naval ship' : '해군함정', 'anti-aircraft warfare' : '방공포', 'special equipment' : '특수_장비',\n",
        "                    'mobile SRBM system' : '자동화_탄도_미사일', 'vehicles and fuel tanks' : '탈것_및_연료탱크', 'cruise missiles' : '크루즈_미사일',\n",
        "                    'greatest losses direction' : '피해가_큰_지역','personnel':'사망자_수', 'personnel*':'불확실한_사망자', 'POW':'전쟁_포로'})\n",
        "\n",
        "\n",
        "# 컬럼: 날짜 datetime 형태로 변경\n",
        "df['날짜'] = pd.to_datetime(df['날짜'])\n",
        "\n",
        "\n",
        "# 누적데이터 -> 일별 데이터로 변경\n",
        "# 각 컬럼별 차를 계산할 수 없는 데이터 인덱스로 내리기.\n",
        "df = df.set_index(['날짜', '개전일', '피해가_큰_지역','불확실한_사망자'])\n",
        "\n",
        "# 각 컬럼별 차이 계산 및 결측값 채우기\n",
        "df = df.diff().fillna(df).fillna(0).astype(int).reset_index()\n",
        "\n",
        "# 컬럼 : '피해가_큰_지역' 에 대하여 결측값 채워넣기.\n",
        "df['피해가_큰_지역'] = df['피해가_큰_지역'].fillna('unknown area')\n",
        "\n",
        "# 데이터 내의 결측값 확인하기.\n",
        "# df.isnull().sum() -> 모든 컬럼에 대하여 결측값 : 0\n",
        "\n",
        "\n",
        "# '2022-08-08'을 기준으로 훈련/테스트 세트를 분리합니다.\n",
        "# '2022-08-08'은 훈련 데이터에 포함되어야 합니다.\n",
        "cutoff = pd.to_datetime('2022-08-08')\n",
        "train = df[df['날짜'] <= cutoff]\n",
        "test = df[df['날짜'] > cutoff] "
      ],
      "metadata": {
        "id": "yLp9AR_X0-xa"
      },
      "execution_count": 2,
      "outputs": []
    },
    {
      "cell_type": "markdown",
      "source": [
        "---\n",
        "### Part 1. 정확도를 올려 데이터를 분석합시다.\n",
        "> 다양한 모델을 만들었다고 하더라도, 정확도가 좋지 못하면 '쓰레기'입니다 😥\n",
        "\n",
        "❗ SelectKBest를 사용하여 가장 효과적인 특성 $K$개를 골라봅시다.</br>\n",
        "❗ 우리의 목표는 target과 가장 관련 있는 features 를 $K$개 고르는 것이 목표입니다.\n"
      ],
      "metadata": {
        "id": "BxOtYoX-gpk2"
      }
    },
    {
      "cell_type": "markdown",
      "source": [
        "#### Part 1-2. 범주형 데이터를 숫자형으로 변환하기. (OneHotEncoder)\n",
        "> 문자형 모델은 내부적으로 처리할 수 없습니다😣\n",
        " 문자형 데이터를 숫자형으로 변환하는 과정이 필요하며, </br>이 과정이 **'범주형 변수 인코딩'**입니다.\n",
        "\n",
        "❗ 범주형 데이터는 순서가 없는 '명목형', 순서가 있는 '순서형'으로 나뉩니다.  </br>\n",
        "\n",
        "❗ 원핫 인코딩 : 범주형 변수의 각 카테고리를 각각 별도의 특성으로 생각하고  그 카테고리가 존재하는 경우에만 1을 넣습니다. </br>\n",
        "\n",
        "❗ 범주의 종류가 많으면 하이 퀄리티를 가지고 있다고 하며, 이 때 원핫 인코딩은 좋지 않습니다.\n",
        "\n"
      ],
      "metadata": {
        "id": "xH8ivgRHgxbn"
      }
    },
    {
      "cell_type": "markdown",
      "source": [
        "#### 진행 방향\n",
        ">🔅 피처중 '도시'의 이름 및 '불확실한_사망자_수' 을 제외한 범주형 데이터(날짜)는 제거하고, </br> 이 두 컬럼은 원핫인코딩을 진행하여 봅시다.\n",
        "\n",
        "❗ ```category_encoder ```를 사용하면  범주형 데이터에만 원핫인코딩을 수행할 수 있습니다.\n",
        "\n",
        "\n"
      ],
      "metadata": {
        "id": "uZWRwVCRiuwz"
      }
    },
    {
      "cell_type": "code",
      "source": [
        "# 원핫인코딩을 사용하기 위한 필요한 라이브러리 설치\n",
        "!pip install --upgrade category_encoders"
      ],
      "metadata": {
        "id": "90NdF8jwnRCs",
        "outputId": "566a93b9-355b-4273-f138-6c91173c5286",
        "colab": {
          "base_uri": "https://localhost:8080/"
        }
      },
      "execution_count": 3,
      "outputs": [
        {
          "output_type": "stream",
          "name": "stdout",
          "text": [
            "Looking in indexes: https://pypi.org/simple, https://us-python.pkg.dev/colab-wheels/public/simple/\n",
            "Requirement already satisfied: category_encoders in /usr/local/lib/python3.7/dist-packages (2.5.0)\n",
            "Requirement already satisfied: scikit-learn>=0.20.0 in /usr/local/lib/python3.7/dist-packages (from category_encoders) (1.0.2)\n",
            "Requirement already satisfied: scipy>=1.0.0 in /usr/local/lib/python3.7/dist-packages (from category_encoders) (1.7.3)\n",
            "Requirement already satisfied: pandas>=1.0.5 in /usr/local/lib/python3.7/dist-packages (from category_encoders) (1.3.5)\n",
            "Requirement already satisfied: statsmodels>=0.9.0 in /usr/local/lib/python3.7/dist-packages (from category_encoders) (0.12.2)\n",
            "Requirement already satisfied: patsy>=0.5.1 in /usr/local/lib/python3.7/dist-packages (from category_encoders) (0.5.2)\n",
            "Requirement already satisfied: numpy>=1.14.0 in /usr/local/lib/python3.7/dist-packages (from category_encoders) (1.21.6)\n",
            "Requirement already satisfied: pytz>=2017.3 in /usr/local/lib/python3.7/dist-packages (from pandas>=1.0.5->category_encoders) (2022.2.1)\n",
            "Requirement already satisfied: python-dateutil>=2.7.3 in /usr/local/lib/python3.7/dist-packages (from pandas>=1.0.5->category_encoders) (2.8.2)\n",
            "Requirement already satisfied: six in /usr/local/lib/python3.7/dist-packages (from patsy>=0.5.1->category_encoders) (1.15.0)\n",
            "Requirement already satisfied: threadpoolctl>=2.0.0 in /usr/local/lib/python3.7/dist-packages (from scikit-learn>=0.20.0->category_encoders) (3.1.0)\n",
            "Requirement already satisfied: joblib>=0.11 in /usr/local/lib/python3.7/dist-packages (from scikit-learn>=0.20.0->category_encoders) (1.1.0)\n"
          ]
        }
      ]
    },
    {
      "cell_type": "code",
      "source": [
        "# 날짜 컬럼이 제거된 새로운 df 생성 (train & test)\n",
        "train_df = train.drop('날짜', axis =1)\n",
        "test_df = test.drop('날짜', axis =1)\n",
        "\n",
        "# --------------- X_train, y_train, X_test, y_test로 데이터 나누기, \n",
        "# target = {column : '사망자_수'}\n",
        "target = '사망자_수'\n",
        "\n",
        "# X_train\n",
        "X_train = train_df.drop(columns=target)\n",
        "\n",
        "# y_train\n",
        "y_train = train_df[target]\n",
        "\n",
        "# X_test\n",
        "X_test = test_df.drop(columns=target)\n",
        "\n",
        "# y_test\n",
        "y_test = test_df[target]\n",
        "\n",
        "\n",
        "# 데이터 분할 확인하기.\n",
        "print(f'훈련(독립) : {X_train.shape}, 훈련(종속) :{y_train.shape} \\n테스트(독립){X_test.shape}, 테스트(종속){y_test.shape}')\n"
      ],
      "metadata": {
        "id": "KerKdbY5izdL",
        "outputId": "2652ff94-f07d-48c1-9d67-0dd36b31bde7",
        "colab": {
          "base_uri": "https://localhost:8080/"
        }
      },
      "execution_count": 4,
      "outputs": [
        {
          "output_type": "stream",
          "name": "stdout",
          "text": [
            "훈련(독립) : (165, 19), 훈련(종속) :(165,) \n",
            "테스트(독립)(26, 19), 테스트(종속)(26,)\n"
          ]
        }
      ]
    },
    {
      "cell_type": "code",
      "source": [
        "# 원핫인코더 라이브러리를 가져옵시다.\n",
        "from category_encoders import OneHotEncoder\n",
        "\n",
        "#원핫 인코딩을 진행합니다, 먼저 원핫 인코더의 인스턴스 객체를 선언합니다.\n",
        "encoder = OneHotEncoder(use_cat_names = True)\n",
        "\n",
        "# 적용\n",
        "X_train = encoder.fit_transform(X_train)\n",
        "X_test = encoder.transform(X_test)\n",
        "\n",
        "# 위에서 둘 중 하나의 df를 살펴보면 적용이 되어 있는 것을 확인할 수 있습니다. ex) : X_train.columns or X_test.head()...."
      ],
      "metadata": {
        "id": "T1teuNKzoSVX"
      },
      "execution_count": 5,
      "outputs": []
    },
    {
      "cell_type": "code",
      "source": [
        "# 이후 SelectKBest를 이용하여 가장 효과적인 특성을 살펴보겠습니다.\n",
        "# 현재 원핫인코딩을 수행하여 나온 피처들의 개수는 총 62개 입니다.\n",
        "\n",
        "\n",
        "# 먼저 사용할 라이브러리를 선언합니다, 이 때 f_regression은 회귀작업에 대한 레이블/특징사이의 F값입니다...(좀더 찾아봐서 정리해야 합니다..)\n",
        "from sklearn.feature_selection import f_regression, SelectKBest\n",
        "\n",
        "\n",
        "#Selector에 대한 인스턴스 객체를 선언 및 정의합니다. (이때 K개의 개수 또한 지정합니다.)\n",
        "selector = SelectKBest(score_func = f_regression, k=16)\n",
        "\n",
        "# 학습 데이터에는 fit_transform\n",
        "X_train_selected = selector.fit_transform(X_train, y_train)\n",
        "\n",
        "# 테스트 데이터에는 transform\n",
        "X_test_selected = selector.transform(X_test)\n",
        "\n",
        "# 모양 확인\n",
        "print(X_train_selected.shape, X_test_selected.shape)"
      ],
      "metadata": {
        "id": "NY7aoWqip462",
        "outputId": "270a6ff3-4418-4ebd-9d2d-0f63c3dafee9",
        "colab": {
          "base_uri": "https://localhost:8080/"
        }
      },
      "execution_count": 8,
      "outputs": [
        {
          "output_type": "stream",
          "name": "stdout",
          "text": [
            "(165, 16) (26, 16)\n"
          ]
        }
      ]
    },
    {
      "cell_type": "markdown",
      "source": [
        "#### 이후 선택된 특성을 살펴봅시다.\n",
        "> SelectKBest로 선택된 컬럼과 그렇지 않은 컬럼의 차이를 살펴봅시다.\n"
      ],
      "metadata": {
        "id": "NFR0wh7QJv2h"
      }
    },
    {
      "cell_type": "code",
      "source": [
        "#모든 컬럼\n",
        "all_names = X_train.columns\n",
        "\n",
        "# 선택된 특성들을 boolean 값으로 돌려준다.\n",
        "selected_mask = selector.get_support()\n",
        "\n",
        "# 선택된 특성들을 확인합니다.\n",
        "selected_names = all_names[selected_mask]\n",
        "\n",
        "# 선택되지 않은 특성\n",
        "unselected_names = all_names[~selected_mask]\n",
        "\n",
        "print('선택된 컬럼들은 다음과 같습니다, :', selected_names)\n",
        "print('\\n')\n",
        "print('선택되지 않은 컬럼들은 다음과 같습니다. :', unselected_names)"
      ],
      "metadata": {
        "id": "EH-WJyGxtFW1",
        "outputId": "e7616512-29a8-4d52-ca6e-faaebc19bfe7",
        "colab": {
          "base_uri": "https://localhost:8080/"
        }
      },
      "execution_count": 10,
      "outputs": [
        {
          "output_type": "stream",
          "name": "stdout",
          "text": [
            "선택된 컬럼들은 다음과 같습니다, : Index(['개전일', '피해가_큰_지역_unknown area', '피해가_큰_지역_Bakhmut', '불확실한_사망자_about',\n",
            "       '불확실한_사망자_more', '항공기', '헬리콥터', '탱크', '장갑차', '야포', '다중로켓발사기', '자동화기기',\n",
            "       '연료탱크', '드론', '해군함정', '방공포'],\n",
            "      dtype='object')\n",
            "\n",
            "\n",
            "선택되지 않은 컬럼들은 다음과 같습니다. : Index(['피해가_큰_지역_Sievierodonetsk', '피해가_큰_지역_Kurakhove and Izyum',\n",
            "       '피해가_큰_지역_Zaporizhzhia and Izyum', '피해가_큰_지역_Izyum',\n",
            "       '피해가_큰_지역_Izyum, Novopavlivsk', '피해가_큰_지역_Popasna',\n",
            "       '피해가_큰_지역_Lyman and Kurakhove', '피해가_큰_지역_Slobozhanskyi',\n",
            "       '피해가_큰_지역_Novopavlivsk', '피해가_큰_지역_Avdiivka',\n",
            "       '피해가_큰_지역_Novopavlivsk, Kurakhove and Sievierodonetsk',\n",
            "       '피해가_큰_지역_Kurakhove', '피해가_큰_지역_Kurakhove and Avdiivka',\n",
            "       '피해가_큰_지역_Bakhmut and Zaporizhzhia', '피해가_큰_지역_Lyman and Zaporizhzhia',\n",
            "       '피해가_큰_지역_Sloviansk, Kryvyi Rih and Zaporizhzhia', '피해가_큰_지역_Lyman',\n",
            "       '피해가_큰_지역_Avdiivka and Kryvyi Rih', '피해가_큰_지역_Zaporizhzhia',\n",
            "       '피해가_큰_지역_Kryvyi Rih and Zaporizhzhia',\n",
            "       '피해가_큰_지역_Kryvyi Rih and Bakhmut', '피해가_큰_지역_Sloviansk',\n",
            "       '피해가_큰_지역_Kharkiv and Bakhmut', '피해가_큰_지역_Sievierodonetsk and Bakhmut',\n",
            "       '피해가_큰_지역_Bakhmut and Sievierodonetsk',\n",
            "       '피해가_큰_지역_Sloviansk, Bakhmut and Kryvyi Rih',\n",
            "       '피해가_큰_지역_Bakhmut and Avdiivka',\n",
            "       '피해가_큰_지역_Sloviansk, Bakhmut and Avdiivka',\n",
            "       '피해가_큰_지역_Sloviansk and Bakhmut', '피해가_큰_지역_Bakhmut and Kurakhove',\n",
            "       '피해가_큰_지역_Kramatorsk and Bakhmut', '피해가_큰_지역_Sloviansk and Donetsk',\n",
            "       '피해가_큰_지역_Avdiivka and Bakhmut', '피해가_큰_지역_Kramatorsk',\n",
            "       '피해가_큰_지역_Mykolaiv', '피해가_큰_지역_Kramatorsk, Kryvyi Rih and Bakhmut',\n",
            "       '피해가_큰_지역_Kryvyi Rih', '피해가_큰_지역_Donetsk',\n",
            "       '피해가_큰_지역_Donetsk and Kryvyi Rih', '피해가_큰_지역_Bakhmut and Kryvyi Rih',\n",
            "       '피해가_큰_지역_Bakhmut and Donetsk', '전쟁_포로', '특수_장비', '자동화_탄도_미사일',\n",
            "       '탈것_및_연료탱크', '크루즈_미사일'],\n",
            "      dtype='object')\n"
          ]
        }
      ]
    },
    {
      "cell_type": "markdown",
      "source": [
        "#### 🔅 SelectKBest를 무작정 지정하는 것은 위험할 수 있습니다 😥"
      ],
      "metadata": {
        "id": "OYXjKmqGtZMJ"
      }
    }
  ]
}
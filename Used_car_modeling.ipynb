{
  "nbformat": 4,
  "nbformat_minor": 0,
  "metadata": {
    "colab": {
      "provenance": [],
      "authorship_tag": "ABX9TyNhHkjGs96jnV/ISHggZXgc",
      "include_colab_link": true
    },
    "kernelspec": {
      "name": "python3",
      "display_name": "Python 3"
    },
    "language_info": {
      "name": "python"
    }
  },
  "cells": [
    {
      "cell_type": "markdown",
      "metadata": {
        "id": "view-in-github",
        "colab_type": "text"
      },
      "source": [
        "<a href=\"https://colab.research.google.com/github/00150/AI_07_JYP_Project_section_02/blob/main/Used_car_modeling.ipynb\" target=\"_parent\"><img src=\"https://colab.research.google.com/assets/colab-badge.svg\" alt=\"Open In Colab\"/></a>"
      ]
    },
    {
      "cell_type": "code",
      "source": [
        "# 필요한 라이브러리를 설치합니다.\n",
        "!pip install category_encoders"
      ],
      "metadata": {
        "colab": {
          "base_uri": "https://localhost:8080/"
        },
        "id": "nwJumCPojJmA",
        "outputId": "abb8dabc-7c9e-447d-ac12-b119b687f909"
      },
      "execution_count": 1,
      "outputs": [
        {
          "metadata": {
            "tags": null
          },
          "name": "stdout",
          "output_type": "stream",
          "text": [
            "Looking in indexes: https://pypi.org/simple, https://us-python.pkg.dev/colab-wheels/public/simple/\n",
            "Collecting category_encoders\n",
            "  Downloading category_encoders-2.6.0-py2.py3-none-any.whl (81 kB)\n",
            "\u001b[2K     \u001b[90m━━━━━━━━━━━━━━━━━━━━━━━━━━━━━━━━━━━━━━━━\u001b[0m \u001b[32m81.2/81.2 KB\u001b[0m \u001b[31m2.5 MB/s\u001b[0m eta \u001b[36m0:00:00\u001b[0m\n",
            "\u001b[?25hRequirement already satisfied: scikit-learn>=0.20.0 in /usr/local/lib/python3.8/dist-packages (from category_encoders) (1.2.1)\n",
            "Requirement already satisfied: pandas>=1.0.5 in /usr/local/lib/python3.8/dist-packages (from category_encoders) (1.3.5)\n",
            "Requirement already satisfied: patsy>=0.5.1 in /usr/local/lib/python3.8/dist-packages (from category_encoders) (0.5.3)\n",
            "Requirement already satisfied: statsmodels>=0.9.0 in /usr/local/lib/python3.8/dist-packages (from category_encoders) (0.13.5)\n",
            "Requirement already satisfied: numpy>=1.14.0 in /usr/local/lib/python3.8/dist-packages (from category_encoders) (1.22.4)\n",
            "Requirement already satisfied: scipy>=1.0.0 in /usr/local/lib/python3.8/dist-packages (from category_encoders) (1.10.1)\n",
            "Requirement already satisfied: pytz>=2017.3 in /usr/local/lib/python3.8/dist-packages (from pandas>=1.0.5->category_encoders) (2022.7.1)\n",
            "Requirement already satisfied: python-dateutil>=2.7.3 in /usr/local/lib/python3.8/dist-packages (from pandas>=1.0.5->category_encoders) (2.8.2)\n",
            "Requirement already satisfied: six in /usr/local/lib/python3.8/dist-packages (from patsy>=0.5.1->category_encoders) (1.15.0)\n",
            "Requirement already satisfied: joblib>=1.1.1 in /usr/local/lib/python3.8/dist-packages (from scikit-learn>=0.20.0->category_encoders) (1.2.0)\n",
            "Requirement already satisfied: threadpoolctl>=2.0.0 in /usr/local/lib/python3.8/dist-packages (from scikit-learn>=0.20.0->category_encoders) (3.1.0)\n",
            "Requirement already satisfied: packaging>=21.3 in /usr/local/lib/python3.8/dist-packages (from statsmodels>=0.9.0->category_encoders) (23.0)\n",
            "Installing collected packages: category_encoders\n",
            "Successfully installed category_encoders-2.6.0\n"
          ]
        }
      ]
    },
    {
      "cell_type": "code",
      "execution_count": 2,
      "metadata": {
        "id": "XzW6bTHEm62o"
      },
      "outputs": [],
      "source": [
        "# 모델링을 진행할 데이터를 가져옵니다.\n",
        "# 필요한 라이브러 및 패키지는 그때 그때 가져오도록 합니다.\n",
        "import pandas as pd\n",
        "df = pd.read_csv('https://raw.githubusercontent.com/00150/AI_07_JYP_Project_section_02/main/audi_eda').drop('Unnamed: 0', axis = 1)"
      ]
    },
    {
      "cell_type": "code",
      "source": [
        "df.info()"
      ],
      "metadata": {
        "colab": {
          "base_uri": "https://localhost:8080/"
        },
        "id": "LvCkrhDEncj2",
        "outputId": "c3cda538-6589-4cc0-b09f-4877e354e3d2"
      },
      "execution_count": 3,
      "outputs": [
        {
          "metadata": {
            "tags": null
          },
          "name": "stdout",
          "output_type": "stream",
          "text": [
            "<class 'pandas.core.frame.DataFrame'>\n",
            "RangeIndex: 9345 entries, 0 to 9344\n",
            "Data columns (total 15 columns):\n",
            " #   Column         Non-Null Count  Dtype  \n",
            "---  ------         --------------  -----  \n",
            " 0   model          9345 non-null   object \n",
            " 1   year           9345 non-null   int64  \n",
            " 2   price          9345 non-null   int64  \n",
            " 3   transmission   9345 non-null   object \n",
            " 4   mileage        9345 non-null   int64  \n",
            " 5   fuelType       9345 non-null   object \n",
            " 6   tax            9345 non-null   int64  \n",
            " 7   mpg            9345 non-null   float64\n",
            " 8   engineSize     9345 non-null   float64\n",
            " 9   size_and_type  9345 non-null   object \n",
            " 10  size           9345 non-null   object \n",
            " 11  type           9344 non-null   object \n",
            " 12  used_year      9345 non-null   int64  \n",
            " 13  ampy           9345 non-null   float64\n",
            " 14  km/l           9345 non-null   float64\n",
            "dtypes: float64(4), int64(5), object(6)\n",
            "memory usage: 1.1+ MB\n"
          ]
        }
      ]
    },
    {
      "cell_type": "markdown",
      "source": [
        "앞서 EDA & Visualization 을 진행한 데이터에는 다음과 같은 컬럼이 존재합니다."
      ],
      "metadata": {
        "id": "KBrJGTEBng8G"
      }
    },
    {
      "cell_type": "markdown",
      "source": [
        "* 각각의 컬럼은 다음과 같습니다. \n",
        "  - model : 자동차의 모델명 \n",
        "  - year : 연식 \n",
        "  - price : 가격 \n",
        "  - transmission : 변속기\n",
        "  - mileage : 자동차 주행거리\n",
        "  - fuelType : 자동차 연료의 유형\n",
        "  - tax : 세금(자동차)\n",
        "  - mpg(Miles per Gallon) : 자동차 연비(Fuel efficiency)\n",
        "  - engineSize :엔진 크기\n",
        "  - size_and_type :차량의 사이즈 및 타입\n",
        "  - size : 차량의 사이즈\n",
        "  - type : 차량의 유형\n",
        "  - used_year : 차를 사용한 연도\n",
        "  - ampy : 연간 평균 주행거리.\n",
        "  - km/l : 자동차 연비(한국식 표현)"
      ],
      "metadata": {
        "id": "Xgk50HnpAyTX"
      }
    },
    {
      "cell_type": "code",
      "source": [
        "df.head()"
      ],
      "metadata": {
        "colab": {
          "base_uri": "https://localhost:8080/",
          "height": 206
        },
        "id": "H6OAt07AoZhS",
        "outputId": "a8fc2e52-c9c5-4d21-90f5-aabe9c5fcfd2"
      },
      "execution_count": 4,
      "outputs": [
        {
          "data": {
            "text/html": [
              "\n",
              "  <div id=\"df-83295c8d-050a-4651-99ae-1b95b1c0ca14\">\n",
              "    <div class=\"colab-df-container\">\n",
              "      <div>\n",
              "<style scoped>\n",
              "    .dataframe tbody tr th:only-of-type {\n",
              "        vertical-align: middle;\n",
              "    }\n",
              "\n",
              "    .dataframe tbody tr th {\n",
              "        vertical-align: top;\n",
              "    }\n",
              "\n",
              "    .dataframe thead th {\n",
              "        text-align: right;\n",
              "    }\n",
              "</style>\n",
              "<table border=\"1\" class=\"dataframe\">\n",
              "  <thead>\n",
              "    <tr style=\"text-align: right;\">\n",
              "      <th></th>\n",
              "      <th>model</th>\n",
              "      <th>year</th>\n",
              "      <th>price</th>\n",
              "      <th>transmission</th>\n",
              "      <th>mileage</th>\n",
              "      <th>fuelType</th>\n",
              "      <th>tax</th>\n",
              "      <th>mpg</th>\n",
              "      <th>engineSize</th>\n",
              "      <th>size_and_type</th>\n",
              "      <th>size</th>\n",
              "      <th>type</th>\n",
              "      <th>used_year</th>\n",
              "      <th>ampy</th>\n",
              "      <th>km/l</th>\n",
              "    </tr>\n",
              "  </thead>\n",
              "  <tbody>\n",
              "    <tr>\n",
              "      <th>0</th>\n",
              "      <td>A1</td>\n",
              "      <td>2017</td>\n",
              "      <td>12500</td>\n",
              "      <td>Manual</td>\n",
              "      <td>15735</td>\n",
              "      <td>Petrol</td>\n",
              "      <td>150</td>\n",
              "      <td>55.4</td>\n",
              "      <td>1.4</td>\n",
              "      <td>small_hatchback</td>\n",
              "      <td>small</td>\n",
              "      <td>hatchback</td>\n",
              "      <td>6</td>\n",
              "      <td>2622.5</td>\n",
              "      <td>23.8</td>\n",
              "    </tr>\n",
              "    <tr>\n",
              "      <th>1</th>\n",
              "      <td>A6</td>\n",
              "      <td>2016</td>\n",
              "      <td>16500</td>\n",
              "      <td>Automatic</td>\n",
              "      <td>36203</td>\n",
              "      <td>Diesel</td>\n",
              "      <td>20</td>\n",
              "      <td>64.2</td>\n",
              "      <td>2.0</td>\n",
              "      <td>subfull_sedan</td>\n",
              "      <td>subfull</td>\n",
              "      <td>sedan</td>\n",
              "      <td>7</td>\n",
              "      <td>5171.9</td>\n",
              "      <td>27.6</td>\n",
              "    </tr>\n",
              "    <tr>\n",
              "      <th>2</th>\n",
              "      <td>A1</td>\n",
              "      <td>2016</td>\n",
              "      <td>11000</td>\n",
              "      <td>Manual</td>\n",
              "      <td>29946</td>\n",
              "      <td>Petrol</td>\n",
              "      <td>30</td>\n",
              "      <td>55.4</td>\n",
              "      <td>1.4</td>\n",
              "      <td>small_hatchback</td>\n",
              "      <td>small</td>\n",
              "      <td>hatchback</td>\n",
              "      <td>7</td>\n",
              "      <td>4278.0</td>\n",
              "      <td>23.8</td>\n",
              "    </tr>\n",
              "    <tr>\n",
              "      <th>3</th>\n",
              "      <td>A4</td>\n",
              "      <td>2017</td>\n",
              "      <td>16800</td>\n",
              "      <td>Automatic</td>\n",
              "      <td>25952</td>\n",
              "      <td>Diesel</td>\n",
              "      <td>145</td>\n",
              "      <td>67.3</td>\n",
              "      <td>2.0</td>\n",
              "      <td>mid_sedan</td>\n",
              "      <td>mid</td>\n",
              "      <td>sedan</td>\n",
              "      <td>6</td>\n",
              "      <td>4325.3</td>\n",
              "      <td>28.9</td>\n",
              "    </tr>\n",
              "    <tr>\n",
              "      <th>4</th>\n",
              "      <td>A3</td>\n",
              "      <td>2019</td>\n",
              "      <td>17300</td>\n",
              "      <td>Manual</td>\n",
              "      <td>1998</td>\n",
              "      <td>Petrol</td>\n",
              "      <td>145</td>\n",
              "      <td>49.6</td>\n",
              "      <td>1.0</td>\n",
              "      <td>submid_hatchback</td>\n",
              "      <td>submid</td>\n",
              "      <td>hatchback</td>\n",
              "      <td>4</td>\n",
              "      <td>499.5</td>\n",
              "      <td>21.3</td>\n",
              "    </tr>\n",
              "  </tbody>\n",
              "</table>\n",
              "</div>\n",
              "      <button class=\"colab-df-convert\" onclick=\"convertToInteractive('df-83295c8d-050a-4651-99ae-1b95b1c0ca14')\"\n",
              "              title=\"Convert this dataframe to an interactive table.\"\n",
              "              style=\"display:none;\">\n",
              "        \n",
              "  <svg xmlns=\"http://www.w3.org/2000/svg\" height=\"24px\"viewBox=\"0 0 24 24\"\n",
              "       width=\"24px\">\n",
              "    <path d=\"M0 0h24v24H0V0z\" fill=\"none\"/>\n",
              "    <path d=\"M18.56 5.44l.94 2.06.94-2.06 2.06-.94-2.06-.94-.94-2.06-.94 2.06-2.06.94zm-11 1L8.5 8.5l.94-2.06 2.06-.94-2.06-.94L8.5 2.5l-.94 2.06-2.06.94zm10 10l.94 2.06.94-2.06 2.06-.94-2.06-.94-.94-2.06-.94 2.06-2.06.94z\"/><path d=\"M17.41 7.96l-1.37-1.37c-.4-.4-.92-.59-1.43-.59-.52 0-1.04.2-1.43.59L10.3 9.45l-7.72 7.72c-.78.78-.78 2.05 0 2.83L4 21.41c.39.39.9.59 1.41.59.51 0 1.02-.2 1.41-.59l7.78-7.78 2.81-2.81c.8-.78.8-2.07 0-2.86zM5.41 20L4 18.59l7.72-7.72 1.47 1.35L5.41 20z\"/>\n",
              "  </svg>\n",
              "      </button>\n",
              "      \n",
              "  <style>\n",
              "    .colab-df-container {\n",
              "      display:flex;\n",
              "      flex-wrap:wrap;\n",
              "      gap: 12px;\n",
              "    }\n",
              "\n",
              "    .colab-df-convert {\n",
              "      background-color: #E8F0FE;\n",
              "      border: none;\n",
              "      border-radius: 50%;\n",
              "      cursor: pointer;\n",
              "      display: none;\n",
              "      fill: #1967D2;\n",
              "      height: 32px;\n",
              "      padding: 0 0 0 0;\n",
              "      width: 32px;\n",
              "    }\n",
              "\n",
              "    .colab-df-convert:hover {\n",
              "      background-color: #E2EBFA;\n",
              "      box-shadow: 0px 1px 2px rgba(60, 64, 67, 0.3), 0px 1px 3px 1px rgba(60, 64, 67, 0.15);\n",
              "      fill: #174EA6;\n",
              "    }\n",
              "\n",
              "    [theme=dark] .colab-df-convert {\n",
              "      background-color: #3B4455;\n",
              "      fill: #D2E3FC;\n",
              "    }\n",
              "\n",
              "    [theme=dark] .colab-df-convert:hover {\n",
              "      background-color: #434B5C;\n",
              "      box-shadow: 0px 1px 3px 1px rgba(0, 0, 0, 0.15);\n",
              "      filter: drop-shadow(0px 1px 2px rgba(0, 0, 0, 0.3));\n",
              "      fill: #FFFFFF;\n",
              "    }\n",
              "  </style>\n",
              "\n",
              "      <script>\n",
              "        const buttonEl =\n",
              "          document.querySelector('#df-83295c8d-050a-4651-99ae-1b95b1c0ca14 button.colab-df-convert');\n",
              "        buttonEl.style.display =\n",
              "          google.colab.kernel.accessAllowed ? 'block' : 'none';\n",
              "\n",
              "        async function convertToInteractive(key) {\n",
              "          const element = document.querySelector('#df-83295c8d-050a-4651-99ae-1b95b1c0ca14');\n",
              "          const dataTable =\n",
              "            await google.colab.kernel.invokeFunction('convertToInteractive',\n",
              "                                                     [key], {});\n",
              "          if (!dataTable) return;\n",
              "\n",
              "          const docLinkHtml = 'Like what you see? Visit the ' +\n",
              "            '<a target=\"_blank\" href=https://colab.research.google.com/notebooks/data_table.ipynb>data table notebook</a>'\n",
              "            + ' to learn more about interactive tables.';\n",
              "          element.innerHTML = '';\n",
              "          dataTable['output_type'] = 'display_data';\n",
              "          await google.colab.output.renderOutput(dataTable, element);\n",
              "          const docLink = document.createElement('div');\n",
              "          docLink.innerHTML = docLinkHtml;\n",
              "          element.appendChild(docLink);\n",
              "        }\n",
              "      </script>\n",
              "    </div>\n",
              "  </div>\n",
              "  "
            ],
            "text/plain": [
              "  model  year  price transmission  mileage fuelType  tax   mpg  engineSize  \\\n",
              "0    A1  2017  12500       Manual    15735   Petrol  150  55.4         1.4   \n",
              "1    A6  2016  16500    Automatic    36203   Diesel   20  64.2         2.0   \n",
              "2    A1  2016  11000       Manual    29946   Petrol   30  55.4         1.4   \n",
              "3    A4  2017  16800    Automatic    25952   Diesel  145  67.3         2.0   \n",
              "4    A3  2019  17300       Manual     1998   Petrol  145  49.6         1.0   \n",
              "\n",
              "      size_and_type     size       type  used_year    ampy  km/l  \n",
              "0   small_hatchback    small  hatchback          6  2622.5  23.8  \n",
              "1     subfull_sedan  subfull      sedan          7  5171.9  27.6  \n",
              "2   small_hatchback    small  hatchback          7  4278.0  23.8  \n",
              "3         mid_sedan      mid      sedan          6  4325.3  28.9  \n",
              "4  submid_hatchback   submid  hatchback          4   499.5  21.3  "
            ]
          },
          "execution_count": 4,
          "metadata": {},
          "output_type": "execute_result"
        }
      ]
    },
    {
      "cell_type": "markdown",
      "source": [
        "##1. Feature Engineering\n",
        "> 기존 데이터에서 추가로 이용할 수 있는 부분이 있다면 새로운 피처를 생성합니다.\n",
        "\n",
        " -  Good preference badge 추가하기. <br>\n",
        " 차량을 사용한 이력이 3~5년사이, 주행거리가 30000이하, 자동차 연비(기준:km/l)가 21 이상이라면 뱃지를 달아줍니다.\n",
        "\n",
        " - 차량 모델에 상관없이 상태가 좋은 중고차를 구매하려고 하는 사람들이 분명 존재합니다. <br/>\n",
        "   이들에게 추천해줄 수 있도록 분류하는 모델을 생성하고자 합니다.\n",
        "\n"
      ],
      "metadata": {
        "id": "X87ak5EYCxMe"
      }
    },
    {
      "cell_type": "code",
      "source": [
        "# np.select() method를 이용합니다.\n",
        "import numpy as np\n",
        "conditionlist = [(df['used_year'] <=5) & (df['mileage'] <=30000) & (df['km/l'] >=21)]\n",
        "select_data = ['good']\n",
        "\n",
        "df['good_badge']  = np.select(conditionlist, select_data, default = 'Not Specified')"
      ],
      "metadata": {
        "id": "8qA7cTbgpLkL"
      },
      "execution_count": 5,
      "outputs": []
    },
    {
      "cell_type": "code",
      "source": [
        "# 타겟 비율 확인\n",
        "print(df['good_badge'].value_counts(normalize=True))\n",
        "\n",
        "# 시각화 - 필요한 라이브러리 가져오기.\n",
        "import seaborn as sns\n",
        "import matplotlib.pyplot as plt\n",
        "sns.countplot(x = df['good_badge'])"
      ],
      "metadata": {
        "colab": {
          "base_uri": "https://localhost:8080/",
          "height": 355
        },
        "id": "GpiN_TsVCCZ9",
        "outputId": "c8585b98-00ea-4015-ed15-3f9801eb94fb"
      },
      "execution_count": 6,
      "outputs": [
        {
          "metadata": {
            "tags": null
          },
          "name": "stdout",
          "output_type": "stream",
          "text": [
            "Not Specified    0.880257\n",
            "good             0.119743\n",
            "Name: good_badge, dtype: float64\n"
          ]
        },
        {
          "data": {
            "text/plain": [
              "<AxesSubplot:xlabel='good_badge', ylabel='count'>"
            ]
          },
          "execution_count": 6,
          "metadata": {},
          "output_type": "execute_result"
        },
        {
          "data": {
            "image/png": "[encoded data removed]",
            "text/plain": [
              "<Figure size 432x288 with 1 Axes>"
            ]
          },
          "metadata": {},
          "output_type": "display_data"
        }
      ]
    },
    {
      "cell_type": "markdown",
      "source": [
        "현재 타겟은 **불균형한 데이터 값**을 보여주고 있습니다.\n",
        "* 모델 생성시 이 부분에 유의하여 모델을 생성하도록 합니다."
      ],
      "metadata": {
        "id": "GPXg9YGVRVAy"
      }
    },
    {
      "cell_type": "markdown",
      "source": [
        "#2.  Modeling"
      ],
      "metadata": {
        "id": "XPHqUmXkI2LB"
      }
    },
    {
      "cell_type": "markdown",
      "source": [
        "#### 2-1. Baseline 생성.\n",
        ">기준모델로 최다 비율 클래스를 사용할 경우 정확도는 다음과 같습니다."
      ],
      "metadata": {
        "id": "c5RD3o63RrUt"
      }
    },
    {
      "cell_type": "code",
      "source": [
        "# 타겟값을 mapping 하도록 합니다.\n",
        "# Not Specified = 0, good = 1\n",
        "y_train = df['good_badge'].replace(['Not Specified', 'good'], [0,1])\n",
        "\n",
        "# 기준 모델 생성 - 필요한 라이브러리 가져오기.\n",
        "from sklearn.metrics import accuracy_score\n",
        "\n",
        "major = y_train.mode()[0]\n",
        "\n",
        "\n",
        "# 최다빈도 값 : 0이 담긴 리스트를 생성합니다. \n",
        "major = y_train.mode()[0]\n",
        "y_pred = [major] * len(y_train)\n",
        "\n",
        "# 기준모델의 정확도는 다음과 같습니다.\n",
        "print(f'baseline accuracy:{accuracy_score(y_train, y_pred)}')"
      ],
      "metadata": {
        "colab": {
          "base_uri": "https://localhost:8080/"
        },
        "id": "iZ5xukTxTJ9w",
        "outputId": "048cbb45-c967-4f9d-bd92-dd03d19b119c"
      },
      "execution_count": 7,
      "outputs": [
        {
          "metadata": {
            "tags": null
          },
          "name": "stdout",
          "output_type": "stream",
          "text": [
            "baseline accuracy:0.8802568218298555\n"
          ]
        }
      ]
    },
    {
      "cell_type": "markdown",
      "source": [
        "####2-2. ML 생성"
      ],
      "metadata": {
        "id": "NKH6057SXGX9"
      }
    },
    {
      "cell_type": "code",
      "source": [
        "# 데이터 분할.\n",
        "from sklearn.model_selection import train_test_split\n",
        "\n",
        "# 타겟 데이터를 같은 비율로 분할합니다.\n",
        "X_train, X_val = train_test_split(df,\n",
        "                                  train_size = 0.75,\n",
        "                                  stratify = df['good_badge'],random_state = 42)\n",
        "\n",
        "\n",
        "# target & feature 지정\n",
        "target = ['good_badge']\n",
        "feature = ['model','year','price','transmission','mileage','fuelType','tax','engineSize','size','type','used_year','ampy','km/l']\n",
        "\n",
        "# train\n",
        "y_train = X_train[target]\n",
        "X_train = X_train[feature]\n",
        "\n",
        "# val\n",
        "y_val = X_val[target]\n",
        "X_val = X_val[feature]\n",
        "\n",
        "# shap\n",
        "print(X_train.shape, X_val.shape,'\\n'*2)\n",
        "print(y_train.value_counts(normalize=True),'\\n'*2, y_val.value_counts(normalize=True),'\\n'*2)\n",
        "\n",
        "# target(train,test)값 맵핑 : Not Specified = 0, good = 1\n",
        "y_train = y_train.replace(['Not Specified','good'],[0,1])\n",
        "y_val = y_val.replace(['Not Specified','good'],[0,1])\n",
        "\n",
        "print(f'맵핑 이후 값은 다음과 같습니다. \\n {y_train.value_counts(normalize=True)}')"
      ],
      "metadata": {
        "colab": {
          "base_uri": "https://localhost:8080/"
        },
        "id": "GvmXH4Tkdx4d",
        "outputId": "51fa2531-9dcf-4e22-c3e5-8747b5ae414e"
      },
      "execution_count": 8,
      "outputs": [
        {
          "metadata": {
            "tags": null
          },
          "name": "stdout",
          "output_type": "stream",
          "text": [
            "(7008, 13) (2337, 13) \n",
            "\n",
            "\n",
            "good_badge   \n",
            "Not Specified    0.88028\n",
            "good             0.11972\n",
            "dtype: float64 \n",
            "\n",
            " good_badge   \n",
            "Not Specified    0.880188\n",
            "good             0.119812\n",
            "dtype: float64 \n",
            "\n",
            "\n",
            "맵핑 이후 값은 다음과 같습니다. \n",
            " good_badge\n",
            "0             0.88028\n",
            "1             0.11972\n",
            "dtype: float64\n"
          ]
        }
      ]
    },
    {
      "cell_type": "code",
      "source": [
        "\n",
        "# 데이터 인코딩 및 파이프라인 생성 : 필요한 라이브러리 가져오기.\n",
        "from category_encoders import OrdinalEncoder\n",
        "from xgboost.sklearn import XGBClassifier\n",
        "from sklearn.pipeline import make_pipeline\n",
        "\n",
        "pipe = make_pipeline(\n",
        "    OrdinalEncoder(),\n",
        "    XGBClassifier(    \n",
        "        objective = 'binary:logistic',\n",
        "        eval_metric=\"auc\",\n",
        "        n_estimators =987654321,\n",
        "        random_state = 42,\n",
        "        n_jobs = -1,\n",
        "        max_depth = 5,\n",
        "        learning_rate = 0.1,\n",
        "        early_stopping_rounds = 20)\n",
        ")\n",
        "\n",
        "print(pipe)"
      ],
      "metadata": {
        "colab": {
          "base_uri": "https://localhost:8080/"
        },
        "id": "jJ9F5j-neUDd",
        "outputId": "86ea6ec0-8f38-4b26-9fbc-2dec40685b6b"
      },
      "execution_count": 11,
      "outputs": [
        {
          "output_type": "stream",
          "name": "stdout",
          "text": [
            "Pipeline(steps=[('ordinalencoder', OrdinalEncoder()),\n",
            "                ('xgbclassifier',\n",
            "                 XGBClassifier(base_score=None, booster=None, callbacks=None,\n",
            "                               colsample_bylevel=None, colsample_bynode=None,\n",
            "                               colsample_bytree=None, early_stopping_rounds=20,\n",
            "                               enable_categorical=False, eval_metric='auc',\n",
            "                               feature_types=None, gamma=None, gpu_id=None,\n",
            "                               grow_policy=None, importance_type=None,\n",
            "                               interaction_constraints=None, learning_rate=0.1,\n",
            "                               max_bin=None, max_cat_threshold=None,\n",
            "                               max_cat_to_onehot=None, max_delta_step=None,\n",
            "                               max_depth=5, max_leaves=None,\n",
            "                               min_child_weight=None, missing=nan,\n",
            "                               monotone_constraints=None,\n",
            "                               n_estimators=987654321, n_jobs=-1,\n",
            "                               num_parallel_tree=None, predictor=None,\n",
            "                               random_state=42, ...))])\n"
          ]
        }
      ]
    },
    {
      "cell_type": "code",
      "source": [
        "# 파이프라인을 생성합니다. \n",
        "from sklearn.pipeline import make_pipeline\n"
      ],
      "metadata": {
        "id": "jyejQysX3EXh"
      },
      "execution_count": null,
      "outputs": []
    },
    {
      "cell_type": "code",
      "source": [
        "#eval_set\n",
        "watchlist = [(X_train_encoded, y_train), (X_val_encoded, y_val)]\n",
        "\n",
        "model.fit(X_train_encoded, \n",
        "          y_train,\n",
        "          eval_set = watchlist)\n",
        "\n",
        "print('검증 정확도:', model.score(X_val_encoded,y_val))"
      ],
      "metadata": {
        "id": "q-X1OgsLjXdO",
        "colab": {
          "base_uri": "https://localhost:8080/"
        },
        "outputId": "e3cf3344-25aa-45a7-f219-6fad442dbb70"
      },
      "execution_count": 10,
      "outputs": [
        {
          "metadata": {
            "tags": null
          },
          "name": "stdout",
          "output_type": "stream",
          "text": [
            "[0]\tvalidation_0-auc:1.00000\tvalidation_1-auc:1.00000\n",
            "[1]\tvalidation_0-auc:1.00000\tvalidation_1-auc:1.00000\n",
            "[2]\tvalidation_0-auc:1.00000\tvalidation_1-auc:1.00000\n",
            "[3]\tvalidation_0-auc:1.00000\tvalidation_1-auc:1.00000\n",
            "[4]\tvalidation_0-auc:1.00000\tvalidation_1-auc:1.00000\n",
            "[5]\tvalidation_0-auc:1.00000\tvalidation_1-auc:1.00000\n",
            "[6]\tvalidation_0-auc:1.00000\tvalidation_1-auc:1.00000\n",
            "[7]\tvalidation_0-auc:1.00000\tvalidation_1-auc:1.00000\n",
            "[8]\tvalidation_0-auc:1.00000\tvalidation_1-auc:1.00000\n",
            "[9]\tvalidation_0-auc:1.00000\tvalidation_1-auc:1.00000\n",
            "[10]\tvalidation_0-auc:1.00000\tvalidation_1-auc:1.00000\n",
            "[11]\tvalidation_0-auc:1.00000\tvalidation_1-auc:1.00000\n",
            "[12]\tvalidation_0-auc:1.00000\tvalidation_1-auc:1.00000\n",
            "[13]\tvalidation_0-auc:1.00000\tvalidation_1-auc:1.00000\n",
            "[14]\tvalidation_0-auc:1.00000\tvalidation_1-auc:1.00000\n",
            "[15]\tvalidation_0-auc:1.00000\tvalidation_1-auc:1.00000\n",
            "[16]\tvalidation_0-auc:1.00000\tvalidation_1-auc:1.00000\n",
            "[17]\tvalidation_0-auc:1.00000\tvalidation_1-auc:1.00000\n",
            "[18]\tvalidation_0-auc:1.00000\tvalidation_1-auc:1.00000\n",
            "[19]\tvalidation_0-auc:1.00000\tvalidation_1-auc:1.00000\n",
            "[20]\tvalidation_0-auc:1.00000\tvalidation_1-auc:1.00000\n",
            "검증 정확도: 1.0\n"
          ]
        }
      ]
    },
    {
      "cell_type": "markdown",
      "source": [
        "**검증 정확도가 1이 나왔습니다😥**\n",
        ">모델을 시각화하여 과적합을 일으키는 컬럼을 제거합니다."
      ],
      "metadata": {
        "id": "rerazwPMVEAM"
      }
    },
    {
      "cell_type": "code",
      "source": [
        "import graphviz\n",
        "from sklearn.tree import export_graphviz\n",
        "\n",
        "dot_data = export_graphviz(\n",
        "    model,\n",
        "    feature_names= X_train.columns,\n",
        "    class_name = y_train.unique().astype(str),\n",
        ")"
      ],
      "metadata": {
        "id": "UVk7GKPm1x4o"
      },
      "execution_count": null,
      "outputs": []
    }
  ]
}
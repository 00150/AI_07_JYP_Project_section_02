{
  "nbformat": 4,
  "nbformat_minor": 0,
  "metadata": {
    "colab": {
      "provenance": [],
      "authorship_tag": "ABX9TyNExElZkUyetCd7y562fX73",
      "include_colab_link": true
    },
    "kernelspec": {
      "name": "python3",
      "display_name": "Python 3"
    },
    "language_info": {
      "name": "python"
    }
  },
  "cells": [
    {
      "cell_type": "markdown",
      "metadata": {
        "id": "view-in-github",
        "colab_type": "text"
      },
      "source": [
        "<a href=\"https://colab.research.google.com/github/00150/AI_07_JYP_Project_section_02/blob/main/Used_car_modeling.ipynb\" target=\"_parent\"><img src=\"https://colab.research.google.com/assets/colab-badge.svg\" alt=\"Open In Colab\"/></a>"
      ]
    },
    {
      "cell_type": "code",
      "source": [
        "# 필요한 라이브러리를 설치합니다.\n",
        "!pip install category_encoders"
      ],
      "metadata": {
        "colab": {
          "base_uri": "https://localhost:8080/"
        },
        "id": "nwJumCPojJmA",
        "outputId": "d1edd366-c73e-4f02-8816-97508858c01f"
      },
      "execution_count": 1,
      "outputs": [
        {
          "output_type": "stream",
          "name": "stdout",
          "text": [
            "Looking in indexes: https://pypi.org/simple, https://us-python.pkg.dev/colab-wheels/public/simple/\n",
            "Requirement already satisfied: category_encoders in /usr/local/lib/python3.8/dist-packages (2.6.0)\n",
            "Requirement already satisfied: pandas>=1.0.5 in /usr/local/lib/python3.8/dist-packages (from category_encoders) (1.3.5)\n",
            "Requirement already satisfied: scipy>=1.0.0 in /usr/local/lib/python3.8/dist-packages (from category_encoders) (1.10.1)\n",
            "Requirement already satisfied: scikit-learn>=0.20.0 in /usr/local/lib/python3.8/dist-packages (from category_encoders) (1.2.1)\n",
            "Requirement already satisfied: statsmodels>=0.9.0 in /usr/local/lib/python3.8/dist-packages (from category_encoders) (0.13.5)\n",
            "Requirement already satisfied: patsy>=0.5.1 in /usr/local/lib/python3.8/dist-packages (from category_encoders) (0.5.3)\n",
            "Requirement already satisfied: numpy>=1.14.0 in /usr/local/lib/python3.8/dist-packages (from category_encoders) (1.22.4)\n",
            "Requirement already satisfied: pytz>=2017.3 in /usr/local/lib/python3.8/dist-packages (from pandas>=1.0.5->category_encoders) (2022.7.1)\n",
            "Requirement already satisfied: python-dateutil>=2.7.3 in /usr/local/lib/python3.8/dist-packages (from pandas>=1.0.5->category_encoders) (2.8.2)\n",
            "Requirement already satisfied: six in /usr/local/lib/python3.8/dist-packages (from patsy>=0.5.1->category_encoders) (1.15.0)\n",
            "Requirement already satisfied: threadpoolctl>=2.0.0 in /usr/local/lib/python3.8/dist-packages (from scikit-learn>=0.20.0->category_encoders) (3.1.0)\n",
            "Requirement already satisfied: joblib>=1.1.1 in /usr/local/lib/python3.8/dist-packages (from scikit-learn>=0.20.0->category_encoders) (1.2.0)\n",
            "Requirement already satisfied: packaging>=21.3 in /usr/local/lib/python3.8/dist-packages (from statsmodels>=0.9.0->category_encoders) (23.0)\n"
          ]
        }
      ]
    },
    {
      "cell_type": "code",
      "execution_count": 2,
      "metadata": {
        "id": "XzW6bTHEm62o"
      },
      "outputs": [],
      "source": [
        "# 모델링을 진행할 데이터를 가져옵니다.\n",
        "# 필요한 라이브러 및 패키지는 그때 그때 가져오도록 합니다.\n",
        "import pandas as pd\n",
        "df = pd.read_csv('https://raw.githubusercontent.com/00150/AI_07_JYP_Project_section_02/main/audi_eda').drop('Unnamed: 0', axis = 1)"
      ]
    },
    {
      "cell_type": "code",
      "source": [
        "df.info()"
      ],
      "metadata": {
        "colab": {
          "base_uri": "https://localhost:8080/"
        },
        "id": "LvCkrhDEncj2",
        "outputId": "370c6ae2-6d00-4483-9015-4314fd81a6f2"
      },
      "execution_count": 3,
      "outputs": [
        {
          "output_type": "stream",
          "name": "stdout",
          "text": [
            "<class 'pandas.core.frame.DataFrame'>\n",
            "RangeIndex: 9345 entries, 0 to 9344\n",
            "Data columns (total 15 columns):\n",
            " #   Column         Non-Null Count  Dtype  \n",
            "---  ------         --------------  -----  \n",
            " 0   model          9345 non-null   object \n",
            " 1   year           9345 non-null   int64  \n",
            " 2   price          9345 non-null   int64  \n",
            " 3   transmission   9345 non-null   object \n",
            " 4   mileage        9345 non-null   int64  \n",
            " 5   fuelType       9345 non-null   object \n",
            " 6   tax            9345 non-null   int64  \n",
            " 7   mpg            9345 non-null   float64\n",
            " 8   engineSize     9345 non-null   float64\n",
            " 9   size_and_type  9345 non-null   object \n",
            " 10  size           9345 non-null   object \n",
            " 11  type           9344 non-null   object \n",
            " 12  used_year      9345 non-null   int64  \n",
            " 13  ampy           9345 non-null   float64\n",
            " 14  km/l           9345 non-null   float64\n",
            "dtypes: float64(4), int64(5), object(6)\n",
            "memory usage: 1.1+ MB\n"
          ]
        }
      ]
    },
    {
      "cell_type": "markdown",
      "source": [
        "앞서 EDA & Visualization 을 진행한 데이터에는 다음과 같은 컬럼이 존재합니다."
      ],
      "metadata": {
        "id": "KBrJGTEBng8G"
      }
    },
    {
      "cell_type": "markdown",
      "source": [
        "* 각각의 컬럼은 다음과 같습니다. \n",
        "  - model : 자동차의 모델명 \n",
        "  - year : 연식 \n",
        "  - price : 가격 \n",
        "  - transmission : 변속기\n",
        "  - mileage : 자동차 주행거리\n",
        "  - fuelType : 자동차 연료의 유형\n",
        "  - tax : 세금(자동차)\n",
        "  - mpg(Miles per Gallon) : 자동차 연비(Fuel efficiency)\n",
        "  - engineSize :엔진 크기\n",
        "  - size_and_type :차량의 사이즈 및 타입\n",
        "  - size : 차량의 사이즈\n",
        "  - type : 차량의 유형\n",
        "  - used_year : 차를 사용한 연도\n",
        "  - ampy : 연간 평균 주행거리.\n",
        "  - km/l : 자동차 연비(한국식 표현)"
      ],
      "metadata": {
        "id": "Xgk50HnpAyTX"
      }
    },
    {
      "cell_type": "code",
      "source": [
        "df.head()"
      ],
      "metadata": {
        "colab": {
          "base_uri": "https://localhost:8080/",
          "height": 206
        },
        "id": "H6OAt07AoZhS",
        "outputId": "8675caad-74c4-4d8c-ee8a-d8b0363554fb"
      },
      "execution_count": 4,
      "outputs": [
        {
          "output_type": "execute_result",
          "data": {
            "text/plain": [
              "  model  year  price transmission  mileage fuelType  tax   mpg  engineSize  \\\n",
              "0    A1  2017  12500       Manual    15735   Petrol  150  55.4         1.4   \n",
              "1    A6  2016  16500    Automatic    36203   Diesel   20  64.2         2.0   \n",
              "2    A1  2016  11000       Manual    29946   Petrol   30  55.4         1.4   \n",
              "3    A4  2017  16800    Automatic    25952   Diesel  145  67.3         2.0   \n",
              "4    A3  2019  17300       Manual     1998   Petrol  145  49.6         1.0   \n",
              "\n",
              "      size_and_type     size       type  used_year    ampy  km/l  \n",
              "0   small_hatchback    small  hatchback          6  2622.5  23.8  \n",
              "1     subfull_sedan  subfull      sedan          7  5171.9  27.6  \n",
              "2   small_hatchback    small  hatchback          7  4278.0  23.8  \n",
              "3         mid_sedan      mid      sedan          6  4325.3  28.9  \n",
              "4  submid_hatchback   submid  hatchback          4   499.5  21.3  "
            ],
            "text/html": [
              "\n",
              "  <div id=\"df-2f112110-71ce-463d-bb2e-cef26631766a\">\n",
              "    <div class=\"colab-df-container\">\n",
              "      <div>\n",
              "<style scoped>\n",
              "    .dataframe tbody tr th:only-of-type {\n",
              "        vertical-align: middle;\n",
              "    }\n",
              "\n",
              "    .dataframe tbody tr th {\n",
              "        vertical-align: top;\n",
              "    }\n",
              "\n",
              "    .dataframe thead th {\n",
              "        text-align: right;\n",
              "    }\n",
              "</style>\n",
              "<table border=\"1\" class=\"dataframe\">\n",
              "  <thead>\n",
              "    <tr style=\"text-align: right;\">\n",
              "      <th></th>\n",
              "      <th>model</th>\n",
              "      <th>year</th>\n",
              "      <th>price</th>\n",
              "      <th>transmission</th>\n",
              "      <th>mileage</th>\n",
              "      <th>fuelType</th>\n",
              "      <th>tax</th>\n",
              "      <th>mpg</th>\n",
              "      <th>engineSize</th>\n",
              "      <th>size_and_type</th>\n",
              "      <th>size</th>\n",
              "      <th>type</th>\n",
              "      <th>used_year</th>\n",
              "      <th>ampy</th>\n",
              "      <th>km/l</th>\n",
              "    </tr>\n",
              "  </thead>\n",
              "  <tbody>\n",
              "    <tr>\n",
              "      <th>0</th>\n",
              "      <td>A1</td>\n",
              "      <td>2017</td>\n",
              "      <td>12500</td>\n",
              "      <td>Manual</td>\n",
              "      <td>15735</td>\n",
              "      <td>Petrol</td>\n",
              "      <td>150</td>\n",
              "      <td>55.4</td>\n",
              "      <td>1.4</td>\n",
              "      <td>small_hatchback</td>\n",
              "      <td>small</td>\n",
              "      <td>hatchback</td>\n",
              "      <td>6</td>\n",
              "      <td>2622.5</td>\n",
              "      <td>23.8</td>\n",
              "    </tr>\n",
              "    <tr>\n",
              "      <th>1</th>\n",
              "      <td>A6</td>\n",
              "      <td>2016</td>\n",
              "      <td>16500</td>\n",
              "      <td>Automatic</td>\n",
              "      <td>36203</td>\n",
              "      <td>Diesel</td>\n",
              "      <td>20</td>\n",
              "      <td>64.2</td>\n",
              "      <td>2.0</td>\n",
              "      <td>subfull_sedan</td>\n",
              "      <td>subfull</td>\n",
              "      <td>sedan</td>\n",
              "      <td>7</td>\n",
              "      <td>5171.9</td>\n",
              "      <td>27.6</td>\n",
              "    </tr>\n",
              "    <tr>\n",
              "      <th>2</th>\n",
              "      <td>A1</td>\n",
              "      <td>2016</td>\n",
              "      <td>11000</td>\n",
              "      <td>Manual</td>\n",
              "      <td>29946</td>\n",
              "      <td>Petrol</td>\n",
              "      <td>30</td>\n",
              "      <td>55.4</td>\n",
              "      <td>1.4</td>\n",
              "      <td>small_hatchback</td>\n",
              "      <td>small</td>\n",
              "      <td>hatchback</td>\n",
              "      <td>7</td>\n",
              "      <td>4278.0</td>\n",
              "      <td>23.8</td>\n",
              "    </tr>\n",
              "    <tr>\n",
              "      <th>3</th>\n",
              "      <td>A4</td>\n",
              "      <td>2017</td>\n",
              "      <td>16800</td>\n",
              "      <td>Automatic</td>\n",
              "      <td>25952</td>\n",
              "      <td>Diesel</td>\n",
              "      <td>145</td>\n",
              "      <td>67.3</td>\n",
              "      <td>2.0</td>\n",
              "      <td>mid_sedan</td>\n",
              "      <td>mid</td>\n",
              "      <td>sedan</td>\n",
              "      <td>6</td>\n",
              "      <td>4325.3</td>\n",
              "      <td>28.9</td>\n",
              "    </tr>\n",
              "    <tr>\n",
              "      <th>4</th>\n",
              "      <td>A3</td>\n",
              "      <td>2019</td>\n",
              "      <td>17300</td>\n",
              "      <td>Manual</td>\n",
              "      <td>1998</td>\n",
              "      <td>Petrol</td>\n",
              "      <td>145</td>\n",
              "      <td>49.6</td>\n",
              "      <td>1.0</td>\n",
              "      <td>submid_hatchback</td>\n",
              "      <td>submid</td>\n",
              "      <td>hatchback</td>\n",
              "      <td>4</td>\n",
              "      <td>499.5</td>\n",
              "      <td>21.3</td>\n",
              "    </tr>\n",
              "  </tbody>\n",
              "</table>\n",
              "</div>\n",
              "      <button class=\"colab-df-convert\" onclick=\"convertToInteractive('df-2f112110-71ce-463d-bb2e-cef26631766a')\"\n",
              "              title=\"Convert this dataframe to an interactive table.\"\n",
              "              style=\"display:none;\">\n",
              "        \n",
              "  <svg xmlns=\"http://www.w3.org/2000/svg\" height=\"24px\"viewBox=\"0 0 24 24\"\n",
              "       width=\"24px\">\n",
              "    <path d=\"M0 0h24v24H0V0z\" fill=\"none\"/>\n",
              "    <path d=\"M18.56 5.44l.94 2.06.94-2.06 2.06-.94-2.06-.94-.94-2.06-.94 2.06-2.06.94zm-11 1L8.5 8.5l.94-2.06 2.06-.94-2.06-.94L8.5 2.5l-.94 2.06-2.06.94zm10 10l.94 2.06.94-2.06 2.06-.94-2.06-.94-.94-2.06-.94 2.06-2.06.94z\"/><path d=\"M17.41 7.96l-1.37-1.37c-.4-.4-.92-.59-1.43-.59-.52 0-1.04.2-1.43.59L10.3 9.45l-7.72 7.72c-.78.78-.78 2.05 0 2.83L4 21.41c.39.39.9.59 1.41.59.51 0 1.02-.2 1.41-.59l7.78-7.78 2.81-2.81c.8-.78.8-2.07 0-2.86zM5.41 20L4 18.59l7.72-7.72 1.47 1.35L5.41 20z\"/>\n",
              "  </svg>\n",
              "      </button>\n",
              "      \n",
              "  <style>\n",
              "    .colab-df-container {\n",
              "      display:flex;\n",
              "      flex-wrap:wrap;\n",
              "      gap: 12px;\n",
              "    }\n",
              "\n",
              "    .colab-df-convert {\n",
              "      background-color: #E8F0FE;\n",
              "      border: none;\n",
              "      border-radius: 50%;\n",
              "      cursor: pointer;\n",
              "      display: none;\n",
              "      fill: #1967D2;\n",
              "      height: 32px;\n",
              "      padding: 0 0 0 0;\n",
              "      width: 32px;\n",
              "    }\n",
              "\n",
              "    .colab-df-convert:hover {\n",
              "      background-color: #E2EBFA;\n",
              "      box-shadow: 0px 1px 2px rgba(60, 64, 67, 0.3), 0px 1px 3px 1px rgba(60, 64, 67, 0.15);\n",
              "      fill: #174EA6;\n",
              "    }\n",
              "\n",
              "    [theme=dark] .colab-df-convert {\n",
              "      background-color: #3B4455;\n",
              "      fill: #D2E3FC;\n",
              "    }\n",
              "\n",
              "    [theme=dark] .colab-df-convert:hover {\n",
              "      background-color: #434B5C;\n",
              "      box-shadow: 0px 1px 3px 1px rgba(0, 0, 0, 0.15);\n",
              "      filter: drop-shadow(0px 1px 2px rgba(0, 0, 0, 0.3));\n",
              "      fill: #FFFFFF;\n",
              "    }\n",
              "  </style>\n",
              "\n",
              "      <script>\n",
              "        const buttonEl =\n",
              "          document.querySelector('#df-2f112110-71ce-463d-bb2e-cef26631766a button.colab-df-convert');\n",
              "        buttonEl.style.display =\n",
              "          google.colab.kernel.accessAllowed ? 'block' : 'none';\n",
              "\n",
              "        async function convertToInteractive(key) {\n",
              "          const element = document.querySelector('#df-2f112110-71ce-463d-bb2e-cef26631766a');\n",
              "          const dataTable =\n",
              "            await google.colab.kernel.invokeFunction('convertToInteractive',\n",
              "                                                     [key], {});\n",
              "          if (!dataTable) return;\n",
              "\n",
              "          const docLinkHtml = 'Like what you see? Visit the ' +\n",
              "            '<a target=\"_blank\" href=https://colab.research.google.com/notebooks/data_table.ipynb>data table notebook</a>'\n",
              "            + ' to learn more about interactive tables.';\n",
              "          element.innerHTML = '';\n",
              "          dataTable['output_type'] = 'display_data';\n",
              "          await google.colab.output.renderOutput(dataTable, element);\n",
              "          const docLink = document.createElement('div');\n",
              "          docLink.innerHTML = docLinkHtml;\n",
              "          element.appendChild(docLink);\n",
              "        }\n",
              "      </script>\n",
              "    </div>\n",
              "  </div>\n",
              "  "
            ]
          },
          "metadata": {},
          "execution_count": 4
        }
      ]
    },
    {
      "cell_type": "markdown",
      "source": [
        "##1. Feature Engineering\n",
        "> 기존 데이터에서 추가로 이용할 수 있는 부분이 있다면 새로운 피처를 생성합니다.\n",
        "\n",
        " -  Good preference badge 추가하기. <br>\n",
        " 차량을 사용한 이력이 3~5년사이, 주행거리가 30000이하, 자동차 연비(기준:km/l)가 21 이상이라면 뱃지를 달아줍니다.\n",
        "\n",
        " - 차량 모델에 상관없이 상태가 좋은 중고차를 구매하려고 하는 사람들이 분명 존재합니다. <br/>\n",
        "   이들에게 추천해줄 수 있도록 분류하는 모델을 생성하고자 합니다.\n",
        "\n"
      ],
      "metadata": {
        "id": "X87ak5EYCxMe"
      }
    },
    {
      "cell_type": "code",
      "source": [
        "# np.select() method를 이용합니다.\n",
        "import numpy as np\n",
        "conditionlist = [(df['used_year'] <=5) & (df['mileage'] <=30000) & (df['km/l'] >=21)]\n",
        "select_data = ['good']\n",
        "\n",
        "df['good_badge']  = np.select(conditionlist, select_data, default = 'Not Specified')"
      ],
      "metadata": {
        "id": "8qA7cTbgpLkL"
      },
      "execution_count": 5,
      "outputs": []
    },
    {
      "cell_type": "code",
      "source": [
        "# 타겟 비율 확인\n",
        "print(df['good_badge'].value_counts(normalize=True))\n",
        "\n",
        "# 시각화 - 필요한 라이브러리 가져오기.\n",
        "import seaborn as sns\n",
        "import matplotlib.pyplot as plt\n",
        "sns.countplot(x = df['good_badge'])"
      ],
      "metadata": {
        "colab": {
          "base_uri": "https://localhost:8080/",
          "height": 355
        },
        "id": "GpiN_TsVCCZ9",
        "outputId": "19345027-5566-481c-8702-093646367306"
      },
      "execution_count": 6,
      "outputs": [
        {
          "output_type": "stream",
          "name": "stdout",
          "text": [
            "Not Specified    0.880257\n",
            "good             0.119743\n",
            "Name: good_badge, dtype: float64\n"
          ]
        },
        {
          "output_type": "execute_result",
          "data": {
            "text/plain": [
              "<AxesSubplot:xlabel='good_badge', ylabel='count'>"
            ]
          },
          "metadata": {},
          "execution_count": 6
        },
        {
          "output_type": "display_data",
          "data": {
            "text/plain": [
              "<Figure size 432x288 with 1 Axes>"
            ],
            "image/png": "[encoded data removed]"
          },
          "metadata": {
            "needs_background": "light"
          }
        }
      ]
    },
    {
      "cell_type": "markdown",
      "source": [
        "현재 타겟은 **불균형한 데이터 값**을 보여주고 있습니다.\n",
        "* 모델 생성시 이 부분에 유의하여 모델을 생성하도록 합니다."
      ],
      "metadata": {
        "id": "GPXg9YGVRVAy"
      }
    },
    {
      "cell_type": "markdown",
      "source": [
        "#2.  Modeling"
      ],
      "metadata": {
        "id": "XPHqUmXkI2LB"
      }
    },
    {
      "cell_type": "markdown",
      "source": [
        "#### 2-1. Baseline 생성.\n",
        ">기준모델로 최다 비율 클래스를 사용할 경우 정확도는 다음과 같습니다."
      ],
      "metadata": {
        "id": "c5RD3o63RrUt"
      }
    },
    {
      "cell_type": "code",
      "source": [
        "# 타겟값을 mapping 하도록 합니다.\n",
        "# Not Specified = 0, good = 1\n",
        "y_train = df['good_badge'].replace(['Not Specified', 'good'], [0,1])\n",
        "\n",
        "# 기준 모델 생성 - 필요한 라이브러리 가져오기.\n",
        "from sklearn.metrics import accuracy_score\n",
        "\n",
        "major = y_train.mode()[0]\n",
        "\n",
        "\n",
        "# 최다빈도 값 : 0이 담긴 리스트를 생성합니다. \n",
        "major = y_train.mode()[0]\n",
        "y_pred = [major] * len(y_train)\n",
        "\n",
        "# 기준모델의 정확도는 다음과 같습니다.\n",
        "print(f'baseline accuracy:{accuracy_score(y_train, y_pred)}')"
      ],
      "metadata": {
        "colab": {
          "base_uri": "https://localhost:8080/"
        },
        "id": "iZ5xukTxTJ9w",
        "outputId": "e0ca2a3a-392b-4022-a4b2-e14d8d398dc4"
      },
      "execution_count": 7,
      "outputs": [
        {
          "output_type": "stream",
          "name": "stdout",
          "text": [
            "baseline accuracy:0.8802568218298555\n"
          ]
        }
      ]
    },
    {
      "cell_type": "markdown",
      "source": [
        "####2-2. `ML : DecisionTreeClassifier` 생성."
      ],
      "metadata": {
        "id": "NKH6057SXGX9"
      }
    },
    {
      "cell_type": "code",
      "source": [
        "# 데이터 분할.\n",
        "from sklearn.model_selection import train_test_split\n",
        "\n",
        "# 타겟 데이터를 같은 비율로 분할합니다.\n",
        "train, val = train_test_split(df,\n",
        "                                  train_size = 0.75,\n",
        "                                  stratify = df['good_badge'],random_state = 42)\n",
        "\n",
        "\n",
        "# target & feature 지정.00\n",
        "target = 'good_badge'\n",
        "features = df.columns.drop(['size_and_type','mpg',target])\n",
        "\n",
        "# train\n",
        "y_train = train[target]\n",
        "X_train = train[features]\n",
        "\n",
        "# val\n",
        "y_val = val[target]\n",
        "X_val = val[features]\n",
        "\n",
        "# shap\n",
        "print( X_train.shape, X_val.shape,'\\n'*2)\n",
        "print(y_train.value_counts(normalize=True),'\\n'*2, y_val.value_counts(normalize=True),'\\n'*2)"
      ],
      "metadata": {
        "colab": {
          "base_uri": "https://localhost:8080/"
        },
        "id": "GvmXH4Tkdx4d",
        "outputId": "8c7966da-9e2e-486e-a8d6-73883323843e"
      },
      "execution_count": 8,
      "outputs": [
        {
          "output_type": "stream",
          "name": "stdout",
          "text": [
            "(7008, 13) (2337, 13) \n",
            "\n",
            "\n",
            "Not Specified    0.88028\n",
            "good             0.11972\n",
            "Name: good_badge, dtype: float64 \n",
            "\n",
            " Not Specified    0.880188\n",
            "good             0.119812\n",
            "Name: good_badge, dtype: float64 \n",
            "\n",
            "\n",
            "맵핑 이후 값은 다음과 같습니다. \n",
            " Not Specified    0.88028\n",
            "good             0.11972\n",
            "Name: good_badge, dtype: float64\n"
          ]
        }
      ]
    },
    {
      "cell_type": "code",
      "source": [
        "\n",
        "# 데이터 인코딩 및 파이프라인 생성 : 필요한 라이브러리 가져오기.\n",
        "from category_encoders import OrdinalEncoder\n",
        "from sklearn.tree import DecisionTreeClassifier\n",
        "from sklearn.pipeline import make_pipeline\n",
        "\n",
        "pipe = make_pipeline(\n",
        "    OrdinalEncoder(),\n",
        "    DecisionTreeClassifier(max_depth = 5, random_state=2))\n",
        "\n",
        "print(pipe)\n",
        "\n",
        "#eval_set\n",
        "pipe.fit(X_train, \n",
        "          y_train)\n",
        "\n",
        "print('검증 정확도:', pipe.score(X_val,y_val))"
      ],
      "metadata": {
        "colab": {
          "base_uri": "https://localhost:8080/"
        },
        "id": "jJ9F5j-neUDd",
        "outputId": "c4681c08-de6e-4615-dcc6-11a14f0490e3"
      },
      "execution_count": 9,
      "outputs": [
        {
          "output_type": "stream",
          "name": "stdout",
          "text": [
            "Pipeline(steps=[('ordinalencoder', OrdinalEncoder()),\n",
            "                ('decisiontreeclassifier',\n",
            "                 DecisionTreeClassifier(max_depth=5, random_state=2))])\n",
            "검증 정확도: 1.0\n"
          ]
        }
      ]
    },
    {
      "cell_type": "markdown",
      "source": [
        "**검증 정확도가 1이 나왔습니다😥**\n",
        ">모델을 시각화하여 과적합을 일으키는 컬럼을 확인합니다.\n",
        "\n",
        "*`column: 'km/l'`을 지운 후 다시 한 번 살펴봅니다. "
      ],
      "metadata": {
        "id": "rerazwPMVEAM"
      }
    },
    {
      "cell_type": "code",
      "source": [
        "import graphviz\n",
        "from sklearn.tree import export_graphviz\n",
        "\n",
        "# 파이프라인에서 xgbclassifier에 접근.\n",
        "tree = pipe.named_steps['decisiontreeclassifier']\n",
        "\n",
        "\n",
        "dot_data = export_graphviz(\n",
        "    tree,\n",
        "    feature_names= X_train.columns,\n",
        "    class_names = y_train.unique().astype(str),\n",
        "    filled = True,\n",
        "    proportion = True,\n",
        ")\n",
        "\n",
        "graphviz.Source(dot_data)"
      ],
      "metadata": {
        "colab": {
          "base_uri": "https://localhost:8080/",
          "height": 597
        },
        "id": "UVk7GKPm1x4o",
        "outputId": "e4ded1fa-f654-4105-8ff9-eda0fbf2682a"
      },
      "execution_count": 10,
      "outputs": [
        {
          "output_type": "execute_result",
          "data": {
            "text/plain": [
              "<graphviz.files.Source at 0x7f3601cd9cd0>"
            ],
            "image/svg+xml": "<?xml version=\"1.0\" encoding=\"UTF-8\" standalone=\"no\"?>\n<!DOCTYPE svg PUBLIC \"-//W3C//DTD SVG 1.1//EN\"\n \"http://www.w3.org/Graphics/SVG/1.1/DTD/svg11.dtd\">\n<!-- Generated by graphviz version 2.43.0 (0)\n -->\n<!-- Title: Tree Pages: 1 -->\n<svg width=\"368pt\" height=\"433pt\"\n viewBox=\"0.00 0.00 367.50 433.00\" xmlns=\"http://www.w3.org/2000/svg\" xmlns:xlink=\"http://www.w3.org/1999/xlink\">\n<g id=\"graph0\" class=\"graph\" transform=\"scale(1 1) rotate(0) translate(4 429)\">\n<title>Tree</title>\n<polygon fill=\"white\" stroke=\"transparent\" points=\"-4,4 -4,-429 363.5,-429 363.5,4 -4,4\"/>\n<!-- 0 -->\n<g id=\"node1\" class=\"node\">\n<title>0</title>\n<polygon fill=\"#e99254\" stroke=\"black\" points=\"211.5,-425 79.5,-425 79.5,-342 211.5,-342 211.5,-425\"/>\n<text text-anchor=\"middle\" x=\"145.5\" y=\"-409.8\" font-family=\"Helvetica,sans-Serif\" font-size=\"14.00\">km/l &lt;= 21.1</text>\n<text text-anchor=\"middle\" x=\"145.5\" y=\"-394.8\" font-family=\"Helvetica,sans-Serif\" font-size=\"14.00\">gini = 0.211</text>\n<text text-anchor=\"middle\" x=\"145.5\" y=\"-379.8\" font-family=\"Helvetica,sans-Serif\" font-size=\"14.00\">samples = 100.0%</text>\n<text text-anchor=\"middle\" x=\"145.5\" y=\"-364.8\" font-family=\"Helvetica,sans-Serif\" font-size=\"14.00\">value = [0.88, 0.12]</text>\n<text text-anchor=\"middle\" x=\"145.5\" y=\"-349.8\" font-family=\"Helvetica,sans-Serif\" font-size=\"14.00\">class = good</text>\n</g>\n<!-- 1 -->\n<g id=\"node2\" class=\"node\">\n<title>1</title>\n<polygon fill=\"#e58139\" stroke=\"black\" points=\"130.5,-298.5 8.5,-298.5 8.5,-230.5 130.5,-230.5 130.5,-298.5\"/>\n<text text-anchor=\"middle\" x=\"69.5\" y=\"-283.3\" font-family=\"Helvetica,sans-Serif\" font-size=\"14.00\">gini = 0.0</text>\n<text text-anchor=\"middle\" x=\"69.5\" y=\"-268.3\" font-family=\"Helvetica,sans-Serif\" font-size=\"14.00\">samples = 51.3%</text>\n<text text-anchor=\"middle\" x=\"69.5\" y=\"-253.3\" font-family=\"Helvetica,sans-Serif\" font-size=\"14.00\">value = [1.0, 0.0]</text>\n<text text-anchor=\"middle\" x=\"69.5\" y=\"-238.3\" font-family=\"Helvetica,sans-Serif\" font-size=\"14.00\">class = good</text>\n</g>\n<!-- 0&#45;&gt;1 -->\n<g id=\"edge1\" class=\"edge\">\n<title>0&#45;&gt;1</title>\n<path fill=\"none\" stroke=\"black\" d=\"M119.13,-341.91C111.82,-330.65 103.87,-318.42 96.53,-307.11\"/>\n<polygon fill=\"black\" stroke=\"black\" points=\"99.43,-305.15 91.04,-298.67 93.56,-308.96 99.43,-305.15\"/>\n<text text-anchor=\"middle\" x=\"85.85\" y=\"-319.42\" font-family=\"Helvetica,sans-Serif\" font-size=\"14.00\">True</text>\n</g>\n<!-- 2 -->\n<g id=\"node3\" class=\"node\">\n<title>2</title>\n<polygon fill=\"#edaa7a\" stroke=\"black\" points=\"296,-306 149,-306 149,-223 296,-223 296,-306\"/>\n<text text-anchor=\"middle\" x=\"222.5\" y=\"-290.8\" font-family=\"Helvetica,sans-Serif\" font-size=\"14.00\">used_year &lt;= 5.5</text>\n<text text-anchor=\"middle\" x=\"222.5\" y=\"-275.8\" font-family=\"Helvetica,sans-Serif\" font-size=\"14.00\">gini = 0.371</text>\n<text text-anchor=\"middle\" x=\"222.5\" y=\"-260.8\" font-family=\"Helvetica,sans-Serif\" font-size=\"14.00\">samples = 48.7%</text>\n<text text-anchor=\"middle\" x=\"222.5\" y=\"-245.8\" font-family=\"Helvetica,sans-Serif\" font-size=\"14.00\">value = [0.754, 0.246]</text>\n<text text-anchor=\"middle\" x=\"222.5\" y=\"-230.8\" font-family=\"Helvetica,sans-Serif\" font-size=\"14.00\">class = good</text>\n</g>\n<!-- 0&#45;&gt;2 -->\n<g id=\"edge2\" class=\"edge\">\n<title>0&#45;&gt;2</title>\n<path fill=\"none\" stroke=\"black\" d=\"M172.21,-341.91C178.01,-333.1 184.2,-323.7 190.18,-314.61\"/>\n<polygon fill=\"black\" stroke=\"black\" points=\"193.26,-316.3 195.83,-306.02 187.41,-312.45 193.26,-316.3\"/>\n<text text-anchor=\"middle\" x=\"200.88\" y=\"-326.81\" font-family=\"Helvetica,sans-Serif\" font-size=\"14.00\">False</text>\n</g>\n<!-- 3 -->\n<g id=\"node4\" class=\"node\">\n<title>3</title>\n<polygon fill=\"#42a1e6\" stroke=\"black\" points=\"219,-187 72,-187 72,-104 219,-104 219,-187\"/>\n<text text-anchor=\"middle\" x=\"145.5\" y=\"-171.8\" font-family=\"Helvetica,sans-Serif\" font-size=\"14.00\">mileage &lt;= 29949.0</text>\n<text text-anchor=\"middle\" x=\"145.5\" y=\"-156.8\" font-family=\"Helvetica,sans-Serif\" font-size=\"14.00\">gini = 0.083</text>\n<text text-anchor=\"middle\" x=\"145.5\" y=\"-141.8\" font-family=\"Helvetica,sans-Serif\" font-size=\"14.00\">samples = 12.5%</text>\n<text text-anchor=\"middle\" x=\"145.5\" y=\"-126.8\" font-family=\"Helvetica,sans-Serif\" font-size=\"14.00\">value = [0.043, 0.957]</text>\n<text text-anchor=\"middle\" x=\"145.5\" y=\"-111.8\" font-family=\"Helvetica,sans-Serif\" font-size=\"14.00\">class = Not Specified</text>\n</g>\n<!-- 2&#45;&gt;3 -->\n<g id=\"edge3\" class=\"edge\">\n<title>2&#45;&gt;3</title>\n<path fill=\"none\" stroke=\"black\" d=\"M195.79,-222.91C189.99,-214.1 183.8,-204.7 177.82,-195.61\"/>\n<polygon fill=\"black\" stroke=\"black\" points=\"180.59,-193.45 172.17,-187.02 174.74,-197.3 180.59,-193.45\"/>\n</g>\n<!-- 6 -->\n<g id=\"node7\" class=\"node\">\n<title>6</title>\n<polygon fill=\"#e58139\" stroke=\"black\" points=\"359.5,-179.5 237.5,-179.5 237.5,-111.5 359.5,-111.5 359.5,-179.5\"/>\n<text text-anchor=\"middle\" x=\"298.5\" y=\"-164.3\" font-family=\"Helvetica,sans-Serif\" font-size=\"14.00\">gini = 0.0</text>\n<text text-anchor=\"middle\" x=\"298.5\" y=\"-149.3\" font-family=\"Helvetica,sans-Serif\" font-size=\"14.00\">samples = 36.2%</text>\n<text text-anchor=\"middle\" x=\"298.5\" y=\"-134.3\" font-family=\"Helvetica,sans-Serif\" font-size=\"14.00\">value = [1.0, 0.0]</text>\n<text text-anchor=\"middle\" x=\"298.5\" y=\"-119.3\" font-family=\"Helvetica,sans-Serif\" font-size=\"14.00\">class = good</text>\n</g>\n<!-- 2&#45;&gt;6 -->\n<g id=\"edge6\" class=\"edge\">\n<title>2&#45;&gt;6</title>\n<path fill=\"none\" stroke=\"black\" d=\"M248.87,-222.91C256.18,-211.65 264.13,-199.42 271.47,-188.11\"/>\n<polygon fill=\"black\" stroke=\"black\" points=\"274.44,-189.96 276.96,-179.67 268.57,-186.15 274.44,-189.96\"/>\n</g>\n<!-- 4 -->\n<g id=\"node5\" class=\"node\">\n<title>4</title>\n<polygon fill=\"#399de5\" stroke=\"black\" points=\"143,-68 0,-68 0,0 143,0 143,-68\"/>\n<text text-anchor=\"middle\" x=\"71.5\" y=\"-52.8\" font-family=\"Helvetica,sans-Serif\" font-size=\"14.00\">gini = 0.0</text>\n<text text-anchor=\"middle\" x=\"71.5\" y=\"-37.8\" font-family=\"Helvetica,sans-Serif\" font-size=\"14.00\">samples = 12.0%</text>\n<text text-anchor=\"middle\" x=\"71.5\" y=\"-22.8\" font-family=\"Helvetica,sans-Serif\" font-size=\"14.00\">value = [0.0, 1.0]</text>\n<text text-anchor=\"middle\" x=\"71.5\" y=\"-7.8\" font-family=\"Helvetica,sans-Serif\" font-size=\"14.00\">class = Not Specified</text>\n</g>\n<!-- 3&#45;&gt;4 -->\n<g id=\"edge4\" class=\"edge\">\n<title>3&#45;&gt;4</title>\n<path fill=\"none\" stroke=\"black\" d=\"M117.95,-103.73C111.97,-94.88 105.63,-85.51 99.63,-76.63\"/>\n<polygon fill=\"black\" stroke=\"black\" points=\"102.5,-74.63 94,-68.3 96.7,-78.54 102.5,-74.63\"/>\n</g>\n<!-- 5 -->\n<g id=\"node6\" class=\"node\">\n<title>5</title>\n<polygon fill=\"#e58139\" stroke=\"black\" points=\"278,-68 161,-68 161,0 278,0 278,-68\"/>\n<text text-anchor=\"middle\" x=\"219.5\" y=\"-52.8\" font-family=\"Helvetica,sans-Serif\" font-size=\"14.00\">gini = 0.0</text>\n<text text-anchor=\"middle\" x=\"219.5\" y=\"-37.8\" font-family=\"Helvetica,sans-Serif\" font-size=\"14.00\">samples = 0.5%</text>\n<text text-anchor=\"middle\" x=\"219.5\" y=\"-22.8\" font-family=\"Helvetica,sans-Serif\" font-size=\"14.00\">value = [1.0, 0.0]</text>\n<text text-anchor=\"middle\" x=\"219.5\" y=\"-7.8\" font-family=\"Helvetica,sans-Serif\" font-size=\"14.00\">class = good</text>\n</g>\n<!-- 3&#45;&gt;5 -->\n<g id=\"edge5\" class=\"edge\">\n<title>3&#45;&gt;5</title>\n<path fill=\"none\" stroke=\"black\" d=\"M173.05,-103.73C179.03,-94.88 185.37,-85.51 191.37,-76.63\"/>\n<polygon fill=\"black\" stroke=\"black\" points=\"194.3,-78.54 197,-68.3 188.5,-74.63 194.3,-78.54\"/>\n</g>\n</g>\n</svg>\n"
          },
          "metadata": {},
          "execution_count": 10
        }
      ]
    },
    {
      "cell_type": "code",
      "source": [
        "# 'km/l 제거'\n",
        "features = df.columns.drop(['size_and_type','mpg','km/l',target])\n",
        "\n",
        "# train\n",
        "X_train = train[features]\n",
        "y_train = train[target]\n",
        "\n",
        "# val\n",
        "X_val = val[features]\n",
        "y_val = val[target]\n",
        "\n",
        "# 새로운 파이프라인 생성.\n",
        "pipe = make_pipeline(\n",
        "    OrdinalEncoder(),\n",
        "    DecisionTreeClassifier(max_depth = 5,\n",
        "                           random_state = 42))\n",
        "\n",
        "\n",
        "# fit\n",
        "pipe.fit(X_train, y_train)\n",
        "print(f'검증 정확도:{pipe.score(X_val, y_val)}')"
      ],
      "metadata": {
        "id": "J2rhEQJ1InAY",
        "outputId": "6ba97049-a18f-4fe5-b43b-e7aba62416a1",
        "colab": {
          "base_uri": "https://localhost:8080/"
        }
      },
      "execution_count": 11,
      "outputs": [
        {
          "output_type": "stream",
          "name": "stdout",
          "text": [
            "검증 정확도:0.9490800171159607\n"
          ]
        }
      ]
    },
    {
      "cell_type": "code",
      "source": [
        "# 트리를 다시 한 번 시각화하여 봅시다.\n",
        "tree = pipe.named_steps['decisiontreeclassifier']\n",
        "\n",
        "\n",
        "dot_data = export_graphviz(\n",
        "    tree,\n",
        "    feature_names= X_train.columns,\n",
        "    class_names = y_train.unique().astype(str),\n",
        "    filled = True,\n",
        "    proportion = True,\n",
        ")\n",
        "\n",
        "graphviz.Source(dot_data)"
      ],
      "metadata": {
        "id": "L_V4aANjIora",
        "outputId": "e28127cf-3c8c-4dee-8067-0498e8dc0ecb",
        "colab": {
          "base_uri": "https://localhost:8080/",
          "height": 934
        }
      },
      "execution_count": 12,
      "outputs": [
        {
          "output_type": "execute_result",
          "data": {
            "text/plain": [
              "<graphviz.files.Source at 0x7f36096854c0>"
            ],
            "image/svg+xml": "<?xml version=\"1.0\" encoding=\"UTF-8\" standalone=\"no\"?>\n<!DOCTYPE svg PUBLIC \"-//W3C//DTD SVG 1.1//EN\"\n \"http://www.w3.org/Graphics/SVG/1.1/DTD/svg11.dtd\">\n<!-- Generated by graphviz version 2.43.0 (0)\n -->\n<!-- Title: Tree Pages: 1 -->\n<svg width=\"1962pt\" height=\"671pt\"\n viewBox=\"0.00 0.00 1962.00 671.00\" xmlns=\"http://www.w3.org/2000/svg\" xmlns:xlink=\"http://www.w3.org/1999/xlink\">\n<g id=\"graph0\" class=\"graph\" transform=\"scale(1 1) rotate(0) translate(4 667)\">\n<title>Tree</title>\n<polygon fill=\"white\" stroke=\"transparent\" points=\"-4,4 -4,-667 1958,-667 1958,4 -4,4\"/>\n<!-- 0 -->\n<g id=\"node1\" class=\"node\">\n<title>0</title>\n<polygon fill=\"#e99254\" stroke=\"black\" points=\"1194.5,-663 1062.5,-663 1062.5,-580 1194.5,-580 1194.5,-663\"/>\n<text text-anchor=\"middle\" x=\"1128.5\" y=\"-647.8\" font-family=\"Helvetica,sans-Serif\" font-size=\"14.00\">used_year &lt;= 5.5</text>\n<text text-anchor=\"middle\" x=\"1128.5\" y=\"-632.8\" font-family=\"Helvetica,sans-Serif\" font-size=\"14.00\">gini = 0.211</text>\n<text text-anchor=\"middle\" x=\"1128.5\" y=\"-617.8\" font-family=\"Helvetica,sans-Serif\" font-size=\"14.00\">samples = 100.0%</text>\n<text text-anchor=\"middle\" x=\"1128.5\" y=\"-602.8\" font-family=\"Helvetica,sans-Serif\" font-size=\"14.00\">value = [0.88, 0.12]</text>\n<text text-anchor=\"middle\" x=\"1128.5\" y=\"-587.8\" font-family=\"Helvetica,sans-Serif\" font-size=\"14.00\">class = good</text>\n</g>\n<!-- 1 -->\n<g id=\"node2\" class=\"node\">\n<title>1</title>\n<polygon fill=\"#eda876\" stroke=\"black\" points=\"1126,-544 979,-544 979,-461 1126,-461 1126,-544\"/>\n<text text-anchor=\"middle\" x=\"1052.5\" y=\"-528.8\" font-family=\"Helvetica,sans-Serif\" font-size=\"14.00\">price &lt;= 21997.5</text>\n<text text-anchor=\"middle\" x=\"1052.5\" y=\"-513.8\" font-family=\"Helvetica,sans-Serif\" font-size=\"14.00\">gini = 0.36</text>\n<text text-anchor=\"middle\" x=\"1052.5\" y=\"-498.8\" font-family=\"Helvetica,sans-Serif\" font-size=\"14.00\">samples = 50.9%</text>\n<text text-anchor=\"middle\" x=\"1052.5\" y=\"-483.8\" font-family=\"Helvetica,sans-Serif\" font-size=\"14.00\">value = [0.765, 0.235]</text>\n<text text-anchor=\"middle\" x=\"1052.5\" y=\"-468.8\" font-family=\"Helvetica,sans-Serif\" font-size=\"14.00\">class = good</text>\n</g>\n<!-- 0&#45;&gt;1 -->\n<g id=\"edge1\" class=\"edge\">\n<title>0&#45;&gt;1</title>\n<path fill=\"none\" stroke=\"black\" d=\"M1102.13,-579.91C1096.41,-571.1 1090.31,-561.7 1084.4,-552.61\"/>\n<polygon fill=\"black\" stroke=\"black\" points=\"1087.2,-550.5 1078.82,-544.02 1081.33,-554.31 1087.2,-550.5\"/>\n<text text-anchor=\"middle\" x=\"1073.63\" y=\"-564.78\" font-family=\"Helvetica,sans-Serif\" font-size=\"14.00\">True</text>\n</g>\n<!-- 28 -->\n<g id=\"node29\" class=\"node\">\n<title>28</title>\n<polygon fill=\"#e58139\" stroke=\"black\" points=\"1266.5,-536.5 1144.5,-536.5 1144.5,-468.5 1266.5,-468.5 1266.5,-536.5\"/>\n<text text-anchor=\"middle\" x=\"1205.5\" y=\"-521.3\" font-family=\"Helvetica,sans-Serif\" font-size=\"14.00\">gini = 0.0</text>\n<text text-anchor=\"middle\" x=\"1205.5\" y=\"-506.3\" font-family=\"Helvetica,sans-Serif\" font-size=\"14.00\">samples = 49.1%</text>\n<text text-anchor=\"middle\" x=\"1205.5\" y=\"-491.3\" font-family=\"Helvetica,sans-Serif\" font-size=\"14.00\">value = [1.0, 0.0]</text>\n<text text-anchor=\"middle\" x=\"1205.5\" y=\"-476.3\" font-family=\"Helvetica,sans-Serif\" font-size=\"14.00\">class = good</text>\n</g>\n<!-- 0&#45;&gt;28 -->\n<g id=\"edge28\" class=\"edge\">\n<title>0&#45;&gt;28</title>\n<path fill=\"none\" stroke=\"black\" d=\"M1155.21,-579.91C1162.62,-568.65 1170.67,-556.42 1178.12,-545.11\"/>\n<polygon fill=\"black\" stroke=\"black\" points=\"1181.1,-546.94 1183.67,-536.67 1175.25,-543.1 1181.1,-546.94\"/>\n<text text-anchor=\"middle\" x=\"1188.72\" y=\"-557.45\" font-family=\"Helvetica,sans-Serif\" font-size=\"14.00\">False</text>\n</g>\n<!-- 2 -->\n<g id=\"node3\" class=\"node\">\n<title>2</title>\n<polygon fill=\"#c8e4f8\" stroke=\"black\" points=\"959,-425 816,-425 816,-342 959,-342 959,-425\"/>\n<text text-anchor=\"middle\" x=\"887.5\" y=\"-409.8\" font-family=\"Helvetica,sans-Serif\" font-size=\"14.00\">used_year &lt;= 4.5</text>\n<text text-anchor=\"middle\" x=\"887.5\" y=\"-394.8\" font-family=\"Helvetica,sans-Serif\" font-size=\"14.00\">gini = 0.487</text>\n<text text-anchor=\"middle\" x=\"887.5\" y=\"-379.8\" font-family=\"Helvetica,sans-Serif\" font-size=\"14.00\">samples = 10.2%</text>\n<text text-anchor=\"middle\" x=\"887.5\" y=\"-364.8\" font-family=\"Helvetica,sans-Serif\" font-size=\"14.00\">value = [0.42, 0.58]</text>\n<text text-anchor=\"middle\" x=\"887.5\" y=\"-349.8\" font-family=\"Helvetica,sans-Serif\" font-size=\"14.00\">class = Not Specified</text>\n</g>\n<!-- 1&#45;&gt;2 -->\n<g id=\"edge2\" class=\"edge\">\n<title>1&#45;&gt;2</title>\n<path fill=\"none\" stroke=\"black\" d=\"M995.25,-460.91C981.56,-451.2 966.84,-440.76 952.81,-430.81\"/>\n<polygon fill=\"black\" stroke=\"black\" points=\"954.83,-427.95 944.64,-425.02 950.78,-433.66 954.83,-427.95\"/>\n</g>\n<!-- 15 -->\n<g id=\"node16\" class=\"node\">\n<title>15</title>\n<polygon fill=\"#ea975c\" stroke=\"black\" points=\"1380,-425 1233,-425 1233,-342 1380,-342 1380,-425\"/>\n<text text-anchor=\"middle\" x=\"1306.5\" y=\"-409.8\" font-family=\"Helvetica,sans-Serif\" font-size=\"14.00\">fuelType &lt;= 1.5</text>\n<text text-anchor=\"middle\" x=\"1306.5\" y=\"-394.8\" font-family=\"Helvetica,sans-Serif\" font-size=\"14.00\">gini = 0.253</text>\n<text text-anchor=\"middle\" x=\"1306.5\" y=\"-379.8\" font-family=\"Helvetica,sans-Serif\" font-size=\"14.00\">samples = 40.7%</text>\n<text text-anchor=\"middle\" x=\"1306.5\" y=\"-364.8\" font-family=\"Helvetica,sans-Serif\" font-size=\"14.00\">value = [0.852, 0.148]</text>\n<text text-anchor=\"middle\" x=\"1306.5\" y=\"-349.8\" font-family=\"Helvetica,sans-Serif\" font-size=\"14.00\">class = good</text>\n</g>\n<!-- 1&#45;&gt;15 -->\n<g id=\"edge15\" class=\"edge\">\n<title>1&#45;&gt;15</title>\n<path fill=\"none\" stroke=\"black\" d=\"M1126.21,-465.38C1129.34,-463.89 1132.45,-462.43 1135.5,-461 1163.96,-447.7 1195.28,-433.54 1223.26,-421.07\"/>\n<polygon fill=\"black\" stroke=\"black\" points=\"1224.89,-424.18 1232.61,-416.91 1222.05,-417.78 1224.89,-424.18\"/>\n</g>\n<!-- 3 -->\n<g id=\"node4\" class=\"node\">\n<title>3</title>\n<polygon fill=\"#f9e0ce\" stroke=\"black\" points=\"555,-306 408,-306 408,-223 555,-223 555,-306\"/>\n<text text-anchor=\"middle\" x=\"481.5\" y=\"-290.8\" font-family=\"Helvetica,sans-Serif\" font-size=\"14.00\">fuelType &lt;= 1.5</text>\n<text text-anchor=\"middle\" x=\"481.5\" y=\"-275.8\" font-family=\"Helvetica,sans-Serif\" font-size=\"14.00\">gini = 0.49</text>\n<text text-anchor=\"middle\" x=\"481.5\" y=\"-260.8\" font-family=\"Helvetica,sans-Serif\" font-size=\"14.00\">samples = 5.9%</text>\n<text text-anchor=\"middle\" x=\"481.5\" y=\"-245.8\" font-family=\"Helvetica,sans-Serif\" font-size=\"14.00\">value = [0.571, 0.429]</text>\n<text text-anchor=\"middle\" x=\"481.5\" y=\"-230.8\" font-family=\"Helvetica,sans-Serif\" font-size=\"14.00\">class = good</text>\n</g>\n<!-- 2&#45;&gt;3 -->\n<g id=\"edge3\" class=\"edge\">\n<title>2&#45;&gt;3</title>\n<path fill=\"none\" stroke=\"black\" d=\"M815.85,-361.85C745.7,-341.64 638.87,-310.85 564.93,-289.54\"/>\n<polygon fill=\"black\" stroke=\"black\" points=\"565.75,-286.14 555.17,-286.73 563.81,-292.86 565.75,-286.14\"/>\n</g>\n<!-- 10 -->\n<g id=\"node11\" class=\"node\">\n<title>10</title>\n<polygon fill=\"#6eb7ec\" stroke=\"black\" points=\"961,-306 814,-306 814,-223 961,-223 961,-306\"/>\n<text text-anchor=\"middle\" x=\"887.5\" y=\"-290.8\" font-family=\"Helvetica,sans-Serif\" font-size=\"14.00\">mileage &lt;= 29949.0</text>\n<text text-anchor=\"middle\" x=\"887.5\" y=\"-275.8\" font-family=\"Helvetica,sans-Serif\" font-size=\"14.00\">gini = 0.334</text>\n<text text-anchor=\"middle\" x=\"887.5\" y=\"-260.8\" font-family=\"Helvetica,sans-Serif\" font-size=\"14.00\">samples = 4.3%</text>\n<text text-anchor=\"middle\" x=\"887.5\" y=\"-245.8\" font-family=\"Helvetica,sans-Serif\" font-size=\"14.00\">value = [0.212, 0.788]</text>\n<text text-anchor=\"middle\" x=\"887.5\" y=\"-230.8\" font-family=\"Helvetica,sans-Serif\" font-size=\"14.00\">class = Not Specified</text>\n</g>\n<!-- 2&#45;&gt;10 -->\n<g id=\"edge10\" class=\"edge\">\n<title>2&#45;&gt;10</title>\n<path fill=\"none\" stroke=\"black\" d=\"M887.5,-341.91C887.5,-333.65 887.5,-324.86 887.5,-316.3\"/>\n<polygon fill=\"black\" stroke=\"black\" points=\"891,-316.02 887.5,-306.02 884,-316.02 891,-316.02\"/>\n</g>\n<!-- 4 -->\n<g id=\"node5\" class=\"node\">\n<title>4</title>\n<polygon fill=\"#54aae9\" stroke=\"black\" points=\"306,-187 163,-187 163,-104 306,-104 306,-187\"/>\n<text text-anchor=\"middle\" x=\"234.5\" y=\"-171.8\" font-family=\"Helvetica,sans-Serif\" font-size=\"14.00\">size &lt;= 3.5</text>\n<text text-anchor=\"middle\" x=\"234.5\" y=\"-156.8\" font-family=\"Helvetica,sans-Serif\" font-size=\"14.00\">gini = 0.211</text>\n<text text-anchor=\"middle\" x=\"234.5\" y=\"-141.8\" font-family=\"Helvetica,sans-Serif\" font-size=\"14.00\">samples = 2.4%</text>\n<text text-anchor=\"middle\" x=\"234.5\" y=\"-126.8\" font-family=\"Helvetica,sans-Serif\" font-size=\"14.00\">value = [0.12, 0.88]</text>\n<text text-anchor=\"middle\" x=\"234.5\" y=\"-111.8\" font-family=\"Helvetica,sans-Serif\" font-size=\"14.00\">class = Not Specified</text>\n</g>\n<!-- 3&#45;&gt;4 -->\n<g id=\"edge4\" class=\"edge\">\n<title>3&#45;&gt;4</title>\n<path fill=\"none\" stroke=\"black\" d=\"M407.73,-228.55C378.61,-214.76 345.07,-198.88 315.3,-184.78\"/>\n<polygon fill=\"black\" stroke=\"black\" points=\"316.73,-181.58 306.2,-180.46 313.73,-187.9 316.73,-181.58\"/>\n</g>\n<!-- 7 -->\n<g id=\"node8\" class=\"node\">\n<title>7</title>\n<polygon fill=\"#e99355\" stroke=\"black\" points=\"555,-187 408,-187 408,-104 555,-104 555,-187\"/>\n<text text-anchor=\"middle\" x=\"481.5\" y=\"-171.8\" font-family=\"Helvetica,sans-Serif\" font-size=\"14.00\">price &lt;= 19457.5</text>\n<text text-anchor=\"middle\" x=\"481.5\" y=\"-156.8\" font-family=\"Helvetica,sans-Serif\" font-size=\"14.00\">gini = 0.219</text>\n<text text-anchor=\"middle\" x=\"481.5\" y=\"-141.8\" font-family=\"Helvetica,sans-Serif\" font-size=\"14.00\">samples = 3.5%</text>\n<text text-anchor=\"middle\" x=\"481.5\" y=\"-126.8\" font-family=\"Helvetica,sans-Serif\" font-size=\"14.00\">value = [0.875, 0.125]</text>\n<text text-anchor=\"middle\" x=\"481.5\" y=\"-111.8\" font-family=\"Helvetica,sans-Serif\" font-size=\"14.00\">class = good</text>\n</g>\n<!-- 3&#45;&gt;7 -->\n<g id=\"edge7\" class=\"edge\">\n<title>3&#45;&gt;7</title>\n<path fill=\"none\" stroke=\"black\" d=\"M481.5,-222.91C481.5,-214.65 481.5,-205.86 481.5,-197.3\"/>\n<polygon fill=\"black\" stroke=\"black\" points=\"485,-197.02 481.5,-187.02 478,-197.02 485,-197.02\"/>\n</g>\n<!-- 5 -->\n<g id=\"node6\" class=\"node\">\n<title>5</title>\n<polygon fill=\"#399de5\" stroke=\"black\" points=\"143,-68 0,-68 0,0 143,0 143,-68\"/>\n<text text-anchor=\"middle\" x=\"71.5\" y=\"-52.8\" font-family=\"Helvetica,sans-Serif\" font-size=\"14.00\">gini = 0.0</text>\n<text text-anchor=\"middle\" x=\"71.5\" y=\"-37.8\" font-family=\"Helvetica,sans-Serif\" font-size=\"14.00\">samples = 1.4%</text>\n<text text-anchor=\"middle\" x=\"71.5\" y=\"-22.8\" font-family=\"Helvetica,sans-Serif\" font-size=\"14.00\">value = [0.0, 1.0]</text>\n<text text-anchor=\"middle\" x=\"71.5\" y=\"-7.8\" font-family=\"Helvetica,sans-Serif\" font-size=\"14.00\">class = Not Specified</text>\n</g>\n<!-- 4&#45;&gt;5 -->\n<g id=\"edge5\" class=\"edge\">\n<title>4&#45;&gt;5</title>\n<path fill=\"none\" stroke=\"black\" d=\"M173.8,-103.73C159.2,-93.92 143.64,-83.46 129.18,-73.75\"/>\n<polygon fill=\"black\" stroke=\"black\" points=\"131.06,-70.8 120.81,-68.13 127.16,-76.61 131.06,-70.8\"/>\n</g>\n<!-- 6 -->\n<g id=\"node7\" class=\"node\">\n<title>6</title>\n<polygon fill=\"#85c3ef\" stroke=\"black\" points=\"308,-68 161,-68 161,0 308,0 308,-68\"/>\n<text text-anchor=\"middle\" x=\"234.5\" y=\"-52.8\" font-family=\"Helvetica,sans-Serif\" font-size=\"14.00\">gini = 0.401</text>\n<text text-anchor=\"middle\" x=\"234.5\" y=\"-37.8\" font-family=\"Helvetica,sans-Serif\" font-size=\"14.00\">samples = 1.0%</text>\n<text text-anchor=\"middle\" x=\"234.5\" y=\"-22.8\" font-family=\"Helvetica,sans-Serif\" font-size=\"14.00\">value = [0.278, 0.722]</text>\n<text text-anchor=\"middle\" x=\"234.5\" y=\"-7.8\" font-family=\"Helvetica,sans-Serif\" font-size=\"14.00\">class = Not Specified</text>\n</g>\n<!-- 4&#45;&gt;6 -->\n<g id=\"edge6\" class=\"edge\">\n<title>4&#45;&gt;6</title>\n<path fill=\"none\" stroke=\"black\" d=\"M234.5,-103.73C234.5,-95.52 234.5,-86.86 234.5,-78.56\"/>\n<polygon fill=\"black\" stroke=\"black\" points=\"238,-78.3 234.5,-68.3 231,-78.3 238,-78.3\"/>\n</g>\n<!-- 8 -->\n<g id=\"node9\" class=\"node\">\n<title>8</title>\n<polygon fill=\"#f4c8a8\" stroke=\"black\" points=\"473,-68 326,-68 326,0 473,0 473,-68\"/>\n<text text-anchor=\"middle\" x=\"399.5\" y=\"-52.8\" font-family=\"Helvetica,sans-Serif\" font-size=\"14.00\">gini = 0.46</text>\n<text text-anchor=\"middle\" x=\"399.5\" y=\"-37.8\" font-family=\"Helvetica,sans-Serif\" font-size=\"14.00\">samples = 0.9%</text>\n<text text-anchor=\"middle\" x=\"399.5\" y=\"-22.8\" font-family=\"Helvetica,sans-Serif\" font-size=\"14.00\">value = [0.641, 0.359]</text>\n<text text-anchor=\"middle\" x=\"399.5\" y=\"-7.8\" font-family=\"Helvetica,sans-Serif\" font-size=\"14.00\">class = good</text>\n</g>\n<!-- 7&#45;&gt;8 -->\n<g id=\"edge8\" class=\"edge\">\n<title>7&#45;&gt;8</title>\n<path fill=\"none\" stroke=\"black\" d=\"M450.97,-103.73C444.27,-94.79 437.18,-85.32 430.47,-76.36\"/>\n<polygon fill=\"black\" stroke=\"black\" points=\"433.23,-74.21 424.44,-68.3 427.63,-78.4 433.23,-74.21\"/>\n</g>\n<!-- 9 -->\n<g id=\"node10\" class=\"node\">\n<title>9</title>\n<polygon fill=\"#e68742\" stroke=\"black\" points=\"638,-68 491,-68 491,0 638,0 638,-68\"/>\n<text text-anchor=\"middle\" x=\"564.5\" y=\"-52.8\" font-family=\"Helvetica,sans-Serif\" font-size=\"14.00\">gini = 0.083</text>\n<text text-anchor=\"middle\" x=\"564.5\" y=\"-37.8\" font-family=\"Helvetica,sans-Serif\" font-size=\"14.00\">samples = 2.6%</text>\n<text text-anchor=\"middle\" x=\"564.5\" y=\"-22.8\" font-family=\"Helvetica,sans-Serif\" font-size=\"14.00\">value = [0.957, 0.043]</text>\n<text text-anchor=\"middle\" x=\"564.5\" y=\"-7.8\" font-family=\"Helvetica,sans-Serif\" font-size=\"14.00\">class = good</text>\n</g>\n<!-- 7&#45;&gt;9 -->\n<g id=\"edge9\" class=\"edge\">\n<title>7&#45;&gt;9</title>\n<path fill=\"none\" stroke=\"black\" d=\"M512.41,-103.73C519.18,-94.79 526.36,-85.32 533.15,-76.36\"/>\n<polygon fill=\"black\" stroke=\"black\" points=\"536.01,-78.38 539.26,-68.3 530.43,-74.15 536.01,-78.38\"/>\n</g>\n<!-- 11 -->\n<g id=\"node12\" class=\"node\">\n<title>11</title>\n<polygon fill=\"#54abe9\" stroke=\"black\" points=\"886,-187 739,-187 739,-104 886,-104 886,-187\"/>\n<text text-anchor=\"middle\" x=\"812.5\" y=\"-171.8\" font-family=\"Helvetica,sans-Serif\" font-size=\"14.00\">mileage &lt;= 6837.0</text>\n<text text-anchor=\"middle\" x=\"812.5\" y=\"-156.8\" font-family=\"Helvetica,sans-Serif\" font-size=\"14.00\">gini = 0.214</text>\n<text text-anchor=\"middle\" x=\"812.5\" y=\"-141.8\" font-family=\"Helvetica,sans-Serif\" font-size=\"14.00\">samples = 3.9%</text>\n<text text-anchor=\"middle\" x=\"812.5\" y=\"-126.8\" font-family=\"Helvetica,sans-Serif\" font-size=\"14.00\">value = [0.122, 0.878]</text>\n<text text-anchor=\"middle\" x=\"812.5\" y=\"-111.8\" font-family=\"Helvetica,sans-Serif\" font-size=\"14.00\">class = Not Specified</text>\n</g>\n<!-- 10&#45;&gt;11 -->\n<g id=\"edge11\" class=\"edge\">\n<title>10&#45;&gt;11</title>\n<path fill=\"none\" stroke=\"black\" d=\"M861.48,-222.91C855.84,-214.1 849.81,-204.7 843.98,-195.61\"/>\n<polygon fill=\"black\" stroke=\"black\" points=\"846.82,-193.55 838.47,-187.02 840.93,-197.33 846.82,-193.55\"/>\n</g>\n<!-- 14 -->\n<g id=\"node15\" class=\"node\">\n<title>14</title>\n<polygon fill=\"#e58139\" stroke=\"black\" points=\"1021,-179.5 904,-179.5 904,-111.5 1021,-111.5 1021,-179.5\"/>\n<text text-anchor=\"middle\" x=\"962.5\" y=\"-164.3\" font-family=\"Helvetica,sans-Serif\" font-size=\"14.00\">gini = 0.0</text>\n<text text-anchor=\"middle\" x=\"962.5\" y=\"-149.3\" font-family=\"Helvetica,sans-Serif\" font-size=\"14.00\">samples = 0.4%</text>\n<text text-anchor=\"middle\" x=\"962.5\" y=\"-134.3\" font-family=\"Helvetica,sans-Serif\" font-size=\"14.00\">value = [1.0, 0.0]</text>\n<text text-anchor=\"middle\" x=\"962.5\" y=\"-119.3\" font-family=\"Helvetica,sans-Serif\" font-size=\"14.00\">class = good</text>\n</g>\n<!-- 10&#45;&gt;14 -->\n<g id=\"edge14\" class=\"edge\">\n<title>10&#45;&gt;14</title>\n<path fill=\"none\" stroke=\"black\" d=\"M913.52,-222.91C920.74,-211.65 928.58,-199.42 935.83,-188.11\"/>\n<polygon fill=\"black\" stroke=\"black\" points=\"938.79,-189.97 941.24,-179.67 932.9,-186.2 938.79,-189.97\"/>\n</g>\n<!-- 12 -->\n<g id=\"node13\" class=\"node\">\n<title>12</title>\n<polygon fill=\"#cee6f8\" stroke=\"black\" points=\"803,-68 656,-68 656,0 803,0 803,-68\"/>\n<text text-anchor=\"middle\" x=\"729.5\" y=\"-52.8\" font-family=\"Helvetica,sans-Serif\" font-size=\"14.00\">gini = 0.49</text>\n<text text-anchor=\"middle\" x=\"729.5\" y=\"-37.8\" font-family=\"Helvetica,sans-Serif\" font-size=\"14.00\">samples = 0.3%</text>\n<text text-anchor=\"middle\" x=\"729.5\" y=\"-22.8\" font-family=\"Helvetica,sans-Serif\" font-size=\"14.00\">value = [0.429, 0.571]</text>\n<text text-anchor=\"middle\" x=\"729.5\" y=\"-7.8\" font-family=\"Helvetica,sans-Serif\" font-size=\"14.00\">class = Not Specified</text>\n</g>\n<!-- 11&#45;&gt;12 -->\n<g id=\"edge12\" class=\"edge\">\n<title>11&#45;&gt;12</title>\n<path fill=\"none\" stroke=\"black\" d=\"M781.59,-103.73C774.82,-94.79 767.64,-85.32 760.85,-76.36\"/>\n<polygon fill=\"black\" stroke=\"black\" points=\"763.57,-74.15 754.74,-68.3 757.99,-78.38 763.57,-74.15\"/>\n</g>\n<!-- 13 -->\n<g id=\"node14\" class=\"node\">\n<title>13</title>\n<polygon fill=\"#4ea7e8\" stroke=\"black\" points=\"968,-68 821,-68 821,0 968,0 968,-68\"/>\n<text text-anchor=\"middle\" x=\"894.5\" y=\"-52.8\" font-family=\"Helvetica,sans-Serif\" font-size=\"14.00\">gini = 0.174</text>\n<text text-anchor=\"middle\" x=\"894.5\" y=\"-37.8\" font-family=\"Helvetica,sans-Serif\" font-size=\"14.00\">samples = 3.6%</text>\n<text text-anchor=\"middle\" x=\"894.5\" y=\"-22.8\" font-family=\"Helvetica,sans-Serif\" font-size=\"14.00\">value = [0.096, 0.904]</text>\n<text text-anchor=\"middle\" x=\"894.5\" y=\"-7.8\" font-family=\"Helvetica,sans-Serif\" font-size=\"14.00\">class = Not Specified</text>\n</g>\n<!-- 11&#45;&gt;13 -->\n<g id=\"edge13\" class=\"edge\">\n<title>11&#45;&gt;13</title>\n<path fill=\"none\" stroke=\"black\" d=\"M843.03,-103.73C849.73,-94.79 856.82,-85.32 863.53,-76.36\"/>\n<polygon fill=\"black\" stroke=\"black\" points=\"866.37,-78.4 869.56,-68.3 860.77,-74.21 866.37,-78.4\"/>\n</g>\n<!-- 16 -->\n<g id=\"node17\" class=\"node\">\n<title>16</title>\n<polygon fill=\"#eeae7f\" stroke=\"black\" points=\"1380,-306 1233,-306 1233,-223 1380,-223 1380,-306\"/>\n<text text-anchor=\"middle\" x=\"1306.5\" y=\"-290.8\" font-family=\"Helvetica,sans-Serif\" font-size=\"14.00\">price &lt;= 30739.0</text>\n<text text-anchor=\"middle\" x=\"1306.5\" y=\"-275.8\" font-family=\"Helvetica,sans-Serif\" font-size=\"14.00\">gini = 0.386</text>\n<text text-anchor=\"middle\" x=\"1306.5\" y=\"-260.8\" font-family=\"Helvetica,sans-Serif\" font-size=\"14.00\">samples = 20.5%</text>\n<text text-anchor=\"middle\" x=\"1306.5\" y=\"-245.8\" font-family=\"Helvetica,sans-Serif\" font-size=\"14.00\">value = [0.738, 0.262]</text>\n<text text-anchor=\"middle\" x=\"1306.5\" y=\"-230.8\" font-family=\"Helvetica,sans-Serif\" font-size=\"14.00\">class = good</text>\n</g>\n<!-- 15&#45;&gt;16 -->\n<g id=\"edge16\" class=\"edge\">\n<title>15&#45;&gt;16</title>\n<path fill=\"none\" stroke=\"black\" d=\"M1306.5,-341.91C1306.5,-333.65 1306.5,-324.86 1306.5,-316.3\"/>\n<polygon fill=\"black\" stroke=\"black\" points=\"1310,-316.02 1306.5,-306.02 1303,-316.02 1310,-316.02\"/>\n</g>\n<!-- 23 -->\n<g id=\"node24\" class=\"node\">\n<title>23</title>\n<polygon fill=\"#e68540\" stroke=\"black\" points=\"1793,-306 1646,-306 1646,-223 1793,-223 1793,-306\"/>\n<text text-anchor=\"middle\" x=\"1719.5\" y=\"-290.8\" font-family=\"Helvetica,sans-Serif\" font-size=\"14.00\">fuelType &lt;= 2.5</text>\n<text text-anchor=\"middle\" x=\"1719.5\" y=\"-275.8\" font-family=\"Helvetica,sans-Serif\" font-size=\"14.00\">gini = 0.064</text>\n<text text-anchor=\"middle\" x=\"1719.5\" y=\"-260.8\" font-family=\"Helvetica,sans-Serif\" font-size=\"14.00\">samples = 20.1%</text>\n<text text-anchor=\"middle\" x=\"1719.5\" y=\"-245.8\" font-family=\"Helvetica,sans-Serif\" font-size=\"14.00\">value = [0.967, 0.033]</text>\n<text text-anchor=\"middle\" x=\"1719.5\" y=\"-230.8\" font-family=\"Helvetica,sans-Serif\" font-size=\"14.00\">class = good</text>\n</g>\n<!-- 15&#45;&gt;23 -->\n<g id=\"edge23\" class=\"edge\">\n<title>15&#45;&gt;23</title>\n<path fill=\"none\" stroke=\"black\" d=\"M1380.34,-361.58C1452.17,-341.23 1561.14,-310.36 1636.08,-289.13\"/>\n<polygon fill=\"black\" stroke=\"black\" points=\"1637.29,-292.43 1645.96,-286.33 1635.38,-285.69 1637.29,-292.43\"/>\n</g>\n<!-- 17 -->\n<g id=\"node18\" class=\"node\">\n<title>17</title>\n<polygon fill=\"#fefbf9\" stroke=\"black\" points=\"1298,-187 1151,-187 1151,-104 1298,-104 1298,-187\"/>\n<text text-anchor=\"middle\" x=\"1224.5\" y=\"-171.8\" font-family=\"Helvetica,sans-Serif\" font-size=\"14.00\">type &lt;= 2.5</text>\n<text text-anchor=\"middle\" x=\"1224.5\" y=\"-156.8\" font-family=\"Helvetica,sans-Serif\" font-size=\"14.00\">gini = 0.5</text>\n<text text-anchor=\"middle\" x=\"1224.5\" y=\"-141.8\" font-family=\"Helvetica,sans-Serif\" font-size=\"14.00\">samples = 9.0%</text>\n<text text-anchor=\"middle\" x=\"1224.5\" y=\"-126.8\" font-family=\"Helvetica,sans-Serif\" font-size=\"14.00\">value = [0.507, 0.493]</text>\n<text text-anchor=\"middle\" x=\"1224.5\" y=\"-111.8\" font-family=\"Helvetica,sans-Serif\" font-size=\"14.00\">class = good</text>\n</g>\n<!-- 16&#45;&gt;17 -->\n<g id=\"edge17\" class=\"edge\">\n<title>16&#45;&gt;17</title>\n<path fill=\"none\" stroke=\"black\" d=\"M1278.05,-222.91C1271.82,-214.01 1265.16,-204.51 1258.72,-195.33\"/>\n<polygon fill=\"black\" stroke=\"black\" points=\"1261.5,-193.2 1252.9,-187.02 1255.77,-197.22 1261.5,-193.2\"/>\n</g>\n<!-- 20 -->\n<g id=\"node21\" class=\"node\">\n<title>20</title>\n<polygon fill=\"#e78c4b\" stroke=\"black\" points=\"1463,-187 1316,-187 1316,-104 1463,-104 1463,-187\"/>\n<text text-anchor=\"middle\" x=\"1389.5\" y=\"-171.8\" font-family=\"Helvetica,sans-Serif\" font-size=\"14.00\">price &lt;= 36378.0</text>\n<text text-anchor=\"middle\" x=\"1389.5\" y=\"-156.8\" font-family=\"Helvetica,sans-Serif\" font-size=\"14.00\">gini = 0.15</text>\n<text text-anchor=\"middle\" x=\"1389.5\" y=\"-141.8\" font-family=\"Helvetica,sans-Serif\" font-size=\"14.00\">samples = 11.5%</text>\n<text text-anchor=\"middle\" x=\"1389.5\" y=\"-126.8\" font-family=\"Helvetica,sans-Serif\" font-size=\"14.00\">value = [0.918, 0.082]</text>\n<text text-anchor=\"middle\" x=\"1389.5\" y=\"-111.8\" font-family=\"Helvetica,sans-Serif\" font-size=\"14.00\">class = good</text>\n</g>\n<!-- 16&#45;&gt;20 -->\n<g id=\"edge20\" class=\"edge\">\n<title>16&#45;&gt;20</title>\n<path fill=\"none\" stroke=\"black\" d=\"M1335.3,-222.91C1341.61,-214.01 1348.35,-204.51 1354.86,-195.33\"/>\n<polygon fill=\"black\" stroke=\"black\" points=\"1357.82,-197.2 1360.75,-187.02 1352.11,-193.15 1357.82,-197.2\"/>\n</g>\n<!-- 18 -->\n<g id=\"node19\" class=\"node\">\n<title>18</title>\n<polygon fill=\"#5dafea\" stroke=\"black\" points=\"1133,-68 986,-68 986,0 1133,0 1133,-68\"/>\n<text text-anchor=\"middle\" x=\"1059.5\" y=\"-52.8\" font-family=\"Helvetica,sans-Serif\" font-size=\"14.00\">gini = 0.261</text>\n<text text-anchor=\"middle\" x=\"1059.5\" y=\"-37.8\" font-family=\"Helvetica,sans-Serif\" font-size=\"14.00\">samples = 2.8%</text>\n<text text-anchor=\"middle\" x=\"1059.5\" y=\"-22.8\" font-family=\"Helvetica,sans-Serif\" font-size=\"14.00\">value = [0.155, 0.845]</text>\n<text text-anchor=\"middle\" x=\"1059.5\" y=\"-7.8\" font-family=\"Helvetica,sans-Serif\" font-size=\"14.00\">class = Not Specified</text>\n</g>\n<!-- 17&#45;&gt;18 -->\n<g id=\"edge18\" class=\"edge\">\n<title>17&#45;&gt;18</title>\n<path fill=\"none\" stroke=\"black\" d=\"M1163.06,-103.73C1148.28,-93.92 1132.53,-83.46 1117.89,-73.75\"/>\n<polygon fill=\"black\" stroke=\"black\" points=\"1119.68,-70.74 1109.41,-68.13 1115.81,-76.57 1119.68,-70.74\"/>\n</g>\n<!-- 19 -->\n<g id=\"node20\" class=\"node\">\n<title>19</title>\n<polygon fill=\"#f2c19d\" stroke=\"black\" points=\"1298,-68 1151,-68 1151,0 1298,0 1298,-68\"/>\n<text text-anchor=\"middle\" x=\"1224.5\" y=\"-52.8\" font-family=\"Helvetica,sans-Serif\" font-size=\"14.00\">gini = 0.446</text>\n<text text-anchor=\"middle\" x=\"1224.5\" y=\"-37.8\" font-family=\"Helvetica,sans-Serif\" font-size=\"14.00\">samples = 6.2%</text>\n<text text-anchor=\"middle\" x=\"1224.5\" y=\"-22.8\" font-family=\"Helvetica,sans-Serif\" font-size=\"14.00\">value = [0.664, 0.336]</text>\n<text text-anchor=\"middle\" x=\"1224.5\" y=\"-7.8\" font-family=\"Helvetica,sans-Serif\" font-size=\"14.00\">class = good</text>\n</g>\n<!-- 17&#45;&gt;19 -->\n<g id=\"edge19\" class=\"edge\">\n<title>17&#45;&gt;19</title>\n<path fill=\"none\" stroke=\"black\" d=\"M1224.5,-103.73C1224.5,-95.52 1224.5,-86.86 1224.5,-78.56\"/>\n<polygon fill=\"black\" stroke=\"black\" points=\"1228,-78.3 1224.5,-68.3 1221,-78.3 1228,-78.3\"/>\n</g>\n<!-- 21 -->\n<g id=\"node22\" class=\"node\">\n<title>21</title>\n<polygon fill=\"#ea9b61\" stroke=\"black\" points=\"1463,-68 1316,-68 1316,0 1463,0 1463,-68\"/>\n<text text-anchor=\"middle\" x=\"1389.5\" y=\"-52.8\" font-family=\"Helvetica,sans-Serif\" font-size=\"14.00\">gini = 0.28</text>\n<text text-anchor=\"middle\" x=\"1389.5\" y=\"-37.8\" font-family=\"Helvetica,sans-Serif\" font-size=\"14.00\">samples = 4.7%</text>\n<text text-anchor=\"middle\" x=\"1389.5\" y=\"-22.8\" font-family=\"Helvetica,sans-Serif\" font-size=\"14.00\">value = [0.831, 0.169]</text>\n<text text-anchor=\"middle\" x=\"1389.5\" y=\"-7.8\" font-family=\"Helvetica,sans-Serif\" font-size=\"14.00\">class = good</text>\n</g>\n<!-- 20&#45;&gt;21 -->\n<g id=\"edge21\" class=\"edge\">\n<title>20&#45;&gt;21</title>\n<path fill=\"none\" stroke=\"black\" d=\"M1389.5,-103.73C1389.5,-95.52 1389.5,-86.86 1389.5,-78.56\"/>\n<polygon fill=\"black\" stroke=\"black\" points=\"1393,-78.3 1389.5,-68.3 1386,-78.3 1393,-78.3\"/>\n</g>\n<!-- 22 -->\n<g id=\"node23\" class=\"node\">\n<title>22</title>\n<polygon fill=\"#e6843d\" stroke=\"black\" points=\"1628,-68 1481,-68 1481,0 1628,0 1628,-68\"/>\n<text text-anchor=\"middle\" x=\"1554.5\" y=\"-52.8\" font-family=\"Helvetica,sans-Serif\" font-size=\"14.00\">gini = 0.041</text>\n<text text-anchor=\"middle\" x=\"1554.5\" y=\"-37.8\" font-family=\"Helvetica,sans-Serif\" font-size=\"14.00\">samples = 6.8%</text>\n<text text-anchor=\"middle\" x=\"1554.5\" y=\"-22.8\" font-family=\"Helvetica,sans-Serif\" font-size=\"14.00\">value = [0.979, 0.021]</text>\n<text text-anchor=\"middle\" x=\"1554.5\" y=\"-7.8\" font-family=\"Helvetica,sans-Serif\" font-size=\"14.00\">class = good</text>\n</g>\n<!-- 20&#45;&gt;22 -->\n<g id=\"edge22\" class=\"edge\">\n<title>20&#45;&gt;22</title>\n<path fill=\"none\" stroke=\"black\" d=\"M1450.94,-103.73C1465.72,-93.92 1481.47,-83.46 1496.11,-73.75\"/>\n<polygon fill=\"black\" stroke=\"black\" points=\"1498.19,-76.57 1504.59,-68.13 1494.32,-70.74 1498.19,-76.57\"/>\n</g>\n<!-- 24 -->\n<g id=\"node25\" class=\"node\">\n<title>24</title>\n<polygon fill=\"#e6843e\" stroke=\"black\" points=\"1793,-187 1646,-187 1646,-104 1793,-104 1793,-187\"/>\n<text text-anchor=\"middle\" x=\"1719.5\" y=\"-171.8\" font-family=\"Helvetica,sans-Serif\" font-size=\"14.00\">engineSize &lt;= 1.45</text>\n<text text-anchor=\"middle\" x=\"1719.5\" y=\"-156.8\" font-family=\"Helvetica,sans-Serif\" font-size=\"14.00\">gini = 0.049</text>\n<text text-anchor=\"middle\" x=\"1719.5\" y=\"-141.8\" font-family=\"Helvetica,sans-Serif\" font-size=\"14.00\">samples = 20.0%</text>\n<text text-anchor=\"middle\" x=\"1719.5\" y=\"-126.8\" font-family=\"Helvetica,sans-Serif\" font-size=\"14.00\">value = [0.975, 0.025]</text>\n<text text-anchor=\"middle\" x=\"1719.5\" y=\"-111.8\" font-family=\"Helvetica,sans-Serif\" font-size=\"14.00\">class = good</text>\n</g>\n<!-- 23&#45;&gt;24 -->\n<g id=\"edge24\" class=\"edge\">\n<title>23&#45;&gt;24</title>\n<path fill=\"none\" stroke=\"black\" d=\"M1719.5,-222.91C1719.5,-214.65 1719.5,-205.86 1719.5,-197.3\"/>\n<polygon fill=\"black\" stroke=\"black\" points=\"1723,-197.02 1719.5,-187.02 1716,-197.02 1723,-197.02\"/>\n</g>\n<!-- 27 -->\n<g id=\"node28\" class=\"node\">\n<title>27</title>\n<polygon fill=\"#399de5\" stroke=\"black\" points=\"1954,-179.5 1811,-179.5 1811,-111.5 1954,-111.5 1954,-179.5\"/>\n<text text-anchor=\"middle\" x=\"1882.5\" y=\"-164.3\" font-family=\"Helvetica,sans-Serif\" font-size=\"14.00\">gini = 0.0</text>\n<text text-anchor=\"middle\" x=\"1882.5\" y=\"-149.3\" font-family=\"Helvetica,sans-Serif\" font-size=\"14.00\">samples = 0.2%</text>\n<text text-anchor=\"middle\" x=\"1882.5\" y=\"-134.3\" font-family=\"Helvetica,sans-Serif\" font-size=\"14.00\">value = [0.0, 1.0]</text>\n<text text-anchor=\"middle\" x=\"1882.5\" y=\"-119.3\" font-family=\"Helvetica,sans-Serif\" font-size=\"14.00\">class = Not Specified</text>\n</g>\n<!-- 23&#45;&gt;27 -->\n<g id=\"edge27\" class=\"edge\">\n<title>23&#45;&gt;27</title>\n<path fill=\"none\" stroke=\"black\" d=\"M1776.05,-222.91C1792.81,-210.88 1811.12,-197.73 1827.76,-185.79\"/>\n<polygon fill=\"black\" stroke=\"black\" points=\"1830.21,-188.34 1836.29,-179.67 1826.13,-182.65 1830.21,-188.34\"/>\n</g>\n<!-- 25 -->\n<g id=\"node26\" class=\"node\">\n<title>25</title>\n<polygon fill=\"#efb184\" stroke=\"black\" points=\"1793,-68 1646,-68 1646,0 1793,0 1793,-68\"/>\n<text text-anchor=\"middle\" x=\"1719.5\" y=\"-52.8\" font-family=\"Helvetica,sans-Serif\" font-size=\"14.00\">gini = 0.399</text>\n<text text-anchor=\"middle\" x=\"1719.5\" y=\"-37.8\" font-family=\"Helvetica,sans-Serif\" font-size=\"14.00\">samples = 1.1%</text>\n<text text-anchor=\"middle\" x=\"1719.5\" y=\"-22.8\" font-family=\"Helvetica,sans-Serif\" font-size=\"14.00\">value = [0.725, 0.275]</text>\n<text text-anchor=\"middle\" x=\"1719.5\" y=\"-7.8\" font-family=\"Helvetica,sans-Serif\" font-size=\"14.00\">class = good</text>\n</g>\n<!-- 24&#45;&gt;25 -->\n<g id=\"edge25\" class=\"edge\">\n<title>24&#45;&gt;25</title>\n<path fill=\"none\" stroke=\"black\" d=\"M1719.5,-103.73C1719.5,-95.52 1719.5,-86.86 1719.5,-78.56\"/>\n<polygon fill=\"black\" stroke=\"black\" points=\"1723,-78.3 1719.5,-68.3 1716,-78.3 1723,-78.3\"/>\n</g>\n<!-- 26 -->\n<g id=\"node27\" class=\"node\">\n<title>26</title>\n<polygon fill=\"#e5823b\" stroke=\"black\" points=\"1943.5,-68 1811.5,-68 1811.5,0 1943.5,0 1943.5,-68\"/>\n<text text-anchor=\"middle\" x=\"1877.5\" y=\"-52.8\" font-family=\"Helvetica,sans-Serif\" font-size=\"14.00\">gini = 0.02</text>\n<text text-anchor=\"middle\" x=\"1877.5\" y=\"-37.8\" font-family=\"Helvetica,sans-Serif\" font-size=\"14.00\">samples = 18.8%</text>\n<text text-anchor=\"middle\" x=\"1877.5\" y=\"-22.8\" font-family=\"Helvetica,sans-Serif\" font-size=\"14.00\">value = [0.99, 0.01]</text>\n<text text-anchor=\"middle\" x=\"1877.5\" y=\"-7.8\" font-family=\"Helvetica,sans-Serif\" font-size=\"14.00\">class = good</text>\n</g>\n<!-- 24&#45;&gt;26 -->\n<g id=\"edge26\" class=\"edge\">\n<title>24&#45;&gt;26</title>\n<path fill=\"none\" stroke=\"black\" d=\"M1778.33,-103.73C1792.36,-94.01 1807.29,-83.66 1821.19,-74.02\"/>\n<polygon fill=\"black\" stroke=\"black\" points=\"1823.48,-76.7 1829.7,-68.13 1819.49,-70.94 1823.48,-76.7\"/>\n</g>\n</g>\n</svg>\n"
          },
          "metadata": {},
          "execution_count": 12
        }
      ]
    },
    {
      "cell_type": "markdown",
      "source": [
        "####2-3. Evaluation Mertircs : `DecisionTreeClassifier ` \n",
        "> 타겟 클래스 비용이 70% 이상 차이난다면 정확도만 사용하여 판단할 수 없습니다. (정확하지 않기 때문)\n",
        "\n",
        "* 정밀도, 재현율, Roc-AUC등을 같이 사용하여 확인하여 봅시다."
      ],
      "metadata": {
        "id": "axlfJRQRMAGv"
      }
    },
    {
      "cell_type": "code",
      "source": [
        "pipe.named_steps['decisiontreeclassifier'].classes_"
      ],
      "metadata": {
        "id": "-ciW2PY2M_VN",
        "outputId": "49e625bf-9fd4-4b4c-cf80-fedde295db63",
        "colab": {
          "base_uri": "https://localhost:8080/"
        }
      },
      "execution_count": 13,
      "outputs": [
        {
          "output_type": "execute_result",
          "data": {
            "text/plain": [
              "array(['Not Specified', 'good'], dtype=object)"
            ]
          },
          "metadata": {},
          "execution_count": 13
        }
      ]
    },
    {
      "cell_type": "code",
      "source": [],
      "metadata": {
        "id": "u0pEWUP7Nacs"
      },
      "execution_count": 13,
      "outputs": []
    }
  ]
}
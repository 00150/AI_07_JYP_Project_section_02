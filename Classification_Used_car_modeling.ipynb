{
  "nbformat": 4,
  "nbformat_minor": 0,
  "metadata": {
    "colab": {
      "provenance": [],
      "authorship_tag": "ABX9TyNO7sNa+0JrwVufwGzfBSyH",
      "include_colab_link": true
    },
    "kernelspec": {
      "name": "python3",
      "display_name": "Python 3"
    },
    "language_info": {
      "name": "python"
    },
    "accelerator": "GPU",
    "gpuClass": "standard"
  },
  "cells": [
    {
      "cell_type": "markdown",
      "metadata": {
        "id": "view-in-github",
        "colab_type": "text"
      },
      "source": [
        "<a href=\"https://colab.research.google.com/github/00150/AI_07_JYP_Project_section_02/blob/main/Classification_Used_car_modeling.ipynb\" target=\"_parent\"><img src=\"https://colab.research.google.com/assets/colab-badge.svg\" alt=\"Open In Colab\"/></a>"
      ]
    },
    {
      "cell_type": "code",
      "source": [
        "# 필요한 라이브러리를 설치합니다.\n",
        "!pip3 install pdpbox\n",
        "!pip3 install xgboost==1.7.2\n",
        "!pip3 install eli5\n",
        "!pip install category_encoders\n",
        "!pip3 install imbalanced-learn # undersampling + oversampling을 진행할 라이브러리 입니다.\n",
        "!pip install scikit-learn==1.0 -U"
      ],
      "metadata": {
        "colab": {
          "base_uri": "https://localhost:8080/"
        },
        "id": "nwJumCPojJmA",
        "outputId": "ceb5799d-8b87-421b-ed9d-8bf0ec955de9"
      },
      "execution_count": 1,
      "outputs": [
        {
          "output_type": "stream",
          "name": "stdout",
          "text": [
            "Looking in indexes: https://pypi.org/simple, https://us-python.pkg.dev/colab-wheels/public/simple/\n",
            "Collecting pdpbox\n",
            "  Using cached PDPbox-0.2.1.tar.gz (34.0 MB)\n",
            "  Preparing metadata (setup.py) ... \u001b[?25l\u001b[?25hdone\n",
            "Requirement already satisfied: pandas in /usr/local/lib/python3.9/dist-packages (from pdpbox) (1.4.4)\n",
            "Requirement already satisfied: numpy in /usr/local/lib/python3.9/dist-packages (from pdpbox) (1.22.4)\n",
            "Requirement already satisfied: scipy in /usr/local/lib/python3.9/dist-packages (from pdpbox) (1.10.1)\n",
            "Requirement already satisfied: joblib in /usr/local/lib/python3.9/dist-packages (from pdpbox) (1.1.1)\n",
            "Requirement already satisfied: psutil in /usr/local/lib/python3.9/dist-packages (from pdpbox) (5.9.4)\n",
            "Collecting matplotlib==3.1.1\n",
            "  Using cached matplotlib-3.1.1.tar.gz (37.8 MB)\n",
            "  Preparing metadata (setup.py) ... \u001b[?25l\u001b[?25hdone\n",
            "Collecting sklearn\n",
            "  Using cached sklearn-0.0.post1.tar.gz (3.6 kB)\n",
            "  Preparing metadata (setup.py) ... \u001b[?25l\u001b[?25hdone\n",
            "Requirement already satisfied: cycler>=0.10 in /usr/local/lib/python3.9/dist-packages (from matplotlib==3.1.1->pdpbox) (0.11.0)\n",
            "Requirement already satisfied: kiwisolver>=1.0.1 in /usr/local/lib/python3.9/dist-packages (from matplotlib==3.1.1->pdpbox) (1.4.4)\n",
            "Requirement already satisfied: pyparsing!=2.0.4,!=2.1.2,!=2.1.6,>=2.0.1 in /usr/local/lib/python3.9/dist-packages (from matplotlib==3.1.1->pdpbox) (3.0.9)\n",
            "Requirement already satisfied: python-dateutil>=2.1 in /usr/local/lib/python3.9/dist-packages (from matplotlib==3.1.1->pdpbox) (2.8.2)\n",
            "Requirement already satisfied: pytz>=2020.1 in /usr/local/lib/python3.9/dist-packages (from pandas->pdpbox) (2022.7.1)\n",
            "Requirement already satisfied: six>=1.5 in /usr/local/lib/python3.9/dist-packages (from python-dateutil>=2.1->matplotlib==3.1.1->pdpbox) (1.15.0)\n",
            "Building wheels for collected packages: pdpbox, matplotlib, sklearn\n",
            "  Building wheel for pdpbox (setup.py) ... \u001b[?25l\u001b[?25hdone\n",
            "  Created wheel for pdpbox: filename=PDPbox-0.2.1-py3-none-any.whl size=35758224 sha256=e54ff57ffe6e9776ca0d0beb51fab2f4e6f5653bc2919751ccd06c3645d891e1\n",
            "  Stored in directory: /root/.cache/pip/wheels/f2/5e/63/62e00a642415e064a55f53b5095ceb1420d24685125420d3ac\n",
            "  Building wheel for matplotlib (setup.py) ... \u001b[?25l\u001b[?25hdone\n",
            "  Created wheel for matplotlib: filename=matplotlib-3.1.1-cp39-cp39-linux_x86_64.whl size=12060194 sha256=56716171717e3ffeac2d1ddb06c7075e5c2668c954916221b742ca1bf0ca1ddc\n",
            "  Stored in directory: /root/.cache/pip/wheels/25/d0/ab/05f776f079a53f4c6a12c98220910f4d0d245609b8c673a5ad\n",
            "  Building wheel for sklearn (setup.py) ... \u001b[?25l\u001b[?25hdone\n",
            "  Created wheel for sklearn: filename=sklearn-0.0.post1-py3-none-any.whl size=2955 sha256=eb5bad0ba6f183b7a42cf8593be6a4b843f9c537543b203b7fce60556e151fd2\n",
            "  Stored in directory: /root/.cache/pip/wheels/f8/e0/3d/9d0c2020c44a519b9f02ab4fa6d2a4a996c98d79ab2f569fa1\n",
            "Successfully built pdpbox matplotlib sklearn\n",
            "Installing collected packages: sklearn, matplotlib, pdpbox\n",
            "  Attempting uninstall: matplotlib\n",
            "    Found existing installation: matplotlib 3.7.1\n",
            "    Uninstalling matplotlib-3.7.1:\n",
            "      Successfully uninstalled matplotlib-3.7.1\n",
            "\u001b[31mERROR: pip's dependency resolver does not currently take into account all the packages that are installed. This behaviour is the source of the following dependency conflicts.\n",
            "plotnine 0.10.1 requires matplotlib>=3.5.0, but you have matplotlib 3.1.1 which is incompatible.\n",
            "pandas-profiling 3.2.0 requires matplotlib>=3.2.0, but you have matplotlib 3.1.1 which is incompatible.\n",
            "mizani 0.8.1 requires matplotlib>=3.5.0, but you have matplotlib 3.1.1 which is incompatible.\n",
            "arviz 0.15.1 requires matplotlib>=3.2, but you have matplotlib 3.1.1 which is incompatible.\u001b[0m\u001b[31m\n",
            "\u001b[0mSuccessfully installed matplotlib-3.1.1 pdpbox-0.2.1 sklearn-0.0.post1\n",
            "Looking in indexes: https://pypi.org/simple, https://us-python.pkg.dev/colab-wheels/public/simple/\n",
            "Requirement already satisfied: xgboost==1.7.2 in /usr/local/lib/python3.9/dist-packages (1.7.2)\n",
            "Requirement already satisfied: scipy in /usr/local/lib/python3.9/dist-packages (from xgboost==1.7.2) (1.10.1)\n",
            "Requirement already satisfied: numpy in /usr/local/lib/python3.9/dist-packages (from xgboost==1.7.2) (1.22.4)\n",
            "Looking in indexes: https://pypi.org/simple, https://us-python.pkg.dev/colab-wheels/public/simple/\n",
            "Requirement already satisfied: eli5 in /usr/local/lib/python3.9/dist-packages (0.13.0)\n",
            "Requirement already satisfied: tabulate>=0.7.7 in /usr/local/lib/python3.9/dist-packages (from eli5) (0.8.10)\n",
            "Requirement already satisfied: graphviz in /usr/local/lib/python3.9/dist-packages (from eli5) (0.20.1)\n",
            "Requirement already satisfied: six in /usr/local/lib/python3.9/dist-packages (from eli5) (1.15.0)\n",
            "Requirement already satisfied: scikit-learn>=0.20 in /usr/local/lib/python3.9/dist-packages (from eli5) (1.0)\n",
            "Requirement already satisfied: numpy>=1.9.0 in /usr/local/lib/python3.9/dist-packages (from eli5) (1.22.4)\n",
            "Requirement already satisfied: attrs>17.1.0 in /usr/local/lib/python3.9/dist-packages (from eli5) (22.2.0)\n",
            "Requirement already satisfied: scipy in /usr/local/lib/python3.9/dist-packages (from eli5) (1.10.1)\n",
            "Requirement already satisfied: jinja2>=3.0.0 in /usr/local/lib/python3.9/dist-packages (from eli5) (3.1.2)\n",
            "Requirement already satisfied: MarkupSafe>=2.0 in /usr/local/lib/python3.9/dist-packages (from jinja2>=3.0.0->eli5) (2.1.2)\n",
            "Requirement already satisfied: joblib>=0.11 in /usr/local/lib/python3.9/dist-packages (from scikit-learn>=0.20->eli5) (1.1.1)\n",
            "Requirement already satisfied: threadpoolctl>=2.0.0 in /usr/local/lib/python3.9/dist-packages (from scikit-learn>=0.20->eli5) (3.1.0)\n",
            "Looking in indexes: https://pypi.org/simple, https://us-python.pkg.dev/colab-wheels/public/simple/\n",
            "Requirement already satisfied: category_encoders in /usr/local/lib/python3.9/dist-packages (2.6.0)\n",
            "Requirement already satisfied: scipy>=1.0.0 in /usr/local/lib/python3.9/dist-packages (from category_encoders) (1.10.1)\n",
            "Requirement already satisfied: pandas>=1.0.5 in /usr/local/lib/python3.9/dist-packages (from category_encoders) (1.4.4)\n",
            "Requirement already satisfied: patsy>=0.5.1 in /usr/local/lib/python3.9/dist-packages (from category_encoders) (0.5.3)\n",
            "Requirement already satisfied: scikit-learn>=0.20.0 in /usr/local/lib/python3.9/dist-packages (from category_encoders) (1.0)\n",
            "Requirement already satisfied: numpy>=1.14.0 in /usr/local/lib/python3.9/dist-packages (from category_encoders) (1.22.4)\n",
            "Requirement already satisfied: statsmodels>=0.9.0 in /usr/local/lib/python3.9/dist-packages (from category_encoders) (0.13.5)\n",
            "Requirement already satisfied: python-dateutil>=2.8.1 in /usr/local/lib/python3.9/dist-packages (from pandas>=1.0.5->category_encoders) (2.8.2)\n",
            "Requirement already satisfied: pytz>=2020.1 in /usr/local/lib/python3.9/dist-packages (from pandas>=1.0.5->category_encoders) (2022.7.1)\n",
            "Requirement already satisfied: six in /usr/local/lib/python3.9/dist-packages (from patsy>=0.5.1->category_encoders) (1.15.0)\n",
            "Requirement already satisfied: threadpoolctl>=2.0.0 in /usr/local/lib/python3.9/dist-packages (from scikit-learn>=0.20.0->category_encoders) (3.1.0)\n",
            "Requirement already satisfied: joblib>=0.11 in /usr/local/lib/python3.9/dist-packages (from scikit-learn>=0.20.0->category_encoders) (1.1.1)\n",
            "Requirement already satisfied: packaging>=21.3 in /usr/local/lib/python3.9/dist-packages (from statsmodels>=0.9.0->category_encoders) (23.0)\n",
            "Looking in indexes: https://pypi.org/simple, https://us-python.pkg.dev/colab-wheels/public/simple/\n",
            "Requirement already satisfied: imbalanced-learn in /usr/local/lib/python3.9/dist-packages (0.10.1)\n",
            "Requirement already satisfied: numpy>=1.17.3 in /usr/local/lib/python3.9/dist-packages (from imbalanced-learn) (1.22.4)\n",
            "Requirement already satisfied: threadpoolctl>=2.0.0 in /usr/local/lib/python3.9/dist-packages (from imbalanced-learn) (3.1.0)\n",
            "Requirement already satisfied: joblib>=1.1.1 in /usr/local/lib/python3.9/dist-packages (from imbalanced-learn) (1.1.1)\n",
            "Collecting scikit-learn>=1.0.2\n",
            "  Downloading scikit_learn-1.2.2-cp39-cp39-manylinux_2_17_x86_64.manylinux2014_x86_64.whl (9.6 MB)\n",
            "\u001b[2K     \u001b[90m━━━━━━━━━━━━━━━━━━━━━━━━━━━━━━━━━━━━━━━━\u001b[0m \u001b[32m9.6/9.6 MB\u001b[0m \u001b[31m88.3 MB/s\u001b[0m eta \u001b[36m0:00:00\u001b[0m\n",
            "\u001b[?25hRequirement already satisfied: scipy>=1.3.2 in /usr/local/lib/python3.9/dist-packages (from imbalanced-learn) (1.10.1)\n",
            "Installing collected packages: scikit-learn\n",
            "  Attempting uninstall: scikit-learn\n",
            "    Found existing installation: scikit-learn 1.0\n",
            "    Uninstalling scikit-learn-1.0:\n",
            "      Successfully uninstalled scikit-learn-1.0\n",
            "Successfully installed scikit-learn-1.2.2\n",
            "Looking in indexes: https://pypi.org/simple, https://us-python.pkg.dev/colab-wheels/public/simple/\n",
            "Collecting scikit-learn==1.0\n",
            "  Using cached scikit_learn-1.0-cp39-cp39-manylinux_2_12_x86_64.manylinux2010_x86_64.whl (24.7 MB)\n",
            "Requirement already satisfied: scipy>=1.1.0 in /usr/local/lib/python3.9/dist-packages (from scikit-learn==1.0) (1.10.1)\n",
            "Requirement already satisfied: joblib>=0.11 in /usr/local/lib/python3.9/dist-packages (from scikit-learn==1.0) (1.1.1)\n",
            "Requirement already satisfied: threadpoolctl>=2.0.0 in /usr/local/lib/python3.9/dist-packages (from scikit-learn==1.0) (3.1.0)\n",
            "Requirement already satisfied: numpy>=1.14.6 in /usr/local/lib/python3.9/dist-packages (from scikit-learn==1.0) (1.22.4)\n",
            "Installing collected packages: scikit-learn\n",
            "  Attempting uninstall: scikit-learn\n",
            "    Found existing installation: scikit-learn 1.2.2\n",
            "    Uninstalling scikit-learn-1.2.2:\n",
            "      Successfully uninstalled scikit-learn-1.2.2\n",
            "\u001b[31mERROR: pip's dependency resolver does not currently take into account all the packages that are installed. This behaviour is the source of the following dependency conflicts.\n",
            "imbalanced-learn 0.10.1 requires scikit-learn>=1.0.2, but you have scikit-learn 1.0 which is incompatible.\u001b[0m\u001b[31m\n",
            "\u001b[0mSuccessfully installed scikit-learn-1.0\n"
          ]
        }
      ]
    },
    {
      "cell_type": "code",
      "execution_count": 2,
      "metadata": {
        "id": "XzW6bTHEm62o"
      },
      "outputs": [],
      "source": [
        "# 모델링을 진행할 데이터를 가져옵니다.\n",
        "# 필요한 라이브러 및 패키지는 그때 그때 가져오도록 합니다.\n",
        "import pandas as pd\n",
        "df = pd.read_csv('https://raw.githubusercontent.com/00150/AI_07_JYP_Project_section_02/main/audi_eda').drop('Unnamed: 0', axis = 1)"
      ]
    },
    {
      "cell_type": "code",
      "source": [
        "df.info()"
      ],
      "metadata": {
        "colab": {
          "base_uri": "https://localhost:8080/"
        },
        "id": "LvCkrhDEncj2",
        "outputId": "53a65444-9509-4ec3-815f-bbb6656ea051"
      },
      "execution_count": 3,
      "outputs": [
        {
          "output_type": "stream",
          "name": "stdout",
          "text": [
            "<class 'pandas.core.frame.DataFrame'>\n",
            "RangeIndex: 9345 entries, 0 to 9344\n",
            "Data columns (total 15 columns):\n",
            " #   Column         Non-Null Count  Dtype  \n",
            "---  ------         --------------  -----  \n",
            " 0   model          9345 non-null   object \n",
            " 1   year           9345 non-null   int64  \n",
            " 2   price          9345 non-null   int64  \n",
            " 3   transmission   9345 non-null   object \n",
            " 4   mileage        9345 non-null   int64  \n",
            " 5   fuelType       9345 non-null   object \n",
            " 6   tax            9345 non-null   int64  \n",
            " 7   mpg            9345 non-null   float64\n",
            " 8   engineSize     9345 non-null   float64\n",
            " 9   size_and_type  9345 non-null   object \n",
            " 10  size           9345 non-null   object \n",
            " 11  type           9344 non-null   object \n",
            " 12  used_year      9345 non-null   int64  \n",
            " 13  ampy           9345 non-null   float64\n",
            " 14  km/l           9345 non-null   float64\n",
            "dtypes: float64(4), int64(5), object(6)\n",
            "memory usage: 1.1+ MB\n"
          ]
        }
      ]
    },
    {
      "cell_type": "markdown",
      "source": [
        "앞서 EDA & Visualization 을 진행한 데이터에는 다음과 같은 컬럼이 존재합니다."
      ],
      "metadata": {
        "id": "KBrJGTEBng8G"
      }
    },
    {
      "cell_type": "markdown",
      "source": [
        "* 각각의 컬럼은 다음과 같습니다. \n",
        "  - model : 자동차의 모델명 \n",
        "  - year : 연식 \n",
        "  - price : 가격 \n",
        "  - transmission : 변속기\n",
        "  - mileage : 자동차 주행거리\n",
        "  - fuelType : 자동차 연료의 유형\n",
        "  - tax : 세금(자동차)\n",
        "  - mpg(Miles per Gallon) : 자동차 연비(Fuel efficiency)\n",
        "  - engineSize :엔진 크기\n",
        "  - size_and_type :차량의 사이즈 및 타입\n",
        "  - size : 차량의 사이즈\n",
        "  - type : 차량의 유형\n",
        "  - used_year : 차를 사용한 연도\n",
        "  - ampy : 연간 평균 주행거리.\n",
        "  - km/l : 자동차 연비(한국식 표현)"
      ],
      "metadata": {
        "id": "Xgk50HnpAyTX"
      }
    },
    {
      "cell_type": "code",
      "source": [
        "df.head()"
      ],
      "metadata": {
        "colab": {
          "base_uri": "https://localhost:8080/",
          "height": 206
        },
        "id": "H6OAt07AoZhS",
        "outputId": "048069a5-fc1c-4c66-afc9-eb5a67fc84a3"
      },
      "execution_count": 4,
      "outputs": [
        {
          "output_type": "execute_result",
          "data": {
            "text/plain": [
              "  model  year  price transmission  mileage fuelType  tax   mpg  engineSize  \\\n",
              "0    A1  2017  12500       Manual    15735   Petrol  150  55.4         1.4   \n",
              "1    A6  2016  16500    Automatic    36203   Diesel   20  64.2         2.0   \n",
              "2    A1  2016  11000       Manual    29946   Petrol   30  55.4         1.4   \n",
              "3    A4  2017  16800    Automatic    25952   Diesel  145  67.3         2.0   \n",
              "4    A3  2019  17300       Manual     1998   Petrol  145  49.6         1.0   \n",
              "\n",
              "      size_and_type     size       type  used_year    ampy  km/l  \n",
              "0   small_hatchback    small  hatchback          6  2622.5  23.8  \n",
              "1     subfull_sedan  subfull      sedan          7  5171.9  27.6  \n",
              "2   small_hatchback    small  hatchback          7  4278.0  23.8  \n",
              "3         mid_sedan      mid      sedan          6  4325.3  28.9  \n",
              "4  submid_hatchback   submid  hatchback          4   499.5  21.3  "
            ],
            "text/html": [
              "\n",
              "  <div id=\"df-9b6ad998-0988-44b9-8ee8-95a9787dabcc\">\n",
              "    <div class=\"colab-df-container\">\n",
              "      <div>\n",
              "<style scoped>\n",
              "    .dataframe tbody tr th:only-of-type {\n",
              "        vertical-align: middle;\n",
              "    }\n",
              "\n",
              "    .dataframe tbody tr th {\n",
              "        vertical-align: top;\n",
              "    }\n",
              "\n",
              "    .dataframe thead th {\n",
              "        text-align: right;\n",
              "    }\n",
              "</style>\n",
              "<table border=\"1\" class=\"dataframe\">\n",
              "  <thead>\n",
              "    <tr style=\"text-align: right;\">\n",
              "      <th></th>\n",
              "      <th>model</th>\n",
              "      <th>year</th>\n",
              "      <th>price</th>\n",
              "      <th>transmission</th>\n",
              "      <th>mileage</th>\n",
              "      <th>fuelType</th>\n",
              "      <th>tax</th>\n",
              "      <th>mpg</th>\n",
              "      <th>engineSize</th>\n",
              "      <th>size_and_type</th>\n",
              "      <th>size</th>\n",
              "      <th>type</th>\n",
              "      <th>used_year</th>\n",
              "      <th>ampy</th>\n",
              "      <th>km/l</th>\n",
              "    </tr>\n",
              "  </thead>\n",
              "  <tbody>\n",
              "    <tr>\n",
              "      <th>0</th>\n",
              "      <td>A1</td>\n",
              "      <td>2017</td>\n",
              "      <td>12500</td>\n",
              "      <td>Manual</td>\n",
              "      <td>15735</td>\n",
              "      <td>Petrol</td>\n",
              "      <td>150</td>\n",
              "      <td>55.4</td>\n",
              "      <td>1.4</td>\n",
              "      <td>small_hatchback</td>\n",
              "      <td>small</td>\n",
              "      <td>hatchback</td>\n",
              "      <td>6</td>\n",
              "      <td>2622.5</td>\n",
              "      <td>23.8</td>\n",
              "    </tr>\n",
              "    <tr>\n",
              "      <th>1</th>\n",
              "      <td>A6</td>\n",
              "      <td>2016</td>\n",
              "      <td>16500</td>\n",
              "      <td>Automatic</td>\n",
              "      <td>36203</td>\n",
              "      <td>Diesel</td>\n",
              "      <td>20</td>\n",
              "      <td>64.2</td>\n",
              "      <td>2.0</td>\n",
              "      <td>subfull_sedan</td>\n",
              "      <td>subfull</td>\n",
              "      <td>sedan</td>\n",
              "      <td>7</td>\n",
              "      <td>5171.9</td>\n",
              "      <td>27.6</td>\n",
              "    </tr>\n",
              "    <tr>\n",
              "      <th>2</th>\n",
              "      <td>A1</td>\n",
              "      <td>2016</td>\n",
              "      <td>11000</td>\n",
              "      <td>Manual</td>\n",
              "      <td>29946</td>\n",
              "      <td>Petrol</td>\n",
              "      <td>30</td>\n",
              "      <td>55.4</td>\n",
              "      <td>1.4</td>\n",
              "      <td>small_hatchback</td>\n",
              "      <td>small</td>\n",
              "      <td>hatchback</td>\n",
              "      <td>7</td>\n",
              "      <td>4278.0</td>\n",
              "      <td>23.8</td>\n",
              "    </tr>\n",
              "    <tr>\n",
              "      <th>3</th>\n",
              "      <td>A4</td>\n",
              "      <td>2017</td>\n",
              "      <td>16800</td>\n",
              "      <td>Automatic</td>\n",
              "      <td>25952</td>\n",
              "      <td>Diesel</td>\n",
              "      <td>145</td>\n",
              "      <td>67.3</td>\n",
              "      <td>2.0</td>\n",
              "      <td>mid_sedan</td>\n",
              "      <td>mid</td>\n",
              "      <td>sedan</td>\n",
              "      <td>6</td>\n",
              "      <td>4325.3</td>\n",
              "      <td>28.9</td>\n",
              "    </tr>\n",
              "    <tr>\n",
              "      <th>4</th>\n",
              "      <td>A3</td>\n",
              "      <td>2019</td>\n",
              "      <td>17300</td>\n",
              "      <td>Manual</td>\n",
              "      <td>1998</td>\n",
              "      <td>Petrol</td>\n",
              "      <td>145</td>\n",
              "      <td>49.6</td>\n",
              "      <td>1.0</td>\n",
              "      <td>submid_hatchback</td>\n",
              "      <td>submid</td>\n",
              "      <td>hatchback</td>\n",
              "      <td>4</td>\n",
              "      <td>499.5</td>\n",
              "      <td>21.3</td>\n",
              "    </tr>\n",
              "  </tbody>\n",
              "</table>\n",
              "</div>\n",
              "      <button class=\"colab-df-convert\" onclick=\"convertToInteractive('df-9b6ad998-0988-44b9-8ee8-95a9787dabcc')\"\n",
              "              title=\"Convert this dataframe to an interactive table.\"\n",
              "              style=\"display:none;\">\n",
              "        \n",
              "  <svg xmlns=\"http://www.w3.org/2000/svg\" height=\"24px\"viewBox=\"0 0 24 24\"\n",
              "       width=\"24px\">\n",
              "    <path d=\"M0 0h24v24H0V0z\" fill=\"none\"/>\n",
              "    <path d=\"M18.56 5.44l.94 2.06.94-2.06 2.06-.94-2.06-.94-.94-2.06-.94 2.06-2.06.94zm-11 1L8.5 8.5l.94-2.06 2.06-.94-2.06-.94L8.5 2.5l-.94 2.06-2.06.94zm10 10l.94 2.06.94-2.06 2.06-.94-2.06-.94-.94-2.06-.94 2.06-2.06.94z\"/><path d=\"M17.41 7.96l-1.37-1.37c-.4-.4-.92-.59-1.43-.59-.52 0-1.04.2-1.43.59L10.3 9.45l-7.72 7.72c-.78.78-.78 2.05 0 2.83L4 21.41c.39.39.9.59 1.41.59.51 0 1.02-.2 1.41-.59l7.78-7.78 2.81-2.81c.8-.78.8-2.07 0-2.86zM5.41 20L4 18.59l7.72-7.72 1.47 1.35L5.41 20z\"/>\n",
              "  </svg>\n",
              "      </button>\n",
              "      \n",
              "  <style>\n",
              "    .colab-df-container {\n",
              "      display:flex;\n",
              "      flex-wrap:wrap;\n",
              "      gap: 12px;\n",
              "    }\n",
              "\n",
              "    .colab-df-convert {\n",
              "      background-color: #E8F0FE;\n",
              "      border: none;\n",
              "      border-radius: 50%;\n",
              "      cursor: pointer;\n",
              "      display: none;\n",
              "      fill: #1967D2;\n",
              "      height: 32px;\n",
              "      padding: 0 0 0 0;\n",
              "      width: 32px;\n",
              "    }\n",
              "\n",
              "    .colab-df-convert:hover {\n",
              "      background-color: #E2EBFA;\n",
              "      box-shadow: 0px 1px 2px rgba(60, 64, 67, 0.3), 0px 1px 3px 1px rgba(60, 64, 67, 0.15);\n",
              "      fill: #174EA6;\n",
              "    }\n",
              "\n",
              "    [theme=dark] .colab-df-convert {\n",
              "      background-color: #3B4455;\n",
              "      fill: #D2E3FC;\n",
              "    }\n",
              "\n",
              "    [theme=dark] .colab-df-convert:hover {\n",
              "      background-color: #434B5C;\n",
              "      box-shadow: 0px 1px 3px 1px rgba(0, 0, 0, 0.15);\n",
              "      filter: drop-shadow(0px 1px 2px rgba(0, 0, 0, 0.3));\n",
              "      fill: #FFFFFF;\n",
              "    }\n",
              "  </style>\n",
              "\n",
              "      <script>\n",
              "        const buttonEl =\n",
              "          document.querySelector('#df-9b6ad998-0988-44b9-8ee8-95a9787dabcc button.colab-df-convert');\n",
              "        buttonEl.style.display =\n",
              "          google.colab.kernel.accessAllowed ? 'block' : 'none';\n",
              "\n",
              "        async function convertToInteractive(key) {\n",
              "          const element = document.querySelector('#df-9b6ad998-0988-44b9-8ee8-95a9787dabcc');\n",
              "          const dataTable =\n",
              "            await google.colab.kernel.invokeFunction('convertToInteractive',\n",
              "                                                     [key], {});\n",
              "          if (!dataTable) return;\n",
              "\n",
              "          const docLinkHtml = 'Like what you see? Visit the ' +\n",
              "            '<a target=\"_blank\" href=https://colab.research.google.com/notebooks/data_table.ipynb>data table notebook</a>'\n",
              "            + ' to learn more about interactive tables.';\n",
              "          element.innerHTML = '';\n",
              "          dataTable['output_type'] = 'display_data';\n",
              "          await google.colab.output.renderOutput(dataTable, element);\n",
              "          const docLink = document.createElement('div');\n",
              "          docLink.innerHTML = docLinkHtml;\n",
              "          element.appendChild(docLink);\n",
              "        }\n",
              "      </script>\n",
              "    </div>\n",
              "  </div>\n",
              "  "
            ]
          },
          "metadata": {},
          "execution_count": 4
        }
      ]
    },
    {
      "cell_type": "code",
      "source": [
        "df.nunique()"
      ],
      "metadata": {
        "colab": {
          "base_uri": "https://localhost:8080/"
        },
        "id": "bQnuK61_Y8ek",
        "outputId": "bdb03851-a2e0-48de-eea5-f99c783fe001"
      },
      "execution_count": 5,
      "outputs": [
        {
          "output_type": "execute_result",
          "data": {
            "text/plain": [
              "model              25\n",
              "year                7\n",
              "price            2864\n",
              "transmission        3\n",
              "mileage          6727\n",
              "fuelType            3\n",
              "tax                27\n",
              "mpg                84\n",
              "engineSize         15\n",
              "size_and_type      15\n",
              "size                6\n",
              "type                6\n",
              "used_year           7\n",
              "ampy             6872\n",
              "km/l               83\n",
              "dtype: int64"
            ]
          },
          "metadata": {},
          "execution_count": 5
        }
      ]
    },
    {
      "cell_type": "markdown",
      "source": [
        "#1. Feature Engineering\n",
        "> 기존 데이터에서 추가로 이용할 수 있는 부분이 있다면 새로운 피처를 생성합니다.\n",
        "\n",
        " -  Good preference badge 추가하기. <br>\n",
        " 차량을 사용한 이력이 3~5년사이, 주행거리가 30000이하, 자동차 연비(기준:km/l)가 21 이상이라면 뱃지를 달아줍니다.\n",
        "\n",
        " - 차량 모델에 상관없이 상태가 좋은 중고차를 구매하려고 하는 사람들이 분명 존재합니다. <br/>\n",
        "   이들에게 추천해줄 수 있도록 분류하는 모델을 생성하고자 합니다.\n",
        "\n"
      ],
      "metadata": {
        "id": "X87ak5EYCxMe"
      }
    },
    {
      "cell_type": "code",
      "source": [
        "# np.select() method를 이용합니다.\n",
        "import numpy as np\n",
        "conditionlist = [(df['used_year'] <=5) & (df['mileage'] <=30000) & (df['km/l'] >=21)]\n",
        "select_data = ['good']\n",
        "\n",
        "df['good_badge']  = np.select(conditionlist, select_data, default = 'Not Specified')"
      ],
      "metadata": {
        "id": "8qA7cTbgpLkL"
      },
      "execution_count": 6,
      "outputs": []
    },
    {
      "cell_type": "code",
      "source": [
        "# 타겟 비율 확인\n",
        "print(df['good_badge'].value_counts(normalize=True))\n",
        "print('\\n')\n",
        "print(df['good_badge'].value_counts())\n",
        "\n",
        "# 시각화 - 필요한 라이브러리 가져오기.\n",
        "import seaborn as sns\n",
        "import matplotlib.pyplot as plt\n",
        "sns.countplot(x = df['good_badge'])"
      ],
      "metadata": {
        "colab": {
          "base_uri": "https://localhost:8080/",
          "height": 436
        },
        "id": "GpiN_TsVCCZ9",
        "outputId": "38a680b9-ff6d-4702-82ab-4e89e00da8e4"
      },
      "execution_count": 7,
      "outputs": [
        {
          "output_type": "stream",
          "name": "stdout",
          "text": [
            "Not Specified    0.880257\n",
            "good             0.119743\n",
            "Name: good_badge, dtype: float64\n",
            "\n",
            "\n",
            "Not Specified    8226\n",
            "good             1119\n",
            "Name: good_badge, dtype: int64\n"
          ]
        },
        {
          "output_type": "execute_result",
          "data": {
            "text/plain": [
              "<Axes: xlabel='good_badge', ylabel='count'>"
            ]
          },
          "metadata": {},
          "execution_count": 7
        },
        {
          "output_type": "display_data",
          "data": {
            "text/plain": [
              "<Figure size 432x288 with 1 Axes>"
            ],
            "image/png": "[encoded data removed]"
          },
          "metadata": {
            "needs_background": "light"
          }
        }
      ]
    },
    {
      "cell_type": "markdown",
      "source": [
        "현재 타겟은 **불균형한 데이터 값**을 보여주고 있습니다.\n",
        "* 모델 생성시 이 부분에 유의하여 모델을 생성하도록 합니다."
      ],
      "metadata": {
        "id": "GPXg9YGVRVAy"
      }
    },
    {
      "cell_type": "markdown",
      "source": [
        "---"
      ],
      "metadata": {
        "id": "AtxMfJv-CdWH"
      }
    },
    {
      "cell_type": "markdown",
      "source": [
        "#2.  Model : `DecisionTree`"
      ],
      "metadata": {
        "id": "XPHqUmXkI2LB"
      }
    },
    {
      "cell_type": "markdown",
      "source": [
        "#### 2-1. Baseline 생성.\n",
        ">기준모델로 최다 비율 클래스를 사용할 경우 정확도는 다음과 같습니다."
      ],
      "metadata": {
        "id": "c5RD3o63RrUt"
      }
    },
    {
      "cell_type": "code",
      "source": [
        "# 타겟값을 mapping 하도록 합니다.\n",
        "# Not Specified = 0, good = 1\n",
        "y_train = df['good_badge'].replace(['Not Specified', 'good'], [0,1])\n",
        "\n",
        "# 기준 모델 생성 - 필요한 라이브러리 가져오기.\n",
        "from sklearn.metrics import accuracy_score\n",
        "\n",
        "major = y_train.mode()[0]\n",
        "\n",
        "\n",
        "# 최다빈도 값 : 0이 담긴 리스트를 생성합니다. \n",
        "major = y_train.mode()[0]\n",
        "y_pred = [major] * len(y_train)\n",
        "\n",
        "# 기준모델의 정확도는 다음과 같습니다.\n",
        "print(f'baseline accuracy:{accuracy_score(y_train, y_pred)}')"
      ],
      "metadata": {
        "colab": {
          "base_uri": "https://localhost:8080/"
        },
        "id": "iZ5xukTxTJ9w",
        "outputId": "cb7c2b16-b6d6-4609-d5f7-e603a1a298c9"
      },
      "execution_count": 8,
      "outputs": [
        {
          "output_type": "stream",
          "name": "stdout",
          "text": [
            "baseline accuracy:0.8802568218298555\n"
          ]
        }
      ]
    },
    {
      "cell_type": "markdown",
      "source": [
        "####2-2. `ML : DecisionTreeClassifier` 생성."
      ],
      "metadata": {
        "id": "NKH6057SXGX9"
      }
    },
    {
      "cell_type": "code",
      "source": [
        "# 데이터 분할.\n",
        "from sklearn.model_selection import train_test_split\n",
        "\n",
        "# 타겟 데이터를 같은 비율로 분할합니다.\n",
        "train, val = train_test_split(df,\n",
        "                                  train_size = 0.75,\n",
        "                                  stratify = df['good_badge'],random_state = 42)\n",
        "\n",
        "\n",
        "# target & feature 지정.\n",
        "target = 'good_badge'\n",
        "features = df.columns.drop(['size_and_type','mpg',target])\n",
        "\n",
        "# train\n",
        "y_train = train[target]\n",
        "X_train = train[features]\n",
        "\n",
        "# val\n",
        "y_val = val[target]\n",
        "X_val = val[features]\n",
        "\n",
        "# shap\n",
        "print( X_train.shape, X_val.shape,'\\n'*2)\n",
        "print(y_train.value_counts(normalize=True),'\\n'*2, y_val.value_counts(normalize=True),'\\n'*2)"
      ],
      "metadata": {
        "colab": {
          "base_uri": "https://localhost:8080/"
        },
        "id": "GvmXH4Tkdx4d",
        "outputId": "8f980b64-62e6-4f21-8013-1f74b4012a94"
      },
      "execution_count": 9,
      "outputs": [
        {
          "output_type": "stream",
          "name": "stdout",
          "text": [
            "(7008, 13) (2337, 13) \n",
            "\n",
            "\n",
            "Not Specified    0.88028\n",
            "good             0.11972\n",
            "Name: good_badge, dtype: float64 \n",
            "\n",
            " Not Specified    0.880188\n",
            "good             0.119812\n",
            "Name: good_badge, dtype: float64 \n",
            "\n",
            "\n"
          ]
        }
      ]
    },
    {
      "cell_type": "code",
      "source": [
        "X_train.columns, X_val.columns"
      ],
      "metadata": {
        "id": "yo2HvqomZ57f",
        "outputId": "9665fc40-8b5d-48e4-bbb8-e2cad1eca7b3",
        "colab": {
          "base_uri": "https://localhost:8080/"
        }
      },
      "execution_count": 10,
      "outputs": [
        {
          "output_type": "execute_result",
          "data": {
            "text/plain": [
              "(Index(['model', 'year', 'price', 'transmission', 'mileage', 'fuelType', 'tax',\n",
              "        'engineSize', 'size', 'type', 'used_year', 'ampy', 'km/l'],\n",
              "       dtype='object'),\n",
              " Index(['model', 'year', 'price', 'transmission', 'mileage', 'fuelType', 'tax',\n",
              "        'engineSize', 'size', 'type', 'used_year', 'ampy', 'km/l'],\n",
              "       dtype='object'))"
            ]
          },
          "metadata": {},
          "execution_count": 10
        }
      ]
    },
    {
      "cell_type": "code",
      "source": [
        "\n",
        "# 데이터 인코딩 및 파이프라인 생성 : 필요한 라이브러리 가져오기.\n",
        "from category_encoders import OrdinalEncoder\n",
        "from sklearn.tree import DecisionTreeClassifier\n",
        "from sklearn.pipeline import make_pipeline\n",
        "from xgboost import XGBClassifier\n",
        "\n",
        "pipe = make_pipeline(\n",
        "    OrdinalEncoder(),\n",
        "    DecisionTreeClassifier(max_depth = 5, random_state=42))\n",
        "\n",
        "print(pipe)\n",
        "\n",
        "#eval_set\n",
        "pipe.fit(X_train, \n",
        "          y_train)\n",
        "\n",
        "print('검증 정확도:', pipe.score(X_val,y_val))"
      ],
      "metadata": {
        "colab": {
          "base_uri": "https://localhost:8080/"
        },
        "id": "jJ9F5j-neUDd",
        "outputId": "1be3afd1-08c1-434f-bf5a-2448e7d85888"
      },
      "execution_count": 11,
      "outputs": [
        {
          "output_type": "stream",
          "name": "stdout",
          "text": [
            "Pipeline(steps=[('ordinalencoder', OrdinalEncoder()),\n",
            "                ('decisiontreeclassifier',\n",
            "                 DecisionTreeClassifier(max_depth=5, random_state=42))])\n",
            "검증 정확도: 1.0\n"
          ]
        }
      ]
    },
    {
      "cell_type": "markdown",
      "source": [
        "**검증 정확도가 1이 나왔습니다😥**\n",
        ">모델을 시각화하여 과적합을 일으키는 컬럼을 확인합니다.\n",
        "\n",
        "*`column: 'km/l'`을 지운 후 다시 한 번 살펴봅니다. "
      ],
      "metadata": {
        "id": "rerazwPMVEAM"
      }
    },
    {
      "cell_type": "code",
      "source": [
        "import graphviz\n",
        "from sklearn.tree import export_graphviz\n",
        "\n",
        "# 파이프라인에서 xgbclassifier에 접근.\n",
        "tree = pipe.named_steps['decisiontreeclassifier']\n",
        "\n",
        "\n",
        "dot_data = export_graphviz(\n",
        "    tree,\n",
        "    feature_names= X_train.columns,\n",
        "    class_names = y_train.unique().astype(str),\n",
        "    filled = True,\n",
        "    proportion = True,\n",
        ")\n",
        "\n",
        "graphviz.Source(dot_data)"
      ],
      "metadata": {
        "colab": {
          "base_uri": "https://localhost:8080/",
          "height": 598
        },
        "id": "UVk7GKPm1x4o",
        "outputId": "03ef7e79-73a2-4d69-edb2-81d1b0721497"
      },
      "execution_count": 12,
      "outputs": [
        {
          "output_type": "execute_result",
          "data": {
            "image/svg+xml": "<?xml version=\"1.0\" encoding=\"UTF-8\" standalone=\"no\"?>\n<!DOCTYPE svg PUBLIC \"-//W3C//DTD SVG 1.1//EN\"\n \"http://www.w3.org/Graphics/SVG/1.1/DTD/svg11.dtd\">\n<!-- Generated by graphviz version 2.43.0 (0)\n -->\n<!-- Title: Tree Pages: 1 -->\n<svg width=\"431pt\" height=\"433pt\"\n viewBox=\"0.00 0.00 430.50 433.00\" xmlns=\"http://www.w3.org/2000/svg\" xmlns:xlink=\"http://www.w3.org/1999/xlink\">\n<g id=\"graph0\" class=\"graph\" transform=\"scale(1 1) rotate(0) translate(4 429)\">\n<title>Tree</title>\n<polygon fill=\"white\" stroke=\"transparent\" points=\"-4,4 -4,-429 426.5,-429 426.5,4 -4,4\"/>\n<!-- 0 -->\n<g id=\"node1\" class=\"node\">\n<title>0</title>\n<polygon fill=\"#e99254\" stroke=\"black\" points=\"203,-425 71,-425 71,-342 203,-342 203,-425\"/>\n<text text-anchor=\"middle\" x=\"137\" y=\"-409.8\" font-family=\"Helvetica,sans-Serif\" font-size=\"14.00\">km/l &lt;= 21.1</text>\n<text text-anchor=\"middle\" x=\"137\" y=\"-394.8\" font-family=\"Helvetica,sans-Serif\" font-size=\"14.00\">gini = 0.211</text>\n<text text-anchor=\"middle\" x=\"137\" y=\"-379.8\" font-family=\"Helvetica,sans-Serif\" font-size=\"14.00\">samples = 100.0%</text>\n<text text-anchor=\"middle\" x=\"137\" y=\"-364.8\" font-family=\"Helvetica,sans-Serif\" font-size=\"14.00\">value = [0.88, 0.12]</text>\n<text text-anchor=\"middle\" x=\"137\" y=\"-349.8\" font-family=\"Helvetica,sans-Serif\" font-size=\"14.00\">class = good</text>\n</g>\n<!-- 1 -->\n<g id=\"node2\" class=\"node\">\n<title>1</title>\n<polygon fill=\"#e58139\" stroke=\"black\" points=\"122,-298.5 0,-298.5 0,-230.5 122,-230.5 122,-298.5\"/>\n<text text-anchor=\"middle\" x=\"61\" y=\"-283.3\" font-family=\"Helvetica,sans-Serif\" font-size=\"14.00\">gini = 0.0</text>\n<text text-anchor=\"middle\" x=\"61\" y=\"-268.3\" font-family=\"Helvetica,sans-Serif\" font-size=\"14.00\">samples = 51.3%</text>\n<text text-anchor=\"middle\" x=\"61\" y=\"-253.3\" font-family=\"Helvetica,sans-Serif\" font-size=\"14.00\">value = [1.0, 0.0]</text>\n<text text-anchor=\"middle\" x=\"61\" y=\"-238.3\" font-family=\"Helvetica,sans-Serif\" font-size=\"14.00\">class = good</text>\n</g>\n<!-- 0&#45;&gt;1 -->\n<g id=\"edge1\" class=\"edge\">\n<title>0&#45;&gt;1</title>\n<path fill=\"none\" stroke=\"black\" d=\"M110.63,-341.91C103.32,-330.65 95.37,-318.42 88.03,-307.11\"/>\n<polygon fill=\"black\" stroke=\"black\" points=\"90.93,-305.15 82.54,-298.67 85.06,-308.96 90.93,-305.15\"/>\n<text text-anchor=\"middle\" x=\"77.35\" y=\"-319.42\" font-family=\"Helvetica,sans-Serif\" font-size=\"14.00\">True</text>\n</g>\n<!-- 2 -->\n<g id=\"node3\" class=\"node\">\n<title>2</title>\n<polygon fill=\"#edaa7a\" stroke=\"black\" points=\"287.5,-306 140.5,-306 140.5,-223 287.5,-223 287.5,-306\"/>\n<text text-anchor=\"middle\" x=\"214\" y=\"-290.8\" font-family=\"Helvetica,sans-Serif\" font-size=\"14.00\">year &lt;= 2017.5</text>\n<text text-anchor=\"middle\" x=\"214\" y=\"-275.8\" font-family=\"Helvetica,sans-Serif\" font-size=\"14.00\">gini = 0.371</text>\n<text text-anchor=\"middle\" x=\"214\" y=\"-260.8\" font-family=\"Helvetica,sans-Serif\" font-size=\"14.00\">samples = 48.7%</text>\n<text text-anchor=\"middle\" x=\"214\" y=\"-245.8\" font-family=\"Helvetica,sans-Serif\" font-size=\"14.00\">value = [0.754, 0.246]</text>\n<text text-anchor=\"middle\" x=\"214\" y=\"-230.8\" font-family=\"Helvetica,sans-Serif\" font-size=\"14.00\">class = good</text>\n</g>\n<!-- 0&#45;&gt;2 -->\n<g id=\"edge2\" class=\"edge\">\n<title>0&#45;&gt;2</title>\n<path fill=\"none\" stroke=\"black\" d=\"M163.71,-341.91C169.51,-333.1 175.7,-323.7 181.68,-314.61\"/>\n<polygon fill=\"black\" stroke=\"black\" points=\"184.76,-316.3 187.33,-306.02 178.91,-312.45 184.76,-316.3\"/>\n<text text-anchor=\"middle\" x=\"192.38\" y=\"-326.81\" font-family=\"Helvetica,sans-Serif\" font-size=\"14.00\">False</text>\n</g>\n<!-- 3 -->\n<g id=\"node4\" class=\"node\">\n<title>3</title>\n<polygon fill=\"#e58139\" stroke=\"black\" points=\"198,-179.5 76,-179.5 76,-111.5 198,-111.5 198,-179.5\"/>\n<text text-anchor=\"middle\" x=\"137\" y=\"-164.3\" font-family=\"Helvetica,sans-Serif\" font-size=\"14.00\">gini = 0.0</text>\n<text text-anchor=\"middle\" x=\"137\" y=\"-149.3\" font-family=\"Helvetica,sans-Serif\" font-size=\"14.00\">samples = 36.2%</text>\n<text text-anchor=\"middle\" x=\"137\" y=\"-134.3\" font-family=\"Helvetica,sans-Serif\" font-size=\"14.00\">value = [1.0, 0.0]</text>\n<text text-anchor=\"middle\" x=\"137\" y=\"-119.3\" font-family=\"Helvetica,sans-Serif\" font-size=\"14.00\">class = good</text>\n</g>\n<!-- 2&#45;&gt;3 -->\n<g id=\"edge3\" class=\"edge\">\n<title>2&#45;&gt;3</title>\n<path fill=\"none\" stroke=\"black\" d=\"M187.29,-222.91C179.88,-211.65 171.83,-199.42 164.38,-188.11\"/>\n<polygon fill=\"black\" stroke=\"black\" points=\"167.25,-186.1 158.83,-179.67 161.4,-189.94 167.25,-186.1\"/>\n</g>\n<!-- 4 -->\n<g id=\"node5\" class=\"node\">\n<title>4</title>\n<polygon fill=\"#42a1e6\" stroke=\"black\" points=\"363.5,-187 216.5,-187 216.5,-104 363.5,-104 363.5,-187\"/>\n<text text-anchor=\"middle\" x=\"290\" y=\"-171.8\" font-family=\"Helvetica,sans-Serif\" font-size=\"14.00\">mileage &lt;= 29949.0</text>\n<text text-anchor=\"middle\" x=\"290\" y=\"-156.8\" font-family=\"Helvetica,sans-Serif\" font-size=\"14.00\">gini = 0.083</text>\n<text text-anchor=\"middle\" x=\"290\" y=\"-141.8\" font-family=\"Helvetica,sans-Serif\" font-size=\"14.00\">samples = 12.5%</text>\n<text text-anchor=\"middle\" x=\"290\" y=\"-126.8\" font-family=\"Helvetica,sans-Serif\" font-size=\"14.00\">value = [0.043, 0.957]</text>\n<text text-anchor=\"middle\" x=\"290\" y=\"-111.8\" font-family=\"Helvetica,sans-Serif\" font-size=\"14.00\">class = Not Specified</text>\n</g>\n<!-- 2&#45;&gt;4 -->\n<g id=\"edge4\" class=\"edge\">\n<title>2&#45;&gt;4</title>\n<path fill=\"none\" stroke=\"black\" d=\"M240.37,-222.91C246.09,-214.1 252.19,-204.7 258.1,-195.61\"/>\n<polygon fill=\"black\" stroke=\"black\" points=\"261.17,-197.31 263.68,-187.02 255.3,-193.5 261.17,-197.31\"/>\n</g>\n<!-- 5 -->\n<g id=\"node6\" class=\"node\">\n<title>5</title>\n<polygon fill=\"#399de5\" stroke=\"black\" points=\"287.5,-68 144.5,-68 144.5,0 287.5,0 287.5,-68\"/>\n<text text-anchor=\"middle\" x=\"216\" y=\"-52.8\" font-family=\"Helvetica,sans-Serif\" font-size=\"14.00\">gini = 0.0</text>\n<text text-anchor=\"middle\" x=\"216\" y=\"-37.8\" font-family=\"Helvetica,sans-Serif\" font-size=\"14.00\">samples = 12.0%</text>\n<text text-anchor=\"middle\" x=\"216\" y=\"-22.8\" font-family=\"Helvetica,sans-Serif\" font-size=\"14.00\">value = [0.0, 1.0]</text>\n<text text-anchor=\"middle\" x=\"216\" y=\"-7.8\" font-family=\"Helvetica,sans-Serif\" font-size=\"14.00\">class = Not Specified</text>\n</g>\n<!-- 4&#45;&gt;5 -->\n<g id=\"edge5\" class=\"edge\">\n<title>4&#45;&gt;5</title>\n<path fill=\"none\" stroke=\"black\" d=\"M262.45,-103.73C256.47,-94.88 250.13,-85.51 244.13,-76.63\"/>\n<polygon fill=\"black\" stroke=\"black\" points=\"247,-74.63 238.5,-68.3 241.2,-78.54 247,-74.63\"/>\n</g>\n<!-- 6 -->\n<g id=\"node7\" class=\"node\">\n<title>6</title>\n<polygon fill=\"#e58139\" stroke=\"black\" points=\"422.5,-68 305.5,-68 305.5,0 422.5,0 422.5,-68\"/>\n<text text-anchor=\"middle\" x=\"364\" y=\"-52.8\" font-family=\"Helvetica,sans-Serif\" font-size=\"14.00\">gini = 0.0</text>\n<text text-anchor=\"middle\" x=\"364\" y=\"-37.8\" font-family=\"Helvetica,sans-Serif\" font-size=\"14.00\">samples = 0.5%</text>\n<text text-anchor=\"middle\" x=\"364\" y=\"-22.8\" font-family=\"Helvetica,sans-Serif\" font-size=\"14.00\">value = [1.0, 0.0]</text>\n<text text-anchor=\"middle\" x=\"364\" y=\"-7.8\" font-family=\"Helvetica,sans-Serif\" font-size=\"14.00\">class = good</text>\n</g>\n<!-- 4&#45;&gt;6 -->\n<g id=\"edge6\" class=\"edge\">\n<title>4&#45;&gt;6</title>\n<path fill=\"none\" stroke=\"black\" d=\"M317.55,-103.73C323.53,-94.88 329.87,-85.51 335.87,-76.63\"/>\n<polygon fill=\"black\" stroke=\"black\" points=\"338.8,-78.54 341.5,-68.3 333,-74.63 338.8,-78.54\"/>\n</g>\n</g>\n</svg>\n",
            "text/plain": [
              "<graphviz.sources.Source at 0x7f10a8156a30>"
            ]
          },
          "metadata": {},
          "execution_count": 12
        }
      ]
    },
    {
      "cell_type": "code",
      "source": [
        "# 'km/l 제거'\n",
        "features = df.columns.drop(['size_and_type','mpg','km/l',target])\n",
        "\n",
        "# train\n",
        "X_train = train[features]\n",
        "y_train = train[target]\n",
        "\n",
        "# val\n",
        "X_val = val[features]\n",
        "y_val = val[target]\n",
        "\n",
        "# 새로운 파이프라인 생성.\n",
        "pipe = make_pipeline(\n",
        "    OrdinalEncoder(),\n",
        "    DecisionTreeClassifier(max_depth = 5,\n",
        "                           random_state = 42))\n",
        "\n",
        "\n",
        "# fit\n",
        "pipe.fit(X_train, y_train)\n",
        "print(f'검증 정확도:{pipe.score(X_val, y_val)}')"
      ],
      "metadata": {
        "colab": {
          "base_uri": "https://localhost:8080/"
        },
        "id": "J2rhEQJ1InAY",
        "outputId": "37c6e411-13a0-4b10-e21b-743f551b066d"
      },
      "execution_count": 13,
      "outputs": [
        {
          "output_type": "stream",
          "name": "stdout",
          "text": [
            "검증 정확도:0.9490800171159607\n"
          ]
        }
      ]
    },
    {
      "cell_type": "code",
      "source": [
        "# 트리를 다시 한 번 시각화하여 봅시다.\n",
        "tree = pipe.named_steps['decisiontreeclassifier']\n",
        "\n",
        "\n",
        "dot_data = export_graphviz(\n",
        "    tree,\n",
        "    feature_names= X_train.columns,\n",
        "    class_names = y_train.unique().astype(str),\n",
        "    filled = True,\n",
        "    proportion = True,\n",
        ")\n",
        "\n",
        "graphviz.Source(dot_data)"
      ],
      "metadata": {
        "colab": {
          "base_uri": "https://localhost:8080/",
          "height": 936
        },
        "id": "L_V4aANjIora",
        "outputId": "b073850a-9e4a-415d-b8aa-8796f881d78b"
      },
      "execution_count": 14,
      "outputs": [
        {
          "output_type": "execute_result",
          "data": {
            "image/svg+xml": "<?xml version=\"1.0\" encoding=\"UTF-8\" standalone=\"no\"?>\n<!DOCTYPE svg PUBLIC \"-//W3C//DTD SVG 1.1//EN\"\n \"http://www.w3.org/Graphics/SVG/1.1/DTD/svg11.dtd\">\n<!-- Generated by graphviz version 2.43.0 (0)\n -->\n<!-- Title: Tree Pages: 1 -->\n<svg width=\"1962pt\" height=\"671pt\"\n viewBox=\"0.00 0.00 1962.00 671.00\" xmlns=\"http://www.w3.org/2000/svg\" xmlns:xlink=\"http://www.w3.org/1999/xlink\">\n<g id=\"graph0\" class=\"graph\" transform=\"scale(1 1) rotate(0) translate(4 667)\">\n<title>Tree</title>\n<polygon fill=\"white\" stroke=\"transparent\" points=\"-4,4 -4,-667 1958,-667 1958,4 -4,4\"/>\n<!-- 0 -->\n<g id=\"node1\" class=\"node\">\n<title>0</title>\n<polygon fill=\"#e99254\" stroke=\"black\" points=\"1194.5,-663 1062.5,-663 1062.5,-580 1194.5,-580 1194.5,-663\"/>\n<text text-anchor=\"middle\" x=\"1128.5\" y=\"-647.8\" font-family=\"Helvetica,sans-Serif\" font-size=\"14.00\">used_year &lt;= 5.5</text>\n<text text-anchor=\"middle\" x=\"1128.5\" y=\"-632.8\" font-family=\"Helvetica,sans-Serif\" font-size=\"14.00\">gini = 0.211</text>\n<text text-anchor=\"middle\" x=\"1128.5\" y=\"-617.8\" font-family=\"Helvetica,sans-Serif\" font-size=\"14.00\">samples = 100.0%</text>\n<text text-anchor=\"middle\" x=\"1128.5\" y=\"-602.8\" font-family=\"Helvetica,sans-Serif\" font-size=\"14.00\">value = [0.88, 0.12]</text>\n<text text-anchor=\"middle\" x=\"1128.5\" y=\"-587.8\" font-family=\"Helvetica,sans-Serif\" font-size=\"14.00\">class = good</text>\n</g>\n<!-- 1 -->\n<g id=\"node2\" class=\"node\">\n<title>1</title>\n<polygon fill=\"#eda876\" stroke=\"black\" points=\"1126,-544 979,-544 979,-461 1126,-461 1126,-544\"/>\n<text text-anchor=\"middle\" x=\"1052.5\" y=\"-528.8\" font-family=\"Helvetica,sans-Serif\" font-size=\"14.00\">price &lt;= 21997.5</text>\n<text text-anchor=\"middle\" x=\"1052.5\" y=\"-513.8\" font-family=\"Helvetica,sans-Serif\" font-size=\"14.00\">gini = 0.36</text>\n<text text-anchor=\"middle\" x=\"1052.5\" y=\"-498.8\" font-family=\"Helvetica,sans-Serif\" font-size=\"14.00\">samples = 50.9%</text>\n<text text-anchor=\"middle\" x=\"1052.5\" y=\"-483.8\" font-family=\"Helvetica,sans-Serif\" font-size=\"14.00\">value = [0.765, 0.235]</text>\n<text text-anchor=\"middle\" x=\"1052.5\" y=\"-468.8\" font-family=\"Helvetica,sans-Serif\" font-size=\"14.00\">class = good</text>\n</g>\n<!-- 0&#45;&gt;1 -->\n<g id=\"edge1\" class=\"edge\">\n<title>0&#45;&gt;1</title>\n<path fill=\"none\" stroke=\"black\" d=\"M1102.13,-579.91C1096.41,-571.1 1090.31,-561.7 1084.4,-552.61\"/>\n<polygon fill=\"black\" stroke=\"black\" points=\"1087.2,-550.5 1078.82,-544.02 1081.33,-554.31 1087.2,-550.5\"/>\n<text text-anchor=\"middle\" x=\"1073.63\" y=\"-564.78\" font-family=\"Helvetica,sans-Serif\" font-size=\"14.00\">True</text>\n</g>\n<!-- 28 -->\n<g id=\"node29\" class=\"node\">\n<title>28</title>\n<polygon fill=\"#e58139\" stroke=\"black\" points=\"1266.5,-536.5 1144.5,-536.5 1144.5,-468.5 1266.5,-468.5 1266.5,-536.5\"/>\n<text text-anchor=\"middle\" x=\"1205.5\" y=\"-521.3\" font-family=\"Helvetica,sans-Serif\" font-size=\"14.00\">gini = 0.0</text>\n<text text-anchor=\"middle\" x=\"1205.5\" y=\"-506.3\" font-family=\"Helvetica,sans-Serif\" font-size=\"14.00\">samples = 49.1%</text>\n<text text-anchor=\"middle\" x=\"1205.5\" y=\"-491.3\" font-family=\"Helvetica,sans-Serif\" font-size=\"14.00\">value = [1.0, 0.0]</text>\n<text text-anchor=\"middle\" x=\"1205.5\" y=\"-476.3\" font-family=\"Helvetica,sans-Serif\" font-size=\"14.00\">class = good</text>\n</g>\n<!-- 0&#45;&gt;28 -->\n<g id=\"edge28\" class=\"edge\">\n<title>0&#45;&gt;28</title>\n<path fill=\"none\" stroke=\"black\" d=\"M1155.21,-579.91C1162.62,-568.65 1170.67,-556.42 1178.12,-545.11\"/>\n<polygon fill=\"black\" stroke=\"black\" points=\"1181.1,-546.94 1183.67,-536.67 1175.25,-543.1 1181.1,-546.94\"/>\n<text text-anchor=\"middle\" x=\"1188.72\" y=\"-557.45\" font-family=\"Helvetica,sans-Serif\" font-size=\"14.00\">False</text>\n</g>\n<!-- 2 -->\n<g id=\"node3\" class=\"node\">\n<title>2</title>\n<polygon fill=\"#c8e4f8\" stroke=\"black\" points=\"959,-425 816,-425 816,-342 959,-342 959,-425\"/>\n<text text-anchor=\"middle\" x=\"887.5\" y=\"-409.8\" font-family=\"Helvetica,sans-Serif\" font-size=\"14.00\">used_year &lt;= 4.5</text>\n<text text-anchor=\"middle\" x=\"887.5\" y=\"-394.8\" font-family=\"Helvetica,sans-Serif\" font-size=\"14.00\">gini = 0.487</text>\n<text text-anchor=\"middle\" x=\"887.5\" y=\"-379.8\" font-family=\"Helvetica,sans-Serif\" font-size=\"14.00\">samples = 10.2%</text>\n<text text-anchor=\"middle\" x=\"887.5\" y=\"-364.8\" font-family=\"Helvetica,sans-Serif\" font-size=\"14.00\">value = [0.42, 0.58]</text>\n<text text-anchor=\"middle\" x=\"887.5\" y=\"-349.8\" font-family=\"Helvetica,sans-Serif\" font-size=\"14.00\">class = Not Specified</text>\n</g>\n<!-- 1&#45;&gt;2 -->\n<g id=\"edge2\" class=\"edge\">\n<title>1&#45;&gt;2</title>\n<path fill=\"none\" stroke=\"black\" d=\"M995.25,-460.91C981.56,-451.2 966.84,-440.76 952.81,-430.81\"/>\n<polygon fill=\"black\" stroke=\"black\" points=\"954.83,-427.95 944.64,-425.02 950.78,-433.66 954.83,-427.95\"/>\n</g>\n<!-- 15 -->\n<g id=\"node16\" class=\"node\">\n<title>15</title>\n<polygon fill=\"#ea975c\" stroke=\"black\" points=\"1380,-425 1233,-425 1233,-342 1380,-342 1380,-425\"/>\n<text text-anchor=\"middle\" x=\"1306.5\" y=\"-409.8\" font-family=\"Helvetica,sans-Serif\" font-size=\"14.00\">fuelType &lt;= 1.5</text>\n<text text-anchor=\"middle\" x=\"1306.5\" y=\"-394.8\" font-family=\"Helvetica,sans-Serif\" font-size=\"14.00\">gini = 0.253</text>\n<text text-anchor=\"middle\" x=\"1306.5\" y=\"-379.8\" font-family=\"Helvetica,sans-Serif\" font-size=\"14.00\">samples = 40.7%</text>\n<text text-anchor=\"middle\" x=\"1306.5\" y=\"-364.8\" font-family=\"Helvetica,sans-Serif\" font-size=\"14.00\">value = [0.852, 0.148]</text>\n<text text-anchor=\"middle\" x=\"1306.5\" y=\"-349.8\" font-family=\"Helvetica,sans-Serif\" font-size=\"14.00\">class = good</text>\n</g>\n<!-- 1&#45;&gt;15 -->\n<g id=\"edge15\" class=\"edge\">\n<title>1&#45;&gt;15</title>\n<path fill=\"none\" stroke=\"black\" d=\"M1126.21,-465.38C1129.34,-463.89 1132.45,-462.43 1135.5,-461 1163.96,-447.7 1195.28,-433.54 1223.26,-421.07\"/>\n<polygon fill=\"black\" stroke=\"black\" points=\"1224.89,-424.18 1232.61,-416.91 1222.05,-417.78 1224.89,-424.18\"/>\n</g>\n<!-- 3 -->\n<g id=\"node4\" class=\"node\">\n<title>3</title>\n<polygon fill=\"#f9e0ce\" stroke=\"black\" points=\"555,-306 408,-306 408,-223 555,-223 555,-306\"/>\n<text text-anchor=\"middle\" x=\"481.5\" y=\"-290.8\" font-family=\"Helvetica,sans-Serif\" font-size=\"14.00\">fuelType &lt;= 1.5</text>\n<text text-anchor=\"middle\" x=\"481.5\" y=\"-275.8\" font-family=\"Helvetica,sans-Serif\" font-size=\"14.00\">gini = 0.49</text>\n<text text-anchor=\"middle\" x=\"481.5\" y=\"-260.8\" font-family=\"Helvetica,sans-Serif\" font-size=\"14.00\">samples = 5.9%</text>\n<text text-anchor=\"middle\" x=\"481.5\" y=\"-245.8\" font-family=\"Helvetica,sans-Serif\" font-size=\"14.00\">value = [0.571, 0.429]</text>\n<text text-anchor=\"middle\" x=\"481.5\" y=\"-230.8\" font-family=\"Helvetica,sans-Serif\" font-size=\"14.00\">class = good</text>\n</g>\n<!-- 2&#45;&gt;3 -->\n<g id=\"edge3\" class=\"edge\">\n<title>2&#45;&gt;3</title>\n<path fill=\"none\" stroke=\"black\" d=\"M815.85,-361.85C745.7,-341.64 638.87,-310.85 564.93,-289.54\"/>\n<polygon fill=\"black\" stroke=\"black\" points=\"565.75,-286.14 555.17,-286.73 563.81,-292.86 565.75,-286.14\"/>\n</g>\n<!-- 10 -->\n<g id=\"node11\" class=\"node\">\n<title>10</title>\n<polygon fill=\"#6eb7ec\" stroke=\"black\" points=\"961,-306 814,-306 814,-223 961,-223 961,-306\"/>\n<text text-anchor=\"middle\" x=\"887.5\" y=\"-290.8\" font-family=\"Helvetica,sans-Serif\" font-size=\"14.00\">mileage &lt;= 29949.0</text>\n<text text-anchor=\"middle\" x=\"887.5\" y=\"-275.8\" font-family=\"Helvetica,sans-Serif\" font-size=\"14.00\">gini = 0.334</text>\n<text text-anchor=\"middle\" x=\"887.5\" y=\"-260.8\" font-family=\"Helvetica,sans-Serif\" font-size=\"14.00\">samples = 4.3%</text>\n<text text-anchor=\"middle\" x=\"887.5\" y=\"-245.8\" font-family=\"Helvetica,sans-Serif\" font-size=\"14.00\">value = [0.212, 0.788]</text>\n<text text-anchor=\"middle\" x=\"887.5\" y=\"-230.8\" font-family=\"Helvetica,sans-Serif\" font-size=\"14.00\">class = Not Specified</text>\n</g>\n<!-- 2&#45;&gt;10 -->\n<g id=\"edge10\" class=\"edge\">\n<title>2&#45;&gt;10</title>\n<path fill=\"none\" stroke=\"black\" d=\"M887.5,-341.91C887.5,-333.65 887.5,-324.86 887.5,-316.3\"/>\n<polygon fill=\"black\" stroke=\"black\" points=\"891,-316.02 887.5,-306.02 884,-316.02 891,-316.02\"/>\n</g>\n<!-- 4 -->\n<g id=\"node5\" class=\"node\">\n<title>4</title>\n<polygon fill=\"#54aae9\" stroke=\"black\" points=\"306,-187 163,-187 163,-104 306,-104 306,-187\"/>\n<text text-anchor=\"middle\" x=\"234.5\" y=\"-171.8\" font-family=\"Helvetica,sans-Serif\" font-size=\"14.00\">size &lt;= 3.5</text>\n<text text-anchor=\"middle\" x=\"234.5\" y=\"-156.8\" font-family=\"Helvetica,sans-Serif\" font-size=\"14.00\">gini = 0.211</text>\n<text text-anchor=\"middle\" x=\"234.5\" y=\"-141.8\" font-family=\"Helvetica,sans-Serif\" font-size=\"14.00\">samples = 2.4%</text>\n<text text-anchor=\"middle\" x=\"234.5\" y=\"-126.8\" font-family=\"Helvetica,sans-Serif\" font-size=\"14.00\">value = [0.12, 0.88]</text>\n<text text-anchor=\"middle\" x=\"234.5\" y=\"-111.8\" font-family=\"Helvetica,sans-Serif\" font-size=\"14.00\">class = Not Specified</text>\n</g>\n<!-- 3&#45;&gt;4 -->\n<g id=\"edge4\" class=\"edge\">\n<title>3&#45;&gt;4</title>\n<path fill=\"none\" stroke=\"black\" d=\"M407.73,-228.55C378.61,-214.76 345.07,-198.88 315.3,-184.78\"/>\n<polygon fill=\"black\" stroke=\"black\" points=\"316.73,-181.58 306.2,-180.46 313.73,-187.9 316.73,-181.58\"/>\n</g>\n<!-- 7 -->\n<g id=\"node8\" class=\"node\">\n<title>7</title>\n<polygon fill=\"#e99355\" stroke=\"black\" points=\"555,-187 408,-187 408,-104 555,-104 555,-187\"/>\n<text text-anchor=\"middle\" x=\"481.5\" y=\"-171.8\" font-family=\"Helvetica,sans-Serif\" font-size=\"14.00\">price &lt;= 19457.5</text>\n<text text-anchor=\"middle\" x=\"481.5\" y=\"-156.8\" font-family=\"Helvetica,sans-Serif\" font-size=\"14.00\">gini = 0.219</text>\n<text text-anchor=\"middle\" x=\"481.5\" y=\"-141.8\" font-family=\"Helvetica,sans-Serif\" font-size=\"14.00\">samples = 3.5%</text>\n<text text-anchor=\"middle\" x=\"481.5\" y=\"-126.8\" font-family=\"Helvetica,sans-Serif\" font-size=\"14.00\">value = [0.875, 0.125]</text>\n<text text-anchor=\"middle\" x=\"481.5\" y=\"-111.8\" font-family=\"Helvetica,sans-Serif\" font-size=\"14.00\">class = good</text>\n</g>\n<!-- 3&#45;&gt;7 -->\n<g id=\"edge7\" class=\"edge\">\n<title>3&#45;&gt;7</title>\n<path fill=\"none\" stroke=\"black\" d=\"M481.5,-222.91C481.5,-214.65 481.5,-205.86 481.5,-197.3\"/>\n<polygon fill=\"black\" stroke=\"black\" points=\"485,-197.02 481.5,-187.02 478,-197.02 485,-197.02\"/>\n</g>\n<!-- 5 -->\n<g id=\"node6\" class=\"node\">\n<title>5</title>\n<polygon fill=\"#399de5\" stroke=\"black\" points=\"143,-68 0,-68 0,0 143,0 143,-68\"/>\n<text text-anchor=\"middle\" x=\"71.5\" y=\"-52.8\" font-family=\"Helvetica,sans-Serif\" font-size=\"14.00\">gini = 0.0</text>\n<text text-anchor=\"middle\" x=\"71.5\" y=\"-37.8\" font-family=\"Helvetica,sans-Serif\" font-size=\"14.00\">samples = 1.4%</text>\n<text text-anchor=\"middle\" x=\"71.5\" y=\"-22.8\" font-family=\"Helvetica,sans-Serif\" font-size=\"14.00\">value = [0.0, 1.0]</text>\n<text text-anchor=\"middle\" x=\"71.5\" y=\"-7.8\" font-family=\"Helvetica,sans-Serif\" font-size=\"14.00\">class = Not Specified</text>\n</g>\n<!-- 4&#45;&gt;5 -->\n<g id=\"edge5\" class=\"edge\">\n<title>4&#45;&gt;5</title>\n<path fill=\"none\" stroke=\"black\" d=\"M173.8,-103.73C159.2,-93.92 143.64,-83.46 129.18,-73.75\"/>\n<polygon fill=\"black\" stroke=\"black\" points=\"131.06,-70.8 120.81,-68.13 127.16,-76.61 131.06,-70.8\"/>\n</g>\n<!-- 6 -->\n<g id=\"node7\" class=\"node\">\n<title>6</title>\n<polygon fill=\"#85c3ef\" stroke=\"black\" points=\"308,-68 161,-68 161,0 308,0 308,-68\"/>\n<text text-anchor=\"middle\" x=\"234.5\" y=\"-52.8\" font-family=\"Helvetica,sans-Serif\" font-size=\"14.00\">gini = 0.401</text>\n<text text-anchor=\"middle\" x=\"234.5\" y=\"-37.8\" font-family=\"Helvetica,sans-Serif\" font-size=\"14.00\">samples = 1.0%</text>\n<text text-anchor=\"middle\" x=\"234.5\" y=\"-22.8\" font-family=\"Helvetica,sans-Serif\" font-size=\"14.00\">value = [0.278, 0.722]</text>\n<text text-anchor=\"middle\" x=\"234.5\" y=\"-7.8\" font-family=\"Helvetica,sans-Serif\" font-size=\"14.00\">class = Not Specified</text>\n</g>\n<!-- 4&#45;&gt;6 -->\n<g id=\"edge6\" class=\"edge\">\n<title>4&#45;&gt;6</title>\n<path fill=\"none\" stroke=\"black\" d=\"M234.5,-103.73C234.5,-95.52 234.5,-86.86 234.5,-78.56\"/>\n<polygon fill=\"black\" stroke=\"black\" points=\"238,-78.3 234.5,-68.3 231,-78.3 238,-78.3\"/>\n</g>\n<!-- 8 -->\n<g id=\"node9\" class=\"node\">\n<title>8</title>\n<polygon fill=\"#f4c8a8\" stroke=\"black\" points=\"473,-68 326,-68 326,0 473,0 473,-68\"/>\n<text text-anchor=\"middle\" x=\"399.5\" y=\"-52.8\" font-family=\"Helvetica,sans-Serif\" font-size=\"14.00\">gini = 0.46</text>\n<text text-anchor=\"middle\" x=\"399.5\" y=\"-37.8\" font-family=\"Helvetica,sans-Serif\" font-size=\"14.00\">samples = 0.9%</text>\n<text text-anchor=\"middle\" x=\"399.5\" y=\"-22.8\" font-family=\"Helvetica,sans-Serif\" font-size=\"14.00\">value = [0.641, 0.359]</text>\n<text text-anchor=\"middle\" x=\"399.5\" y=\"-7.8\" font-family=\"Helvetica,sans-Serif\" font-size=\"14.00\">class = good</text>\n</g>\n<!-- 7&#45;&gt;8 -->\n<g id=\"edge8\" class=\"edge\">\n<title>7&#45;&gt;8</title>\n<path fill=\"none\" stroke=\"black\" d=\"M450.97,-103.73C444.27,-94.79 437.18,-85.32 430.47,-76.36\"/>\n<polygon fill=\"black\" stroke=\"black\" points=\"433.23,-74.21 424.44,-68.3 427.63,-78.4 433.23,-74.21\"/>\n</g>\n<!-- 9 -->\n<g id=\"node10\" class=\"node\">\n<title>9</title>\n<polygon fill=\"#e68742\" stroke=\"black\" points=\"638,-68 491,-68 491,0 638,0 638,-68\"/>\n<text text-anchor=\"middle\" x=\"564.5\" y=\"-52.8\" font-family=\"Helvetica,sans-Serif\" font-size=\"14.00\">gini = 0.083</text>\n<text text-anchor=\"middle\" x=\"564.5\" y=\"-37.8\" font-family=\"Helvetica,sans-Serif\" font-size=\"14.00\">samples = 2.6%</text>\n<text text-anchor=\"middle\" x=\"564.5\" y=\"-22.8\" font-family=\"Helvetica,sans-Serif\" font-size=\"14.00\">value = [0.957, 0.043]</text>\n<text text-anchor=\"middle\" x=\"564.5\" y=\"-7.8\" font-family=\"Helvetica,sans-Serif\" font-size=\"14.00\">class = good</text>\n</g>\n<!-- 7&#45;&gt;9 -->\n<g id=\"edge9\" class=\"edge\">\n<title>7&#45;&gt;9</title>\n<path fill=\"none\" stroke=\"black\" d=\"M512.41,-103.73C519.18,-94.79 526.36,-85.32 533.15,-76.36\"/>\n<polygon fill=\"black\" stroke=\"black\" points=\"536.01,-78.38 539.26,-68.3 530.43,-74.15 536.01,-78.38\"/>\n</g>\n<!-- 11 -->\n<g id=\"node12\" class=\"node\">\n<title>11</title>\n<polygon fill=\"#54abe9\" stroke=\"black\" points=\"886,-187 739,-187 739,-104 886,-104 886,-187\"/>\n<text text-anchor=\"middle\" x=\"812.5\" y=\"-171.8\" font-family=\"Helvetica,sans-Serif\" font-size=\"14.00\">mileage &lt;= 6837.0</text>\n<text text-anchor=\"middle\" x=\"812.5\" y=\"-156.8\" font-family=\"Helvetica,sans-Serif\" font-size=\"14.00\">gini = 0.214</text>\n<text text-anchor=\"middle\" x=\"812.5\" y=\"-141.8\" font-family=\"Helvetica,sans-Serif\" font-size=\"14.00\">samples = 3.9%</text>\n<text text-anchor=\"middle\" x=\"812.5\" y=\"-126.8\" font-family=\"Helvetica,sans-Serif\" font-size=\"14.00\">value = [0.122, 0.878]</text>\n<text text-anchor=\"middle\" x=\"812.5\" y=\"-111.8\" font-family=\"Helvetica,sans-Serif\" font-size=\"14.00\">class = Not Specified</text>\n</g>\n<!-- 10&#45;&gt;11 -->\n<g id=\"edge11\" class=\"edge\">\n<title>10&#45;&gt;11</title>\n<path fill=\"none\" stroke=\"black\" d=\"M861.48,-222.91C855.84,-214.1 849.81,-204.7 843.98,-195.61\"/>\n<polygon fill=\"black\" stroke=\"black\" points=\"846.82,-193.55 838.47,-187.02 840.93,-197.33 846.82,-193.55\"/>\n</g>\n<!-- 14 -->\n<g id=\"node15\" class=\"node\">\n<title>14</title>\n<polygon fill=\"#e58139\" stroke=\"black\" points=\"1021,-179.5 904,-179.5 904,-111.5 1021,-111.5 1021,-179.5\"/>\n<text text-anchor=\"middle\" x=\"962.5\" y=\"-164.3\" font-family=\"Helvetica,sans-Serif\" font-size=\"14.00\">gini = 0.0</text>\n<text text-anchor=\"middle\" x=\"962.5\" y=\"-149.3\" font-family=\"Helvetica,sans-Serif\" font-size=\"14.00\">samples = 0.4%</text>\n<text text-anchor=\"middle\" x=\"962.5\" y=\"-134.3\" font-family=\"Helvetica,sans-Serif\" font-size=\"14.00\">value = [1.0, 0.0]</text>\n<text text-anchor=\"middle\" x=\"962.5\" y=\"-119.3\" font-family=\"Helvetica,sans-Serif\" font-size=\"14.00\">class = good</text>\n</g>\n<!-- 10&#45;&gt;14 -->\n<g id=\"edge14\" class=\"edge\">\n<title>10&#45;&gt;14</title>\n<path fill=\"none\" stroke=\"black\" d=\"M913.52,-222.91C920.74,-211.65 928.58,-199.42 935.83,-188.11\"/>\n<polygon fill=\"black\" stroke=\"black\" points=\"938.79,-189.97 941.24,-179.67 932.9,-186.2 938.79,-189.97\"/>\n</g>\n<!-- 12 -->\n<g id=\"node13\" class=\"node\">\n<title>12</title>\n<polygon fill=\"#cee6f8\" stroke=\"black\" points=\"803,-68 656,-68 656,0 803,0 803,-68\"/>\n<text text-anchor=\"middle\" x=\"729.5\" y=\"-52.8\" font-family=\"Helvetica,sans-Serif\" font-size=\"14.00\">gini = 0.49</text>\n<text text-anchor=\"middle\" x=\"729.5\" y=\"-37.8\" font-family=\"Helvetica,sans-Serif\" font-size=\"14.00\">samples = 0.3%</text>\n<text text-anchor=\"middle\" x=\"729.5\" y=\"-22.8\" font-family=\"Helvetica,sans-Serif\" font-size=\"14.00\">value = [0.429, 0.571]</text>\n<text text-anchor=\"middle\" x=\"729.5\" y=\"-7.8\" font-family=\"Helvetica,sans-Serif\" font-size=\"14.00\">class = Not Specified</text>\n</g>\n<!-- 11&#45;&gt;12 -->\n<g id=\"edge12\" class=\"edge\">\n<title>11&#45;&gt;12</title>\n<path fill=\"none\" stroke=\"black\" d=\"M781.59,-103.73C774.82,-94.79 767.64,-85.32 760.85,-76.36\"/>\n<polygon fill=\"black\" stroke=\"black\" points=\"763.57,-74.15 754.74,-68.3 757.99,-78.38 763.57,-74.15\"/>\n</g>\n<!-- 13 -->\n<g id=\"node14\" class=\"node\">\n<title>13</title>\n<polygon fill=\"#4ea7e8\" stroke=\"black\" points=\"968,-68 821,-68 821,0 968,0 968,-68\"/>\n<text text-anchor=\"middle\" x=\"894.5\" y=\"-52.8\" font-family=\"Helvetica,sans-Serif\" font-size=\"14.00\">gini = 0.174</text>\n<text text-anchor=\"middle\" x=\"894.5\" y=\"-37.8\" font-family=\"Helvetica,sans-Serif\" font-size=\"14.00\">samples = 3.6%</text>\n<text text-anchor=\"middle\" x=\"894.5\" y=\"-22.8\" font-family=\"Helvetica,sans-Serif\" font-size=\"14.00\">value = [0.096, 0.904]</text>\n<text text-anchor=\"middle\" x=\"894.5\" y=\"-7.8\" font-family=\"Helvetica,sans-Serif\" font-size=\"14.00\">class = Not Specified</text>\n</g>\n<!-- 11&#45;&gt;13 -->\n<g id=\"edge13\" class=\"edge\">\n<title>11&#45;&gt;13</title>\n<path fill=\"none\" stroke=\"black\" d=\"M843.03,-103.73C849.73,-94.79 856.82,-85.32 863.53,-76.36\"/>\n<polygon fill=\"black\" stroke=\"black\" points=\"866.37,-78.4 869.56,-68.3 860.77,-74.21 866.37,-78.4\"/>\n</g>\n<!-- 16 -->\n<g id=\"node17\" class=\"node\">\n<title>16</title>\n<polygon fill=\"#eeae7f\" stroke=\"black\" points=\"1380,-306 1233,-306 1233,-223 1380,-223 1380,-306\"/>\n<text text-anchor=\"middle\" x=\"1306.5\" y=\"-290.8\" font-family=\"Helvetica,sans-Serif\" font-size=\"14.00\">price &lt;= 30739.0</text>\n<text text-anchor=\"middle\" x=\"1306.5\" y=\"-275.8\" font-family=\"Helvetica,sans-Serif\" font-size=\"14.00\">gini = 0.386</text>\n<text text-anchor=\"middle\" x=\"1306.5\" y=\"-260.8\" font-family=\"Helvetica,sans-Serif\" font-size=\"14.00\">samples = 20.5%</text>\n<text text-anchor=\"middle\" x=\"1306.5\" y=\"-245.8\" font-family=\"Helvetica,sans-Serif\" font-size=\"14.00\">value = [0.738, 0.262]</text>\n<text text-anchor=\"middle\" x=\"1306.5\" y=\"-230.8\" font-family=\"Helvetica,sans-Serif\" font-size=\"14.00\">class = good</text>\n</g>\n<!-- 15&#45;&gt;16 -->\n<g id=\"edge16\" class=\"edge\">\n<title>15&#45;&gt;16</title>\n<path fill=\"none\" stroke=\"black\" d=\"M1306.5,-341.91C1306.5,-333.65 1306.5,-324.86 1306.5,-316.3\"/>\n<polygon fill=\"black\" stroke=\"black\" points=\"1310,-316.02 1306.5,-306.02 1303,-316.02 1310,-316.02\"/>\n</g>\n<!-- 23 -->\n<g id=\"node24\" class=\"node\">\n<title>23</title>\n<polygon fill=\"#e68540\" stroke=\"black\" points=\"1793,-306 1646,-306 1646,-223 1793,-223 1793,-306\"/>\n<text text-anchor=\"middle\" x=\"1719.5\" y=\"-290.8\" font-family=\"Helvetica,sans-Serif\" font-size=\"14.00\">fuelType &lt;= 2.5</text>\n<text text-anchor=\"middle\" x=\"1719.5\" y=\"-275.8\" font-family=\"Helvetica,sans-Serif\" font-size=\"14.00\">gini = 0.064</text>\n<text text-anchor=\"middle\" x=\"1719.5\" y=\"-260.8\" font-family=\"Helvetica,sans-Serif\" font-size=\"14.00\">samples = 20.1%</text>\n<text text-anchor=\"middle\" x=\"1719.5\" y=\"-245.8\" font-family=\"Helvetica,sans-Serif\" font-size=\"14.00\">value = [0.967, 0.033]</text>\n<text text-anchor=\"middle\" x=\"1719.5\" y=\"-230.8\" font-family=\"Helvetica,sans-Serif\" font-size=\"14.00\">class = good</text>\n</g>\n<!-- 15&#45;&gt;23 -->\n<g id=\"edge23\" class=\"edge\">\n<title>15&#45;&gt;23</title>\n<path fill=\"none\" stroke=\"black\" d=\"M1380.34,-361.58C1452.17,-341.23 1561.14,-310.36 1636.08,-289.13\"/>\n<polygon fill=\"black\" stroke=\"black\" points=\"1637.29,-292.43 1645.96,-286.33 1635.38,-285.69 1637.29,-292.43\"/>\n</g>\n<!-- 17 -->\n<g id=\"node18\" class=\"node\">\n<title>17</title>\n<polygon fill=\"#fefbf9\" stroke=\"black\" points=\"1298,-187 1151,-187 1151,-104 1298,-104 1298,-187\"/>\n<text text-anchor=\"middle\" x=\"1224.5\" y=\"-171.8\" font-family=\"Helvetica,sans-Serif\" font-size=\"14.00\">type &lt;= 2.5</text>\n<text text-anchor=\"middle\" x=\"1224.5\" y=\"-156.8\" font-family=\"Helvetica,sans-Serif\" font-size=\"14.00\">gini = 0.5</text>\n<text text-anchor=\"middle\" x=\"1224.5\" y=\"-141.8\" font-family=\"Helvetica,sans-Serif\" font-size=\"14.00\">samples = 9.0%</text>\n<text text-anchor=\"middle\" x=\"1224.5\" y=\"-126.8\" font-family=\"Helvetica,sans-Serif\" font-size=\"14.00\">value = [0.507, 0.493]</text>\n<text text-anchor=\"middle\" x=\"1224.5\" y=\"-111.8\" font-family=\"Helvetica,sans-Serif\" font-size=\"14.00\">class = good</text>\n</g>\n<!-- 16&#45;&gt;17 -->\n<g id=\"edge17\" class=\"edge\">\n<title>16&#45;&gt;17</title>\n<path fill=\"none\" stroke=\"black\" d=\"M1278.05,-222.91C1271.82,-214.01 1265.16,-204.51 1258.72,-195.33\"/>\n<polygon fill=\"black\" stroke=\"black\" points=\"1261.5,-193.2 1252.9,-187.02 1255.77,-197.22 1261.5,-193.2\"/>\n</g>\n<!-- 20 -->\n<g id=\"node21\" class=\"node\">\n<title>20</title>\n<polygon fill=\"#e78c4b\" stroke=\"black\" points=\"1463,-187 1316,-187 1316,-104 1463,-104 1463,-187\"/>\n<text text-anchor=\"middle\" x=\"1389.5\" y=\"-171.8\" font-family=\"Helvetica,sans-Serif\" font-size=\"14.00\">price &lt;= 36378.0</text>\n<text text-anchor=\"middle\" x=\"1389.5\" y=\"-156.8\" font-family=\"Helvetica,sans-Serif\" font-size=\"14.00\">gini = 0.15</text>\n<text text-anchor=\"middle\" x=\"1389.5\" y=\"-141.8\" font-family=\"Helvetica,sans-Serif\" font-size=\"14.00\">samples = 11.5%</text>\n<text text-anchor=\"middle\" x=\"1389.5\" y=\"-126.8\" font-family=\"Helvetica,sans-Serif\" font-size=\"14.00\">value = [0.918, 0.082]</text>\n<text text-anchor=\"middle\" x=\"1389.5\" y=\"-111.8\" font-family=\"Helvetica,sans-Serif\" font-size=\"14.00\">class = good</text>\n</g>\n<!-- 16&#45;&gt;20 -->\n<g id=\"edge20\" class=\"edge\">\n<title>16&#45;&gt;20</title>\n<path fill=\"none\" stroke=\"black\" d=\"M1335.3,-222.91C1341.61,-214.01 1348.35,-204.51 1354.86,-195.33\"/>\n<polygon fill=\"black\" stroke=\"black\" points=\"1357.82,-197.2 1360.75,-187.02 1352.11,-193.15 1357.82,-197.2\"/>\n</g>\n<!-- 18 -->\n<g id=\"node19\" class=\"node\">\n<title>18</title>\n<polygon fill=\"#5dafea\" stroke=\"black\" points=\"1133,-68 986,-68 986,0 1133,0 1133,-68\"/>\n<text text-anchor=\"middle\" x=\"1059.5\" y=\"-52.8\" font-family=\"Helvetica,sans-Serif\" font-size=\"14.00\">gini = 0.261</text>\n<text text-anchor=\"middle\" x=\"1059.5\" y=\"-37.8\" font-family=\"Helvetica,sans-Serif\" font-size=\"14.00\">samples = 2.8%</text>\n<text text-anchor=\"middle\" x=\"1059.5\" y=\"-22.8\" font-family=\"Helvetica,sans-Serif\" font-size=\"14.00\">value = [0.155, 0.845]</text>\n<text text-anchor=\"middle\" x=\"1059.5\" y=\"-7.8\" font-family=\"Helvetica,sans-Serif\" font-size=\"14.00\">class = Not Specified</text>\n</g>\n<!-- 17&#45;&gt;18 -->\n<g id=\"edge18\" class=\"edge\">\n<title>17&#45;&gt;18</title>\n<path fill=\"none\" stroke=\"black\" d=\"M1163.06,-103.73C1148.28,-93.92 1132.53,-83.46 1117.89,-73.75\"/>\n<polygon fill=\"black\" stroke=\"black\" points=\"1119.68,-70.74 1109.41,-68.13 1115.81,-76.57 1119.68,-70.74\"/>\n</g>\n<!-- 19 -->\n<g id=\"node20\" class=\"node\">\n<title>19</title>\n<polygon fill=\"#f2c19d\" stroke=\"black\" points=\"1298,-68 1151,-68 1151,0 1298,0 1298,-68\"/>\n<text text-anchor=\"middle\" x=\"1224.5\" y=\"-52.8\" font-family=\"Helvetica,sans-Serif\" font-size=\"14.00\">gini = 0.446</text>\n<text text-anchor=\"middle\" x=\"1224.5\" y=\"-37.8\" font-family=\"Helvetica,sans-Serif\" font-size=\"14.00\">samples = 6.2%</text>\n<text text-anchor=\"middle\" x=\"1224.5\" y=\"-22.8\" font-family=\"Helvetica,sans-Serif\" font-size=\"14.00\">value = [0.664, 0.336]</text>\n<text text-anchor=\"middle\" x=\"1224.5\" y=\"-7.8\" font-family=\"Helvetica,sans-Serif\" font-size=\"14.00\">class = good</text>\n</g>\n<!-- 17&#45;&gt;19 -->\n<g id=\"edge19\" class=\"edge\">\n<title>17&#45;&gt;19</title>\n<path fill=\"none\" stroke=\"black\" d=\"M1224.5,-103.73C1224.5,-95.52 1224.5,-86.86 1224.5,-78.56\"/>\n<polygon fill=\"black\" stroke=\"black\" points=\"1228,-78.3 1224.5,-68.3 1221,-78.3 1228,-78.3\"/>\n</g>\n<!-- 21 -->\n<g id=\"node22\" class=\"node\">\n<title>21</title>\n<polygon fill=\"#ea9b61\" stroke=\"black\" points=\"1463,-68 1316,-68 1316,0 1463,0 1463,-68\"/>\n<text text-anchor=\"middle\" x=\"1389.5\" y=\"-52.8\" font-family=\"Helvetica,sans-Serif\" font-size=\"14.00\">gini = 0.28</text>\n<text text-anchor=\"middle\" x=\"1389.5\" y=\"-37.8\" font-family=\"Helvetica,sans-Serif\" font-size=\"14.00\">samples = 4.7%</text>\n<text text-anchor=\"middle\" x=\"1389.5\" y=\"-22.8\" font-family=\"Helvetica,sans-Serif\" font-size=\"14.00\">value = [0.831, 0.169]</text>\n<text text-anchor=\"middle\" x=\"1389.5\" y=\"-7.8\" font-family=\"Helvetica,sans-Serif\" font-size=\"14.00\">class = good</text>\n</g>\n<!-- 20&#45;&gt;21 -->\n<g id=\"edge21\" class=\"edge\">\n<title>20&#45;&gt;21</title>\n<path fill=\"none\" stroke=\"black\" d=\"M1389.5,-103.73C1389.5,-95.52 1389.5,-86.86 1389.5,-78.56\"/>\n<polygon fill=\"black\" stroke=\"black\" points=\"1393,-78.3 1389.5,-68.3 1386,-78.3 1393,-78.3\"/>\n</g>\n<!-- 22 -->\n<g id=\"node23\" class=\"node\">\n<title>22</title>\n<polygon fill=\"#e6843d\" stroke=\"black\" points=\"1628,-68 1481,-68 1481,0 1628,0 1628,-68\"/>\n<text text-anchor=\"middle\" x=\"1554.5\" y=\"-52.8\" font-family=\"Helvetica,sans-Serif\" font-size=\"14.00\">gini = 0.041</text>\n<text text-anchor=\"middle\" x=\"1554.5\" y=\"-37.8\" font-family=\"Helvetica,sans-Serif\" font-size=\"14.00\">samples = 6.8%</text>\n<text text-anchor=\"middle\" x=\"1554.5\" y=\"-22.8\" font-family=\"Helvetica,sans-Serif\" font-size=\"14.00\">value = [0.979, 0.021]</text>\n<text text-anchor=\"middle\" x=\"1554.5\" y=\"-7.8\" font-family=\"Helvetica,sans-Serif\" font-size=\"14.00\">class = good</text>\n</g>\n<!-- 20&#45;&gt;22 -->\n<g id=\"edge22\" class=\"edge\">\n<title>20&#45;&gt;22</title>\n<path fill=\"none\" stroke=\"black\" d=\"M1450.94,-103.73C1465.72,-93.92 1481.47,-83.46 1496.11,-73.75\"/>\n<polygon fill=\"black\" stroke=\"black\" points=\"1498.19,-76.57 1504.59,-68.13 1494.32,-70.74 1498.19,-76.57\"/>\n</g>\n<!-- 24 -->\n<g id=\"node25\" class=\"node\">\n<title>24</title>\n<polygon fill=\"#e6843e\" stroke=\"black\" points=\"1793,-187 1646,-187 1646,-104 1793,-104 1793,-187\"/>\n<text text-anchor=\"middle\" x=\"1719.5\" y=\"-171.8\" font-family=\"Helvetica,sans-Serif\" font-size=\"14.00\">engineSize &lt;= 1.45</text>\n<text text-anchor=\"middle\" x=\"1719.5\" y=\"-156.8\" font-family=\"Helvetica,sans-Serif\" font-size=\"14.00\">gini = 0.049</text>\n<text text-anchor=\"middle\" x=\"1719.5\" y=\"-141.8\" font-family=\"Helvetica,sans-Serif\" font-size=\"14.00\">samples = 20.0%</text>\n<text text-anchor=\"middle\" x=\"1719.5\" y=\"-126.8\" font-family=\"Helvetica,sans-Serif\" font-size=\"14.00\">value = [0.975, 0.025]</text>\n<text text-anchor=\"middle\" x=\"1719.5\" y=\"-111.8\" font-family=\"Helvetica,sans-Serif\" font-size=\"14.00\">class = good</text>\n</g>\n<!-- 23&#45;&gt;24 -->\n<g id=\"edge24\" class=\"edge\">\n<title>23&#45;&gt;24</title>\n<path fill=\"none\" stroke=\"black\" d=\"M1719.5,-222.91C1719.5,-214.65 1719.5,-205.86 1719.5,-197.3\"/>\n<polygon fill=\"black\" stroke=\"black\" points=\"1723,-197.02 1719.5,-187.02 1716,-197.02 1723,-197.02\"/>\n</g>\n<!-- 27 -->\n<g id=\"node28\" class=\"node\">\n<title>27</title>\n<polygon fill=\"#399de5\" stroke=\"black\" points=\"1954,-179.5 1811,-179.5 1811,-111.5 1954,-111.5 1954,-179.5\"/>\n<text text-anchor=\"middle\" x=\"1882.5\" y=\"-164.3\" font-family=\"Helvetica,sans-Serif\" font-size=\"14.00\">gini = 0.0</text>\n<text text-anchor=\"middle\" x=\"1882.5\" y=\"-149.3\" font-family=\"Helvetica,sans-Serif\" font-size=\"14.00\">samples = 0.2%</text>\n<text text-anchor=\"middle\" x=\"1882.5\" y=\"-134.3\" font-family=\"Helvetica,sans-Serif\" font-size=\"14.00\">value = [0.0, 1.0]</text>\n<text text-anchor=\"middle\" x=\"1882.5\" y=\"-119.3\" font-family=\"Helvetica,sans-Serif\" font-size=\"14.00\">class = Not Specified</text>\n</g>\n<!-- 23&#45;&gt;27 -->\n<g id=\"edge27\" class=\"edge\">\n<title>23&#45;&gt;27</title>\n<path fill=\"none\" stroke=\"black\" d=\"M1776.05,-222.91C1792.81,-210.88 1811.12,-197.73 1827.76,-185.79\"/>\n<polygon fill=\"black\" stroke=\"black\" points=\"1830.21,-188.34 1836.29,-179.67 1826.13,-182.65 1830.21,-188.34\"/>\n</g>\n<!-- 25 -->\n<g id=\"node26\" class=\"node\">\n<title>25</title>\n<polygon fill=\"#efb184\" stroke=\"black\" points=\"1793,-68 1646,-68 1646,0 1793,0 1793,-68\"/>\n<text text-anchor=\"middle\" x=\"1719.5\" y=\"-52.8\" font-family=\"Helvetica,sans-Serif\" font-size=\"14.00\">gini = 0.399</text>\n<text text-anchor=\"middle\" x=\"1719.5\" y=\"-37.8\" font-family=\"Helvetica,sans-Serif\" font-size=\"14.00\">samples = 1.1%</text>\n<text text-anchor=\"middle\" x=\"1719.5\" y=\"-22.8\" font-family=\"Helvetica,sans-Serif\" font-size=\"14.00\">value = [0.725, 0.275]</text>\n<text text-anchor=\"middle\" x=\"1719.5\" y=\"-7.8\" font-family=\"Helvetica,sans-Serif\" font-size=\"14.00\">class = good</text>\n</g>\n<!-- 24&#45;&gt;25 -->\n<g id=\"edge25\" class=\"edge\">\n<title>24&#45;&gt;25</title>\n<path fill=\"none\" stroke=\"black\" d=\"M1719.5,-103.73C1719.5,-95.52 1719.5,-86.86 1719.5,-78.56\"/>\n<polygon fill=\"black\" stroke=\"black\" points=\"1723,-78.3 1719.5,-68.3 1716,-78.3 1723,-78.3\"/>\n</g>\n<!-- 26 -->\n<g id=\"node27\" class=\"node\">\n<title>26</title>\n<polygon fill=\"#e5823b\" stroke=\"black\" points=\"1943.5,-68 1811.5,-68 1811.5,0 1943.5,0 1943.5,-68\"/>\n<text text-anchor=\"middle\" x=\"1877.5\" y=\"-52.8\" font-family=\"Helvetica,sans-Serif\" font-size=\"14.00\">gini = 0.02</text>\n<text text-anchor=\"middle\" x=\"1877.5\" y=\"-37.8\" font-family=\"Helvetica,sans-Serif\" font-size=\"14.00\">samples = 18.8%</text>\n<text text-anchor=\"middle\" x=\"1877.5\" y=\"-22.8\" font-family=\"Helvetica,sans-Serif\" font-size=\"14.00\">value = [0.99, 0.01]</text>\n<text text-anchor=\"middle\" x=\"1877.5\" y=\"-7.8\" font-family=\"Helvetica,sans-Serif\" font-size=\"14.00\">class = good</text>\n</g>\n<!-- 24&#45;&gt;26 -->\n<g id=\"edge26\" class=\"edge\">\n<title>24&#45;&gt;26</title>\n<path fill=\"none\" stroke=\"black\" d=\"M1778.33,-103.73C1792.36,-94.01 1807.29,-83.66 1821.19,-74.02\"/>\n<polygon fill=\"black\" stroke=\"black\" points=\"1823.48,-76.7 1829.7,-68.13 1819.49,-70.94 1823.48,-76.7\"/>\n</g>\n</g>\n</svg>\n",
            "text/plain": [
              "<graphviz.sources.Source at 0x7f10a8156be0>"
            ]
          },
          "metadata": {},
          "execution_count": 14
        }
      ]
    },
    {
      "cell_type": "markdown",
      "source": [
        "#### 2-3. Feature Importances : Mean decrease impurity\n",
        "> 모델 학습 이후의 특성 중요도 값을 살펴보도록 합니다.\n",
        "\n",
        "* 특성 중요도의 수치값을 확인합니다.\n"
      ],
      "metadata": {
        "id": "z-MV0iK_Xy6o"
      }
    },
    {
      "cell_type": "code",
      "source": [
        "# 특성 중요도  그래프 생성 : subplots 2행 1열 그래프 생성.\n",
        "# 필요한 라이브러리 가져오기.\n",
        "from matplotlib.gridspec import GridSpec\n",
        "\n",
        "# 1-1. 파이프라인의 랜덤포레스트 접근\n",
        "rf = pipe.named_steps['decisiontreeclassifier']\n",
        "\n",
        "# 1-2. 중요도 : 분류 데이터의 경우, 'rf.feature_importances_'로 접근합니다.\n",
        "importances = pd.Series(rf.feature_importances_, X_train.columns).sort_values(ascending = False)\n",
        "\n",
        "# 1-3. 데이터프레임 변환\n",
        "import_df = pd.DataFrame(importances, columns = ['importances'])\n",
        "import_df\n",
        "                          \n",
        "# 1-4. 피처 중요도 및 카디널리티 시각화 진행\n",
        "plt.figure(figsize = (10,6))\n",
        "ax_1 = plt.subplot(2,1,1)\n",
        "graph1 = importances.sort_values().plot.barh()\n",
        "ax_1.set_title('feature importances')\n",
        "plt.show()\n",
        "\n",
        "# 1-5. 그래프 지정: 카디널리티\n",
        "plt.figure(figsize = (10,6))\n",
        "ax_2 = plt.subplot(2,1,2)\n",
        "X_train.nunique().sort_values().plot.barh()\n",
        "ax_2.set_title('Cardinailty')\n",
        "plt.show()"
      ],
      "metadata": {
        "colab": {
          "base_uri": "https://localhost:8080/",
          "height": 407
        },
        "id": "Tpgk1N1XYSzk",
        "outputId": "2db55cc5-b505-45ae-f654-57d7a8d3fc55"
      },
      "execution_count": 15,
      "outputs": [
        {
          "output_type": "display_data",
          "data": {
            "text/plain": [
              "<Figure size 720x432 with 1 Axes>"
            ],
            "image/png": "[encoded data removed]"
          },
          "metadata": {
            "needs_background": "light"
          }
        },
        {
          "output_type": "display_data",
          "data": {
            "text/plain": [
              "<Figure size 720x432 with 1 Axes>"
            ],
            "image/png": "[encoded data removed]"
          },
          "metadata": {
            "needs_background": "light"
          }
        }
      ]
    },
    {
      "cell_type": "markdown",
      "source": [
        "**Feature Importance의 주의할 점 : High Cardinality**\n",
        "* MDI 기반 Feature Importance는  High Cardinality 특성에 높은 값을 부여하는 문제가 존재한다.\n",
        "  * 매 노드 분할 시, Cardinality가 높은 특성이 분할 기준 특성이 될 확률이 높기 때문입니다.\n",
        "  * 다행스럽게도 높은 카디널리티 값을 갖는 ampy가 높은 중요도를 가지고 있지는 않습니다."
      ],
      "metadata": {
        "id": "sZiww7zGZXn7"
      }
    },
    {
      "cell_type": "markdown",
      "source": [
        "####2-4. Evaluation Mertircs : `DecisionTreeClassifier ` \n",
        "> 타겟 클래스 비용이 70% 이상 차이난다면 정확도만 사용하여 판단할 수 없습니다. (정확하지 않기 때문)\n",
        "\n",
        "* 정밀도, 재현율, Roc-AUC등을 같이 사용하여 확인하여 봅시다."
      ],
      "metadata": {
        "id": "axlfJRQRMAGv"
      }
    },
    {
      "cell_type": "markdown",
      "source": [
        "**Confusion Matrix를 생성합니다.**"
      ],
      "metadata": {
        "id": "JiejbcaOOQaC"
      }
    },
    {
      "cell_type": "code",
      "source": [
        "# 필요한 라이브러리를 가져옵니다.\n",
        "from sklearn.metrics import confusion_matrix, ConfusionMatrixDisplay\n",
        "\n",
        "# 예측값 생성.\n",
        "y_pred = pipe.predict(X_val)\n",
        "\n",
        "# confusionmatrix 생성.\n",
        "cm = confusion_matrix(y_val,\n",
        "                      y_pred,\n",
        "                      labels = pipe.named_steps['decisiontreeclassifier'].classes_)\n",
        "\n",
        "# display\n",
        "disp = ConfusionMatrixDisplay(confusion_matrix = cm,\n",
        "                              display_labels = pipe.named_steps['decisiontreeclassifier'].classes_)\n",
        "\n",
        "disp.plot()\n",
        "plt.suptitle(f'Confusion matrix, n={len(y_val)}', fontsize = 15,y=1)\n",
        "plt.title(f'Not_specified : {y_val.value_counts()[0]}, good : {y_val.value_counts()[1]}', fontsize =10, pad = 10)\n",
        "plt.show()"
      ],
      "metadata": {
        "colab": {
          "base_uri": "https://localhost:8080/",
          "height": 314
        },
        "id": "-ciW2PY2M_VN",
        "outputId": "1fec4476-2cc4-44d6-ff6b-1c04876c35b0"
      },
      "execution_count": 16,
      "outputs": [
        {
          "output_type": "display_data",
          "data": {
            "text/plain": [
              "<Figure size 432x288 with 2 Axes>"
            ],
            "image/png": "[encoded data removed]"
          },
          "metadata": {
            "needs_background": "light"
          }
        }
      ]
    },
    {
      "cell_type": "markdown",
      "source": [
        "**classification_report 또한 살펴봅니다**"
      ],
      "metadata": {
        "id": "u0pEWUP7Nacs"
      }
    },
    {
      "cell_type": "code",
      "source": [
        "# classification_report 생성.\n",
        "from sklearn.metrics import classification_report\n",
        "y_pred = pipe.predict(X_val)\n",
        "print(classification_report(y_val,y_pred))"
      ],
      "metadata": {
        "colab": {
          "base_uri": "https://localhost:8080/"
        },
        "id": "HkxxpjEcPohO",
        "outputId": "7657543d-1a24-48c6-c0e3-e27539e4c3a1"
      },
      "execution_count": 17,
      "outputs": [
        {
          "output_type": "stream",
          "name": "stdout",
          "text": [
            "               precision    recall  f1-score   support\n",
            "\n",
            "Not Specified       0.96      0.98      0.97      2057\n",
            "         good       0.85      0.69      0.77       280\n",
            "\n",
            "     accuracy                           0.95      2337\n",
            "    macro avg       0.91      0.84      0.87      2337\n",
            " weighted avg       0.95      0.95      0.95      2337\n",
            "\n"
          ]
        }
      ]
    },
    {
      "cell_type": "markdown",
      "source": [
        "**ROC-AUC 커브를 시각화 및 Score 확인.**"
      ],
      "metadata": {
        "id": "j7ZB9ZwTPwPz"
      }
    },
    {
      "cell_type": "code",
      "source": [
        "# 필요한 라이브러리 가져오기.\n",
        "from sklearn.metrics import roc_curve, roc_auc_score\n",
        "\n",
        "# 점수 및 시각화에 대한 함수 생성 : get_roc_score\n",
        "def get_roc_auc(model, X_val_encoded, y_val):\n",
        "  \n",
        "  # 우리가 생성한 모델이 XGBClassifier 이라면...\n",
        "  if isinstance(model, XGBClassifier):\n",
        "    y_pred_proba = model.predict_proba(\n",
        "        X_val_encoded, \n",
        "        iteration_range = (0, model.best_iteration))[:,1]\n",
        "  \n",
        "  # 다른 모델을 생성했다면...\n",
        "  else :\n",
        "    y_pred_proba = model.predict_proba(X_val_encoded)[:,1]\n",
        "  \n",
        "\n",
        "  # try ~ except 생성.\n",
        "  try :\n",
        "    print(f'ROC-AUC: {roc_auc_score(y_val,y_pred_proba)} \\n')\n",
        "\n",
        "    # ROC-AUC : baseline 생성\n",
        "    baseline_fpr, baseline_tpr, _ = roc_curve(y_val, [0]*len(y_val))\n",
        "\n",
        "    # ROC-AUC : modelline 생성(baseline과 비교할 모델 값.)\n",
        "    fpr, tpr, thresholds = roc_curve(y_val, y_pred_proba)\n",
        "\n",
        "    # fpr, tpr, threshold를 살펴볼 수 있는 df 생성.\n",
        "    tmp = pd.DataFrame({'fpr':fpr, 'tpr':tpr, 'thresholds':thresholds})\n",
        "\n",
        "    # plot : baseline 생성.\n",
        "    plt.plot(baseline_fpr, baseline_tpr, linestyle = '--', color = 'green', label='Baseline')\n",
        "  \n",
        "  except ValueError as ve :\n",
        "    y_val_replaced = y_val.replace(('Not Specified', 'good'),(0,1))\n",
        "    print('ValiueError 로 인하여 타겟값 맵핑을 완료하였습니다.\\n Not Specified = 0, good = 1 \\n') \n",
        "    print(f'ROC-AUC값을 다시 한 번 출력합니다 : {roc_auc_score(y_val,y_pred_proba)} \\n')\n",
        "    \n",
        "    # ROC-AUC : baseline 생성\n",
        "    baseline_fpr, baseline_tpr, _ = roc_curve(y_val_replaced, [0]*len(y_val))\n",
        "\n",
        "    # ROC-AUC : modelline 생성(baseline과 비교할 모델 값.)\n",
        "    fpr, tpr, thresholds = roc_curve(y_val_replaced, y_pred_proba)\n",
        "\n",
        "    # fpr, tpr, threshold를 살펴볼 수 있는 df 생성.\n",
        "    tmp = pd.DataFrame({'fpr':fpr, 'tpr':tpr, 'thresholds':thresholds})\n",
        "\n",
        "    # plot : baseline 생성.\n",
        "    plt.plot(baseline_fpr, baseline_tpr, linestyle = '--', color = 'green', label='Baseline')\n",
        "\n",
        "  # plot :modelline\n",
        "  plt.plot(fpr, tpr, color = 'blue', label = 'Model') \n",
        "  plt.scatter(fpr, tpr, color = 'red')\n",
        "  plt.legend()\n",
        "  plt.title('Roc Curve')\n",
        "  plt.xlabel('FPR')\n",
        "  plt.ylabel('TPR')\n",
        "  plt.show()\n",
        "  return tmp"
      ],
      "metadata": {
        "id": "kcSoamJ8bMPI"
      },
      "execution_count": 18,
      "outputs": []
    },
    {
      "cell_type": "code",
      "source": [
        "pipe.named_steps['decisiontreeclassifier'].classes_"
      ],
      "metadata": {
        "colab": {
          "base_uri": "https://localhost:8080/"
        },
        "id": "FudQ1n0R3jDt",
        "outputId": "d63f8160-a387-4dd4-81c6-c43ca5fc80e0"
      },
      "execution_count": 19,
      "outputs": [
        {
          "output_type": "execute_result",
          "data": {
            "text/plain": [
              "array(['Not Specified', 'good'], dtype=object)"
            ]
          },
          "metadata": {},
          "execution_count": 19
        }
      ]
    },
    {
      "cell_type": "code",
      "source": [
        "%matplotlib inline\n",
        "get_roc_auc(pipe, X_val, y_val)"
      ],
      "metadata": {
        "colab": {
          "base_uri": "https://localhost:8080/",
          "height": 888
        },
        "id": "BVYXJlaQ1dYw",
        "outputId": "d731085a-ded8-4351-e2c1-6b4f70dfb756"
      },
      "execution_count": 20,
      "outputs": [
        {
          "output_type": "stream",
          "name": "stdout",
          "text": [
            "ROC-AUC: 0.96832158483228 \n",
            "\n",
            "ValiueError 로 인하여 타겟값 맵핑을 완료하였습니다.\n",
            " Not Specified = 0, good = 1 \n",
            "\n",
            "ROC-AUC값을 다시 한 번 출력합니다 : 0.96832158483228 \n",
            "\n"
          ]
        },
        {
          "output_type": "display_data",
          "data": {
            "text/plain": [
              "<Figure size 432x288 with 1 Axes>"
            ],
            "image/png": "[encoded data removed]"
          },
          "metadata": {
            "needs_background": "light"
          }
        },
        {
          "output_type": "execute_result",
          "data": {
            "text/plain": [
              "         fpr       tpr  thresholds\n",
              "0   0.000000  0.000000    2.000000\n",
              "1   0.000000  0.146429    1.000000\n",
              "2   0.006320  0.392857    0.904000\n",
              "3   0.012154  0.578571    0.845361\n",
              "4   0.015557  0.671429    0.722222\n",
              "5   0.016043  0.692857    0.571429\n",
              "6   0.019446  0.710714    0.359375\n",
              "7   0.060282  0.842857    0.335632\n",
              "8   0.066116  0.857143    0.275000\n",
              "9   0.113758  0.925000    0.168675\n",
              "10  0.141468  0.942857    0.043478\n",
              "11  0.214876  0.982143    0.021008\n",
              "12  0.422460  1.000000    0.009848\n",
              "13  1.000000  1.000000    0.000000"
            ],
            "text/html": [
              "\n",
              "  <div id=\"df-9550b90f-8c6a-4fb0-ad92-685bc31931bd\">\n",
              "    <div class=\"colab-df-container\">\n",
              "      <div>\n",
              "<style scoped>\n",
              "    .dataframe tbody tr th:only-of-type {\n",
              "        vertical-align: middle;\n",
              "    }\n",
              "\n",
              "    .dataframe tbody tr th {\n",
              "        vertical-align: top;\n",
              "    }\n",
              "\n",
              "    .dataframe thead th {\n",
              "        text-align: right;\n",
              "    }\n",
              "</style>\n",
              "<table border=\"1\" class=\"dataframe\">\n",
              "  <thead>\n",
              "    <tr style=\"text-align: right;\">\n",
              "      <th></th>\n",
              "      <th>fpr</th>\n",
              "      <th>tpr</th>\n",
              "      <th>thresholds</th>\n",
              "    </tr>\n",
              "  </thead>\n",
              "  <tbody>\n",
              "    <tr>\n",
              "      <th>0</th>\n",
              "      <td>0.000000</td>\n",
              "      <td>0.000000</td>\n",
              "      <td>2.000000</td>\n",
              "    </tr>\n",
              "    <tr>\n",
              "      <th>1</th>\n",
              "      <td>0.000000</td>\n",
              "      <td>0.146429</td>\n",
              "      <td>1.000000</td>\n",
              "    </tr>\n",
              "    <tr>\n",
              "      <th>2</th>\n",
              "      <td>0.006320</td>\n",
              "      <td>0.392857</td>\n",
              "      <td>0.904000</td>\n",
              "    </tr>\n",
              "    <tr>\n",
              "      <th>3</th>\n",
              "      <td>0.012154</td>\n",
              "      <td>0.578571</td>\n",
              "      <td>0.845361</td>\n",
              "    </tr>\n",
              "    <tr>\n",
              "      <th>4</th>\n",
              "      <td>0.015557</td>\n",
              "      <td>0.671429</td>\n",
              "      <td>0.722222</td>\n",
              "    </tr>\n",
              "    <tr>\n",
              "      <th>5</th>\n",
              "      <td>0.016043</td>\n",
              "      <td>0.692857</td>\n",
              "      <td>0.571429</td>\n",
              "    </tr>\n",
              "    <tr>\n",
              "      <th>6</th>\n",
              "      <td>0.019446</td>\n",
              "      <td>0.710714</td>\n",
              "      <td>0.359375</td>\n",
              "    </tr>\n",
              "    <tr>\n",
              "      <th>7</th>\n",
              "      <td>0.060282</td>\n",
              "      <td>0.842857</td>\n",
              "      <td>0.335632</td>\n",
              "    </tr>\n",
              "    <tr>\n",
              "      <th>8</th>\n",
              "      <td>0.066116</td>\n",
              "      <td>0.857143</td>\n",
              "      <td>0.275000</td>\n",
              "    </tr>\n",
              "    <tr>\n",
              "      <th>9</th>\n",
              "      <td>0.113758</td>\n",
              "      <td>0.925000</td>\n",
              "      <td>0.168675</td>\n",
              "    </tr>\n",
              "    <tr>\n",
              "      <th>10</th>\n",
              "      <td>0.141468</td>\n",
              "      <td>0.942857</td>\n",
              "      <td>0.043478</td>\n",
              "    </tr>\n",
              "    <tr>\n",
              "      <th>11</th>\n",
              "      <td>0.214876</td>\n",
              "      <td>0.982143</td>\n",
              "      <td>0.021008</td>\n",
              "    </tr>\n",
              "    <tr>\n",
              "      <th>12</th>\n",
              "      <td>0.422460</td>\n",
              "      <td>1.000000</td>\n",
              "      <td>0.009848</td>\n",
              "    </tr>\n",
              "    <tr>\n",
              "      <th>13</th>\n",
              "      <td>1.000000</td>\n",
              "      <td>1.000000</td>\n",
              "      <td>0.000000</td>\n",
              "    </tr>\n",
              "  </tbody>\n",
              "</table>\n",
              "</div>\n",
              "      <button class=\"colab-df-convert\" onclick=\"convertToInteractive('df-9550b90f-8c6a-4fb0-ad92-685bc31931bd')\"\n",
              "              title=\"Convert this dataframe to an interactive table.\"\n",
              "              style=\"display:none;\">\n",
              "        \n",
              "  <svg xmlns=\"http://www.w3.org/2000/svg\" height=\"24px\"viewBox=\"0 0 24 24\"\n",
              "       width=\"24px\">\n",
              "    <path d=\"M0 0h24v24H0V0z\" fill=\"none\"/>\n",
              "    <path d=\"M18.56 5.44l.94 2.06.94-2.06 2.06-.94-2.06-.94-.94-2.06-.94 2.06-2.06.94zm-11 1L8.5 8.5l.94-2.06 2.06-.94-2.06-.94L8.5 2.5l-.94 2.06-2.06.94zm10 10l.94 2.06.94-2.06 2.06-.94-2.06-.94-.94-2.06-.94 2.06-2.06.94z\"/><path d=\"M17.41 7.96l-1.37-1.37c-.4-.4-.92-.59-1.43-.59-.52 0-1.04.2-1.43.59L10.3 9.45l-7.72 7.72c-.78.78-.78 2.05 0 2.83L4 21.41c.39.39.9.59 1.41.59.51 0 1.02-.2 1.41-.59l7.78-7.78 2.81-2.81c.8-.78.8-2.07 0-2.86zM5.41 20L4 18.59l7.72-7.72 1.47 1.35L5.41 20z\"/>\n",
              "  </svg>\n",
              "      </button>\n",
              "      \n",
              "  <style>\n",
              "    .colab-df-container {\n",
              "      display:flex;\n",
              "      flex-wrap:wrap;\n",
              "      gap: 12px;\n",
              "    }\n",
              "\n",
              "    .colab-df-convert {\n",
              "      background-color: #E8F0FE;\n",
              "      border: none;\n",
              "      border-radius: 50%;\n",
              "      cursor: pointer;\n",
              "      display: none;\n",
              "      fill: #1967D2;\n",
              "      height: 32px;\n",
              "      padding: 0 0 0 0;\n",
              "      width: 32px;\n",
              "    }\n",
              "\n",
              "    .colab-df-convert:hover {\n",
              "      background-color: #E2EBFA;\n",
              "      box-shadow: 0px 1px 2px rgba(60, 64, 67, 0.3), 0px 1px 3px 1px rgba(60, 64, 67, 0.15);\n",
              "      fill: #174EA6;\n",
              "    }\n",
              "\n",
              "    [theme=dark] .colab-df-convert {\n",
              "      background-color: #3B4455;\n",
              "      fill: #D2E3FC;\n",
              "    }\n",
              "\n",
              "    [theme=dark] .colab-df-convert:hover {\n",
              "      background-color: #434B5C;\n",
              "      box-shadow: 0px 1px 3px 1px rgba(0, 0, 0, 0.15);\n",
              "      filter: drop-shadow(0px 1px 2px rgba(0, 0, 0, 0.3));\n",
              "      fill: #FFFFFF;\n",
              "    }\n",
              "  </style>\n",
              "\n",
              "      <script>\n",
              "        const buttonEl =\n",
              "          document.querySelector('#df-9550b90f-8c6a-4fb0-ad92-685bc31931bd button.colab-df-convert');\n",
              "        buttonEl.style.display =\n",
              "          google.colab.kernel.accessAllowed ? 'block' : 'none';\n",
              "\n",
              "        async function convertToInteractive(key) {\n",
              "          const element = document.querySelector('#df-9550b90f-8c6a-4fb0-ad92-685bc31931bd');\n",
              "          const dataTable =\n",
              "            await google.colab.kernel.invokeFunction('convertToInteractive',\n",
              "                                                     [key], {});\n",
              "          if (!dataTable) return;\n",
              "\n",
              "          const docLinkHtml = 'Like what you see? Visit the ' +\n",
              "            '<a target=\"_blank\" href=https://colab.research.google.com/notebooks/data_table.ipynb>data table notebook</a>'\n",
              "            + ' to learn more about interactive tables.';\n",
              "          element.innerHTML = '';\n",
              "          dataTable['output_type'] = 'display_data';\n",
              "          await google.colab.output.renderOutput(dataTable, element);\n",
              "          const docLink = document.createElement('div');\n",
              "          docLink.innerHTML = docLinkHtml;\n",
              "          element.appendChild(docLink);\n",
              "        }\n",
              "      </script>\n",
              "    </div>\n",
              "  </div>\n",
              "  "
            ]
          },
          "metadata": {},
          "execution_count": 20
        }
      ]
    },
    {
      "cell_type": "markdown",
      "source": [
        "####2-5. DATA INSIGHT : `DecisionTreeClassifier`\n",
        "* 타겟값이 불균형한 지표를 보여줬으나, 정확도는 매우 높은 값을 자랑하였습니다.\n",
        "* classification report를 사용한 결과 최다빈도의 타겟 값은 잘 맞추지만, 적은 빈도 값의 재현율은 다소 낮았습니다.(70% 미만 확률) <br/>\n",
        "* Roc - Curve가 직선과 비슷하게 나왔다면 분류가 잘 안된 것을 의미합니다.(회귀의 R2_score 처럼 나온 것이다.)<br/>\n",
        "\n",
        "**주의❗)타겟 불균형이 존재할 때에는 AUC가 실제 성능에 비해 높게 계산됩니다.**<br/>"
      ],
      "metadata": {
        "id": "fL1CiX0f1hF1"
      }
    },
    {
      "cell_type": "markdown",
      "source": [
        "---\n",
        "\n"
      ],
      "metadata": {
        "id": "L-B4Mz6Y7Lkl"
      }
    },
    {
      "cell_type": "markdown",
      "source": [
        "#3. Model : `XGBoost (불균형 vs 불균형 제거)`\n",
        "> 데이터를 살펴봤을 때, 현재 타겟값이 불균형 클래스임을 알고 있습니다. \n",
        "\n",
        "* 불균형한 타겟 비율을 맞춰주기 위한 기법을 이용하도록 합니다.\n",
        "* `xgboost` 라이브러리의 `scale_pos_weight` 파라미터로 가중치를 조정합니다.\n",
        "\n",
        "❗불균형 타겟을 해소하지 않은 모델 및 해소한 모델의 값을 비교해보도록 합니다."
      ],
      "metadata": {
        "id": "sKa_XjdiCCNi"
      }
    },
    {
      "cell_type": "markdown",
      "source": [
        "#### 3-1. 불균형 데이터를 기반으로한 `XGBClassifier`"
      ],
      "metadata": {
        "id": "xfgSe7RQQqD6"
      }
    },
    {
      "cell_type": "code",
      "source": [
        "# 인코딩을 진행할 인스턴스 객체를 생성합니다. : OrdinalEncoder\n",
        "enc = OrdinalEncoder()\n",
        "\n",
        "#--- applied data set(train, val)\n",
        "X_train_encoded = enc.fit_transform(X_train)\n",
        "X_val_encoded = enc.transform(X_val)\n",
        "\n",
        "# 타겟 값을 맵핑합니다. 'good' = 1, // 'Not Specified' = 0\n",
        "y_train_encoded = y_train.replace(['good', 'Not Specified'],[1,0])\n",
        "y_val_encoded = y_val.replace(['good', 'Not Specified'],[1,0])\n",
        "\n",
        "# created model\n",
        "model = XGBClassifier(\n",
        "    n_estimators =987654321,\n",
        "    max_depth = 5,\n",
        "    objective = 'binary:logistic',\n",
        "    eval_metric = 'auc',\n",
        "    learning_rate = 0.1,\n",
        "    early_stopping_rounds = 50,\n",
        "    n_jobs = -1,\n",
        "    random_state = 42\n",
        ")\n",
        "\n",
        "# eval_set 생성 (early_stopping_round)\n",
        "watchlist = [(X_train_encoded, y_train_encoded), (X_val_encoded, y_val_encoded)]\n",
        "\n",
        "\n",
        "model.fit(X_train_encoded, \n",
        "          y_train_encoded,\n",
        "          eval_set = watchlist)"
      ],
      "metadata": {
        "id": "aEjGvK24ChSm",
        "colab": {
          "base_uri": "https://localhost:8080/"
        },
        "outputId": "e664f339-73f6-469d-e49f-fa67a1b149ba"
      },
      "execution_count": 21,
      "outputs": [
        {
          "output_type": "stream",
          "name": "stdout",
          "text": [
            "[0]\tvalidation_0-auc:0.97202\tvalidation_1-auc:0.96842\n",
            "[1]\tvalidation_0-auc:0.97698\tvalidation_1-auc:0.97479\n",
            "[2]\tvalidation_0-auc:0.97796\tvalidation_1-auc:0.97495\n",
            "[3]\tvalidation_0-auc:0.98201\tvalidation_1-auc:0.97985\n",
            "[4]\tvalidation_0-auc:0.98179\tvalidation_1-auc:0.97940\n",
            "[5]\tvalidation_0-auc:0.98333\tvalidation_1-auc:0.98132\n",
            "[6]\tvalidation_0-auc:0.98317\tvalidation_1-auc:0.98157\n",
            "[7]\tvalidation_0-auc:0.98408\tvalidation_1-auc:0.98219\n",
            "[8]\tvalidation_0-auc:0.98441\tvalidation_1-auc:0.98239\n",
            "[9]\tvalidation_0-auc:0.98564\tvalidation_1-auc:0.98380\n",
            "[10]\tvalidation_0-auc:0.98544\tvalidation_1-auc:0.98323\n",
            "[11]\tvalidation_0-auc:0.98651\tvalidation_1-auc:0.98481\n",
            "[12]\tvalidation_0-auc:0.98665\tvalidation_1-auc:0.98499\n",
            "[13]\tvalidation_0-auc:0.98682\tvalidation_1-auc:0.98506\n",
            "[14]\tvalidation_0-auc:0.98688\tvalidation_1-auc:0.98517\n",
            "[15]\tvalidation_0-auc:0.98706\tvalidation_1-auc:0.98534\n",
            "[16]\tvalidation_0-auc:0.98751\tvalidation_1-auc:0.98600\n",
            "[17]\tvalidation_0-auc:0.98750\tvalidation_1-auc:0.98608\n",
            "[18]\tvalidation_0-auc:0.98793\tvalidation_1-auc:0.98652\n",
            "[19]\tvalidation_0-auc:0.98791\tvalidation_1-auc:0.98642\n",
            "[20]\tvalidation_0-auc:0.98832\tvalidation_1-auc:0.98693\n",
            "[21]\tvalidation_0-auc:0.98841\tvalidation_1-auc:0.98695\n",
            "[22]\tvalidation_0-auc:0.98856\tvalidation_1-auc:0.98719\n",
            "[23]\tvalidation_0-auc:0.98863\tvalidation_1-auc:0.98709\n",
            "[24]\tvalidation_0-auc:0.98867\tvalidation_1-auc:0.98707\n",
            "[25]\tvalidation_0-auc:0.98878\tvalidation_1-auc:0.98688\n",
            "[26]\tvalidation_0-auc:0.98891\tvalidation_1-auc:0.98698\n",
            "[27]\tvalidation_0-auc:0.98898\tvalidation_1-auc:0.98688\n",
            "[28]\tvalidation_0-auc:0.98912\tvalidation_1-auc:0.98683\n",
            "[29]\tvalidation_0-auc:0.98920\tvalidation_1-auc:0.98700\n",
            "[30]\tvalidation_0-auc:0.98941\tvalidation_1-auc:0.98692\n",
            "[31]\tvalidation_0-auc:0.98945\tvalidation_1-auc:0.98689\n",
            "[32]\tvalidation_0-auc:0.98951\tvalidation_1-auc:0.98679\n",
            "[33]\tvalidation_0-auc:0.98971\tvalidation_1-auc:0.98705\n",
            "[34]\tvalidation_0-auc:0.98996\tvalidation_1-auc:0.98723\n",
            "[35]\tvalidation_0-auc:0.99001\tvalidation_1-auc:0.98717\n",
            "[36]\tvalidation_0-auc:0.99016\tvalidation_1-auc:0.98732\n",
            "[37]\tvalidation_0-auc:0.99035\tvalidation_1-auc:0.98762\n",
            "[38]\tvalidation_0-auc:0.99044\tvalidation_1-auc:0.98767\n",
            "[39]\tvalidation_0-auc:0.99060\tvalidation_1-auc:0.98754\n",
            "[40]\tvalidation_0-auc:0.99068\tvalidation_1-auc:0.98767\n",
            "[41]\tvalidation_0-auc:0.99092\tvalidation_1-auc:0.98767\n",
            "[42]\tvalidation_0-auc:0.99095\tvalidation_1-auc:0.98758\n",
            "[43]\tvalidation_0-auc:0.99113\tvalidation_1-auc:0.98771\n",
            "[44]\tvalidation_0-auc:0.99119\tvalidation_1-auc:0.98773\n",
            "[45]\tvalidation_0-auc:0.99137\tvalidation_1-auc:0.98775\n",
            "[46]\tvalidation_0-auc:0.99146\tvalidation_1-auc:0.98775\n",
            "[47]\tvalidation_0-auc:0.99149\tvalidation_1-auc:0.98787\n",
            "[48]\tvalidation_0-auc:0.99160\tvalidation_1-auc:0.98788\n",
            "[49]\tvalidation_0-auc:0.99169\tvalidation_1-auc:0.98800\n",
            "[50]\tvalidation_0-auc:0.99171\tvalidation_1-auc:0.98814\n",
            "[51]\tvalidation_0-auc:0.99184\tvalidation_1-auc:0.98834\n",
            "[52]\tvalidation_0-auc:0.99189\tvalidation_1-auc:0.98839\n",
            "[53]\tvalidation_0-auc:0.99201\tvalidation_1-auc:0.98846\n",
            "[54]\tvalidation_0-auc:0.99206\tvalidation_1-auc:0.98846\n",
            "[55]\tvalidation_0-auc:0.99210\tvalidation_1-auc:0.98841\n",
            "[56]\tvalidation_0-auc:0.99211\tvalidation_1-auc:0.98837\n",
            "[57]\tvalidation_0-auc:0.99222\tvalidation_1-auc:0.98856\n",
            "[58]\tvalidation_0-auc:0.99235\tvalidation_1-auc:0.98863\n",
            "[59]\tvalidation_0-auc:0.99236\tvalidation_1-auc:0.98860\n",
            "[60]\tvalidation_0-auc:0.99244\tvalidation_1-auc:0.98873\n",
            "[61]\tvalidation_0-auc:0.99248\tvalidation_1-auc:0.98871\n",
            "[62]\tvalidation_0-auc:0.99262\tvalidation_1-auc:0.98873\n",
            "[63]\tvalidation_0-auc:0.99271\tvalidation_1-auc:0.98878\n",
            "[64]\tvalidation_0-auc:0.99280\tvalidation_1-auc:0.98878\n",
            "[65]\tvalidation_0-auc:0.99284\tvalidation_1-auc:0.98877\n",
            "[66]\tvalidation_0-auc:0.99286\tvalidation_1-auc:0.98877\n",
            "[67]\tvalidation_0-auc:0.99291\tvalidation_1-auc:0.98879\n",
            "[68]\tvalidation_0-auc:0.99302\tvalidation_1-auc:0.98884\n",
            "[69]\tvalidation_0-auc:0.99304\tvalidation_1-auc:0.98882\n",
            "[70]\tvalidation_0-auc:0.99316\tvalidation_1-auc:0.98883\n",
            "[71]\tvalidation_0-auc:0.99317\tvalidation_1-auc:0.98881\n",
            "[72]\tvalidation_0-auc:0.99325\tvalidation_1-auc:0.98899\n",
            "[73]\tvalidation_0-auc:0.99338\tvalidation_1-auc:0.98896\n",
            "[74]\tvalidation_0-auc:0.99340\tvalidation_1-auc:0.98897\n",
            "[75]\tvalidation_0-auc:0.99343\tvalidation_1-auc:0.98897\n",
            "[76]\tvalidation_0-auc:0.99351\tvalidation_1-auc:0.98909\n",
            "[77]\tvalidation_0-auc:0.99365\tvalidation_1-auc:0.98900\n",
            "[78]\tvalidation_0-auc:0.99372\tvalidation_1-auc:0.98899\n",
            "[79]\tvalidation_0-auc:0.99379\tvalidation_1-auc:0.98910\n",
            "[80]\tvalidation_0-auc:0.99395\tvalidation_1-auc:0.98922\n",
            "[81]\tvalidation_0-auc:0.99398\tvalidation_1-auc:0.98922\n",
            "[82]\tvalidation_0-auc:0.99408\tvalidation_1-auc:0.98914\n",
            "[83]\tvalidation_0-auc:0.99410\tvalidation_1-auc:0.98915\n",
            "[84]\tvalidation_0-auc:0.99410\tvalidation_1-auc:0.98914\n",
            "[85]\tvalidation_0-auc:0.99421\tvalidation_1-auc:0.98917\n",
            "[86]\tvalidation_0-auc:0.99431\tvalidation_1-auc:0.98918\n",
            "[87]\tvalidation_0-auc:0.99434\tvalidation_1-auc:0.98924\n",
            "[88]\tvalidation_0-auc:0.99440\tvalidation_1-auc:0.98931\n",
            "[89]\tvalidation_0-auc:0.99442\tvalidation_1-auc:0.98926\n",
            "[90]\tvalidation_0-auc:0.99444\tvalidation_1-auc:0.98925\n",
            "[91]\tvalidation_0-auc:0.99451\tvalidation_1-auc:0.98929\n",
            "[92]\tvalidation_0-auc:0.99452\tvalidation_1-auc:0.98927\n",
            "[93]\tvalidation_0-auc:0.99455\tvalidation_1-auc:0.98925\n",
            "[94]\tvalidation_0-auc:0.99467\tvalidation_1-auc:0.98932\n",
            "[95]\tvalidation_0-auc:0.99476\tvalidation_1-auc:0.98935\n",
            "[96]\tvalidation_0-auc:0.99483\tvalidation_1-auc:0.98938\n",
            "[97]\tvalidation_0-auc:0.99488\tvalidation_1-auc:0.98945\n",
            "[98]\tvalidation_0-auc:0.99495\tvalidation_1-auc:0.98943\n",
            "[99]\tvalidation_0-auc:0.99502\tvalidation_1-auc:0.98939\n",
            "[100]\tvalidation_0-auc:0.99511\tvalidation_1-auc:0.98954\n",
            "[101]\tvalidation_0-auc:0.99511\tvalidation_1-auc:0.98953\n",
            "[102]\tvalidation_0-auc:0.99513\tvalidation_1-auc:0.98951\n",
            "[103]\tvalidation_0-auc:0.99513\tvalidation_1-auc:0.98949\n",
            "[104]\tvalidation_0-auc:0.99520\tvalidation_1-auc:0.98950\n",
            "[105]\tvalidation_0-auc:0.99525\tvalidation_1-auc:0.98947\n",
            "[106]\tvalidation_0-auc:0.99527\tvalidation_1-auc:0.98945\n",
            "[107]\tvalidation_0-auc:0.99527\tvalidation_1-auc:0.98945\n",
            "[108]\tvalidation_0-auc:0.99531\tvalidation_1-auc:0.98945\n",
            "[109]\tvalidation_0-auc:0.99538\tvalidation_1-auc:0.98945\n",
            "[110]\tvalidation_0-auc:0.99539\tvalidation_1-auc:0.98951\n",
            "[111]\tvalidation_0-auc:0.99542\tvalidation_1-auc:0.98951\n",
            "[112]\tvalidation_0-auc:0.99544\tvalidation_1-auc:0.98950\n",
            "[113]\tvalidation_0-auc:0.99546\tvalidation_1-auc:0.98948\n",
            "[114]\tvalidation_0-auc:0.99546\tvalidation_1-auc:0.98947\n",
            "[115]\tvalidation_0-auc:0.99548\tvalidation_1-auc:0.98942\n",
            "[116]\tvalidation_0-auc:0.99553\tvalidation_1-auc:0.98940\n",
            "[117]\tvalidation_0-auc:0.99557\tvalidation_1-auc:0.98940\n",
            "[118]\tvalidation_0-auc:0.99558\tvalidation_1-auc:0.98940\n",
            "[119]\tvalidation_0-auc:0.99568\tvalidation_1-auc:0.98934\n",
            "[120]\tvalidation_0-auc:0.99580\tvalidation_1-auc:0.98944\n",
            "[121]\tvalidation_0-auc:0.99589\tvalidation_1-auc:0.98946\n",
            "[122]\tvalidation_0-auc:0.99594\tvalidation_1-auc:0.98950\n",
            "[123]\tvalidation_0-auc:0.99598\tvalidation_1-auc:0.98947\n",
            "[124]\tvalidation_0-auc:0.99603\tvalidation_1-auc:0.98952\n",
            "[125]\tvalidation_0-auc:0.99607\tvalidation_1-auc:0.98949\n",
            "[126]\tvalidation_0-auc:0.99609\tvalidation_1-auc:0.98950\n",
            "[127]\tvalidation_0-auc:0.99616\tvalidation_1-auc:0.98949\n",
            "[128]\tvalidation_0-auc:0.99617\tvalidation_1-auc:0.98955\n",
            "[129]\tvalidation_0-auc:0.99625\tvalidation_1-auc:0.98952\n",
            "[130]\tvalidation_0-auc:0.99627\tvalidation_1-auc:0.98950\n",
            "[131]\tvalidation_0-auc:0.99636\tvalidation_1-auc:0.98959\n",
            "[132]\tvalidation_0-auc:0.99639\tvalidation_1-auc:0.98961\n",
            "[133]\tvalidation_0-auc:0.99650\tvalidation_1-auc:0.98955\n",
            "[134]\tvalidation_0-auc:0.99653\tvalidation_1-auc:0.98956\n",
            "[135]\tvalidation_0-auc:0.99656\tvalidation_1-auc:0.98953\n",
            "[136]\tvalidation_0-auc:0.99658\tvalidation_1-auc:0.98953\n",
            "[137]\tvalidation_0-auc:0.99661\tvalidation_1-auc:0.98952\n",
            "[138]\tvalidation_0-auc:0.99663\tvalidation_1-auc:0.98952\n",
            "[139]\tvalidation_0-auc:0.99671\tvalidation_1-auc:0.98942\n",
            "[140]\tvalidation_0-auc:0.99676\tvalidation_1-auc:0.98944\n",
            "[141]\tvalidation_0-auc:0.99681\tvalidation_1-auc:0.98944\n",
            "[142]\tvalidation_0-auc:0.99681\tvalidation_1-auc:0.98941\n",
            "[143]\tvalidation_0-auc:0.99682\tvalidation_1-auc:0.98944\n",
            "[144]\tvalidation_0-auc:0.99692\tvalidation_1-auc:0.98950\n",
            "[145]\tvalidation_0-auc:0.99696\tvalidation_1-auc:0.98940\n",
            "[146]\tvalidation_0-auc:0.99702\tvalidation_1-auc:0.98943\n",
            "[147]\tvalidation_0-auc:0.99705\tvalidation_1-auc:0.98941\n",
            "[148]\tvalidation_0-auc:0.99706\tvalidation_1-auc:0.98941\n",
            "[149]\tvalidation_0-auc:0.99708\tvalidation_1-auc:0.98940\n",
            "[150]\tvalidation_0-auc:0.99713\tvalidation_1-auc:0.98935\n",
            "[151]\tvalidation_0-auc:0.99718\tvalidation_1-auc:0.98936\n",
            "[152]\tvalidation_0-auc:0.99724\tvalidation_1-auc:0.98943\n",
            "[153]\tvalidation_0-auc:0.99728\tvalidation_1-auc:0.98939\n",
            "[154]\tvalidation_0-auc:0.99728\tvalidation_1-auc:0.98939\n",
            "[155]\tvalidation_0-auc:0.99733\tvalidation_1-auc:0.98933\n",
            "[156]\tvalidation_0-auc:0.99736\tvalidation_1-auc:0.98937\n",
            "[157]\tvalidation_0-auc:0.99737\tvalidation_1-auc:0.98936\n",
            "[158]\tvalidation_0-auc:0.99743\tvalidation_1-auc:0.98948\n",
            "[159]\tvalidation_0-auc:0.99750\tvalidation_1-auc:0.98945\n",
            "[160]\tvalidation_0-auc:0.99753\tvalidation_1-auc:0.98947\n",
            "[161]\tvalidation_0-auc:0.99755\tvalidation_1-auc:0.98948\n",
            "[162]\tvalidation_0-auc:0.99758\tvalidation_1-auc:0.98947\n",
            "[163]\tvalidation_0-auc:0.99761\tvalidation_1-auc:0.98942\n",
            "[164]\tvalidation_0-auc:0.99762\tvalidation_1-auc:0.98939\n",
            "[165]\tvalidation_0-auc:0.99765\tvalidation_1-auc:0.98937\n",
            "[166]\tvalidation_0-auc:0.99768\tvalidation_1-auc:0.98941\n",
            "[167]\tvalidation_0-auc:0.99767\tvalidation_1-auc:0.98937\n",
            "[168]\tvalidation_0-auc:0.99768\tvalidation_1-auc:0.98941\n",
            "[169]\tvalidation_0-auc:0.99772\tvalidation_1-auc:0.98939\n",
            "[170]\tvalidation_0-auc:0.99775\tvalidation_1-auc:0.98937\n",
            "[171]\tvalidation_0-auc:0.99776\tvalidation_1-auc:0.98933\n",
            "[172]\tvalidation_0-auc:0.99779\tvalidation_1-auc:0.98927\n",
            "[173]\tvalidation_0-auc:0.99783\tvalidation_1-auc:0.98929\n",
            "[174]\tvalidation_0-auc:0.99786\tvalidation_1-auc:0.98930\n",
            "[175]\tvalidation_0-auc:0.99793\tvalidation_1-auc:0.98932\n",
            "[176]\tvalidation_0-auc:0.99793\tvalidation_1-auc:0.98933\n",
            "[177]\tvalidation_0-auc:0.99796\tvalidation_1-auc:0.98933\n",
            "[178]\tvalidation_0-auc:0.99796\tvalidation_1-auc:0.98932\n",
            "[179]\tvalidation_0-auc:0.99799\tvalidation_1-auc:0.98930\n",
            "[180]\tvalidation_0-auc:0.99799\tvalidation_1-auc:0.98931\n",
            "[181]\tvalidation_0-auc:0.99801\tvalidation_1-auc:0.98930\n",
            "[182]\tvalidation_0-auc:0.99801\tvalidation_1-auc:0.98930\n"
          ]
        },
        {
          "output_type": "execute_result",
          "data": {
            "text/plain": [
              "XGBClassifier(base_score=0.5, booster='gbtree', callbacks=None,\n",
              "              colsample_bylevel=1, colsample_bynode=1, colsample_bytree=1,\n",
              "              early_stopping_rounds=50, enable_categorical=False,\n",
              "              eval_metric='auc', feature_types=None, gamma=0, gpu_id=-1,\n",
              "              grow_policy='depthwise', importance_type=None,\n",
              "              interaction_constraints='', learning_rate=0.1, max_bin=256,\n",
              "              max_cat_threshold=64, max_cat_to_onehot=4, max_delta_step=0,\n",
              "              max_depth=5, max_leaves=0, min_child_weight=1, missing=nan,\n",
              "              monotone_constraints='()', n_estimators=987654321, n_jobs=-1,\n",
              "              num_parallel_tree=1, predictor='auto', random_state=42, ...)"
            ]
          },
          "metadata": {},
          "execution_count": 21
        }
      ]
    },
    {
      "cell_type": "markdown",
      "source": [
        "분류 모델의 검증 정확도를 확인하여 봅시다."
      ],
      "metadata": {
        "id": "G1CEfLKpVJCl"
      }
    },
    {
      "cell_type": "code",
      "source": [
        "# 필요한 라이브러리 가져오기.\n",
        "from sklearn.metrics import roc_auc_score\n",
        "\n",
        "def score(model):\n",
        "  if isinstance(model, XGBClassifier):\n",
        "    # 모델의 best_iteration 값은 다음과 같습니다.\n",
        "    print(f'model의 best_iteration: {model.best_iteration}\\n')\n",
        "\n",
        "    # 모델의 정확도는 다음과 같습니다.\n",
        "    print(f'검증데이터를 통한 모델의 정확도 : {model.score(X_val_encoded, y_val_encoded)}')\n",
        "\n",
        "    # 모델의 auc_score\n",
        "    y_pred = model.predict(X_val_encoded, iteration_range = (0, model.best_iteration))\n",
        "    print(f'검증 AUC : {roc_auc_score(y_val_encoded, y_pred)}')\n",
        "  \n",
        "  else :\n",
        "    print('현재 확인하고자 하는 모델은 xgbclassifier가 아닙니다.')\n",
        "    print(f'이 모델의 검증 정확도는 다음과 같습니다. {model.score(X_val_encoded, y_val_encoded)}')\n",
        "    y_pred = model.predict(X_val_encoded)\n",
        "    print(f'검증 AUC : {roc_auc_score(y_val_encoded, y_pred)}')"
      ],
      "metadata": {
        "id": "Zt6JvXORVPFu"
      },
      "execution_count": 22,
      "outputs": []
    },
    {
      "cell_type": "code",
      "source": [
        "score(model)"
      ],
      "metadata": {
        "id": "idzLTedKK_fy",
        "outputId": "293f8824-0b77-44c1-e4a0-4bad63242a2c",
        "colab": {
          "base_uri": "https://localhost:8080/"
        }
      },
      "execution_count": 23,
      "outputs": [
        {
          "output_type": "stream",
          "name": "stdout",
          "text": [
            "model의 best_iteration: 132\n",
            "\n",
            "검증데이터를 통한 모델의 정확도 : 0.961061189559264\n",
            "검증 AUC : 0.9007483158552677\n"
          ]
        }
      ]
    },
    {
      "cell_type": "markdown",
      "source": [
        "`classification_report` 값은 다음과 같습니다."
      ],
      "metadata": {
        "id": "DZN__i08PYUt"
      }
    },
    {
      "cell_type": "code",
      "source": [
        "# y_pred\n",
        "y_pred = model.predict(X_val_encoded, iteration_range = (0, model.best_iteration))\n",
        "print(classification_report(y_pred, y_val_encoded))"
      ],
      "metadata": {
        "colab": {
          "base_uri": "https://localhost:8080/"
        },
        "id": "Su04oHCDPQGi",
        "outputId": "7bb3d646-f235-4398-ab0d-7a15c1721e8f"
      },
      "execution_count": 24,
      "outputs": [
        {
          "output_type": "stream",
          "name": "stdout",
          "text": [
            "              precision    recall  f1-score   support\n",
            "\n",
            "           0       0.98      0.98      0.98      2066\n",
            "           1       0.82      0.85      0.83       271\n",
            "\n",
            "    accuracy                           0.96      2337\n",
            "   macro avg       0.90      0.91      0.91      2337\n",
            "weighted avg       0.96      0.96      0.96      2337\n",
            "\n"
          ]
        }
      ]
    },
    {
      "cell_type": "markdown",
      "source": [
        "모델이 데이터를 어떻게 분류하였는지, Confusion Matrix 를 통해 살펴봅시다.\n",
        "* confusion Matrix를 보여주는 함수를 생성합니다."
      ],
      "metadata": {
        "id": "m_PrPGqwK-cq"
      }
    },
    {
      "cell_type": "code",
      "source": [
        "def plot_confusion_matrix(model, X_val_encoded, y_val):\n",
        "  try:\n",
        "    if isinstance(model, XGBClassifier):\n",
        "      y_pred = model.predict(X_val_encoded, iteration_range = (0, model.best_iteration))\n",
        "\n",
        "    else :\n",
        "      y_pred = model.predict(X_val_encoded)\n",
        "    \n",
        "    cm = confusion_matrix(y_val, y_pred, labels = model.classes_)\n",
        "    disp = ConfusionMatrixDisplay(confusion_matrix = cm,\n",
        "                                  display_labels= model.classes_)\n",
        "\n",
        "    disp.plot(cmap = 'Blues')\n",
        "    plt.show()\n",
        "    \n",
        "  except TypeError as te:\n",
        "   \n",
        "    # 타겟 데이터 type 변환\n",
        "    print(f'타겟 :TypeError 이므로 변환을 시도합니다.')    \n",
        "    y_val_encoded_mapped = y_val.replace(['Not Specified', 'good'], [0,1])\n",
        "    print(f'타겟 변경 완료 : {y_val_encoded_mapped.unique()}(Not Specified => 0,  good=> 1)')\n",
        "\n",
        "    cm = confusion_matrix(y_val_encoded_mapped, y_pred, labels = model.classes_)\n",
        "    disp = ConfusionMatrixDisplay(confusion_matrix = cm,\n",
        "                                  display_labels= model.classes_)\n",
        "\n",
        "    disp.plot(cmap = 'Blues')\n",
        "    plt.show()"
      ],
      "metadata": {
        "id": "bYpl-lFsOpPa"
      },
      "execution_count": 25,
      "outputs": []
    },
    {
      "cell_type": "code",
      "source": [
        "plot_confusion_matrix(model, X_val_encoded, y_val)"
      ],
      "metadata": {
        "colab": {
          "base_uri": "https://localhost:8080/",
          "height": 317
        },
        "id": "Lq31s4RLM53w",
        "outputId": "5125e010-9c0e-4492-ca79-fa12238bf31e"
      },
      "execution_count": 26,
      "outputs": [
        {
          "output_type": "stream",
          "name": "stdout",
          "text": [
            "타겟 :TypeError 이므로 변환을 시도합니다.\n",
            "타겟 변경 완료 : [0 1](Not Specified => 0,  good=> 1)\n"
          ]
        },
        {
          "output_type": "display_data",
          "data": {
            "text/plain": [
              "<Figure size 432x288 with 2 Axes>"
            ],
            "image/png": "[encoded data removed]"
          },
          "metadata": {
            "needs_background": "light"
          }
        }
      ]
    },
    {
      "cell_type": "markdown",
      "source": [
        "XGBClassifier의 Roc score값은 다음과 같습니다."
      ],
      "metadata": {
        "id": "y1LuDxOQIJpF"
      }
    },
    {
      "cell_type": "code",
      "source": [
        "get_roc_auc(model, X_val_encoded, y_val)"
      ],
      "metadata": {
        "id": "GuqBu96PITFK",
        "outputId": "47d0ed30-ca5a-4c04-ed39-ab2d920d68c5",
        "colab": {
          "base_uri": "https://localhost:8080/",
          "height": 823
        }
      },
      "execution_count": 27,
      "outputs": [
        {
          "output_type": "stream",
          "name": "stdout",
          "text": [
            "ROC-AUC: 0.9895921591777208 \n",
            "\n",
            "ValiueError 로 인하여 타겟값 맵핑을 완료하였습니다.\n",
            " Not Specified = 0, good = 1 \n",
            "\n",
            "ROC-AUC값을 다시 한 번 출력합니다 : 0.9895921591777208 \n",
            "\n"
          ]
        },
        {
          "output_type": "display_data",
          "data": {
            "text/plain": [
              "<Figure size 432x288 with 1 Axes>"
            ],
            "image/png": "[encoded data removed]"
          },
          "metadata": {
            "needs_background": "light"
          }
        },
        {
          "output_type": "execute_result",
          "data": {
            "text/plain": [
              "          fpr       tpr  thresholds\n",
              "0    0.000000  0.000000    1.998249\n",
              "1    0.000000  0.003571    0.998249\n",
              "2    0.000000  0.075000    0.989301\n",
              "3    0.000000  0.082143    0.989130\n",
              "4    0.000000  0.153571    0.985590\n",
              "..        ...       ...         ...\n",
              "452  0.994166  1.000000    0.000040\n",
              "453  0.995625  1.000000    0.000040\n",
              "454  0.996597  1.000000    0.000037\n",
              "455  0.997569  1.000000    0.000035\n",
              "456  1.000000  1.000000    0.000032\n",
              "\n",
              "[457 rows x 3 columns]"
            ],
            "text/html": [
              "\n",
              "  <div id=\"df-4ba055ff-c647-48c5-82f8-7339ad07f4de\">\n",
              "    <div class=\"colab-df-container\">\n",
              "      <div>\n",
              "<style scoped>\n",
              "    .dataframe tbody tr th:only-of-type {\n",
              "        vertical-align: middle;\n",
              "    }\n",
              "\n",
              "    .dataframe tbody tr th {\n",
              "        vertical-align: top;\n",
              "    }\n",
              "\n",
              "    .dataframe thead th {\n",
              "        text-align: right;\n",
              "    }\n",
              "</style>\n",
              "<table border=\"1\" class=\"dataframe\">\n",
              "  <thead>\n",
              "    <tr style=\"text-align: right;\">\n",
              "      <th></th>\n",
              "      <th>fpr</th>\n",
              "      <th>tpr</th>\n",
              "      <th>thresholds</th>\n",
              "    </tr>\n",
              "  </thead>\n",
              "  <tbody>\n",
              "    <tr>\n",
              "      <th>0</th>\n",
              "      <td>0.000000</td>\n",
              "      <td>0.000000</td>\n",
              "      <td>1.998249</td>\n",
              "    </tr>\n",
              "    <tr>\n",
              "      <th>1</th>\n",
              "      <td>0.000000</td>\n",
              "      <td>0.003571</td>\n",
              "      <td>0.998249</td>\n",
              "    </tr>\n",
              "    <tr>\n",
              "      <th>2</th>\n",
              "      <td>0.000000</td>\n",
              "      <td>0.075000</td>\n",
              "      <td>0.989301</td>\n",
              "    </tr>\n",
              "    <tr>\n",
              "      <th>3</th>\n",
              "      <td>0.000000</td>\n",
              "      <td>0.082143</td>\n",
              "      <td>0.989130</td>\n",
              "    </tr>\n",
              "    <tr>\n",
              "      <th>4</th>\n",
              "      <td>0.000000</td>\n",
              "      <td>0.153571</td>\n",
              "      <td>0.985590</td>\n",
              "    </tr>\n",
              "    <tr>\n",
              "      <th>...</th>\n",
              "      <td>...</td>\n",
              "      <td>...</td>\n",
              "      <td>...</td>\n",
              "    </tr>\n",
              "    <tr>\n",
              "      <th>452</th>\n",
              "      <td>0.994166</td>\n",
              "      <td>1.000000</td>\n",
              "      <td>0.000040</td>\n",
              "    </tr>\n",
              "    <tr>\n",
              "      <th>453</th>\n",
              "      <td>0.995625</td>\n",
              "      <td>1.000000</td>\n",
              "      <td>0.000040</td>\n",
              "    </tr>\n",
              "    <tr>\n",
              "      <th>454</th>\n",
              "      <td>0.996597</td>\n",
              "      <td>1.000000</td>\n",
              "      <td>0.000037</td>\n",
              "    </tr>\n",
              "    <tr>\n",
              "      <th>455</th>\n",
              "      <td>0.997569</td>\n",
              "      <td>1.000000</td>\n",
              "      <td>0.000035</td>\n",
              "    </tr>\n",
              "    <tr>\n",
              "      <th>456</th>\n",
              "      <td>1.000000</td>\n",
              "      <td>1.000000</td>\n",
              "      <td>0.000032</td>\n",
              "    </tr>\n",
              "  </tbody>\n",
              "</table>\n",
              "<p>457 rows × 3 columns</p>\n",
              "</div>\n",
              "      <button class=\"colab-df-convert\" onclick=\"convertToInteractive('df-4ba055ff-c647-48c5-82f8-7339ad07f4de')\"\n",
              "              title=\"Convert this dataframe to an interactive table.\"\n",
              "              style=\"display:none;\">\n",
              "        \n",
              "  <svg xmlns=\"http://www.w3.org/2000/svg\" height=\"24px\"viewBox=\"0 0 24 24\"\n",
              "       width=\"24px\">\n",
              "    <path d=\"M0 0h24v24H0V0z\" fill=\"none\"/>\n",
              "    <path d=\"M18.56 5.44l.94 2.06.94-2.06 2.06-.94-2.06-.94-.94-2.06-.94 2.06-2.06.94zm-11 1L8.5 8.5l.94-2.06 2.06-.94-2.06-.94L8.5 2.5l-.94 2.06-2.06.94zm10 10l.94 2.06.94-2.06 2.06-.94-2.06-.94-.94-2.06-.94 2.06-2.06.94z\"/><path d=\"M17.41 7.96l-1.37-1.37c-.4-.4-.92-.59-1.43-.59-.52 0-1.04.2-1.43.59L10.3 9.45l-7.72 7.72c-.78.78-.78 2.05 0 2.83L4 21.41c.39.39.9.59 1.41.59.51 0 1.02-.2 1.41-.59l7.78-7.78 2.81-2.81c.8-.78.8-2.07 0-2.86zM5.41 20L4 18.59l7.72-7.72 1.47 1.35L5.41 20z\"/>\n",
              "  </svg>\n",
              "      </button>\n",
              "      \n",
              "  <style>\n",
              "    .colab-df-container {\n",
              "      display:flex;\n",
              "      flex-wrap:wrap;\n",
              "      gap: 12px;\n",
              "    }\n",
              "\n",
              "    .colab-df-convert {\n",
              "      background-color: #E8F0FE;\n",
              "      border: none;\n",
              "      border-radius: 50%;\n",
              "      cursor: pointer;\n",
              "      display: none;\n",
              "      fill: #1967D2;\n",
              "      height: 32px;\n",
              "      padding: 0 0 0 0;\n",
              "      width: 32px;\n",
              "    }\n",
              "\n",
              "    .colab-df-convert:hover {\n",
              "      background-color: #E2EBFA;\n",
              "      box-shadow: 0px 1px 2px rgba(60, 64, 67, 0.3), 0px 1px 3px 1px rgba(60, 64, 67, 0.15);\n",
              "      fill: #174EA6;\n",
              "    }\n",
              "\n",
              "    [theme=dark] .colab-df-convert {\n",
              "      background-color: #3B4455;\n",
              "      fill: #D2E3FC;\n",
              "    }\n",
              "\n",
              "    [theme=dark] .colab-df-convert:hover {\n",
              "      background-color: #434B5C;\n",
              "      box-shadow: 0px 1px 3px 1px rgba(0, 0, 0, 0.15);\n",
              "      filter: drop-shadow(0px 1px 2px rgba(0, 0, 0, 0.3));\n",
              "      fill: #FFFFFF;\n",
              "    }\n",
              "  </style>\n",
              "\n",
              "      <script>\n",
              "        const buttonEl =\n",
              "          document.querySelector('#df-4ba055ff-c647-48c5-82f8-7339ad07f4de button.colab-df-convert');\n",
              "        buttonEl.style.display =\n",
              "          google.colab.kernel.accessAllowed ? 'block' : 'none';\n",
              "\n",
              "        async function convertToInteractive(key) {\n",
              "          const element = document.querySelector('#df-4ba055ff-c647-48c5-82f8-7339ad07f4de');\n",
              "          const dataTable =\n",
              "            await google.colab.kernel.invokeFunction('convertToInteractive',\n",
              "                                                     [key], {});\n",
              "          if (!dataTable) return;\n",
              "\n",
              "          const docLinkHtml = 'Like what you see? Visit the ' +\n",
              "            '<a target=\"_blank\" href=https://colab.research.google.com/notebooks/data_table.ipynb>data table notebook</a>'\n",
              "            + ' to learn more about interactive tables.';\n",
              "          element.innerHTML = '';\n",
              "          dataTable['output_type'] = 'display_data';\n",
              "          await google.colab.output.renderOutput(dataTable, element);\n",
              "          const docLink = document.createElement('div');\n",
              "          docLink.innerHTML = docLinkHtml;\n",
              "          element.appendChild(docLink);\n",
              "        }\n",
              "      </script>\n",
              "    </div>\n",
              "  </div>\n",
              "  "
            ]
          },
          "metadata": {},
          "execution_count": 27
        }
      ]
    },
    {
      "cell_type": "markdown",
      "source": [
        "#### 3-2. `XGBClassifier` : 불균형 데이터에 가중치를 생각한 경우 \n"
      ],
      "metadata": {
        "id": "ER7eh_0MO7YL"
      }
    },
    {
      "cell_type": "code",
      "source": [
        "# 모델 생성.\n",
        "model = XGBClassifier(\n",
        "    objective = 'binary:logistic',\n",
        "    eval_metric = 'auc',\n",
        "    n_estimators = 987654321,\n",
        "    random_state = 42,\n",
        "    n_jobs = -1,\n",
        "    max_depth = 5,\n",
        "    learning_rate = 0.1,\n",
        "    early_stopping_rounds = 50,\n",
        "    \n",
        "    # 불균형 타겟 값에 가중치를 부여하는 parameter = scale_pos_weight\n",
        "    scale_pos_weight=(y_val_encoded == 0).sum() / (y_val_encoded == 1).sum()\n",
        ") \n",
        "\n",
        "# early_stoping으로 적용될 함수\n",
        "watchlist = [(X_train_encoded, y_train_encoded), (X_val_encoded, y_val_encoded)]\n",
        "\n",
        "\n",
        "# fit\n",
        "model.fit(\n",
        "    X_train_encoded,\n",
        "    y_train_encoded,\n",
        "    eval_set = watchlist)"
      ],
      "metadata": {
        "id": "pYD7xfGKRiph",
        "outputId": "3613b58a-82ab-470b-bd96-1102360db47b",
        "colab": {
          "base_uri": "https://localhost:8080/"
        }
      },
      "execution_count": 28,
      "outputs": [
        {
          "output_type": "stream",
          "name": "stdout",
          "text": [
            "[0]\tvalidation_0-auc:0.97422\tvalidation_1-auc:0.97449\n",
            "[1]\tvalidation_0-auc:0.97449\tvalidation_1-auc:0.97582\n",
            "[2]\tvalidation_0-auc:0.98120\tvalidation_1-auc:0.97936\n",
            "[3]\tvalidation_0-auc:0.98271\tvalidation_1-auc:0.98082\n",
            "[4]\tvalidation_0-auc:0.98237\tvalidation_1-auc:0.98038\n",
            "[5]\tvalidation_0-auc:0.98331\tvalidation_1-auc:0.98129\n",
            "[6]\tvalidation_0-auc:0.98312\tvalidation_1-auc:0.98109\n",
            "[7]\tvalidation_0-auc:0.98326\tvalidation_1-auc:0.98175\n",
            "[8]\tvalidation_0-auc:0.98343\tvalidation_1-auc:0.98207\n",
            "[9]\tvalidation_0-auc:0.98371\tvalidation_1-auc:0.98193\n",
            "[10]\tvalidation_0-auc:0.98404\tvalidation_1-auc:0.98255\n",
            "[11]\tvalidation_0-auc:0.98403\tvalidation_1-auc:0.98266\n",
            "[12]\tvalidation_0-auc:0.98453\tvalidation_1-auc:0.98364\n",
            "[13]\tvalidation_0-auc:0.98499\tvalidation_1-auc:0.98404\n",
            "[14]\tvalidation_0-auc:0.98526\tvalidation_1-auc:0.98435\n",
            "[15]\tvalidation_0-auc:0.98567\tvalidation_1-auc:0.98478\n",
            "[16]\tvalidation_0-auc:0.98596\tvalidation_1-auc:0.98511\n",
            "[17]\tvalidation_0-auc:0.98615\tvalidation_1-auc:0.98527\n",
            "[18]\tvalidation_0-auc:0.98678\tvalidation_1-auc:0.98582\n",
            "[19]\tvalidation_0-auc:0.98702\tvalidation_1-auc:0.98604\n",
            "[20]\tvalidation_0-auc:0.98724\tvalidation_1-auc:0.98621\n",
            "[21]\tvalidation_0-auc:0.98792\tvalidation_1-auc:0.98697\n",
            "[22]\tvalidation_0-auc:0.98808\tvalidation_1-auc:0.98695\n",
            "[23]\tvalidation_0-auc:0.98816\tvalidation_1-auc:0.98716\n",
            "[24]\tvalidation_0-auc:0.98840\tvalidation_1-auc:0.98739\n",
            "[25]\tvalidation_0-auc:0.98862\tvalidation_1-auc:0.98741\n",
            "[26]\tvalidation_0-auc:0.98886\tvalidation_1-auc:0.98760\n",
            "[27]\tvalidation_0-auc:0.98895\tvalidation_1-auc:0.98761\n",
            "[28]\tvalidation_0-auc:0.98916\tvalidation_1-auc:0.98765\n",
            "[29]\tvalidation_0-auc:0.98931\tvalidation_1-auc:0.98778\n",
            "[30]\tvalidation_0-auc:0.98935\tvalidation_1-auc:0.98777\n",
            "[31]\tvalidation_0-auc:0.98949\tvalidation_1-auc:0.98784\n",
            "[32]\tvalidation_0-auc:0.98965\tvalidation_1-auc:0.98767\n",
            "[33]\tvalidation_0-auc:0.98975\tvalidation_1-auc:0.98781\n",
            "[34]\tvalidation_0-auc:0.98986\tvalidation_1-auc:0.98774\n",
            "[35]\tvalidation_0-auc:0.99020\tvalidation_1-auc:0.98805\n",
            "[36]\tvalidation_0-auc:0.99033\tvalidation_1-auc:0.98818\n",
            "[37]\tvalidation_0-auc:0.99043\tvalidation_1-auc:0.98822\n",
            "[38]\tvalidation_0-auc:0.99063\tvalidation_1-auc:0.98821\n",
            "[39]\tvalidation_0-auc:0.99080\tvalidation_1-auc:0.98843\n",
            "[40]\tvalidation_0-auc:0.99093\tvalidation_1-auc:0.98841\n",
            "[41]\tvalidation_0-auc:0.99104\tvalidation_1-auc:0.98833\n",
            "[42]\tvalidation_0-auc:0.99116\tvalidation_1-auc:0.98827\n",
            "[43]\tvalidation_0-auc:0.99128\tvalidation_1-auc:0.98828\n",
            "[44]\tvalidation_0-auc:0.99133\tvalidation_1-auc:0.98834\n",
            "[45]\tvalidation_0-auc:0.99142\tvalidation_1-auc:0.98835\n",
            "[46]\tvalidation_0-auc:0.99157\tvalidation_1-auc:0.98851\n",
            "[47]\tvalidation_0-auc:0.99164\tvalidation_1-auc:0.98852\n",
            "[48]\tvalidation_0-auc:0.99175\tvalidation_1-auc:0.98852\n",
            "[49]\tvalidation_0-auc:0.99176\tvalidation_1-auc:0.98853\n",
            "[50]\tvalidation_0-auc:0.99181\tvalidation_1-auc:0.98854\n",
            "[51]\tvalidation_0-auc:0.99186\tvalidation_1-auc:0.98857\n",
            "[52]\tvalidation_0-auc:0.99204\tvalidation_1-auc:0.98863\n",
            "[53]\tvalidation_0-auc:0.99211\tvalidation_1-auc:0.98865\n",
            "[54]\tvalidation_0-auc:0.99219\tvalidation_1-auc:0.98861\n",
            "[55]\tvalidation_0-auc:0.99225\tvalidation_1-auc:0.98855\n",
            "[56]\tvalidation_0-auc:0.99232\tvalidation_1-auc:0.98854\n",
            "[57]\tvalidation_0-auc:0.99236\tvalidation_1-auc:0.98846\n",
            "[58]\tvalidation_0-auc:0.99244\tvalidation_1-auc:0.98849\n",
            "[59]\tvalidation_0-auc:0.99259\tvalidation_1-auc:0.98846\n",
            "[60]\tvalidation_0-auc:0.99274\tvalidation_1-auc:0.98850\n",
            "[61]\tvalidation_0-auc:0.99280\tvalidation_1-auc:0.98849\n",
            "[62]\tvalidation_0-auc:0.99294\tvalidation_1-auc:0.98868\n",
            "[63]\tvalidation_0-auc:0.99310\tvalidation_1-auc:0.98880\n",
            "[64]\tvalidation_0-auc:0.99322\tvalidation_1-auc:0.98873\n",
            "[65]\tvalidation_0-auc:0.99332\tvalidation_1-auc:0.98874\n",
            "[66]\tvalidation_0-auc:0.99338\tvalidation_1-auc:0.98872\n",
            "[67]\tvalidation_0-auc:0.99343\tvalidation_1-auc:0.98881\n",
            "[68]\tvalidation_0-auc:0.99356\tvalidation_1-auc:0.98897\n",
            "[69]\tvalidation_0-auc:0.99365\tvalidation_1-auc:0.98896\n",
            "[70]\tvalidation_0-auc:0.99380\tvalidation_1-auc:0.98912\n",
            "[71]\tvalidation_0-auc:0.99385\tvalidation_1-auc:0.98911\n",
            "[72]\tvalidation_0-auc:0.99386\tvalidation_1-auc:0.98915\n",
            "[73]\tvalidation_0-auc:0.99397\tvalidation_1-auc:0.98917\n",
            "[74]\tvalidation_0-auc:0.99406\tvalidation_1-auc:0.98913\n",
            "[75]\tvalidation_0-auc:0.99409\tvalidation_1-auc:0.98915\n",
            "[76]\tvalidation_0-auc:0.99414\tvalidation_1-auc:0.98909\n",
            "[77]\tvalidation_0-auc:0.99419\tvalidation_1-auc:0.98907\n",
            "[78]\tvalidation_0-auc:0.99422\tvalidation_1-auc:0.98907\n",
            "[79]\tvalidation_0-auc:0.99431\tvalidation_1-auc:0.98905\n",
            "[80]\tvalidation_0-auc:0.99438\tvalidation_1-auc:0.98908\n",
            "[81]\tvalidation_0-auc:0.99441\tvalidation_1-auc:0.98907\n",
            "[82]\tvalidation_0-auc:0.99445\tvalidation_1-auc:0.98904\n",
            "[83]\tvalidation_0-auc:0.99461\tvalidation_1-auc:0.98901\n",
            "[84]\tvalidation_0-auc:0.99471\tvalidation_1-auc:0.98918\n",
            "[85]\tvalidation_0-auc:0.99477\tvalidation_1-auc:0.98922\n",
            "[86]\tvalidation_0-auc:0.99479\tvalidation_1-auc:0.98925\n",
            "[87]\tvalidation_0-auc:0.99489\tvalidation_1-auc:0.98940\n",
            "[88]\tvalidation_0-auc:0.99500\tvalidation_1-auc:0.98932\n",
            "[89]\tvalidation_0-auc:0.99509\tvalidation_1-auc:0.98927\n",
            "[90]\tvalidation_0-auc:0.99521\tvalidation_1-auc:0.98911\n",
            "[91]\tvalidation_0-auc:0.99529\tvalidation_1-auc:0.98924\n",
            "[92]\tvalidation_0-auc:0.99530\tvalidation_1-auc:0.98921\n",
            "[93]\tvalidation_0-auc:0.99540\tvalidation_1-auc:0.98921\n",
            "[94]\tvalidation_0-auc:0.99544\tvalidation_1-auc:0.98917\n",
            "[95]\tvalidation_0-auc:0.99550\tvalidation_1-auc:0.98919\n",
            "[96]\tvalidation_0-auc:0.99557\tvalidation_1-auc:0.98914\n",
            "[97]\tvalidation_0-auc:0.99561\tvalidation_1-auc:0.98912\n",
            "[98]\tvalidation_0-auc:0.99568\tvalidation_1-auc:0.98916\n",
            "[99]\tvalidation_0-auc:0.99573\tvalidation_1-auc:0.98920\n",
            "[100]\tvalidation_0-auc:0.99574\tvalidation_1-auc:0.98919\n",
            "[101]\tvalidation_0-auc:0.99574\tvalidation_1-auc:0.98921\n",
            "[102]\tvalidation_0-auc:0.99582\tvalidation_1-auc:0.98918\n",
            "[103]\tvalidation_0-auc:0.99583\tvalidation_1-auc:0.98916\n",
            "[104]\tvalidation_0-auc:0.99588\tvalidation_1-auc:0.98908\n",
            "[105]\tvalidation_0-auc:0.99595\tvalidation_1-auc:0.98913\n",
            "[106]\tvalidation_0-auc:0.99603\tvalidation_1-auc:0.98911\n",
            "[107]\tvalidation_0-auc:0.99606\tvalidation_1-auc:0.98914\n",
            "[108]\tvalidation_0-auc:0.99609\tvalidation_1-auc:0.98910\n",
            "[109]\tvalidation_0-auc:0.99613\tvalidation_1-auc:0.98898\n",
            "[110]\tvalidation_0-auc:0.99619\tvalidation_1-auc:0.98896\n",
            "[111]\tvalidation_0-auc:0.99621\tvalidation_1-auc:0.98894\n",
            "[112]\tvalidation_0-auc:0.99627\tvalidation_1-auc:0.98896\n",
            "[113]\tvalidation_0-auc:0.99627\tvalidation_1-auc:0.98898\n",
            "[114]\tvalidation_0-auc:0.99631\tvalidation_1-auc:0.98899\n",
            "[115]\tvalidation_0-auc:0.99634\tvalidation_1-auc:0.98896\n",
            "[116]\tvalidation_0-auc:0.99636\tvalidation_1-auc:0.98897\n",
            "[117]\tvalidation_0-auc:0.99641\tvalidation_1-auc:0.98894\n",
            "[118]\tvalidation_0-auc:0.99650\tvalidation_1-auc:0.98891\n",
            "[119]\tvalidation_0-auc:0.99656\tvalidation_1-auc:0.98890\n",
            "[120]\tvalidation_0-auc:0.99657\tvalidation_1-auc:0.98891\n",
            "[121]\tvalidation_0-auc:0.99662\tvalidation_1-auc:0.98893\n",
            "[122]\tvalidation_0-auc:0.99663\tvalidation_1-auc:0.98896\n",
            "[123]\tvalidation_0-auc:0.99663\tvalidation_1-auc:0.98895\n",
            "[124]\tvalidation_0-auc:0.99672\tvalidation_1-auc:0.98894\n",
            "[125]\tvalidation_0-auc:0.99674\tvalidation_1-auc:0.98895\n",
            "[126]\tvalidation_0-auc:0.99680\tvalidation_1-auc:0.98888\n",
            "[127]\tvalidation_0-auc:0.99685\tvalidation_1-auc:0.98894\n",
            "[128]\tvalidation_0-auc:0.99689\tvalidation_1-auc:0.98891\n",
            "[129]\tvalidation_0-auc:0.99691\tvalidation_1-auc:0.98889\n",
            "[130]\tvalidation_0-auc:0.99694\tvalidation_1-auc:0.98889\n",
            "[131]\tvalidation_0-auc:0.99697\tvalidation_1-auc:0.98892\n",
            "[132]\tvalidation_0-auc:0.99698\tvalidation_1-auc:0.98891\n",
            "[133]\tvalidation_0-auc:0.99701\tvalidation_1-auc:0.98888\n",
            "[134]\tvalidation_0-auc:0.99706\tvalidation_1-auc:0.98885\n",
            "[135]\tvalidation_0-auc:0.99706\tvalidation_1-auc:0.98885\n",
            "[136]\tvalidation_0-auc:0.99711\tvalidation_1-auc:0.98886\n",
            "[137]\tvalidation_0-auc:0.99718\tvalidation_1-auc:0.98890\n"
          ]
        },
        {
          "output_type": "execute_result",
          "data": {
            "text/plain": [
              "XGBClassifier(base_score=0.5, booster='gbtree', callbacks=None,\n",
              "              colsample_bylevel=1, colsample_bynode=1, colsample_bytree=1,\n",
              "              early_stopping_rounds=50, enable_categorical=False,\n",
              "              eval_metric='auc', feature_types=None, gamma=0, gpu_id=-1,\n",
              "              grow_policy='depthwise', importance_type=None,\n",
              "              interaction_constraints='', learning_rate=0.1, max_bin=256,\n",
              "              max_cat_threshold=64, max_cat_to_onehot=4, max_delta_step=0,\n",
              "              max_depth=5, max_leaves=0, min_child_weight=1, missing=nan,\n",
              "              monotone_constraints='()', n_estimators=987654321, n_jobs=-1,\n",
              "              num_parallel_tree=1, predictor='auto', random_state=42, ...)"
            ]
          },
          "metadata": {},
          "execution_count": 28
        }
      ]
    },
    {
      "cell_type": "markdown",
      "source": [
        "불균형한 클래스에 대하여 가중치를 적용한 'model'의 정확도는 다음과 같습니다."
      ],
      "metadata": {
        "id": "bXgFaWRwTBKL"
      }
    },
    {
      "cell_type": "code",
      "source": [
        "score(model)"
      ],
      "metadata": {
        "id": "rRihPvWvTuhK",
        "outputId": "92281b4b-c282-482f-90c4-8a9383525bae",
        "colab": {
          "base_uri": "https://localhost:8080/"
        }
      },
      "execution_count": 29,
      "outputs": [
        {
          "output_type": "stream",
          "name": "stdout",
          "text": [
            "model의 best_iteration: 87\n",
            "\n",
            "검증데이터를 통한 모델의 정확도 : 0.9456568249893025\n",
            "검증 AUC : 0.9506180984790612\n"
          ]
        }
      ]
    },
    {
      "cell_type": "markdown",
      "source": [
        "best_iteration 및 Accuracy 모두 낮아진 것을 확인할 수 있습니다. <br/>\n",
        "모델이 어떻게 데이터를 분류하였는지 `confusion_matrix` 및 `report`를 한 번 확인하여 봅니다."
      ],
      "metadata": {
        "id": "5A52974OWh2D"
      }
    },
    {
      "cell_type": "markdown",
      "source": [
        "결과 내용을 한눈에 볼 수 있는 함수를 생성하여 봅시다."
      ],
      "metadata": {
        "id": "r4RZh_-OcWDJ"
      }
    },
    {
      "cell_type": "code",
      "source": [
        "def summarize_results(model, X_val_encoded, y_val):\n",
        "\n",
        "  # 1-1. 검증 정확도 : 기존에 만들어 놓은 함수를 사용.\n",
        "  score(model)\n",
        "\n",
        "    # 타겟 데이터 type 변환\n",
        "  print(f'타겟 :TypeError 가 생기기 때문에 변환을 시도합니다.')    \n",
        "  y_val_encoded_mapped = y_val.replace(['Not Specified', 'good'], [0,1])\n",
        "  print(f'타겟 변경 완료 : {y_val_encoded_mapped.unique()}(Not Specified => 0,  good=> 1)\\n')\n",
        "\n",
        "  # 1-2.  classification report 생성.\n",
        "  if isinstance(model, XGBClassifier):\n",
        "\n",
        "    y_pred = model.predict(X_val_encoded, \n",
        "                          iteration_range = (0, model.best_iteration))\n",
        "\n",
        "    print(classification_report(y_val_encoded_mapped, y_pred))\n",
        "\n",
        "  else:\n",
        "    y_pred = model.predict(X_val_encoded)\n",
        "    print(classification_report(y_val_encoded_mapped, y_pred))\n",
        " \n",
        "  # -------------------------------------------\n",
        "\n",
        "  # 2. train & val loss Plot\n",
        "  if isinstance(model, XGBClassifier):\n",
        "    results = model.evals_result()\n",
        "    \n",
        "    # key : 'auc' 입니다.\n",
        "    tgts = results['validation_0'].keys()\n",
        "\n",
        "    for tgt in tgts:\n",
        "      # train의 error 값을 리스트로 불러옵니다.\n",
        "      train_error = results['validation_0'][tgt]\n",
        "\n",
        "      # val의 error 값을 리스트로 불러옵니다.\n",
        "      val_error = results['validation_1'][tgt]\n",
        "\n",
        "      # train plot 생성.\n",
        "      plt.plot(train_error, label = 'Train')\n",
        "      \n",
        "      # val plot 생성.\n",
        "      plt.plot(val_error, label = 'val')\n",
        "      plt.ylabel(tgt)\n",
        "      plt.xlabel(\"Model Complexity (n_estimators)\")\n",
        "      plt.axvline(x = model.best_iteration, color = 'r', linestyle = '-', linewidth = 2)\n",
        "      plt.text(model.best_iteration, 0.98, 'best_iteration')\n",
        "      plt.legend()\n",
        "      plt.show()\n",
        "    \n",
        "    # 3.ROC-AUC Curve\n",
        "    get_roc_auc(model, X_val_encoded, y_val)\n",
        "\n",
        "    print('\\n')\n",
        "    # 4.Confusion Matrix\n",
        "    ConfusionMatrixDisplay.from_estimator(model, X_val_encoded,y_val_encoded_mapped, cmap = 'Blues')\n",
        "    \n",
        "    \n",
        "    plt.suptitle(f'Confusion matrix n={len(y_val)}', fontsize = 15, y = 1)\n",
        "    plt.title(f'Not_specified : {y_val.value_counts()[0]}, good : {y_val.value_counts()[1]}', fontsize =10, pad = 10)\n",
        "\n",
        "    plt.show()"
      ],
      "metadata": {
        "id": "B8zAxabhcdEB"
      },
      "execution_count": 30,
      "outputs": []
    },
    {
      "cell_type": "code",
      "source": [
        "summarize_results(model, X_val_encoded, y_val)"
      ],
      "metadata": {
        "colab": {
          "base_uri": "https://localhost:8080/",
          "height": 1000
        },
        "id": "Efafm3MQd_ak",
        "outputId": "dc1be9a8-0f59-4cca-8f57-f616a24e8c22"
      },
      "execution_count": 31,
      "outputs": [
        {
          "output_type": "stream",
          "name": "stdout",
          "text": [
            "model의 best_iteration: 87\n",
            "\n",
            "검증데이터를 통한 모델의 정확도 : 0.9456568249893025\n",
            "검증 AUC : 0.9506180984790612\n",
            "타겟 :TypeError 가 생기기 때문에 변환을 시도합니다.\n",
            "타겟 변경 완료 : [0 1](Not Specified => 0,  good=> 1)\n",
            "\n",
            "              precision    recall  f1-score   support\n",
            "\n",
            "           0       0.99      0.94      0.97      2057\n",
            "           1       0.70      0.96      0.81       280\n",
            "\n",
            "    accuracy                           0.95      2337\n",
            "   macro avg       0.85      0.95      0.89      2337\n",
            "weighted avg       0.96      0.95      0.95      2337\n",
            "\n"
          ]
        },
        {
          "output_type": "display_data",
          "data": {
            "text/plain": [
              "<Figure size 432x288 with 1 Axes>"
            ],
            "image/png": "[encoded data removed]"
          },
          "metadata": {
            "needs_background": "light"
          }
        },
        {
          "output_type": "stream",
          "name": "stdout",
          "text": [
            "ROC-AUC: 0.9892518577679006 \n",
            "\n",
            "ValiueError 로 인하여 타겟값 맵핑을 완료하였습니다.\n",
            " Not Specified = 0, good = 1 \n",
            "\n",
            "ROC-AUC값을 다시 한 번 출력합니다 : 0.9892518577679006 \n",
            "\n"
          ]
        },
        {
          "output_type": "display_data",
          "data": {
            "text/plain": [
              "<Figure size 432x288 with 1 Axes>"
            ],
            "image/png": "[encoded data removed]"
          },
          "metadata": {
            "needs_background": "light"
          }
        },
        {
          "output_type": "stream",
          "name": "stdout",
          "text": [
            "\n",
            "\n"
          ]
        },
        {
          "output_type": "display_data",
          "data": {
            "text/plain": [
              "<Figure size 432x288 with 2 Axes>"
            ],
            "image/png": "[encoded data removed]"
          },
          "metadata": {
            "needs_background": "light"
          }
        }
      ]
    },
    {
      "cell_type": "markdown",
      "source": [
        "#### 3-3. Insight : 가중치를 적용한 모델 vs 그렇지 않은 모델\n",
        "\n",
        "* 가중치를 적용한 모델의 정확도는 그렇지 않은 모델과 0.04 낮습니다.\n",
        "  * 성능이 떨어졌다고 말할 수는 없을 것 같습니다, <br/> \n",
        "  0-class 에 대한 정확도를 다소 희생하였으나 1-class에 대한 정확도를 크게 향상시켰습니다."
      ],
      "metadata": {
        "id": "Xp7CMZsbeEIz"
      }
    },
    {
      "cell_type": "markdown",
      "source": [
        "#### 3-4. 불균형을 해결하기 위한 방법들 중, 한 가지를 더 사용하여 봅시다.\n",
        "> **Oversampling + Undersampling** : 기존의 단점을 상쇄시키는 방법\n",
        "\n",
        "❗ 새로운 데이터를 Oversampling으로 합성한 후, 생성된 데이터들 중 노이즈가 큰 데이터들을 Undersampling으로 정리하는 방법이 존재합니다.\n",
        "\n",
        "* `Oversampling` 소수 클래스의 기존 데이터들과 유사한 합성 데이터를 만들어서 수를 늘리는 방식이다.\n",
        "  * 단점 : 기존 데이터를 기반으로 새로운 데이터를 합성하기 때문에, 생성된 합성 데이터들이 noisy하다는 문제가 존재합니다.\n",
        "\n",
        "\n",
        "* `Undersampling`은 두 클래스의 비율을 동일하게 맞춰주는 강력한 방법입니다.\n",
        "  * 단점 : 다수 클래스의 데이터에서 많은 손실이 일어난다는 단점이 존재합니다.\n"
      ],
      "metadata": {
        "id": "xwNMobvuSFCj"
      }
    },
    {
      "cell_type": "code",
      "source": [
        "from imblearn.combine import SMOTEENN\n",
        "\n",
        "X_train_sampled, y_train_sampled = SMOTEENN(random_state = 42).fit_resample(X_train_encoded, y_train_encoded)\n",
        "\n",
        "model = XGBClassifier(\n",
        "    objective = 'binary:logistic',\n",
        "    eval_metric = 'auc',\n",
        "    n_estimators = 987654321,\n",
        "    random_state = 42,\n",
        "    n_jobs = -1,\n",
        "    max_depth = 5,\n",
        "    learning_rate = 0.1,\n",
        "    early_stopping_rounds = 50,\n",
        "    scale_pos_weight=(y_train_sampled == 0).sum() / (y_train_sampled == 1).sum()\n",
        ")\n",
        "\n"
      ],
      "metadata": {
        "id": "ghW5Kt1FS3cG"
      },
      "execution_count": 32,
      "outputs": []
    },
    {
      "cell_type": "markdown",
      "source": [
        "동일한 비율은 아니지만, `class ; 1`의 데이터가 생성되었습니다."
      ],
      "metadata": {
        "id": "HcftcBPlSr75"
      }
    },
    {
      "cell_type": "code",
      "source": [
        "y_train_sampled.value_counts()"
      ],
      "metadata": {
        "id": "9lGtCKuLaXqT",
        "outputId": "2d0e276a-b4ba-48e9-e571-478de62696e4",
        "colab": {
          "base_uri": "https://localhost:8080/"
        }
      },
      "execution_count": 33,
      "outputs": [
        {
          "output_type": "execute_result",
          "data": {
            "text/plain": [
              "1    4984\n",
              "0    4633\n",
              "Name: good_badge, dtype: int64"
            ]
          },
          "metadata": {},
          "execution_count": 33
        }
      ]
    },
    {
      "cell_type": "code",
      "source": [
        "watchlist = [(X_train_sampled, y_train_sampled),(X_val_encoded, y_val_encoded)]\n",
        "\n",
        "model.fit(\n",
        "    X_train_sampled,\n",
        "    y_train_sampled,\n",
        "    eval_set = watchlist)"
      ],
      "metadata": {
        "id": "fuEQcTsebmW2",
        "colab": {
          "base_uri": "https://localhost:8080/"
        },
        "outputId": "3745ebc1-83d3-4ee1-b2c6-370c7031bde5"
      },
      "execution_count": 34,
      "outputs": [
        {
          "output_type": "stream",
          "name": "stdout",
          "text": [
            "[0]\tvalidation_0-auc:0.98609\tvalidation_1-auc:0.93984\n",
            "[1]\tvalidation_0-auc:0.99300\tvalidation_1-auc:0.96234\n",
            "[2]\tvalidation_0-auc:0.99349\tvalidation_1-auc:0.96139\n",
            "[3]\tvalidation_0-auc:0.99269\tvalidation_1-auc:0.96074\n",
            "[4]\tvalidation_0-auc:0.99432\tvalidation_1-auc:0.96377\n",
            "[5]\tvalidation_0-auc:0.99423\tvalidation_1-auc:0.96441\n",
            "[6]\tvalidation_0-auc:0.99417\tvalidation_1-auc:0.96388\n",
            "[7]\tvalidation_0-auc:0.99423\tvalidation_1-auc:0.96435\n",
            "[8]\tvalidation_0-auc:0.99579\tvalidation_1-auc:0.96846\n",
            "[9]\tvalidation_0-auc:0.99624\tvalidation_1-auc:0.97146\n",
            "[10]\tvalidation_0-auc:0.99648\tvalidation_1-auc:0.97283\n",
            "[11]\tvalidation_0-auc:0.99665\tvalidation_1-auc:0.97395\n",
            "[12]\tvalidation_0-auc:0.99674\tvalidation_1-auc:0.97453\n",
            "[13]\tvalidation_0-auc:0.99692\tvalidation_1-auc:0.97607\n",
            "[14]\tvalidation_0-auc:0.99699\tvalidation_1-auc:0.97657\n",
            "[15]\tvalidation_0-auc:0.99708\tvalidation_1-auc:0.97684\n",
            "[16]\tvalidation_0-auc:0.99708\tvalidation_1-auc:0.97725\n",
            "[17]\tvalidation_0-auc:0.99741\tvalidation_1-auc:0.97904\n",
            "[18]\tvalidation_0-auc:0.99750\tvalidation_1-auc:0.97960\n",
            "[19]\tvalidation_0-auc:0.99759\tvalidation_1-auc:0.98023\n",
            "[20]\tvalidation_0-auc:0.99775\tvalidation_1-auc:0.98047\n",
            "[21]\tvalidation_0-auc:0.99782\tvalidation_1-auc:0.98083\n",
            "[22]\tvalidation_0-auc:0.99789\tvalidation_1-auc:0.98116\n",
            "[23]\tvalidation_0-auc:0.99795\tvalidation_1-auc:0.98114\n",
            "[24]\tvalidation_0-auc:0.99800\tvalidation_1-auc:0.98128\n",
            "[25]\tvalidation_0-auc:0.99806\tvalidation_1-auc:0.98175\n",
            "[26]\tvalidation_0-auc:0.99810\tvalidation_1-auc:0.98209\n",
            "[27]\tvalidation_0-auc:0.99818\tvalidation_1-auc:0.98229\n",
            "[28]\tvalidation_0-auc:0.99834\tvalidation_1-auc:0.98237\n",
            "[29]\tvalidation_0-auc:0.99838\tvalidation_1-auc:0.98268\n",
            "[30]\tvalidation_0-auc:0.99847\tvalidation_1-auc:0.98260\n",
            "[31]\tvalidation_0-auc:0.99852\tvalidation_1-auc:0.98268\n",
            "[32]\tvalidation_0-auc:0.99855\tvalidation_1-auc:0.98265\n",
            "[33]\tvalidation_0-auc:0.99861\tvalidation_1-auc:0.98294\n",
            "[34]\tvalidation_0-auc:0.99863\tvalidation_1-auc:0.98291\n",
            "[35]\tvalidation_0-auc:0.99871\tvalidation_1-auc:0.98292\n",
            "[36]\tvalidation_0-auc:0.99871\tvalidation_1-auc:0.98287\n",
            "[37]\tvalidation_0-auc:0.99873\tvalidation_1-auc:0.98304\n",
            "[38]\tvalidation_0-auc:0.99878\tvalidation_1-auc:0.98302\n",
            "[39]\tvalidation_0-auc:0.99882\tvalidation_1-auc:0.98298\n",
            "[40]\tvalidation_0-auc:0.99884\tvalidation_1-auc:0.98308\n",
            "[41]\tvalidation_0-auc:0.99887\tvalidation_1-auc:0.98302\n",
            "[42]\tvalidation_0-auc:0.99888\tvalidation_1-auc:0.98294\n",
            "[43]\tvalidation_0-auc:0.99892\tvalidation_1-auc:0.98288\n",
            "[44]\tvalidation_0-auc:0.99895\tvalidation_1-auc:0.98298\n",
            "[45]\tvalidation_0-auc:0.99897\tvalidation_1-auc:0.98293\n",
            "[46]\tvalidation_0-auc:0.99900\tvalidation_1-auc:0.98299\n",
            "[47]\tvalidation_0-auc:0.99903\tvalidation_1-auc:0.98295\n",
            "[48]\tvalidation_0-auc:0.99905\tvalidation_1-auc:0.98319\n",
            "[49]\tvalidation_0-auc:0.99907\tvalidation_1-auc:0.98302\n",
            "[50]\tvalidation_0-auc:0.99909\tvalidation_1-auc:0.98310\n",
            "[51]\tvalidation_0-auc:0.99911\tvalidation_1-auc:0.98325\n",
            "[52]\tvalidation_0-auc:0.99913\tvalidation_1-auc:0.98309\n",
            "[53]\tvalidation_0-auc:0.99918\tvalidation_1-auc:0.98300\n",
            "[54]\tvalidation_0-auc:0.99922\tvalidation_1-auc:0.98300\n",
            "[55]\tvalidation_0-auc:0.99924\tvalidation_1-auc:0.98298\n",
            "[56]\tvalidation_0-auc:0.99926\tvalidation_1-auc:0.98298\n",
            "[57]\tvalidation_0-auc:0.99928\tvalidation_1-auc:0.98282\n",
            "[58]\tvalidation_0-auc:0.99930\tvalidation_1-auc:0.98306\n",
            "[59]\tvalidation_0-auc:0.99932\tvalidation_1-auc:0.98313\n",
            "[60]\tvalidation_0-auc:0.99934\tvalidation_1-auc:0.98306\n",
            "[61]\tvalidation_0-auc:0.99935\tvalidation_1-auc:0.98294\n",
            "[62]\tvalidation_0-auc:0.99936\tvalidation_1-auc:0.98286\n",
            "[63]\tvalidation_0-auc:0.99938\tvalidation_1-auc:0.98299\n",
            "[64]\tvalidation_0-auc:0.99941\tvalidation_1-auc:0.98306\n",
            "[65]\tvalidation_0-auc:0.99943\tvalidation_1-auc:0.98310\n",
            "[66]\tvalidation_0-auc:0.99945\tvalidation_1-auc:0.98299\n",
            "[67]\tvalidation_0-auc:0.99947\tvalidation_1-auc:0.98315\n",
            "[68]\tvalidation_0-auc:0.99948\tvalidation_1-auc:0.98326\n",
            "[69]\tvalidation_0-auc:0.99949\tvalidation_1-auc:0.98350\n",
            "[70]\tvalidation_0-auc:0.99949\tvalidation_1-auc:0.98348\n",
            "[71]\tvalidation_0-auc:0.99952\tvalidation_1-auc:0.98343\n",
            "[72]\tvalidation_0-auc:0.99953\tvalidation_1-auc:0.98341\n",
            "[73]\tvalidation_0-auc:0.99955\tvalidation_1-auc:0.98374\n",
            "[74]\tvalidation_0-auc:0.99958\tvalidation_1-auc:0.98387\n",
            "[75]\tvalidation_0-auc:0.99958\tvalidation_1-auc:0.98392\n",
            "[76]\tvalidation_0-auc:0.99958\tvalidation_1-auc:0.98405\n",
            "[77]\tvalidation_0-auc:0.99959\tvalidation_1-auc:0.98413\n",
            "[78]\tvalidation_0-auc:0.99961\tvalidation_1-auc:0.98413\n",
            "[79]\tvalidation_0-auc:0.99962\tvalidation_1-auc:0.98406\n",
            "[80]\tvalidation_0-auc:0.99962\tvalidation_1-auc:0.98407\n",
            "[81]\tvalidation_0-auc:0.99964\tvalidation_1-auc:0.98415\n",
            "[82]\tvalidation_0-auc:0.99964\tvalidation_1-auc:0.98414\n",
            "[83]\tvalidation_0-auc:0.99966\tvalidation_1-auc:0.98415\n",
            "[84]\tvalidation_0-auc:0.99967\tvalidation_1-auc:0.98414\n",
            "[85]\tvalidation_0-auc:0.99968\tvalidation_1-auc:0.98418\n",
            "[86]\tvalidation_0-auc:0.99969\tvalidation_1-auc:0.98413\n",
            "[87]\tvalidation_0-auc:0.99969\tvalidation_1-auc:0.98410\n",
            "[88]\tvalidation_0-auc:0.99971\tvalidation_1-auc:0.98418\n",
            "[89]\tvalidation_0-auc:0.99972\tvalidation_1-auc:0.98413\n",
            "[90]\tvalidation_0-auc:0.99973\tvalidation_1-auc:0.98415\n",
            "[91]\tvalidation_0-auc:0.99974\tvalidation_1-auc:0.98410\n",
            "[92]\tvalidation_0-auc:0.99975\tvalidation_1-auc:0.98418\n",
            "[93]\tvalidation_0-auc:0.99975\tvalidation_1-auc:0.98412\n",
            "[94]\tvalidation_0-auc:0.99976\tvalidation_1-auc:0.98415\n",
            "[95]\tvalidation_0-auc:0.99976\tvalidation_1-auc:0.98423\n",
            "[96]\tvalidation_0-auc:0.99977\tvalidation_1-auc:0.98419\n",
            "[97]\tvalidation_0-auc:0.99978\tvalidation_1-auc:0.98429\n",
            "[98]\tvalidation_0-auc:0.99979\tvalidation_1-auc:0.98429\n",
            "[99]\tvalidation_0-auc:0.99980\tvalidation_1-auc:0.98430\n",
            "[100]\tvalidation_0-auc:0.99980\tvalidation_1-auc:0.98430\n",
            "[101]\tvalidation_0-auc:0.99980\tvalidation_1-auc:0.98438\n",
            "[102]\tvalidation_0-auc:0.99981\tvalidation_1-auc:0.98434\n",
            "[103]\tvalidation_0-auc:0.99981\tvalidation_1-auc:0.98432\n",
            "[104]\tvalidation_0-auc:0.99981\tvalidation_1-auc:0.98436\n",
            "[105]\tvalidation_0-auc:0.99982\tvalidation_1-auc:0.98437\n",
            "[106]\tvalidation_0-auc:0.99982\tvalidation_1-auc:0.98433\n",
            "[107]\tvalidation_0-auc:0.99982\tvalidation_1-auc:0.98435\n",
            "[108]\tvalidation_0-auc:0.99983\tvalidation_1-auc:0.98439\n",
            "[109]\tvalidation_0-auc:0.99984\tvalidation_1-auc:0.98448\n",
            "[110]\tvalidation_0-auc:0.99984\tvalidation_1-auc:0.98443\n",
            "[111]\tvalidation_0-auc:0.99984\tvalidation_1-auc:0.98440\n",
            "[112]\tvalidation_0-auc:0.99985\tvalidation_1-auc:0.98442\n",
            "[113]\tvalidation_0-auc:0.99986\tvalidation_1-auc:0.98439\n",
            "[114]\tvalidation_0-auc:0.99986\tvalidation_1-auc:0.98437\n",
            "[115]\tvalidation_0-auc:0.99987\tvalidation_1-auc:0.98434\n",
            "[116]\tvalidation_0-auc:0.99987\tvalidation_1-auc:0.98435\n",
            "[117]\tvalidation_0-auc:0.99987\tvalidation_1-auc:0.98423\n",
            "[118]\tvalidation_0-auc:0.99988\tvalidation_1-auc:0.98416\n",
            "[119]\tvalidation_0-auc:0.99988\tvalidation_1-auc:0.98421\n",
            "[120]\tvalidation_0-auc:0.99988\tvalidation_1-auc:0.98415\n",
            "[121]\tvalidation_0-auc:0.99989\tvalidation_1-auc:0.98404\n",
            "[122]\tvalidation_0-auc:0.99989\tvalidation_1-auc:0.98398\n",
            "[123]\tvalidation_0-auc:0.99989\tvalidation_1-auc:0.98403\n",
            "[124]\tvalidation_0-auc:0.99990\tvalidation_1-auc:0.98397\n",
            "[125]\tvalidation_0-auc:0.99990\tvalidation_1-auc:0.98398\n",
            "[126]\tvalidation_0-auc:0.99990\tvalidation_1-auc:0.98399\n",
            "[127]\tvalidation_0-auc:0.99990\tvalidation_1-auc:0.98392\n",
            "[128]\tvalidation_0-auc:0.99990\tvalidation_1-auc:0.98399\n",
            "[129]\tvalidation_0-auc:0.99991\tvalidation_1-auc:0.98392\n",
            "[130]\tvalidation_0-auc:0.99991\tvalidation_1-auc:0.98385\n",
            "[131]\tvalidation_0-auc:0.99991\tvalidation_1-auc:0.98385\n",
            "[132]\tvalidation_0-auc:0.99991\tvalidation_1-auc:0.98384\n",
            "[133]\tvalidation_0-auc:0.99991\tvalidation_1-auc:0.98378\n",
            "[134]\tvalidation_0-auc:0.99991\tvalidation_1-auc:0.98373\n",
            "[135]\tvalidation_0-auc:0.99992\tvalidation_1-auc:0.98379\n",
            "[136]\tvalidation_0-auc:0.99992\tvalidation_1-auc:0.98374\n",
            "[137]\tvalidation_0-auc:0.99993\tvalidation_1-auc:0.98389\n",
            "[138]\tvalidation_0-auc:0.99993\tvalidation_1-auc:0.98393\n",
            "[139]\tvalidation_0-auc:0.99993\tvalidation_1-auc:0.98386\n",
            "[140]\tvalidation_0-auc:0.99994\tvalidation_1-auc:0.98387\n",
            "[141]\tvalidation_0-auc:0.99994\tvalidation_1-auc:0.98385\n",
            "[142]\tvalidation_0-auc:0.99994\tvalidation_1-auc:0.98382\n",
            "[143]\tvalidation_0-auc:0.99994\tvalidation_1-auc:0.98384\n",
            "[144]\tvalidation_0-auc:0.99994\tvalidation_1-auc:0.98391\n",
            "[145]\tvalidation_0-auc:0.99994\tvalidation_1-auc:0.98389\n",
            "[146]\tvalidation_0-auc:0.99994\tvalidation_1-auc:0.98384\n",
            "[147]\tvalidation_0-auc:0.99994\tvalidation_1-auc:0.98387\n",
            "[148]\tvalidation_0-auc:0.99994\tvalidation_1-auc:0.98385\n",
            "[149]\tvalidation_0-auc:0.99995\tvalidation_1-auc:0.98392\n",
            "[150]\tvalidation_0-auc:0.99995\tvalidation_1-auc:0.98388\n",
            "[151]\tvalidation_0-auc:0.99995\tvalidation_1-auc:0.98388\n",
            "[152]\tvalidation_0-auc:0.99995\tvalidation_1-auc:0.98386\n",
            "[153]\tvalidation_0-auc:0.99995\tvalidation_1-auc:0.98383\n",
            "[154]\tvalidation_0-auc:0.99995\tvalidation_1-auc:0.98378\n",
            "[155]\tvalidation_0-auc:0.99996\tvalidation_1-auc:0.98381\n",
            "[156]\tvalidation_0-auc:0.99996\tvalidation_1-auc:0.98374\n",
            "[157]\tvalidation_0-auc:0.99996\tvalidation_1-auc:0.98374\n",
            "[158]\tvalidation_0-auc:0.99996\tvalidation_1-auc:0.98370\n",
            "[159]\tvalidation_0-auc:0.99996\tvalidation_1-auc:0.98370\n"
          ]
        },
        {
          "output_type": "execute_result",
          "data": {
            "text/plain": [
              "XGBClassifier(base_score=0.5, booster='gbtree', callbacks=None,\n",
              "              colsample_bylevel=1, colsample_bynode=1, colsample_bytree=1,\n",
              "              early_stopping_rounds=50, enable_categorical=False,\n",
              "              eval_metric='auc', feature_types=None, gamma=0, gpu_id=-1,\n",
              "              grow_policy='depthwise', importance_type=None,\n",
              "              interaction_constraints='', learning_rate=0.1, max_bin=256,\n",
              "              max_cat_threshold=64, max_cat_to_onehot=4, max_delta_step=0,\n",
              "              max_depth=5, max_leaves=0, min_child_weight=1, missing=nan,\n",
              "              monotone_constraints='()', n_estimators=987654321, n_jobs=-1,\n",
              "              num_parallel_tree=1, predictor='auto', random_state=42, ...)"
            ]
          },
          "metadata": {},
          "execution_count": 34
        }
      ]
    },
    {
      "cell_type": "code",
      "source": [
        "model.best_iteration"
      ],
      "metadata": {
        "colab": {
          "base_uri": "https://localhost:8080/"
        },
        "id": "8UrMpWDEo4Ou",
        "outputId": "c2d5e3a7-a8ed-452f-ecd4-f5a76feada12"
      },
      "execution_count": 35,
      "outputs": [
        {
          "output_type": "execute_result",
          "data": {
            "text/plain": [
              "109"
            ]
          },
          "metadata": {},
          "execution_count": 35
        }
      ]
    },
    {
      "cell_type": "code",
      "source": [
        "summarize_results(model, X_val_encoded, y_val)"
      ],
      "metadata": {
        "colab": {
          "base_uri": "https://localhost:8080/",
          "height": 1000
        },
        "id": "w9s14hF5pRdO",
        "outputId": "e630c2e1-a56c-446c-8aca-bdd94c7520d2"
      },
      "execution_count": 36,
      "outputs": [
        {
          "output_type": "stream",
          "name": "stdout",
          "text": [
            "model의 best_iteration: 109\n",
            "\n",
            "검증데이터를 통한 모델의 정확도 : 0.9443731279418057\n",
            "검증 AUC : 0.9234208972845335\n",
            "타겟 :TypeError 가 생기기 때문에 변환을 시도합니다.\n",
            "타겟 변경 완료 : [0 1](Not Specified => 0,  good=> 1)\n",
            "\n",
            "              precision    recall  f1-score   support\n",
            "\n",
            "           0       0.99      0.95      0.97      2057\n",
            "           1       0.71      0.90      0.79       280\n",
            "\n",
            "    accuracy                           0.94      2337\n",
            "   macro avg       0.85      0.92      0.88      2337\n",
            "weighted avg       0.95      0.94      0.95      2337\n",
            "\n"
          ]
        },
        {
          "output_type": "display_data",
          "data": {
            "text/plain": [
              "<Figure size 432x288 with 1 Axes>"
            ],
            "image/png": "[encoded data removed]"
          },
          "metadata": {
            "needs_background": "light"
          }
        },
        {
          "output_type": "stream",
          "name": "stdout",
          "text": [
            "ROC-AUC: 0.9843860684769776 \n",
            "\n",
            "ValiueError 로 인하여 타겟값 맵핑을 완료하였습니다.\n",
            " Not Specified = 0, good = 1 \n",
            "\n",
            "ROC-AUC값을 다시 한 번 출력합니다 : 0.9843860684769776 \n",
            "\n"
          ]
        },
        {
          "output_type": "display_data",
          "data": {
            "text/plain": [
              "<Figure size 432x288 with 1 Axes>"
            ],
            "image/png": "[encoded data removed]"
          },
          "metadata": {
            "needs_background": "light"
          }
        },
        {
          "output_type": "stream",
          "name": "stdout",
          "text": [
            "\n",
            "\n"
          ]
        },
        {
          "output_type": "display_data",
          "data": {
            "text/plain": [
              "<Figure size 432x288 with 2 Axes>"
            ],
            "image/png": "[encoded data removed]"
          },
          "metadata": {
            "needs_background": "light"
          }
        }
      ]
    },
    {
      "cell_type": "markdown",
      "source": [
        "**INSIGHT : Oversampling & Undersampling**\n",
        "> 가중치를 적용했던 두번째 모델과 비교하였을 때.\n",
        "\n",
        "* 두 가지 샘플링을 적용한 모델의 경우, `class:1`의 재현율이 하락하였습니다.\n",
        "  * 또한 f1-score가 소폭 하락하였으며, Roc-auc score 및 모델의 정확도 또한 소폭 하락하였습니다. <br/>\n",
        "\n",
        "❗ XGBClassifier의 모델에 대하여 하이퍼파라미터 튜닝을 진행하여 봅시다.  "
      ],
      "metadata": {
        "id": "I-uLbeVnpXZh"
      }
    },
    {
      "cell_type": "markdown",
      "source": [
        "#### 3-5. 하이퍼 파라미터 튜닝.\n",
        "> 파이프라인 모델을 구성합니다.\n",
        "\n",
        "* 또한 탐색할 하이퍼파라미터 범위를 지정하여 줍시다."
      ],
      "metadata": {
        "id": "0DB3K8jf1TQA"
      }
    },
    {
      "cell_type": "code",
      "source": [
        "pipe = make_pipeline(\n",
        "    XGBClassifier(\n",
        "        objective = 'binary:logistic',\n",
        "       # early_stopping_rounds =20, \n",
        "        eval_metric = 'error',\n",
        "        n_estimators = 200,\n",
        "        random_state = 42,\n",
        "        n_jobs = -1, \n",
        "        learning_rate = 0.1,\n",
        "    )\n",
        ")\n",
        "\n",
        "print(pipe)"
      ],
      "metadata": {
        "colab": {
          "base_uri": "https://localhost:8080/"
        },
        "id": "CGLLRTVh4Vll",
        "outputId": "270846ee-1a43-4bb4-db2d-94ab271322b7"
      },
      "execution_count": 37,
      "outputs": [
        {
          "output_type": "stream",
          "name": "stdout",
          "text": [
            "Pipeline(steps=[('xgbclassifier',\n",
            "                 XGBClassifier(base_score=None, booster=None, callbacks=None,\n",
            "                               colsample_bylevel=None, colsample_bynode=None,\n",
            "                               colsample_bytree=None,\n",
            "                               early_stopping_rounds=None,\n",
            "                               enable_categorical=False, eval_metric='error',\n",
            "                               feature_types=None, gamma=None, gpu_id=None,\n",
            "                               grow_policy=None, importance_type=None,\n",
            "                               interaction_constraints=None, learning_rate=0.1,\n",
            "                               max_bin=None, max_cat_threshold=None,\n",
            "                               max_cat_to_onehot=None, max_delta_step=None,\n",
            "                               max_depth=None, max_leaves=None,\n",
            "                               min_child_weight=None, missing=nan,\n",
            "                               monotone_constraints=None, n_estimators=200,\n",
            "                               n_jobs=-1, num_parallel_tree=None,\n",
            "                               predictor=None, random_state=42, ...))])\n"
          ]
        }
      ]
    },
    {
      "cell_type": "markdown",
      "source": [
        "하이퍼파라미터 범위 지정은 다음과 같이 진행합니다."
      ],
      "metadata": {
        "id": "r5NYJaooIc0Z"
      }
    },
    {
      "cell_type": "code",
      "source": [
        "y_train.value_counts()"
      ],
      "metadata": {
        "colab": {
          "base_uri": "https://localhost:8080/"
        },
        "id": "h0poBPyAxSWv",
        "outputId": "d53926f8-bf0e-4535-b6a3-8a566932246e"
      },
      "execution_count": 38,
      "outputs": [
        {
          "output_type": "execute_result",
          "data": {
            "text/plain": [
              "Not Specified    6169\n",
              "good              839\n",
              "Name: good_badge, dtype: int64"
            ]
          },
          "metadata": {},
          "execution_count": 38
        }
      ]
    },
    {
      "cell_type": "code",
      "source": [
        "# 불균형 데이터의 가중치 값은 보통 아래와 같이 진행됩니다.\n",
        "# 아래의 값은 7.35입니다, 비슷한 값을 포함하여 하이퍼파라미터로 지정합니다.\n",
        "scale_pos_weight=(y_train_sampled == 0).sum() / (y_train_sampled == 1).sum(),\n",
        "\n",
        "watchlist = [(X_train, y_train), (X_val, y_val)]\n",
        "\n",
        "\n",
        "params = {\n",
        "    \"xgbclassifier__max_depth\": [2, 4, 5, 6],\n",
        "    \"xgbclassifier__min_child_weight\": [2, 4, 8],\n",
        "    \"xgbclassifier__colsample_bytree\": [0.6, 0.8, 1.0],\n",
        "    'xgbclassifier__scale_pos_weight': [5.35, 6.35, 7.35]\n",
        "}\n",
        "\n",
        "\n",
        "#fit_params = {'xgbclassifier__eval_set': [(X_train_encoded, y_train_encoded), (X_val_encoded, y_val_encoded)]}"
      ],
      "metadata": {
        "id": "vodgV3CWGHJ5"
      },
      "execution_count": 39,
      "outputs": []
    },
    {
      "cell_type": "markdown",
      "source": [
        "fitting 진행 : Exhaustive Grid Search 진행.\n",
        "각 파라미터 조합 $4 \\times 3 \\times 3 \\times 3$ 에 (cv 값 :3) 을 곱하여 324번의 fitting이 진행됩니다."
      ],
      "metadata": {
        "id": "_QVRy9WrInFR"
      }
    },
    {
      "cell_type": "code",
      "source": [
        "# 필요한 라이브러리를 가져옵니다.\n",
        "from sklearn.model_selection import GridSearchCV\n",
        "\n",
        "grid_search = GridSearchCV(pipe, param_grid = params, scoring = 'roc_auc', cv = 3, verbose =3)\n",
        "grid_search.fit(X_train_encoded, y_train_encoded) #**fit_params)"
      ],
      "metadata": {
        "colab": {
          "base_uri": "https://localhost:8080/"
        },
        "id": "_tgzRSmcIhhT",
        "outputId": "68a7f939-9cee-4f20-db25-86c48ec06579"
      },
      "execution_count": 40,
      "outputs": [
        {
          "output_type": "stream",
          "name": "stdout",
          "text": [
            "Fitting 3 folds for each of 108 candidates, totalling 324 fits\n",
            "[CV 1/3] END xgbclassifier__colsample_bytree=0.6, xgbclassifier__max_depth=2, xgbclassifier__min_child_weight=2, xgbclassifier__scale_pos_weight=5.35;, score=0.985 total time=   1.8s\n",
            "[CV 2/3] END xgbclassifier__colsample_bytree=0.6, xgbclassifier__max_depth=2, xgbclassifier__min_child_weight=2, xgbclassifier__scale_pos_weight=5.35;, score=0.984 total time=   2.0s\n",
            "[CV 3/3] END xgbclassifier__colsample_bytree=0.6, xgbclassifier__max_depth=2, xgbclassifier__min_child_weight=2, xgbclassifier__scale_pos_weight=5.35;, score=0.988 total time=   4.3s\n",
            "[CV 1/3] END xgbclassifier__colsample_bytree=0.6, xgbclassifier__max_depth=2, xgbclassifier__min_child_weight=2, xgbclassifier__scale_pos_weight=6.35;, score=0.985 total time=   0.9s\n",
            "[CV 2/3] END xgbclassifier__colsample_bytree=0.6, xgbclassifier__max_depth=2, xgbclassifier__min_child_weight=2, xgbclassifier__scale_pos_weight=6.35;, score=0.984 total time=   1.1s\n",
            "[CV 3/3] END xgbclassifier__colsample_bytree=0.6, xgbclassifier__max_depth=2, xgbclassifier__min_child_weight=2, xgbclassifier__scale_pos_weight=6.35;, score=0.987 total time=   2.6s\n",
            "[CV 1/3] END xgbclassifier__colsample_bytree=0.6, xgbclassifier__max_depth=2, xgbclassifier__min_child_weight=2, xgbclassifier__scale_pos_weight=7.35;, score=0.985 total time=   1.7s\n",
            "[CV 2/3] END xgbclassifier__colsample_bytree=0.6, xgbclassifier__max_depth=2, xgbclassifier__min_child_weight=2, xgbclassifier__scale_pos_weight=7.35;, score=0.984 total time=   0.3s\n",
            "[CV 3/3] END xgbclassifier__colsample_bytree=0.6, xgbclassifier__max_depth=2, xgbclassifier__min_child_weight=2, xgbclassifier__scale_pos_weight=7.35;, score=0.988 total time=   0.2s\n",
            "[CV 1/3] END xgbclassifier__colsample_bytree=0.6, xgbclassifier__max_depth=2, xgbclassifier__min_child_weight=4, xgbclassifier__scale_pos_weight=5.35;, score=0.984 total time=   0.3s\n",
            "[CV 2/3] END xgbclassifier__colsample_bytree=0.6, xgbclassifier__max_depth=2, xgbclassifier__min_child_weight=4, xgbclassifier__scale_pos_weight=5.35;, score=0.984 total time=   0.2s\n",
            "[CV 3/3] END xgbclassifier__colsample_bytree=0.6, xgbclassifier__max_depth=2, xgbclassifier__min_child_weight=4, xgbclassifier__scale_pos_weight=5.35;, score=0.988 total time=   0.3s\n",
            "[CV 1/3] END xgbclassifier__colsample_bytree=0.6, xgbclassifier__max_depth=2, xgbclassifier__min_child_weight=4, xgbclassifier__scale_pos_weight=6.35;, score=0.985 total time=   0.2s\n",
            "[CV 2/3] END xgbclassifier__colsample_bytree=0.6, xgbclassifier__max_depth=2, xgbclassifier__min_child_weight=4, xgbclassifier__scale_pos_weight=6.35;, score=0.984 total time=   0.2s\n",
            "[CV 3/3] END xgbclassifier__colsample_bytree=0.6, xgbclassifier__max_depth=2, xgbclassifier__min_child_weight=4, xgbclassifier__scale_pos_weight=6.35;, score=0.988 total time=   0.2s\n",
            "[CV 1/3] END xgbclassifier__colsample_bytree=0.6, xgbclassifier__max_depth=2, xgbclassifier__min_child_weight=4, xgbclassifier__scale_pos_weight=7.35;, score=0.985 total time=   0.3s\n",
            "[CV 2/3] END xgbclassifier__colsample_bytree=0.6, xgbclassifier__max_depth=2, xgbclassifier__min_child_weight=4, xgbclassifier__scale_pos_weight=7.35;, score=0.984 total time=   0.3s\n",
            "[CV 3/3] END xgbclassifier__colsample_bytree=0.6, xgbclassifier__max_depth=2, xgbclassifier__min_child_weight=4, xgbclassifier__scale_pos_weight=7.35;, score=0.988 total time=   0.2s\n",
            "[CV 1/3] END xgbclassifier__colsample_bytree=0.6, xgbclassifier__max_depth=2, xgbclassifier__min_child_weight=8, xgbclassifier__scale_pos_weight=5.35;, score=0.981 total time=   0.2s\n",
            "[CV 2/3] END xgbclassifier__colsample_bytree=0.6, xgbclassifier__max_depth=2, xgbclassifier__min_child_weight=8, xgbclassifier__scale_pos_weight=5.35;, score=0.983 total time=   0.2s\n",
            "[CV 3/3] END xgbclassifier__colsample_bytree=0.6, xgbclassifier__max_depth=2, xgbclassifier__min_child_weight=8, xgbclassifier__scale_pos_weight=5.35;, score=0.987 total time=   0.2s\n",
            "[CV 1/3] END xgbclassifier__colsample_bytree=0.6, xgbclassifier__max_depth=2, xgbclassifier__min_child_weight=8, xgbclassifier__scale_pos_weight=6.35;, score=0.982 total time=   0.2s\n",
            "[CV 2/3] END xgbclassifier__colsample_bytree=0.6, xgbclassifier__max_depth=2, xgbclassifier__min_child_weight=8, xgbclassifier__scale_pos_weight=6.35;, score=0.983 total time=   0.2s\n",
            "[CV 3/3] END xgbclassifier__colsample_bytree=0.6, xgbclassifier__max_depth=2, xgbclassifier__min_child_weight=8, xgbclassifier__scale_pos_weight=6.35;, score=0.987 total time=   0.6s\n",
            "[CV 1/3] END xgbclassifier__colsample_bytree=0.6, xgbclassifier__max_depth=2, xgbclassifier__min_child_weight=8, xgbclassifier__scale_pos_weight=7.35;, score=0.984 total time=   1.9s\n",
            "[CV 2/3] END xgbclassifier__colsample_bytree=0.6, xgbclassifier__max_depth=2, xgbclassifier__min_child_weight=8, xgbclassifier__scale_pos_weight=7.35;, score=0.983 total time=   0.2s\n",
            "[CV 3/3] END xgbclassifier__colsample_bytree=0.6, xgbclassifier__max_depth=2, xgbclassifier__min_child_weight=8, xgbclassifier__scale_pos_weight=7.35;, score=0.988 total time=   0.2s\n",
            "[CV 1/3] END xgbclassifier__colsample_bytree=0.6, xgbclassifier__max_depth=4, xgbclassifier__min_child_weight=2, xgbclassifier__scale_pos_weight=5.35;, score=0.988 total time=   0.4s\n",
            "[CV 2/3] END xgbclassifier__colsample_bytree=0.6, xgbclassifier__max_depth=4, xgbclassifier__min_child_weight=2, xgbclassifier__scale_pos_weight=5.35;, score=0.986 total time=   0.4s\n",
            "[CV 3/3] END xgbclassifier__colsample_bytree=0.6, xgbclassifier__max_depth=4, xgbclassifier__min_child_weight=2, xgbclassifier__scale_pos_weight=5.35;, score=0.990 total time=   0.4s\n",
            "[CV 1/3] END xgbclassifier__colsample_bytree=0.6, xgbclassifier__max_depth=4, xgbclassifier__min_child_weight=2, xgbclassifier__scale_pos_weight=6.35;, score=0.987 total time=   0.4s\n",
            "[CV 2/3] END xgbclassifier__colsample_bytree=0.6, xgbclassifier__max_depth=4, xgbclassifier__min_child_weight=2, xgbclassifier__scale_pos_weight=6.35;, score=0.986 total time=   0.4s\n",
            "[CV 3/3] END xgbclassifier__colsample_bytree=0.6, xgbclassifier__max_depth=4, xgbclassifier__min_child_weight=2, xgbclassifier__scale_pos_weight=6.35;, score=0.989 total time=   0.4s\n",
            "[CV 1/3] END xgbclassifier__colsample_bytree=0.6, xgbclassifier__max_depth=4, xgbclassifier__min_child_weight=2, xgbclassifier__scale_pos_weight=7.35;, score=0.988 total time=   0.4s\n",
            "[CV 2/3] END xgbclassifier__colsample_bytree=0.6, xgbclassifier__max_depth=4, xgbclassifier__min_child_weight=2, xgbclassifier__scale_pos_weight=7.35;, score=0.986 total time=   0.4s\n",
            "[CV 3/3] END xgbclassifier__colsample_bytree=0.6, xgbclassifier__max_depth=4, xgbclassifier__min_child_weight=2, xgbclassifier__scale_pos_weight=7.35;, score=0.989 total time=   0.4s\n",
            "[CV 1/3] END xgbclassifier__colsample_bytree=0.6, xgbclassifier__max_depth=4, xgbclassifier__min_child_weight=4, xgbclassifier__scale_pos_weight=5.35;, score=0.987 total time=   0.4s\n",
            "[CV 2/3] END xgbclassifier__colsample_bytree=0.6, xgbclassifier__max_depth=4, xgbclassifier__min_child_weight=4, xgbclassifier__scale_pos_weight=5.35;, score=0.986 total time=   0.4s\n",
            "[CV 3/3] END xgbclassifier__colsample_bytree=0.6, xgbclassifier__max_depth=4, xgbclassifier__min_child_weight=4, xgbclassifier__scale_pos_weight=5.35;, score=0.989 total time=   0.4s\n",
            "[CV 1/3] END xgbclassifier__colsample_bytree=0.6, xgbclassifier__max_depth=4, xgbclassifier__min_child_weight=4, xgbclassifier__scale_pos_weight=6.35;, score=0.987 total time=   0.4s\n",
            "[CV 2/3] END xgbclassifier__colsample_bytree=0.6, xgbclassifier__max_depth=4, xgbclassifier__min_child_weight=4, xgbclassifier__scale_pos_weight=6.35;, score=0.985 total time=   0.4s\n",
            "[CV 3/3] END xgbclassifier__colsample_bytree=0.6, xgbclassifier__max_depth=4, xgbclassifier__min_child_weight=4, xgbclassifier__scale_pos_weight=6.35;, score=0.988 total time=   0.4s\n",
            "[CV 1/3] END xgbclassifier__colsample_bytree=0.6, xgbclassifier__max_depth=4, xgbclassifier__min_child_weight=4, xgbclassifier__scale_pos_weight=7.35;, score=0.987 total time=   0.4s\n",
            "[CV 2/3] END xgbclassifier__colsample_bytree=0.6, xgbclassifier__max_depth=4, xgbclassifier__min_child_weight=4, xgbclassifier__scale_pos_weight=7.35;, score=0.985 total time=   0.4s\n",
            "[CV 3/3] END xgbclassifier__colsample_bytree=0.6, xgbclassifier__max_depth=4, xgbclassifier__min_child_weight=4, xgbclassifier__scale_pos_weight=7.35;, score=0.989 total time=   0.4s\n",
            "[CV 1/3] END xgbclassifier__colsample_bytree=0.6, xgbclassifier__max_depth=4, xgbclassifier__min_child_weight=8, xgbclassifier__scale_pos_weight=5.35;, score=0.986 total time=   0.4s\n",
            "[CV 2/3] END xgbclassifier__colsample_bytree=0.6, xgbclassifier__max_depth=4, xgbclassifier__min_child_weight=8, xgbclassifier__scale_pos_weight=5.35;, score=0.986 total time=   0.4s\n",
            "[CV 3/3] END xgbclassifier__colsample_bytree=0.6, xgbclassifier__max_depth=4, xgbclassifier__min_child_weight=8, xgbclassifier__scale_pos_weight=5.35;, score=0.987 total time=   0.4s\n",
            "[CV 1/3] END xgbclassifier__colsample_bytree=0.6, xgbclassifier__max_depth=4, xgbclassifier__min_child_weight=8, xgbclassifier__scale_pos_weight=6.35;, score=0.986 total time=   0.4s\n",
            "[CV 2/3] END xgbclassifier__colsample_bytree=0.6, xgbclassifier__max_depth=4, xgbclassifier__min_child_weight=8, xgbclassifier__scale_pos_weight=6.35;, score=0.986 total time=   0.4s\n",
            "[CV 3/3] END xgbclassifier__colsample_bytree=0.6, xgbclassifier__max_depth=4, xgbclassifier__min_child_weight=8, xgbclassifier__scale_pos_weight=6.35;, score=0.989 total time=   1.7s\n",
            "[CV 1/3] END xgbclassifier__colsample_bytree=0.6, xgbclassifier__max_depth=4, xgbclassifier__min_child_weight=8, xgbclassifier__scale_pos_weight=7.35;, score=0.986 total time=   1.0s\n",
            "[CV 2/3] END xgbclassifier__colsample_bytree=0.6, xgbclassifier__max_depth=4, xgbclassifier__min_child_weight=8, xgbclassifier__scale_pos_weight=7.35;, score=0.986 total time=   0.4s\n",
            "[CV 3/3] END xgbclassifier__colsample_bytree=0.6, xgbclassifier__max_depth=4, xgbclassifier__min_child_weight=8, xgbclassifier__scale_pos_weight=7.35;, score=0.989 total time=   0.4s\n",
            "[CV 1/3] END xgbclassifier__colsample_bytree=0.6, xgbclassifier__max_depth=5, xgbclassifier__min_child_weight=2, xgbclassifier__scale_pos_weight=5.35;, score=0.988 total time=   0.5s\n",
            "[CV 2/3] END xgbclassifier__colsample_bytree=0.6, xgbclassifier__max_depth=5, xgbclassifier__min_child_weight=2, xgbclassifier__scale_pos_weight=5.35;, score=0.986 total time=   0.5s\n",
            "[CV 3/3] END xgbclassifier__colsample_bytree=0.6, xgbclassifier__max_depth=5, xgbclassifier__min_child_weight=2, xgbclassifier__scale_pos_weight=5.35;, score=0.989 total time=   0.5s\n",
            "[CV 1/3] END xgbclassifier__colsample_bytree=0.6, xgbclassifier__max_depth=5, xgbclassifier__min_child_weight=2, xgbclassifier__scale_pos_weight=6.35;, score=0.987 total time=   0.5s\n",
            "[CV 2/3] END xgbclassifier__colsample_bytree=0.6, xgbclassifier__max_depth=5, xgbclassifier__min_child_weight=2, xgbclassifier__scale_pos_weight=6.35;, score=0.986 total time=   0.5s\n",
            "[CV 3/3] END xgbclassifier__colsample_bytree=0.6, xgbclassifier__max_depth=5, xgbclassifier__min_child_weight=2, xgbclassifier__scale_pos_weight=6.35;, score=0.988 total time=   0.5s\n",
            "[CV 1/3] END xgbclassifier__colsample_bytree=0.6, xgbclassifier__max_depth=5, xgbclassifier__min_child_weight=2, xgbclassifier__scale_pos_weight=7.35;, score=0.987 total time=   0.5s\n",
            "[CV 2/3] END xgbclassifier__colsample_bytree=0.6, xgbclassifier__max_depth=5, xgbclassifier__min_child_weight=2, xgbclassifier__scale_pos_weight=7.35;, score=0.986 total time=   0.5s\n",
            "[CV 3/3] END xgbclassifier__colsample_bytree=0.6, xgbclassifier__max_depth=5, xgbclassifier__min_child_weight=2, xgbclassifier__scale_pos_weight=7.35;, score=0.988 total time=   0.5s\n",
            "[CV 1/3] END xgbclassifier__colsample_bytree=0.6, xgbclassifier__max_depth=5, xgbclassifier__min_child_weight=4, xgbclassifier__scale_pos_weight=5.35;, score=0.986 total time=   0.5s\n",
            "[CV 2/3] END xgbclassifier__colsample_bytree=0.6, xgbclassifier__max_depth=5, xgbclassifier__min_child_weight=4, xgbclassifier__scale_pos_weight=5.35;, score=0.985 total time=   0.5s\n",
            "[CV 3/3] END xgbclassifier__colsample_bytree=0.6, xgbclassifier__max_depth=5, xgbclassifier__min_child_weight=4, xgbclassifier__scale_pos_weight=5.35;, score=0.989 total time=   0.5s\n",
            "[CV 1/3] END xgbclassifier__colsample_bytree=0.6, xgbclassifier__max_depth=5, xgbclassifier__min_child_weight=4, xgbclassifier__scale_pos_weight=6.35;, score=0.987 total time=   0.5s\n",
            "[CV 2/3] END xgbclassifier__colsample_bytree=0.6, xgbclassifier__max_depth=5, xgbclassifier__min_child_weight=4, xgbclassifier__scale_pos_weight=6.35;, score=0.985 total time=   0.5s\n",
            "[CV 3/3] END xgbclassifier__colsample_bytree=0.6, xgbclassifier__max_depth=5, xgbclassifier__min_child_weight=4, xgbclassifier__scale_pos_weight=6.35;, score=0.988 total time=   0.5s\n",
            "[CV 1/3] END xgbclassifier__colsample_bytree=0.6, xgbclassifier__max_depth=5, xgbclassifier__min_child_weight=4, xgbclassifier__scale_pos_weight=7.35;, score=0.987 total time=   0.5s\n",
            "[CV 2/3] END xgbclassifier__colsample_bytree=0.6, xgbclassifier__max_depth=5, xgbclassifier__min_child_weight=4, xgbclassifier__scale_pos_weight=7.35;, score=0.985 total time=   0.5s\n",
            "[CV 3/3] END xgbclassifier__colsample_bytree=0.6, xgbclassifier__max_depth=5, xgbclassifier__min_child_weight=4, xgbclassifier__scale_pos_weight=7.35;, score=0.988 total time=   0.5s\n",
            "[CV 1/3] END xgbclassifier__colsample_bytree=0.6, xgbclassifier__max_depth=5, xgbclassifier__min_child_weight=8, xgbclassifier__scale_pos_weight=5.35;, score=0.986 total time=   1.0s\n",
            "[CV 2/3] END xgbclassifier__colsample_bytree=0.6, xgbclassifier__max_depth=5, xgbclassifier__min_child_weight=8, xgbclassifier__scale_pos_weight=5.35;, score=0.986 total time=   1.8s\n",
            "[CV 3/3] END xgbclassifier__colsample_bytree=0.6, xgbclassifier__max_depth=5, xgbclassifier__min_child_weight=8, xgbclassifier__scale_pos_weight=5.35;, score=0.986 total time=   0.5s\n",
            "[CV 1/3] END xgbclassifier__colsample_bytree=0.6, xgbclassifier__max_depth=5, xgbclassifier__min_child_weight=8, xgbclassifier__scale_pos_weight=6.35;, score=0.986 total time=   0.5s\n",
            "[CV 2/3] END xgbclassifier__colsample_bytree=0.6, xgbclassifier__max_depth=5, xgbclassifier__min_child_weight=8, xgbclassifier__scale_pos_weight=6.35;, score=0.986 total time=   0.5s\n",
            "[CV 3/3] END xgbclassifier__colsample_bytree=0.6, xgbclassifier__max_depth=5, xgbclassifier__min_child_weight=8, xgbclassifier__scale_pos_weight=6.35;, score=0.987 total time=   0.5s\n",
            "[CV 1/3] END xgbclassifier__colsample_bytree=0.6, xgbclassifier__max_depth=5, xgbclassifier__min_child_weight=8, xgbclassifier__scale_pos_weight=7.35;, score=0.986 total time=   0.5s\n",
            "[CV 2/3] END xgbclassifier__colsample_bytree=0.6, xgbclassifier__max_depth=5, xgbclassifier__min_child_weight=8, xgbclassifier__scale_pos_weight=7.35;, score=0.985 total time=   0.5s\n",
            "[CV 3/3] END xgbclassifier__colsample_bytree=0.6, xgbclassifier__max_depth=5, xgbclassifier__min_child_weight=8, xgbclassifier__scale_pos_weight=7.35;, score=0.987 total time=   0.5s\n",
            "[CV 1/3] END xgbclassifier__colsample_bytree=0.6, xgbclassifier__max_depth=6, xgbclassifier__min_child_weight=2, xgbclassifier__scale_pos_weight=5.35;, score=0.987 total time=   0.6s\n",
            "[CV 2/3] END xgbclassifier__colsample_bytree=0.6, xgbclassifier__max_depth=6, xgbclassifier__min_child_weight=2, xgbclassifier__scale_pos_weight=5.35;, score=0.985 total time=   0.6s\n",
            "[CV 3/3] END xgbclassifier__colsample_bytree=0.6, xgbclassifier__max_depth=6, xgbclassifier__min_child_weight=2, xgbclassifier__scale_pos_weight=5.35;, score=0.988 total time=   0.6s\n",
            "[CV 1/3] END xgbclassifier__colsample_bytree=0.6, xgbclassifier__max_depth=6, xgbclassifier__min_child_weight=2, xgbclassifier__scale_pos_weight=6.35;, score=0.986 total time=   0.6s\n",
            "[CV 2/3] END xgbclassifier__colsample_bytree=0.6, xgbclassifier__max_depth=6, xgbclassifier__min_child_weight=2, xgbclassifier__scale_pos_weight=6.35;, score=0.986 total time=   0.6s\n",
            "[CV 3/3] END xgbclassifier__colsample_bytree=0.6, xgbclassifier__max_depth=6, xgbclassifier__min_child_weight=2, xgbclassifier__scale_pos_weight=6.35;, score=0.988 total time=   0.6s\n",
            "[CV 1/3] END xgbclassifier__colsample_bytree=0.6, xgbclassifier__max_depth=6, xgbclassifier__min_child_weight=2, xgbclassifier__scale_pos_weight=7.35;, score=0.987 total time=   0.6s\n",
            "[CV 2/3] END xgbclassifier__colsample_bytree=0.6, xgbclassifier__max_depth=6, xgbclassifier__min_child_weight=2, xgbclassifier__scale_pos_weight=7.35;, score=0.985 total time=   0.6s\n",
            "[CV 3/3] END xgbclassifier__colsample_bytree=0.6, xgbclassifier__max_depth=6, xgbclassifier__min_child_weight=2, xgbclassifier__scale_pos_weight=7.35;, score=0.988 total time=   0.6s\n",
            "[CV 1/3] END xgbclassifier__colsample_bytree=0.6, xgbclassifier__max_depth=6, xgbclassifier__min_child_weight=4, xgbclassifier__scale_pos_weight=5.35;, score=0.987 total time=   0.6s\n",
            "[CV 2/3] END xgbclassifier__colsample_bytree=0.6, xgbclassifier__max_depth=6, xgbclassifier__min_child_weight=4, xgbclassifier__scale_pos_weight=5.35;, score=0.985 total time=   0.6s\n",
            "[CV 3/3] END xgbclassifier__colsample_bytree=0.6, xgbclassifier__max_depth=6, xgbclassifier__min_child_weight=4, xgbclassifier__scale_pos_weight=5.35;, score=0.988 total time=   2.2s\n",
            "[CV 1/3] END xgbclassifier__colsample_bytree=0.6, xgbclassifier__max_depth=6, xgbclassifier__min_child_weight=4, xgbclassifier__scale_pos_weight=6.35;, score=0.987 total time=   0.9s\n",
            "[CV 2/3] END xgbclassifier__colsample_bytree=0.6, xgbclassifier__max_depth=6, xgbclassifier__min_child_weight=4, xgbclassifier__scale_pos_weight=6.35;, score=0.985 total time=   0.6s\n",
            "[CV 3/3] END xgbclassifier__colsample_bytree=0.6, xgbclassifier__max_depth=6, xgbclassifier__min_child_weight=4, xgbclassifier__scale_pos_weight=6.35;, score=0.988 total time=   0.6s\n",
            "[CV 1/3] END xgbclassifier__colsample_bytree=0.6, xgbclassifier__max_depth=6, xgbclassifier__min_child_weight=4, xgbclassifier__scale_pos_weight=7.35;, score=0.987 total time=   0.6s\n",
            "[CV 2/3] END xgbclassifier__colsample_bytree=0.6, xgbclassifier__max_depth=6, xgbclassifier__min_child_weight=4, xgbclassifier__scale_pos_weight=7.35;, score=0.985 total time=   0.6s\n",
            "[CV 3/3] END xgbclassifier__colsample_bytree=0.6, xgbclassifier__max_depth=6, xgbclassifier__min_child_weight=4, xgbclassifier__scale_pos_weight=7.35;, score=0.988 total time=   0.6s\n",
            "[CV 1/3] END xgbclassifier__colsample_bytree=0.6, xgbclassifier__max_depth=6, xgbclassifier__min_child_weight=8, xgbclassifier__scale_pos_weight=5.35;, score=0.986 total time=   0.6s\n",
            "[CV 2/3] END xgbclassifier__colsample_bytree=0.6, xgbclassifier__max_depth=6, xgbclassifier__min_child_weight=8, xgbclassifier__scale_pos_weight=5.35;, score=0.985 total time=   0.6s\n",
            "[CV 3/3] END xgbclassifier__colsample_bytree=0.6, xgbclassifier__max_depth=6, xgbclassifier__min_child_weight=8, xgbclassifier__scale_pos_weight=5.35;, score=0.987 total time=   0.6s\n",
            "[CV 1/3] END xgbclassifier__colsample_bytree=0.6, xgbclassifier__max_depth=6, xgbclassifier__min_child_weight=8, xgbclassifier__scale_pos_weight=6.35;, score=0.986 total time=   0.6s\n",
            "[CV 2/3] END xgbclassifier__colsample_bytree=0.6, xgbclassifier__max_depth=6, xgbclassifier__min_child_weight=8, xgbclassifier__scale_pos_weight=6.35;, score=0.985 total time=   0.6s\n",
            "[CV 3/3] END xgbclassifier__colsample_bytree=0.6, xgbclassifier__max_depth=6, xgbclassifier__min_child_weight=8, xgbclassifier__scale_pos_weight=6.35;, score=0.986 total time=   0.6s\n",
            "[CV 1/3] END xgbclassifier__colsample_bytree=0.6, xgbclassifier__max_depth=6, xgbclassifier__min_child_weight=8, xgbclassifier__scale_pos_weight=7.35;, score=0.986 total time=   0.6s\n",
            "[CV 2/3] END xgbclassifier__colsample_bytree=0.6, xgbclassifier__max_depth=6, xgbclassifier__min_child_weight=8, xgbclassifier__scale_pos_weight=7.35;, score=0.985 total time=   0.6s\n",
            "[CV 3/3] END xgbclassifier__colsample_bytree=0.6, xgbclassifier__max_depth=6, xgbclassifier__min_child_weight=8, xgbclassifier__scale_pos_weight=7.35;, score=0.987 total time=   0.5s\n",
            "[CV 1/3] END xgbclassifier__colsample_bytree=0.8, xgbclassifier__max_depth=2, xgbclassifier__min_child_weight=2, xgbclassifier__scale_pos_weight=5.35;, score=0.985 total time=   0.3s\n",
            "[CV 2/3] END xgbclassifier__colsample_bytree=0.8, xgbclassifier__max_depth=2, xgbclassifier__min_child_weight=2, xgbclassifier__scale_pos_weight=5.35;, score=0.984 total time=   0.3s\n",
            "[CV 3/3] END xgbclassifier__colsample_bytree=0.8, xgbclassifier__max_depth=2, xgbclassifier__min_child_weight=2, xgbclassifier__scale_pos_weight=5.35;, score=0.988 total time=   0.3s\n",
            "[CV 1/3] END xgbclassifier__colsample_bytree=0.8, xgbclassifier__max_depth=2, xgbclassifier__min_child_weight=2, xgbclassifier__scale_pos_weight=6.35;, score=0.985 total time=   0.3s\n",
            "[CV 2/3] END xgbclassifier__colsample_bytree=0.8, xgbclassifier__max_depth=2, xgbclassifier__min_child_weight=2, xgbclassifier__scale_pos_weight=6.35;, score=0.984 total time=   0.3s\n",
            "[CV 3/3] END xgbclassifier__colsample_bytree=0.8, xgbclassifier__max_depth=2, xgbclassifier__min_child_weight=2, xgbclassifier__scale_pos_weight=6.35;, score=0.988 total time=   0.3s\n",
            "[CV 1/3] END xgbclassifier__colsample_bytree=0.8, xgbclassifier__max_depth=2, xgbclassifier__min_child_weight=2, xgbclassifier__scale_pos_weight=7.35;, score=0.985 total time=   0.9s\n",
            "[CV 2/3] END xgbclassifier__colsample_bytree=0.8, xgbclassifier__max_depth=2, xgbclassifier__min_child_weight=2, xgbclassifier__scale_pos_weight=7.35;, score=0.984 total time=   1.5s\n",
            "[CV 3/3] END xgbclassifier__colsample_bytree=0.8, xgbclassifier__max_depth=2, xgbclassifier__min_child_weight=2, xgbclassifier__scale_pos_weight=7.35;, score=0.988 total time=   0.3s\n",
            "[CV 1/3] END xgbclassifier__colsample_bytree=0.8, xgbclassifier__max_depth=2, xgbclassifier__min_child_weight=4, xgbclassifier__scale_pos_weight=5.35;, score=0.985 total time=   0.3s\n",
            "[CV 2/3] END xgbclassifier__colsample_bytree=0.8, xgbclassifier__max_depth=2, xgbclassifier__min_child_weight=4, xgbclassifier__scale_pos_weight=5.35;, score=0.984 total time=   0.3s\n",
            "[CV 3/3] END xgbclassifier__colsample_bytree=0.8, xgbclassifier__max_depth=2, xgbclassifier__min_child_weight=4, xgbclassifier__scale_pos_weight=5.35;, score=0.988 total time=   0.3s\n",
            "[CV 1/3] END xgbclassifier__colsample_bytree=0.8, xgbclassifier__max_depth=2, xgbclassifier__min_child_weight=4, xgbclassifier__scale_pos_weight=6.35;, score=0.984 total time=   0.3s\n",
            "[CV 2/3] END xgbclassifier__colsample_bytree=0.8, xgbclassifier__max_depth=2, xgbclassifier__min_child_weight=4, xgbclassifier__scale_pos_weight=6.35;, score=0.984 total time=   0.3s\n",
            "[CV 3/3] END xgbclassifier__colsample_bytree=0.8, xgbclassifier__max_depth=2, xgbclassifier__min_child_weight=4, xgbclassifier__scale_pos_weight=6.35;, score=0.988 total time=   0.3s\n",
            "[CV 1/3] END xgbclassifier__colsample_bytree=0.8, xgbclassifier__max_depth=2, xgbclassifier__min_child_weight=4, xgbclassifier__scale_pos_weight=7.35;, score=0.985 total time=   0.3s\n",
            "[CV 2/3] END xgbclassifier__colsample_bytree=0.8, xgbclassifier__max_depth=2, xgbclassifier__min_child_weight=4, xgbclassifier__scale_pos_weight=7.35;, score=0.984 total time=   0.3s\n",
            "[CV 3/3] END xgbclassifier__colsample_bytree=0.8, xgbclassifier__max_depth=2, xgbclassifier__min_child_weight=4, xgbclassifier__scale_pos_weight=7.35;, score=0.988 total time=   0.3s\n",
            "[CV 1/3] END xgbclassifier__colsample_bytree=0.8, xgbclassifier__max_depth=2, xgbclassifier__min_child_weight=8, xgbclassifier__scale_pos_weight=5.35;, score=0.982 total time=   0.3s\n",
            "[CV 2/3] END xgbclassifier__colsample_bytree=0.8, xgbclassifier__max_depth=2, xgbclassifier__min_child_weight=8, xgbclassifier__scale_pos_weight=5.35;, score=0.983 total time=   0.3s\n",
            "[CV 3/3] END xgbclassifier__colsample_bytree=0.8, xgbclassifier__max_depth=2, xgbclassifier__min_child_weight=8, xgbclassifier__scale_pos_weight=5.35;, score=0.987 total time=   0.3s\n",
            "[CV 1/3] END xgbclassifier__colsample_bytree=0.8, xgbclassifier__max_depth=2, xgbclassifier__min_child_weight=8, xgbclassifier__scale_pos_weight=6.35;, score=0.983 total time=   0.3s\n",
            "[CV 2/3] END xgbclassifier__colsample_bytree=0.8, xgbclassifier__max_depth=2, xgbclassifier__min_child_weight=8, xgbclassifier__scale_pos_weight=6.35;, score=0.983 total time=   0.3s\n",
            "[CV 3/3] END xgbclassifier__colsample_bytree=0.8, xgbclassifier__max_depth=2, xgbclassifier__min_child_weight=8, xgbclassifier__scale_pos_weight=6.35;, score=0.988 total time=   0.3s\n",
            "[CV 1/3] END xgbclassifier__colsample_bytree=0.8, xgbclassifier__max_depth=2, xgbclassifier__min_child_weight=8, xgbclassifier__scale_pos_weight=7.35;, score=0.983 total time=   0.3s\n",
            "[CV 2/3] END xgbclassifier__colsample_bytree=0.8, xgbclassifier__max_depth=2, xgbclassifier__min_child_weight=8, xgbclassifier__scale_pos_weight=7.35;, score=0.983 total time=   0.3s\n",
            "[CV 3/3] END xgbclassifier__colsample_bytree=0.8, xgbclassifier__max_depth=2, xgbclassifier__min_child_weight=8, xgbclassifier__scale_pos_weight=7.35;, score=0.988 total time=   0.3s\n",
            "[CV 1/3] END xgbclassifier__colsample_bytree=0.8, xgbclassifier__max_depth=4, xgbclassifier__min_child_weight=2, xgbclassifier__scale_pos_weight=5.35;, score=0.988 total time=   0.5s\n",
            "[CV 2/3] END xgbclassifier__colsample_bytree=0.8, xgbclassifier__max_depth=4, xgbclassifier__min_child_weight=2, xgbclassifier__scale_pos_weight=5.35;, score=0.986 total time=   0.5s\n",
            "[CV 3/3] END xgbclassifier__colsample_bytree=0.8, xgbclassifier__max_depth=4, xgbclassifier__min_child_weight=2, xgbclassifier__scale_pos_weight=5.35;, score=0.989 total time=   0.5s\n",
            "[CV 1/3] END xgbclassifier__colsample_bytree=0.8, xgbclassifier__max_depth=4, xgbclassifier__min_child_weight=2, xgbclassifier__scale_pos_weight=6.35;, score=0.987 total time=   0.4s\n",
            "[CV 2/3] END xgbclassifier__colsample_bytree=0.8, xgbclassifier__max_depth=4, xgbclassifier__min_child_weight=2, xgbclassifier__scale_pos_weight=6.35;, score=0.986 total time=   0.5s\n",
            "[CV 3/3] END xgbclassifier__colsample_bytree=0.8, xgbclassifier__max_depth=4, xgbclassifier__min_child_weight=2, xgbclassifier__scale_pos_weight=6.35;, score=0.989 total time=   0.5s\n",
            "[CV 1/3] END xgbclassifier__colsample_bytree=0.8, xgbclassifier__max_depth=4, xgbclassifier__min_child_weight=2, xgbclassifier__scale_pos_weight=7.35;, score=0.988 total time=   0.5s\n",
            "[CV 2/3] END xgbclassifier__colsample_bytree=0.8, xgbclassifier__max_depth=4, xgbclassifier__min_child_weight=2, xgbclassifier__scale_pos_weight=7.35;, score=0.986 total time=   0.5s\n",
            "[CV 3/3] END xgbclassifier__colsample_bytree=0.8, xgbclassifier__max_depth=4, xgbclassifier__min_child_weight=2, xgbclassifier__scale_pos_weight=7.35;, score=0.989 total time=   0.5s\n",
            "[CV 1/3] END xgbclassifier__colsample_bytree=0.8, xgbclassifier__max_depth=4, xgbclassifier__min_child_weight=4, xgbclassifier__scale_pos_weight=5.35;, score=0.987 total time=   0.5s\n",
            "[CV 2/3] END xgbclassifier__colsample_bytree=0.8, xgbclassifier__max_depth=4, xgbclassifier__min_child_weight=4, xgbclassifier__scale_pos_weight=5.35;, score=0.986 total time=   1.2s\n",
            "[CV 3/3] END xgbclassifier__colsample_bytree=0.8, xgbclassifier__max_depth=4, xgbclassifier__min_child_weight=4, xgbclassifier__scale_pos_weight=5.35;, score=0.988 total time=   1.7s\n",
            "[CV 1/3] END xgbclassifier__colsample_bytree=0.8, xgbclassifier__max_depth=4, xgbclassifier__min_child_weight=4, xgbclassifier__scale_pos_weight=6.35;, score=0.987 total time=   0.5s\n",
            "[CV 2/3] END xgbclassifier__colsample_bytree=0.8, xgbclassifier__max_depth=4, xgbclassifier__min_child_weight=4, xgbclassifier__scale_pos_weight=6.35;, score=0.986 total time=   0.5s\n",
            "[CV 3/3] END xgbclassifier__colsample_bytree=0.8, xgbclassifier__max_depth=4, xgbclassifier__min_child_weight=4, xgbclassifier__scale_pos_weight=6.35;, score=0.989 total time=   0.4s\n",
            "[CV 1/3] END xgbclassifier__colsample_bytree=0.8, xgbclassifier__max_depth=4, xgbclassifier__min_child_weight=4, xgbclassifier__scale_pos_weight=7.35;, score=0.987 total time=   0.5s\n",
            "[CV 2/3] END xgbclassifier__colsample_bytree=0.8, xgbclassifier__max_depth=4, xgbclassifier__min_child_weight=4, xgbclassifier__scale_pos_weight=7.35;, score=0.986 total time=   0.5s\n",
            "[CV 3/3] END xgbclassifier__colsample_bytree=0.8, xgbclassifier__max_depth=4, xgbclassifier__min_child_weight=4, xgbclassifier__scale_pos_weight=7.35;, score=0.989 total time=   0.5s\n",
            "[CV 1/3] END xgbclassifier__colsample_bytree=0.8, xgbclassifier__max_depth=4, xgbclassifier__min_child_weight=8, xgbclassifier__scale_pos_weight=5.35;, score=0.986 total time=   0.4s\n",
            "[CV 2/3] END xgbclassifier__colsample_bytree=0.8, xgbclassifier__max_depth=4, xgbclassifier__min_child_weight=8, xgbclassifier__scale_pos_weight=5.35;, score=0.986 total time=   0.5s\n",
            "[CV 3/3] END xgbclassifier__colsample_bytree=0.8, xgbclassifier__max_depth=4, xgbclassifier__min_child_weight=8, xgbclassifier__scale_pos_weight=5.35;, score=0.988 total time=   0.5s\n",
            "[CV 1/3] END xgbclassifier__colsample_bytree=0.8, xgbclassifier__max_depth=4, xgbclassifier__min_child_weight=8, xgbclassifier__scale_pos_weight=6.35;, score=0.986 total time=   0.4s\n",
            "[CV 2/3] END xgbclassifier__colsample_bytree=0.8, xgbclassifier__max_depth=4, xgbclassifier__min_child_weight=8, xgbclassifier__scale_pos_weight=6.35;, score=0.986 total time=   0.5s\n",
            "[CV 3/3] END xgbclassifier__colsample_bytree=0.8, xgbclassifier__max_depth=4, xgbclassifier__min_child_weight=8, xgbclassifier__scale_pos_weight=6.35;, score=0.987 total time=   0.4s\n",
            "[CV 1/3] END xgbclassifier__colsample_bytree=0.8, xgbclassifier__max_depth=4, xgbclassifier__min_child_weight=8, xgbclassifier__scale_pos_weight=7.35;, score=0.987 total time=   0.5s\n",
            "[CV 2/3] END xgbclassifier__colsample_bytree=0.8, xgbclassifier__max_depth=4, xgbclassifier__min_child_weight=8, xgbclassifier__scale_pos_weight=7.35;, score=0.986 total time=   0.4s\n",
            "[CV 3/3] END xgbclassifier__colsample_bytree=0.8, xgbclassifier__max_depth=4, xgbclassifier__min_child_weight=8, xgbclassifier__scale_pos_weight=7.35;, score=0.988 total time=   0.5s\n",
            "[CV 1/3] END xgbclassifier__colsample_bytree=0.8, xgbclassifier__max_depth=5, xgbclassifier__min_child_weight=2, xgbclassifier__scale_pos_weight=5.35;, score=0.987 total time=   0.6s\n",
            "[CV 2/3] END xgbclassifier__colsample_bytree=0.8, xgbclassifier__max_depth=5, xgbclassifier__min_child_weight=2, xgbclassifier__scale_pos_weight=5.35;, score=0.986 total time=   0.6s\n",
            "[CV 3/3] END xgbclassifier__colsample_bytree=0.8, xgbclassifier__max_depth=5, xgbclassifier__min_child_weight=2, xgbclassifier__scale_pos_weight=5.35;, score=0.989 total time=   0.5s\n",
            "[CV 1/3] END xgbclassifier__colsample_bytree=0.8, xgbclassifier__max_depth=5, xgbclassifier__min_child_weight=2, xgbclassifier__scale_pos_weight=6.35;, score=0.987 total time=   0.6s\n",
            "[CV 2/3] END xgbclassifier__colsample_bytree=0.8, xgbclassifier__max_depth=5, xgbclassifier__min_child_weight=2, xgbclassifier__scale_pos_weight=6.35;, score=0.986 total time=   0.6s\n",
            "[CV 3/3] END xgbclassifier__colsample_bytree=0.8, xgbclassifier__max_depth=5, xgbclassifier__min_child_weight=2, xgbclassifier__scale_pos_weight=6.35;, score=0.989 total time=   3.3s\n",
            "[CV 1/3] END xgbclassifier__colsample_bytree=0.8, xgbclassifier__max_depth=5, xgbclassifier__min_child_weight=2, xgbclassifier__scale_pos_weight=7.35;, score=0.987 total time=   1.4s\n",
            "[CV 2/3] END xgbclassifier__colsample_bytree=0.8, xgbclassifier__max_depth=5, xgbclassifier__min_child_weight=2, xgbclassifier__scale_pos_weight=7.35;, score=0.986 total time=   1.4s\n",
            "[CV 3/3] END xgbclassifier__colsample_bytree=0.8, xgbclassifier__max_depth=5, xgbclassifier__min_child_weight=2, xgbclassifier__scale_pos_weight=7.35;, score=0.989 total time=   0.6s\n",
            "[CV 1/3] END xgbclassifier__colsample_bytree=0.8, xgbclassifier__max_depth=5, xgbclassifier__min_child_weight=4, xgbclassifier__scale_pos_weight=5.35;, score=0.987 total time=   0.5s\n",
            "[CV 2/3] END xgbclassifier__colsample_bytree=0.8, xgbclassifier__max_depth=5, xgbclassifier__min_child_weight=4, xgbclassifier__scale_pos_weight=5.35;, score=0.985 total time=   0.6s\n",
            "[CV 3/3] END xgbclassifier__colsample_bytree=0.8, xgbclassifier__max_depth=5, xgbclassifier__min_child_weight=4, xgbclassifier__scale_pos_weight=5.35;, score=0.988 total time=   0.5s\n",
            "[CV 1/3] END xgbclassifier__colsample_bytree=0.8, xgbclassifier__max_depth=5, xgbclassifier__min_child_weight=4, xgbclassifier__scale_pos_weight=6.35;, score=0.987 total time=   0.6s\n",
            "[CV 2/3] END xgbclassifier__colsample_bytree=0.8, xgbclassifier__max_depth=5, xgbclassifier__min_child_weight=4, xgbclassifier__scale_pos_weight=6.35;, score=0.985 total time=   0.6s\n",
            "[CV 3/3] END xgbclassifier__colsample_bytree=0.8, xgbclassifier__max_depth=5, xgbclassifier__min_child_weight=4, xgbclassifier__scale_pos_weight=6.35;, score=0.989 total time=   0.6s\n",
            "[CV 1/3] END xgbclassifier__colsample_bytree=0.8, xgbclassifier__max_depth=5, xgbclassifier__min_child_weight=4, xgbclassifier__scale_pos_weight=7.35;, score=0.987 total time=   0.5s\n",
            "[CV 2/3] END xgbclassifier__colsample_bytree=0.8, xgbclassifier__max_depth=5, xgbclassifier__min_child_weight=4, xgbclassifier__scale_pos_weight=7.35;, score=0.985 total time=   0.5s\n",
            "[CV 3/3] END xgbclassifier__colsample_bytree=0.8, xgbclassifier__max_depth=5, xgbclassifier__min_child_weight=4, xgbclassifier__scale_pos_weight=7.35;, score=0.989 total time=   0.6s\n",
            "[CV 1/3] END xgbclassifier__colsample_bytree=0.8, xgbclassifier__max_depth=5, xgbclassifier__min_child_weight=8, xgbclassifier__scale_pos_weight=5.35;, score=0.986 total time=   0.5s\n",
            "[CV 2/3] END xgbclassifier__colsample_bytree=0.8, xgbclassifier__max_depth=5, xgbclassifier__min_child_weight=8, xgbclassifier__scale_pos_weight=5.35;, score=0.985 total time=   2.4s\n",
            "[CV 3/3] END xgbclassifier__colsample_bytree=0.8, xgbclassifier__max_depth=5, xgbclassifier__min_child_weight=8, xgbclassifier__scale_pos_weight=5.35;, score=0.987 total time=   0.6s\n",
            "[CV 1/3] END xgbclassifier__colsample_bytree=0.8, xgbclassifier__max_depth=5, xgbclassifier__min_child_weight=8, xgbclassifier__scale_pos_weight=6.35;, score=0.986 total time=   0.5s\n",
            "[CV 2/3] END xgbclassifier__colsample_bytree=0.8, xgbclassifier__max_depth=5, xgbclassifier__min_child_weight=8, xgbclassifier__scale_pos_weight=6.35;, score=0.985 total time=   0.5s\n",
            "[CV 3/3] END xgbclassifier__colsample_bytree=0.8, xgbclassifier__max_depth=5, xgbclassifier__min_child_weight=8, xgbclassifier__scale_pos_weight=6.35;, score=0.988 total time=   0.6s\n",
            "[CV 1/3] END xgbclassifier__colsample_bytree=0.8, xgbclassifier__max_depth=5, xgbclassifier__min_child_weight=8, xgbclassifier__scale_pos_weight=7.35;, score=0.987 total time=   0.6s\n",
            "[CV 2/3] END xgbclassifier__colsample_bytree=0.8, xgbclassifier__max_depth=5, xgbclassifier__min_child_weight=8, xgbclassifier__scale_pos_weight=7.35;, score=0.985 total time=   0.6s\n",
            "[CV 3/3] END xgbclassifier__colsample_bytree=0.8, xgbclassifier__max_depth=5, xgbclassifier__min_child_weight=8, xgbclassifier__scale_pos_weight=7.35;, score=0.987 total time=   0.6s\n",
            "[CV 1/3] END xgbclassifier__colsample_bytree=0.8, xgbclassifier__max_depth=6, xgbclassifier__min_child_weight=2, xgbclassifier__scale_pos_weight=5.35;, score=0.986 total time=   1.1s\n",
            "[CV 2/3] END xgbclassifier__colsample_bytree=0.8, xgbclassifier__max_depth=6, xgbclassifier__min_child_weight=2, xgbclassifier__scale_pos_weight=5.35;, score=0.985 total time=   0.9s\n",
            "[CV 3/3] END xgbclassifier__colsample_bytree=0.8, xgbclassifier__max_depth=6, xgbclassifier__min_child_weight=2, xgbclassifier__scale_pos_weight=5.35;, score=0.989 total time=   0.7s\n",
            "[CV 1/3] END xgbclassifier__colsample_bytree=0.8, xgbclassifier__max_depth=6, xgbclassifier__min_child_weight=2, xgbclassifier__scale_pos_weight=6.35;, score=0.987 total time=   0.7s\n",
            "[CV 2/3] END xgbclassifier__colsample_bytree=0.8, xgbclassifier__max_depth=6, xgbclassifier__min_child_weight=2, xgbclassifier__scale_pos_weight=6.35;, score=0.986 total time=   0.6s\n",
            "[CV 3/3] END xgbclassifier__colsample_bytree=0.8, xgbclassifier__max_depth=6, xgbclassifier__min_child_weight=2, xgbclassifier__scale_pos_weight=6.35;, score=0.988 total time=   0.7s\n",
            "[CV 1/3] END xgbclassifier__colsample_bytree=0.8, xgbclassifier__max_depth=6, xgbclassifier__min_child_weight=2, xgbclassifier__scale_pos_weight=7.35;, score=0.987 total time=   0.7s\n",
            "[CV 2/3] END xgbclassifier__colsample_bytree=0.8, xgbclassifier__max_depth=6, xgbclassifier__min_child_weight=2, xgbclassifier__scale_pos_weight=7.35;, score=0.985 total time=   0.7s\n",
            "[CV 3/3] END xgbclassifier__colsample_bytree=0.8, xgbclassifier__max_depth=6, xgbclassifier__min_child_weight=2, xgbclassifier__scale_pos_weight=7.35;, score=0.988 total time=   2.6s\n",
            "[CV 1/3] END xgbclassifier__colsample_bytree=0.8, xgbclassifier__max_depth=6, xgbclassifier__min_child_weight=4, xgbclassifier__scale_pos_weight=5.35;, score=0.987 total time=   0.6s\n",
            "[CV 2/3] END xgbclassifier__colsample_bytree=0.8, xgbclassifier__max_depth=6, xgbclassifier__min_child_weight=4, xgbclassifier__scale_pos_weight=5.35;, score=0.984 total time=   0.7s\n",
            "[CV 3/3] END xgbclassifier__colsample_bytree=0.8, xgbclassifier__max_depth=6, xgbclassifier__min_child_weight=4, xgbclassifier__scale_pos_weight=5.35;, score=0.989 total time=   0.7s\n",
            "[CV 1/3] END xgbclassifier__colsample_bytree=0.8, xgbclassifier__max_depth=6, xgbclassifier__min_child_weight=4, xgbclassifier__scale_pos_weight=6.35;, score=0.986 total time=   0.7s\n",
            "[CV 2/3] END xgbclassifier__colsample_bytree=0.8, xgbclassifier__max_depth=6, xgbclassifier__min_child_weight=4, xgbclassifier__scale_pos_weight=6.35;, score=0.984 total time=   0.7s\n",
            "[CV 3/3] END xgbclassifier__colsample_bytree=0.8, xgbclassifier__max_depth=6, xgbclassifier__min_child_weight=4, xgbclassifier__scale_pos_weight=6.35;, score=0.988 total time=   0.7s\n",
            "[CV 1/3] END xgbclassifier__colsample_bytree=0.8, xgbclassifier__max_depth=6, xgbclassifier__min_child_weight=4, xgbclassifier__scale_pos_weight=7.35;, score=0.987 total time=   0.6s\n",
            "[CV 2/3] END xgbclassifier__colsample_bytree=0.8, xgbclassifier__max_depth=6, xgbclassifier__min_child_weight=4, xgbclassifier__scale_pos_weight=7.35;, score=0.984 total time=   0.7s\n",
            "[CV 3/3] END xgbclassifier__colsample_bytree=0.8, xgbclassifier__max_depth=6, xgbclassifier__min_child_weight=4, xgbclassifier__scale_pos_weight=7.35;, score=0.988 total time=   0.7s\n",
            "[CV 1/3] END xgbclassifier__colsample_bytree=0.8, xgbclassifier__max_depth=6, xgbclassifier__min_child_weight=8, xgbclassifier__scale_pos_weight=5.35;, score=0.986 total time=   0.6s\n",
            "[CV 2/3] END xgbclassifier__colsample_bytree=0.8, xgbclassifier__max_depth=6, xgbclassifier__min_child_weight=8, xgbclassifier__scale_pos_weight=5.35;, score=0.985 total time=   0.6s\n",
            "[CV 3/3] END xgbclassifier__colsample_bytree=0.8, xgbclassifier__max_depth=6, xgbclassifier__min_child_weight=8, xgbclassifier__scale_pos_weight=5.35;, score=0.987 total time=   0.6s\n",
            "[CV 1/3] END xgbclassifier__colsample_bytree=0.8, xgbclassifier__max_depth=6, xgbclassifier__min_child_weight=8, xgbclassifier__scale_pos_weight=6.35;, score=0.986 total time=   0.6s\n",
            "[CV 2/3] END xgbclassifier__colsample_bytree=0.8, xgbclassifier__max_depth=6, xgbclassifier__min_child_weight=8, xgbclassifier__scale_pos_weight=6.35;, score=0.985 total time=   0.7s\n",
            "[CV 3/3] END xgbclassifier__colsample_bytree=0.8, xgbclassifier__max_depth=6, xgbclassifier__min_child_weight=8, xgbclassifier__scale_pos_weight=6.35;, score=0.987 total time=   0.6s\n",
            "[CV 1/3] END xgbclassifier__colsample_bytree=0.8, xgbclassifier__max_depth=6, xgbclassifier__min_child_weight=8, xgbclassifier__scale_pos_weight=7.35;, score=0.986 total time=   2.6s\n",
            "[CV 2/3] END xgbclassifier__colsample_bytree=0.8, xgbclassifier__max_depth=6, xgbclassifier__min_child_weight=8, xgbclassifier__scale_pos_weight=7.35;, score=0.985 total time=   0.6s\n",
            "[CV 3/3] END xgbclassifier__colsample_bytree=0.8, xgbclassifier__max_depth=6, xgbclassifier__min_child_weight=8, xgbclassifier__scale_pos_weight=7.35;, score=0.987 total time=   0.6s\n",
            "[CV 1/3] END xgbclassifier__colsample_bytree=1.0, xgbclassifier__max_depth=2, xgbclassifier__min_child_weight=2, xgbclassifier__scale_pos_weight=5.35;, score=0.985 total time=   0.3s\n",
            "[CV 2/3] END xgbclassifier__colsample_bytree=1.0, xgbclassifier__max_depth=2, xgbclassifier__min_child_weight=2, xgbclassifier__scale_pos_weight=5.35;, score=0.984 total time=   0.4s\n",
            "[CV 3/3] END xgbclassifier__colsample_bytree=1.0, xgbclassifier__max_depth=2, xgbclassifier__min_child_weight=2, xgbclassifier__scale_pos_weight=5.35;, score=0.987 total time=   0.3s\n",
            "[CV 1/3] END xgbclassifier__colsample_bytree=1.0, xgbclassifier__max_depth=2, xgbclassifier__min_child_weight=2, xgbclassifier__scale_pos_weight=6.35;, score=0.985 total time=   0.3s\n",
            "[CV 2/3] END xgbclassifier__colsample_bytree=1.0, xgbclassifier__max_depth=2, xgbclassifier__min_child_weight=2, xgbclassifier__scale_pos_weight=6.35;, score=0.984 total time=   0.3s\n",
            "[CV 3/3] END xgbclassifier__colsample_bytree=1.0, xgbclassifier__max_depth=2, xgbclassifier__min_child_weight=2, xgbclassifier__scale_pos_weight=6.35;, score=0.987 total time=   0.3s\n",
            "[CV 1/3] END xgbclassifier__colsample_bytree=1.0, xgbclassifier__max_depth=2, xgbclassifier__min_child_weight=2, xgbclassifier__scale_pos_weight=7.35;, score=0.985 total time=   0.3s\n",
            "[CV 2/3] END xgbclassifier__colsample_bytree=1.0, xgbclassifier__max_depth=2, xgbclassifier__min_child_weight=2, xgbclassifier__scale_pos_weight=7.35;, score=0.984 total time=   0.3s\n",
            "[CV 3/3] END xgbclassifier__colsample_bytree=1.0, xgbclassifier__max_depth=2, xgbclassifier__min_child_weight=2, xgbclassifier__scale_pos_weight=7.35;, score=0.987 total time=   0.3s\n",
            "[CV 1/3] END xgbclassifier__colsample_bytree=1.0, xgbclassifier__max_depth=2, xgbclassifier__min_child_weight=4, xgbclassifier__scale_pos_weight=5.35;, score=0.985 total time=   0.3s\n",
            "[CV 2/3] END xgbclassifier__colsample_bytree=1.0, xgbclassifier__max_depth=2, xgbclassifier__min_child_weight=4, xgbclassifier__scale_pos_weight=5.35;, score=0.984 total time=   0.3s\n",
            "[CV 3/3] END xgbclassifier__colsample_bytree=1.0, xgbclassifier__max_depth=2, xgbclassifier__min_child_weight=4, xgbclassifier__scale_pos_weight=5.35;, score=0.987 total time=   0.3s\n",
            "[CV 1/3] END xgbclassifier__colsample_bytree=1.0, xgbclassifier__max_depth=2, xgbclassifier__min_child_weight=4, xgbclassifier__scale_pos_weight=6.35;, score=0.985 total time=   0.3s\n",
            "[CV 2/3] END xgbclassifier__colsample_bytree=1.0, xgbclassifier__max_depth=2, xgbclassifier__min_child_weight=4, xgbclassifier__scale_pos_weight=6.35;, score=0.983 total time=   0.3s\n",
            "[CV 3/3] END xgbclassifier__colsample_bytree=1.0, xgbclassifier__max_depth=2, xgbclassifier__min_child_weight=4, xgbclassifier__scale_pos_weight=6.35;, score=0.987 total time=   0.3s\n",
            "[CV 1/3] END xgbclassifier__colsample_bytree=1.0, xgbclassifier__max_depth=2, xgbclassifier__min_child_weight=4, xgbclassifier__scale_pos_weight=7.35;, score=0.985 total time=   0.3s\n",
            "[CV 2/3] END xgbclassifier__colsample_bytree=1.0, xgbclassifier__max_depth=2, xgbclassifier__min_child_weight=4, xgbclassifier__scale_pos_weight=7.35;, score=0.984 total time=   0.3s\n",
            "[CV 3/3] END xgbclassifier__colsample_bytree=1.0, xgbclassifier__max_depth=2, xgbclassifier__min_child_weight=4, xgbclassifier__scale_pos_weight=7.35;, score=0.987 total time=   0.3s\n",
            "[CV 1/3] END xgbclassifier__colsample_bytree=1.0, xgbclassifier__max_depth=2, xgbclassifier__min_child_weight=8, xgbclassifier__scale_pos_weight=5.35;, score=0.982 total time=   0.3s\n",
            "[CV 2/3] END xgbclassifier__colsample_bytree=1.0, xgbclassifier__max_depth=2, xgbclassifier__min_child_weight=8, xgbclassifier__scale_pos_weight=5.35;, score=0.983 total time=   0.4s\n",
            "[CV 3/3] END xgbclassifier__colsample_bytree=1.0, xgbclassifier__max_depth=2, xgbclassifier__min_child_weight=8, xgbclassifier__scale_pos_weight=5.35;, score=0.987 total time=   0.3s\n",
            "[CV 1/3] END xgbclassifier__colsample_bytree=1.0, xgbclassifier__max_depth=2, xgbclassifier__min_child_weight=8, xgbclassifier__scale_pos_weight=6.35;, score=0.983 total time=   0.3s\n",
            "[CV 2/3] END xgbclassifier__colsample_bytree=1.0, xgbclassifier__max_depth=2, xgbclassifier__min_child_weight=8, xgbclassifier__scale_pos_weight=6.35;, score=0.983 total time=   0.3s\n",
            "[CV 3/3] END xgbclassifier__colsample_bytree=1.0, xgbclassifier__max_depth=2, xgbclassifier__min_child_weight=8, xgbclassifier__scale_pos_weight=6.35;, score=0.987 total time=   0.3s\n",
            "[CV 1/3] END xgbclassifier__colsample_bytree=1.0, xgbclassifier__max_depth=2, xgbclassifier__min_child_weight=8, xgbclassifier__scale_pos_weight=7.35;, score=0.984 total time=   0.3s\n",
            "[CV 2/3] END xgbclassifier__colsample_bytree=1.0, xgbclassifier__max_depth=2, xgbclassifier__min_child_weight=8, xgbclassifier__scale_pos_weight=7.35;, score=0.983 total time=   0.3s\n",
            "[CV 3/3] END xgbclassifier__colsample_bytree=1.0, xgbclassifier__max_depth=2, xgbclassifier__min_child_weight=8, xgbclassifier__scale_pos_weight=7.35;, score=0.987 total time=   1.0s\n",
            "[CV 1/3] END xgbclassifier__colsample_bytree=1.0, xgbclassifier__max_depth=4, xgbclassifier__min_child_weight=2, xgbclassifier__scale_pos_weight=5.35;, score=0.988 total time=   1.8s\n",
            "[CV 2/3] END xgbclassifier__colsample_bytree=1.0, xgbclassifier__max_depth=4, xgbclassifier__min_child_weight=2, xgbclassifier__scale_pos_weight=5.35;, score=0.986 total time=   0.6s\n",
            "[CV 3/3] END xgbclassifier__colsample_bytree=1.0, xgbclassifier__max_depth=4, xgbclassifier__min_child_weight=2, xgbclassifier__scale_pos_weight=5.35;, score=0.989 total time=   0.6s\n",
            "[CV 1/3] END xgbclassifier__colsample_bytree=1.0, xgbclassifier__max_depth=4, xgbclassifier__min_child_weight=2, xgbclassifier__scale_pos_weight=6.35;, score=0.988 total time=   0.6s\n",
            "[CV 2/3] END xgbclassifier__colsample_bytree=1.0, xgbclassifier__max_depth=4, xgbclassifier__min_child_weight=2, xgbclassifier__scale_pos_weight=6.35;, score=0.986 total time=   0.5s\n",
            "[CV 3/3] END xgbclassifier__colsample_bytree=1.0, xgbclassifier__max_depth=4, xgbclassifier__min_child_weight=2, xgbclassifier__scale_pos_weight=6.35;, score=0.989 total time=   0.6s\n",
            "[CV 1/3] END xgbclassifier__colsample_bytree=1.0, xgbclassifier__max_depth=4, xgbclassifier__min_child_weight=2, xgbclassifier__scale_pos_weight=7.35;, score=0.987 total time=   0.5s\n",
            "[CV 2/3] END xgbclassifier__colsample_bytree=1.0, xgbclassifier__max_depth=4, xgbclassifier__min_child_weight=2, xgbclassifier__scale_pos_weight=7.35;, score=0.985 total time=   0.6s\n",
            "[CV 3/3] END xgbclassifier__colsample_bytree=1.0, xgbclassifier__max_depth=4, xgbclassifier__min_child_weight=2, xgbclassifier__scale_pos_weight=7.35;, score=0.989 total time=   0.6s\n",
            "[CV 1/3] END xgbclassifier__colsample_bytree=1.0, xgbclassifier__max_depth=4, xgbclassifier__min_child_weight=4, xgbclassifier__scale_pos_weight=5.35;, score=0.987 total time=   0.5s\n",
            "[CV 2/3] END xgbclassifier__colsample_bytree=1.0, xgbclassifier__max_depth=4, xgbclassifier__min_child_weight=4, xgbclassifier__scale_pos_weight=5.35;, score=0.986 total time=   0.5s\n",
            "[CV 3/3] END xgbclassifier__colsample_bytree=1.0, xgbclassifier__max_depth=4, xgbclassifier__min_child_weight=4, xgbclassifier__scale_pos_weight=5.35;, score=0.988 total time=   0.5s\n",
            "[CV 1/3] END xgbclassifier__colsample_bytree=1.0, xgbclassifier__max_depth=4, xgbclassifier__min_child_weight=4, xgbclassifier__scale_pos_weight=6.35;, score=0.987 total time=   0.6s\n",
            "[CV 2/3] END xgbclassifier__colsample_bytree=1.0, xgbclassifier__max_depth=4, xgbclassifier__min_child_weight=4, xgbclassifier__scale_pos_weight=6.35;, score=0.986 total time=   0.5s\n",
            "[CV 3/3] END xgbclassifier__colsample_bytree=1.0, xgbclassifier__max_depth=4, xgbclassifier__min_child_weight=4, xgbclassifier__scale_pos_weight=6.35;, score=0.988 total time=   0.6s\n",
            "[CV 1/3] END xgbclassifier__colsample_bytree=1.0, xgbclassifier__max_depth=4, xgbclassifier__min_child_weight=4, xgbclassifier__scale_pos_weight=7.35;, score=0.987 total time=   0.5s\n",
            "[CV 2/3] END xgbclassifier__colsample_bytree=1.0, xgbclassifier__max_depth=4, xgbclassifier__min_child_weight=4, xgbclassifier__scale_pos_weight=7.35;, score=0.986 total time=   0.5s\n",
            "[CV 3/3] END xgbclassifier__colsample_bytree=1.0, xgbclassifier__max_depth=4, xgbclassifier__min_child_weight=4, xgbclassifier__scale_pos_weight=7.35;, score=0.988 total time=   0.5s\n",
            "[CV 1/3] END xgbclassifier__colsample_bytree=1.0, xgbclassifier__max_depth=4, xgbclassifier__min_child_weight=8, xgbclassifier__scale_pos_weight=5.35;, score=0.986 total time=   1.3s\n",
            "[CV 2/3] END xgbclassifier__colsample_bytree=1.0, xgbclassifier__max_depth=4, xgbclassifier__min_child_weight=8, xgbclassifier__scale_pos_weight=5.35;, score=0.986 total time=   1.7s\n",
            "[CV 3/3] END xgbclassifier__colsample_bytree=1.0, xgbclassifier__max_depth=4, xgbclassifier__min_child_weight=8, xgbclassifier__scale_pos_weight=5.35;, score=0.988 total time=   0.6s\n",
            "[CV 1/3] END xgbclassifier__colsample_bytree=1.0, xgbclassifier__max_depth=4, xgbclassifier__min_child_weight=8, xgbclassifier__scale_pos_weight=6.35;, score=0.986 total time=   0.5s\n",
            "[CV 2/3] END xgbclassifier__colsample_bytree=1.0, xgbclassifier__max_depth=4, xgbclassifier__min_child_weight=8, xgbclassifier__scale_pos_weight=6.35;, score=0.985 total time=   0.5s\n",
            "[CV 3/3] END xgbclassifier__colsample_bytree=1.0, xgbclassifier__max_depth=4, xgbclassifier__min_child_weight=8, xgbclassifier__scale_pos_weight=6.35;, score=0.988 total time=   0.5s\n",
            "[CV 1/3] END xgbclassifier__colsample_bytree=1.0, xgbclassifier__max_depth=4, xgbclassifier__min_child_weight=8, xgbclassifier__scale_pos_weight=7.35;, score=0.987 total time=   0.5s\n",
            "[CV 2/3] END xgbclassifier__colsample_bytree=1.0, xgbclassifier__max_depth=4, xgbclassifier__min_child_weight=8, xgbclassifier__scale_pos_weight=7.35;, score=0.985 total time=   0.5s\n",
            "[CV 3/3] END xgbclassifier__colsample_bytree=1.0, xgbclassifier__max_depth=4, xgbclassifier__min_child_weight=8, xgbclassifier__scale_pos_weight=7.35;, score=0.987 total time=   0.5s\n",
            "[CV 1/3] END xgbclassifier__colsample_bytree=1.0, xgbclassifier__max_depth=5, xgbclassifier__min_child_weight=2, xgbclassifier__scale_pos_weight=5.35;, score=0.987 total time=   0.7s\n",
            "[CV 2/3] END xgbclassifier__colsample_bytree=1.0, xgbclassifier__max_depth=5, xgbclassifier__min_child_weight=2, xgbclassifier__scale_pos_weight=5.35;, score=0.986 total time=   0.6s\n",
            "[CV 3/3] END xgbclassifier__colsample_bytree=1.0, xgbclassifier__max_depth=5, xgbclassifier__min_child_weight=2, xgbclassifier__scale_pos_weight=5.35;, score=0.989 total time=   0.7s\n",
            "[CV 1/3] END xgbclassifier__colsample_bytree=1.0, xgbclassifier__max_depth=5, xgbclassifier__min_child_weight=2, xgbclassifier__scale_pos_weight=6.35;, score=0.986 total time=   0.7s\n",
            "[CV 2/3] END xgbclassifier__colsample_bytree=1.0, xgbclassifier__max_depth=5, xgbclassifier__min_child_weight=2, xgbclassifier__scale_pos_weight=6.35;, score=0.986 total time=   0.7s\n",
            "[CV 3/3] END xgbclassifier__colsample_bytree=1.0, xgbclassifier__max_depth=5, xgbclassifier__min_child_weight=2, xgbclassifier__scale_pos_weight=6.35;, score=0.988 total time=   0.7s\n",
            "[CV 1/3] END xgbclassifier__colsample_bytree=1.0, xgbclassifier__max_depth=5, xgbclassifier__min_child_weight=2, xgbclassifier__scale_pos_weight=7.35;, score=0.987 total time=   0.7s\n",
            "[CV 2/3] END xgbclassifier__colsample_bytree=1.0, xgbclassifier__max_depth=5, xgbclassifier__min_child_weight=2, xgbclassifier__scale_pos_weight=7.35;, score=0.986 total time=   0.7s\n",
            "[CV 3/3] END xgbclassifier__colsample_bytree=1.0, xgbclassifier__max_depth=5, xgbclassifier__min_child_weight=2, xgbclassifier__scale_pos_weight=7.35;, score=0.988 total time=   2.5s\n",
            "[CV 1/3] END xgbclassifier__colsample_bytree=1.0, xgbclassifier__max_depth=5, xgbclassifier__min_child_weight=4, xgbclassifier__scale_pos_weight=5.35;, score=0.987 total time=   0.8s\n",
            "[CV 2/3] END xgbclassifier__colsample_bytree=1.0, xgbclassifier__max_depth=5, xgbclassifier__min_child_weight=4, xgbclassifier__scale_pos_weight=5.35;, score=0.985 total time=   0.7s\n",
            "[CV 3/3] END xgbclassifier__colsample_bytree=1.0, xgbclassifier__max_depth=5, xgbclassifier__min_child_weight=4, xgbclassifier__scale_pos_weight=5.35;, score=0.988 total time=   0.7s\n",
            "[CV 1/3] END xgbclassifier__colsample_bytree=1.0, xgbclassifier__max_depth=5, xgbclassifier__min_child_weight=4, xgbclassifier__scale_pos_weight=6.35;, score=0.987 total time=   0.7s\n",
            "[CV 2/3] END xgbclassifier__colsample_bytree=1.0, xgbclassifier__max_depth=5, xgbclassifier__min_child_weight=4, xgbclassifier__scale_pos_weight=6.35;, score=0.984 total time=   0.7s\n",
            "[CV 3/3] END xgbclassifier__colsample_bytree=1.0, xgbclassifier__max_depth=5, xgbclassifier__min_child_weight=4, xgbclassifier__scale_pos_weight=6.35;, score=0.988 total time=   0.7s\n",
            "[CV 1/3] END xgbclassifier__colsample_bytree=1.0, xgbclassifier__max_depth=5, xgbclassifier__min_child_weight=4, xgbclassifier__scale_pos_weight=7.35;, score=0.986 total time=   0.7s\n",
            "[CV 2/3] END xgbclassifier__colsample_bytree=1.0, xgbclassifier__max_depth=5, xgbclassifier__min_child_weight=4, xgbclassifier__scale_pos_weight=7.35;, score=0.985 total time=   0.7s\n",
            "[CV 3/3] END xgbclassifier__colsample_bytree=1.0, xgbclassifier__max_depth=5, xgbclassifier__min_child_weight=4, xgbclassifier__scale_pos_weight=7.35;, score=0.988 total time=   0.7s\n",
            "[CV 1/3] END xgbclassifier__colsample_bytree=1.0, xgbclassifier__max_depth=5, xgbclassifier__min_child_weight=8, xgbclassifier__scale_pos_weight=5.35;, score=0.987 total time=   0.6s\n",
            "[CV 2/3] END xgbclassifier__colsample_bytree=1.0, xgbclassifier__max_depth=5, xgbclassifier__min_child_weight=8, xgbclassifier__scale_pos_weight=5.35;, score=0.985 total time=   0.7s\n",
            "[CV 3/3] END xgbclassifier__colsample_bytree=1.0, xgbclassifier__max_depth=5, xgbclassifier__min_child_weight=8, xgbclassifier__scale_pos_weight=5.35;, score=0.987 total time=   0.6s\n",
            "[CV 1/3] END xgbclassifier__colsample_bytree=1.0, xgbclassifier__max_depth=5, xgbclassifier__min_child_weight=8, xgbclassifier__scale_pos_weight=6.35;, score=0.986 total time=   0.6s\n",
            "[CV 2/3] END xgbclassifier__colsample_bytree=1.0, xgbclassifier__max_depth=5, xgbclassifier__min_child_weight=8, xgbclassifier__scale_pos_weight=6.35;, score=0.986 total time=   0.6s\n",
            "[CV 3/3] END xgbclassifier__colsample_bytree=1.0, xgbclassifier__max_depth=5, xgbclassifier__min_child_weight=8, xgbclassifier__scale_pos_weight=6.35;, score=0.987 total time=   0.6s\n",
            "[CV 1/3] END xgbclassifier__colsample_bytree=1.0, xgbclassifier__max_depth=5, xgbclassifier__min_child_weight=8, xgbclassifier__scale_pos_weight=7.35;, score=0.986 total time=   2.5s\n",
            "[CV 2/3] END xgbclassifier__colsample_bytree=1.0, xgbclassifier__max_depth=5, xgbclassifier__min_child_weight=8, xgbclassifier__scale_pos_weight=7.35;, score=0.986 total time=   0.6s\n",
            "[CV 3/3] END xgbclassifier__colsample_bytree=1.0, xgbclassifier__max_depth=5, xgbclassifier__min_child_weight=8, xgbclassifier__scale_pos_weight=7.35;, score=0.987 total time=   0.6s\n",
            "[CV 1/3] END xgbclassifier__colsample_bytree=1.0, xgbclassifier__max_depth=6, xgbclassifier__min_child_weight=2, xgbclassifier__scale_pos_weight=5.35;, score=0.986 total time=   0.8s\n",
            "[CV 2/3] END xgbclassifier__colsample_bytree=1.0, xgbclassifier__max_depth=6, xgbclassifier__min_child_weight=2, xgbclassifier__scale_pos_weight=5.35;, score=0.984 total time=   0.8s\n",
            "[CV 3/3] END xgbclassifier__colsample_bytree=1.0, xgbclassifier__max_depth=6, xgbclassifier__min_child_weight=2, xgbclassifier__scale_pos_weight=5.35;, score=0.989 total time=   0.8s\n",
            "[CV 1/3] END xgbclassifier__colsample_bytree=1.0, xgbclassifier__max_depth=6, xgbclassifier__min_child_weight=2, xgbclassifier__scale_pos_weight=6.35;, score=0.986 total time=   0.8s\n",
            "[CV 2/3] END xgbclassifier__colsample_bytree=1.0, xgbclassifier__max_depth=6, xgbclassifier__min_child_weight=2, xgbclassifier__scale_pos_weight=6.35;, score=0.985 total time=   0.8s\n",
            "[CV 3/3] END xgbclassifier__colsample_bytree=1.0, xgbclassifier__max_depth=6, xgbclassifier__min_child_weight=2, xgbclassifier__scale_pos_weight=6.35;, score=0.988 total time=   0.8s\n",
            "[CV 1/3] END xgbclassifier__colsample_bytree=1.0, xgbclassifier__max_depth=6, xgbclassifier__min_child_weight=2, xgbclassifier__scale_pos_weight=7.35;, score=0.987 total time=   0.8s\n",
            "[CV 2/3] END xgbclassifier__colsample_bytree=1.0, xgbclassifier__max_depth=6, xgbclassifier__min_child_weight=2, xgbclassifier__scale_pos_weight=7.35;, score=0.984 total time=   0.8s\n",
            "[CV 3/3] END xgbclassifier__colsample_bytree=1.0, xgbclassifier__max_depth=6, xgbclassifier__min_child_weight=2, xgbclassifier__scale_pos_weight=7.35;, score=0.988 total time=   0.8s\n",
            "[CV 1/3] END xgbclassifier__colsample_bytree=1.0, xgbclassifier__max_depth=6, xgbclassifier__min_child_weight=4, xgbclassifier__scale_pos_weight=5.35;, score=0.986 total time=   0.8s\n",
            "[CV 2/3] END xgbclassifier__colsample_bytree=1.0, xgbclassifier__max_depth=6, xgbclassifier__min_child_weight=4, xgbclassifier__scale_pos_weight=5.35;, score=0.984 total time=   1.4s\n",
            "[CV 3/3] END xgbclassifier__colsample_bytree=1.0, xgbclassifier__max_depth=6, xgbclassifier__min_child_weight=4, xgbclassifier__scale_pos_weight=5.35;, score=0.988 total time=   2.0s\n",
            "[CV 1/3] END xgbclassifier__colsample_bytree=1.0, xgbclassifier__max_depth=6, xgbclassifier__min_child_weight=4, xgbclassifier__scale_pos_weight=6.35;, score=0.986 total time=   0.8s\n",
            "[CV 2/3] END xgbclassifier__colsample_bytree=1.0, xgbclassifier__max_depth=6, xgbclassifier__min_child_weight=4, xgbclassifier__scale_pos_weight=6.35;, score=0.984 total time=   0.8s\n",
            "[CV 3/3] END xgbclassifier__colsample_bytree=1.0, xgbclassifier__max_depth=6, xgbclassifier__min_child_weight=4, xgbclassifier__scale_pos_weight=6.35;, score=0.989 total time=   0.8s\n",
            "[CV 1/3] END xgbclassifier__colsample_bytree=1.0, xgbclassifier__max_depth=6, xgbclassifier__min_child_weight=4, xgbclassifier__scale_pos_weight=7.35;, score=0.987 total time=   0.8s\n",
            "[CV 2/3] END xgbclassifier__colsample_bytree=1.0, xgbclassifier__max_depth=6, xgbclassifier__min_child_weight=4, xgbclassifier__scale_pos_weight=7.35;, score=0.983 total time=   0.8s\n",
            "[CV 3/3] END xgbclassifier__colsample_bytree=1.0, xgbclassifier__max_depth=6, xgbclassifier__min_child_weight=4, xgbclassifier__scale_pos_weight=7.35;, score=0.988 total time=   0.8s\n",
            "[CV 1/3] END xgbclassifier__colsample_bytree=1.0, xgbclassifier__max_depth=6, xgbclassifier__min_child_weight=8, xgbclassifier__scale_pos_weight=5.35;, score=0.985 total time=   0.8s\n",
            "[CV 2/3] END xgbclassifier__colsample_bytree=1.0, xgbclassifier__max_depth=6, xgbclassifier__min_child_weight=8, xgbclassifier__scale_pos_weight=5.35;, score=0.985 total time=   0.7s\n",
            "[CV 3/3] END xgbclassifier__colsample_bytree=1.0, xgbclassifier__max_depth=6, xgbclassifier__min_child_weight=8, xgbclassifier__scale_pos_weight=5.35;, score=0.987 total time=   0.8s\n",
            "[CV 1/3] END xgbclassifier__colsample_bytree=1.0, xgbclassifier__max_depth=6, xgbclassifier__min_child_weight=8, xgbclassifier__scale_pos_weight=6.35;, score=0.986 total time=   0.8s\n",
            "[CV 2/3] END xgbclassifier__colsample_bytree=1.0, xgbclassifier__max_depth=6, xgbclassifier__min_child_weight=8, xgbclassifier__scale_pos_weight=6.35;, score=0.985 total time=   0.8s\n",
            "[CV 3/3] END xgbclassifier__colsample_bytree=1.0, xgbclassifier__max_depth=6, xgbclassifier__min_child_weight=8, xgbclassifier__scale_pos_weight=6.35;, score=0.986 total time=   0.7s\n",
            "[CV 1/3] END xgbclassifier__colsample_bytree=1.0, xgbclassifier__max_depth=6, xgbclassifier__min_child_weight=8, xgbclassifier__scale_pos_weight=7.35;, score=0.986 total time=   2.6s\n",
            "[CV 2/3] END xgbclassifier__colsample_bytree=1.0, xgbclassifier__max_depth=6, xgbclassifier__min_child_weight=8, xgbclassifier__scale_pos_weight=7.35;, score=0.985 total time=   0.7s\n",
            "[CV 3/3] END xgbclassifier__colsample_bytree=1.0, xgbclassifier__max_depth=6, xgbclassifier__min_child_weight=8, xgbclassifier__scale_pos_weight=7.35;, score=0.988 total time=   0.7s\n"
          ]
        },
        {
          "output_type": "execute_result",
          "data": {
            "text/plain": [
              "GridSearchCV(cv=3,\n",
              "             estimator=Pipeline(steps=[('xgbclassifier',\n",
              "                                        XGBClassifier(base_score=None,\n",
              "                                                      booster=None,\n",
              "                                                      callbacks=None,\n",
              "                                                      colsample_bylevel=None,\n",
              "                                                      colsample_bynode=None,\n",
              "                                                      colsample_bytree=None,\n",
              "                                                      early_stopping_rounds=None,\n",
              "                                                      enable_categorical=False,\n",
              "                                                      eval_metric='error',\n",
              "                                                      feature_types=None,\n",
              "                                                      gamma=None, gpu_id=None,\n",
              "                                                      grow_policy=None,\n",
              "                                                      importance_type=None,\n",
              "                                                      interaction_...\n",
              "                                                      min_child_weight=None,\n",
              "                                                      missing=nan,\n",
              "                                                      monotone_constraints=None,\n",
              "                                                      n_estimators=200,\n",
              "                                                      n_jobs=-1,\n",
              "                                                      num_parallel_tree=None,\n",
              "                                                      predictor=None,\n",
              "                                                      random_state=42, ...))]),\n",
              "             param_grid={'xgbclassifier__colsample_bytree': [0.6, 0.8, 1.0],\n",
              "                         'xgbclassifier__max_depth': [2, 4, 5, 6],\n",
              "                         'xgbclassifier__min_child_weight': [2, 4, 8],\n",
              "                         'xgbclassifier__scale_pos_weight': [5.35, 6.35, 7.35]},\n",
              "             scoring='roc_auc', verbose=3)"
            ]
          },
          "metadata": {},
          "execution_count": 40
        }
      ]
    },
    {
      "cell_type": "markdown",
      "source": [
        "GridSearch로 찾은 최적의 파라미터를 나열합니다."
      ],
      "metadata": {
        "id": "XAxi_Q7sh3Ag"
      }
    },
    {
      "cell_type": "code",
      "source": [
        "print('최적 하이퍼파라미터', grid_search.best_params_)\n",
        "print('최적 AUC', grid_search.best_score_)"
      ],
      "metadata": {
        "colab": {
          "base_uri": "https://localhost:8080/"
        },
        "id": "i1OTztX_ikbP",
        "outputId": "2cb9f526-2579-4ae1-e516-c468c9be37c8"
      },
      "execution_count": 41,
      "outputs": [
        {
          "output_type": "stream",
          "name": "stdout",
          "text": [
            "최적 하이퍼파라미터 {'xgbclassifier__colsample_bytree': 0.6, 'xgbclassifier__max_depth': 4, 'xgbclassifier__min_child_weight': 2, 'xgbclassifier__scale_pos_weight': 5.35}\n",
            "최적 AUC 0.9878301319465237\n"
          ]
        }
      ]
    },
    {
      "cell_type": "markdown",
      "source": [
        "각 하이퍼 파라미터 조합으로 만들어진 모델들을 순위별로 나열해봅니다.\n",
        "* rank_test_score : 테스트 순위\n",
        "* mean_score_time : 예측에 걸리는 시간."
      ],
      "metadata": {
        "id": "r5Kgvihtiyu6"
      }
    },
    {
      "cell_type": "code",
      "source": [
        "pd.DataFrame(grid_search.cv_results_).sort_values(by = 'rank_test_score').T"
      ],
      "metadata": {
        "colab": {
          "base_uri": "https://localhost:8080/",
          "height": 630
        },
        "id": "qRqiTq84I2Ke",
        "outputId": "78379502-4dfd-4b43-905b-c060fb5ae8e5"
      },
      "execution_count": 42,
      "outputs": [
        {
          "output_type": "execute_result",
          "data": {
            "text/plain": [
              "                                                                                      9   \\\n",
              "mean_fit_time                                                                   0.409415   \n",
              "std_fit_time                                                                    0.020285   \n",
              "mean_score_time                                                                 0.009952   \n",
              "std_score_time                                                                  0.000905   \n",
              "param_xgbclassifier__colsample_bytree                                                0.6   \n",
              "param_xgbclassifier__max_depth                                                         4   \n",
              "param_xgbclassifier__min_child_weight                                                  2   \n",
              "param_xgbclassifier__scale_pos_weight                                               5.35   \n",
              "params                                 {'xgbclassifier__colsample_bytree': 0.6, 'xgbc...   \n",
              "split0_test_score                                                               0.987738   \n",
              "split1_test_score                                                               0.986078   \n",
              "split2_test_score                                                               0.989674   \n",
              "mean_test_score                                                                  0.98783   \n",
              "std_test_score                                                                   0.00147   \n",
              "rank_test_score                                                                        1   \n",
              "\n",
              "                                                                                      82  \\\n",
              "mean_fit_time                                                                   0.549797   \n",
              "std_fit_time                                                                    0.011811   \n",
              "mean_score_time                                                                 0.012911   \n",
              "std_score_time                                                                  0.005341   \n",
              "param_xgbclassifier__colsample_bytree                                                1.0   \n",
              "param_xgbclassifier__max_depth                                                         4   \n",
              "param_xgbclassifier__min_child_weight                                                  2   \n",
              "param_xgbclassifier__scale_pos_weight                                               6.35   \n",
              "params                                 {'xgbclassifier__colsample_bytree': 1.0, 'xgbc...   \n",
              "split0_test_score                                                               0.987659   \n",
              "split1_test_score                                                               0.986387   \n",
              "split2_test_score                                                                0.98891   \n",
              "mean_test_score                                                                 0.987652   \n",
              "std_test_score                                                                   0.00103   \n",
              "rank_test_score                                                                        2   \n",
              "\n",
              "                                                                                      45  \\\n",
              "mean_fit_time                                                                   0.456673   \n",
              "std_fit_time                                                                    0.009953   \n",
              "mean_score_time                                                                 0.010054   \n",
              "std_score_time                                                                  0.001257   \n",
              "param_xgbclassifier__colsample_bytree                                                0.8   \n",
              "param_xgbclassifier__max_depth                                                         4   \n",
              "param_xgbclassifier__min_child_weight                                                  2   \n",
              "param_xgbclassifier__scale_pos_weight                                               5.35   \n",
              "params                                 {'xgbclassifier__colsample_bytree': 0.8, 'xgbc...   \n",
              "split0_test_score                                                               0.987589   \n",
              "split1_test_score                                                               0.985969   \n",
              "split2_test_score                                                               0.989355   \n",
              "mean_test_score                                                                 0.987638   \n",
              "std_test_score                                                                  0.001383   \n",
              "rank_test_score                                                                        3   \n",
              "\n",
              "                                                                                      11  \\\n",
              "mean_fit_time                                                                   0.395594   \n",
              "std_fit_time                                                                     0.01505   \n",
              "mean_score_time                                                                 0.009079   \n",
              "std_score_time                                                                  0.000122   \n",
              "param_xgbclassifier__colsample_bytree                                                0.6   \n",
              "param_xgbclassifier__max_depth                                                         4   \n",
              "param_xgbclassifier__min_child_weight                                                  2   \n",
              "param_xgbclassifier__scale_pos_weight                                               7.35   \n",
              "params                                 {'xgbclassifier__colsample_bytree': 0.6, 'xgbc...   \n",
              "split0_test_score                                                               0.987633   \n",
              "split1_test_score                                                               0.986153   \n",
              "split2_test_score                                                               0.988996   \n",
              "mean_test_score                                                                 0.987594   \n",
              "std_test_score                                                                  0.001161   \n",
              "rank_test_score                                                                        4   \n",
              "\n",
              "                                                                                      81  \\\n",
              "mean_fit_time                                                                   0.971924   \n",
              "std_fit_time                                                                    0.591131   \n",
              "mean_score_time                                                                 0.009258   \n",
              "std_score_time                                                                  0.000283   \n",
              "param_xgbclassifier__colsample_bytree                                                1.0   \n",
              "param_xgbclassifier__max_depth                                                         4   \n",
              "param_xgbclassifier__min_child_weight                                                  2   \n",
              "param_xgbclassifier__scale_pos_weight                                               5.35   \n",
              "params                                 {'xgbclassifier__colsample_bytree': 1.0, 'xgbc...   \n",
              "split0_test_score                                                               0.987635   \n",
              "split1_test_score                                                               0.986108   \n",
              "split2_test_score                                                               0.988983   \n",
              "mean_test_score                                                                 0.987576   \n",
              "std_test_score                                                                  0.001175   \n",
              "rank_test_score                                                                        5   \n",
              "\n",
              "                                                                                      10  \\\n",
              "mean_fit_time                                                                   0.412184   \n",
              "std_fit_time                                                                     0.01058   \n",
              "mean_score_time                                                                 0.009071   \n",
              "std_score_time                                                                  0.000286   \n",
              "param_xgbclassifier__colsample_bytree                                                0.6   \n",
              "param_xgbclassifier__max_depth                                                         4   \n",
              "param_xgbclassifier__min_child_weight                                                  2   \n",
              "param_xgbclassifier__scale_pos_weight                                               6.35   \n",
              "params                                 {'xgbclassifier__colsample_bytree': 0.6, 'xgbc...   \n",
              "split0_test_score                                                               0.987475   \n",
              "split1_test_score                                                                0.98583   \n",
              "split2_test_score                                                               0.989255   \n",
              "mean_test_score                                                                  0.98752   \n",
              "std_test_score                                                                  0.001399   \n",
              "rank_test_score                                                                        6   \n",
              "\n",
              "                                                                                      49  \\\n",
              "mean_fit_time                                                                   0.440281   \n",
              "std_fit_time                                                                    0.008013   \n",
              "mean_score_time                                                                 0.013959   \n",
              "std_score_time                                                                  0.003268   \n",
              "param_xgbclassifier__colsample_bytree                                                0.8   \n",
              "param_xgbclassifier__max_depth                                                         4   \n",
              "param_xgbclassifier__min_child_weight                                                  4   \n",
              "param_xgbclassifier__scale_pos_weight                                               6.35   \n",
              "params                                 {'xgbclassifier__colsample_bytree': 0.8, 'xgbc...   \n",
              "split0_test_score                                                               0.987078   \n",
              "split1_test_score                                                               0.986101   \n",
              "split2_test_score                                                               0.989236   \n",
              "mean_test_score                                                                 0.987472   \n",
              "std_test_score                                                                   0.00131   \n",
              "rank_test_score                                                                        7   \n",
              "\n",
              "                                                                                      18  \\\n",
              "mean_fit_time                                                                    0.48279   \n",
              "std_fit_time                                                                    0.010917   \n",
              "mean_score_time                                                                 0.013021   \n",
              "std_score_time                                                                  0.003817   \n",
              "param_xgbclassifier__colsample_bytree                                                0.6   \n",
              "param_xgbclassifier__max_depth                                                         5   \n",
              "param_xgbclassifier__min_child_weight                                                  2   \n",
              "param_xgbclassifier__scale_pos_weight                                               5.35   \n",
              "params                                 {'xgbclassifier__colsample_bytree': 0.6, 'xgbc...   \n",
              "split0_test_score                                                               0.987517   \n",
              "split1_test_score                                                               0.986233   \n",
              "split2_test_score                                                               0.988663   \n",
              "mean_test_score                                                                 0.987471   \n",
              "std_test_score                                                                  0.000993   \n",
              "rank_test_score                                                                        8   \n",
              "\n",
              "                                                                                      47  \\\n",
              "mean_fit_time                                                                   0.475143   \n",
              "std_fit_time                                                                    0.028062   \n",
              "mean_score_time                                                                 0.008962   \n",
              "std_score_time                                                                  0.000202   \n",
              "param_xgbclassifier__colsample_bytree                                                0.8   \n",
              "param_xgbclassifier__max_depth                                                         4   \n",
              "param_xgbclassifier__min_child_weight                                                  2   \n",
              "param_xgbclassifier__scale_pos_weight                                               7.35   \n",
              "params                                 {'xgbclassifier__colsample_bytree': 0.8, 'xgbc...   \n",
              "split0_test_score                                                               0.987646   \n",
              "split1_test_score                                                               0.985715   \n",
              "split2_test_score                                                                0.98874   \n",
              "mean_test_score                                                                 0.987367   \n",
              "std_test_score                                                                  0.001251   \n",
              "rank_test_score                                                                        9   \n",
              "\n",
              "                                                                                      46  \\\n",
              "mean_fit_time                                                                   0.450785   \n",
              "std_fit_time                                                                    0.013746   \n",
              "mean_score_time                                                                 0.009105   \n",
              "std_score_time                                                                  0.000184   \n",
              "param_xgbclassifier__colsample_bytree                                                0.8   \n",
              "param_xgbclassifier__max_depth                                                         4   \n",
              "param_xgbclassifier__min_child_weight                                                  2   \n",
              "param_xgbclassifier__scale_pos_weight                                               6.35   \n",
              "params                                 {'xgbclassifier__colsample_bytree': 0.8, 'xgbc...   \n",
              "split0_test_score                                                               0.987483   \n",
              "split1_test_score                                                               0.985553   \n",
              "split2_test_score                                                               0.988999   \n",
              "mean_test_score                                                                 0.987345   \n",
              "std_test_score                                                                   0.00141   \n",
              "rank_test_score                                                                       10   \n",
              "\n",
              "                                       ...  \\\n",
              "mean_fit_time                          ...   \n",
              "std_fit_time                           ...   \n",
              "mean_score_time                        ...   \n",
              "std_score_time                         ...   \n",
              "param_xgbclassifier__colsample_bytree  ...   \n",
              "param_xgbclassifier__max_depth         ...   \n",
              "param_xgbclassifier__min_child_weight  ...   \n",
              "param_xgbclassifier__scale_pos_weight  ...   \n",
              "params                                 ...   \n",
              "split0_test_score                      ...   \n",
              "split1_test_score                      ...   \n",
              "split2_test_score                      ...   \n",
              "mean_test_score                        ...   \n",
              "std_test_score                         ...   \n",
              "rank_test_score                        ...   \n",
              "\n",
              "                                                                                      73  \\\n",
              "mean_fit_time                                                                    0.31701   \n",
              "std_fit_time                                                                    0.004037   \n",
              "mean_score_time                                                                 0.006906   \n",
              "std_score_time                                                                  0.000122   \n",
              "param_xgbclassifier__colsample_bytree                                                1.0   \n",
              "param_xgbclassifier__max_depth                                                         2   \n",
              "param_xgbclassifier__min_child_weight                                                  2   \n",
              "param_xgbclassifier__scale_pos_weight                                               6.35   \n",
              "params                                 {'xgbclassifier__colsample_bytree': 1.0, 'xgbc...   \n",
              "split0_test_score                                                               0.984861   \n",
              "split1_test_score                                                               0.983548   \n",
              "split2_test_score                                                               0.987079   \n",
              "mean_test_score                                                                 0.985163   \n",
              "std_test_score                                                                  0.001457   \n",
              "rank_test_score                                                                       99   \n",
              "\n",
              "                                                                                      43  \\\n",
              "mean_fit_time                                                                   0.264907   \n",
              "std_fit_time                                                                    0.008534   \n",
              "mean_score_time                                                                 0.007142   \n",
              "std_score_time                                                                  0.000155   \n",
              "param_xgbclassifier__colsample_bytree                                                0.8   \n",
              "param_xgbclassifier__max_depth                                                         2   \n",
              "param_xgbclassifier__min_child_weight                                                  8   \n",
              "param_xgbclassifier__scale_pos_weight                                               6.35   \n",
              "params                                 {'xgbclassifier__colsample_bytree': 0.8, 'xgbc...   \n",
              "split0_test_score                                                               0.983471   \n",
              "split1_test_score                                                               0.983451   \n",
              "split2_test_score                                                               0.987615   \n",
              "mean_test_score                                                                 0.984845   \n",
              "std_test_score                                                                  0.001958   \n",
              "rank_test_score                                                                      100   \n",
              "\n",
              "                                                                                      8   \\\n",
              "mean_fit_time                                                                   0.769007   \n",
              "std_fit_time                                                                    0.760285   \n",
              "mean_score_time                                                                 0.008627   \n",
              "std_score_time                                                                  0.002426   \n",
              "param_xgbclassifier__colsample_bytree                                                0.6   \n",
              "param_xgbclassifier__max_depth                                                         2   \n",
              "param_xgbclassifier__min_child_weight                                                  8   \n",
              "param_xgbclassifier__scale_pos_weight                                               7.35   \n",
              "params                                 {'xgbclassifier__colsample_bytree': 0.6, 'xgbc...   \n",
              "split0_test_score                                                               0.983736   \n",
              "split1_test_score                                                               0.983173   \n",
              "split2_test_score                                                               0.987508   \n",
              "mean_test_score                                                                 0.984806   \n",
              "std_test_score                                                                  0.001925   \n",
              "rank_test_score                                                                      101   \n",
              "\n",
              "                                                                                      44  \\\n",
              "mean_fit_time                                                                   0.260282   \n",
              "std_fit_time                                                                    0.010103   \n",
              "mean_score_time                                                                    0.007   \n",
              "std_score_time                                                                   0.00022   \n",
              "param_xgbclassifier__colsample_bytree                                                0.8   \n",
              "param_xgbclassifier__max_depth                                                         2   \n",
              "param_xgbclassifier__min_child_weight                                                  8   \n",
              "param_xgbclassifier__scale_pos_weight                                               7.35   \n",
              "params                                 {'xgbclassifier__colsample_bytree': 0.8, 'xgbc...   \n",
              "split0_test_score                                                               0.983158   \n",
              "split1_test_score                                                               0.983292   \n",
              "split2_test_score                                                               0.987785   \n",
              "mean_test_score                                                                 0.984745   \n",
              "std_test_score                                                                   0.00215   \n",
              "rank_test_score                                                                      102   \n",
              "\n",
              "                                                                                      80  \\\n",
              "mean_fit_time                                                                   0.531215   \n",
              "std_fit_time                                                                    0.315257   \n",
              "mean_score_time                                                                 0.009002   \n",
              "std_score_time                                                                  0.001722   \n",
              "param_xgbclassifier__colsample_bytree                                                1.0   \n",
              "param_xgbclassifier__max_depth                                                         2   \n",
              "param_xgbclassifier__min_child_weight                                                  8   \n",
              "param_xgbclassifier__scale_pos_weight                                               7.35   \n",
              "params                                 {'xgbclassifier__colsample_bytree': 1.0, 'xgbc...   \n",
              "split0_test_score                                                                 0.9838   \n",
              "split1_test_score                                                               0.982889   \n",
              "split2_test_score                                                               0.987123   \n",
              "mean_test_score                                                                 0.984604   \n",
              "std_test_score                                                                   0.00182   \n",
              "rank_test_score                                                                      103   \n",
              "\n",
              "                                                                                      78  \\\n",
              "mean_fit_time                                                                   0.329143   \n",
              "std_fit_time                                                                    0.022502   \n",
              "mean_score_time                                                                 0.007476   \n",
              "std_score_time                                                                  0.000206   \n",
              "param_xgbclassifier__colsample_bytree                                                1.0   \n",
              "param_xgbclassifier__max_depth                                                         2   \n",
              "param_xgbclassifier__min_child_weight                                                  8   \n",
              "param_xgbclassifier__scale_pos_weight                                               5.35   \n",
              "params                                 {'xgbclassifier__colsample_bytree': 1.0, 'xgbc...   \n",
              "split0_test_score                                                               0.982176   \n",
              "split1_test_score                                                               0.983297   \n",
              "split2_test_score                                                               0.987472   \n",
              "mean_test_score                                                                 0.984315   \n",
              "std_test_score                                                                  0.002279   \n",
              "rank_test_score                                                                      104   \n",
              "\n",
              "                                                                                      79  \\\n",
              "mean_fit_time                                                                   0.306019   \n",
              "std_fit_time                                                                    0.001886   \n",
              "mean_score_time                                                                 0.007885   \n",
              "std_score_time                                                                   0.00135   \n",
              "param_xgbclassifier__colsample_bytree                                                1.0   \n",
              "param_xgbclassifier__max_depth                                                         2   \n",
              "param_xgbclassifier__min_child_weight                                                  8   \n",
              "param_xgbclassifier__scale_pos_weight                                               6.35   \n",
              "params                                 {'xgbclassifier__colsample_bytree': 1.0, 'xgbc...   \n",
              "split0_test_score                                                               0.982799   \n",
              "split1_test_score                                                               0.982787   \n",
              "split2_test_score                                                               0.987246   \n",
              "mean_test_score                                                                 0.984278   \n",
              "std_test_score                                                                  0.002099   \n",
              "rank_test_score                                                                      105   \n",
              "\n",
              "                                                                                      7   \\\n",
              "mean_fit_time                                                                   0.328985   \n",
              "std_fit_time                                                                     0.14501   \n",
              "mean_score_time                                                                 0.018045   \n",
              "std_score_time                                                                   0.01578   \n",
              "param_xgbclassifier__colsample_bytree                                                0.6   \n",
              "param_xgbclassifier__max_depth                                                         2   \n",
              "param_xgbclassifier__min_child_weight                                                  8   \n",
              "param_xgbclassifier__scale_pos_weight                                               6.35   \n",
              "params                                 {'xgbclassifier__colsample_bytree': 0.6, 'xgbc...   \n",
              "split0_test_score                                                               0.982247   \n",
              "split1_test_score                                                               0.983365   \n",
              "split2_test_score                                                               0.987211   \n",
              "mean_test_score                                                                 0.984274   \n",
              "std_test_score                                                                  0.002126   \n",
              "rank_test_score                                                                      106   \n",
              "\n",
              "                                                                                      42  \\\n",
              "mean_fit_time                                                                   0.264071   \n",
              "std_fit_time                                                                    0.006576   \n",
              "mean_score_time                                                                 0.007094   \n",
              "std_score_time                                                                  0.000047   \n",
              "param_xgbclassifier__colsample_bytree                                                0.8   \n",
              "param_xgbclassifier__max_depth                                                         2   \n",
              "param_xgbclassifier__min_child_weight                                                  8   \n",
              "param_xgbclassifier__scale_pos_weight                                               5.35   \n",
              "params                                 {'xgbclassifier__colsample_bytree': 0.8, 'xgbc...   \n",
              "split0_test_score                                                               0.982032   \n",
              "split1_test_score                                                               0.982771   \n",
              "split2_test_score                                                               0.987433   \n",
              "mean_test_score                                                                 0.984079   \n",
              "std_test_score                                                                  0.002391   \n",
              "rank_test_score                                                                      107   \n",
              "\n",
              "                                                                                      6   \n",
              "mean_fit_time                                                                   0.235397  \n",
              "std_fit_time                                                                    0.005898  \n",
              "mean_score_time                                                                 0.007082  \n",
              "std_score_time                                                                   0.00011  \n",
              "param_xgbclassifier__colsample_bytree                                                0.6  \n",
              "param_xgbclassifier__max_depth                                                         2  \n",
              "param_xgbclassifier__min_child_weight                                                  8  \n",
              "param_xgbclassifier__scale_pos_weight                                               5.35  \n",
              "params                                 {'xgbclassifier__colsample_bytree': 0.6, 'xgbc...  \n",
              "split0_test_score                                                               0.981478  \n",
              "split1_test_score                                                               0.983248  \n",
              "split2_test_score                                                               0.986627  \n",
              "mean_test_score                                                                 0.983784  \n",
              "std_test_score                                                                  0.002136  \n",
              "rank_test_score                                                                      108  \n",
              "\n",
              "[15 rows x 108 columns]"
            ],
            "text/html": [
              "\n",
              "  <div id=\"df-a777d619-659d-4865-bd4a-d7c30642c39a\">\n",
              "    <div class=\"colab-df-container\">\n",
              "      <div>\n",
              "<style scoped>\n",
              "    .dataframe tbody tr th:only-of-type {\n",
              "        vertical-align: middle;\n",
              "    }\n",
              "\n",
              "    .dataframe tbody tr th {\n",
              "        vertical-align: top;\n",
              "    }\n",
              "\n",
              "    .dataframe thead th {\n",
              "        text-align: right;\n",
              "    }\n",
              "</style>\n",
              "<table border=\"1\" class=\"dataframe\">\n",
              "  <thead>\n",
              "    <tr style=\"text-align: right;\">\n",
              "      <th></th>\n",
              "      <th>9</th>\n",
              "      <th>82</th>\n",
              "      <th>45</th>\n",
              "      <th>11</th>\n",
              "      <th>81</th>\n",
              "      <th>10</th>\n",
              "      <th>49</th>\n",
              "      <th>18</th>\n",
              "      <th>47</th>\n",
              "      <th>46</th>\n",
              "      <th>...</th>\n",
              "      <th>73</th>\n",
              "      <th>43</th>\n",
              "      <th>8</th>\n",
              "      <th>44</th>\n",
              "      <th>80</th>\n",
              "      <th>78</th>\n",
              "      <th>79</th>\n",
              "      <th>7</th>\n",
              "      <th>42</th>\n",
              "      <th>6</th>\n",
              "    </tr>\n",
              "  </thead>\n",
              "  <tbody>\n",
              "    <tr>\n",
              "      <th>mean_fit_time</th>\n",
              "      <td>0.409415</td>\n",
              "      <td>0.549797</td>\n",
              "      <td>0.456673</td>\n",
              "      <td>0.395594</td>\n",
              "      <td>0.971924</td>\n",
              "      <td>0.412184</td>\n",
              "      <td>0.440281</td>\n",
              "      <td>0.48279</td>\n",
              "      <td>0.475143</td>\n",
              "      <td>0.450785</td>\n",
              "      <td>...</td>\n",
              "      <td>0.31701</td>\n",
              "      <td>0.264907</td>\n",
              "      <td>0.769007</td>\n",
              "      <td>0.260282</td>\n",
              "      <td>0.531215</td>\n",
              "      <td>0.329143</td>\n",
              "      <td>0.306019</td>\n",
              "      <td>0.328985</td>\n",
              "      <td>0.264071</td>\n",
              "      <td>0.235397</td>\n",
              "    </tr>\n",
              "    <tr>\n",
              "      <th>std_fit_time</th>\n",
              "      <td>0.020285</td>\n",
              "      <td>0.011811</td>\n",
              "      <td>0.009953</td>\n",
              "      <td>0.01505</td>\n",
              "      <td>0.591131</td>\n",
              "      <td>0.01058</td>\n",
              "      <td>0.008013</td>\n",
              "      <td>0.010917</td>\n",
              "      <td>0.028062</td>\n",
              "      <td>0.013746</td>\n",
              "      <td>...</td>\n",
              "      <td>0.004037</td>\n",
              "      <td>0.008534</td>\n",
              "      <td>0.760285</td>\n",
              "      <td>0.010103</td>\n",
              "      <td>0.315257</td>\n",
              "      <td>0.022502</td>\n",
              "      <td>0.001886</td>\n",
              "      <td>0.14501</td>\n",
              "      <td>0.006576</td>\n",
              "      <td>0.005898</td>\n",
              "    </tr>\n",
              "    <tr>\n",
              "      <th>mean_score_time</th>\n",
              "      <td>0.009952</td>\n",
              "      <td>0.012911</td>\n",
              "      <td>0.010054</td>\n",
              "      <td>0.009079</td>\n",
              "      <td>0.009258</td>\n",
              "      <td>0.009071</td>\n",
              "      <td>0.013959</td>\n",
              "      <td>0.013021</td>\n",
              "      <td>0.008962</td>\n",
              "      <td>0.009105</td>\n",
              "      <td>...</td>\n",
              "      <td>0.006906</td>\n",
              "      <td>0.007142</td>\n",
              "      <td>0.008627</td>\n",
              "      <td>0.007</td>\n",
              "      <td>0.009002</td>\n",
              "      <td>0.007476</td>\n",
              "      <td>0.007885</td>\n",
              "      <td>0.018045</td>\n",
              "      <td>0.007094</td>\n",
              "      <td>0.007082</td>\n",
              "    </tr>\n",
              "    <tr>\n",
              "      <th>std_score_time</th>\n",
              "      <td>0.000905</td>\n",
              "      <td>0.005341</td>\n",
              "      <td>0.001257</td>\n",
              "      <td>0.000122</td>\n",
              "      <td>0.000283</td>\n",
              "      <td>0.000286</td>\n",
              "      <td>0.003268</td>\n",
              "      <td>0.003817</td>\n",
              "      <td>0.000202</td>\n",
              "      <td>0.000184</td>\n",
              "      <td>...</td>\n",
              "      <td>0.000122</td>\n",
              "      <td>0.000155</td>\n",
              "      <td>0.002426</td>\n",
              "      <td>0.00022</td>\n",
              "      <td>0.001722</td>\n",
              "      <td>0.000206</td>\n",
              "      <td>0.00135</td>\n",
              "      <td>0.01578</td>\n",
              "      <td>0.000047</td>\n",
              "      <td>0.00011</td>\n",
              "    </tr>\n",
              "    <tr>\n",
              "      <th>param_xgbclassifier__colsample_bytree</th>\n",
              "      <td>0.6</td>\n",
              "      <td>1.0</td>\n",
              "      <td>0.8</td>\n",
              "      <td>0.6</td>\n",
              "      <td>1.0</td>\n",
              "      <td>0.6</td>\n",
              "      <td>0.8</td>\n",
              "      <td>0.6</td>\n",
              "      <td>0.8</td>\n",
              "      <td>0.8</td>\n",
              "      <td>...</td>\n",
              "      <td>1.0</td>\n",
              "      <td>0.8</td>\n",
              "      <td>0.6</td>\n",
              "      <td>0.8</td>\n",
              "      <td>1.0</td>\n",
              "      <td>1.0</td>\n",
              "      <td>1.0</td>\n",
              "      <td>0.6</td>\n",
              "      <td>0.8</td>\n",
              "      <td>0.6</td>\n",
              "    </tr>\n",
              "    <tr>\n",
              "      <th>param_xgbclassifier__max_depth</th>\n",
              "      <td>4</td>\n",
              "      <td>4</td>\n",
              "      <td>4</td>\n",
              "      <td>4</td>\n",
              "      <td>4</td>\n",
              "      <td>4</td>\n",
              "      <td>4</td>\n",
              "      <td>5</td>\n",
              "      <td>4</td>\n",
              "      <td>4</td>\n",
              "      <td>...</td>\n",
              "      <td>2</td>\n",
              "      <td>2</td>\n",
              "      <td>2</td>\n",
              "      <td>2</td>\n",
              "      <td>2</td>\n",
              "      <td>2</td>\n",
              "      <td>2</td>\n",
              "      <td>2</td>\n",
              "      <td>2</td>\n",
              "      <td>2</td>\n",
              "    </tr>\n",
              "    <tr>\n",
              "      <th>param_xgbclassifier__min_child_weight</th>\n",
              "      <td>2</td>\n",
              "      <td>2</td>\n",
              "      <td>2</td>\n",
              "      <td>2</td>\n",
              "      <td>2</td>\n",
              "      <td>2</td>\n",
              "      <td>4</td>\n",
              "      <td>2</td>\n",
              "      <td>2</td>\n",
              "      <td>2</td>\n",
              "      <td>...</td>\n",
              "      <td>2</td>\n",
              "      <td>8</td>\n",
              "      <td>8</td>\n",
              "      <td>8</td>\n",
              "      <td>8</td>\n",
              "      <td>8</td>\n",
              "      <td>8</td>\n",
              "      <td>8</td>\n",
              "      <td>8</td>\n",
              "      <td>8</td>\n",
              "    </tr>\n",
              "    <tr>\n",
              "      <th>param_xgbclassifier__scale_pos_weight</th>\n",
              "      <td>5.35</td>\n",
              "      <td>6.35</td>\n",
              "      <td>5.35</td>\n",
              "      <td>7.35</td>\n",
              "      <td>5.35</td>\n",
              "      <td>6.35</td>\n",
              "      <td>6.35</td>\n",
              "      <td>5.35</td>\n",
              "      <td>7.35</td>\n",
              "      <td>6.35</td>\n",
              "      <td>...</td>\n",
              "      <td>6.35</td>\n",
              "      <td>6.35</td>\n",
              "      <td>7.35</td>\n",
              "      <td>7.35</td>\n",
              "      <td>7.35</td>\n",
              "      <td>5.35</td>\n",
              "      <td>6.35</td>\n",
              "      <td>6.35</td>\n",
              "      <td>5.35</td>\n",
              "      <td>5.35</td>\n",
              "    </tr>\n",
              "    <tr>\n",
              "      <th>params</th>\n",
              "      <td>{'xgbclassifier__colsample_bytree': 0.6, 'xgbc...</td>\n",
              "      <td>{'xgbclassifier__colsample_bytree': 1.0, 'xgbc...</td>\n",
              "      <td>{'xgbclassifier__colsample_bytree': 0.8, 'xgbc...</td>\n",
              "      <td>{'xgbclassifier__colsample_bytree': 0.6, 'xgbc...</td>\n",
              "      <td>{'xgbclassifier__colsample_bytree': 1.0, 'xgbc...</td>\n",
              "      <td>{'xgbclassifier__colsample_bytree': 0.6, 'xgbc...</td>\n",
              "      <td>{'xgbclassifier__colsample_bytree': 0.8, 'xgbc...</td>\n",
              "      <td>{'xgbclassifier__colsample_bytree': 0.6, 'xgbc...</td>\n",
              "      <td>{'xgbclassifier__colsample_bytree': 0.8, 'xgbc...</td>\n",
              "      <td>{'xgbclassifier__colsample_bytree': 0.8, 'xgbc...</td>\n",
              "      <td>...</td>\n",
              "      <td>{'xgbclassifier__colsample_bytree': 1.0, 'xgbc...</td>\n",
              "      <td>{'xgbclassifier__colsample_bytree': 0.8, 'xgbc...</td>\n",
              "      <td>{'xgbclassifier__colsample_bytree': 0.6, 'xgbc...</td>\n",
              "      <td>{'xgbclassifier__colsample_bytree': 0.8, 'xgbc...</td>\n",
              "      <td>{'xgbclassifier__colsample_bytree': 1.0, 'xgbc...</td>\n",
              "      <td>{'xgbclassifier__colsample_bytree': 1.0, 'xgbc...</td>\n",
              "      <td>{'xgbclassifier__colsample_bytree': 1.0, 'xgbc...</td>\n",
              "      <td>{'xgbclassifier__colsample_bytree': 0.6, 'xgbc...</td>\n",
              "      <td>{'xgbclassifier__colsample_bytree': 0.8, 'xgbc...</td>\n",
              "      <td>{'xgbclassifier__colsample_bytree': 0.6, 'xgbc...</td>\n",
              "    </tr>\n",
              "    <tr>\n",
              "      <th>split0_test_score</th>\n",
              "      <td>0.987738</td>\n",
              "      <td>0.987659</td>\n",
              "      <td>0.987589</td>\n",
              "      <td>0.987633</td>\n",
              "      <td>0.987635</td>\n",
              "      <td>0.987475</td>\n",
              "      <td>0.987078</td>\n",
              "      <td>0.987517</td>\n",
              "      <td>0.987646</td>\n",
              "      <td>0.987483</td>\n",
              "      <td>...</td>\n",
              "      <td>0.984861</td>\n",
              "      <td>0.983471</td>\n",
              "      <td>0.983736</td>\n",
              "      <td>0.983158</td>\n",
              "      <td>0.9838</td>\n",
              "      <td>0.982176</td>\n",
              "      <td>0.982799</td>\n",
              "      <td>0.982247</td>\n",
              "      <td>0.982032</td>\n",
              "      <td>0.981478</td>\n",
              "    </tr>\n",
              "    <tr>\n",
              "      <th>split1_test_score</th>\n",
              "      <td>0.986078</td>\n",
              "      <td>0.986387</td>\n",
              "      <td>0.985969</td>\n",
              "      <td>0.986153</td>\n",
              "      <td>0.986108</td>\n",
              "      <td>0.98583</td>\n",
              "      <td>0.986101</td>\n",
              "      <td>0.986233</td>\n",
              "      <td>0.985715</td>\n",
              "      <td>0.985553</td>\n",
              "      <td>...</td>\n",
              "      <td>0.983548</td>\n",
              "      <td>0.983451</td>\n",
              "      <td>0.983173</td>\n",
              "      <td>0.983292</td>\n",
              "      <td>0.982889</td>\n",
              "      <td>0.983297</td>\n",
              "      <td>0.982787</td>\n",
              "      <td>0.983365</td>\n",
              "      <td>0.982771</td>\n",
              "      <td>0.983248</td>\n",
              "    </tr>\n",
              "    <tr>\n",
              "      <th>split2_test_score</th>\n",
              "      <td>0.989674</td>\n",
              "      <td>0.98891</td>\n",
              "      <td>0.989355</td>\n",
              "      <td>0.988996</td>\n",
              "      <td>0.988983</td>\n",
              "      <td>0.989255</td>\n",
              "      <td>0.989236</td>\n",
              "      <td>0.988663</td>\n",
              "      <td>0.98874</td>\n",
              "      <td>0.988999</td>\n",
              "      <td>...</td>\n",
              "      <td>0.987079</td>\n",
              "      <td>0.987615</td>\n",
              "      <td>0.987508</td>\n",
              "      <td>0.987785</td>\n",
              "      <td>0.987123</td>\n",
              "      <td>0.987472</td>\n",
              "      <td>0.987246</td>\n",
              "      <td>0.987211</td>\n",
              "      <td>0.987433</td>\n",
              "      <td>0.986627</td>\n",
              "    </tr>\n",
              "    <tr>\n",
              "      <th>mean_test_score</th>\n",
              "      <td>0.98783</td>\n",
              "      <td>0.987652</td>\n",
              "      <td>0.987638</td>\n",
              "      <td>0.987594</td>\n",
              "      <td>0.987576</td>\n",
              "      <td>0.98752</td>\n",
              "      <td>0.987472</td>\n",
              "      <td>0.987471</td>\n",
              "      <td>0.987367</td>\n",
              "      <td>0.987345</td>\n",
              "      <td>...</td>\n",
              "      <td>0.985163</td>\n",
              "      <td>0.984845</td>\n",
              "      <td>0.984806</td>\n",
              "      <td>0.984745</td>\n",
              "      <td>0.984604</td>\n",
              "      <td>0.984315</td>\n",
              "      <td>0.984278</td>\n",
              "      <td>0.984274</td>\n",
              "      <td>0.984079</td>\n",
              "      <td>0.983784</td>\n",
              "    </tr>\n",
              "    <tr>\n",
              "      <th>std_test_score</th>\n",
              "      <td>0.00147</td>\n",
              "      <td>0.00103</td>\n",
              "      <td>0.001383</td>\n",
              "      <td>0.001161</td>\n",
              "      <td>0.001175</td>\n",
              "      <td>0.001399</td>\n",
              "      <td>0.00131</td>\n",
              "      <td>0.000993</td>\n",
              "      <td>0.001251</td>\n",
              "      <td>0.00141</td>\n",
              "      <td>...</td>\n",
              "      <td>0.001457</td>\n",
              "      <td>0.001958</td>\n",
              "      <td>0.001925</td>\n",
              "      <td>0.00215</td>\n",
              "      <td>0.00182</td>\n",
              "      <td>0.002279</td>\n",
              "      <td>0.002099</td>\n",
              "      <td>0.002126</td>\n",
              "      <td>0.002391</td>\n",
              "      <td>0.002136</td>\n",
              "    </tr>\n",
              "    <tr>\n",
              "      <th>rank_test_score</th>\n",
              "      <td>1</td>\n",
              "      <td>2</td>\n",
              "      <td>3</td>\n",
              "      <td>4</td>\n",
              "      <td>5</td>\n",
              "      <td>6</td>\n",
              "      <td>7</td>\n",
              "      <td>8</td>\n",
              "      <td>9</td>\n",
              "      <td>10</td>\n",
              "      <td>...</td>\n",
              "      <td>99</td>\n",
              "      <td>100</td>\n",
              "      <td>101</td>\n",
              "      <td>102</td>\n",
              "      <td>103</td>\n",
              "      <td>104</td>\n",
              "      <td>105</td>\n",
              "      <td>106</td>\n",
              "      <td>107</td>\n",
              "      <td>108</td>\n",
              "    </tr>\n",
              "  </tbody>\n",
              "</table>\n",
              "<p>15 rows × 108 columns</p>\n",
              "</div>\n",
              "      <button class=\"colab-df-convert\" onclick=\"convertToInteractive('df-a777d619-659d-4865-bd4a-d7c30642c39a')\"\n",
              "              title=\"Convert this dataframe to an interactive table.\"\n",
              "              style=\"display:none;\">\n",
              "        \n",
              "  <svg xmlns=\"http://www.w3.org/2000/svg\" height=\"24px\"viewBox=\"0 0 24 24\"\n",
              "       width=\"24px\">\n",
              "    <path d=\"M0 0h24v24H0V0z\" fill=\"none\"/>\n",
              "    <path d=\"M18.56 5.44l.94 2.06.94-2.06 2.06-.94-2.06-.94-.94-2.06-.94 2.06-2.06.94zm-11 1L8.5 8.5l.94-2.06 2.06-.94-2.06-.94L8.5 2.5l-.94 2.06-2.06.94zm10 10l.94 2.06.94-2.06 2.06-.94-2.06-.94-.94-2.06-.94 2.06-2.06.94z\"/><path d=\"M17.41 7.96l-1.37-1.37c-.4-.4-.92-.59-1.43-.59-.52 0-1.04.2-1.43.59L10.3 9.45l-7.72 7.72c-.78.78-.78 2.05 0 2.83L4 21.41c.39.39.9.59 1.41.59.51 0 1.02-.2 1.41-.59l7.78-7.78 2.81-2.81c.8-.78.8-2.07 0-2.86zM5.41 20L4 18.59l7.72-7.72 1.47 1.35L5.41 20z\"/>\n",
              "  </svg>\n",
              "      </button>\n",
              "      \n",
              "  <style>\n",
              "    .colab-df-container {\n",
              "      display:flex;\n",
              "      flex-wrap:wrap;\n",
              "      gap: 12px;\n",
              "    }\n",
              "\n",
              "    .colab-df-convert {\n",
              "      background-color: #E8F0FE;\n",
              "      border: none;\n",
              "      border-radius: 50%;\n",
              "      cursor: pointer;\n",
              "      display: none;\n",
              "      fill: #1967D2;\n",
              "      height: 32px;\n",
              "      padding: 0 0 0 0;\n",
              "      width: 32px;\n",
              "    }\n",
              "\n",
              "    .colab-df-convert:hover {\n",
              "      background-color: #E2EBFA;\n",
              "      box-shadow: 0px 1px 2px rgba(60, 64, 67, 0.3), 0px 1px 3px 1px rgba(60, 64, 67, 0.15);\n",
              "      fill: #174EA6;\n",
              "    }\n",
              "\n",
              "    [theme=dark] .colab-df-convert {\n",
              "      background-color: #3B4455;\n",
              "      fill: #D2E3FC;\n",
              "    }\n",
              "\n",
              "    [theme=dark] .colab-df-convert:hover {\n",
              "      background-color: #434B5C;\n",
              "      box-shadow: 0px 1px 3px 1px rgba(0, 0, 0, 0.15);\n",
              "      filter: drop-shadow(0px 1px 2px rgba(0, 0, 0, 0.3));\n",
              "      fill: #FFFFFF;\n",
              "    }\n",
              "  </style>\n",
              "\n",
              "      <script>\n",
              "        const buttonEl =\n",
              "          document.querySelector('#df-a777d619-659d-4865-bd4a-d7c30642c39a button.colab-df-convert');\n",
              "        buttonEl.style.display =\n",
              "          google.colab.kernel.accessAllowed ? 'block' : 'none';\n",
              "\n",
              "        async function convertToInteractive(key) {\n",
              "          const element = document.querySelector('#df-a777d619-659d-4865-bd4a-d7c30642c39a');\n",
              "          const dataTable =\n",
              "            await google.colab.kernel.invokeFunction('convertToInteractive',\n",
              "                                                     [key], {});\n",
              "          if (!dataTable) return;\n",
              "\n",
              "          const docLinkHtml = 'Like what you see? Visit the ' +\n",
              "            '<a target=\"_blank\" href=https://colab.research.google.com/notebooks/data_table.ipynb>data table notebook</a>'\n",
              "            + ' to learn more about interactive tables.';\n",
              "          element.innerHTML = '';\n",
              "          dataTable['output_type'] = 'display_data';\n",
              "          await google.colab.output.renderOutput(dataTable, element);\n",
              "          const docLink = document.createElement('div');\n",
              "          docLink.innerHTML = docLinkHtml;\n",
              "          element.appendChild(docLink);\n",
              "        }\n",
              "      </script>\n",
              "    </div>\n",
              "  </div>\n",
              "  "
            ]
          },
          "metadata": {},
          "execution_count": 42
        }
      ]
    },
    {
      "cell_type": "markdown",
      "source": [
        "> GridSearchCV로 찾아낸 최적의 파라미터를 적용하여 모델을 다시 생성합니다.\n",
        "\n",
        "* 다음과 같은 하이퍼 파라미터값을 찾아냈습니다.\n",
        "  * `'xgbclassifier__colsample_bytree': 0.6,` \n",
        "  * `'xgbclassifier__max_depth': 4, `\n",
        "  * `'xgbclassifier__min_child_weight': 2, `\n",
        "  * `'xgbclassifier__scale_pos_weight': 5.35`\n"
      ],
      "metadata": {
        "id": "TQhLeIcJJyIV"
      }
    },
    {
      "cell_type": "code",
      "source": [
        "pipe = make_pipeline(\n",
        "    OrdinalEncoder(),\n",
        "    XGBClassifier(\n",
        "        objective = 'binary:logistic',\n",
        "        eval_metric = 'error',\n",
        "        n_estimators = 200,\n",
        "        random_state = 42,\n",
        "        learning_rate = 0.1,\n",
        "        n_jobs = -1,\n",
        "        colsample_bytree = 0.6,\n",
        "        max_depth = 4,\n",
        "        min_child_weight = 2,\n",
        "        scale_pos_weight = 5.35,\n",
        "        early_stopping_rounds = 20\n",
        "    )\n",
        ")\n",
        "\n",
        "print(pipe)"
      ],
      "metadata": {
        "colab": {
          "base_uri": "https://localhost:8080/"
        },
        "id": "J9QtGEjIMCIP",
        "outputId": "db21c639-788a-4a0a-9aa9-e5973d0128ba"
      },
      "execution_count": 43,
      "outputs": [
        {
          "output_type": "stream",
          "name": "stdout",
          "text": [
            "Pipeline(steps=[('ordinalencoder', OrdinalEncoder()),\n",
            "                ('xgbclassifier',\n",
            "                 XGBClassifier(base_score=None, booster=None, callbacks=None,\n",
            "                               colsample_bylevel=None, colsample_bynode=None,\n",
            "                               colsample_bytree=0.6, early_stopping_rounds=20,\n",
            "                               enable_categorical=False, eval_metric='error',\n",
            "                               feature_types=None, gamma=None, gpu_id=None,\n",
            "                               grow_policy=None, importance_type=None,\n",
            "                               interaction_constraints=None, learning_rate=0.1,\n",
            "                               max_bin=None, max_cat_threshold=None,\n",
            "                               max_cat_to_onehot=None, max_delta_step=None,\n",
            "                               max_depth=4, max_leaves=None, min_child_weight=2,\n",
            "                               missing=nan, monotone_constraints=None,\n",
            "                               n_estimators=200, n_jobs=-1,\n",
            "                               num_parallel_tree=None, predictor=None,\n",
            "                               random_state=42, ...))])\n"
          ]
        }
      ]
    },
    {
      "cell_type": "code",
      "source": [
        "# early_stopping_rounds 를 적용시키기 위하여 위에서 정의한 fit_params을 이용합니다.\n",
        "fit_params = {'xgbclassifier__eval_set': [(X_train_encoded, y_train_encoded), (X_val_encoded, y_val_encoded)]}\n",
        "\n",
        "pipe.fit(X_train, y_train_encoded, **fit_params)"
      ],
      "metadata": {
        "colab": {
          "base_uri": "https://localhost:8080/"
        },
        "id": "GC0127VEPjpz",
        "outputId": "2f7dcac9-8891-4bd0-ed98-fdf425ac10db"
      },
      "execution_count": 44,
      "outputs": [
        {
          "output_type": "stream",
          "name": "stdout",
          "text": [
            "[0]\tvalidation_0-error:0.17551\tvalidation_1-error:0.16774\n",
            "[1]\tvalidation_0-error:0.10702\tvalidation_1-error:0.10526\n",
            "[2]\tvalidation_0-error:0.09189\tvalidation_1-error:0.09157\n",
            "[3]\tvalidation_0-error:0.10802\tvalidation_1-error:0.10997\n",
            "[4]\tvalidation_0-error:0.10160\tvalidation_1-error:0.10312\n",
            "[5]\tvalidation_0-error:0.09974\tvalidation_1-error:0.10141\n",
            "[6]\tvalidation_0-error:0.08747\tvalidation_1-error:0.08558\n",
            "[7]\tvalidation_0-error:0.09889\tvalidation_1-error:0.10141\n",
            "[8]\tvalidation_0-error:0.08947\tvalidation_1-error:0.08943\n",
            "[9]\tvalidation_0-error:0.08776\tvalidation_1-error:0.08686\n",
            "[10]\tvalidation_0-error:0.09717\tvalidation_1-error:0.09499\n",
            "[11]\tvalidation_0-error:0.09147\tvalidation_1-error:0.08558\n",
            "[12]\tvalidation_0-error:0.07848\tvalidation_1-error:0.07702\n",
            "[13]\tvalidation_0-error:0.07520\tvalidation_1-error:0.07274\n",
            "[14]\tvalidation_0-error:0.07549\tvalidation_1-error:0.07103\n",
            "[15]\tvalidation_0-error:0.07549\tvalidation_1-error:0.07060\n",
            "[16]\tvalidation_0-error:0.07962\tvalidation_1-error:0.07531\n",
            "[17]\tvalidation_0-error:0.07563\tvalidation_1-error:0.07146\n",
            "[18]\tvalidation_0-error:0.07106\tvalidation_1-error:0.06675\n",
            "[19]\tvalidation_0-error:0.07648\tvalidation_1-error:0.07445\n",
            "[20]\tvalidation_0-error:0.07235\tvalidation_1-error:0.06804\n",
            "[21]\tvalidation_0-error:0.07491\tvalidation_1-error:0.07231\n",
            "[22]\tvalidation_0-error:0.07163\tvalidation_1-error:0.06761\n",
            "[23]\tvalidation_0-error:0.07106\tvalidation_1-error:0.06804\n",
            "[24]\tvalidation_0-error:0.07035\tvalidation_1-error:0.06761\n",
            "[25]\tvalidation_0-error:0.07078\tvalidation_1-error:0.06761\n",
            "[26]\tvalidation_0-error:0.07035\tvalidation_1-error:0.06804\n",
            "[27]\tvalidation_0-error:0.07092\tvalidation_1-error:0.06846\n",
            "[28]\tvalidation_0-error:0.07035\tvalidation_1-error:0.06846\n",
            "[29]\tvalidation_0-error:0.06607\tvalidation_1-error:0.06461\n",
            "[30]\tvalidation_0-error:0.06735\tvalidation_1-error:0.06547\n",
            "[31]\tvalidation_0-error:0.06650\tvalidation_1-error:0.06547\n",
            "[32]\tvalidation_0-error:0.06635\tvalidation_1-error:0.06504\n",
            "[33]\tvalidation_0-error:0.06436\tvalidation_1-error:0.06205\n",
            "[34]\tvalidation_0-error:0.06564\tvalidation_1-error:0.06461\n",
            "[35]\tvalidation_0-error:0.06564\tvalidation_1-error:0.06418\n",
            "[36]\tvalidation_0-error:0.06592\tvalidation_1-error:0.06376\n",
            "[37]\tvalidation_0-error:0.06550\tvalidation_1-error:0.06376\n",
            "[38]\tvalidation_0-error:0.06521\tvalidation_1-error:0.06376\n",
            "[39]\tvalidation_0-error:0.06521\tvalidation_1-error:0.06333\n",
            "[40]\tvalidation_0-error:0.06521\tvalidation_1-error:0.06376\n",
            "[41]\tvalidation_0-error:0.06336\tvalidation_1-error:0.06119\n",
            "[42]\tvalidation_0-error:0.06336\tvalidation_1-error:0.06119\n",
            "[43]\tvalidation_0-error:0.06307\tvalidation_1-error:0.06162\n",
            "[44]\tvalidation_0-error:0.06279\tvalidation_1-error:0.06076\n",
            "[45]\tvalidation_0-error:0.06279\tvalidation_1-error:0.06119\n",
            "[46]\tvalidation_0-error:0.06250\tvalidation_1-error:0.06119\n",
            "[47]\tvalidation_0-error:0.06122\tvalidation_1-error:0.05991\n",
            "[48]\tvalidation_0-error:0.06107\tvalidation_1-error:0.06033\n",
            "[49]\tvalidation_0-error:0.06164\tvalidation_1-error:0.06033\n",
            "[50]\tvalidation_0-error:0.06179\tvalidation_1-error:0.06033\n",
            "[51]\tvalidation_0-error:0.06136\tvalidation_1-error:0.05948\n",
            "[52]\tvalidation_0-error:0.06107\tvalidation_1-error:0.05905\n",
            "[53]\tvalidation_0-error:0.06107\tvalidation_1-error:0.05905\n",
            "[54]\tvalidation_0-error:0.06107\tvalidation_1-error:0.05948\n",
            "[55]\tvalidation_0-error:0.06036\tvalidation_1-error:0.05948\n",
            "[56]\tvalidation_0-error:0.05965\tvalidation_1-error:0.05905\n",
            "[57]\tvalidation_0-error:0.06007\tvalidation_1-error:0.05905\n",
            "[58]\tvalidation_0-error:0.05993\tvalidation_1-error:0.05905\n",
            "[59]\tvalidation_0-error:0.06022\tvalidation_1-error:0.05948\n",
            "[60]\tvalidation_0-error:0.05950\tvalidation_1-error:0.05777\n",
            "[61]\tvalidation_0-error:0.05922\tvalidation_1-error:0.05819\n",
            "[62]\tvalidation_0-error:0.05908\tvalidation_1-error:0.05819\n",
            "[63]\tvalidation_0-error:0.05893\tvalidation_1-error:0.05819\n",
            "[64]\tvalidation_0-error:0.05850\tvalidation_1-error:0.05777\n",
            "[65]\tvalidation_0-error:0.05836\tvalidation_1-error:0.05734\n",
            "[66]\tvalidation_0-error:0.05850\tvalidation_1-error:0.05734\n",
            "[67]\tvalidation_0-error:0.05893\tvalidation_1-error:0.05777\n",
            "[68]\tvalidation_0-error:0.05793\tvalidation_1-error:0.05734\n",
            "[69]\tvalidation_0-error:0.05836\tvalidation_1-error:0.05819\n",
            "[70]\tvalidation_0-error:0.05808\tvalidation_1-error:0.05691\n",
            "[71]\tvalidation_0-error:0.05793\tvalidation_1-error:0.05605\n",
            "[72]\tvalidation_0-error:0.05765\tvalidation_1-error:0.05777\n",
            "[73]\tvalidation_0-error:0.05765\tvalidation_1-error:0.05734\n",
            "[74]\tvalidation_0-error:0.05765\tvalidation_1-error:0.05563\n",
            "[75]\tvalidation_0-error:0.05736\tvalidation_1-error:0.05648\n",
            "[76]\tvalidation_0-error:0.05722\tvalidation_1-error:0.05648\n",
            "[77]\tvalidation_0-error:0.05693\tvalidation_1-error:0.05648\n",
            "[78]\tvalidation_0-error:0.05736\tvalidation_1-error:0.05648\n",
            "[79]\tvalidation_0-error:0.05708\tvalidation_1-error:0.05563\n",
            "[80]\tvalidation_0-error:0.05708\tvalidation_1-error:0.05563\n",
            "[81]\tvalidation_0-error:0.05693\tvalidation_1-error:0.05563\n",
            "[82]\tvalidation_0-error:0.05679\tvalidation_1-error:0.05520\n",
            "[83]\tvalidation_0-error:0.05679\tvalidation_1-error:0.05520\n",
            "[84]\tvalidation_0-error:0.05651\tvalidation_1-error:0.05520\n",
            "[85]\tvalidation_0-error:0.05551\tvalidation_1-error:0.05520\n",
            "[86]\tvalidation_0-error:0.05565\tvalidation_1-error:0.05520\n",
            "[87]\tvalidation_0-error:0.05508\tvalidation_1-error:0.05434\n",
            "[88]\tvalidation_0-error:0.05451\tvalidation_1-error:0.05392\n",
            "[89]\tvalidation_0-error:0.05465\tvalidation_1-error:0.05392\n",
            "[90]\tvalidation_0-error:0.05451\tvalidation_1-error:0.05392\n",
            "[91]\tvalidation_0-error:0.05394\tvalidation_1-error:0.05349\n",
            "[92]\tvalidation_0-error:0.05394\tvalidation_1-error:0.05349\n",
            "[93]\tvalidation_0-error:0.05408\tvalidation_1-error:0.05306\n",
            "[94]\tvalidation_0-error:0.05394\tvalidation_1-error:0.05349\n",
            "[95]\tvalidation_0-error:0.05380\tvalidation_1-error:0.05306\n",
            "[96]\tvalidation_0-error:0.05322\tvalidation_1-error:0.05263\n",
            "[97]\tvalidation_0-error:0.05280\tvalidation_1-error:0.05306\n",
            "[98]\tvalidation_0-error:0.05208\tvalidation_1-error:0.05263\n",
            "[99]\tvalidation_0-error:0.05208\tvalidation_1-error:0.05220\n",
            "[100]\tvalidation_0-error:0.05208\tvalidation_1-error:0.05263\n",
            "[101]\tvalidation_0-error:0.05208\tvalidation_1-error:0.05263\n",
            "[102]\tvalidation_0-error:0.05194\tvalidation_1-error:0.05263\n",
            "[103]\tvalidation_0-error:0.05180\tvalidation_1-error:0.05263\n",
            "[104]\tvalidation_0-error:0.05194\tvalidation_1-error:0.05220\n",
            "[105]\tvalidation_0-error:0.05180\tvalidation_1-error:0.05220\n",
            "[106]\tvalidation_0-error:0.05180\tvalidation_1-error:0.05220\n",
            "[107]\tvalidation_0-error:0.05166\tvalidation_1-error:0.05220\n",
            "[108]\tvalidation_0-error:0.05151\tvalidation_1-error:0.05178\n",
            "[109]\tvalidation_0-error:0.05108\tvalidation_1-error:0.05178\n",
            "[110]\tvalidation_0-error:0.05094\tvalidation_1-error:0.05178\n",
            "[111]\tvalidation_0-error:0.05080\tvalidation_1-error:0.05178\n",
            "[112]\tvalidation_0-error:0.05066\tvalidation_1-error:0.05135\n",
            "[113]\tvalidation_0-error:0.05051\tvalidation_1-error:0.05135\n",
            "[114]\tvalidation_0-error:0.05037\tvalidation_1-error:0.05135\n",
            "[115]\tvalidation_0-error:0.05051\tvalidation_1-error:0.05049\n",
            "[116]\tvalidation_0-error:0.05037\tvalidation_1-error:0.05049\n",
            "[117]\tvalidation_0-error:0.05009\tvalidation_1-error:0.05006\n",
            "[118]\tvalidation_0-error:0.04994\tvalidation_1-error:0.05006\n",
            "[119]\tvalidation_0-error:0.04994\tvalidation_1-error:0.05006\n",
            "[120]\tvalidation_0-error:0.04980\tvalidation_1-error:0.05006\n",
            "[121]\tvalidation_0-error:0.04923\tvalidation_1-error:0.05006\n",
            "[122]\tvalidation_0-error:0.04909\tvalidation_1-error:0.05006\n",
            "[123]\tvalidation_0-error:0.04923\tvalidation_1-error:0.04964\n",
            "[124]\tvalidation_0-error:0.04909\tvalidation_1-error:0.04964\n",
            "[125]\tvalidation_0-error:0.04852\tvalidation_1-error:0.04921\n",
            "[126]\tvalidation_0-error:0.04852\tvalidation_1-error:0.04878\n",
            "[127]\tvalidation_0-error:0.04823\tvalidation_1-error:0.04878\n",
            "[128]\tvalidation_0-error:0.04823\tvalidation_1-error:0.04878\n",
            "[129]\tvalidation_0-error:0.04795\tvalidation_1-error:0.04878\n",
            "[130]\tvalidation_0-error:0.04795\tvalidation_1-error:0.04835\n",
            "[131]\tvalidation_0-error:0.04737\tvalidation_1-error:0.04792\n",
            "[132]\tvalidation_0-error:0.04695\tvalidation_1-error:0.04792\n",
            "[133]\tvalidation_0-error:0.04695\tvalidation_1-error:0.04792\n",
            "[134]\tvalidation_0-error:0.04695\tvalidation_1-error:0.04792\n",
            "[135]\tvalidation_0-error:0.04680\tvalidation_1-error:0.04792\n",
            "[136]\tvalidation_0-error:0.04638\tvalidation_1-error:0.04792\n",
            "[137]\tvalidation_0-error:0.04638\tvalidation_1-error:0.04750\n",
            "[138]\tvalidation_0-error:0.04623\tvalidation_1-error:0.04750\n",
            "[139]\tvalidation_0-error:0.04623\tvalidation_1-error:0.04750\n",
            "[140]\tvalidation_0-error:0.04638\tvalidation_1-error:0.04792\n",
            "[141]\tvalidation_0-error:0.04623\tvalidation_1-error:0.04750\n",
            "[142]\tvalidation_0-error:0.04609\tvalidation_1-error:0.04750\n",
            "[143]\tvalidation_0-error:0.04566\tvalidation_1-error:0.04792\n",
            "[144]\tvalidation_0-error:0.04538\tvalidation_1-error:0.04835\n",
            "[145]\tvalidation_0-error:0.04552\tvalidation_1-error:0.04835\n",
            "[146]\tvalidation_0-error:0.04509\tvalidation_1-error:0.04835\n",
            "[147]\tvalidation_0-error:0.04523\tvalidation_1-error:0.04835\n",
            "[148]\tvalidation_0-error:0.04509\tvalidation_1-error:0.04835\n",
            "[149]\tvalidation_0-error:0.04466\tvalidation_1-error:0.04792\n",
            "[150]\tvalidation_0-error:0.04452\tvalidation_1-error:0.04835\n",
            "[151]\tvalidation_0-error:0.04381\tvalidation_1-error:0.04835\n",
            "[152]\tvalidation_0-error:0.04338\tvalidation_1-error:0.04878\n",
            "[153]\tvalidation_0-error:0.04324\tvalidation_1-error:0.04878\n",
            "[154]\tvalidation_0-error:0.04324\tvalidation_1-error:0.04878\n",
            "[155]\tvalidation_0-error:0.04309\tvalidation_1-error:0.04921\n",
            "[156]\tvalidation_0-error:0.04309\tvalidation_1-error:0.04878\n"
          ]
        },
        {
          "output_type": "execute_result",
          "data": {
            "text/plain": [
              "Pipeline(steps=[('ordinalencoder',\n",
              "                 OrdinalEncoder(cols=['model', 'transmission', 'fuelType',\n",
              "                                      'size', 'type'],\n",
              "                                mapping=[{'col': 'model',\n",
              "                                          'data_type': dtype('O'),\n",
              "                                          'mapping': A7      1\n",
              "A3      2\n",
              "A5      3\n",
              "Q3      4\n",
              "Q2      5\n",
              "A1      6\n",
              "Q5      7\n",
              "A8      8\n",
              "Q7      9\n",
              "A4     10\n",
              "A6     11\n",
              "TT     12\n",
              "Q8     13\n",
              "RS3    14\n",
              "S3     15\n",
              "S8     16\n",
              "RS4    17\n",
              "RS6    18\n",
              "RS5    19\n",
              "R8     20\n",
              "SQ5    21\n",
              "S4     22\n",
              "SQ7    23\n",
              "S5     24\n",
              "NaN    -2\n",
              "dtype: int64},\n",
              "                                         {'col': 'transmission',\n",
              "                                          'data_type': dtype('O'),\n",
              "                                          'mapping': Automatic    1\n",
              "Semi-Auto    2\n",
              "Man...\n",
              "                               feature_types=None, gamma=0, gpu_id=-1,\n",
              "                               grow_policy='depthwise', importance_type=None,\n",
              "                               interaction_constraints='', learning_rate=0.1,\n",
              "                               max_bin=256, max_cat_threshold=64,\n",
              "                               max_cat_to_onehot=4, max_delta_step=0,\n",
              "                               max_depth=4, max_leaves=0, min_child_weight=2,\n",
              "                               missing=nan, monotone_constraints='()',\n",
              "                               n_estimators=200, n_jobs=-1, num_parallel_tree=1,\n",
              "                               predictor='auto', random_state=42, ...))])"
            ]
          },
          "metadata": {},
          "execution_count": 44
        }
      ]
    },
    {
      "cell_type": "code",
      "source": [
        "pipe.named_steps['xgbclassifier'].best_iteration"
      ],
      "metadata": {
        "colab": {
          "base_uri": "https://localhost:8080/"
        },
        "id": "e4pzl25nRYeh",
        "outputId": "d056b9f9-f7ea-4e6d-e451-bf5dc64a07b1"
      },
      "execution_count": 45,
      "outputs": [
        {
          "output_type": "execute_result",
          "data": {
            "text/plain": [
              "137"
            ]
          },
          "metadata": {},
          "execution_count": 45
        }
      ]
    },
    {
      "cell_type": "code",
      "source": [
        "summarize_results(pipe.named_steps['xgbclassifier'], X_val_encoded, y_val_encoded)"
      ],
      "metadata": {
        "colab": {
          "base_uri": "https://localhost:8080/",
          "height": 1000
        },
        "id": "myOQULz2aGz0",
        "outputId": "a24cdf95-18cc-401a-8ef6-5b958e8bada8"
      },
      "execution_count": 46,
      "outputs": [
        {
          "output_type": "stream",
          "name": "stdout",
          "text": [
            "model의 best_iteration: 137\n",
            "\n",
            "검증데이터를 통한 모델의 정확도 : 0.9525032092426188\n",
            "검증 AUC : 0.9588921105632335\n",
            "타겟 :TypeError 가 생기기 때문에 변환을 시도합니다.\n",
            "타겟 변경 완료 : [0 1](Not Specified => 0,  good=> 1)\n",
            "\n",
            "              precision    recall  f1-score   support\n",
            "\n",
            "           0       1.00      0.95      0.97      2057\n",
            "           1       0.72      0.97      0.83       280\n",
            "\n",
            "    accuracy                           0.95      2337\n",
            "   macro avg       0.86      0.96      0.90      2337\n",
            "weighted avg       0.96      0.95      0.95      2337\n",
            "\n"
          ]
        },
        {
          "output_type": "display_data",
          "data": {
            "text/plain": [
              "<Figure size 432x288 with 1 Axes>"
            ],
            "image/png": "[encoded data removed]"
          },
          "metadata": {
            "needs_background": "light"
          }
        },
        {
          "output_type": "stream",
          "name": "stdout",
          "text": [
            "ROC-AUC: 0.9892440447253281 \n",
            "\n"
          ]
        },
        {
          "output_type": "display_data",
          "data": {
            "text/plain": [
              "<Figure size 432x288 with 1 Axes>"
            ],
            "image/png": "[encoded data removed]"
          },
          "metadata": {
            "needs_background": "light"
          }
        },
        {
          "output_type": "stream",
          "name": "stdout",
          "text": [
            "\n",
            "\n"
          ]
        },
        {
          "output_type": "display_data",
          "data": {
            "text/plain": [
              "<Figure size 432x288 with 2 Axes>"
            ],
            "image/png": "[encoded data removed]"
          },
          "metadata": {
            "needs_background": "light"
          }
        }
      ]
    },
    {
      "cell_type": "markdown",
      "source": [
        "**INSIGHT : GridSearch**\n",
        "\n",
        "* 하이퍼 파라미터로 수치를 조정한 결과, 이전보다 `class :1` 를 더 많이 가려냈습니다.\n",
        "  * 특이점으로는 `class:1`의 f1-score는 같지만, `precision`는 10%가량 크게 하락 하락하였으나, <br/> `recall` 값은 10%이상 크게 향상되었습니다.\n",
        "  * (Recall과 Precision은 확실히 `Trade-Off` 관계라는 것을 다시 한 번 확인할 수 있었습니다.)"
      ],
      "metadata": {
        "id": "ghOi-4A7dWS1"
      }
    },
    {
      "cell_type": "markdown",
      "source": [
        "#### 제 관점에서는 이러한 모델이 좋을 것 같습니다.🤔\n",
        "* 상태가 좋지 않은 차량에 badge를 붙이는 건, 사고등의 위험을 초래할 수 있습니다.\n",
        "* 판매하는 입장에서, `Recall :재현율 (모델이 잘 예측한 클래스의 비율)` 높으면 많은 차량을 판매할 수 있습니다.<br/>\n",
        " **하지만, 잘못된 차량에 뱃지를 붙여 판매할 수 있을 확률이 높아지므로 주의를 요합니다❗**\n",
        "  \n",
        "  * 결론적으로 좋은 상태의 차량을 예측하는 `Precision : 정밀도`가 높아야 한다고 생각됩니다."
      ],
      "metadata": {
        "id": "NB8XPt2EiiOX"
      }
    },
    {
      "cell_type": "markdown",
      "source": [
        "#4. Feature Importance (PI)\n"
      ],
      "metadata": {
        "id": "kCK5XXyT1DQo"
      }
    },
    {
      "cell_type": "markdown",
      "source": [
        "####4-1. Permutation Importance\n",
        "> 모델을 재학습시키지 않고, 기존 모델에서 각 특성에 노이즈를 줍니다.\n",
        "\n",
        "* 모델이 해당 특성을 의사결정에 사용하지 못하게 만들었을 때, 성능이 얼마나 감소하는지 확인합니다.\n",
        "  * 이때, 노이즈를 주는 가장 간단한 방법이 그 특성값들을 샘플내에서 섞는 것(shuffle, Permutation) 입니다."
      ],
      "metadata": {
        "id": "mZbqUJXO2EzA"
      }
    },
    {
      "cell_type": "markdown",
      "source": [
        "**장점**\n",
        " * 재학습이 필요없다.\n",
        " * 모든 모델에 범용적으로 적용이 가능한 방법입니다.\n",
        " * Feature Importance(MDI) 보다 high cardinality 특성에 덜 치우친 결과를 나타냅니다. <br/>\n",
        "\n",
        "**단점**\n",
        "* 강한 상관관계가 존재하는 특성들이 존재할 때, 잘못된 값을 낼 수 있습니다.\n",
        "\n",
        "  1. 상관관계가 있는 두 특성중 하나의 값에 노이즈를 주게 되면, 모델의 결과가 비현실적인 데이터로 도출될 수 있습니다. <br/>\n",
        "  ex) 키와 몸무게의 경우 :  2m & 30kg.\n",
        "\n",
        "  2. 하나의 값에 노이즈를 주어도 해당 정보를 다른 특성으로부터 얻을 수도 있고, \n",
        "  성능은 크게 하락하지 않을 수도 있습니다.\n",
        "  결과적으로, 섞인 특성(해당 특성과 강력한 관계가 있는 특성 모두)은 실제로 중요한 특성일 수 있음에도, 낮은 PI를 보이게 됩니다.\n",
        "\n",
        "    * 결과적으로 섞인 특성(해당 특성과 강력한 관계가 있는 특성 모두)은 실제로 중요한 특성일 수 있음에도 낮은 PI를 보이게 됩니다.\n",
        "\n"
      ],
      "metadata": {
        "id": "7c8vCgyR4Esx"
      }
    },
    {
      "cell_type": "markdown",
      "source": [
        "**`eli5`** 라이브러를 사용하여 `Permutation Importance`를 계산합니다."
      ],
      "metadata": {
        "id": "r2QJMZJ-6s4Z"
      }
    },
    {
      "cell_type": "code",
      "source": [
        "#필요한 라이브러리를 가져옵니다.\n",
        "\n",
        "import eli5\n",
        "from eli5.sklearn import PermutationImportance\n",
        "\n",
        "# permuter 정의\n",
        "permuter = PermutationImportance(\n",
        "    pipe.named_steps['xgbclassifier'], # model\n",
        "    scoring = 'accuracy', # metric\n",
        "    n_iter = 10,\n",
        "    random_state = 42)\n",
        "\n",
        "\n",
        "# 스코어를 계산합니다.\n",
        "permuter.fit(X_val_encoded,y_val_encoded)\n"
      ],
      "metadata": {
        "colab": {
          "base_uri": "https://localhost:8080/"
        },
        "id": "2gAtI1NC8064",
        "outputId": "d196e54f-4a6f-4b35-c883-33f179212c62"
      },
      "execution_count": 47,
      "outputs": [
        {
          "output_type": "execute_result",
          "data": {
            "text/plain": [
              "PermutationImportance(estimator=XGBClassifier(base_score=0.5, booster='gbtree',\n",
              "                                              callbacks=None,\n",
              "                                              colsample_bylevel=1,\n",
              "                                              colsample_bynode=1,\n",
              "                                              colsample_bytree=0.6,\n",
              "                                              early_stopping_rounds=20,\n",
              "                                              enable_categorical=False,\n",
              "                                              eval_metric='error',\n",
              "                                              feature_types=None, gamma=0,\n",
              "                                              gpu_id=-1,\n",
              "                                              grow_policy='depthwise',\n",
              "                                              importance_type=None,\n",
              "                                              interaction_constraints='',\n",
              "                                              learning_rate=0.1, max_bin=256,\n",
              "                                              max_cat_threshold=64,\n",
              "                                              max_cat_to_onehot=4,\n",
              "                                              max_delta_step=0, max_depth=4,\n",
              "                                              max_leaves=0, min_child_weight=2,\n",
              "                                              missing=nan,\n",
              "                                              monotone_constraints='()',\n",
              "                                              n_estimators=200, n_jobs=-1,\n",
              "                                              num_parallel_tree=1,\n",
              "                                              predictor='auto', random_state=42, ...),\n",
              "                      n_iter=10, random_state=42, scoring='accuracy')"
            ]
          },
          "metadata": {},
          "execution_count": 47
        }
      ]
    },
    {
      "cell_type": "markdown",
      "source": [
        "`Permutation Importance`의 시각화는 다음과 같습니다."
      ],
      "metadata": {
        "id": "HuR_VeceA-tO"
      }
    },
    {
      "cell_type": "code",
      "source": [
        "# 계산된 PI값을 시각화로 살펴봅니다.\n",
        "feature_names = X_val.columns.tolist()\n",
        "\n",
        "# 시리즈로 생성합니다.\n",
        "pi = pd.Series(permuter.feature_importances_, feature_names).sort_values()\n",
        "pi.plot.barh()\n",
        "plt.title('Permutation Importance')"
      ],
      "metadata": {
        "colab": {
          "base_uri": "https://localhost:8080/",
          "height": 298
        },
        "id": "eaTlucMK-fh4",
        "outputId": "25e8ce82-d06d-4731-e90d-aa09e114ddf7"
      },
      "execution_count": 48,
      "outputs": [
        {
          "output_type": "execute_result",
          "data": {
            "text/plain": [
              "Text(0.5, 1.0, 'Permutation Importance')"
            ]
          },
          "metadata": {},
          "execution_count": 48
        },
        {
          "output_type": "display_data",
          "data": {
            "text/plain": [
              "<Figure size 432x288 with 1 Axes>"
            ],
            "image/png": "[encoded data removed]"
          },
          "metadata": {
            "needs_background": "light"
          }
        }
      ]
    },
    {
      "cell_type": "markdown",
      "source": [
        "특성별 점수는 다음과 같습니다."
      ],
      "metadata": {
        "id": "Bw9Xn5hfA2h8"
      }
    },
    {
      "cell_type": "code",
      "source": [
        "eli5.show_weights(\n",
        "    permuter,\n",
        "    top = None,\n",
        "    feature_names = feature_names,\n",
        ")"
      ],
      "metadata": {
        "colab": {
          "base_uri": "https://localhost:8080/",
          "height": 243
        },
        "id": "kmEczxPkV_DU",
        "outputId": "84472cb2-e37b-4d81-abb0-1da79cba7ad7"
      },
      "execution_count": 49,
      "outputs": [
        {
          "output_type": "execute_result",
          "data": {
            "text/plain": [
              "<IPython.core.display.HTML object>"
            ],
            "text/html": [
              "\n",
              "    <style>\n",
              "    table.eli5-weights tr:hover {\n",
              "        filter: brightness(85%);\n",
              "    }\n",
              "</style>\n",
              "\n",
              "\n",
              "\n",
              "    \n",
              "\n",
              "    \n",
              "\n",
              "    \n",
              "\n",
              "    \n",
              "\n",
              "    \n",
              "\n",
              "    \n",
              "\n",
              "\n",
              "    \n",
              "\n",
              "    \n",
              "\n",
              "    \n",
              "\n",
              "    \n",
              "\n",
              "    \n",
              "\n",
              "    \n",
              "\n",
              "\n",
              "    \n",
              "\n",
              "    \n",
              "\n",
              "    \n",
              "\n",
              "    \n",
              "\n",
              "    \n",
              "        <table class=\"eli5-weights eli5-feature-importances\" style=\"border-collapse: collapse; border: none; margin-top: 0em; table-layout: auto;\">\n",
              "    <thead>\n",
              "    <tr style=\"border: none;\">\n",
              "        <th style=\"padding: 0 1em 0 0.5em; text-align: right; border: none;\">Weight</th>\n",
              "        <th style=\"padding: 0 0.5em 0 0.5em; text-align: left; border: none;\">Feature</th>\n",
              "    </tr>\n",
              "    </thead>\n",
              "    <tbody>\n",
              "    \n",
              "        <tr style=\"background-color: hsl(120, 100.00%, 80.00%); border: none;\">\n",
              "            <td style=\"padding: 0 1em 0 0.5em; text-align: right; border: none;\">\n",
              "                0.0904\n",
              "                \n",
              "                    &plusmn; 0.0071\n",
              "                \n",
              "            </td>\n",
              "            <td style=\"padding: 0 0.5em 0 0.5em; text-align: left; border: none;\">\n",
              "                price\n",
              "            </td>\n",
              "        </tr>\n",
              "    \n",
              "        <tr style=\"background-color: hsl(120, 100.00%, 81.79%); border: none;\">\n",
              "            <td style=\"padding: 0 1em 0 0.5em; text-align: right; border: none;\">\n",
              "                0.0791\n",
              "                \n",
              "                    &plusmn; 0.0061\n",
              "                \n",
              "            </td>\n",
              "            <td style=\"padding: 0 0.5em 0 0.5em; text-align: left; border: none;\">\n",
              "                fuelType\n",
              "            </td>\n",
              "        </tr>\n",
              "    \n",
              "        <tr style=\"background-color: hsl(120, 100.00%, 84.11%); border: none;\">\n",
              "            <td style=\"padding: 0 1em 0 0.5em; text-align: right; border: none;\">\n",
              "                0.0651\n",
              "                \n",
              "                    &plusmn; 0.0101\n",
              "                \n",
              "            </td>\n",
              "            <td style=\"padding: 0 0.5em 0 0.5em; text-align: left; border: none;\">\n",
              "                year\n",
              "            </td>\n",
              "        </tr>\n",
              "    \n",
              "        <tr style=\"background-color: hsl(120, 100.00%, 94.17%); border: none;\">\n",
              "            <td style=\"padding: 0 1em 0 0.5em; text-align: right; border: none;\">\n",
              "                0.0155\n",
              "                \n",
              "                    &plusmn; 0.0065\n",
              "                \n",
              "            </td>\n",
              "            <td style=\"padding: 0 0.5em 0 0.5em; text-align: left; border: none;\">\n",
              "                mileage\n",
              "            </td>\n",
              "        </tr>\n",
              "    \n",
              "        <tr style=\"background-color: hsl(120, 100.00%, 95.78%); border: none;\">\n",
              "            <td style=\"padding: 0 1em 0 0.5em; text-align: right; border: none;\">\n",
              "                0.0098\n",
              "                \n",
              "                    &plusmn; 0.0043\n",
              "                \n",
              "            </td>\n",
              "            <td style=\"padding: 0 0.5em 0 0.5em; text-align: left; border: none;\">\n",
              "                type\n",
              "            </td>\n",
              "        </tr>\n",
              "    \n",
              "        <tr style=\"background-color: hsl(120, 100.00%, 96.42%); border: none;\">\n",
              "            <td style=\"padding: 0 1em 0 0.5em; text-align: right; border: none;\">\n",
              "                0.0077\n",
              "                \n",
              "                    &plusmn; 0.0053\n",
              "                \n",
              "            </td>\n",
              "            <td style=\"padding: 0 0.5em 0 0.5em; text-align: left; border: none;\">\n",
              "                used_year\n",
              "            </td>\n",
              "        </tr>\n",
              "    \n",
              "        <tr style=\"background-color: hsl(120, 100.00%, 97.05%); border: none;\">\n",
              "            <td style=\"padding: 0 1em 0 0.5em; text-align: right; border: none;\">\n",
              "                0.0059\n",
              "                \n",
              "                    &plusmn; 0.0059\n",
              "                \n",
              "            </td>\n",
              "            <td style=\"padding: 0 0.5em 0 0.5em; text-align: left; border: none;\">\n",
              "                model\n",
              "            </td>\n",
              "        </tr>\n",
              "    \n",
              "        <tr style=\"background-color: hsl(120, 100.00%, 97.52%); border: none;\">\n",
              "            <td style=\"padding: 0 1em 0 0.5em; text-align: right; border: none;\">\n",
              "                0.0046\n",
              "                \n",
              "                    &plusmn; 0.0016\n",
              "                \n",
              "            </td>\n",
              "            <td style=\"padding: 0 0.5em 0 0.5em; text-align: left; border: none;\">\n",
              "                size\n",
              "            </td>\n",
              "        </tr>\n",
              "    \n",
              "        <tr style=\"background-color: hsl(120, 100.00%, 97.77%); border: none;\">\n",
              "            <td style=\"padding: 0 1em 0 0.5em; text-align: right; border: none;\">\n",
              "                0.0039\n",
              "                \n",
              "                    &plusmn; 0.0016\n",
              "                \n",
              "            </td>\n",
              "            <td style=\"padding: 0 0.5em 0 0.5em; text-align: left; border: none;\">\n",
              "                transmission\n",
              "            </td>\n",
              "        </tr>\n",
              "    \n",
              "        <tr style=\"background-color: hsl(120, 100.00%, 98.31%); border: none;\">\n",
              "            <td style=\"padding: 0 1em 0 0.5em; text-align: right; border: none;\">\n",
              "                0.0027\n",
              "                \n",
              "                    &plusmn; 0.0021\n",
              "                \n",
              "            </td>\n",
              "            <td style=\"padding: 0 0.5em 0 0.5em; text-align: left; border: none;\">\n",
              "                tax\n",
              "            </td>\n",
              "        </tr>\n",
              "    \n",
              "        <tr style=\"background-color: hsl(120, 100.00%, 99.03%); border: none;\">\n",
              "            <td style=\"padding: 0 1em 0 0.5em; text-align: right; border: none;\">\n",
              "                0.0012\n",
              "                \n",
              "                    &plusmn; 0.0024\n",
              "                \n",
              "            </td>\n",
              "            <td style=\"padding: 0 0.5em 0 0.5em; text-align: left; border: none;\">\n",
              "                engineSize\n",
              "            </td>\n",
              "        </tr>\n",
              "    \n",
              "        <tr style=\"background-color: hsl(120, 100.00%, 99.50%); border: none;\">\n",
              "            <td style=\"padding: 0 1em 0 0.5em; text-align: right; border: none;\">\n",
              "                0.0005\n",
              "                \n",
              "                    &plusmn; 0.0023\n",
              "                \n",
              "            </td>\n",
              "            <td style=\"padding: 0 0.5em 0 0.5em; text-align: left; border: none;\">\n",
              "                ampy\n",
              "            </td>\n",
              "        </tr>\n",
              "    \n",
              "    \n",
              "    </tbody>\n",
              "</table>\n",
              "    \n",
              "\n",
              "    \n",
              "\n",
              "\n",
              "    \n",
              "\n",
              "    \n",
              "\n",
              "    \n",
              "\n",
              "    \n",
              "\n",
              "    \n",
              "\n",
              "    \n",
              "\n",
              "\n",
              "\n"
            ]
          },
          "metadata": {},
          "execution_count": 49
        }
      ]
    },
    {
      "cell_type": "markdown",
      "source": [
        "# 5. Individual Conditional Expectation(ICE) plot\n",
        "\n",
        "> 특정 관측치에 대하여 특정 특성값을 변화시킬 때, 모델의 예측양상이 어떻게 변하는지 파악할 수 있습니다.\n",
        "\n",
        "* 즉, ICE plot을 사용하면, 특정 관측치(데이터 포인트)에서의 특정 특성 변화에 따른 모델의 예측 양상 변화를 확인할 수 있습니다.\n",
        "\n",
        "* Feature importance의 경우, 각 특성이 예측 성능에 얼마나 영향을 주는지 쉽게 파악할 수 있으나, <br/>\n",
        "  **각 특성이 증가/감소 할 때 모델에 어떠한 영향을 주는지 알 수 없습니다..**"
      ],
      "metadata": {
        "id": "DyPYkAwLeRSh"
      }
    },
    {
      "cell_type": "code",
      "source": [
        "X_val.iloc[[3]]"
      ],
      "metadata": {
        "colab": {
          "base_uri": "https://localhost:8080/",
          "height": 80
        },
        "id": "fYx2oxTjmO5P",
        "outputId": "529584c1-a9ce-4ee0-fff5-50fd2b28b2b1"
      },
      "execution_count": 50,
      "outputs": [
        {
          "output_type": "execute_result",
          "data": {
            "text/plain": [
              "    model  year  price transmission  mileage fuelType  tax  engineSize size  \\\n",
              "248    Q5  2019  37985    Automatic       10   Diesel  145         2.0  mid   \n",
              "\n",
              "    type  used_year  ampy  \n",
              "248  suv          4   2.5  "
            ],
            "text/html": [
              "\n",
              "  <div id=\"df-73b3baf8-5d51-4dc2-925a-8e45d788da1f\">\n",
              "    <div class=\"colab-df-container\">\n",
              "      <div>\n",
              "<style scoped>\n",
              "    .dataframe tbody tr th:only-of-type {\n",
              "        vertical-align: middle;\n",
              "    }\n",
              "\n",
              "    .dataframe tbody tr th {\n",
              "        vertical-align: top;\n",
              "    }\n",
              "\n",
              "    .dataframe thead th {\n",
              "        text-align: right;\n",
              "    }\n",
              "</style>\n",
              "<table border=\"1\" class=\"dataframe\">\n",
              "  <thead>\n",
              "    <tr style=\"text-align: right;\">\n",
              "      <th></th>\n",
              "      <th>model</th>\n",
              "      <th>year</th>\n",
              "      <th>price</th>\n",
              "      <th>transmission</th>\n",
              "      <th>mileage</th>\n",
              "      <th>fuelType</th>\n",
              "      <th>tax</th>\n",
              "      <th>engineSize</th>\n",
              "      <th>size</th>\n",
              "      <th>type</th>\n",
              "      <th>used_year</th>\n",
              "      <th>ampy</th>\n",
              "    </tr>\n",
              "  </thead>\n",
              "  <tbody>\n",
              "    <tr>\n",
              "      <th>248</th>\n",
              "      <td>Q5</td>\n",
              "      <td>2019</td>\n",
              "      <td>37985</td>\n",
              "      <td>Automatic</td>\n",
              "      <td>10</td>\n",
              "      <td>Diesel</td>\n",
              "      <td>145</td>\n",
              "      <td>2.0</td>\n",
              "      <td>mid</td>\n",
              "      <td>suv</td>\n",
              "      <td>4</td>\n",
              "      <td>2.5</td>\n",
              "    </tr>\n",
              "  </tbody>\n",
              "</table>\n",
              "</div>\n",
              "      <button class=\"colab-df-convert\" onclick=\"convertToInteractive('df-73b3baf8-5d51-4dc2-925a-8e45d788da1f')\"\n",
              "              title=\"Convert this dataframe to an interactive table.\"\n",
              "              style=\"display:none;\">\n",
              "        \n",
              "  <svg xmlns=\"http://www.w3.org/2000/svg\" height=\"24px\"viewBox=\"0 0 24 24\"\n",
              "       width=\"24px\">\n",
              "    <path d=\"M0 0h24v24H0V0z\" fill=\"none\"/>\n",
              "    <path d=\"M18.56 5.44l.94 2.06.94-2.06 2.06-.94-2.06-.94-.94-2.06-.94 2.06-2.06.94zm-11 1L8.5 8.5l.94-2.06 2.06-.94-2.06-.94L8.5 2.5l-.94 2.06-2.06.94zm10 10l.94 2.06.94-2.06 2.06-.94-2.06-.94-.94-2.06-.94 2.06-2.06.94z\"/><path d=\"M17.41 7.96l-1.37-1.37c-.4-.4-.92-.59-1.43-.59-.52 0-1.04.2-1.43.59L10.3 9.45l-7.72 7.72c-.78.78-.78 2.05 0 2.83L4 21.41c.39.39.9.59 1.41.59.51 0 1.02-.2 1.41-.59l7.78-7.78 2.81-2.81c.8-.78.8-2.07 0-2.86zM5.41 20L4 18.59l7.72-7.72 1.47 1.35L5.41 20z\"/>\n",
              "  </svg>\n",
              "      </button>\n",
              "      \n",
              "  <style>\n",
              "    .colab-df-container {\n",
              "      display:flex;\n",
              "      flex-wrap:wrap;\n",
              "      gap: 12px;\n",
              "    }\n",
              "\n",
              "    .colab-df-convert {\n",
              "      background-color: #E8F0FE;\n",
              "      border: none;\n",
              "      border-radius: 50%;\n",
              "      cursor: pointer;\n",
              "      display: none;\n",
              "      fill: #1967D2;\n",
              "      height: 32px;\n",
              "      padding: 0 0 0 0;\n",
              "      width: 32px;\n",
              "    }\n",
              "\n",
              "    .colab-df-convert:hover {\n",
              "      background-color: #E2EBFA;\n",
              "      box-shadow: 0px 1px 2px rgba(60, 64, 67, 0.3), 0px 1px 3px 1px rgba(60, 64, 67, 0.15);\n",
              "      fill: #174EA6;\n",
              "    }\n",
              "\n",
              "    [theme=dark] .colab-df-convert {\n",
              "      background-color: #3B4455;\n",
              "      fill: #D2E3FC;\n",
              "    }\n",
              "\n",
              "    [theme=dark] .colab-df-convert:hover {\n",
              "      background-color: #434B5C;\n",
              "      box-shadow: 0px 1px 3px 1px rgba(0, 0, 0, 0.15);\n",
              "      filter: drop-shadow(0px 1px 2px rgba(0, 0, 0, 0.3));\n",
              "      fill: #FFFFFF;\n",
              "    }\n",
              "  </style>\n",
              "\n",
              "      <script>\n",
              "        const buttonEl =\n",
              "          document.querySelector('#df-73b3baf8-5d51-4dc2-925a-8e45d788da1f button.colab-df-convert');\n",
              "        buttonEl.style.display =\n",
              "          google.colab.kernel.accessAllowed ? 'block' : 'none';\n",
              "\n",
              "        async function convertToInteractive(key) {\n",
              "          const element = document.querySelector('#df-73b3baf8-5d51-4dc2-925a-8e45d788da1f');\n",
              "          const dataTable =\n",
              "            await google.colab.kernel.invokeFunction('convertToInteractive',\n",
              "                                                     [key], {});\n",
              "          if (!dataTable) return;\n",
              "\n",
              "          const docLinkHtml = 'Like what you see? Visit the ' +\n",
              "            '<a target=\"_blank\" href=https://colab.research.google.com/notebooks/data_table.ipynb>data table notebook</a>'\n",
              "            + ' to learn more about interactive tables.';\n",
              "          element.innerHTML = '';\n",
              "          dataTable['output_type'] = 'display_data';\n",
              "          await google.colab.output.renderOutput(dataTable, element);\n",
              "          const docLink = document.createElement('div');\n",
              "          docLink.innerHTML = docLinkHtml;\n",
              "          element.appendChild(docLink);\n",
              "        }\n",
              "      </script>\n",
              "    </div>\n",
              "  </div>\n",
              "  "
            ]
          },
          "metadata": {},
          "execution_count": 50
        }
      ]
    },
    {
      "cell_type": "markdown",
      "source": [
        "예측 양상의 변화를 확인하고자 하는 데이터는 위의 내용과 같습니다. <br/>\n",
        "**차량의 연식이 바뀔수록 모델이 어떻게 예측을 달리하는지 확인하여 봅시다.**\n"
      ],
      "metadata": {
        "id": "dxEUG4ROmsoT"
      }
    },
    {
      "cell_type": "code",
      "source": [
        "# 변화를 확인하고자 하는 데이터를 복사합니다.\n",
        "one_datapoint = X_val_encoded.iloc[[3]].copy()\n",
        "\n",
        "# 세 번째 데이터의 컬럼 `year`를 데이터셋에 존재하는 연도(최대 및 최소)로 바꿔줍시다.\n",
        "year_test_range = range(X_val_encoded['year'].min(), X_val_encoded['year'].max()+1)\n",
        "\n",
        "# 빈 리스트 생성.\n",
        "results = []\n",
        "\n",
        "\n",
        "# 오래된 연도에서, 가장 최근 연도까지 진행합니다.\n",
        "for year in year_test_range:\n",
        "  one_datapoint['year'] = year\n",
        "\n",
        "  # year값이 변경되며 예상되는 확률 /numpy.ndarray 타입\n",
        "  one_datapoint_pred_proba = pipe.named_steps['xgbclassifier'].predict_proba(one_datapoint)[:,1] \n",
        "\n",
        "  # item()으로 인해 '값:소수'만 추가됩니다  \n",
        "  results.append(one_datapoint_pred_proba.item()) \n",
        "\n",
        "#numpy.ndarray으로 변환됩니다.\n",
        "results = np.array(results)\n",
        "\n",
        "# 가장 오래된 연식일 때, 모델 예측 확률로부터의 변화값을 살펴봅니다.\n",
        "results -= results[0] "
      ],
      "metadata": {
        "id": "F_grZ6cT1Ha5"
      },
      "execution_count": 51,
      "outputs": []
    },
    {
      "cell_type": "code",
      "source": [
        "# 시각화를 진행합니다.\n",
        "plt.plot(year_test_range, results)\n",
        "\n",
        "plt.xlabel('year')\n",
        "plt.ylabel(\"$\\Delta$ pred_proba\")"
      ],
      "metadata": {
        "colab": {
          "base_uri": "https://localhost:8080/",
          "height": 296
        },
        "id": "bYkNWIOs-2pc",
        "outputId": "62c6ebef-beda-41fd-8af9-2433084cedee"
      },
      "execution_count": 52,
      "outputs": [
        {
          "output_type": "execute_result",
          "data": {
            "text/plain": [
              "Text(0, 0.5, '$\\\\Delta$ pred_proba')"
            ]
          },
          "metadata": {},
          "execution_count": 52
        },
        {
          "output_type": "display_data",
          "data": {
            "text/plain": [
              "<Figure size 432x288 with 1 Axes>"
            ],
            "image/png": "[encoded data removed]"
          },
          "metadata": {
            "needs_background": "light"
          }
        }
      ]
    },
    {
      "cell_type": "markdown",
      "source": [
        "차량모델 'Q5'는 2014~2017년에 출고된 차량은 뱃지를 받을 확률이 적었습니다.<br/> 2018년의 모델이 뱃지를 받을 확률이 가장 높으며 2019년 형은 10% 감소, 2020년 형은 소폭 감소하였습니다.  \n",
        "\n",
        "🔔 다른 특성을 갖고 있는 차량 또한 위와 같이 분석하는지 확인하여 봅시다. "
      ],
      "metadata": {
        "id": "fSvseht6AIJa"
      }
    },
    {
      "cell_type": "code",
      "source": [
        "from xgboost.sklearn import XGBRFClassifier\n",
        "# 원하는 피처의 해당 범위내의 값을 변경시, 모델의 예측 양상의 변화를 확인하는 함수를 작성합니다.\n",
        "def get_ice_plot_data(model,data, data_index, target_feature, target_feature_range):\n",
        "\n",
        "  # 살펴볼 데이터를 복사합니다.\n",
        "  one_data_point = data.iloc[[data_index]].copy()\n",
        "\n",
        "  # 결과를 담을 빈 리스트를 생성합니다.\n",
        "  results = []\n",
        "\n",
        "  # 해당 타겟의 범위로부터 타겟값을 변경합니다. (for문)\n",
        "  for target_value in target_feature_range:\n",
        "\n",
        "    # 해당 타겟 값은 target_value 값으로 변경됩니다.\n",
        "    one_data_point[target_feature] = target_value\n",
        "    \n",
        "    # 생성한 모델이 xgbclassifier 인 경우\n",
        "    if isinstance(model, XGBClassifier):\n",
        "      one_data_point_pred_proba = model.predict_proba(one_data_point)[:,1]\n",
        "      results.append(one_data_point_pred_proba.item())\n",
        "    \n",
        "    else :\n",
        "      one_data_point_pred_proba = model.named_steps['xgbclassifier'].predict_proba(one_data_point)[:,1]\n",
        "      results.append(one_data_point_pred_proba.item())\n",
        "    \n",
        "  results = np.array(results)\n",
        "  return target_feature_range, results - results[0]\n"
      ],
      "metadata": {
        "id": "jClSlkLQrXL-"
      },
      "execution_count": 53,
      "outputs": []
    },
    {
      "cell_type": "markdown",
      "source": [
        "임의의 여러개 데이터(행)을 지정하고, 예측 확률로부터의 변화값을 시각화합니다.\n",
        "* 모델은 다른차량이면 좋겠습니다."
      ],
      "metadata": {
        "id": "AMacgURzWwds"
      }
    },
    {
      "cell_type": "code",
      "source": [
        "# 생성한 함수를 이용하여 데이터를 시각화합니다. 16, 31, 64, 87행을 살펴봅니다.\n",
        "\n",
        "# 살펴볼 피처 지정 : year\n",
        "target_feature = 'year'\n",
        "\n",
        "target_feature_range = range(X_val_encoded['year'].min(), X_val_encoded['year'].max()+1)\n",
        "\n",
        "\n",
        "# 살펴볼 데이터(행)는 다음과 같습니다. 16, 31, 64, 87\n",
        "for data_index in [16, 31, 64, 87]:\n",
        "  plt.plot(*get_ice_plot_data(\n",
        "      pipe, X_val_encoded, data_index, target_feature, target_feature_range),\n",
        "      label = f'data_idx = {data_index}')\n",
        "\n",
        "plt.xlabel(target_feature)\n",
        "plt.ylabel(\"$\\Delta$ pred_proba\")\n",
        "plt.legend()"
      ],
      "metadata": {
        "colab": {
          "base_uri": "https://localhost:8080/",
          "height": 296
        },
        "id": "dlhIU90H0jcc",
        "outputId": "c882d29b-fd91-4e0b-94fb-ff73512aef1c"
      },
      "execution_count": 54,
      "outputs": [
        {
          "output_type": "execute_result",
          "data": {
            "text/plain": [
              "<matplotlib.legend.Legend at 0x7f0fbc63ac70>"
            ]
          },
          "metadata": {},
          "execution_count": 54
        },
        {
          "output_type": "display_data",
          "data": {
            "text/plain": [
              "<Figure size 432x288 with 1 Axes>"
            ],
            "image/png": "[encoded data removed]"
          },
          "metadata": {
            "needs_background": "light"
          }
        }
      ]
    },
    {
      "cell_type": "code",
      "source": [
        "X_val.iloc[[87]]"
      ],
      "metadata": {
        "colab": {
          "base_uri": "https://localhost:8080/",
          "height": 80
        },
        "id": "vAYgRe47emo0",
        "outputId": "bfffed51-8cfb-41e9-ca3f-04a063204334"
      },
      "execution_count": 55,
      "outputs": [
        {
          "output_type": "execute_result",
          "data": {
            "text/plain": [
              "    model  year  price transmission  mileage fuelType  tax  engineSize  \\\n",
              "258   RS6  2015  46000    Semi-Auto    20982   Petrol  325         4.0   \n",
              "\n",
              "        size   type  used_year    ampy  \n",
              "258  subfull  wagon          8  2622.8  "
            ],
            "text/html": [
              "\n",
              "  <div id=\"df-35a3752d-3ee7-4a87-8e83-1d7c439fcb7b\">\n",
              "    <div class=\"colab-df-container\">\n",
              "      <div>\n",
              "<style scoped>\n",
              "    .dataframe tbody tr th:only-of-type {\n",
              "        vertical-align: middle;\n",
              "    }\n",
              "\n",
              "    .dataframe tbody tr th {\n",
              "        vertical-align: top;\n",
              "    }\n",
              "\n",
              "    .dataframe thead th {\n",
              "        text-align: right;\n",
              "    }\n",
              "</style>\n",
              "<table border=\"1\" class=\"dataframe\">\n",
              "  <thead>\n",
              "    <tr style=\"text-align: right;\">\n",
              "      <th></th>\n",
              "      <th>model</th>\n",
              "      <th>year</th>\n",
              "      <th>price</th>\n",
              "      <th>transmission</th>\n",
              "      <th>mileage</th>\n",
              "      <th>fuelType</th>\n",
              "      <th>tax</th>\n",
              "      <th>engineSize</th>\n",
              "      <th>size</th>\n",
              "      <th>type</th>\n",
              "      <th>used_year</th>\n",
              "      <th>ampy</th>\n",
              "    </tr>\n",
              "  </thead>\n",
              "  <tbody>\n",
              "    <tr>\n",
              "      <th>258</th>\n",
              "      <td>RS6</td>\n",
              "      <td>2015</td>\n",
              "      <td>46000</td>\n",
              "      <td>Semi-Auto</td>\n",
              "      <td>20982</td>\n",
              "      <td>Petrol</td>\n",
              "      <td>325</td>\n",
              "      <td>4.0</td>\n",
              "      <td>subfull</td>\n",
              "      <td>wagon</td>\n",
              "      <td>8</td>\n",
              "      <td>2622.8</td>\n",
              "    </tr>\n",
              "  </tbody>\n",
              "</table>\n",
              "</div>\n",
              "      <button class=\"colab-df-convert\" onclick=\"convertToInteractive('df-35a3752d-3ee7-4a87-8e83-1d7c439fcb7b')\"\n",
              "              title=\"Convert this dataframe to an interactive table.\"\n",
              "              style=\"display:none;\">\n",
              "        \n",
              "  <svg xmlns=\"http://www.w3.org/2000/svg\" height=\"24px\"viewBox=\"0 0 24 24\"\n",
              "       width=\"24px\">\n",
              "    <path d=\"M0 0h24v24H0V0z\" fill=\"none\"/>\n",
              "    <path d=\"M18.56 5.44l.94 2.06.94-2.06 2.06-.94-2.06-.94-.94-2.06-.94 2.06-2.06.94zm-11 1L8.5 8.5l.94-2.06 2.06-.94-2.06-.94L8.5 2.5l-.94 2.06-2.06.94zm10 10l.94 2.06.94-2.06 2.06-.94-2.06-.94-.94-2.06-.94 2.06-2.06.94z\"/><path d=\"M17.41 7.96l-1.37-1.37c-.4-.4-.92-.59-1.43-.59-.52 0-1.04.2-1.43.59L10.3 9.45l-7.72 7.72c-.78.78-.78 2.05 0 2.83L4 21.41c.39.39.9.59 1.41.59.51 0 1.02-.2 1.41-.59l7.78-7.78 2.81-2.81c.8-.78.8-2.07 0-2.86zM5.41 20L4 18.59l7.72-7.72 1.47 1.35L5.41 20z\"/>\n",
              "  </svg>\n",
              "      </button>\n",
              "      \n",
              "  <style>\n",
              "    .colab-df-container {\n",
              "      display:flex;\n",
              "      flex-wrap:wrap;\n",
              "      gap: 12px;\n",
              "    }\n",
              "\n",
              "    .colab-df-convert {\n",
              "      background-color: #E8F0FE;\n",
              "      border: none;\n",
              "      border-radius: 50%;\n",
              "      cursor: pointer;\n",
              "      display: none;\n",
              "      fill: #1967D2;\n",
              "      height: 32px;\n",
              "      padding: 0 0 0 0;\n",
              "      width: 32px;\n",
              "    }\n",
              "\n",
              "    .colab-df-convert:hover {\n",
              "      background-color: #E2EBFA;\n",
              "      box-shadow: 0px 1px 2px rgba(60, 64, 67, 0.3), 0px 1px 3px 1px rgba(60, 64, 67, 0.15);\n",
              "      fill: #174EA6;\n",
              "    }\n",
              "\n",
              "    [theme=dark] .colab-df-convert {\n",
              "      background-color: #3B4455;\n",
              "      fill: #D2E3FC;\n",
              "    }\n",
              "\n",
              "    [theme=dark] .colab-df-convert:hover {\n",
              "      background-color: #434B5C;\n",
              "      box-shadow: 0px 1px 3px 1px rgba(0, 0, 0, 0.15);\n",
              "      filter: drop-shadow(0px 1px 2px rgba(0, 0, 0, 0.3));\n",
              "      fill: #FFFFFF;\n",
              "    }\n",
              "  </style>\n",
              "\n",
              "      <script>\n",
              "        const buttonEl =\n",
              "          document.querySelector('#df-35a3752d-3ee7-4a87-8e83-1d7c439fcb7b button.colab-df-convert');\n",
              "        buttonEl.style.display =\n",
              "          google.colab.kernel.accessAllowed ? 'block' : 'none';\n",
              "\n",
              "        async function convertToInteractive(key) {\n",
              "          const element = document.querySelector('#df-35a3752d-3ee7-4a87-8e83-1d7c439fcb7b');\n",
              "          const dataTable =\n",
              "            await google.colab.kernel.invokeFunction('convertToInteractive',\n",
              "                                                     [key], {});\n",
              "          if (!dataTable) return;\n",
              "\n",
              "          const docLinkHtml = 'Like what you see? Visit the ' +\n",
              "            '<a target=\"_blank\" href=https://colab.research.google.com/notebooks/data_table.ipynb>data table notebook</a>'\n",
              "            + ' to learn more about interactive tables.';\n",
              "          element.innerHTML = '';\n",
              "          dataTable['output_type'] = 'display_data';\n",
              "          await google.colab.output.renderOutput(dataTable, element);\n",
              "          const docLink = document.createElement('div');\n",
              "          docLink.innerHTML = docLinkHtml;\n",
              "          element.appendChild(docLink);\n",
              "        }\n",
              "      </script>\n",
              "    </div>\n",
              "  </div>\n",
              "  "
            ]
          },
          "metadata": {},
          "execution_count": 55
        }
      ]
    },
    {
      "cell_type": "markdown",
      "source": [
        "> 차량의 연도가 달라지면, 모델은 뱃지를 받을 수 있는 차량에 대한 연도의 영향력을 각기 다르게 평가합니다. \n",
        "\n",
        "* 특이점이 존재합니다. `87번 행: (차량)RS6` 은  차량의 연식에 관계없이 일정한 값을 유지하고 있습니다.\n",
        "  * 차량의 값이 크게 유지되는 경우, 주로 고가의 차량이 가격방어가 비교적 높기에 출고가가 높은 차임을 유추할 수 있다."
      ],
      "metadata": {
        "id": "Rithl3Br7uu9"
      }
    },
    {
      "cell_type": "markdown",
      "source": [
        "# 6. Partial Dependence Plot (PDP)\n",
        "\n",
        "* ICE plot을 사용하면, 특정 데이터에 대하여 특성의 변화에 따른 모델의 예측 양상 변화를 살펴볼 수 있었습니다.\n",
        "* 하지만, 하나의 ICE plot을 그려본 후, 모델이 해당 특성에 대하여 전반적으로 어떻게 분석하고 이해하고 있는지 판단할 수 없습니다.\n",
        "  * 위에서도 본 것과 같이 다른 특성을 가진 차량에 대하여 모델은 `year` 특성의 영향력을 다르게 평가합니다. "
      ],
      "metadata": {
        "id": "qLIubW3IeJjT"
      }
    },
    {
      "cell_type": "markdown",
      "source": [
        "**PDP를 사용한다면 <u>해당 특성에 대하여 모델의 전반적인 이해방식을 살펴볼 수 있습니다</u>❗**\n",
        "  * PDP는 입력 데이터들에 대한 ICE plot의 평균으로 구할 수 있습니다."
      ],
      "metadata": {
        "id": "0nWy2gPkeP-z"
      }
    },
    {
      "cell_type": "code",
      "source": [
        "# 진행률을 확인할 수 있는 라이브러리 입니다.\n",
        "from tqdm import tqdm\n",
        "\n",
        "target_feature = 'year'\n",
        "target_feature_range = [2014, 2015, 2016, 2017, 2018, 2019, 2020, 2021, 2022]\n",
        "\n",
        "# 결과값을 넣을 빈 리스트를 생성합니다.\n",
        "all_ice_plot_data = []\n",
        "\n",
        "\n",
        "# 지정한 범위를 이용하여 ICE plot 데이터를 계산합니다 / tqdm() 안에 진행률을 확인하고 싶은 것을 넣습니다.\n",
        "for data_index in tqdm(range(len(X_val_encoded))):\n",
        "\n",
        "  \n",
        "  all_ice_plot_data.append(\n",
        "      \n",
        "      # 범위 값을 제외한 결과값만 리스트로 수집합니다.\n",
        "      get_ice_plot_data(pipe, X_val_encoded, data_index, target_feature, target_feature_range)[1]\n",
        "  )\n"
      ],
      "metadata": {
        "colab": {
          "base_uri": "https://localhost:8080/"
        },
        "id": "MzaHJ1dBhcLL",
        "outputId": "060d2830-08b7-408b-8de9-635aaf052700"
      },
      "execution_count": 56,
      "outputs": [
        {
          "output_type": "stream",
          "name": "stderr",
          "text": [
            "100%|██████████| 2337/2337 [01:01<00:00, 38.21it/s]\n"
          ]
        }
      ]
    },
    {
      "cell_type": "code",
      "source": [
        "# 결과 값을 담은 리스트 데이터 타입을 변경합니다. -> numpy.adarray\n",
        "all_ice_plot_data = np.array(all_ice_plot_data)\n",
        "print(all_ice_plot_data.shape)\n",
        "\n",
        "# 2337개의 Ice plot data를 0번째(data index) 축으로 평균합니다.\n",
        "pdp_data = all_ice_plot_data.mean(0)\n",
        "print(pdp_data.shape)\n",
        "\n",
        "# PDP(평균 ICE Plot) data를 시각화하여 봅시다.\n",
        "plt.plot(target_feature_range, pdp_data)\n",
        "plt.xlabel(target_feature)\n",
        "plt.ylabel('AVG ($\\Delta$ pred_proba)')\n",
        "plt.show()"
      ],
      "metadata": {
        "colab": {
          "base_uri": "https://localhost:8080/",
          "height": 314
        },
        "id": "gB2S-Ca1gZOy",
        "outputId": "48d531f0-1042-4365-edff-8874419456d8"
      },
      "execution_count": 57,
      "outputs": [
        {
          "output_type": "stream",
          "name": "stdout",
          "text": [
            "(2337, 9)\n",
            "(9,)\n"
          ]
        },
        {
          "output_type": "display_data",
          "data": {
            "text/plain": [
              "<Figure size 432x288 with 1 Axes>"
            ],
            "image/png": "[encoded data removed]"
          },
          "metadata": {
            "needs_background": "light"
          }
        }
      ]
    },
    {
      "cell_type": "markdown",
      "source": [
        "> 모델은 평균적으로 2018년도의 차량이 배지를 받을 확률이 높다고 예측합니다.\n",
        "\n",
        "* 이후의 연도는 뱃지를 받을 확률이 15% 정도 떨어집니다.\n",
        "\n"
      ],
      "metadata": {
        "id": "nDusSwHrgx2r"
      }
    },
    {
      "cell_type": "markdown",
      "source": [],
      "metadata": {
        "id": "QRVsbg1hjBS9"
      }
    },
    {
      "cell_type": "markdown",
      "source": [
        "**PDP 사용시 주의점** ❗\n",
        "**서로 강한 상관관계가 존재하는 컬럼에서는 비현실적인 데이터로 값을 예측**하게 됩니다.\n",
        "\n",
        "* 우리가 알아보고자하는 변화량의 특성은 `year` 입니다. 이 특성은 `\n",
        "used_year`과 큰 상관관계를 갖고 있습니다."
      ],
      "metadata": {
        "id": "J5HjayG5gqiN"
      }
    },
    {
      "cell_type": "code",
      "source": [
        "#pdpbox 라이브러리 오류로 matplotlib를 삭제후 재설치를 진행합니다.\n",
        "!pip uninstall matplotlib\n",
        "!pip install matplotlib"
      ],
      "metadata": {
        "colab": {
          "base_uri": "https://localhost:8080/"
        },
        "id": "F6dTwifM7Kg7",
        "outputId": "25bb60be-d07d-495d-9ebb-9f7b266a3cd9"
      },
      "execution_count": 58,
      "outputs": [
        {
          "output_type": "stream",
          "name": "stdout",
          "text": [
            "Found existing installation: matplotlib 3.1.1\n",
            "Uninstalling matplotlib-3.1.1:\n",
            "  Would remove:\n",
            "    /usr/local/lib/python3.9/dist-packages/matplotlib-3.1.1-py3.9-nspkg.pth\n",
            "    /usr/local/lib/python3.9/dist-packages/matplotlib-3.1.1.dist-info/*\n",
            "    /usr/local/lib/python3.9/dist-packages/matplotlib/*\n",
            "    /usr/local/lib/python3.9/dist-packages/mpl_toolkits/axes_grid/*\n",
            "    /usr/local/lib/python3.9/dist-packages/mpl_toolkits/axes_grid1/*\n",
            "    /usr/local/lib/python3.9/dist-packages/mpl_toolkits/axisartist/*\n",
            "    /usr/local/lib/python3.9/dist-packages/mpl_toolkits/mplot3d/*\n",
            "    /usr/local/lib/python3.9/dist-packages/pylab.py\n",
            "Proceed (Y/n)? y\n",
            "  Successfully uninstalled matplotlib-3.1.1\n",
            "Looking in indexes: https://pypi.org/simple, https://us-python.pkg.dev/colab-wheels/public/simple/\n",
            "Collecting matplotlib\n",
            "  Using cached matplotlib-3.7.1-cp39-cp39-manylinux_2_17_x86_64.manylinux2014_x86_64.whl (11.6 MB)\n",
            "Requirement already satisfied: kiwisolver>=1.0.1 in /usr/local/lib/python3.9/dist-packages (from matplotlib) (1.4.4)\n",
            "Requirement already satisfied: pillow>=6.2.0 in /usr/local/lib/python3.9/dist-packages (from matplotlib) (8.4.0)\n",
            "Requirement already satisfied: pyparsing>=2.3.1 in /usr/local/lib/python3.9/dist-packages (from matplotlib) (3.0.9)\n",
            "Requirement already satisfied: numpy>=1.20 in /usr/local/lib/python3.9/dist-packages (from matplotlib) (1.22.4)\n",
            "Requirement already satisfied: contourpy>=1.0.1 in /usr/local/lib/python3.9/dist-packages (from matplotlib) (1.0.7)\n",
            "Requirement already satisfied: fonttools>=4.22.0 in /usr/local/lib/python3.9/dist-packages (from matplotlib) (4.39.0)\n",
            "Requirement already satisfied: python-dateutil>=2.7 in /usr/local/lib/python3.9/dist-packages (from matplotlib) (2.8.2)\n",
            "Requirement already satisfied: importlib-resources>=3.2.0 in /usr/local/lib/python3.9/dist-packages (from matplotlib) (5.12.0)\n",
            "Requirement already satisfied: packaging>=20.0 in /usr/local/lib/python3.9/dist-packages (from matplotlib) (23.0)\n",
            "Requirement already satisfied: cycler>=0.10 in /usr/local/lib/python3.9/dist-packages (from matplotlib) (0.11.0)\n",
            "Requirement already satisfied: zipp>=3.1.0 in /usr/local/lib/python3.9/dist-packages (from importlib-resources>=3.2.0->matplotlib) (3.15.0)\n",
            "Requirement already satisfied: six>=1.5 in /usr/local/lib/python3.9/dist-packages (from python-dateutil>=2.7->matplotlib) (1.15.0)\n",
            "Installing collected packages: matplotlib\n",
            "\u001b[31mERROR: pip's dependency resolver does not currently take into account all the packages that are installed. This behaviour is the source of the following dependency conflicts.\n",
            "pdpbox 0.2.1 requires matplotlib==3.1.1, but you have matplotlib 3.7.1 which is incompatible.\u001b[0m\u001b[31m\n",
            "\u001b[0mSuccessfully installed matplotlib-3.7.1\n"
          ]
        }
      ]
    },
    {
      "cell_type": "code",
      "source": [
        "import matplotlib as mpl\n",
        "import matplotlib.font_manager as fm\n",
        "\n",
        "\n",
        "\n",
        "print ('버전: ', mpl.__version__)\n",
        "print ('설치 위치: ', mpl.__file__)\n",
        "print ('설정 위치: ', mpl.get_configdir())\n",
        "print ('캐시 위치: ', mpl.get_cachedir())"
      ],
      "metadata": {
        "id": "gq3_-9L2cmkQ",
        "outputId": "5a6f5270-e534-4987-cc3b-ca614649eec3",
        "colab": {
          "base_uri": "https://localhost:8080/"
        }
      },
      "execution_count": 59,
      "outputs": [
        {
          "output_type": "stream",
          "name": "stdout",
          "text": [
            "버전:  3.7.1\n",
            "설치 위치:  /usr/local/lib/python3.9/dist-packages/matplotlib/__init__.py\n",
            "설정 위치:  /root/.config/matplotlib\n",
            "캐시 위치:  /root/.cache/matplotlib\n"
          ]
        }
      ]
    },
    {
      "cell_type": "code",
      "source": [
        "print ('설정파일 위치: ', mpl.matplotlib_fname())\n"
      ],
      "metadata": {
        "id": "bkO193K-csIa",
        "outputId": "f82f504a-636a-4c06-df23-8aa2f184a4a2",
        "colab": {
          "base_uri": "https://localhost:8080/"
        }
      },
      "execution_count": 60,
      "outputs": [
        {
          "output_type": "stream",
          "name": "stdout",
          "text": [
            "설정파일 위치:  /usr/local/lib/python3.9/dist-packages/matplotlib/mpl-data/matplotlibrc\n"
          ]
        }
      ]
    },
    {
      "cell_type": "code",
      "source": [
        "font_list = fm.findSystemFonts(fontpaths=None, fontext='ttf')\n",
        "\n",
        "# ttf 폰트 전체갯수\n",
        "print(len(font_list)) "
      ],
      "metadata": {
        "id": "7yvlfuX5c2CC",
        "outputId": "d9f6b3c0-c13c-4d6a-b462-711ed45677e6",
        "colab": {
          "base_uri": "https://localhost:8080/"
        }
      },
      "execution_count": 61,
      "outputs": [
        {
          "output_type": "stream",
          "name": "stdout",
          "text": [
            "17\n"
          ]
        }
      ]
    },
    {
      "cell_type": "code",
      "source": [
        "font_list"
      ],
      "metadata": {
        "id": "dMKi75z-c_Hy",
        "outputId": "7bab4932-988f-4223-8958-0a33bf6937f3",
        "colab": {
          "base_uri": "https://localhost:8080/"
        }
      },
      "execution_count": 62,
      "outputs": [
        {
          "output_type": "execute_result",
          "data": {
            "text/plain": [
              "['/usr/share/fonts/truetype/liberation/LiberationSerif-Italic.ttf',\n",
              " '/usr/share/fonts/truetype/liberation/LiberationSansNarrow-Italic.ttf',\n",
              " '/usr/share/fonts/truetype/humor-sans/Humor-Sans.ttf',\n",
              " '/usr/share/fonts/truetype/liberation/LiberationSans-Regular.ttf',\n",
              " '/usr/share/fonts/truetype/liberation/LiberationMono-BoldItalic.ttf',\n",
              " '/usr/share/fonts/truetype/liberation/LiberationMono-Italic.ttf',\n",
              " '/usr/share/fonts/truetype/liberation/LiberationSans-BoldItalic.ttf',\n",
              " '/usr/share/fonts/truetype/liberation/LiberationSerif-BoldItalic.ttf',\n",
              " '/usr/share/fonts/truetype/liberation/LiberationSans-Bold.ttf',\n",
              " '/usr/share/fonts/truetype/liberation/LiberationSans-Italic.ttf',\n",
              " '/usr/share/fonts/truetype/liberation/LiberationMono-Bold.ttf',\n",
              " '/usr/share/fonts/truetype/liberation/LiberationSansNarrow-Bold.ttf',\n",
              " '/usr/share/fonts/truetype/liberation/LiberationSerif-Regular.ttf',\n",
              " '/usr/share/fonts/truetype/liberation/LiberationSansNarrow-Regular.ttf',\n",
              " '/usr/share/fonts/truetype/liberation/LiberationSerif-Bold.ttf',\n",
              " '/usr/share/fonts/truetype/liberation/LiberationSansNarrow-BoldItalic.ttf',\n",
              " '/usr/share/fonts/truetype/liberation/LiberationMono-Regular.ttf']"
            ]
          },
          "metadata": {},
          "execution_count": 62
        }
      ]
    },
    {
      "cell_type": "code",
      "source": [
        "f = [f.name for f in fm.fontManager.ttflist]\n",
        "f[:10]"
      ],
      "metadata": {
        "id": "U1DSJRxedPPF",
        "outputId": "7512feb7-4ef1-4873-a065-bc4f533d386b",
        "colab": {
          "base_uri": "https://localhost:8080/"
        }
      },
      "execution_count": 63,
      "outputs": [
        {
          "output_type": "execute_result",
          "data": {
            "text/plain": [
              "['DejaVu Sans Mono',\n",
              " 'STIXGeneral',\n",
              " 'STIXSizeTwoSym',\n",
              " 'STIXSizeTwoSym',\n",
              " 'cmex10',\n",
              " 'cmtt10',\n",
              " 'DejaVu Sans',\n",
              " 'DejaVu Sans',\n",
              " 'STIXSizeThreeSym',\n",
              " 'cmsy10']"
            ]
          },
          "metadata": {},
          "execution_count": 63
        }
      ]
    },
    {
      "cell_type": "code",
      "source": [
        "plt.rcParams[\"font.family\"] =  'DejaVu Sans'\n"
      ],
      "metadata": {
        "id": "jVNgD-NBdvgi"
      },
      "execution_count": 73,
      "outputs": []
    },
    {
      "cell_type": "code",
      "source": [
        "# 필요한 라이브러리를 가져옵니다,\n",
        "import matplotlib.pyplot as plt \n",
        "from pdpbox.pdp import pdp_isolate, pdp_plot\n",
        "\n",
        "#dpi(dots per inch) 수치를 조절하여 이미지 화질을 조정할 수 있다.\n",
        "plt.rcParams[\"figure.dpi\"] = 144\n",
        "\n",
        "# 살펴볼 타겟피처를 지정합니다.\n",
        "target_feature = 'year'\n",
        "\n",
        "# pdpbox 라이브러리의 pdp_isolate를 사용한다면 하나의 특성에 대한 PDP를 시각화 할 수 있다.\n",
        "isolated = pdp_isolate(\n",
        "    model = pipe.named_steps['xgbclassifier'],\n",
        "    dataset = X_val_encoded,\n",
        "    model_features = X_val.columns,\n",
        "    feature = target_feature,\n",
        "    grid_type = 'percentile',\n",
        "    num_grid_points = 10,\n",
        ")\n",
        "\n",
        "pdp_plot(isolated, feature_name = target_feature)"
      ],
      "metadata": {
        "colab": {
          "base_uri": "https://localhost:8080/",
          "height": 1000
        },
        "id": "k-dQo39h6rm5",
        "outputId": "1c54dc2e-0945-4ab2-c70d-d79aa47f85d8"
      },
      "execution_count": 74,
      "outputs": [
        {
          "output_type": "execute_result",
          "data": {
            "text/plain": [
              "(<Figure size 2160x1368 with 2 Axes>,\n",
              " {'title_ax': <Axes: >, 'pdp_ax': <Axes: xlabel='year'>})"
            ]
          },
          "metadata": {},
          "execution_count": 74
        },
        {
          "output_type": "stream",
          "name": "stderr",
          "text": [
            "WARNING:matplotlib.font_manager:findfont: Font family 'Arial' not found.\n",
            "WARNING:matplotlib.font_manager:findfont: Font family 'Arial' not found.\n",
            "WARNING:matplotlib.font_manager:findfont: Font family 'Arial' not found.\n",
            "WARNING:matplotlib.font_manager:findfont: Font family 'Arial' not found.\n",
            "WARNING:matplotlib.font_manager:findfont: Font family 'Arial' not found.\n",
            "WARNING:matplotlib.font_manager:findfont: Font family 'Arial' not found.\n",
            "WARNING:matplotlib.font_manager:findfont: Font family 'Arial' not found.\n",
            "WARNING:matplotlib.font_manager:findfont: Font family 'Arial' not found.\n",
            "WARNING:matplotlib.font_manager:findfont: Font family 'Arial' not found.\n",
            "WARNING:matplotlib.font_manager:findfont: Font family 'Arial' not found.\n",
            "WARNING:matplotlib.font_manager:findfont: Font family 'Arial' not found.\n",
            "WARNING:matplotlib.font_manager:findfont: Font family 'Arial' not found.\n",
            "WARNING:matplotlib.font_manager:findfont: Font family 'Arial' not found.\n",
            "WARNING:matplotlib.font_manager:findfont: Font family 'Arial' not found.\n",
            "WARNING:matplotlib.font_manager:findfont: Font family 'Arial' not found.\n",
            "WARNING:matplotlib.font_manager:findfont: Font family 'Arial' not found.\n",
            "WARNING:matplotlib.font_manager:findfont: Font family 'Arial' not found.\n",
            "WARNING:matplotlib.font_manager:findfont: Font family 'Arial' not found.\n",
            "WARNING:matplotlib.font_manager:findfont: Font family 'Arial' not found.\n",
            "WARNING:matplotlib.font_manager:findfont: Font family 'Arial' not found.\n",
            "WARNING:matplotlib.font_manager:findfont: Font family 'Arial' not found.\n",
            "WARNING:matplotlib.font_manager:findfont: Font family 'Arial' not found.\n",
            "WARNING:matplotlib.font_manager:findfont: Font family 'Arial' not found.\n",
            "WARNING:matplotlib.font_manager:findfont: Font family 'Arial' not found.\n",
            "WARNING:matplotlib.font_manager:findfont: Font family 'Arial' not found.\n",
            "WARNING:matplotlib.font_manager:findfont: Font family 'Arial' not found.\n",
            "WARNING:matplotlib.font_manager:findfont: Font family 'Arial' not found.\n",
            "WARNING:matplotlib.font_manager:findfont: Font family 'Arial' not found.\n",
            "WARNING:matplotlib.font_manager:findfont: Font family 'Arial' not found.\n",
            "WARNING:matplotlib.font_manager:findfont: Font family 'Arial' not found.\n",
            "WARNING:matplotlib.font_manager:findfont: Font family 'Arial' not found.\n",
            "WARNING:matplotlib.font_manager:findfont: Font family 'Arial' not found.\n",
            "WARNING:matplotlib.font_manager:findfont: Font family 'Arial' not found.\n",
            "WARNING:matplotlib.font_manager:findfont: Font family 'Arial' not found.\n",
            "WARNING:matplotlib.font_manager:findfont: Font family 'Arial' not found.\n",
            "WARNING:matplotlib.font_manager:findfont: Font family 'Arial' not found.\n",
            "WARNING:matplotlib.font_manager:findfont: Font family 'Arial' not found.\n",
            "WARNING:matplotlib.font_manager:findfont: Font family 'Arial' not found.\n",
            "WARNING:matplotlib.font_manager:findfont: Font family 'Arial' not found.\n",
            "WARNING:matplotlib.font_manager:findfont: Font family 'Arial' not found.\n",
            "WARNING:matplotlib.font_manager:findfont: Font family 'Arial' not found.\n",
            "WARNING:matplotlib.font_manager:findfont: Font family 'Arial' not found.\n",
            "WARNING:matplotlib.font_manager:findfont: Font family 'Arial' not found.\n",
            "WARNING:matplotlib.font_manager:findfont: Font family 'Arial' not found.\n",
            "WARNING:matplotlib.font_manager:findfont: Font family 'Arial' not found.\n",
            "WARNING:matplotlib.font_manager:findfont: Font family 'Arial' not found.\n",
            "WARNING:matplotlib.font_manager:findfont: Font family 'Arial' not found.\n",
            "WARNING:matplotlib.font_manager:findfont: Font family 'Arial' not found.\n",
            "WARNING:matplotlib.font_manager:findfont: Font family 'Arial' not found.\n",
            "WARNING:matplotlib.font_manager:findfont: Font family 'Arial' not found.\n",
            "WARNING:matplotlib.font_manager:findfont: Font family 'Arial' not found.\n",
            "WARNING:matplotlib.font_manager:findfont: Font family 'Arial' not found.\n",
            "WARNING:matplotlib.font_manager:findfont: Font family 'Arial' not found.\n",
            "WARNING:matplotlib.font_manager:findfont: Font family 'Arial' not found.\n",
            "WARNING:matplotlib.font_manager:findfont: Font family 'Arial' not found.\n",
            "WARNING:matplotlib.font_manager:findfont: Font family 'Arial' not found.\n",
            "WARNING:matplotlib.font_manager:findfont: Font family 'Arial' not found.\n",
            "WARNING:matplotlib.font_manager:findfont: Font family 'Arial' not found.\n",
            "WARNING:matplotlib.font_manager:findfont: Font family 'Arial' not found.\n",
            "WARNING:matplotlib.font_manager:findfont: Font family 'Arial' not found.\n",
            "WARNING:matplotlib.font_manager:findfont: Font family 'Arial' not found.\n",
            "WARNING:matplotlib.font_manager:findfont: Font family 'Arial' not found.\n",
            "WARNING:matplotlib.font_manager:findfont: Font family 'Arial' not found.\n",
            "WARNING:matplotlib.font_manager:findfont: Font family 'Arial' not found.\n",
            "WARNING:matplotlib.font_manager:findfont: Font family 'Arial' not found.\n",
            "WARNING:matplotlib.font_manager:findfont: Font family 'Arial' not found.\n",
            "WARNING:matplotlib.font_manager:findfont: Font family 'Arial' not found.\n",
            "WARNING:matplotlib.font_manager:findfont: Font family 'Arial' not found.\n",
            "WARNING:matplotlib.font_manager:findfont: Font family 'Arial' not found.\n",
            "WARNING:matplotlib.font_manager:findfont: Font family 'Arial' not found.\n",
            "WARNING:matplotlib.font_manager:findfont: Font family 'Arial' not found.\n",
            "WARNING:matplotlib.font_manager:findfont: Font family 'Arial' not found.\n",
            "WARNING:matplotlib.font_manager:findfont: Font family 'Arial' not found.\n",
            "WARNING:matplotlib.font_manager:findfont: Font family 'Arial' not found.\n",
            "WARNING:matplotlib.font_manager:findfont: Font family 'Arial' not found.\n",
            "WARNING:matplotlib.font_manager:findfont: Font family 'Arial' not found.\n",
            "WARNING:matplotlib.font_manager:findfont: Font family 'Arial' not found.\n",
            "WARNING:matplotlib.font_manager:findfont: Font family 'Arial' not found.\n",
            "WARNING:matplotlib.font_manager:findfont: Font family 'Arial' not found.\n",
            "WARNING:matplotlib.font_manager:findfont: Font family 'Arial' not found.\n"
          ]
        },
        {
          "output_type": "display_data",
          "data": {
            "text/plain": [
              "<Figure size 2160x1368 with 2 Axes>"
            ],
            "image/png": "[encoded data removed]"
          },
          "metadata": {
            "needs_background": "light"
          }
        }
      ]
    },
    {
      "cell_type": "markdown",
      "source": [
        "`pdp_plot`을 사용하여 PDP를 15개의 ICE plot과 함께 그려봅니다."
      ],
      "metadata": {
        "id": "bCGPedAIMb7Z"
      }
    },
    {
      "cell_type": "code",
      "source": [
        "pdp_plot(\n",
        "    isolated, \n",
        "    feature_name = target_feature,\n",
        "    plot_lines = True, # ICE plots\n",
        "    frac_to_plot = 15, # int type type을 입력하면 데이터의 개수가 됩니다, \n",
        "                       # float type을 입력하면 전체 데이터 개수중 plottling할 데이터 수의 비율이 된다.\n",
        "    plot_pts_dist = True)\n"
      ],
      "metadata": {
        "colab": {
          "base_uri": "https://localhost:8080/",
          "height": 1000
        },
        "id": "BjWxMh7TGKlZ",
        "outputId": "48672bef-7cef-4a7c-f6a9-d8049172abf5"
      },
      "execution_count": 75,
      "outputs": [
        {
          "output_type": "execute_result",
          "data": {
            "text/plain": [
              "(<Figure size 2160x1368 with 3 Axes>,\n",
              " {'title_ax': <Axes: >,\n",
              "  'pdp_ax': {'_pdp_ax': <Axes: >,\n",
              "   '_count_ax': <Axes: title={'center': 'distribution of data points'}, xlabel='year'>}})"
            ]
          },
          "metadata": {},
          "execution_count": 75
        },
        {
          "output_type": "stream",
          "name": "stderr",
          "text": [
            "WARNING:matplotlib.font_manager:findfont: Font family 'Arial' not found.\n",
            "WARNING:matplotlib.font_manager:findfont: Font family 'Arial' not found.\n",
            "WARNING:matplotlib.font_manager:findfont: Font family 'Arial' not found.\n",
            "WARNING:matplotlib.font_manager:findfont: Font family 'Arial' not found.\n",
            "WARNING:matplotlib.font_manager:findfont: Font family 'Arial' not found.\n",
            "WARNING:matplotlib.font_manager:findfont: Font family 'Arial' not found.\n",
            "WARNING:matplotlib.font_manager:findfont: Font family 'Arial' not found.\n",
            "WARNING:matplotlib.font_manager:findfont: Font family 'Arial' not found.\n",
            "WARNING:matplotlib.font_manager:findfont: Font family 'Arial' not found.\n",
            "WARNING:matplotlib.font_manager:findfont: Font family 'Arial' not found.\n",
            "WARNING:matplotlib.font_manager:findfont: Font family 'Arial' not found.\n",
            "WARNING:matplotlib.font_manager:findfont: Font family 'Arial' not found.\n",
            "WARNING:matplotlib.font_manager:findfont: Font family 'Arial' not found.\n",
            "WARNING:matplotlib.font_manager:findfont: Font family 'Arial' not found.\n",
            "WARNING:matplotlib.font_manager:findfont: Font family 'Arial' not found.\n",
            "WARNING:matplotlib.font_manager:findfont: Font family 'Arial' not found.\n",
            "WARNING:matplotlib.font_manager:findfont: Font family 'Arial' not found.\n",
            "WARNING:matplotlib.font_manager:findfont: Font family 'Arial' not found.\n",
            "WARNING:matplotlib.font_manager:findfont: Font family 'Arial' not found.\n",
            "WARNING:matplotlib.font_manager:findfont: Font family 'Arial' not found.\n",
            "WARNING:matplotlib.font_manager:findfont: Font family 'Arial' not found.\n",
            "WARNING:matplotlib.font_manager:findfont: Font family 'Arial' not found.\n",
            "WARNING:matplotlib.font_manager:findfont: Font family 'Arial' not found.\n",
            "WARNING:matplotlib.font_manager:findfont: Font family 'Arial' not found.\n",
            "WARNING:matplotlib.font_manager:findfont: Font family 'Arial' not found.\n",
            "WARNING:matplotlib.font_manager:findfont: Font family 'Arial' not found.\n",
            "WARNING:matplotlib.font_manager:findfont: Font family 'Arial' not found.\n",
            "WARNING:matplotlib.font_manager:findfont: Font family 'Arial' not found.\n",
            "WARNING:matplotlib.font_manager:findfont: Font family 'Arial' not found.\n",
            "WARNING:matplotlib.font_manager:findfont: Font family 'Arial' not found.\n",
            "WARNING:matplotlib.font_manager:findfont: Font family 'Arial' not found.\n",
            "WARNING:matplotlib.font_manager:findfont: Font family 'Arial' not found.\n",
            "WARNING:matplotlib.font_manager:findfont: Font family 'Arial' not found.\n",
            "WARNING:matplotlib.font_manager:findfont: Font family 'Arial' not found.\n",
            "WARNING:matplotlib.font_manager:findfont: Font family 'Arial' not found.\n",
            "WARNING:matplotlib.font_manager:findfont: Font family 'Arial' not found.\n",
            "WARNING:matplotlib.font_manager:findfont: Font family 'Arial' not found.\n",
            "WARNING:matplotlib.font_manager:findfont: Font family 'Arial' not found.\n",
            "WARNING:matplotlib.font_manager:findfont: Font family 'Arial' not found.\n",
            "WARNING:matplotlib.font_manager:findfont: Font family 'Arial' not found.\n",
            "WARNING:matplotlib.font_manager:findfont: Font family 'Arial' not found.\n",
            "WARNING:matplotlib.font_manager:findfont: Font family 'Arial' not found.\n",
            "WARNING:matplotlib.font_manager:findfont: Font family 'Arial' not found.\n",
            "WARNING:matplotlib.font_manager:findfont: Font family 'Arial' not found.\n",
            "WARNING:matplotlib.font_manager:findfont: Font family 'Arial' not found.\n",
            "WARNING:matplotlib.font_manager:findfont: Font family 'Arial' not found.\n",
            "WARNING:matplotlib.font_manager:findfont: Font family 'Arial' not found.\n",
            "WARNING:matplotlib.font_manager:findfont: Font family 'Arial' not found.\n",
            "WARNING:matplotlib.font_manager:findfont: Font family 'Arial' not found.\n",
            "WARNING:matplotlib.font_manager:findfont: Font family 'Arial' not found.\n",
            "WARNING:matplotlib.font_manager:findfont: Font family 'Arial' not found.\n",
            "WARNING:matplotlib.font_manager:findfont: Font family 'Arial' not found.\n",
            "WARNING:matplotlib.font_manager:findfont: Font family 'Arial' not found.\n",
            "WARNING:matplotlib.font_manager:findfont: Font family 'Arial' not found.\n",
            "WARNING:matplotlib.font_manager:findfont: Font family 'Arial' not found.\n",
            "WARNING:matplotlib.font_manager:findfont: Font family 'Arial' not found.\n",
            "WARNING:matplotlib.font_manager:findfont: Font family 'Arial' not found.\n",
            "WARNING:matplotlib.font_manager:findfont: Font family 'Arial' not found.\n",
            "WARNING:matplotlib.font_manager:findfont: Font family 'Arial' not found.\n",
            "WARNING:matplotlib.font_manager:findfont: Font family 'Arial' not found.\n",
            "WARNING:matplotlib.font_manager:findfont: Font family 'Arial' not found.\n",
            "WARNING:matplotlib.font_manager:findfont: Font family 'Arial' not found.\n",
            "WARNING:matplotlib.font_manager:findfont: Font family 'Arial' not found.\n",
            "WARNING:matplotlib.font_manager:findfont: Font family 'Arial' not found.\n",
            "WARNING:matplotlib.font_manager:findfont: Font family 'Arial' not found.\n",
            "WARNING:matplotlib.font_manager:findfont: Font family 'Arial' not found.\n",
            "WARNING:matplotlib.font_manager:findfont: Font family 'Arial' not found.\n",
            "WARNING:matplotlib.font_manager:findfont: Font family 'Arial' not found.\n",
            "WARNING:matplotlib.font_manager:findfont: Font family 'Arial' not found.\n",
            "WARNING:matplotlib.font_manager:findfont: Font family 'Arial' not found.\n",
            "WARNING:matplotlib.font_manager:findfont: Font family 'Arial' not found.\n",
            "WARNING:matplotlib.font_manager:findfont: Font family 'Arial' not found.\n",
            "WARNING:matplotlib.font_manager:findfont: Font family 'Arial' not found.\n",
            "WARNING:matplotlib.font_manager:findfont: Font family 'Arial' not found.\n",
            "WARNING:matplotlib.font_manager:findfont: Font family 'Arial' not found.\n",
            "WARNING:matplotlib.font_manager:findfont: Font family 'Arial' not found.\n",
            "WARNING:matplotlib.font_manager:findfont: Font family 'Arial' not found.\n",
            "WARNING:matplotlib.font_manager:findfont: Font family 'Arial' not found.\n",
            "WARNING:matplotlib.font_manager:findfont: Font family 'Arial' not found.\n",
            "WARNING:matplotlib.font_manager:findfont: Font family 'Arial' not found.\n",
            "WARNING:matplotlib.font_manager:findfont: Font family 'Arial' not found.\n",
            "WARNING:matplotlib.font_manager:findfont: Font family 'Arial' not found.\n",
            "WARNING:matplotlib.font_manager:findfont: Font family 'Arial' not found.\n",
            "WARNING:matplotlib.font_manager:findfont: Font family 'Arial' not found.\n"
          ]
        },
        {
          "output_type": "display_data",
          "data": {
            "text/plain": [
              "<Figure size 2160x1368 with 3 Axes>"
            ],
            "image/png": "[encoded data removed]"
          },
          "metadata": {
            "needs_background": "light"
          }
        }
      ]
    },
    {
      "cell_type": "markdown",
      "source": [
        "####**6-1. 2개 특성의 변화에 대한 PDP 생성.**\n",
        "> 2특성 변화에 대한 PDP는 'heatmap' 형태로 시각화가 가능합니다."
      ],
      "metadata": {
        "id": "-1K2iHixMNE_"
      }
    },
    {
      "cell_type": "code",
      "source": [
        "# 필요한 라이브러리 가져오기.\n",
        "from pdpbox.pdp import pdp_interact, pdp_interact_plot\n",
        "\n",
        "# 살펴볼 두 개의 타겟을 지정합니다.\n",
        "target_features = ['year', 'engineSize']\n",
        "\n",
        "# pdp_interact 생성."
      ],
      "metadata": {
        "id": "ri0XfGtncMH9"
      },
      "execution_count": null,
      "outputs": []
    }
  ]
}
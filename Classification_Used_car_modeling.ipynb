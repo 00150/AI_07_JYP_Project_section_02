{
  "nbformat": 4,
  "nbformat_minor": 0,
  "metadata": {
    "colab": {
      "provenance": [],
      "authorship_tag": "ABX9TyPJgVcocvNWcIeTNZqKFOhy",
      "include_colab_link": true
    },
    "kernelspec": {
      "name": "python3",
      "display_name": "Python 3"
    },
    "language_info": {
      "name": "python"
    },
    "accelerator": "GPU",
    "gpuClass": "standard"
  },
  "cells": [
    {
      "cell_type": "markdown",
      "metadata": {
        "id": "view-in-github",
        "colab_type": "text"
      },
      "source": [
        "<a href=\"https://colab.research.google.com/github/00150/AI_07_JYP_Project_section_02/blob/main/Classification_Used_car_modeling.ipynb\" target=\"_parent\"><img src=\"https://colab.research.google.com/assets/colab-badge.svg\" alt=\"Open In Colab\"/></a>"
      ]
    },
    {
      "cell_type": "code",
      "source": [
        "# 필요한 라이브러리를 설치합니다.\n",
        "!pip install category_encoders"
      ],
      "metadata": {
        "colab": {
          "base_uri": "https://localhost:8080/"
        },
        "id": "nwJumCPojJmA",
        "outputId": "84668d9b-7569-4bea-e590-61301d0dcd16"
      },
      "execution_count": 1,
      "outputs": [
        {
          "output_type": "stream",
          "name": "stdout",
          "text": [
            "Looking in indexes: https://pypi.org/simple, https://us-python.pkg.dev/colab-wheels/public/simple/\n",
            "Collecting category_encoders\n",
            "  Downloading category_encoders-2.6.0-py2.py3-none-any.whl (81 kB)\n",
            "\u001b[2K     \u001b[90m━━━━━━━━━━━━━━━━━━━━━━━━━━━━━━━━━━━━━━━━\u001b[0m \u001b[32m81.2/81.2 KB\u001b[0m \u001b[31m3.2 MB/s\u001b[0m eta \u001b[36m0:00:00\u001b[0m\n",
            "\u001b[?25hRequirement already satisfied: patsy>=0.5.1 in /usr/local/lib/python3.9/dist-packages (from category_encoders) (0.5.3)\n",
            "Requirement already satisfied: scikit-learn>=0.20.0 in /usr/local/lib/python3.9/dist-packages (from category_encoders) (1.2.1)\n",
            "Requirement already satisfied: statsmodels>=0.9.0 in /usr/local/lib/python3.9/dist-packages (from category_encoders) (0.13.5)\n",
            "Requirement already satisfied: scipy>=1.0.0 in /usr/local/lib/python3.9/dist-packages (from category_encoders) (1.10.1)\n",
            "Requirement already satisfied: pandas>=1.0.5 in /usr/local/lib/python3.9/dist-packages (from category_encoders) (1.3.5)\n",
            "Requirement already satisfied: numpy>=1.14.0 in /usr/local/lib/python3.9/dist-packages (from category_encoders) (1.22.4)\n",
            "Requirement already satisfied: python-dateutil>=2.7.3 in /usr/local/lib/python3.9/dist-packages (from pandas>=1.0.5->category_encoders) (2.8.2)\n",
            "Requirement already satisfied: pytz>=2017.3 in /usr/local/lib/python3.9/dist-packages (from pandas>=1.0.5->category_encoders) (2022.7.1)\n",
            "Requirement already satisfied: six in /usr/local/lib/python3.9/dist-packages (from patsy>=0.5.1->category_encoders) (1.15.0)\n",
            "Requirement already satisfied: threadpoolctl>=2.0.0 in /usr/local/lib/python3.9/dist-packages (from scikit-learn>=0.20.0->category_encoders) (3.1.0)\n",
            "Requirement already satisfied: joblib>=1.1.1 in /usr/local/lib/python3.9/dist-packages (from scikit-learn>=0.20.0->category_encoders) (1.2.0)\n",
            "Requirement already satisfied: packaging>=21.3 in /usr/local/lib/python3.9/dist-packages (from statsmodels>=0.9.0->category_encoders) (23.0)\n",
            "Installing collected packages: category_encoders\n",
            "Successfully installed category_encoders-2.6.0\n"
          ]
        }
      ]
    },
    {
      "cell_type": "code",
      "execution_count": 2,
      "metadata": {
        "id": "XzW6bTHEm62o"
      },
      "outputs": [],
      "source": [
        "# 모델링을 진행할 데이터를 가져옵니다.\n",
        "# 필요한 라이브러 및 패키지는 그때 그때 가져오도록 합니다.\n",
        "import pandas as pd\n",
        "df = pd.read_csv('https://raw.githubusercontent.com/00150/AI_07_JYP_Project_section_02/main/audi_eda').drop('Unnamed: 0', axis = 1)"
      ]
    },
    {
      "cell_type": "code",
      "source": [
        "df.info()"
      ],
      "metadata": {
        "colab": {
          "base_uri": "https://localhost:8080/"
        },
        "id": "LvCkrhDEncj2",
        "outputId": "e7f96bbe-d77e-4e55-eefd-6d5595272f38"
      },
      "execution_count": 3,
      "outputs": [
        {
          "output_type": "stream",
          "name": "stdout",
          "text": [
            "<class 'pandas.core.frame.DataFrame'>\n",
            "RangeIndex: 9345 entries, 0 to 9344\n",
            "Data columns (total 15 columns):\n",
            " #   Column         Non-Null Count  Dtype  \n",
            "---  ------         --------------  -----  \n",
            " 0   model          9345 non-null   object \n",
            " 1   year           9345 non-null   int64  \n",
            " 2   price          9345 non-null   int64  \n",
            " 3   transmission   9345 non-null   object \n",
            " 4   mileage        9345 non-null   int64  \n",
            " 5   fuelType       9345 non-null   object \n",
            " 6   tax            9345 non-null   int64  \n",
            " 7   mpg            9345 non-null   float64\n",
            " 8   engineSize     9345 non-null   float64\n",
            " 9   size_and_type  9345 non-null   object \n",
            " 10  size           9345 non-null   object \n",
            " 11  type           9344 non-null   object \n",
            " 12  used_year      9345 non-null   int64  \n",
            " 13  ampy           9345 non-null   float64\n",
            " 14  km/l           9345 non-null   float64\n",
            "dtypes: float64(4), int64(5), object(6)\n",
            "memory usage: 1.1+ MB\n"
          ]
        }
      ]
    },
    {
      "cell_type": "markdown",
      "source": [
        "앞서 EDA & Visualization 을 진행한 데이터에는 다음과 같은 컬럼이 존재합니다."
      ],
      "metadata": {
        "id": "KBrJGTEBng8G"
      }
    },
    {
      "cell_type": "markdown",
      "source": [
        "* 각각의 컬럼은 다음과 같습니다. \n",
        "  - model : 자동차의 모델명 \n",
        "  - year : 연식 \n",
        "  - price : 가격 \n",
        "  - transmission : 변속기\n",
        "  - mileage : 자동차 주행거리\n",
        "  - fuelType : 자동차 연료의 유형\n",
        "  - tax : 세금(자동차)\n",
        "  - mpg(Miles per Gallon) : 자동차 연비(Fuel efficiency)\n",
        "  - engineSize :엔진 크기\n",
        "  - size_and_type :차량의 사이즈 및 타입\n",
        "  - size : 차량의 사이즈\n",
        "  - type : 차량의 유형\n",
        "  - used_year : 차를 사용한 연도\n",
        "  - ampy : 연간 평균 주행거리.\n",
        "  - km/l : 자동차 연비(한국식 표현)"
      ],
      "metadata": {
        "id": "Xgk50HnpAyTX"
      }
    },
    {
      "cell_type": "code",
      "source": [
        "df.head()"
      ],
      "metadata": {
        "colab": {
          "base_uri": "https://localhost:8080/",
          "height": 206
        },
        "id": "H6OAt07AoZhS",
        "outputId": "53de5adc-8aac-401d-cc59-f9e5c900dd1e"
      },
      "execution_count": 4,
      "outputs": [
        {
          "output_type": "execute_result",
          "data": {
            "text/plain": [
              "  model  year  price transmission  mileage fuelType  tax   mpg  engineSize  \\\n",
              "0    A1  2017  12500       Manual    15735   Petrol  150  55.4         1.4   \n",
              "1    A6  2016  16500    Automatic    36203   Diesel   20  64.2         2.0   \n",
              "2    A1  2016  11000       Manual    29946   Petrol   30  55.4         1.4   \n",
              "3    A4  2017  16800    Automatic    25952   Diesel  145  67.3         2.0   \n",
              "4    A3  2019  17300       Manual     1998   Petrol  145  49.6         1.0   \n",
              "\n",
              "      size_and_type     size       type  used_year    ampy  km/l  \n",
              "0   small_hatchback    small  hatchback          6  2622.5  23.8  \n",
              "1     subfull_sedan  subfull      sedan          7  5171.9  27.6  \n",
              "2   small_hatchback    small  hatchback          7  4278.0  23.8  \n",
              "3         mid_sedan      mid      sedan          6  4325.3  28.9  \n",
              "4  submid_hatchback   submid  hatchback          4   499.5  21.3  "
            ],
            "text/html": [
              "\n",
              "  <div id=\"df-d62dc860-5648-4f76-8cbc-d5d04d2ee34e\">\n",
              "    <div class=\"colab-df-container\">\n",
              "      <div>\n",
              "<style scoped>\n",
              "    .dataframe tbody tr th:only-of-type {\n",
              "        vertical-align: middle;\n",
              "    }\n",
              "\n",
              "    .dataframe tbody tr th {\n",
              "        vertical-align: top;\n",
              "    }\n",
              "\n",
              "    .dataframe thead th {\n",
              "        text-align: right;\n",
              "    }\n",
              "</style>\n",
              "<table border=\"1\" class=\"dataframe\">\n",
              "  <thead>\n",
              "    <tr style=\"text-align: right;\">\n",
              "      <th></th>\n",
              "      <th>model</th>\n",
              "      <th>year</th>\n",
              "      <th>price</th>\n",
              "      <th>transmission</th>\n",
              "      <th>mileage</th>\n",
              "      <th>fuelType</th>\n",
              "      <th>tax</th>\n",
              "      <th>mpg</th>\n",
              "      <th>engineSize</th>\n",
              "      <th>size_and_type</th>\n",
              "      <th>size</th>\n",
              "      <th>type</th>\n",
              "      <th>used_year</th>\n",
              "      <th>ampy</th>\n",
              "      <th>km/l</th>\n",
              "    </tr>\n",
              "  </thead>\n",
              "  <tbody>\n",
              "    <tr>\n",
              "      <th>0</th>\n",
              "      <td>A1</td>\n",
              "      <td>2017</td>\n",
              "      <td>12500</td>\n",
              "      <td>Manual</td>\n",
              "      <td>15735</td>\n",
              "      <td>Petrol</td>\n",
              "      <td>150</td>\n",
              "      <td>55.4</td>\n",
              "      <td>1.4</td>\n",
              "      <td>small_hatchback</td>\n",
              "      <td>small</td>\n",
              "      <td>hatchback</td>\n",
              "      <td>6</td>\n",
              "      <td>2622.5</td>\n",
              "      <td>23.8</td>\n",
              "    </tr>\n",
              "    <tr>\n",
              "      <th>1</th>\n",
              "      <td>A6</td>\n",
              "      <td>2016</td>\n",
              "      <td>16500</td>\n",
              "      <td>Automatic</td>\n",
              "      <td>36203</td>\n",
              "      <td>Diesel</td>\n",
              "      <td>20</td>\n",
              "      <td>64.2</td>\n",
              "      <td>2.0</td>\n",
              "      <td>subfull_sedan</td>\n",
              "      <td>subfull</td>\n",
              "      <td>sedan</td>\n",
              "      <td>7</td>\n",
              "      <td>5171.9</td>\n",
              "      <td>27.6</td>\n",
              "    </tr>\n",
              "    <tr>\n",
              "      <th>2</th>\n",
              "      <td>A1</td>\n",
              "      <td>2016</td>\n",
              "      <td>11000</td>\n",
              "      <td>Manual</td>\n",
              "      <td>29946</td>\n",
              "      <td>Petrol</td>\n",
              "      <td>30</td>\n",
              "      <td>55.4</td>\n",
              "      <td>1.4</td>\n",
              "      <td>small_hatchback</td>\n",
              "      <td>small</td>\n",
              "      <td>hatchback</td>\n",
              "      <td>7</td>\n",
              "      <td>4278.0</td>\n",
              "      <td>23.8</td>\n",
              "    </tr>\n",
              "    <tr>\n",
              "      <th>3</th>\n",
              "      <td>A4</td>\n",
              "      <td>2017</td>\n",
              "      <td>16800</td>\n",
              "      <td>Automatic</td>\n",
              "      <td>25952</td>\n",
              "      <td>Diesel</td>\n",
              "      <td>145</td>\n",
              "      <td>67.3</td>\n",
              "      <td>2.0</td>\n",
              "      <td>mid_sedan</td>\n",
              "      <td>mid</td>\n",
              "      <td>sedan</td>\n",
              "      <td>6</td>\n",
              "      <td>4325.3</td>\n",
              "      <td>28.9</td>\n",
              "    </tr>\n",
              "    <tr>\n",
              "      <th>4</th>\n",
              "      <td>A3</td>\n",
              "      <td>2019</td>\n",
              "      <td>17300</td>\n",
              "      <td>Manual</td>\n",
              "      <td>1998</td>\n",
              "      <td>Petrol</td>\n",
              "      <td>145</td>\n",
              "      <td>49.6</td>\n",
              "      <td>1.0</td>\n",
              "      <td>submid_hatchback</td>\n",
              "      <td>submid</td>\n",
              "      <td>hatchback</td>\n",
              "      <td>4</td>\n",
              "      <td>499.5</td>\n",
              "      <td>21.3</td>\n",
              "    </tr>\n",
              "  </tbody>\n",
              "</table>\n",
              "</div>\n",
              "      <button class=\"colab-df-convert\" onclick=\"convertToInteractive('df-d62dc860-5648-4f76-8cbc-d5d04d2ee34e')\"\n",
              "              title=\"Convert this dataframe to an interactive table.\"\n",
              "              style=\"display:none;\">\n",
              "        \n",
              "  <svg xmlns=\"http://www.w3.org/2000/svg\" height=\"24px\"viewBox=\"0 0 24 24\"\n",
              "       width=\"24px\">\n",
              "    <path d=\"M0 0h24v24H0V0z\" fill=\"none\"/>\n",
              "    <path d=\"M18.56 5.44l.94 2.06.94-2.06 2.06-.94-2.06-.94-.94-2.06-.94 2.06-2.06.94zm-11 1L8.5 8.5l.94-2.06 2.06-.94-2.06-.94L8.5 2.5l-.94 2.06-2.06.94zm10 10l.94 2.06.94-2.06 2.06-.94-2.06-.94-.94-2.06-.94 2.06-2.06.94z\"/><path d=\"M17.41 7.96l-1.37-1.37c-.4-.4-.92-.59-1.43-.59-.52 0-1.04.2-1.43.59L10.3 9.45l-7.72 7.72c-.78.78-.78 2.05 0 2.83L4 21.41c.39.39.9.59 1.41.59.51 0 1.02-.2 1.41-.59l7.78-7.78 2.81-2.81c.8-.78.8-2.07 0-2.86zM5.41 20L4 18.59l7.72-7.72 1.47 1.35L5.41 20z\"/>\n",
              "  </svg>\n",
              "      </button>\n",
              "      \n",
              "  <style>\n",
              "    .colab-df-container {\n",
              "      display:flex;\n",
              "      flex-wrap:wrap;\n",
              "      gap: 12px;\n",
              "    }\n",
              "\n",
              "    .colab-df-convert {\n",
              "      background-color: #E8F0FE;\n",
              "      border: none;\n",
              "      border-radius: 50%;\n",
              "      cursor: pointer;\n",
              "      display: none;\n",
              "      fill: #1967D2;\n",
              "      height: 32px;\n",
              "      padding: 0 0 0 0;\n",
              "      width: 32px;\n",
              "    }\n",
              "\n",
              "    .colab-df-convert:hover {\n",
              "      background-color: #E2EBFA;\n",
              "      box-shadow: 0px 1px 2px rgba(60, 64, 67, 0.3), 0px 1px 3px 1px rgba(60, 64, 67, 0.15);\n",
              "      fill: #174EA6;\n",
              "    }\n",
              "\n",
              "    [theme=dark] .colab-df-convert {\n",
              "      background-color: #3B4455;\n",
              "      fill: #D2E3FC;\n",
              "    }\n",
              "\n",
              "    [theme=dark] .colab-df-convert:hover {\n",
              "      background-color: #434B5C;\n",
              "      box-shadow: 0px 1px 3px 1px rgba(0, 0, 0, 0.15);\n",
              "      filter: drop-shadow(0px 1px 2px rgba(0, 0, 0, 0.3));\n",
              "      fill: #FFFFFF;\n",
              "    }\n",
              "  </style>\n",
              "\n",
              "      <script>\n",
              "        const buttonEl =\n",
              "          document.querySelector('#df-d62dc860-5648-4f76-8cbc-d5d04d2ee34e button.colab-df-convert');\n",
              "        buttonEl.style.display =\n",
              "          google.colab.kernel.accessAllowed ? 'block' : 'none';\n",
              "\n",
              "        async function convertToInteractive(key) {\n",
              "          const element = document.querySelector('#df-d62dc860-5648-4f76-8cbc-d5d04d2ee34e');\n",
              "          const dataTable =\n",
              "            await google.colab.kernel.invokeFunction('convertToInteractive',\n",
              "                                                     [key], {});\n",
              "          if (!dataTable) return;\n",
              "\n",
              "          const docLinkHtml = 'Like what you see? Visit the ' +\n",
              "            '<a target=\"_blank\" href=https://colab.research.google.com/notebooks/data_table.ipynb>data table notebook</a>'\n",
              "            + ' to learn more about interactive tables.';\n",
              "          element.innerHTML = '';\n",
              "          dataTable['output_type'] = 'display_data';\n",
              "          await google.colab.output.renderOutput(dataTable, element);\n",
              "          const docLink = document.createElement('div');\n",
              "          docLink.innerHTML = docLinkHtml;\n",
              "          element.appendChild(docLink);\n",
              "        }\n",
              "      </script>\n",
              "    </div>\n",
              "  </div>\n",
              "  "
            ]
          },
          "metadata": {},
          "execution_count": 4
        }
      ]
    },
    {
      "cell_type": "code",
      "source": [
        "df.nunique()"
      ],
      "metadata": {
        "colab": {
          "base_uri": "https://localhost:8080/"
        },
        "id": "bQnuK61_Y8ek",
        "outputId": "ec4af046-e3d0-4d8a-ac6f-309f52158864"
      },
      "execution_count": 5,
      "outputs": [
        {
          "output_type": "execute_result",
          "data": {
            "text/plain": [
              "model              25\n",
              "year                7\n",
              "price            2864\n",
              "transmission        3\n",
              "mileage          6727\n",
              "fuelType            3\n",
              "tax                27\n",
              "mpg                84\n",
              "engineSize         15\n",
              "size_and_type      15\n",
              "size                6\n",
              "type                6\n",
              "used_year           7\n",
              "ampy             6872\n",
              "km/l               83\n",
              "dtype: int64"
            ]
          },
          "metadata": {},
          "execution_count": 5
        }
      ]
    },
    {
      "cell_type": "markdown",
      "source": [
        "##1. Feature Engineering\n",
        "> 기존 데이터에서 추가로 이용할 수 있는 부분이 있다면 새로운 피처를 생성합니다.\n",
        "\n",
        " -  Good preference badge 추가하기. <br>\n",
        " 차량을 사용한 이력이 3~5년사이, 주행거리가 30000이하, 자동차 연비(기준:km/l)가 21 이상이라면 뱃지를 달아줍니다.\n",
        "\n",
        " - 차량 모델에 상관없이 상태가 좋은 중고차를 구매하려고 하는 사람들이 분명 존재합니다. <br/>\n",
        "   이들에게 추천해줄 수 있도록 분류하는 모델을 생성하고자 합니다.\n",
        "\n"
      ],
      "metadata": {
        "id": "X87ak5EYCxMe"
      }
    },
    {
      "cell_type": "code",
      "source": [
        "# np.select() method를 이용합니다.\n",
        "import numpy as np\n",
        "conditionlist = [(df['used_year'] <=5) & (df['mileage'] <=30000) & (df['km/l'] >=21)]\n",
        "select_data = ['good']\n",
        "\n",
        "df['good_badge']  = np.select(conditionlist, select_data, default = 'Not Specified')"
      ],
      "metadata": {
        "id": "8qA7cTbgpLkL"
      },
      "execution_count": 6,
      "outputs": []
    },
    {
      "cell_type": "code",
      "source": [
        "# 타겟 비율 확인\n",
        "print(df['good_badge'].value_counts(normalize=True))\n",
        "\n",
        "# 시각화 - 필요한 라이브러리 가져오기.\n",
        "import seaborn as sns\n",
        "import matplotlib.pyplot as plt\n",
        "sns.countplot(x = df['good_badge'])"
      ],
      "metadata": {
        "colab": {
          "base_uri": "https://localhost:8080/",
          "height": 355
        },
        "id": "GpiN_TsVCCZ9",
        "outputId": "4280fbb2-6c01-4dc0-8a59-9fba1414e821"
      },
      "execution_count": 7,
      "outputs": [
        {
          "output_type": "stream",
          "name": "stdout",
          "text": [
            "Not Specified    0.880257\n",
            "good             0.119743\n",
            "Name: good_badge, dtype: float64\n"
          ]
        },
        {
          "output_type": "execute_result",
          "data": {
            "text/plain": [
              "<AxesSubplot:xlabel='good_badge', ylabel='count'>"
            ]
          },
          "metadata": {},
          "execution_count": 7
        },
        {
          "output_type": "display_data",
          "data": {
            "text/plain": [
              "<Figure size 432x288 with 1 Axes>"
            ],
            "image/png": "[encoded data removed]"
          },
          "metadata": {
            "needs_background": "light"
          }
        }
      ]
    },
    {
      "cell_type": "markdown",
      "source": [
        "현재 타겟은 **불균형한 데이터 값**을 보여주고 있습니다.\n",
        "* 모델 생성시 이 부분에 유의하여 모델을 생성하도록 합니다."
      ],
      "metadata": {
        "id": "GPXg9YGVRVAy"
      }
    },
    {
      "cell_type": "markdown",
      "source": [
        "---"
      ],
      "metadata": {
        "id": "AtxMfJv-CdWH"
      }
    },
    {
      "cell_type": "markdown",
      "source": [
        "#2.  Model : `DecisionTree`"
      ],
      "metadata": {
        "id": "XPHqUmXkI2LB"
      }
    },
    {
      "cell_type": "markdown",
      "source": [
        "#### 2-1. Baseline 생성.\n",
        ">기준모델로 최다 비율 클래스를 사용할 경우 정확도는 다음과 같습니다."
      ],
      "metadata": {
        "id": "c5RD3o63RrUt"
      }
    },
    {
      "cell_type": "code",
      "source": [
        "# 타겟값을 mapping 하도록 합니다.\n",
        "# Not Specified = 0, good = 1\n",
        "y_train = df['good_badge'].replace(['Not Specified', 'good'], [0,1])\n",
        "\n",
        "# 기준 모델 생성 - 필요한 라이브러리 가져오기.\n",
        "from sklearn.metrics import accuracy_score\n",
        "\n",
        "major = y_train.mode()[0]\n",
        "\n",
        "\n",
        "# 최다빈도 값 : 0이 담긴 리스트를 생성합니다. \n",
        "major = y_train.mode()[0]\n",
        "y_pred = [major] * len(y_train)\n",
        "\n",
        "# 기준모델의 정확도는 다음과 같습니다.\n",
        "print(f'baseline accuracy:{accuracy_score(y_train, y_pred)}')"
      ],
      "metadata": {
        "colab": {
          "base_uri": "https://localhost:8080/"
        },
        "id": "iZ5xukTxTJ9w",
        "outputId": "6b0400f9-f440-4164-ed08-a9aeebf1c051"
      },
      "execution_count": 8,
      "outputs": [
        {
          "output_type": "stream",
          "name": "stdout",
          "text": [
            "baseline accuracy:0.8802568218298555\n"
          ]
        }
      ]
    },
    {
      "cell_type": "markdown",
      "source": [
        "####2-2. `ML : DecisionTreeClassifier` 생성."
      ],
      "metadata": {
        "id": "NKH6057SXGX9"
      }
    },
    {
      "cell_type": "code",
      "source": [
        "# 데이터 분할.\n",
        "from sklearn.model_selection import train_test_split\n",
        "\n",
        "# 타겟 데이터를 같은 비율로 분할합니다.\n",
        "train, val = train_test_split(df,\n",
        "                                  train_size = 0.75,\n",
        "                                  stratify = df['good_badge'],random_state = 42)\n",
        "\n",
        "\n",
        "# target & feature 지정.00\n",
        "target = 'good_badge'\n",
        "features = df.columns.drop(['size_and_type','mpg',target])\n",
        "\n",
        "# train\n",
        "y_train = train[target]\n",
        "X_train = train[features]\n",
        "\n",
        "# val\n",
        "y_val = val[target]\n",
        "X_val = val[features]\n",
        "\n",
        "# shap\n",
        "print( X_train.shape, X_val.shape,'\\n'*2)\n",
        "print(y_train.value_counts(normalize=True),'\\n'*2, y_val.value_counts(normalize=True),'\\n'*2)"
      ],
      "metadata": {
        "colab": {
          "base_uri": "https://localhost:8080/"
        },
        "id": "GvmXH4Tkdx4d",
        "outputId": "d4ec27aa-3018-49d8-96f8-74eba2dc52bb"
      },
      "execution_count": 9,
      "outputs": [
        {
          "output_type": "stream",
          "name": "stdout",
          "text": [
            "(7008, 13) (2337, 13) \n",
            "\n",
            "\n",
            "Not Specified    0.88028\n",
            "good             0.11972\n",
            "Name: good_badge, dtype: float64 \n",
            "\n",
            " Not Specified    0.880188\n",
            "good             0.119812\n",
            "Name: good_badge, dtype: float64 \n",
            "\n",
            "\n"
          ]
        }
      ]
    },
    {
      "cell_type": "code",
      "source": [
        "\n",
        "# 데이터 인코딩 및 파이프라인 생성 : 필요한 라이브러리 가져오기.\n",
        "from category_encoders import OrdinalEncoder\n",
        "from sklearn.tree import DecisionTreeClassifier\n",
        "from sklearn.pipeline import make_pipeline\n",
        "from xgboost import XGBClassifier\n",
        "\n",
        "pipe = make_pipeline(\n",
        "    OrdinalEncoder(),\n",
        "    DecisionTreeClassifier(max_depth = 5, random_state=2))\n",
        "\n",
        "print(pipe)\n",
        "\n",
        "#eval_set\n",
        "pipe.fit(X_train, \n",
        "          y_train)\n",
        "\n",
        "print('검증 정확도:', pipe.score(X_val,y_val))"
      ],
      "metadata": {
        "colab": {
          "base_uri": "https://localhost:8080/"
        },
        "id": "jJ9F5j-neUDd",
        "outputId": "e33994e6-a0b3-4843-f207-059b39406731"
      },
      "execution_count": 10,
      "outputs": [
        {
          "output_type": "stream",
          "name": "stdout",
          "text": [
            "Pipeline(steps=[('ordinalencoder', OrdinalEncoder()),\n",
            "                ('decisiontreeclassifier',\n",
            "                 DecisionTreeClassifier(max_depth=5, random_state=2))])\n",
            "검증 정확도: 1.0\n"
          ]
        }
      ]
    },
    {
      "cell_type": "markdown",
      "source": [
        "**검증 정확도가 1이 나왔습니다😥**\n",
        ">모델을 시각화하여 과적합을 일으키는 컬럼을 확인합니다.\n",
        "\n",
        "*`column: 'km/l'`을 지운 후 다시 한 번 살펴봅니다. "
      ],
      "metadata": {
        "id": "rerazwPMVEAM"
      }
    },
    {
      "cell_type": "code",
      "source": [
        "import graphviz\n",
        "from sklearn.tree import export_graphviz\n",
        "\n",
        "# 파이프라인에서 xgbclassifier에 접근.\n",
        "tree = pipe.named_steps['decisiontreeclassifier']\n",
        "\n",
        "\n",
        "dot_data = export_graphviz(\n",
        "    tree,\n",
        "    feature_names= X_train.columns,\n",
        "    class_names = y_train.unique().astype(str),\n",
        "    filled = True,\n",
        "    proportion = True,\n",
        ")\n",
        "\n",
        "graphviz.Source(dot_data)"
      ],
      "metadata": {
        "colab": {
          "base_uri": "https://localhost:8080/",
          "height": 597
        },
        "id": "UVk7GKPm1x4o",
        "outputId": "409303f9-65b5-432b-b245-bd7efb122509"
      },
      "execution_count": 11,
      "outputs": [
        {
          "output_type": "execute_result",
          "data": {
            "text/plain": [
              "<graphviz.files.Source at 0x7f7903046070>"
            ],
            "image/svg+xml": "<?xml version=\"1.0\" encoding=\"UTF-8\" standalone=\"no\"?>\n<!DOCTYPE svg PUBLIC \"-//W3C//DTD SVG 1.1//EN\"\n \"http://www.w3.org/Graphics/SVG/1.1/DTD/svg11.dtd\">\n<!-- Generated by graphviz version 2.43.0 (0)\n -->\n<!-- Title: Tree Pages: 1 -->\n<svg width=\"368pt\" height=\"433pt\"\n viewBox=\"0.00 0.00 367.50 433.00\" xmlns=\"http://www.w3.org/2000/svg\" xmlns:xlink=\"http://www.w3.org/1999/xlink\">\n<g id=\"graph0\" class=\"graph\" transform=\"scale(1 1) rotate(0) translate(4 429)\">\n<title>Tree</title>\n<polygon fill=\"white\" stroke=\"transparent\" points=\"-4,4 -4,-429 363.5,-429 363.5,4 -4,4\"/>\n<!-- 0 -->\n<g id=\"node1\" class=\"node\">\n<title>0</title>\n<polygon fill=\"#e99254\" stroke=\"black\" points=\"211.5,-425 79.5,-425 79.5,-342 211.5,-342 211.5,-425\"/>\n<text text-anchor=\"middle\" x=\"145.5\" y=\"-409.8\" font-family=\"Helvetica,sans-Serif\" font-size=\"14.00\">km/l &lt;= 21.1</text>\n<text text-anchor=\"middle\" x=\"145.5\" y=\"-394.8\" font-family=\"Helvetica,sans-Serif\" font-size=\"14.00\">gini = 0.211</text>\n<text text-anchor=\"middle\" x=\"145.5\" y=\"-379.8\" font-family=\"Helvetica,sans-Serif\" font-size=\"14.00\">samples = 100.0%</text>\n<text text-anchor=\"middle\" x=\"145.5\" y=\"-364.8\" font-family=\"Helvetica,sans-Serif\" font-size=\"14.00\">value = [0.88, 0.12]</text>\n<text text-anchor=\"middle\" x=\"145.5\" y=\"-349.8\" font-family=\"Helvetica,sans-Serif\" font-size=\"14.00\">class = good</text>\n</g>\n<!-- 1 -->\n<g id=\"node2\" class=\"node\">\n<title>1</title>\n<polygon fill=\"#e58139\" stroke=\"black\" points=\"130.5,-298.5 8.5,-298.5 8.5,-230.5 130.5,-230.5 130.5,-298.5\"/>\n<text text-anchor=\"middle\" x=\"69.5\" y=\"-283.3\" font-family=\"Helvetica,sans-Serif\" font-size=\"14.00\">gini = 0.0</text>\n<text text-anchor=\"middle\" x=\"69.5\" y=\"-268.3\" font-family=\"Helvetica,sans-Serif\" font-size=\"14.00\">samples = 51.3%</text>\n<text text-anchor=\"middle\" x=\"69.5\" y=\"-253.3\" font-family=\"Helvetica,sans-Serif\" font-size=\"14.00\">value = [1.0, 0.0]</text>\n<text text-anchor=\"middle\" x=\"69.5\" y=\"-238.3\" font-family=\"Helvetica,sans-Serif\" font-size=\"14.00\">class = good</text>\n</g>\n<!-- 0&#45;&gt;1 -->\n<g id=\"edge1\" class=\"edge\">\n<title>0&#45;&gt;1</title>\n<path fill=\"none\" stroke=\"black\" d=\"M119.13,-341.91C111.82,-330.65 103.87,-318.42 96.53,-307.11\"/>\n<polygon fill=\"black\" stroke=\"black\" points=\"99.43,-305.15 91.04,-298.67 93.56,-308.96 99.43,-305.15\"/>\n<text text-anchor=\"middle\" x=\"85.85\" y=\"-319.42\" font-family=\"Helvetica,sans-Serif\" font-size=\"14.00\">True</text>\n</g>\n<!-- 2 -->\n<g id=\"node3\" class=\"node\">\n<title>2</title>\n<polygon fill=\"#edaa7a\" stroke=\"black\" points=\"296,-306 149,-306 149,-223 296,-223 296,-306\"/>\n<text text-anchor=\"middle\" x=\"222.5\" y=\"-290.8\" font-family=\"Helvetica,sans-Serif\" font-size=\"14.00\">used_year &lt;= 5.5</text>\n<text text-anchor=\"middle\" x=\"222.5\" y=\"-275.8\" font-family=\"Helvetica,sans-Serif\" font-size=\"14.00\">gini = 0.371</text>\n<text text-anchor=\"middle\" x=\"222.5\" y=\"-260.8\" font-family=\"Helvetica,sans-Serif\" font-size=\"14.00\">samples = 48.7%</text>\n<text text-anchor=\"middle\" x=\"222.5\" y=\"-245.8\" font-family=\"Helvetica,sans-Serif\" font-size=\"14.00\">value = [0.754, 0.246]</text>\n<text text-anchor=\"middle\" x=\"222.5\" y=\"-230.8\" font-family=\"Helvetica,sans-Serif\" font-size=\"14.00\">class = good</text>\n</g>\n<!-- 0&#45;&gt;2 -->\n<g id=\"edge2\" class=\"edge\">\n<title>0&#45;&gt;2</title>\n<path fill=\"none\" stroke=\"black\" d=\"M172.21,-341.91C178.01,-333.1 184.2,-323.7 190.18,-314.61\"/>\n<polygon fill=\"black\" stroke=\"black\" points=\"193.26,-316.3 195.83,-306.02 187.41,-312.45 193.26,-316.3\"/>\n<text text-anchor=\"middle\" x=\"200.88\" y=\"-326.81\" font-family=\"Helvetica,sans-Serif\" font-size=\"14.00\">False</text>\n</g>\n<!-- 3 -->\n<g id=\"node4\" class=\"node\">\n<title>3</title>\n<polygon fill=\"#42a1e6\" stroke=\"black\" points=\"219,-187 72,-187 72,-104 219,-104 219,-187\"/>\n<text text-anchor=\"middle\" x=\"145.5\" y=\"-171.8\" font-family=\"Helvetica,sans-Serif\" font-size=\"14.00\">mileage &lt;= 29949.0</text>\n<text text-anchor=\"middle\" x=\"145.5\" y=\"-156.8\" font-family=\"Helvetica,sans-Serif\" font-size=\"14.00\">gini = 0.083</text>\n<text text-anchor=\"middle\" x=\"145.5\" y=\"-141.8\" font-family=\"Helvetica,sans-Serif\" font-size=\"14.00\">samples = 12.5%</text>\n<text text-anchor=\"middle\" x=\"145.5\" y=\"-126.8\" font-family=\"Helvetica,sans-Serif\" font-size=\"14.00\">value = [0.043, 0.957]</text>\n<text text-anchor=\"middle\" x=\"145.5\" y=\"-111.8\" font-family=\"Helvetica,sans-Serif\" font-size=\"14.00\">class = Not Specified</text>\n</g>\n<!-- 2&#45;&gt;3 -->\n<g id=\"edge3\" class=\"edge\">\n<title>2&#45;&gt;3</title>\n<path fill=\"none\" stroke=\"black\" d=\"M195.79,-222.91C189.99,-214.1 183.8,-204.7 177.82,-195.61\"/>\n<polygon fill=\"black\" stroke=\"black\" points=\"180.59,-193.45 172.17,-187.02 174.74,-197.3 180.59,-193.45\"/>\n</g>\n<!-- 6 -->\n<g id=\"node7\" class=\"node\">\n<title>6</title>\n<polygon fill=\"#e58139\" stroke=\"black\" points=\"359.5,-179.5 237.5,-179.5 237.5,-111.5 359.5,-111.5 359.5,-179.5\"/>\n<text text-anchor=\"middle\" x=\"298.5\" y=\"-164.3\" font-family=\"Helvetica,sans-Serif\" font-size=\"14.00\">gini = 0.0</text>\n<text text-anchor=\"middle\" x=\"298.5\" y=\"-149.3\" font-family=\"Helvetica,sans-Serif\" font-size=\"14.00\">samples = 36.2%</text>\n<text text-anchor=\"middle\" x=\"298.5\" y=\"-134.3\" font-family=\"Helvetica,sans-Serif\" font-size=\"14.00\">value = [1.0, 0.0]</text>\n<text text-anchor=\"middle\" x=\"298.5\" y=\"-119.3\" font-family=\"Helvetica,sans-Serif\" font-size=\"14.00\">class = good</text>\n</g>\n<!-- 2&#45;&gt;6 -->\n<g id=\"edge6\" class=\"edge\">\n<title>2&#45;&gt;6</title>\n<path fill=\"none\" stroke=\"black\" d=\"M248.87,-222.91C256.18,-211.65 264.13,-199.42 271.47,-188.11\"/>\n<polygon fill=\"black\" stroke=\"black\" points=\"274.44,-189.96 276.96,-179.67 268.57,-186.15 274.44,-189.96\"/>\n</g>\n<!-- 4 -->\n<g id=\"node5\" class=\"node\">\n<title>4</title>\n<polygon fill=\"#399de5\" stroke=\"black\" points=\"143,-68 0,-68 0,0 143,0 143,-68\"/>\n<text text-anchor=\"middle\" x=\"71.5\" y=\"-52.8\" font-family=\"Helvetica,sans-Serif\" font-size=\"14.00\">gini = 0.0</text>\n<text text-anchor=\"middle\" x=\"71.5\" y=\"-37.8\" font-family=\"Helvetica,sans-Serif\" font-size=\"14.00\">samples = 12.0%</text>\n<text text-anchor=\"middle\" x=\"71.5\" y=\"-22.8\" font-family=\"Helvetica,sans-Serif\" font-size=\"14.00\">value = [0.0, 1.0]</text>\n<text text-anchor=\"middle\" x=\"71.5\" y=\"-7.8\" font-family=\"Helvetica,sans-Serif\" font-size=\"14.00\">class = Not Specified</text>\n</g>\n<!-- 3&#45;&gt;4 -->\n<g id=\"edge4\" class=\"edge\">\n<title>3&#45;&gt;4</title>\n<path fill=\"none\" stroke=\"black\" d=\"M117.95,-103.73C111.97,-94.88 105.63,-85.51 99.63,-76.63\"/>\n<polygon fill=\"black\" stroke=\"black\" points=\"102.5,-74.63 94,-68.3 96.7,-78.54 102.5,-74.63\"/>\n</g>\n<!-- 5 -->\n<g id=\"node6\" class=\"node\">\n<title>5</title>\n<polygon fill=\"#e58139\" stroke=\"black\" points=\"278,-68 161,-68 161,0 278,0 278,-68\"/>\n<text text-anchor=\"middle\" x=\"219.5\" y=\"-52.8\" font-family=\"Helvetica,sans-Serif\" font-size=\"14.00\">gini = 0.0</text>\n<text text-anchor=\"middle\" x=\"219.5\" y=\"-37.8\" font-family=\"Helvetica,sans-Serif\" font-size=\"14.00\">samples = 0.5%</text>\n<text text-anchor=\"middle\" x=\"219.5\" y=\"-22.8\" font-family=\"Helvetica,sans-Serif\" font-size=\"14.00\">value = [1.0, 0.0]</text>\n<text text-anchor=\"middle\" x=\"219.5\" y=\"-7.8\" font-family=\"Helvetica,sans-Serif\" font-size=\"14.00\">class = good</text>\n</g>\n<!-- 3&#45;&gt;5 -->\n<g id=\"edge5\" class=\"edge\">\n<title>3&#45;&gt;5</title>\n<path fill=\"none\" stroke=\"black\" d=\"M173.05,-103.73C179.03,-94.88 185.37,-85.51 191.37,-76.63\"/>\n<polygon fill=\"black\" stroke=\"black\" points=\"194.3,-78.54 197,-68.3 188.5,-74.63 194.3,-78.54\"/>\n</g>\n</g>\n</svg>\n"
          },
          "metadata": {},
          "execution_count": 11
        }
      ]
    },
    {
      "cell_type": "code",
      "source": [
        "# 'km/l 제거'\n",
        "features = df.columns.drop(['size_and_type','mpg','km/l',target])\n",
        "\n",
        "# train\n",
        "X_train = train[features]\n",
        "y_train = train[target]\n",
        "\n",
        "# val\n",
        "X_val = val[features]\n",
        "y_val = val[target]\n",
        "\n",
        "# 새로운 파이프라인 생성.\n",
        "pipe = make_pipeline(\n",
        "    OrdinalEncoder(),\n",
        "    DecisionTreeClassifier(max_depth = 5,\n",
        "                           random_state = 42))\n",
        "\n",
        "\n",
        "# fit\n",
        "pipe.fit(X_train, y_train)\n",
        "print(f'검증 정확도:{pipe.score(X_val, y_val)}')"
      ],
      "metadata": {
        "colab": {
          "base_uri": "https://localhost:8080/"
        },
        "id": "J2rhEQJ1InAY",
        "outputId": "908ff541-c28d-4a95-d087-cfbea383a407"
      },
      "execution_count": 12,
      "outputs": [
        {
          "output_type": "stream",
          "name": "stdout",
          "text": [
            "검증 정확도:0.9490800171159607\n"
          ]
        }
      ]
    },
    {
      "cell_type": "code",
      "source": [
        "# 트리를 다시 한 번 시각화하여 봅시다.\n",
        "tree = pipe.named_steps['decisiontreeclassifier']\n",
        "\n",
        "\n",
        "dot_data = export_graphviz(\n",
        "    tree,\n",
        "    feature_names= X_train.columns,\n",
        "    class_names = y_train.unique().astype(str),\n",
        "    filled = True,\n",
        "    proportion = True,\n",
        ")\n",
        "\n",
        "graphviz.Source(dot_data)"
      ],
      "metadata": {
        "colab": {
          "base_uri": "https://localhost:8080/",
          "height": 934
        },
        "id": "L_V4aANjIora",
        "outputId": "342a43db-daec-4d56-c300-25872750de98"
      },
      "execution_count": 13,
      "outputs": [
        {
          "output_type": "execute_result",
          "data": {
            "text/plain": [
              "<graphviz.files.Source at 0x7f7922b8c760>"
            ],
            "image/svg+xml": "<?xml version=\"1.0\" encoding=\"UTF-8\" standalone=\"no\"?>\n<!DOCTYPE svg PUBLIC \"-//W3C//DTD SVG 1.1//EN\"\n \"http://www.w3.org/Graphics/SVG/1.1/DTD/svg11.dtd\">\n<!-- Generated by graphviz version 2.43.0 (0)\n -->\n<!-- Title: Tree Pages: 1 -->\n<svg width=\"1962pt\" height=\"671pt\"\n viewBox=\"0.00 0.00 1962.00 671.00\" xmlns=\"http://www.w3.org/2000/svg\" xmlns:xlink=\"http://www.w3.org/1999/xlink\">\n<g id=\"graph0\" class=\"graph\" transform=\"scale(1 1) rotate(0) translate(4 667)\">\n<title>Tree</title>\n<polygon fill=\"white\" stroke=\"transparent\" points=\"-4,4 -4,-667 1958,-667 1958,4 -4,4\"/>\n<!-- 0 -->\n<g id=\"node1\" class=\"node\">\n<title>0</title>\n<polygon fill=\"#e99254\" stroke=\"black\" points=\"1194.5,-663 1062.5,-663 1062.5,-580 1194.5,-580 1194.5,-663\"/>\n<text text-anchor=\"middle\" x=\"1128.5\" y=\"-647.8\" font-family=\"Helvetica,sans-Serif\" font-size=\"14.00\">used_year &lt;= 5.5</text>\n<text text-anchor=\"middle\" x=\"1128.5\" y=\"-632.8\" font-family=\"Helvetica,sans-Serif\" font-size=\"14.00\">gini = 0.211</text>\n<text text-anchor=\"middle\" x=\"1128.5\" y=\"-617.8\" font-family=\"Helvetica,sans-Serif\" font-size=\"14.00\">samples = 100.0%</text>\n<text text-anchor=\"middle\" x=\"1128.5\" y=\"-602.8\" font-family=\"Helvetica,sans-Serif\" font-size=\"14.00\">value = [0.88, 0.12]</text>\n<text text-anchor=\"middle\" x=\"1128.5\" y=\"-587.8\" font-family=\"Helvetica,sans-Serif\" font-size=\"14.00\">class = good</text>\n</g>\n<!-- 1 -->\n<g id=\"node2\" class=\"node\">\n<title>1</title>\n<polygon fill=\"#eda876\" stroke=\"black\" points=\"1126,-544 979,-544 979,-461 1126,-461 1126,-544\"/>\n<text text-anchor=\"middle\" x=\"1052.5\" y=\"-528.8\" font-family=\"Helvetica,sans-Serif\" font-size=\"14.00\">price &lt;= 21997.5</text>\n<text text-anchor=\"middle\" x=\"1052.5\" y=\"-513.8\" font-family=\"Helvetica,sans-Serif\" font-size=\"14.00\">gini = 0.36</text>\n<text text-anchor=\"middle\" x=\"1052.5\" y=\"-498.8\" font-family=\"Helvetica,sans-Serif\" font-size=\"14.00\">samples = 50.9%</text>\n<text text-anchor=\"middle\" x=\"1052.5\" y=\"-483.8\" font-family=\"Helvetica,sans-Serif\" font-size=\"14.00\">value = [0.765, 0.235]</text>\n<text text-anchor=\"middle\" x=\"1052.5\" y=\"-468.8\" font-family=\"Helvetica,sans-Serif\" font-size=\"14.00\">class = good</text>\n</g>\n<!-- 0&#45;&gt;1 -->\n<g id=\"edge1\" class=\"edge\">\n<title>0&#45;&gt;1</title>\n<path fill=\"none\" stroke=\"black\" d=\"M1102.13,-579.91C1096.41,-571.1 1090.31,-561.7 1084.4,-552.61\"/>\n<polygon fill=\"black\" stroke=\"black\" points=\"1087.2,-550.5 1078.82,-544.02 1081.33,-554.31 1087.2,-550.5\"/>\n<text text-anchor=\"middle\" x=\"1073.63\" y=\"-564.78\" font-family=\"Helvetica,sans-Serif\" font-size=\"14.00\">True</text>\n</g>\n<!-- 28 -->\n<g id=\"node29\" class=\"node\">\n<title>28</title>\n<polygon fill=\"#e58139\" stroke=\"black\" points=\"1266.5,-536.5 1144.5,-536.5 1144.5,-468.5 1266.5,-468.5 1266.5,-536.5\"/>\n<text text-anchor=\"middle\" x=\"1205.5\" y=\"-521.3\" font-family=\"Helvetica,sans-Serif\" font-size=\"14.00\">gini = 0.0</text>\n<text text-anchor=\"middle\" x=\"1205.5\" y=\"-506.3\" font-family=\"Helvetica,sans-Serif\" font-size=\"14.00\">samples = 49.1%</text>\n<text text-anchor=\"middle\" x=\"1205.5\" y=\"-491.3\" font-family=\"Helvetica,sans-Serif\" font-size=\"14.00\">value = [1.0, 0.0]</text>\n<text text-anchor=\"middle\" x=\"1205.5\" y=\"-476.3\" font-family=\"Helvetica,sans-Serif\" font-size=\"14.00\">class = good</text>\n</g>\n<!-- 0&#45;&gt;28 -->\n<g id=\"edge28\" class=\"edge\">\n<title>0&#45;&gt;28</title>\n<path fill=\"none\" stroke=\"black\" d=\"M1155.21,-579.91C1162.62,-568.65 1170.67,-556.42 1178.12,-545.11\"/>\n<polygon fill=\"black\" stroke=\"black\" points=\"1181.1,-546.94 1183.67,-536.67 1175.25,-543.1 1181.1,-546.94\"/>\n<text text-anchor=\"middle\" x=\"1188.72\" y=\"-557.45\" font-family=\"Helvetica,sans-Serif\" font-size=\"14.00\">False</text>\n</g>\n<!-- 2 -->\n<g id=\"node3\" class=\"node\">\n<title>2</title>\n<polygon fill=\"#c8e4f8\" stroke=\"black\" points=\"959,-425 816,-425 816,-342 959,-342 959,-425\"/>\n<text text-anchor=\"middle\" x=\"887.5\" y=\"-409.8\" font-family=\"Helvetica,sans-Serif\" font-size=\"14.00\">used_year &lt;= 4.5</text>\n<text text-anchor=\"middle\" x=\"887.5\" y=\"-394.8\" font-family=\"Helvetica,sans-Serif\" font-size=\"14.00\">gini = 0.487</text>\n<text text-anchor=\"middle\" x=\"887.5\" y=\"-379.8\" font-family=\"Helvetica,sans-Serif\" font-size=\"14.00\">samples = 10.2%</text>\n<text text-anchor=\"middle\" x=\"887.5\" y=\"-364.8\" font-family=\"Helvetica,sans-Serif\" font-size=\"14.00\">value = [0.42, 0.58]</text>\n<text text-anchor=\"middle\" x=\"887.5\" y=\"-349.8\" font-family=\"Helvetica,sans-Serif\" font-size=\"14.00\">class = Not Specified</text>\n</g>\n<!-- 1&#45;&gt;2 -->\n<g id=\"edge2\" class=\"edge\">\n<title>1&#45;&gt;2</title>\n<path fill=\"none\" stroke=\"black\" d=\"M995.25,-460.91C981.56,-451.2 966.84,-440.76 952.81,-430.81\"/>\n<polygon fill=\"black\" stroke=\"black\" points=\"954.83,-427.95 944.64,-425.02 950.78,-433.66 954.83,-427.95\"/>\n</g>\n<!-- 15 -->\n<g id=\"node16\" class=\"node\">\n<title>15</title>\n<polygon fill=\"#ea975c\" stroke=\"black\" points=\"1380,-425 1233,-425 1233,-342 1380,-342 1380,-425\"/>\n<text text-anchor=\"middle\" x=\"1306.5\" y=\"-409.8\" font-family=\"Helvetica,sans-Serif\" font-size=\"14.00\">fuelType &lt;= 1.5</text>\n<text text-anchor=\"middle\" x=\"1306.5\" y=\"-394.8\" font-family=\"Helvetica,sans-Serif\" font-size=\"14.00\">gini = 0.253</text>\n<text text-anchor=\"middle\" x=\"1306.5\" y=\"-379.8\" font-family=\"Helvetica,sans-Serif\" font-size=\"14.00\">samples = 40.7%</text>\n<text text-anchor=\"middle\" x=\"1306.5\" y=\"-364.8\" font-family=\"Helvetica,sans-Serif\" font-size=\"14.00\">value = [0.852, 0.148]</text>\n<text text-anchor=\"middle\" x=\"1306.5\" y=\"-349.8\" font-family=\"Helvetica,sans-Serif\" font-size=\"14.00\">class = good</text>\n</g>\n<!-- 1&#45;&gt;15 -->\n<g id=\"edge15\" class=\"edge\">\n<title>1&#45;&gt;15</title>\n<path fill=\"none\" stroke=\"black\" d=\"M1126.21,-465.38C1129.34,-463.89 1132.45,-462.43 1135.5,-461 1163.96,-447.7 1195.28,-433.54 1223.26,-421.07\"/>\n<polygon fill=\"black\" stroke=\"black\" points=\"1224.89,-424.18 1232.61,-416.91 1222.05,-417.78 1224.89,-424.18\"/>\n</g>\n<!-- 3 -->\n<g id=\"node4\" class=\"node\">\n<title>3</title>\n<polygon fill=\"#f9e0ce\" stroke=\"black\" points=\"555,-306 408,-306 408,-223 555,-223 555,-306\"/>\n<text text-anchor=\"middle\" x=\"481.5\" y=\"-290.8\" font-family=\"Helvetica,sans-Serif\" font-size=\"14.00\">fuelType &lt;= 1.5</text>\n<text text-anchor=\"middle\" x=\"481.5\" y=\"-275.8\" font-family=\"Helvetica,sans-Serif\" font-size=\"14.00\">gini = 0.49</text>\n<text text-anchor=\"middle\" x=\"481.5\" y=\"-260.8\" font-family=\"Helvetica,sans-Serif\" font-size=\"14.00\">samples = 5.9%</text>\n<text text-anchor=\"middle\" x=\"481.5\" y=\"-245.8\" font-family=\"Helvetica,sans-Serif\" font-size=\"14.00\">value = [0.571, 0.429]</text>\n<text text-anchor=\"middle\" x=\"481.5\" y=\"-230.8\" font-family=\"Helvetica,sans-Serif\" font-size=\"14.00\">class = good</text>\n</g>\n<!-- 2&#45;&gt;3 -->\n<g id=\"edge3\" class=\"edge\">\n<title>2&#45;&gt;3</title>\n<path fill=\"none\" stroke=\"black\" d=\"M815.85,-361.85C745.7,-341.64 638.87,-310.85 564.93,-289.54\"/>\n<polygon fill=\"black\" stroke=\"black\" points=\"565.75,-286.14 555.17,-286.73 563.81,-292.86 565.75,-286.14\"/>\n</g>\n<!-- 10 -->\n<g id=\"node11\" class=\"node\">\n<title>10</title>\n<polygon fill=\"#6eb7ec\" stroke=\"black\" points=\"961,-306 814,-306 814,-223 961,-223 961,-306\"/>\n<text text-anchor=\"middle\" x=\"887.5\" y=\"-290.8\" font-family=\"Helvetica,sans-Serif\" font-size=\"14.00\">mileage &lt;= 29949.0</text>\n<text text-anchor=\"middle\" x=\"887.5\" y=\"-275.8\" font-family=\"Helvetica,sans-Serif\" font-size=\"14.00\">gini = 0.334</text>\n<text text-anchor=\"middle\" x=\"887.5\" y=\"-260.8\" font-family=\"Helvetica,sans-Serif\" font-size=\"14.00\">samples = 4.3%</text>\n<text text-anchor=\"middle\" x=\"887.5\" y=\"-245.8\" font-family=\"Helvetica,sans-Serif\" font-size=\"14.00\">value = [0.212, 0.788]</text>\n<text text-anchor=\"middle\" x=\"887.5\" y=\"-230.8\" font-family=\"Helvetica,sans-Serif\" font-size=\"14.00\">class = Not Specified</text>\n</g>\n<!-- 2&#45;&gt;10 -->\n<g id=\"edge10\" class=\"edge\">\n<title>2&#45;&gt;10</title>\n<path fill=\"none\" stroke=\"black\" d=\"M887.5,-341.91C887.5,-333.65 887.5,-324.86 887.5,-316.3\"/>\n<polygon fill=\"black\" stroke=\"black\" points=\"891,-316.02 887.5,-306.02 884,-316.02 891,-316.02\"/>\n</g>\n<!-- 4 -->\n<g id=\"node5\" class=\"node\">\n<title>4</title>\n<polygon fill=\"#54aae9\" stroke=\"black\" points=\"306,-187 163,-187 163,-104 306,-104 306,-187\"/>\n<text text-anchor=\"middle\" x=\"234.5\" y=\"-171.8\" font-family=\"Helvetica,sans-Serif\" font-size=\"14.00\">size &lt;= 3.5</text>\n<text text-anchor=\"middle\" x=\"234.5\" y=\"-156.8\" font-family=\"Helvetica,sans-Serif\" font-size=\"14.00\">gini = 0.211</text>\n<text text-anchor=\"middle\" x=\"234.5\" y=\"-141.8\" font-family=\"Helvetica,sans-Serif\" font-size=\"14.00\">samples = 2.4%</text>\n<text text-anchor=\"middle\" x=\"234.5\" y=\"-126.8\" font-family=\"Helvetica,sans-Serif\" font-size=\"14.00\">value = [0.12, 0.88]</text>\n<text text-anchor=\"middle\" x=\"234.5\" y=\"-111.8\" font-family=\"Helvetica,sans-Serif\" font-size=\"14.00\">class = Not Specified</text>\n</g>\n<!-- 3&#45;&gt;4 -->\n<g id=\"edge4\" class=\"edge\">\n<title>3&#45;&gt;4</title>\n<path fill=\"none\" stroke=\"black\" d=\"M407.73,-228.55C378.61,-214.76 345.07,-198.88 315.3,-184.78\"/>\n<polygon fill=\"black\" stroke=\"black\" points=\"316.73,-181.58 306.2,-180.46 313.73,-187.9 316.73,-181.58\"/>\n</g>\n<!-- 7 -->\n<g id=\"node8\" class=\"node\">\n<title>7</title>\n<polygon fill=\"#e99355\" stroke=\"black\" points=\"555,-187 408,-187 408,-104 555,-104 555,-187\"/>\n<text text-anchor=\"middle\" x=\"481.5\" y=\"-171.8\" font-family=\"Helvetica,sans-Serif\" font-size=\"14.00\">price &lt;= 19457.5</text>\n<text text-anchor=\"middle\" x=\"481.5\" y=\"-156.8\" font-family=\"Helvetica,sans-Serif\" font-size=\"14.00\">gini = 0.219</text>\n<text text-anchor=\"middle\" x=\"481.5\" y=\"-141.8\" font-family=\"Helvetica,sans-Serif\" font-size=\"14.00\">samples = 3.5%</text>\n<text text-anchor=\"middle\" x=\"481.5\" y=\"-126.8\" font-family=\"Helvetica,sans-Serif\" font-size=\"14.00\">value = [0.875, 0.125]</text>\n<text text-anchor=\"middle\" x=\"481.5\" y=\"-111.8\" font-family=\"Helvetica,sans-Serif\" font-size=\"14.00\">class = good</text>\n</g>\n<!-- 3&#45;&gt;7 -->\n<g id=\"edge7\" class=\"edge\">\n<title>3&#45;&gt;7</title>\n<path fill=\"none\" stroke=\"black\" d=\"M481.5,-222.91C481.5,-214.65 481.5,-205.86 481.5,-197.3\"/>\n<polygon fill=\"black\" stroke=\"black\" points=\"485,-197.02 481.5,-187.02 478,-197.02 485,-197.02\"/>\n</g>\n<!-- 5 -->\n<g id=\"node6\" class=\"node\">\n<title>5</title>\n<polygon fill=\"#399de5\" stroke=\"black\" points=\"143,-68 0,-68 0,0 143,0 143,-68\"/>\n<text text-anchor=\"middle\" x=\"71.5\" y=\"-52.8\" font-family=\"Helvetica,sans-Serif\" font-size=\"14.00\">gini = 0.0</text>\n<text text-anchor=\"middle\" x=\"71.5\" y=\"-37.8\" font-family=\"Helvetica,sans-Serif\" font-size=\"14.00\">samples = 1.4%</text>\n<text text-anchor=\"middle\" x=\"71.5\" y=\"-22.8\" font-family=\"Helvetica,sans-Serif\" font-size=\"14.00\">value = [0.0, 1.0]</text>\n<text text-anchor=\"middle\" x=\"71.5\" y=\"-7.8\" font-family=\"Helvetica,sans-Serif\" font-size=\"14.00\">class = Not Specified</text>\n</g>\n<!-- 4&#45;&gt;5 -->\n<g id=\"edge5\" class=\"edge\">\n<title>4&#45;&gt;5</title>\n<path fill=\"none\" stroke=\"black\" d=\"M173.8,-103.73C159.2,-93.92 143.64,-83.46 129.18,-73.75\"/>\n<polygon fill=\"black\" stroke=\"black\" points=\"131.06,-70.8 120.81,-68.13 127.16,-76.61 131.06,-70.8\"/>\n</g>\n<!-- 6 -->\n<g id=\"node7\" class=\"node\">\n<title>6</title>\n<polygon fill=\"#85c3ef\" stroke=\"black\" points=\"308,-68 161,-68 161,0 308,0 308,-68\"/>\n<text text-anchor=\"middle\" x=\"234.5\" y=\"-52.8\" font-family=\"Helvetica,sans-Serif\" font-size=\"14.00\">gini = 0.401</text>\n<text text-anchor=\"middle\" x=\"234.5\" y=\"-37.8\" font-family=\"Helvetica,sans-Serif\" font-size=\"14.00\">samples = 1.0%</text>\n<text text-anchor=\"middle\" x=\"234.5\" y=\"-22.8\" font-family=\"Helvetica,sans-Serif\" font-size=\"14.00\">value = [0.278, 0.722]</text>\n<text text-anchor=\"middle\" x=\"234.5\" y=\"-7.8\" font-family=\"Helvetica,sans-Serif\" font-size=\"14.00\">class = Not Specified</text>\n</g>\n<!-- 4&#45;&gt;6 -->\n<g id=\"edge6\" class=\"edge\">\n<title>4&#45;&gt;6</title>\n<path fill=\"none\" stroke=\"black\" d=\"M234.5,-103.73C234.5,-95.52 234.5,-86.86 234.5,-78.56\"/>\n<polygon fill=\"black\" stroke=\"black\" points=\"238,-78.3 234.5,-68.3 231,-78.3 238,-78.3\"/>\n</g>\n<!-- 8 -->\n<g id=\"node9\" class=\"node\">\n<title>8</title>\n<polygon fill=\"#f4c8a8\" stroke=\"black\" points=\"473,-68 326,-68 326,0 473,0 473,-68\"/>\n<text text-anchor=\"middle\" x=\"399.5\" y=\"-52.8\" font-family=\"Helvetica,sans-Serif\" font-size=\"14.00\">gini = 0.46</text>\n<text text-anchor=\"middle\" x=\"399.5\" y=\"-37.8\" font-family=\"Helvetica,sans-Serif\" font-size=\"14.00\">samples = 0.9%</text>\n<text text-anchor=\"middle\" x=\"399.5\" y=\"-22.8\" font-family=\"Helvetica,sans-Serif\" font-size=\"14.00\">value = [0.641, 0.359]</text>\n<text text-anchor=\"middle\" x=\"399.5\" y=\"-7.8\" font-family=\"Helvetica,sans-Serif\" font-size=\"14.00\">class = good</text>\n</g>\n<!-- 7&#45;&gt;8 -->\n<g id=\"edge8\" class=\"edge\">\n<title>7&#45;&gt;8</title>\n<path fill=\"none\" stroke=\"black\" d=\"M450.97,-103.73C444.27,-94.79 437.18,-85.32 430.47,-76.36\"/>\n<polygon fill=\"black\" stroke=\"black\" points=\"433.23,-74.21 424.44,-68.3 427.63,-78.4 433.23,-74.21\"/>\n</g>\n<!-- 9 -->\n<g id=\"node10\" class=\"node\">\n<title>9</title>\n<polygon fill=\"#e68742\" stroke=\"black\" points=\"638,-68 491,-68 491,0 638,0 638,-68\"/>\n<text text-anchor=\"middle\" x=\"564.5\" y=\"-52.8\" font-family=\"Helvetica,sans-Serif\" font-size=\"14.00\">gini = 0.083</text>\n<text text-anchor=\"middle\" x=\"564.5\" y=\"-37.8\" font-family=\"Helvetica,sans-Serif\" font-size=\"14.00\">samples = 2.6%</text>\n<text text-anchor=\"middle\" x=\"564.5\" y=\"-22.8\" font-family=\"Helvetica,sans-Serif\" font-size=\"14.00\">value = [0.957, 0.043]</text>\n<text text-anchor=\"middle\" x=\"564.5\" y=\"-7.8\" font-family=\"Helvetica,sans-Serif\" font-size=\"14.00\">class = good</text>\n</g>\n<!-- 7&#45;&gt;9 -->\n<g id=\"edge9\" class=\"edge\">\n<title>7&#45;&gt;9</title>\n<path fill=\"none\" stroke=\"black\" d=\"M512.41,-103.73C519.18,-94.79 526.36,-85.32 533.15,-76.36\"/>\n<polygon fill=\"black\" stroke=\"black\" points=\"536.01,-78.38 539.26,-68.3 530.43,-74.15 536.01,-78.38\"/>\n</g>\n<!-- 11 -->\n<g id=\"node12\" class=\"node\">\n<title>11</title>\n<polygon fill=\"#54abe9\" stroke=\"black\" points=\"886,-187 739,-187 739,-104 886,-104 886,-187\"/>\n<text text-anchor=\"middle\" x=\"812.5\" y=\"-171.8\" font-family=\"Helvetica,sans-Serif\" font-size=\"14.00\">mileage &lt;= 6837.0</text>\n<text text-anchor=\"middle\" x=\"812.5\" y=\"-156.8\" font-family=\"Helvetica,sans-Serif\" font-size=\"14.00\">gini = 0.214</text>\n<text text-anchor=\"middle\" x=\"812.5\" y=\"-141.8\" font-family=\"Helvetica,sans-Serif\" font-size=\"14.00\">samples = 3.9%</text>\n<text text-anchor=\"middle\" x=\"812.5\" y=\"-126.8\" font-family=\"Helvetica,sans-Serif\" font-size=\"14.00\">value = [0.122, 0.878]</text>\n<text text-anchor=\"middle\" x=\"812.5\" y=\"-111.8\" font-family=\"Helvetica,sans-Serif\" font-size=\"14.00\">class = Not Specified</text>\n</g>\n<!-- 10&#45;&gt;11 -->\n<g id=\"edge11\" class=\"edge\">\n<title>10&#45;&gt;11</title>\n<path fill=\"none\" stroke=\"black\" d=\"M861.48,-222.91C855.84,-214.1 849.81,-204.7 843.98,-195.61\"/>\n<polygon fill=\"black\" stroke=\"black\" points=\"846.82,-193.55 838.47,-187.02 840.93,-197.33 846.82,-193.55\"/>\n</g>\n<!-- 14 -->\n<g id=\"node15\" class=\"node\">\n<title>14</title>\n<polygon fill=\"#e58139\" stroke=\"black\" points=\"1021,-179.5 904,-179.5 904,-111.5 1021,-111.5 1021,-179.5\"/>\n<text text-anchor=\"middle\" x=\"962.5\" y=\"-164.3\" font-family=\"Helvetica,sans-Serif\" font-size=\"14.00\">gini = 0.0</text>\n<text text-anchor=\"middle\" x=\"962.5\" y=\"-149.3\" font-family=\"Helvetica,sans-Serif\" font-size=\"14.00\">samples = 0.4%</text>\n<text text-anchor=\"middle\" x=\"962.5\" y=\"-134.3\" font-family=\"Helvetica,sans-Serif\" font-size=\"14.00\">value = [1.0, 0.0]</text>\n<text text-anchor=\"middle\" x=\"962.5\" y=\"-119.3\" font-family=\"Helvetica,sans-Serif\" font-size=\"14.00\">class = good</text>\n</g>\n<!-- 10&#45;&gt;14 -->\n<g id=\"edge14\" class=\"edge\">\n<title>10&#45;&gt;14</title>\n<path fill=\"none\" stroke=\"black\" d=\"M913.52,-222.91C920.74,-211.65 928.58,-199.42 935.83,-188.11\"/>\n<polygon fill=\"black\" stroke=\"black\" points=\"938.79,-189.97 941.24,-179.67 932.9,-186.2 938.79,-189.97\"/>\n</g>\n<!-- 12 -->\n<g id=\"node13\" class=\"node\">\n<title>12</title>\n<polygon fill=\"#cee6f8\" stroke=\"black\" points=\"803,-68 656,-68 656,0 803,0 803,-68\"/>\n<text text-anchor=\"middle\" x=\"729.5\" y=\"-52.8\" font-family=\"Helvetica,sans-Serif\" font-size=\"14.00\">gini = 0.49</text>\n<text text-anchor=\"middle\" x=\"729.5\" y=\"-37.8\" font-family=\"Helvetica,sans-Serif\" font-size=\"14.00\">samples = 0.3%</text>\n<text text-anchor=\"middle\" x=\"729.5\" y=\"-22.8\" font-family=\"Helvetica,sans-Serif\" font-size=\"14.00\">value = [0.429, 0.571]</text>\n<text text-anchor=\"middle\" x=\"729.5\" y=\"-7.8\" font-family=\"Helvetica,sans-Serif\" font-size=\"14.00\">class = Not Specified</text>\n</g>\n<!-- 11&#45;&gt;12 -->\n<g id=\"edge12\" class=\"edge\">\n<title>11&#45;&gt;12</title>\n<path fill=\"none\" stroke=\"black\" d=\"M781.59,-103.73C774.82,-94.79 767.64,-85.32 760.85,-76.36\"/>\n<polygon fill=\"black\" stroke=\"black\" points=\"763.57,-74.15 754.74,-68.3 757.99,-78.38 763.57,-74.15\"/>\n</g>\n<!-- 13 -->\n<g id=\"node14\" class=\"node\">\n<title>13</title>\n<polygon fill=\"#4ea7e8\" stroke=\"black\" points=\"968,-68 821,-68 821,0 968,0 968,-68\"/>\n<text text-anchor=\"middle\" x=\"894.5\" y=\"-52.8\" font-family=\"Helvetica,sans-Serif\" font-size=\"14.00\">gini = 0.174</text>\n<text text-anchor=\"middle\" x=\"894.5\" y=\"-37.8\" font-family=\"Helvetica,sans-Serif\" font-size=\"14.00\">samples = 3.6%</text>\n<text text-anchor=\"middle\" x=\"894.5\" y=\"-22.8\" font-family=\"Helvetica,sans-Serif\" font-size=\"14.00\">value = [0.096, 0.904]</text>\n<text text-anchor=\"middle\" x=\"894.5\" y=\"-7.8\" font-family=\"Helvetica,sans-Serif\" font-size=\"14.00\">class = Not Specified</text>\n</g>\n<!-- 11&#45;&gt;13 -->\n<g id=\"edge13\" class=\"edge\">\n<title>11&#45;&gt;13</title>\n<path fill=\"none\" stroke=\"black\" d=\"M843.03,-103.73C849.73,-94.79 856.82,-85.32 863.53,-76.36\"/>\n<polygon fill=\"black\" stroke=\"black\" points=\"866.37,-78.4 869.56,-68.3 860.77,-74.21 866.37,-78.4\"/>\n</g>\n<!-- 16 -->\n<g id=\"node17\" class=\"node\">\n<title>16</title>\n<polygon fill=\"#eeae7f\" stroke=\"black\" points=\"1380,-306 1233,-306 1233,-223 1380,-223 1380,-306\"/>\n<text text-anchor=\"middle\" x=\"1306.5\" y=\"-290.8\" font-family=\"Helvetica,sans-Serif\" font-size=\"14.00\">price &lt;= 30739.0</text>\n<text text-anchor=\"middle\" x=\"1306.5\" y=\"-275.8\" font-family=\"Helvetica,sans-Serif\" font-size=\"14.00\">gini = 0.386</text>\n<text text-anchor=\"middle\" x=\"1306.5\" y=\"-260.8\" font-family=\"Helvetica,sans-Serif\" font-size=\"14.00\">samples = 20.5%</text>\n<text text-anchor=\"middle\" x=\"1306.5\" y=\"-245.8\" font-family=\"Helvetica,sans-Serif\" font-size=\"14.00\">value = [0.738, 0.262]</text>\n<text text-anchor=\"middle\" x=\"1306.5\" y=\"-230.8\" font-family=\"Helvetica,sans-Serif\" font-size=\"14.00\">class = good</text>\n</g>\n<!-- 15&#45;&gt;16 -->\n<g id=\"edge16\" class=\"edge\">\n<title>15&#45;&gt;16</title>\n<path fill=\"none\" stroke=\"black\" d=\"M1306.5,-341.91C1306.5,-333.65 1306.5,-324.86 1306.5,-316.3\"/>\n<polygon fill=\"black\" stroke=\"black\" points=\"1310,-316.02 1306.5,-306.02 1303,-316.02 1310,-316.02\"/>\n</g>\n<!-- 23 -->\n<g id=\"node24\" class=\"node\">\n<title>23</title>\n<polygon fill=\"#e68540\" stroke=\"black\" points=\"1793,-306 1646,-306 1646,-223 1793,-223 1793,-306\"/>\n<text text-anchor=\"middle\" x=\"1719.5\" y=\"-290.8\" font-family=\"Helvetica,sans-Serif\" font-size=\"14.00\">fuelType &lt;= 2.5</text>\n<text text-anchor=\"middle\" x=\"1719.5\" y=\"-275.8\" font-family=\"Helvetica,sans-Serif\" font-size=\"14.00\">gini = 0.064</text>\n<text text-anchor=\"middle\" x=\"1719.5\" y=\"-260.8\" font-family=\"Helvetica,sans-Serif\" font-size=\"14.00\">samples = 20.1%</text>\n<text text-anchor=\"middle\" x=\"1719.5\" y=\"-245.8\" font-family=\"Helvetica,sans-Serif\" font-size=\"14.00\">value = [0.967, 0.033]</text>\n<text text-anchor=\"middle\" x=\"1719.5\" y=\"-230.8\" font-family=\"Helvetica,sans-Serif\" font-size=\"14.00\">class = good</text>\n</g>\n<!-- 15&#45;&gt;23 -->\n<g id=\"edge23\" class=\"edge\">\n<title>15&#45;&gt;23</title>\n<path fill=\"none\" stroke=\"black\" d=\"M1380.34,-361.58C1452.17,-341.23 1561.14,-310.36 1636.08,-289.13\"/>\n<polygon fill=\"black\" stroke=\"black\" points=\"1637.29,-292.43 1645.96,-286.33 1635.38,-285.69 1637.29,-292.43\"/>\n</g>\n<!-- 17 -->\n<g id=\"node18\" class=\"node\">\n<title>17</title>\n<polygon fill=\"#fefbf9\" stroke=\"black\" points=\"1298,-187 1151,-187 1151,-104 1298,-104 1298,-187\"/>\n<text text-anchor=\"middle\" x=\"1224.5\" y=\"-171.8\" font-family=\"Helvetica,sans-Serif\" font-size=\"14.00\">type &lt;= 2.5</text>\n<text text-anchor=\"middle\" x=\"1224.5\" y=\"-156.8\" font-family=\"Helvetica,sans-Serif\" font-size=\"14.00\">gini = 0.5</text>\n<text text-anchor=\"middle\" x=\"1224.5\" y=\"-141.8\" font-family=\"Helvetica,sans-Serif\" font-size=\"14.00\">samples = 9.0%</text>\n<text text-anchor=\"middle\" x=\"1224.5\" y=\"-126.8\" font-family=\"Helvetica,sans-Serif\" font-size=\"14.00\">value = [0.507, 0.493]</text>\n<text text-anchor=\"middle\" x=\"1224.5\" y=\"-111.8\" font-family=\"Helvetica,sans-Serif\" font-size=\"14.00\">class = good</text>\n</g>\n<!-- 16&#45;&gt;17 -->\n<g id=\"edge17\" class=\"edge\">\n<title>16&#45;&gt;17</title>\n<path fill=\"none\" stroke=\"black\" d=\"M1278.05,-222.91C1271.82,-214.01 1265.16,-204.51 1258.72,-195.33\"/>\n<polygon fill=\"black\" stroke=\"black\" points=\"1261.5,-193.2 1252.9,-187.02 1255.77,-197.22 1261.5,-193.2\"/>\n</g>\n<!-- 20 -->\n<g id=\"node21\" class=\"node\">\n<title>20</title>\n<polygon fill=\"#e78c4b\" stroke=\"black\" points=\"1463,-187 1316,-187 1316,-104 1463,-104 1463,-187\"/>\n<text text-anchor=\"middle\" x=\"1389.5\" y=\"-171.8\" font-family=\"Helvetica,sans-Serif\" font-size=\"14.00\">price &lt;= 36378.0</text>\n<text text-anchor=\"middle\" x=\"1389.5\" y=\"-156.8\" font-family=\"Helvetica,sans-Serif\" font-size=\"14.00\">gini = 0.15</text>\n<text text-anchor=\"middle\" x=\"1389.5\" y=\"-141.8\" font-family=\"Helvetica,sans-Serif\" font-size=\"14.00\">samples = 11.5%</text>\n<text text-anchor=\"middle\" x=\"1389.5\" y=\"-126.8\" font-family=\"Helvetica,sans-Serif\" font-size=\"14.00\">value = [0.918, 0.082]</text>\n<text text-anchor=\"middle\" x=\"1389.5\" y=\"-111.8\" font-family=\"Helvetica,sans-Serif\" font-size=\"14.00\">class = good</text>\n</g>\n<!-- 16&#45;&gt;20 -->\n<g id=\"edge20\" class=\"edge\">\n<title>16&#45;&gt;20</title>\n<path fill=\"none\" stroke=\"black\" d=\"M1335.3,-222.91C1341.61,-214.01 1348.35,-204.51 1354.86,-195.33\"/>\n<polygon fill=\"black\" stroke=\"black\" points=\"1357.82,-197.2 1360.75,-187.02 1352.11,-193.15 1357.82,-197.2\"/>\n</g>\n<!-- 18 -->\n<g id=\"node19\" class=\"node\">\n<title>18</title>\n<polygon fill=\"#5dafea\" stroke=\"black\" points=\"1133,-68 986,-68 986,0 1133,0 1133,-68\"/>\n<text text-anchor=\"middle\" x=\"1059.5\" y=\"-52.8\" font-family=\"Helvetica,sans-Serif\" font-size=\"14.00\">gini = 0.261</text>\n<text text-anchor=\"middle\" x=\"1059.5\" y=\"-37.8\" font-family=\"Helvetica,sans-Serif\" font-size=\"14.00\">samples = 2.8%</text>\n<text text-anchor=\"middle\" x=\"1059.5\" y=\"-22.8\" font-family=\"Helvetica,sans-Serif\" font-size=\"14.00\">value = [0.155, 0.845]</text>\n<text text-anchor=\"middle\" x=\"1059.5\" y=\"-7.8\" font-family=\"Helvetica,sans-Serif\" font-size=\"14.00\">class = Not Specified</text>\n</g>\n<!-- 17&#45;&gt;18 -->\n<g id=\"edge18\" class=\"edge\">\n<title>17&#45;&gt;18</title>\n<path fill=\"none\" stroke=\"black\" d=\"M1163.06,-103.73C1148.28,-93.92 1132.53,-83.46 1117.89,-73.75\"/>\n<polygon fill=\"black\" stroke=\"black\" points=\"1119.68,-70.74 1109.41,-68.13 1115.81,-76.57 1119.68,-70.74\"/>\n</g>\n<!-- 19 -->\n<g id=\"node20\" class=\"node\">\n<title>19</title>\n<polygon fill=\"#f2c19d\" stroke=\"black\" points=\"1298,-68 1151,-68 1151,0 1298,0 1298,-68\"/>\n<text text-anchor=\"middle\" x=\"1224.5\" y=\"-52.8\" font-family=\"Helvetica,sans-Serif\" font-size=\"14.00\">gini = 0.446</text>\n<text text-anchor=\"middle\" x=\"1224.5\" y=\"-37.8\" font-family=\"Helvetica,sans-Serif\" font-size=\"14.00\">samples = 6.2%</text>\n<text text-anchor=\"middle\" x=\"1224.5\" y=\"-22.8\" font-family=\"Helvetica,sans-Serif\" font-size=\"14.00\">value = [0.664, 0.336]</text>\n<text text-anchor=\"middle\" x=\"1224.5\" y=\"-7.8\" font-family=\"Helvetica,sans-Serif\" font-size=\"14.00\">class = good</text>\n</g>\n<!-- 17&#45;&gt;19 -->\n<g id=\"edge19\" class=\"edge\">\n<title>17&#45;&gt;19</title>\n<path fill=\"none\" stroke=\"black\" d=\"M1224.5,-103.73C1224.5,-95.52 1224.5,-86.86 1224.5,-78.56\"/>\n<polygon fill=\"black\" stroke=\"black\" points=\"1228,-78.3 1224.5,-68.3 1221,-78.3 1228,-78.3\"/>\n</g>\n<!-- 21 -->\n<g id=\"node22\" class=\"node\">\n<title>21</title>\n<polygon fill=\"#ea9b61\" stroke=\"black\" points=\"1463,-68 1316,-68 1316,0 1463,0 1463,-68\"/>\n<text text-anchor=\"middle\" x=\"1389.5\" y=\"-52.8\" font-family=\"Helvetica,sans-Serif\" font-size=\"14.00\">gini = 0.28</text>\n<text text-anchor=\"middle\" x=\"1389.5\" y=\"-37.8\" font-family=\"Helvetica,sans-Serif\" font-size=\"14.00\">samples = 4.7%</text>\n<text text-anchor=\"middle\" x=\"1389.5\" y=\"-22.8\" font-family=\"Helvetica,sans-Serif\" font-size=\"14.00\">value = [0.831, 0.169]</text>\n<text text-anchor=\"middle\" x=\"1389.5\" y=\"-7.8\" font-family=\"Helvetica,sans-Serif\" font-size=\"14.00\">class = good</text>\n</g>\n<!-- 20&#45;&gt;21 -->\n<g id=\"edge21\" class=\"edge\">\n<title>20&#45;&gt;21</title>\n<path fill=\"none\" stroke=\"black\" d=\"M1389.5,-103.73C1389.5,-95.52 1389.5,-86.86 1389.5,-78.56\"/>\n<polygon fill=\"black\" stroke=\"black\" points=\"1393,-78.3 1389.5,-68.3 1386,-78.3 1393,-78.3\"/>\n</g>\n<!-- 22 -->\n<g id=\"node23\" class=\"node\">\n<title>22</title>\n<polygon fill=\"#e6843d\" stroke=\"black\" points=\"1628,-68 1481,-68 1481,0 1628,0 1628,-68\"/>\n<text text-anchor=\"middle\" x=\"1554.5\" y=\"-52.8\" font-family=\"Helvetica,sans-Serif\" font-size=\"14.00\">gini = 0.041</text>\n<text text-anchor=\"middle\" x=\"1554.5\" y=\"-37.8\" font-family=\"Helvetica,sans-Serif\" font-size=\"14.00\">samples = 6.8%</text>\n<text text-anchor=\"middle\" x=\"1554.5\" y=\"-22.8\" font-family=\"Helvetica,sans-Serif\" font-size=\"14.00\">value = [0.979, 0.021]</text>\n<text text-anchor=\"middle\" x=\"1554.5\" y=\"-7.8\" font-family=\"Helvetica,sans-Serif\" font-size=\"14.00\">class = good</text>\n</g>\n<!-- 20&#45;&gt;22 -->\n<g id=\"edge22\" class=\"edge\">\n<title>20&#45;&gt;22</title>\n<path fill=\"none\" stroke=\"black\" d=\"M1450.94,-103.73C1465.72,-93.92 1481.47,-83.46 1496.11,-73.75\"/>\n<polygon fill=\"black\" stroke=\"black\" points=\"1498.19,-76.57 1504.59,-68.13 1494.32,-70.74 1498.19,-76.57\"/>\n</g>\n<!-- 24 -->\n<g id=\"node25\" class=\"node\">\n<title>24</title>\n<polygon fill=\"#e6843e\" stroke=\"black\" points=\"1793,-187 1646,-187 1646,-104 1793,-104 1793,-187\"/>\n<text text-anchor=\"middle\" x=\"1719.5\" y=\"-171.8\" font-family=\"Helvetica,sans-Serif\" font-size=\"14.00\">engineSize &lt;= 1.45</text>\n<text text-anchor=\"middle\" x=\"1719.5\" y=\"-156.8\" font-family=\"Helvetica,sans-Serif\" font-size=\"14.00\">gini = 0.049</text>\n<text text-anchor=\"middle\" x=\"1719.5\" y=\"-141.8\" font-family=\"Helvetica,sans-Serif\" font-size=\"14.00\">samples = 20.0%</text>\n<text text-anchor=\"middle\" x=\"1719.5\" y=\"-126.8\" font-family=\"Helvetica,sans-Serif\" font-size=\"14.00\">value = [0.975, 0.025]</text>\n<text text-anchor=\"middle\" x=\"1719.5\" y=\"-111.8\" font-family=\"Helvetica,sans-Serif\" font-size=\"14.00\">class = good</text>\n</g>\n<!-- 23&#45;&gt;24 -->\n<g id=\"edge24\" class=\"edge\">\n<title>23&#45;&gt;24</title>\n<path fill=\"none\" stroke=\"black\" d=\"M1719.5,-222.91C1719.5,-214.65 1719.5,-205.86 1719.5,-197.3\"/>\n<polygon fill=\"black\" stroke=\"black\" points=\"1723,-197.02 1719.5,-187.02 1716,-197.02 1723,-197.02\"/>\n</g>\n<!-- 27 -->\n<g id=\"node28\" class=\"node\">\n<title>27</title>\n<polygon fill=\"#399de5\" stroke=\"black\" points=\"1954,-179.5 1811,-179.5 1811,-111.5 1954,-111.5 1954,-179.5\"/>\n<text text-anchor=\"middle\" x=\"1882.5\" y=\"-164.3\" font-family=\"Helvetica,sans-Serif\" font-size=\"14.00\">gini = 0.0</text>\n<text text-anchor=\"middle\" x=\"1882.5\" y=\"-149.3\" font-family=\"Helvetica,sans-Serif\" font-size=\"14.00\">samples = 0.2%</text>\n<text text-anchor=\"middle\" x=\"1882.5\" y=\"-134.3\" font-family=\"Helvetica,sans-Serif\" font-size=\"14.00\">value = [0.0, 1.0]</text>\n<text text-anchor=\"middle\" x=\"1882.5\" y=\"-119.3\" font-family=\"Helvetica,sans-Serif\" font-size=\"14.00\">class = Not Specified</text>\n</g>\n<!-- 23&#45;&gt;27 -->\n<g id=\"edge27\" class=\"edge\">\n<title>23&#45;&gt;27</title>\n<path fill=\"none\" stroke=\"black\" d=\"M1776.05,-222.91C1792.81,-210.88 1811.12,-197.73 1827.76,-185.79\"/>\n<polygon fill=\"black\" stroke=\"black\" points=\"1830.21,-188.34 1836.29,-179.67 1826.13,-182.65 1830.21,-188.34\"/>\n</g>\n<!-- 25 -->\n<g id=\"node26\" class=\"node\">\n<title>25</title>\n<polygon fill=\"#efb184\" stroke=\"black\" points=\"1793,-68 1646,-68 1646,0 1793,0 1793,-68\"/>\n<text text-anchor=\"middle\" x=\"1719.5\" y=\"-52.8\" font-family=\"Helvetica,sans-Serif\" font-size=\"14.00\">gini = 0.399</text>\n<text text-anchor=\"middle\" x=\"1719.5\" y=\"-37.8\" font-family=\"Helvetica,sans-Serif\" font-size=\"14.00\">samples = 1.1%</text>\n<text text-anchor=\"middle\" x=\"1719.5\" y=\"-22.8\" font-family=\"Helvetica,sans-Serif\" font-size=\"14.00\">value = [0.725, 0.275]</text>\n<text text-anchor=\"middle\" x=\"1719.5\" y=\"-7.8\" font-family=\"Helvetica,sans-Serif\" font-size=\"14.00\">class = good</text>\n</g>\n<!-- 24&#45;&gt;25 -->\n<g id=\"edge25\" class=\"edge\">\n<title>24&#45;&gt;25</title>\n<path fill=\"none\" stroke=\"black\" d=\"M1719.5,-103.73C1719.5,-95.52 1719.5,-86.86 1719.5,-78.56\"/>\n<polygon fill=\"black\" stroke=\"black\" points=\"1723,-78.3 1719.5,-68.3 1716,-78.3 1723,-78.3\"/>\n</g>\n<!-- 26 -->\n<g id=\"node27\" class=\"node\">\n<title>26</title>\n<polygon fill=\"#e5823b\" stroke=\"black\" points=\"1943.5,-68 1811.5,-68 1811.5,0 1943.5,0 1943.5,-68\"/>\n<text text-anchor=\"middle\" x=\"1877.5\" y=\"-52.8\" font-family=\"Helvetica,sans-Serif\" font-size=\"14.00\">gini = 0.02</text>\n<text text-anchor=\"middle\" x=\"1877.5\" y=\"-37.8\" font-family=\"Helvetica,sans-Serif\" font-size=\"14.00\">samples = 18.8%</text>\n<text text-anchor=\"middle\" x=\"1877.5\" y=\"-22.8\" font-family=\"Helvetica,sans-Serif\" font-size=\"14.00\">value = [0.99, 0.01]</text>\n<text text-anchor=\"middle\" x=\"1877.5\" y=\"-7.8\" font-family=\"Helvetica,sans-Serif\" font-size=\"14.00\">class = good</text>\n</g>\n<!-- 24&#45;&gt;26 -->\n<g id=\"edge26\" class=\"edge\">\n<title>24&#45;&gt;26</title>\n<path fill=\"none\" stroke=\"black\" d=\"M1778.33,-103.73C1792.36,-94.01 1807.29,-83.66 1821.19,-74.02\"/>\n<polygon fill=\"black\" stroke=\"black\" points=\"1823.48,-76.7 1829.7,-68.13 1819.49,-70.94 1823.48,-76.7\"/>\n</g>\n</g>\n</svg>\n"
          },
          "metadata": {},
          "execution_count": 13
        }
      ]
    },
    {
      "cell_type": "markdown",
      "source": [
        "#### 2-3. Feature Importances : Mean decrease impurity\n",
        "> 모델 학습 이후의 특성 중요도 값을 살펴보도록 합니다.\n",
        "\n",
        "* 특성 중요도의 수치값을 확인합니다.\n"
      ],
      "metadata": {
        "id": "z-MV0iK_Xy6o"
      }
    },
    {
      "cell_type": "code",
      "source": [
        "# 특성 중요도  그래프 생성 : subplots 2행 1열 그래프 생성.\n",
        "# 필요한 라이브러리 가져오기.\n",
        "from matplotlib.gridspec import GridSpec\n",
        "\n",
        "# 1-1. 파이프라인의 랜덤포레스트 접근\n",
        "rf = pipe.named_steps['decisiontreeclassifier']\n",
        "\n",
        "# 1-2. 중요도 : 분류 데이터의 경우, 'rf.feature_importances_'로 접근합니다.\n",
        "importances = pd.Series(rf.feature_importances_, X_train.columns).sort_values(ascending = False)\n",
        "\n",
        "# 1-3. 데이터프레임 변환\n",
        "import_df = pd.DataFrame(importances, columns = ['importances'])\n",
        "import_df\n",
        "                          \n",
        "# 1-4. 피처 중요도 및 카디널리티 시각화 진행\n",
        "plt.figure(figsize = (10,6))\n",
        "ax_1 = plt.subplot(2,1,1)\n",
        "graph1 = importances.sort_values().plot.barh()\n",
        "ax_1.set_title('feature importances')\n",
        "plt.show()\n",
        "\n",
        "# 1-5. 그래프 지정: 카디널리티\n",
        "plt.figure(figsize = (10,6))\n",
        "ax_2 = plt.subplot(2,1,2)\n",
        "X_train.nunique().sort_values().plot.barh()\n",
        "ax_2.set_title('Cardinailty')\n",
        "plt.show()"
      ],
      "metadata": {
        "colab": {
          "base_uri": "https://localhost:8080/",
          "height": 407
        },
        "id": "Tpgk1N1XYSzk",
        "outputId": "b692749d-e1a4-4bfb-b9a8-a18345c160fc"
      },
      "execution_count": 14,
      "outputs": [
        {
          "output_type": "display_data",
          "data": {
            "text/plain": [
              "<Figure size 720x432 with 1 Axes>"
            ],
            "image/png": "[encoded data removed]"
          },
          "metadata": {
            "needs_background": "light"
          }
        },
        {
          "output_type": "display_data",
          "data": {
            "text/plain": [
              "<Figure size 720x432 with 1 Axes>"
            ],
            "image/png": "[encoded data removed]"
          },
          "metadata": {
            "needs_background": "light"
          }
        }
      ]
    },
    {
      "cell_type": "markdown",
      "source": [
        "**Feature Importance의 주의할 점 : High Cardinality**\n",
        "* MDI 기반 Feature Importance는  High Cardinality 특성에 높은 값을 부여하는 문제가 존재한다.\n",
        "  * 매 노드 분할 시, Cardinality가 높은 특성이 분할 기준 특성이 될 확률이 높기 때문입니다.\n",
        "  * 다행스럽게도 높은 카디널리티 값을 갖는 ampy가 높은 중요도를 가지고 있지는 않습니다."
      ],
      "metadata": {
        "id": "sZiww7zGZXn7"
      }
    },
    {
      "cell_type": "markdown",
      "source": [
        "####2-4. Evaluation Mertircs : `DecisionTreeClassifier ` \n",
        "> 타겟 클래스 비용이 70% 이상 차이난다면 정확도만 사용하여 판단할 수 없습니다. (정확하지 않기 때문)\n",
        "\n",
        "* 정밀도, 재현율, Roc-AUC등을 같이 사용하여 확인하여 봅시다."
      ],
      "metadata": {
        "id": "axlfJRQRMAGv"
      }
    },
    {
      "cell_type": "markdown",
      "source": [
        "**Confusion Matrix를 생성합니다.**"
      ],
      "metadata": {
        "id": "JiejbcaOOQaC"
      }
    },
    {
      "cell_type": "code",
      "source": [
        "# 필요한 라이브러리를 가져옵니다.\n",
        "from sklearn.metrics import confusion_matrix, ConfusionMatrixDisplay\n",
        "\n",
        "# 예측값 생성.\n",
        "y_pred = pipe.predict(X_val)\n",
        "\n",
        "# confusionmatrix 생성.\n",
        "cm = confusion_matrix(y_val,\n",
        "                      y_pred,\n",
        "                      labels = pipe.named_steps['decisiontreeclassifier'].classes_)\n",
        "\n",
        "# display\n",
        "disp = ConfusionMatrixDisplay(confusion_matrix = cm,\n",
        "                              display_labels = pipe.named_steps['decisiontreeclassifier'].classes_)\n",
        "\n",
        "disp.plot()\n",
        "plt.suptitle(f'Confusion matrix, n={len(y_val)}', fontsize = 15,y=1)\n",
        "plt.title(f'Not_specified : {y_val.value_counts()[0]}, good : {y_val.value_counts()[1]}', fontsize =10, pad = 10)\n",
        "plt.show()"
      ],
      "metadata": {
        "colab": {
          "base_uri": "https://localhost:8080/",
          "height": 314
        },
        "id": "-ciW2PY2M_VN",
        "outputId": "2b129372-d91d-42b4-b72d-03654b6e67fe"
      },
      "execution_count": 15,
      "outputs": [
        {
          "output_type": "display_data",
          "data": {
            "text/plain": [
              "<Figure size 432x288 with 2 Axes>"
            ],
            "image/png": "[encoded data removed]"
          },
          "metadata": {
            "needs_background": "light"
          }
        }
      ]
    },
    {
      "cell_type": "markdown",
      "source": [
        "**classification_report 또한 살펴봅니다**"
      ],
      "metadata": {
        "id": "u0pEWUP7Nacs"
      }
    },
    {
      "cell_type": "code",
      "source": [
        "# classification_report 생성.\n",
        "from sklearn.metrics import classification_report\n",
        "y_pred = pipe.predict(X_val)\n",
        "print(classification_report(y_val,y_pred))"
      ],
      "metadata": {
        "colab": {
          "base_uri": "https://localhost:8080/"
        },
        "id": "HkxxpjEcPohO",
        "outputId": "e5252e51-4ea9-4c68-f3ca-cd22c9164150"
      },
      "execution_count": 16,
      "outputs": [
        {
          "output_type": "stream",
          "name": "stdout",
          "text": [
            "               precision    recall  f1-score   support\n",
            "\n",
            "Not Specified       0.96      0.98      0.97      2057\n",
            "         good       0.85      0.69      0.77       280\n",
            "\n",
            "     accuracy                           0.95      2337\n",
            "    macro avg       0.91      0.84      0.87      2337\n",
            " weighted avg       0.95      0.95      0.95      2337\n",
            "\n"
          ]
        }
      ]
    },
    {
      "cell_type": "markdown",
      "source": [
        "**ROC-AUC 커브를 시각화 및 Score 확인.**"
      ],
      "metadata": {
        "id": "j7ZB9ZwTPwPz"
      }
    },
    {
      "cell_type": "code",
      "source": [
        "# 필요한 라이브러리 가져오기.\n",
        "from sklearn.metrics import roc_curve, roc_auc_score\n",
        "\n",
        "# 점수 및 시각화에 대한 함수 생성 : get_roc_score\n",
        "def get_roc_auc(model, X_val_encoded, y_val):\n",
        "  \n",
        "  # 우리가 생성한 모델이 XGBClassifier 이라면...\n",
        "  if isinstance(model, XGBClassifier):\n",
        "    y_pred_proba = model.predict_proba(\n",
        "        X_val_encoded, \n",
        "        iteration_range = (0, model.best_iteration))[:,1]\n",
        "  \n",
        "  # 다른 모델을 생성했다면...\n",
        "  else :\n",
        "    y_pred_proba = model.predict_proba(X_val_encoded)[:,1]\n",
        "  \n",
        "\n",
        "  # try ~ except 생성.\n",
        "  try :\n",
        "    print(f'ROC-AUC: {roc_auc_score(y_val,y_pred_proba)} \\n')\n",
        "\n",
        "    # ROC-AUC : baseline 생성\n",
        "    baseline_fpr, baseline_tpr, _ = roc_curve(y_val, [0]*len(y_val))\n",
        "\n",
        "    # ROC-AUC : modelline 생성(baseline과 비교할 모델 값.)\n",
        "    fpr, tpr, thresholds = roc_curve(y_val, y_pred_proba)\n",
        "\n",
        "    # fpr, tpr, threshold를 살펴볼 수 있는 df 생성.\n",
        "    tmp = pd.DataFrame({'fpr':fpr, 'tpr':tpr, 'thresholds':thresholds})\n",
        "\n",
        "    # plot : baseline 생성.\n",
        "    plt.plot(baseline_fpr, baseline_tpr, linestyle = '--', color = 'green', label='Baseline')\n",
        "  \n",
        "  except ValueError as ve :\n",
        "    y_val_replaced = y_val.replace(('Not Specified', 'good'),(0,1))\n",
        "    print('ValiueError 로 인하여 타겟값 맵핑을 완료하였습니다.\\n Not Specified = 0, good = 1 \\n') \n",
        "    print(f'ROC-AUC값을 다시 한 번 출력합니다 : {roc_auc_score(y_val,y_pred_proba)} \\n')\n",
        "    \n",
        "    # ROC-AUC : baseline 생성\n",
        "    baseline_fpr, baseline_tpr, _ = roc_curve(y_val_replaced, [0]*len(y_val))\n",
        "\n",
        "    # ROC-AUC : modelline 생성(baseline과 비교할 모델 값.)\n",
        "    fpr, tpr, thresholds = roc_curve(y_val_replaced, y_pred_proba)\n",
        "\n",
        "    # fpr, tpr, threshold를 살펴볼 수 있는 df 생성.\n",
        "    tmp = pd.DataFrame({'fpr':fpr, 'tpr':tpr, 'thresholds':thresholds})\n",
        "\n",
        "    # plot : baseline 생성.\n",
        "    plt.plot(baseline_fpr, baseline_tpr, linestyle = '--', color = 'green', label='Baseline')\n",
        "\n",
        "  # plot :modelline\n",
        "  plt.plot(fpr, tpr, color = 'blue', label = 'Model') \n",
        "  plt.scatter(fpr, tpr, color = 'red')\n",
        "  plt.legend()\n",
        "  plt.title('Roc Curve')\n",
        "  plt.xlabel('FPR')\n",
        "  plt.ylabel('TPR')\n",
        "  plt.show()\n",
        "  return tmp"
      ],
      "metadata": {
        "id": "kcSoamJ8bMPI"
      },
      "execution_count": 17,
      "outputs": []
    },
    {
      "cell_type": "code",
      "source": [
        "pipe.named_steps['decisiontreeclassifier'].classes_"
      ],
      "metadata": {
        "colab": {
          "base_uri": "https://localhost:8080/"
        },
        "id": "FudQ1n0R3jDt",
        "outputId": "eb7f1135-07dd-4187-8f7b-14baff894464"
      },
      "execution_count": 18,
      "outputs": [
        {
          "output_type": "execute_result",
          "data": {
            "text/plain": [
              "array(['Not Specified', 'good'], dtype=object)"
            ]
          },
          "metadata": {},
          "execution_count": 18
        }
      ]
    },
    {
      "cell_type": "code",
      "source": [
        "%matplotlib inline\n",
        "get_roc_auc(pipe, X_val, y_val)"
      ],
      "metadata": {
        "colab": {
          "base_uri": "https://localhost:8080/",
          "height": 897
        },
        "id": "BVYXJlaQ1dYw",
        "outputId": "8d32cfa1-afb5-4ed5-a2fa-ea271b7be89f"
      },
      "execution_count": 19,
      "outputs": [
        {
          "output_type": "stream",
          "name": "stdout",
          "text": [
            "ROC-AUC: 0.96832158483228 \n",
            "\n",
            "ValiueError 로 인하여 타겟값 맵핑을 완료하였습니다.\n",
            " Not Specified = 0, good = 1 \n",
            "\n",
            "ROC-AUC값을 다시 한 번 출력합니다 : 0.96832158483228 \n",
            "\n"
          ]
        },
        {
          "output_type": "display_data",
          "data": {
            "text/plain": [
              "<Figure size 432x288 with 1 Axes>"
            ],
            "image/png": "[encoded data removed]"
          },
          "metadata": {
            "needs_background": "light"
          }
        },
        {
          "output_type": "execute_result",
          "data": {
            "text/plain": [
              "         fpr       tpr  thresholds\n",
              "0   0.000000  0.000000    2.000000\n",
              "1   0.000000  0.146429    1.000000\n",
              "2   0.006320  0.392857    0.904000\n",
              "3   0.012154  0.578571    0.845361\n",
              "4   0.015557  0.671429    0.722222\n",
              "5   0.016043  0.692857    0.571429\n",
              "6   0.019446  0.710714    0.359375\n",
              "7   0.060282  0.842857    0.335632\n",
              "8   0.066116  0.857143    0.275000\n",
              "9   0.113758  0.925000    0.168675\n",
              "10  0.141468  0.942857    0.043478\n",
              "11  0.214876  0.982143    0.021008\n",
              "12  0.422460  1.000000    0.009848\n",
              "13  1.000000  1.000000    0.000000"
            ],
            "text/html": [
              "\n",
              "  <div id=\"df-3426dd83-b2c7-4bb3-bd47-03d9201ca620\">\n",
              "    <div class=\"colab-df-container\">\n",
              "      <div>\n",
              "<style scoped>\n",
              "    .dataframe tbody tr th:only-of-type {\n",
              "        vertical-align: middle;\n",
              "    }\n",
              "\n",
              "    .dataframe tbody tr th {\n",
              "        vertical-align: top;\n",
              "    }\n",
              "\n",
              "    .dataframe thead th {\n",
              "        text-align: right;\n",
              "    }\n",
              "</style>\n",
              "<table border=\"1\" class=\"dataframe\">\n",
              "  <thead>\n",
              "    <tr style=\"text-align: right;\">\n",
              "      <th></th>\n",
              "      <th>fpr</th>\n",
              "      <th>tpr</th>\n",
              "      <th>thresholds</th>\n",
              "    </tr>\n",
              "  </thead>\n",
              "  <tbody>\n",
              "    <tr>\n",
              "      <th>0</th>\n",
              "      <td>0.000000</td>\n",
              "      <td>0.000000</td>\n",
              "      <td>2.000000</td>\n",
              "    </tr>\n",
              "    <tr>\n",
              "      <th>1</th>\n",
              "      <td>0.000000</td>\n",
              "      <td>0.146429</td>\n",
              "      <td>1.000000</td>\n",
              "    </tr>\n",
              "    <tr>\n",
              "      <th>2</th>\n",
              "      <td>0.006320</td>\n",
              "      <td>0.392857</td>\n",
              "      <td>0.904000</td>\n",
              "    </tr>\n",
              "    <tr>\n",
              "      <th>3</th>\n",
              "      <td>0.012154</td>\n",
              "      <td>0.578571</td>\n",
              "      <td>0.845361</td>\n",
              "    </tr>\n",
              "    <tr>\n",
              "      <th>4</th>\n",
              "      <td>0.015557</td>\n",
              "      <td>0.671429</td>\n",
              "      <td>0.722222</td>\n",
              "    </tr>\n",
              "    <tr>\n",
              "      <th>5</th>\n",
              "      <td>0.016043</td>\n",
              "      <td>0.692857</td>\n",
              "      <td>0.571429</td>\n",
              "    </tr>\n",
              "    <tr>\n",
              "      <th>6</th>\n",
              "      <td>0.019446</td>\n",
              "      <td>0.710714</td>\n",
              "      <td>0.359375</td>\n",
              "    </tr>\n",
              "    <tr>\n",
              "      <th>7</th>\n",
              "      <td>0.060282</td>\n",
              "      <td>0.842857</td>\n",
              "      <td>0.335632</td>\n",
              "    </tr>\n",
              "    <tr>\n",
              "      <th>8</th>\n",
              "      <td>0.066116</td>\n",
              "      <td>0.857143</td>\n",
              "      <td>0.275000</td>\n",
              "    </tr>\n",
              "    <tr>\n",
              "      <th>9</th>\n",
              "      <td>0.113758</td>\n",
              "      <td>0.925000</td>\n",
              "      <td>0.168675</td>\n",
              "    </tr>\n",
              "    <tr>\n",
              "      <th>10</th>\n",
              "      <td>0.141468</td>\n",
              "      <td>0.942857</td>\n",
              "      <td>0.043478</td>\n",
              "    </tr>\n",
              "    <tr>\n",
              "      <th>11</th>\n",
              "      <td>0.214876</td>\n",
              "      <td>0.982143</td>\n",
              "      <td>0.021008</td>\n",
              "    </tr>\n",
              "    <tr>\n",
              "      <th>12</th>\n",
              "      <td>0.422460</td>\n",
              "      <td>1.000000</td>\n",
              "      <td>0.009848</td>\n",
              "    </tr>\n",
              "    <tr>\n",
              "      <th>13</th>\n",
              "      <td>1.000000</td>\n",
              "      <td>1.000000</td>\n",
              "      <td>0.000000</td>\n",
              "    </tr>\n",
              "  </tbody>\n",
              "</table>\n",
              "</div>\n",
              "      <button class=\"colab-df-convert\" onclick=\"convertToInteractive('df-3426dd83-b2c7-4bb3-bd47-03d9201ca620')\"\n",
              "              title=\"Convert this dataframe to an interactive table.\"\n",
              "              style=\"display:none;\">\n",
              "        \n",
              "  <svg xmlns=\"http://www.w3.org/2000/svg\" height=\"24px\"viewBox=\"0 0 24 24\"\n",
              "       width=\"24px\">\n",
              "    <path d=\"M0 0h24v24H0V0z\" fill=\"none\"/>\n",
              "    <path d=\"M18.56 5.44l.94 2.06.94-2.06 2.06-.94-2.06-.94-.94-2.06-.94 2.06-2.06.94zm-11 1L8.5 8.5l.94-2.06 2.06-.94-2.06-.94L8.5 2.5l-.94 2.06-2.06.94zm10 10l.94 2.06.94-2.06 2.06-.94-2.06-.94-.94-2.06-.94 2.06-2.06.94z\"/><path d=\"M17.41 7.96l-1.37-1.37c-.4-.4-.92-.59-1.43-.59-.52 0-1.04.2-1.43.59L10.3 9.45l-7.72 7.72c-.78.78-.78 2.05 0 2.83L4 21.41c.39.39.9.59 1.41.59.51 0 1.02-.2 1.41-.59l7.78-7.78 2.81-2.81c.8-.78.8-2.07 0-2.86zM5.41 20L4 18.59l7.72-7.72 1.47 1.35L5.41 20z\"/>\n",
              "  </svg>\n",
              "      </button>\n",
              "      \n",
              "  <style>\n",
              "    .colab-df-container {\n",
              "      display:flex;\n",
              "      flex-wrap:wrap;\n",
              "      gap: 12px;\n",
              "    }\n",
              "\n",
              "    .colab-df-convert {\n",
              "      background-color: #E8F0FE;\n",
              "      border: none;\n",
              "      border-radius: 50%;\n",
              "      cursor: pointer;\n",
              "      display: none;\n",
              "      fill: #1967D2;\n",
              "      height: 32px;\n",
              "      padding: 0 0 0 0;\n",
              "      width: 32px;\n",
              "    }\n",
              "\n",
              "    .colab-df-convert:hover {\n",
              "      background-color: #E2EBFA;\n",
              "      box-shadow: 0px 1px 2px rgba(60, 64, 67, 0.3), 0px 1px 3px 1px rgba(60, 64, 67, 0.15);\n",
              "      fill: #174EA6;\n",
              "    }\n",
              "\n",
              "    [theme=dark] .colab-df-convert {\n",
              "      background-color: #3B4455;\n",
              "      fill: #D2E3FC;\n",
              "    }\n",
              "\n",
              "    [theme=dark] .colab-df-convert:hover {\n",
              "      background-color: #434B5C;\n",
              "      box-shadow: 0px 1px 3px 1px rgba(0, 0, 0, 0.15);\n",
              "      filter: drop-shadow(0px 1px 2px rgba(0, 0, 0, 0.3));\n",
              "      fill: #FFFFFF;\n",
              "    }\n",
              "  </style>\n",
              "\n",
              "      <script>\n",
              "        const buttonEl =\n",
              "          document.querySelector('#df-3426dd83-b2c7-4bb3-bd47-03d9201ca620 button.colab-df-convert');\n",
              "        buttonEl.style.display =\n",
              "          google.colab.kernel.accessAllowed ? 'block' : 'none';\n",
              "\n",
              "        async function convertToInteractive(key) {\n",
              "          const element = document.querySelector('#df-3426dd83-b2c7-4bb3-bd47-03d9201ca620');\n",
              "          const dataTable =\n",
              "            await google.colab.kernel.invokeFunction('convertToInteractive',\n",
              "                                                     [key], {});\n",
              "          if (!dataTable) return;\n",
              "\n",
              "          const docLinkHtml = 'Like what you see? Visit the ' +\n",
              "            '<a target=\"_blank\" href=https://colab.research.google.com/notebooks/data_table.ipynb>data table notebook</a>'\n",
              "            + ' to learn more about interactive tables.';\n",
              "          element.innerHTML = '';\n",
              "          dataTable['output_type'] = 'display_data';\n",
              "          await google.colab.output.renderOutput(dataTable, element);\n",
              "          const docLink = document.createElement('div');\n",
              "          docLink.innerHTML = docLinkHtml;\n",
              "          element.appendChild(docLink);\n",
              "        }\n",
              "      </script>\n",
              "    </div>\n",
              "  </div>\n",
              "  "
            ]
          },
          "metadata": {},
          "execution_count": 19
        }
      ]
    },
    {
      "cell_type": "markdown",
      "source": [
        "####2-5. DATA INSIGHT : `DecisionTreeClassifier`\n",
        "* 타겟값이 불균형한 지표를 보여줬으나, 정확도는 매우 높은 값을 자랑하였습니다.\n",
        "* classification report를 사용한 결과 최다빈도의 타겟 값은 잘 맞추지만, 적은 빈도 값의 재현율은 다소 낮았습니다.(70% 미만 확률) <br/>\n",
        "* Roc - Curve가 직선과 비슷하게 나왔다면 분류가 잘 안된 것을 의미합니다.(회귀의 R2_score 처럼 나온 것이다.)<br/>\n",
        "\n",
        "**주의❗)타겟 불균형이 존재할 때에는 AUC가 실제 성능에 비해 높게 계산됩니다.**<br/>"
      ],
      "metadata": {
        "id": "fL1CiX0f1hF1"
      }
    },
    {
      "cell_type": "markdown",
      "source": [
        "---\n",
        "\n"
      ],
      "metadata": {
        "id": "L-B4Mz6Y7Lkl"
      }
    },
    {
      "cell_type": "markdown",
      "source": [
        "##3. Model : `XGBoost (불균형 vs 불균형 제거)`\n",
        "> 데이터를 살펴봤을 때, 현재 타겟값이 불균형 클래스임을 알고 있습니다. \n",
        "\n",
        "* 불균형한 타겟 비율을 맞춰주기 위한 기법을 이용하도록 합니다.\n",
        "* `xgboost` 라이브러리의 `scale_pos_weight` 파라미터로 가중치를 조정합니다.\n",
        "\n",
        "❗불균형 타겟을 해소하지 않은 모델 및 해소한 모델의 값을 비교해보도록 합니다."
      ],
      "metadata": {
        "id": "sKa_XjdiCCNi"
      }
    },
    {
      "cell_type": "markdown",
      "source": [
        "#### 3-1. 불균형 데이터를 기반한 `XGBClassifier`"
      ],
      "metadata": {
        "id": "xfgSe7RQQqD6"
      }
    },
    {
      "cell_type": "code",
      "source": [
        "# 인코딩을 진행할 인스턴스 객체를 생성합니다. : OrdinalEncoder\n",
        "enc = OrdinalEncoder()\n",
        "\n",
        "#--- applied data set(train, val)\n",
        "X_train_encoded = enc.fit_transform(X_train)\n",
        "X_val_encoded = enc.transform(X_val)\n",
        "\n",
        "# 타겟 값을 맵핑합니다. 'good' = 1, // 'Not Specified' = 0\n",
        "y_train_encoded = y_train.replace(['good', 'Not Specified'],[1,0])\n",
        "y_val_encoded = y_val.replace(['good', 'Not Specified'],[1,0])\n",
        "\n",
        "# created model\n",
        "model = XGBClassifier(\n",
        "    n_estimators =987654321,\n",
        "    max_depth = 5,\n",
        "    objective = 'binary:logistic',\n",
        "    eval_metric = 'auc',\n",
        "    learning_rate = 0.1,\n",
        "    early_stopping_rounds = 50,\n",
        "    n_jobs = -1,\n",
        "    random_state = 42\n",
        ")\n",
        "\n",
        "# eval_set 생성 (early_stopping_round)\n",
        "watchlist = [(X_train_encoded, y_train_encoded), (X_val_encoded, y_val_encoded)]\n",
        "\n",
        "\n",
        "model.fit(X_train_encoded, \n",
        "          y_train_encoded,\n",
        "          eval_set = watchlist)"
      ],
      "metadata": {
        "id": "aEjGvK24ChSm",
        "colab": {
          "base_uri": "https://localhost:8080/",
          "height": 1000
        },
        "outputId": "9fa2b191-5bfc-4b0b-b0bd-708fc15bada4"
      },
      "execution_count": 20,
      "outputs": [
        {
          "output_type": "stream",
          "name": "stdout",
          "text": [
            "[0]\tvalidation_0-auc:0.97202\tvalidation_1-auc:0.96842\n",
            "[1]\tvalidation_0-auc:0.97698\tvalidation_1-auc:0.97479\n",
            "[2]\tvalidation_0-auc:0.97796\tvalidation_1-auc:0.97495\n",
            "[3]\tvalidation_0-auc:0.98201\tvalidation_1-auc:0.97985\n",
            "[4]\tvalidation_0-auc:0.98179\tvalidation_1-auc:0.97940\n",
            "[5]\tvalidation_0-auc:0.98333\tvalidation_1-auc:0.98132\n",
            "[6]\tvalidation_0-auc:0.98317\tvalidation_1-auc:0.98157\n",
            "[7]\tvalidation_0-auc:0.98408\tvalidation_1-auc:0.98219\n",
            "[8]\tvalidation_0-auc:0.98441\tvalidation_1-auc:0.98239\n",
            "[9]\tvalidation_0-auc:0.98564\tvalidation_1-auc:0.98380\n",
            "[10]\tvalidation_0-auc:0.98544\tvalidation_1-auc:0.98323\n",
            "[11]\tvalidation_0-auc:0.98651\tvalidation_1-auc:0.98481\n",
            "[12]\tvalidation_0-auc:0.98665\tvalidation_1-auc:0.98499\n",
            "[13]\tvalidation_0-auc:0.98682\tvalidation_1-auc:0.98506\n",
            "[14]\tvalidation_0-auc:0.98688\tvalidation_1-auc:0.98517\n",
            "[15]\tvalidation_0-auc:0.98706\tvalidation_1-auc:0.98534\n",
            "[16]\tvalidation_0-auc:0.98751\tvalidation_1-auc:0.98600\n",
            "[17]\tvalidation_0-auc:0.98750\tvalidation_1-auc:0.98608\n",
            "[18]\tvalidation_0-auc:0.98793\tvalidation_1-auc:0.98652\n",
            "[19]\tvalidation_0-auc:0.98791\tvalidation_1-auc:0.98642\n",
            "[20]\tvalidation_0-auc:0.98832\tvalidation_1-auc:0.98693\n",
            "[21]\tvalidation_0-auc:0.98841\tvalidation_1-auc:0.98695\n",
            "[22]\tvalidation_0-auc:0.98856\tvalidation_1-auc:0.98719\n",
            "[23]\tvalidation_0-auc:0.98863\tvalidation_1-auc:0.98709\n",
            "[24]\tvalidation_0-auc:0.98867\tvalidation_1-auc:0.98707\n",
            "[25]\tvalidation_0-auc:0.98878\tvalidation_1-auc:0.98688\n",
            "[26]\tvalidation_0-auc:0.98891\tvalidation_1-auc:0.98698\n",
            "[27]\tvalidation_0-auc:0.98898\tvalidation_1-auc:0.98688\n",
            "[28]\tvalidation_0-auc:0.98912\tvalidation_1-auc:0.98683\n",
            "[29]\tvalidation_0-auc:0.98920\tvalidation_1-auc:0.98700\n",
            "[30]\tvalidation_0-auc:0.98941\tvalidation_1-auc:0.98692\n",
            "[31]\tvalidation_0-auc:0.98945\tvalidation_1-auc:0.98689\n",
            "[32]\tvalidation_0-auc:0.98951\tvalidation_1-auc:0.98679\n",
            "[33]\tvalidation_0-auc:0.98971\tvalidation_1-auc:0.98705\n",
            "[34]\tvalidation_0-auc:0.98996\tvalidation_1-auc:0.98723\n",
            "[35]\tvalidation_0-auc:0.99001\tvalidation_1-auc:0.98717\n",
            "[36]\tvalidation_0-auc:0.99016\tvalidation_1-auc:0.98732\n",
            "[37]\tvalidation_0-auc:0.99035\tvalidation_1-auc:0.98762\n",
            "[38]\tvalidation_0-auc:0.99044\tvalidation_1-auc:0.98767\n",
            "[39]\tvalidation_0-auc:0.99060\tvalidation_1-auc:0.98754\n",
            "[40]\tvalidation_0-auc:0.99068\tvalidation_1-auc:0.98767\n",
            "[41]\tvalidation_0-auc:0.99092\tvalidation_1-auc:0.98767\n",
            "[42]\tvalidation_0-auc:0.99095\tvalidation_1-auc:0.98758\n",
            "[43]\tvalidation_0-auc:0.99113\tvalidation_1-auc:0.98771\n",
            "[44]\tvalidation_0-auc:0.99119\tvalidation_1-auc:0.98773\n",
            "[45]\tvalidation_0-auc:0.99137\tvalidation_1-auc:0.98775\n",
            "[46]\tvalidation_0-auc:0.99146\tvalidation_1-auc:0.98775\n",
            "[47]\tvalidation_0-auc:0.99149\tvalidation_1-auc:0.98787\n",
            "[48]\tvalidation_0-auc:0.99160\tvalidation_1-auc:0.98788\n",
            "[49]\tvalidation_0-auc:0.99169\tvalidation_1-auc:0.98800\n",
            "[50]\tvalidation_0-auc:0.99171\tvalidation_1-auc:0.98814\n",
            "[51]\tvalidation_0-auc:0.99184\tvalidation_1-auc:0.98834\n",
            "[52]\tvalidation_0-auc:0.99189\tvalidation_1-auc:0.98839\n",
            "[53]\tvalidation_0-auc:0.99201\tvalidation_1-auc:0.98846\n",
            "[54]\tvalidation_0-auc:0.99206\tvalidation_1-auc:0.98846\n",
            "[55]\tvalidation_0-auc:0.99210\tvalidation_1-auc:0.98841\n",
            "[56]\tvalidation_0-auc:0.99211\tvalidation_1-auc:0.98837\n",
            "[57]\tvalidation_0-auc:0.99222\tvalidation_1-auc:0.98856\n",
            "[58]\tvalidation_0-auc:0.99235\tvalidation_1-auc:0.98863\n",
            "[59]\tvalidation_0-auc:0.99236\tvalidation_1-auc:0.98860\n",
            "[60]\tvalidation_0-auc:0.99244\tvalidation_1-auc:0.98873\n",
            "[61]\tvalidation_0-auc:0.99248\tvalidation_1-auc:0.98871\n",
            "[62]\tvalidation_0-auc:0.99262\tvalidation_1-auc:0.98873\n",
            "[63]\tvalidation_0-auc:0.99271\tvalidation_1-auc:0.98878\n",
            "[64]\tvalidation_0-auc:0.99280\tvalidation_1-auc:0.98878\n",
            "[65]\tvalidation_0-auc:0.99284\tvalidation_1-auc:0.98877\n",
            "[66]\tvalidation_0-auc:0.99286\tvalidation_1-auc:0.98877\n",
            "[67]\tvalidation_0-auc:0.99291\tvalidation_1-auc:0.98879\n",
            "[68]\tvalidation_0-auc:0.99302\tvalidation_1-auc:0.98884\n",
            "[69]\tvalidation_0-auc:0.99304\tvalidation_1-auc:0.98882\n",
            "[70]\tvalidation_0-auc:0.99316\tvalidation_1-auc:0.98883\n",
            "[71]\tvalidation_0-auc:0.99317\tvalidation_1-auc:0.98881\n",
            "[72]\tvalidation_0-auc:0.99325\tvalidation_1-auc:0.98899\n",
            "[73]\tvalidation_0-auc:0.99338\tvalidation_1-auc:0.98896\n",
            "[74]\tvalidation_0-auc:0.99340\tvalidation_1-auc:0.98897\n",
            "[75]\tvalidation_0-auc:0.99343\tvalidation_1-auc:0.98897\n",
            "[76]\tvalidation_0-auc:0.99351\tvalidation_1-auc:0.98909\n",
            "[77]\tvalidation_0-auc:0.99365\tvalidation_1-auc:0.98900\n",
            "[78]\tvalidation_0-auc:0.99372\tvalidation_1-auc:0.98899\n",
            "[79]\tvalidation_0-auc:0.99379\tvalidation_1-auc:0.98910\n",
            "[80]\tvalidation_0-auc:0.99395\tvalidation_1-auc:0.98922\n",
            "[81]\tvalidation_0-auc:0.99398\tvalidation_1-auc:0.98922\n",
            "[82]\tvalidation_0-auc:0.99408\tvalidation_1-auc:0.98914\n",
            "[83]\tvalidation_0-auc:0.99410\tvalidation_1-auc:0.98915\n",
            "[84]\tvalidation_0-auc:0.99410\tvalidation_1-auc:0.98914\n",
            "[85]\tvalidation_0-auc:0.99421\tvalidation_1-auc:0.98917\n",
            "[86]\tvalidation_0-auc:0.99431\tvalidation_1-auc:0.98918\n",
            "[87]\tvalidation_0-auc:0.99434\tvalidation_1-auc:0.98924\n",
            "[88]\tvalidation_0-auc:0.99440\tvalidation_1-auc:0.98931\n",
            "[89]\tvalidation_0-auc:0.99442\tvalidation_1-auc:0.98926\n",
            "[90]\tvalidation_0-auc:0.99444\tvalidation_1-auc:0.98925\n",
            "[91]\tvalidation_0-auc:0.99451\tvalidation_1-auc:0.98929\n",
            "[92]\tvalidation_0-auc:0.99452\tvalidation_1-auc:0.98927\n",
            "[93]\tvalidation_0-auc:0.99455\tvalidation_1-auc:0.98925\n",
            "[94]\tvalidation_0-auc:0.99467\tvalidation_1-auc:0.98932\n",
            "[95]\tvalidation_0-auc:0.99476\tvalidation_1-auc:0.98935\n",
            "[96]\tvalidation_0-auc:0.99483\tvalidation_1-auc:0.98938\n",
            "[97]\tvalidation_0-auc:0.99488\tvalidation_1-auc:0.98945\n",
            "[98]\tvalidation_0-auc:0.99495\tvalidation_1-auc:0.98943\n",
            "[99]\tvalidation_0-auc:0.99502\tvalidation_1-auc:0.98939\n",
            "[100]\tvalidation_0-auc:0.99511\tvalidation_1-auc:0.98954\n",
            "[101]\tvalidation_0-auc:0.99511\tvalidation_1-auc:0.98953\n",
            "[102]\tvalidation_0-auc:0.99513\tvalidation_1-auc:0.98951\n",
            "[103]\tvalidation_0-auc:0.99513\tvalidation_1-auc:0.98949\n",
            "[104]\tvalidation_0-auc:0.99520\tvalidation_1-auc:0.98950\n",
            "[105]\tvalidation_0-auc:0.99525\tvalidation_1-auc:0.98947\n",
            "[106]\tvalidation_0-auc:0.99527\tvalidation_1-auc:0.98945\n",
            "[107]\tvalidation_0-auc:0.99527\tvalidation_1-auc:0.98945\n",
            "[108]\tvalidation_0-auc:0.99531\tvalidation_1-auc:0.98945\n",
            "[109]\tvalidation_0-auc:0.99538\tvalidation_1-auc:0.98945\n",
            "[110]\tvalidation_0-auc:0.99539\tvalidation_1-auc:0.98951\n",
            "[111]\tvalidation_0-auc:0.99542\tvalidation_1-auc:0.98951\n",
            "[112]\tvalidation_0-auc:0.99544\tvalidation_1-auc:0.98950\n",
            "[113]\tvalidation_0-auc:0.99546\tvalidation_1-auc:0.98948\n",
            "[114]\tvalidation_0-auc:0.99546\tvalidation_1-auc:0.98947\n",
            "[115]\tvalidation_0-auc:0.99548\tvalidation_1-auc:0.98942\n",
            "[116]\tvalidation_0-auc:0.99553\tvalidation_1-auc:0.98940\n",
            "[117]\tvalidation_0-auc:0.99557\tvalidation_1-auc:0.98940\n",
            "[118]\tvalidation_0-auc:0.99558\tvalidation_1-auc:0.98940\n",
            "[119]\tvalidation_0-auc:0.99568\tvalidation_1-auc:0.98934\n",
            "[120]\tvalidation_0-auc:0.99580\tvalidation_1-auc:0.98944\n",
            "[121]\tvalidation_0-auc:0.99589\tvalidation_1-auc:0.98946\n",
            "[122]\tvalidation_0-auc:0.99594\tvalidation_1-auc:0.98950\n",
            "[123]\tvalidation_0-auc:0.99598\tvalidation_1-auc:0.98947\n",
            "[124]\tvalidation_0-auc:0.99603\tvalidation_1-auc:0.98952\n",
            "[125]\tvalidation_0-auc:0.99607\tvalidation_1-auc:0.98949\n",
            "[126]\tvalidation_0-auc:0.99609\tvalidation_1-auc:0.98950\n",
            "[127]\tvalidation_0-auc:0.99616\tvalidation_1-auc:0.98949\n",
            "[128]\tvalidation_0-auc:0.99617\tvalidation_1-auc:0.98955\n",
            "[129]\tvalidation_0-auc:0.99625\tvalidation_1-auc:0.98952\n",
            "[130]\tvalidation_0-auc:0.99627\tvalidation_1-auc:0.98950\n",
            "[131]\tvalidation_0-auc:0.99636\tvalidation_1-auc:0.98959\n",
            "[132]\tvalidation_0-auc:0.99639\tvalidation_1-auc:0.98961\n",
            "[133]\tvalidation_0-auc:0.99650\tvalidation_1-auc:0.98955\n",
            "[134]\tvalidation_0-auc:0.99653\tvalidation_1-auc:0.98956\n",
            "[135]\tvalidation_0-auc:0.99656\tvalidation_1-auc:0.98953\n",
            "[136]\tvalidation_0-auc:0.99658\tvalidation_1-auc:0.98953\n",
            "[137]\tvalidation_0-auc:0.99661\tvalidation_1-auc:0.98952\n",
            "[138]\tvalidation_0-auc:0.99663\tvalidation_1-auc:0.98952\n",
            "[139]\tvalidation_0-auc:0.99671\tvalidation_1-auc:0.98942\n",
            "[140]\tvalidation_0-auc:0.99676\tvalidation_1-auc:0.98944\n",
            "[141]\tvalidation_0-auc:0.99681\tvalidation_1-auc:0.98944\n",
            "[142]\tvalidation_0-auc:0.99681\tvalidation_1-auc:0.98941\n",
            "[143]\tvalidation_0-auc:0.99682\tvalidation_1-auc:0.98944\n",
            "[144]\tvalidation_0-auc:0.99692\tvalidation_1-auc:0.98950\n",
            "[145]\tvalidation_0-auc:0.99696\tvalidation_1-auc:0.98940\n",
            "[146]\tvalidation_0-auc:0.99702\tvalidation_1-auc:0.98943\n",
            "[147]\tvalidation_0-auc:0.99705\tvalidation_1-auc:0.98941\n",
            "[148]\tvalidation_0-auc:0.99706\tvalidation_1-auc:0.98941\n",
            "[149]\tvalidation_0-auc:0.99708\tvalidation_1-auc:0.98940\n",
            "[150]\tvalidation_0-auc:0.99713\tvalidation_1-auc:0.98935\n",
            "[151]\tvalidation_0-auc:0.99718\tvalidation_1-auc:0.98936\n",
            "[152]\tvalidation_0-auc:0.99724\tvalidation_1-auc:0.98943\n",
            "[153]\tvalidation_0-auc:0.99728\tvalidation_1-auc:0.98939\n",
            "[154]\tvalidation_0-auc:0.99728\tvalidation_1-auc:0.98939\n",
            "[155]\tvalidation_0-auc:0.99733\tvalidation_1-auc:0.98933\n",
            "[156]\tvalidation_0-auc:0.99736\tvalidation_1-auc:0.98937\n",
            "[157]\tvalidation_0-auc:0.99737\tvalidation_1-auc:0.98936\n",
            "[158]\tvalidation_0-auc:0.99743\tvalidation_1-auc:0.98948\n",
            "[159]\tvalidation_0-auc:0.99750\tvalidation_1-auc:0.98945\n",
            "[160]\tvalidation_0-auc:0.99753\tvalidation_1-auc:0.98947\n",
            "[161]\tvalidation_0-auc:0.99755\tvalidation_1-auc:0.98948\n",
            "[162]\tvalidation_0-auc:0.99758\tvalidation_1-auc:0.98947\n",
            "[163]\tvalidation_0-auc:0.99761\tvalidation_1-auc:0.98942\n",
            "[164]\tvalidation_0-auc:0.99762\tvalidation_1-auc:0.98939\n",
            "[165]\tvalidation_0-auc:0.99765\tvalidation_1-auc:0.98937\n",
            "[166]\tvalidation_0-auc:0.99768\tvalidation_1-auc:0.98941\n",
            "[167]\tvalidation_0-auc:0.99767\tvalidation_1-auc:0.98937\n",
            "[168]\tvalidation_0-auc:0.99768\tvalidation_1-auc:0.98941\n",
            "[169]\tvalidation_0-auc:0.99772\tvalidation_1-auc:0.98939\n",
            "[170]\tvalidation_0-auc:0.99775\tvalidation_1-auc:0.98937\n",
            "[171]\tvalidation_0-auc:0.99776\tvalidation_1-auc:0.98933\n",
            "[172]\tvalidation_0-auc:0.99779\tvalidation_1-auc:0.98927\n",
            "[173]\tvalidation_0-auc:0.99783\tvalidation_1-auc:0.98929\n",
            "[174]\tvalidation_0-auc:0.99786\tvalidation_1-auc:0.98930\n",
            "[175]\tvalidation_0-auc:0.99793\tvalidation_1-auc:0.98932\n",
            "[176]\tvalidation_0-auc:0.99793\tvalidation_1-auc:0.98933\n",
            "[177]\tvalidation_0-auc:0.99796\tvalidation_1-auc:0.98933\n",
            "[178]\tvalidation_0-auc:0.99796\tvalidation_1-auc:0.98932\n",
            "[179]\tvalidation_0-auc:0.99799\tvalidation_1-auc:0.98930\n",
            "[180]\tvalidation_0-auc:0.99799\tvalidation_1-auc:0.98931\n",
            "[181]\tvalidation_0-auc:0.99801\tvalidation_1-auc:0.98930\n"
          ]
        },
        {
          "output_type": "execute_result",
          "data": {
            "text/plain": [
              "XGBClassifier(base_score=None, booster=None, callbacks=None,\n",
              "              colsample_bylevel=None, colsample_bynode=None,\n",
              "              colsample_bytree=None, early_stopping_rounds=50,\n",
              "              enable_categorical=False, eval_metric='auc', feature_types=None,\n",
              "              gamma=None, gpu_id=None, grow_policy=None, importance_type=None,\n",
              "              interaction_constraints=None, learning_rate=0.1, max_bin=None,\n",
              "              max_cat_threshold=None, max_cat_to_onehot=None,\n",
              "              max_delta_step=None, max_depth=5, max_leaves=None,\n",
              "              min_child_weight=None, missing=nan, monotone_constraints=None,\n",
              "              n_estimators=987654321, n_jobs=-1, num_parallel_tree=None,\n",
              "              predictor=None, random_state=42, ...)"
            ],
            "text/html": [
              "<style>#sk-container-id-1 {color: black;background-color: white;}#sk-container-id-1 pre{padding: 0;}#sk-container-id-1 div.sk-toggleable {background-color: white;}#sk-container-id-1 label.sk-toggleable__label {cursor: pointer;display: block;width: 100%;margin-bottom: 0;padding: 0.3em;box-sizing: border-box;text-align: center;}#sk-container-id-1 label.sk-toggleable__label-arrow:before {content: \"▸\";float: left;margin-right: 0.25em;color: #696969;}#sk-container-id-1 label.sk-toggleable__label-arrow:hover:before {color: black;}#sk-container-id-1 div.sk-estimator:hover label.sk-toggleable__label-arrow:before {color: black;}#sk-container-id-1 div.sk-toggleable__content {max-height: 0;max-width: 0;overflow: hidden;text-align: left;background-color: #f0f8ff;}#sk-container-id-1 div.sk-toggleable__content pre {margin: 0.2em;color: black;border-radius: 0.25em;background-color: #f0f8ff;}#sk-container-id-1 input.sk-toggleable__control:checked~div.sk-toggleable__content {max-height: 200px;max-width: 100%;overflow: auto;}#sk-container-id-1 input.sk-toggleable__control:checked~label.sk-toggleable__label-arrow:before {content: \"▾\";}#sk-container-id-1 div.sk-estimator input.sk-toggleable__control:checked~label.sk-toggleable__label {background-color: #d4ebff;}#sk-container-id-1 div.sk-label input.sk-toggleable__control:checked~label.sk-toggleable__label {background-color: #d4ebff;}#sk-container-id-1 input.sk-hidden--visually {border: 0;clip: rect(1px 1px 1px 1px);clip: rect(1px, 1px, 1px, 1px);height: 1px;margin: -1px;overflow: hidden;padding: 0;position: absolute;width: 1px;}#sk-container-id-1 div.sk-estimator {font-family: monospace;background-color: #f0f8ff;border: 1px dotted black;border-radius: 0.25em;box-sizing: border-box;margin-bottom: 0.5em;}#sk-container-id-1 div.sk-estimator:hover {background-color: #d4ebff;}#sk-container-id-1 div.sk-parallel-item::after {content: \"\";width: 100%;border-bottom: 1px solid gray;flex-grow: 1;}#sk-container-id-1 div.sk-label:hover label.sk-toggleable__label {background-color: #d4ebff;}#sk-container-id-1 div.sk-serial::before {content: \"\";position: absolute;border-left: 1px solid gray;box-sizing: border-box;top: 0;bottom: 0;left: 50%;z-index: 0;}#sk-container-id-1 div.sk-serial {display: flex;flex-direction: column;align-items: center;background-color: white;padding-right: 0.2em;padding-left: 0.2em;position: relative;}#sk-container-id-1 div.sk-item {position: relative;z-index: 1;}#sk-container-id-1 div.sk-parallel {display: flex;align-items: stretch;justify-content: center;background-color: white;position: relative;}#sk-container-id-1 div.sk-item::before, #sk-container-id-1 div.sk-parallel-item::before {content: \"\";position: absolute;border-left: 1px solid gray;box-sizing: border-box;top: 0;bottom: 0;left: 50%;z-index: -1;}#sk-container-id-1 div.sk-parallel-item {display: flex;flex-direction: column;z-index: 1;position: relative;background-color: white;}#sk-container-id-1 div.sk-parallel-item:first-child::after {align-self: flex-end;width: 50%;}#sk-container-id-1 div.sk-parallel-item:last-child::after {align-self: flex-start;width: 50%;}#sk-container-id-1 div.sk-parallel-item:only-child::after {width: 0;}#sk-container-id-1 div.sk-dashed-wrapped {border: 1px dashed gray;margin: 0 0.4em 0.5em 0.4em;box-sizing: border-box;padding-bottom: 0.4em;background-color: white;}#sk-container-id-1 div.sk-label label {font-family: monospace;font-weight: bold;display: inline-block;line-height: 1.2em;}#sk-container-id-1 div.sk-label-container {text-align: center;}#sk-container-id-1 div.sk-container {/* jupyter's `normalize.less` sets `[hidden] { display: none; }` but bootstrap.min.css set `[hidden] { display: none !important; }` so we also need the `!important` here to be able to override the default hidden behavior on the sphinx rendered scikit-learn.org. See: https://github.com/scikit-learn/scikit-learn/issues/21755 */display: inline-block !important;position: relative;}#sk-container-id-1 div.sk-text-repr-fallback {display: none;}</style><div id=\"sk-container-id-1\" class=\"sk-top-container\"><div class=\"sk-text-repr-fallback\"><pre>XGBClassifier(base_score=None, booster=None, callbacks=None,\n",
              "              colsample_bylevel=None, colsample_bynode=None,\n",
              "              colsample_bytree=None, early_stopping_rounds=50,\n",
              "              enable_categorical=False, eval_metric=&#x27;auc&#x27;, feature_types=None,\n",
              "              gamma=None, gpu_id=None, grow_policy=None, importance_type=None,\n",
              "              interaction_constraints=None, learning_rate=0.1, max_bin=None,\n",
              "              max_cat_threshold=None, max_cat_to_onehot=None,\n",
              "              max_delta_step=None, max_depth=5, max_leaves=None,\n",
              "              min_child_weight=None, missing=nan, monotone_constraints=None,\n",
              "              n_estimators=987654321, n_jobs=-1, num_parallel_tree=None,\n",
              "              predictor=None, random_state=42, ...)</pre><b>In a Jupyter environment, please rerun this cell to show the HTML representation or trust the notebook. <br />On GitHub, the HTML representation is unable to render, please try loading this page with nbviewer.org.</b></div><div class=\"sk-container\" hidden><div class=\"sk-item\"><div class=\"sk-estimator sk-toggleable\"><input class=\"sk-toggleable__control sk-hidden--visually\" id=\"sk-estimator-id-1\" type=\"checkbox\" checked><label for=\"sk-estimator-id-1\" class=\"sk-toggleable__label sk-toggleable__label-arrow\">XGBClassifier</label><div class=\"sk-toggleable__content\"><pre>XGBClassifier(base_score=None, booster=None, callbacks=None,\n",
              "              colsample_bylevel=None, colsample_bynode=None,\n",
              "              colsample_bytree=None, early_stopping_rounds=50,\n",
              "              enable_categorical=False, eval_metric=&#x27;auc&#x27;, feature_types=None,\n",
              "              gamma=None, gpu_id=None, grow_policy=None, importance_type=None,\n",
              "              interaction_constraints=None, learning_rate=0.1, max_bin=None,\n",
              "              max_cat_threshold=None, max_cat_to_onehot=None,\n",
              "              max_delta_step=None, max_depth=5, max_leaves=None,\n",
              "              min_child_weight=None, missing=nan, monotone_constraints=None,\n",
              "              n_estimators=987654321, n_jobs=-1, num_parallel_tree=None,\n",
              "              predictor=None, random_state=42, ...)</pre></div></div></div></div></div>"
            ]
          },
          "metadata": {},
          "execution_count": 20
        }
      ]
    },
    {
      "cell_type": "markdown",
      "source": [
        "분류 모델의 검증 정확도를 확인하여 봅시다."
      ],
      "metadata": {
        "id": "G1CEfLKpVJCl"
      }
    },
    {
      "cell_type": "code",
      "source": [
        "def score(model):\n",
        "  if isinstance(model, XGBClassifier):\n",
        "    # 모델의 best_iteration 값은 다음과 같습니다.\n",
        "    print(f'model의 best_iteration: {model.best_iteration}\\n')\n",
        "\n",
        "    # 모델의 정확도는 다음과 같습니다.\n",
        "    print(f'검증데이터를 통한 모델의 정확도 : {model.score(X_val_encoded, y_val_encoded)}')\n",
        "  \n",
        "  else :\n",
        "    print('현재 확인하고자 하는 모델은 xgbclassifier가 아닙니다.')\n",
        "    print(f'이 모델의 검증 정확도는 다음과 같습니다. {model.score(X_val_encoded, y_val_encoded)}')"
      ],
      "metadata": {
        "id": "Zt6JvXORVPFu"
      },
      "execution_count": 21,
      "outputs": []
    },
    {
      "cell_type": "code",
      "source": [
        "score(model)"
      ],
      "metadata": {
        "id": "idzLTedKK_fy",
        "outputId": "02298173-7a6a-4832-ec16-581ee7943e8b",
        "colab": {
          "base_uri": "https://localhost:8080/"
        }
      },
      "execution_count": 22,
      "outputs": [
        {
          "output_type": "stream",
          "name": "stdout",
          "text": [
            "model의 best_iteration: 132\n",
            "\n",
            "검증데이터를 통한 모델의 정확도 : 0.961061189559264\n"
          ]
        }
      ]
    },
    {
      "cell_type": "markdown",
      "source": [
        "모델이 데이터를 어떻게 분류하였는지, Confusion Matrix 를 통해 살펴봅시다.\n",
        "* confusion Matrix를 보여주는 함수를 생성합니다."
      ],
      "metadata": {
        "id": "m_PrPGqwK-cq"
      }
    },
    {
      "cell_type": "code",
      "source": [
        "def plot_confusion_matrix(model, X_val_encoded, y_val):\n",
        "  try:\n",
        "    if isinstance(model, XGBClassifier):\n",
        "      y_pred = model.predict(X_val_encoded, iteration_range = (0, model.best_iteration))\n",
        "\n",
        "    else :\n",
        "      y_pred = model.predict(X_val_encoded)\n",
        "    \n",
        "    cm = confusion_matrix(y_val, y_pred, labels = model.classes_)\n",
        "    disp = ConfusionMatrixDisplay(confusion_matrix = cm,\n",
        "                                  display_labels= model.classes_)\n",
        "\n",
        "    disp.plot(cmap = 'Blues')\n",
        "    plt.show()\n",
        "    \n",
        "  except TypeError as te:\n",
        "   \n",
        "    # 타겟 데이터 type 변환\n",
        "    print(f'타겟 :TypeError 이므로 변환을 시도합니다.')    \n",
        "    y_val_encoded_mapped = y_val.replace(['Not Specified', 'good'], [0,1])\n",
        "    print(f'타겟 변경 완료 : {y_val_encoded_mapped.unique()}(Not Specified => 0,  good=> 1)')\n",
        "\n",
        "    cm = confusion_matrix(y_val_encoded_mapped, y_pred, labels = model.classes_)\n",
        "    disp = ConfusionMatrixDisplay(confusion_matrix = cm,\n",
        "                                  display_labels= model.classes_)\n",
        "\n",
        "    disp.plot(cmap = 'Blues')\n",
        "    plt.show()"
      ],
      "metadata": {
        "id": "bYpl-lFsOpPa"
      },
      "execution_count": 23,
      "outputs": []
    },
    {
      "cell_type": "code",
      "source": [
        "plot_confusion_matrix(model, X_val_encoded, y_val)"
      ],
      "metadata": {
        "colab": {
          "base_uri": "https://localhost:8080/",
          "height": 319
        },
        "id": "Lq31s4RLM53w",
        "outputId": "bb2fe273-727e-4036-f91e-3f39e2495072"
      },
      "execution_count": 24,
      "outputs": [
        {
          "output_type": "stream",
          "name": "stdout",
          "text": [
            "타겟 :TypeError 이므로 변환을 시도합니다.\n",
            "타겟 변경 완료 : [0 1](Not Specified => 0,  good=> 1)\n"
          ]
        },
        {
          "output_type": "display_data",
          "data": {
            "text/plain": [
              "<Figure size 432x288 with 2 Axes>"
            ],
            "image/png": "[encoded data removed]"
          },
          "metadata": {
            "needs_background": "light"
          }
        }
      ]
    },
    {
      "cell_type": "markdown",
      "source": [
        "XGBClassifier의 Roc score값은 다음과 같습니다."
      ],
      "metadata": {
        "id": "y1LuDxOQIJpF"
      }
    },
    {
      "cell_type": "code",
      "source": [
        "get_roc_auc(model, X_val_encoded, y_val)"
      ],
      "metadata": {
        "id": "GuqBu96PITFK",
        "outputId": "a9eb7126-f5b9-4ef4-fecb-afe951bf34fa",
        "colab": {
          "base_uri": "https://localhost:8080/",
          "height": 832
        }
      },
      "execution_count": 25,
      "outputs": [
        {
          "output_type": "stream",
          "name": "stdout",
          "text": [
            "ROC-AUC: 0.9895921591777208 \n",
            "\n",
            "ValiueError 로 인하여 타겟값 맵핑을 완료하였습니다.\n",
            " Not Specified = 0, good = 1 \n",
            "\n",
            "ROC-AUC값을 다시 한 번 출력합니다 : 0.9895921591777208 \n",
            "\n"
          ]
        },
        {
          "output_type": "display_data",
          "data": {
            "text/plain": [
              "<Figure size 432x288 with 1 Axes>"
            ],
            "image/png": "[encoded data removed]"
          },
          "metadata": {
            "needs_background": "light"
          }
        },
        {
          "output_type": "execute_result",
          "data": {
            "text/plain": [
              "          fpr       tpr  thresholds\n",
              "0    0.000000  0.000000    1.998249\n",
              "1    0.000000  0.003571    0.998249\n",
              "2    0.000000  0.075000    0.989301\n",
              "3    0.000000  0.082143    0.989130\n",
              "4    0.000000  0.153571    0.985590\n",
              "..        ...       ...         ...\n",
              "452  0.994166  1.000000    0.000040\n",
              "453  0.995625  1.000000    0.000040\n",
              "454  0.996597  1.000000    0.000037\n",
              "455  0.997569  1.000000    0.000035\n",
              "456  1.000000  1.000000    0.000032\n",
              "\n",
              "[457 rows x 3 columns]"
            ],
            "text/html": [
              "\n",
              "  <div id=\"df-78e4e07b-c998-40e0-819e-163150772d29\">\n",
              "    <div class=\"colab-df-container\">\n",
              "      <div>\n",
              "<style scoped>\n",
              "    .dataframe tbody tr th:only-of-type {\n",
              "        vertical-align: middle;\n",
              "    }\n",
              "\n",
              "    .dataframe tbody tr th {\n",
              "        vertical-align: top;\n",
              "    }\n",
              "\n",
              "    .dataframe thead th {\n",
              "        text-align: right;\n",
              "    }\n",
              "</style>\n",
              "<table border=\"1\" class=\"dataframe\">\n",
              "  <thead>\n",
              "    <tr style=\"text-align: right;\">\n",
              "      <th></th>\n",
              "      <th>fpr</th>\n",
              "      <th>tpr</th>\n",
              "      <th>thresholds</th>\n",
              "    </tr>\n",
              "  </thead>\n",
              "  <tbody>\n",
              "    <tr>\n",
              "      <th>0</th>\n",
              "      <td>0.000000</td>\n",
              "      <td>0.000000</td>\n",
              "      <td>1.998249</td>\n",
              "    </tr>\n",
              "    <tr>\n",
              "      <th>1</th>\n",
              "      <td>0.000000</td>\n",
              "      <td>0.003571</td>\n",
              "      <td>0.998249</td>\n",
              "    </tr>\n",
              "    <tr>\n",
              "      <th>2</th>\n",
              "      <td>0.000000</td>\n",
              "      <td>0.075000</td>\n",
              "      <td>0.989301</td>\n",
              "    </tr>\n",
              "    <tr>\n",
              "      <th>3</th>\n",
              "      <td>0.000000</td>\n",
              "      <td>0.082143</td>\n",
              "      <td>0.989130</td>\n",
              "    </tr>\n",
              "    <tr>\n",
              "      <th>4</th>\n",
              "      <td>0.000000</td>\n",
              "      <td>0.153571</td>\n",
              "      <td>0.985590</td>\n",
              "    </tr>\n",
              "    <tr>\n",
              "      <th>...</th>\n",
              "      <td>...</td>\n",
              "      <td>...</td>\n",
              "      <td>...</td>\n",
              "    </tr>\n",
              "    <tr>\n",
              "      <th>452</th>\n",
              "      <td>0.994166</td>\n",
              "      <td>1.000000</td>\n",
              "      <td>0.000040</td>\n",
              "    </tr>\n",
              "    <tr>\n",
              "      <th>453</th>\n",
              "      <td>0.995625</td>\n",
              "      <td>1.000000</td>\n",
              "      <td>0.000040</td>\n",
              "    </tr>\n",
              "    <tr>\n",
              "      <th>454</th>\n",
              "      <td>0.996597</td>\n",
              "      <td>1.000000</td>\n",
              "      <td>0.000037</td>\n",
              "    </tr>\n",
              "    <tr>\n",
              "      <th>455</th>\n",
              "      <td>0.997569</td>\n",
              "      <td>1.000000</td>\n",
              "      <td>0.000035</td>\n",
              "    </tr>\n",
              "    <tr>\n",
              "      <th>456</th>\n",
              "      <td>1.000000</td>\n",
              "      <td>1.000000</td>\n",
              "      <td>0.000032</td>\n",
              "    </tr>\n",
              "  </tbody>\n",
              "</table>\n",
              "<p>457 rows × 3 columns</p>\n",
              "</div>\n",
              "      <button class=\"colab-df-convert\" onclick=\"convertToInteractive('df-78e4e07b-c998-40e0-819e-163150772d29')\"\n",
              "              title=\"Convert this dataframe to an interactive table.\"\n",
              "              style=\"display:none;\">\n",
              "        \n",
              "  <svg xmlns=\"http://www.w3.org/2000/svg\" height=\"24px\"viewBox=\"0 0 24 24\"\n",
              "       width=\"24px\">\n",
              "    <path d=\"M0 0h24v24H0V0z\" fill=\"none\"/>\n",
              "    <path d=\"M18.56 5.44l.94 2.06.94-2.06 2.06-.94-2.06-.94-.94-2.06-.94 2.06-2.06.94zm-11 1L8.5 8.5l.94-2.06 2.06-.94-2.06-.94L8.5 2.5l-.94 2.06-2.06.94zm10 10l.94 2.06.94-2.06 2.06-.94-2.06-.94-.94-2.06-.94 2.06-2.06.94z\"/><path d=\"M17.41 7.96l-1.37-1.37c-.4-.4-.92-.59-1.43-.59-.52 0-1.04.2-1.43.59L10.3 9.45l-7.72 7.72c-.78.78-.78 2.05 0 2.83L4 21.41c.39.39.9.59 1.41.59.51 0 1.02-.2 1.41-.59l7.78-7.78 2.81-2.81c.8-.78.8-2.07 0-2.86zM5.41 20L4 18.59l7.72-7.72 1.47 1.35L5.41 20z\"/>\n",
              "  </svg>\n",
              "      </button>\n",
              "      \n",
              "  <style>\n",
              "    .colab-df-container {\n",
              "      display:flex;\n",
              "      flex-wrap:wrap;\n",
              "      gap: 12px;\n",
              "    }\n",
              "\n",
              "    .colab-df-convert {\n",
              "      background-color: #E8F0FE;\n",
              "      border: none;\n",
              "      border-radius: 50%;\n",
              "      cursor: pointer;\n",
              "      display: none;\n",
              "      fill: #1967D2;\n",
              "      height: 32px;\n",
              "      padding: 0 0 0 0;\n",
              "      width: 32px;\n",
              "    }\n",
              "\n",
              "    .colab-df-convert:hover {\n",
              "      background-color: #E2EBFA;\n",
              "      box-shadow: 0px 1px 2px rgba(60, 64, 67, 0.3), 0px 1px 3px 1px rgba(60, 64, 67, 0.15);\n",
              "      fill: #174EA6;\n",
              "    }\n",
              "\n",
              "    [theme=dark] .colab-df-convert {\n",
              "      background-color: #3B4455;\n",
              "      fill: #D2E3FC;\n",
              "    }\n",
              "\n",
              "    [theme=dark] .colab-df-convert:hover {\n",
              "      background-color: #434B5C;\n",
              "      box-shadow: 0px 1px 3px 1px rgba(0, 0, 0, 0.15);\n",
              "      filter: drop-shadow(0px 1px 2px rgba(0, 0, 0, 0.3));\n",
              "      fill: #FFFFFF;\n",
              "    }\n",
              "  </style>\n",
              "\n",
              "      <script>\n",
              "        const buttonEl =\n",
              "          document.querySelector('#df-78e4e07b-c998-40e0-819e-163150772d29 button.colab-df-convert');\n",
              "        buttonEl.style.display =\n",
              "          google.colab.kernel.accessAllowed ? 'block' : 'none';\n",
              "\n",
              "        async function convertToInteractive(key) {\n",
              "          const element = document.querySelector('#df-78e4e07b-c998-40e0-819e-163150772d29');\n",
              "          const dataTable =\n",
              "            await google.colab.kernel.invokeFunction('convertToInteractive',\n",
              "                                                     [key], {});\n",
              "          if (!dataTable) return;\n",
              "\n",
              "          const docLinkHtml = 'Like what you see? Visit the ' +\n",
              "            '<a target=\"_blank\" href=https://colab.research.google.com/notebooks/data_table.ipynb>data table notebook</a>'\n",
              "            + ' to learn more about interactive tables.';\n",
              "          element.innerHTML = '';\n",
              "          dataTable['output_type'] = 'display_data';\n",
              "          await google.colab.output.renderOutput(dataTable, element);\n",
              "          const docLink = document.createElement('div');\n",
              "          docLink.innerHTML = docLinkHtml;\n",
              "          element.appendChild(docLink);\n",
              "        }\n",
              "      </script>\n",
              "    </div>\n",
              "  </div>\n",
              "  "
            ]
          },
          "metadata": {},
          "execution_count": 25
        }
      ]
    },
    {
      "cell_type": "markdown",
      "source": [
        "#### 3-2. `XGBClassifier` : 불균형 데이터에 가중치를 생각한 경우 \n"
      ],
      "metadata": {
        "id": "ER7eh_0MO7YL"
      }
    },
    {
      "cell_type": "code",
      "source": [
        "# 모델 생성.\n",
        "model = XGBClassifier(\n",
        "    objective = 'binary:logistic',\n",
        "    eval_metric = 'auc',\n",
        "    n_estimators = 987654321,\n",
        "    random_state = 42,\n",
        "    n_jobs = -1,\n",
        "    max_depth = 5,\n",
        "    learning_rate = 0.1,\n",
        "    early_stopping_rounds = 50,\n",
        "    \n",
        "    # 불균형 타겟 값에 가중치를 부여하는 parameter = scale_pos_weight\n",
        "    scale_pos_weight=(y_val_encoded == 0).sum() / (y_val_encoded == 1).sum()\n",
        ") \n",
        "\n",
        "# early_stoping으로 적용될 함수\n",
        "watchlist = [(X_train_encoded, y_train_encoded), (X_val_encoded, y_val_encoded)]\n",
        "\n",
        "\n",
        "# fit\n",
        "model.fit(\n",
        "    X_train_encoded,\n",
        "    y_train_encoded,\n",
        "    eval_set = watchlist)"
      ],
      "metadata": {
        "id": "pYD7xfGKRiph",
        "outputId": "ae329db3-5bf3-45a7-89a7-26c9e90cafe6",
        "colab": {
          "base_uri": "https://localhost:8080/",
          "height": 1000
        }
      },
      "execution_count": 26,
      "outputs": [
        {
          "output_type": "stream",
          "name": "stdout",
          "text": [
            "[0]\tvalidation_0-auc:0.97422\tvalidation_1-auc:0.97449\n",
            "[1]\tvalidation_0-auc:0.97449\tvalidation_1-auc:0.97582\n",
            "[2]\tvalidation_0-auc:0.98120\tvalidation_1-auc:0.97936\n",
            "[3]\tvalidation_0-auc:0.98271\tvalidation_1-auc:0.98082\n",
            "[4]\tvalidation_0-auc:0.98237\tvalidation_1-auc:0.98038\n",
            "[5]\tvalidation_0-auc:0.98331\tvalidation_1-auc:0.98129\n",
            "[6]\tvalidation_0-auc:0.98312\tvalidation_1-auc:0.98109\n",
            "[7]\tvalidation_0-auc:0.98326\tvalidation_1-auc:0.98175\n",
            "[8]\tvalidation_0-auc:0.98343\tvalidation_1-auc:0.98207\n",
            "[9]\tvalidation_0-auc:0.98371\tvalidation_1-auc:0.98193\n",
            "[10]\tvalidation_0-auc:0.98404\tvalidation_1-auc:0.98255\n",
            "[11]\tvalidation_0-auc:0.98403\tvalidation_1-auc:0.98266\n",
            "[12]\tvalidation_0-auc:0.98453\tvalidation_1-auc:0.98364\n",
            "[13]\tvalidation_0-auc:0.98499\tvalidation_1-auc:0.98404\n",
            "[14]\tvalidation_0-auc:0.98526\tvalidation_1-auc:0.98435\n",
            "[15]\tvalidation_0-auc:0.98567\tvalidation_1-auc:0.98478\n",
            "[16]\tvalidation_0-auc:0.98596\tvalidation_1-auc:0.98511\n",
            "[17]\tvalidation_0-auc:0.98615\tvalidation_1-auc:0.98527\n",
            "[18]\tvalidation_0-auc:0.98678\tvalidation_1-auc:0.98582\n",
            "[19]\tvalidation_0-auc:0.98702\tvalidation_1-auc:0.98604\n",
            "[20]\tvalidation_0-auc:0.98724\tvalidation_1-auc:0.98621\n",
            "[21]\tvalidation_0-auc:0.98792\tvalidation_1-auc:0.98697\n",
            "[22]\tvalidation_0-auc:0.98808\tvalidation_1-auc:0.98695\n",
            "[23]\tvalidation_0-auc:0.98816\tvalidation_1-auc:0.98716\n",
            "[24]\tvalidation_0-auc:0.98840\tvalidation_1-auc:0.98739\n",
            "[25]\tvalidation_0-auc:0.98862\tvalidation_1-auc:0.98741\n",
            "[26]\tvalidation_0-auc:0.98886\tvalidation_1-auc:0.98760\n",
            "[27]\tvalidation_0-auc:0.98895\tvalidation_1-auc:0.98761\n",
            "[28]\tvalidation_0-auc:0.98916\tvalidation_1-auc:0.98765\n",
            "[29]\tvalidation_0-auc:0.98931\tvalidation_1-auc:0.98778\n",
            "[30]\tvalidation_0-auc:0.98935\tvalidation_1-auc:0.98777\n",
            "[31]\tvalidation_0-auc:0.98949\tvalidation_1-auc:0.98784\n",
            "[32]\tvalidation_0-auc:0.98965\tvalidation_1-auc:0.98767\n",
            "[33]\tvalidation_0-auc:0.98975\tvalidation_1-auc:0.98781\n",
            "[34]\tvalidation_0-auc:0.98986\tvalidation_1-auc:0.98774\n",
            "[35]\tvalidation_0-auc:0.99020\tvalidation_1-auc:0.98805\n",
            "[36]\tvalidation_0-auc:0.99033\tvalidation_1-auc:0.98818\n",
            "[37]\tvalidation_0-auc:0.99043\tvalidation_1-auc:0.98822\n",
            "[38]\tvalidation_0-auc:0.99063\tvalidation_1-auc:0.98821\n",
            "[39]\tvalidation_0-auc:0.99080\tvalidation_1-auc:0.98843\n",
            "[40]\tvalidation_0-auc:0.99093\tvalidation_1-auc:0.98841\n",
            "[41]\tvalidation_0-auc:0.99104\tvalidation_1-auc:0.98833\n",
            "[42]\tvalidation_0-auc:0.99116\tvalidation_1-auc:0.98827\n",
            "[43]\tvalidation_0-auc:0.99128\tvalidation_1-auc:0.98828\n",
            "[44]\tvalidation_0-auc:0.99133\tvalidation_1-auc:0.98834\n",
            "[45]\tvalidation_0-auc:0.99142\tvalidation_1-auc:0.98835\n",
            "[46]\tvalidation_0-auc:0.99157\tvalidation_1-auc:0.98851\n",
            "[47]\tvalidation_0-auc:0.99164\tvalidation_1-auc:0.98852\n",
            "[48]\tvalidation_0-auc:0.99175\tvalidation_1-auc:0.98852\n",
            "[49]\tvalidation_0-auc:0.99176\tvalidation_1-auc:0.98853\n",
            "[50]\tvalidation_0-auc:0.99181\tvalidation_1-auc:0.98854\n",
            "[51]\tvalidation_0-auc:0.99186\tvalidation_1-auc:0.98857\n",
            "[52]\tvalidation_0-auc:0.99204\tvalidation_1-auc:0.98863\n",
            "[53]\tvalidation_0-auc:0.99211\tvalidation_1-auc:0.98865\n",
            "[54]\tvalidation_0-auc:0.99219\tvalidation_1-auc:0.98861\n",
            "[55]\tvalidation_0-auc:0.99225\tvalidation_1-auc:0.98855\n",
            "[56]\tvalidation_0-auc:0.99232\tvalidation_1-auc:0.98854\n",
            "[57]\tvalidation_0-auc:0.99236\tvalidation_1-auc:0.98846\n",
            "[58]\tvalidation_0-auc:0.99244\tvalidation_1-auc:0.98849\n",
            "[59]\tvalidation_0-auc:0.99259\tvalidation_1-auc:0.98846\n",
            "[60]\tvalidation_0-auc:0.99274\tvalidation_1-auc:0.98850\n",
            "[61]\tvalidation_0-auc:0.99280\tvalidation_1-auc:0.98849\n",
            "[62]\tvalidation_0-auc:0.99294\tvalidation_1-auc:0.98868\n",
            "[63]\tvalidation_0-auc:0.99310\tvalidation_1-auc:0.98880\n",
            "[64]\tvalidation_0-auc:0.99322\tvalidation_1-auc:0.98873\n",
            "[65]\tvalidation_0-auc:0.99332\tvalidation_1-auc:0.98874\n",
            "[66]\tvalidation_0-auc:0.99338\tvalidation_1-auc:0.98872\n",
            "[67]\tvalidation_0-auc:0.99343\tvalidation_1-auc:0.98881\n",
            "[68]\tvalidation_0-auc:0.99356\tvalidation_1-auc:0.98897\n",
            "[69]\tvalidation_0-auc:0.99365\tvalidation_1-auc:0.98896\n",
            "[70]\tvalidation_0-auc:0.99380\tvalidation_1-auc:0.98912\n",
            "[71]\tvalidation_0-auc:0.99385\tvalidation_1-auc:0.98911\n",
            "[72]\tvalidation_0-auc:0.99386\tvalidation_1-auc:0.98915\n",
            "[73]\tvalidation_0-auc:0.99397\tvalidation_1-auc:0.98917\n",
            "[74]\tvalidation_0-auc:0.99406\tvalidation_1-auc:0.98913\n",
            "[75]\tvalidation_0-auc:0.99409\tvalidation_1-auc:0.98915\n",
            "[76]\tvalidation_0-auc:0.99414\tvalidation_1-auc:0.98909\n",
            "[77]\tvalidation_0-auc:0.99419\tvalidation_1-auc:0.98907\n",
            "[78]\tvalidation_0-auc:0.99422\tvalidation_1-auc:0.98907\n",
            "[79]\tvalidation_0-auc:0.99431\tvalidation_1-auc:0.98905\n",
            "[80]\tvalidation_0-auc:0.99438\tvalidation_1-auc:0.98908\n",
            "[81]\tvalidation_0-auc:0.99441\tvalidation_1-auc:0.98907\n",
            "[82]\tvalidation_0-auc:0.99445\tvalidation_1-auc:0.98904\n",
            "[83]\tvalidation_0-auc:0.99461\tvalidation_1-auc:0.98901\n",
            "[84]\tvalidation_0-auc:0.99471\tvalidation_1-auc:0.98918\n",
            "[85]\tvalidation_0-auc:0.99477\tvalidation_1-auc:0.98922\n",
            "[86]\tvalidation_0-auc:0.99479\tvalidation_1-auc:0.98925\n",
            "[87]\tvalidation_0-auc:0.99489\tvalidation_1-auc:0.98940\n",
            "[88]\tvalidation_0-auc:0.99500\tvalidation_1-auc:0.98932\n",
            "[89]\tvalidation_0-auc:0.99509\tvalidation_1-auc:0.98927\n",
            "[90]\tvalidation_0-auc:0.99521\tvalidation_1-auc:0.98911\n",
            "[91]\tvalidation_0-auc:0.99529\tvalidation_1-auc:0.98924\n",
            "[92]\tvalidation_0-auc:0.99530\tvalidation_1-auc:0.98921\n",
            "[93]\tvalidation_0-auc:0.99540\tvalidation_1-auc:0.98921\n",
            "[94]\tvalidation_0-auc:0.99544\tvalidation_1-auc:0.98917\n",
            "[95]\tvalidation_0-auc:0.99550\tvalidation_1-auc:0.98919\n",
            "[96]\tvalidation_0-auc:0.99557\tvalidation_1-auc:0.98914\n",
            "[97]\tvalidation_0-auc:0.99561\tvalidation_1-auc:0.98912\n",
            "[98]\tvalidation_0-auc:0.99568\tvalidation_1-auc:0.98916\n",
            "[99]\tvalidation_0-auc:0.99573\tvalidation_1-auc:0.98920\n",
            "[100]\tvalidation_0-auc:0.99574\tvalidation_1-auc:0.98919\n",
            "[101]\tvalidation_0-auc:0.99574\tvalidation_1-auc:0.98921\n",
            "[102]\tvalidation_0-auc:0.99582\tvalidation_1-auc:0.98918\n",
            "[103]\tvalidation_0-auc:0.99583\tvalidation_1-auc:0.98916\n",
            "[104]\tvalidation_0-auc:0.99588\tvalidation_1-auc:0.98908\n",
            "[105]\tvalidation_0-auc:0.99595\tvalidation_1-auc:0.98913\n",
            "[106]\tvalidation_0-auc:0.99603\tvalidation_1-auc:0.98911\n",
            "[107]\tvalidation_0-auc:0.99606\tvalidation_1-auc:0.98914\n",
            "[108]\tvalidation_0-auc:0.99609\tvalidation_1-auc:0.98910\n",
            "[109]\tvalidation_0-auc:0.99613\tvalidation_1-auc:0.98898\n",
            "[110]\tvalidation_0-auc:0.99619\tvalidation_1-auc:0.98896\n",
            "[111]\tvalidation_0-auc:0.99621\tvalidation_1-auc:0.98894\n",
            "[112]\tvalidation_0-auc:0.99627\tvalidation_1-auc:0.98896\n",
            "[113]\tvalidation_0-auc:0.99627\tvalidation_1-auc:0.98898\n",
            "[114]\tvalidation_0-auc:0.99631\tvalidation_1-auc:0.98899\n",
            "[115]\tvalidation_0-auc:0.99634\tvalidation_1-auc:0.98896\n",
            "[116]\tvalidation_0-auc:0.99636\tvalidation_1-auc:0.98897\n",
            "[117]\tvalidation_0-auc:0.99641\tvalidation_1-auc:0.98894\n",
            "[118]\tvalidation_0-auc:0.99650\tvalidation_1-auc:0.98891\n",
            "[119]\tvalidation_0-auc:0.99656\tvalidation_1-auc:0.98890\n",
            "[120]\tvalidation_0-auc:0.99657\tvalidation_1-auc:0.98891\n",
            "[121]\tvalidation_0-auc:0.99662\tvalidation_1-auc:0.98893\n",
            "[122]\tvalidation_0-auc:0.99663\tvalidation_1-auc:0.98896\n",
            "[123]\tvalidation_0-auc:0.99663\tvalidation_1-auc:0.98895\n",
            "[124]\tvalidation_0-auc:0.99672\tvalidation_1-auc:0.98894\n",
            "[125]\tvalidation_0-auc:0.99674\tvalidation_1-auc:0.98895\n",
            "[126]\tvalidation_0-auc:0.99680\tvalidation_1-auc:0.98888\n",
            "[127]\tvalidation_0-auc:0.99685\tvalidation_1-auc:0.98894\n",
            "[128]\tvalidation_0-auc:0.99689\tvalidation_1-auc:0.98891\n",
            "[129]\tvalidation_0-auc:0.99691\tvalidation_1-auc:0.98889\n",
            "[130]\tvalidation_0-auc:0.99694\tvalidation_1-auc:0.98889\n",
            "[131]\tvalidation_0-auc:0.99697\tvalidation_1-auc:0.98892\n",
            "[132]\tvalidation_0-auc:0.99698\tvalidation_1-auc:0.98891\n",
            "[133]\tvalidation_0-auc:0.99701\tvalidation_1-auc:0.98888\n",
            "[134]\tvalidation_0-auc:0.99706\tvalidation_1-auc:0.98885\n",
            "[135]\tvalidation_0-auc:0.99706\tvalidation_1-auc:0.98885\n",
            "[136]\tvalidation_0-auc:0.99711\tvalidation_1-auc:0.98886\n"
          ]
        },
        {
          "output_type": "execute_result",
          "data": {
            "text/plain": [
              "XGBClassifier(base_score=None, booster=None, callbacks=None,\n",
              "              colsample_bylevel=None, colsample_bynode=None,\n",
              "              colsample_bytree=None, early_stopping_rounds=50,\n",
              "              enable_categorical=False, eval_metric='auc', feature_types=None,\n",
              "              gamma=None, gpu_id=None, grow_policy=None, importance_type=None,\n",
              "              interaction_constraints=None, learning_rate=0.1, max_bin=None,\n",
              "              max_cat_threshold=None, max_cat_to_onehot=None,\n",
              "              max_delta_step=None, max_depth=5, max_leaves=None,\n",
              "              min_child_weight=None, missing=nan, monotone_constraints=None,\n",
              "              n_estimators=987654321, n_jobs=-1, num_parallel_tree=None,\n",
              "              predictor=None, random_state=42, ...)"
            ],
            "text/html": [
              "<style>#sk-container-id-2 {color: black;background-color: white;}#sk-container-id-2 pre{padding: 0;}#sk-container-id-2 div.sk-toggleable {background-color: white;}#sk-container-id-2 label.sk-toggleable__label {cursor: pointer;display: block;width: 100%;margin-bottom: 0;padding: 0.3em;box-sizing: border-box;text-align: center;}#sk-container-id-2 label.sk-toggleable__label-arrow:before {content: \"▸\";float: left;margin-right: 0.25em;color: #696969;}#sk-container-id-2 label.sk-toggleable__label-arrow:hover:before {color: black;}#sk-container-id-2 div.sk-estimator:hover label.sk-toggleable__label-arrow:before {color: black;}#sk-container-id-2 div.sk-toggleable__content {max-height: 0;max-width: 0;overflow: hidden;text-align: left;background-color: #f0f8ff;}#sk-container-id-2 div.sk-toggleable__content pre {margin: 0.2em;color: black;border-radius: 0.25em;background-color: #f0f8ff;}#sk-container-id-2 input.sk-toggleable__control:checked~div.sk-toggleable__content {max-height: 200px;max-width: 100%;overflow: auto;}#sk-container-id-2 input.sk-toggleable__control:checked~label.sk-toggleable__label-arrow:before {content: \"▾\";}#sk-container-id-2 div.sk-estimator input.sk-toggleable__control:checked~label.sk-toggleable__label {background-color: #d4ebff;}#sk-container-id-2 div.sk-label input.sk-toggleable__control:checked~label.sk-toggleable__label {background-color: #d4ebff;}#sk-container-id-2 input.sk-hidden--visually {border: 0;clip: rect(1px 1px 1px 1px);clip: rect(1px, 1px, 1px, 1px);height: 1px;margin: -1px;overflow: hidden;padding: 0;position: absolute;width: 1px;}#sk-container-id-2 div.sk-estimator {font-family: monospace;background-color: #f0f8ff;border: 1px dotted black;border-radius: 0.25em;box-sizing: border-box;margin-bottom: 0.5em;}#sk-container-id-2 div.sk-estimator:hover {background-color: #d4ebff;}#sk-container-id-2 div.sk-parallel-item::after {content: \"\";width: 100%;border-bottom: 1px solid gray;flex-grow: 1;}#sk-container-id-2 div.sk-label:hover label.sk-toggleable__label {background-color: #d4ebff;}#sk-container-id-2 div.sk-serial::before {content: \"\";position: absolute;border-left: 1px solid gray;box-sizing: border-box;top: 0;bottom: 0;left: 50%;z-index: 0;}#sk-container-id-2 div.sk-serial {display: flex;flex-direction: column;align-items: center;background-color: white;padding-right: 0.2em;padding-left: 0.2em;position: relative;}#sk-container-id-2 div.sk-item {position: relative;z-index: 1;}#sk-container-id-2 div.sk-parallel {display: flex;align-items: stretch;justify-content: center;background-color: white;position: relative;}#sk-container-id-2 div.sk-item::before, #sk-container-id-2 div.sk-parallel-item::before {content: \"\";position: absolute;border-left: 1px solid gray;box-sizing: border-box;top: 0;bottom: 0;left: 50%;z-index: -1;}#sk-container-id-2 div.sk-parallel-item {display: flex;flex-direction: column;z-index: 1;position: relative;background-color: white;}#sk-container-id-2 div.sk-parallel-item:first-child::after {align-self: flex-end;width: 50%;}#sk-container-id-2 div.sk-parallel-item:last-child::after {align-self: flex-start;width: 50%;}#sk-container-id-2 div.sk-parallel-item:only-child::after {width: 0;}#sk-container-id-2 div.sk-dashed-wrapped {border: 1px dashed gray;margin: 0 0.4em 0.5em 0.4em;box-sizing: border-box;padding-bottom: 0.4em;background-color: white;}#sk-container-id-2 div.sk-label label {font-family: monospace;font-weight: bold;display: inline-block;line-height: 1.2em;}#sk-container-id-2 div.sk-label-container {text-align: center;}#sk-container-id-2 div.sk-container {/* jupyter's `normalize.less` sets `[hidden] { display: none; }` but bootstrap.min.css set `[hidden] { display: none !important; }` so we also need the `!important` here to be able to override the default hidden behavior on the sphinx rendered scikit-learn.org. See: https://github.com/scikit-learn/scikit-learn/issues/21755 */display: inline-block !important;position: relative;}#sk-container-id-2 div.sk-text-repr-fallback {display: none;}</style><div id=\"sk-container-id-2\" class=\"sk-top-container\"><div class=\"sk-text-repr-fallback\"><pre>XGBClassifier(base_score=None, booster=None, callbacks=None,\n",
              "              colsample_bylevel=None, colsample_bynode=None,\n",
              "              colsample_bytree=None, early_stopping_rounds=50,\n",
              "              enable_categorical=False, eval_metric=&#x27;auc&#x27;, feature_types=None,\n",
              "              gamma=None, gpu_id=None, grow_policy=None, importance_type=None,\n",
              "              interaction_constraints=None, learning_rate=0.1, max_bin=None,\n",
              "              max_cat_threshold=None, max_cat_to_onehot=None,\n",
              "              max_delta_step=None, max_depth=5, max_leaves=None,\n",
              "              min_child_weight=None, missing=nan, monotone_constraints=None,\n",
              "              n_estimators=987654321, n_jobs=-1, num_parallel_tree=None,\n",
              "              predictor=None, random_state=42, ...)</pre><b>In a Jupyter environment, please rerun this cell to show the HTML representation or trust the notebook. <br />On GitHub, the HTML representation is unable to render, please try loading this page with nbviewer.org.</b></div><div class=\"sk-container\" hidden><div class=\"sk-item\"><div class=\"sk-estimator sk-toggleable\"><input class=\"sk-toggleable__control sk-hidden--visually\" id=\"sk-estimator-id-2\" type=\"checkbox\" checked><label for=\"sk-estimator-id-2\" class=\"sk-toggleable__label sk-toggleable__label-arrow\">XGBClassifier</label><div class=\"sk-toggleable__content\"><pre>XGBClassifier(base_score=None, booster=None, callbacks=None,\n",
              "              colsample_bylevel=None, colsample_bynode=None,\n",
              "              colsample_bytree=None, early_stopping_rounds=50,\n",
              "              enable_categorical=False, eval_metric=&#x27;auc&#x27;, feature_types=None,\n",
              "              gamma=None, gpu_id=None, grow_policy=None, importance_type=None,\n",
              "              interaction_constraints=None, learning_rate=0.1, max_bin=None,\n",
              "              max_cat_threshold=None, max_cat_to_onehot=None,\n",
              "              max_delta_step=None, max_depth=5, max_leaves=None,\n",
              "              min_child_weight=None, missing=nan, monotone_constraints=None,\n",
              "              n_estimators=987654321, n_jobs=-1, num_parallel_tree=None,\n",
              "              predictor=None, random_state=42, ...)</pre></div></div></div></div></div>"
            ]
          },
          "metadata": {},
          "execution_count": 26
        }
      ]
    },
    {
      "cell_type": "markdown",
      "source": [
        "불균형한 클래스에 대하여 가중치를 적용한 'model'의 정확도는 다음과 같습니다."
      ],
      "metadata": {
        "id": "bXgFaWRwTBKL"
      }
    },
    {
      "cell_type": "code",
      "source": [
        "score(model)"
      ],
      "metadata": {
        "id": "rRihPvWvTuhK",
        "outputId": "8083f129-ede8-4a8c-ae4e-b84af586f8fd",
        "colab": {
          "base_uri": "https://localhost:8080/"
        }
      },
      "execution_count": 27,
      "outputs": [
        {
          "output_type": "stream",
          "name": "stdout",
          "text": [
            "model의 best_iteration: 87\n",
            "\n",
            "검증데이터를 통한 모델의 정확도 : 0.9456568249893025\n"
          ]
        }
      ]
    },
    {
      "cell_type": "markdown",
      "source": [
        "best_iteration 및 Accuracy 모두 낮아진 것을 확인할 수 있습니다. <br/>\n",
        "모델이 어떻게 데이터를 분류하였는지 `confusion_matrix`를 한 번 확인하여 봅니다."
      ],
      "metadata": {
        "id": "5A52974OWh2D"
      }
    },
    {
      "cell_type": "code",
      "source": [
        "plot_confusion_matrix(model, X_val_encoded, y_val)"
      ],
      "metadata": {
        "id": "pfZDtoSRbHJN",
        "outputId": "4d44ee3f-23c9-457a-ff2d-13db72bd7877",
        "colab": {
          "base_uri": "https://localhost:8080/",
          "height": 316
        }
      },
      "execution_count": 28,
      "outputs": [
        {
          "output_type": "stream",
          "name": "stdout",
          "text": [
            "타겟 :TypeError 이므로 변환을 시도합니다.\n",
            "타겟 변경 완료 : [0 1](Not Specified => 0,  good=> 1)\n"
          ]
        },
        {
          "output_type": "display_data",
          "data": {
            "text/plain": [
              "<Figure size 432x288 with 2 Axes>"
            ],
            "image/png": "[encoded data removed]"
          },
          "metadata": {
            "needs_background": "light"
          }
        }
      ]
    },
    {
      "cell_type": "markdown",
      "source": [
        "결과 내용을 한눈에 볼 수 있는 함수를 생성하여 봅시다."
      ],
      "metadata": {
        "id": "r4RZh_-OcWDJ"
      }
    },
    {
      "cell_type": "code",
      "source": [
        "def summarize_results(model, X_val_encoded, y_val):\n",
        "\n",
        "  # 1-1. 검증 정확도 : 기존에 만들어 놓은 함수를 사용.\n",
        "  score(model)\n",
        "\n",
        "    # 타겟 데이터 type 변환\n",
        "  print(f'타겟 :TypeError 가 생기기 때문에 변환을 시도합니다.')    \n",
        "  y_val_encoded_mapped = y_val.replace(['Not Specified', 'good'], [0,1])\n",
        "  print(f'타겟 변경 완료 : {y_val_encoded_mapped.unique()}(Not Specified => 0,  good=> 1)\\n')\n",
        "\n",
        "  # 1-2.  classification report 생성.\n",
        "  if isinstance(model, XGBClassifier):\n",
        "\n",
        "    y_pred = model.predict(X_val_encoded, \n",
        "                          iteration_range = (0, model.best_iteration))\n",
        "\n",
        "    print(classification_report(y_val_encoded_mapped, y_pred))\n",
        "\n",
        "  else:\n",
        "    y_pred = model.predict(X_val_encoded)\n",
        "    print(classification_report(y_val_encoded_mapped, y_pred))\n",
        " \n",
        "  # -------------------------------------------\n",
        "  \n",
        "  # 2. train & val loss Plot\n",
        "  if isinstance(model, XGBClassifier):\n",
        "    results = model.evals_result()\n",
        "    \n",
        "    # key : 'auc' 입니다.\n",
        "    tgts = results['validation_0'].keys()\n",
        "\n",
        "    for tgt in tgts:\n",
        "      # train의 error 값을 리스트로 불러옵니다.\n",
        "      train_error = results['validation_0'][tgt]\n",
        "\n",
        "      # val의 error 값을 리스트로 불러옵니다.\n",
        "      val_error = results['validation_1'][tgt]\n",
        "\n",
        "      # train plot 생성.\n",
        "      plt.plot(train_error, label = 'Train')\n",
        "      \n",
        "      # val plot 생성.\n",
        "      plt.plot(val_error, label = 'val')\n",
        "      plt.ylabel(tgt)\n",
        "      plt.xlabel(\"Model Complexity (n_estimators)\")\n",
        "      plt.axvline(x = 87, color = 'r', linestyle = '-', linewidth = 2)\n",
        "      plt.text(87, 0.98, 'best_iteration')\n",
        "      plt.legend()\n",
        "      plt.show()"
      ],
      "metadata": {
        "id": "B8zAxabhcdEB"
      },
      "execution_count": 40,
      "outputs": []
    },
    {
      "cell_type": "code",
      "source": [
        "summarize_results(model, X_val_encoded, y_val)"
      ],
      "metadata": {
        "id": "Efafm3MQd_ak",
        "outputId": "5b5fb5d2-2486-46ab-b3c5-782474eb9572",
        "colab": {
          "base_uri": "https://localhost:8080/",
          "height": 560
        }
      },
      "execution_count": 41,
      "outputs": [
        {
          "output_type": "stream",
          "name": "stdout",
          "text": [
            "model의 best_iteration: 87\n",
            "\n",
            "검증데이터를 통한 모델의 정확도 : 0.9456568249893025\n",
            "타겟 :TypeError 가 생기기 때문에 변환을 시도합니다.\n",
            "타겟 변경 완료 : [0 1](Not Specified => 0,  good=> 1)\n",
            "\n",
            "              precision    recall  f1-score   support\n",
            "\n",
            "           0       0.99      0.94      0.97      2057\n",
            "           1       0.70      0.96      0.81       280\n",
            "\n",
            "    accuracy                           0.95      2337\n",
            "   macro avg       0.85      0.95      0.89      2337\n",
            "weighted avg       0.96      0.95      0.95      2337\n",
            "\n"
          ]
        },
        {
          "output_type": "display_data",
          "data": {
            "text/plain": [
              "<Figure size 432x288 with 1 Axes>"
            ],
            "image/png": "[encoded data removed]"
          },
          "metadata": {
            "needs_background": "light"
          }
        }
      ]
    },
    {
      "cell_type": "code",
      "source": [],
      "metadata": {
        "id": "Xp7CMZsbeEIz"
      },
      "execution_count": null,
      "outputs": []
    }
  ]
}